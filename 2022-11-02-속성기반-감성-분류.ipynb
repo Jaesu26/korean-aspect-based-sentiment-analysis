{
  "cells": [
    {
      "cell_type": "markdown",
      "metadata": {
        "id": "view-in-github",
        "colab_type": "text"
      },
      "source": [
        "<a href=\"https://colab.research.google.com/github/Jaesu26/korean-aspect-based-sentiment-analysis/blob/main/2022-11-02-%EC%86%8D%EC%84%B1%EA%B8%B0%EB%B0%98-%EA%B0%90%EC%84%B1-%EB%B6%84%EB%A5%98.ipynb\" target=\"_parent\"><img src=\"https://colab.research.google.com/assets/colab-badge.svg\" alt=\"Open In Colab\"/></a>"
      ]
    },
    {
      "cell_type": "markdown",
      "metadata": {
        "id": "75xRhMA-ZZ4g"
      },
      "source": [
        "# 2022 국립국어원 인공지능 언어능력평가"
      ]
    },
    {
      "cell_type": "code",
      "source": [
        "!nvidia-smi"
      ],
      "metadata": {
        "id": "Vry2J_Ifj6ZW",
        "colab": {
          "base_uri": "https://localhost:8080/"
        },
        "outputId": "9a73a691-f1d6-4191-8437-99640e24e1a9"
      },
      "execution_count": 1,
      "outputs": [
        {
          "output_type": "stream",
          "name": "stdout",
          "text": [
            "Wed Nov  2 13:16:06 2022       \n",
            "+-----------------------------------------------------------------------------+\n",
            "| NVIDIA-SMI 460.32.03    Driver Version: 460.32.03    CUDA Version: 11.2     |\n",
            "|-------------------------------+----------------------+----------------------+\n",
            "| GPU  Name        Persistence-M| Bus-Id        Disp.A | Volatile Uncorr. ECC |\n",
            "| Fan  Temp  Perf  Pwr:Usage/Cap|         Memory-Usage | GPU-Util  Compute M. |\n",
            "|                               |                      |               MIG M. |\n",
            "|===============================+======================+======================|\n",
            "|   0  Tesla T4            Off  | 00000000:00:04.0 Off |                    0 |\n",
            "| N/A   66C    P8    11W /  70W |      0MiB / 15109MiB |      0%      Default |\n",
            "|                               |                      |                  N/A |\n",
            "+-------------------------------+----------------------+----------------------+\n",
            "                                                                               \n",
            "+-----------------------------------------------------------------------------+\n",
            "| Processes:                                                                  |\n",
            "|  GPU   GI   CI        PID   Type   Process name                  GPU Memory |\n",
            "|        ID   ID                                                   Usage      |\n",
            "|=============================================================================|\n",
            "|  No running processes found                                                 |\n",
            "+-----------------------------------------------------------------------------+\n"
          ]
        }
      ]
    },
    {
      "cell_type": "code",
      "source": [
        "!sudo apt-get install -y fonts-nanum\n",
        "!sudo fc-cache -fv\n",
        "!rm ~/.cache/matplotlib -rf"
      ],
      "metadata": {
        "id": "CcdrPaqtO1bU",
        "colab": {
          "base_uri": "https://localhost:8080/"
        },
        "outputId": "80a38a89-b2f0-4248-a33b-fc1e1c323b16"
      },
      "execution_count": null,
      "outputs": [
        {
          "output_type": "stream",
          "name": "stdout",
          "text": [
            "Reading package lists... Done\n",
            "Building dependency tree       \n",
            "Reading state information... Done\n",
            "The following package was automatically installed and is no longer required:\n",
            "  libnvidia-common-460\n",
            "Use 'sudo apt autoremove' to remove it.\n",
            "The following NEW packages will be installed:\n",
            "  fonts-nanum\n",
            "0 upgraded, 1 newly installed, 0 to remove and 29 not upgraded.\n",
            "Need to get 9,604 kB of archives.\n",
            "After this operation, 29.5 MB of additional disk space will be used.\n",
            "Get:1 http://archive.ubuntu.com/ubuntu bionic/universe amd64 fonts-nanum all 20170925-1 [9,604 kB]\n",
            "Fetched 9,604 kB in 1s (6,926 kB/s)\n",
            "debconf: unable to initialize frontend: Dialog\n",
            "debconf: (No usable dialog-like program is installed, so the dialog based frontend cannot be used. at /usr/share/perl5/Debconf/FrontEnd/Dialog.pm line 76, <> line 1.)\n",
            "debconf: falling back to frontend: Readline\n",
            "debconf: unable to initialize frontend: Readline\n",
            "debconf: (This frontend requires a controlling tty.)\n",
            "debconf: falling back to frontend: Teletype\n",
            "dpkg-preconfigure: unable to re-open stdin: \n",
            "Selecting previously unselected package fonts-nanum.\n",
            "(Reading database ... 123942 files and directories currently installed.)\n",
            "Preparing to unpack .../fonts-nanum_20170925-1_all.deb ...\n",
            "Unpacking fonts-nanum (20170925-1) ...\n",
            "Setting up fonts-nanum (20170925-1) ...\n",
            "Processing triggers for fontconfig (2.12.6-0ubuntu2) ...\n",
            "/usr/share/fonts: caching, new cache contents: 0 fonts, 1 dirs\n",
            "/usr/share/fonts/truetype: caching, new cache contents: 0 fonts, 3 dirs\n",
            "/usr/share/fonts/truetype/humor-sans: caching, new cache contents: 1 fonts, 0 dirs\n",
            "/usr/share/fonts/truetype/liberation: caching, new cache contents: 16 fonts, 0 dirs\n",
            "/usr/share/fonts/truetype/nanum: caching, new cache contents: 10 fonts, 0 dirs\n",
            "/usr/local/share/fonts: caching, new cache contents: 0 fonts, 0 dirs\n",
            "/root/.local/share/fonts: skipping, no such directory\n",
            "/root/.fonts: skipping, no such directory\n",
            "/var/cache/fontconfig: cleaning cache directory\n",
            "/root/.cache/fontconfig: not cleaning non-existent cache directory\n",
            "/root/.fontconfig: not cleaning non-existent cache directory\n",
            "fc-cache: succeeded\n"
          ]
        }
      ]
    },
    {
      "cell_type": "code",
      "execution_count": 2,
      "metadata": {
        "id": "vrIMdOEbBdTC",
        "colab": {
          "base_uri": "https://localhost:8080/"
        },
        "outputId": "bcffa960-9159-4012-bc03-1b4e4a5366e1"
      },
      "outputs": [
        {
          "output_type": "stream",
          "name": "stdout",
          "text": [
            "Looking in indexes: https://pypi.org/simple, https://us-python.pkg.dev/colab-wheels/public/simple/\n",
            "Requirement already satisfied: openpyxl in /usr/local/lib/python3.7/dist-packages (3.0.10)\n",
            "Requirement already satisfied: et-xmlfile in /usr/local/lib/python3.7/dist-packages (from openpyxl) (1.1.0)\n",
            "Looking in indexes: https://pypi.org/simple, https://us-python.pkg.dev/colab-wheels/public/simple/\n",
            "Collecting soynlp\n",
            "  Downloading soynlp-0.0.493-py3-none-any.whl (416 kB)\n",
            "\u001b[K     |████████████████████████████████| 416 kB 5.1 MB/s \n",
            "\u001b[?25hRequirement already satisfied: scipy>=1.1.0 in /usr/local/lib/python3.7/dist-packages (from soynlp) (1.7.3)\n",
            "Requirement already satisfied: numpy>=1.12.1 in /usr/local/lib/python3.7/dist-packages (from soynlp) (1.21.6)\n",
            "Requirement already satisfied: psutil>=5.0.1 in /usr/local/lib/python3.7/dist-packages (from soynlp) (5.4.8)\n",
            "Requirement already satisfied: scikit-learn>=0.20.0 in /usr/local/lib/python3.7/dist-packages (from soynlp) (1.0.2)\n",
            "Requirement already satisfied: threadpoolctl>=2.0.0 in /usr/local/lib/python3.7/dist-packages (from scikit-learn>=0.20.0->soynlp) (3.1.0)\n",
            "Requirement already satisfied: joblib>=0.11 in /usr/local/lib/python3.7/dist-packages (from scikit-learn>=0.20.0->soynlp) (1.2.0)\n",
            "Installing collected packages: soynlp\n",
            "Successfully installed soynlp-0.0.493\n",
            "Looking in indexes: https://pypi.org/simple, https://us-python.pkg.dev/colab-wheels/public/simple/\n",
            "Collecting emoji\n",
            "  Downloading emoji-2.2.0.tar.gz (240 kB)\n",
            "\u001b[K     |████████████████████████████████| 240 kB 4.9 MB/s \n",
            "\u001b[?25hBuilding wheels for collected packages: emoji\n",
            "  Building wheel for emoji (setup.py) ... \u001b[?25l\u001b[?25hdone\n",
            "  Created wheel for emoji: filename=emoji-2.2.0-py3-none-any.whl size=234927 sha256=d060cf442401ba5b3783750b97ab47b7f846272a7ae04a2470a45b155bcae4d7\n",
            "  Stored in directory: /root/.cache/pip/wheels/f3/e3/f2/1de1c2e3ed742e1df73e0f15d58864e50c7e64f607b548d6cf\n",
            "Successfully built emoji\n",
            "Installing collected packages: emoji\n",
            "Successfully installed emoji-2.2.0\n",
            "Looking in indexes: https://pypi.org/simple, https://us-python.pkg.dev/colab-wheels/public/simple/\n",
            "Collecting transformers==4.8.2\n",
            "  Downloading transformers-4.8.2-py3-none-any.whl (2.5 MB)\n",
            "\u001b[K     |████████████████████████████████| 2.5 MB 5.1 MB/s \n",
            "\u001b[?25hRequirement already satisfied: packaging in /usr/local/lib/python3.7/dist-packages (from transformers==4.8.2) (21.3)\n",
            "Requirement already satisfied: numpy>=1.17 in /usr/local/lib/python3.7/dist-packages (from transformers==4.8.2) (1.21.6)\n",
            "Collecting tokenizers<0.11,>=0.10.1\n",
            "  Downloading tokenizers-0.10.3-cp37-cp37m-manylinux_2_5_x86_64.manylinux1_x86_64.manylinux_2_12_x86_64.manylinux2010_x86_64.whl (3.3 MB)\n",
            "\u001b[K     |████████████████████████████████| 3.3 MB 51.3 MB/s \n",
            "\u001b[?25hRequirement already satisfied: pyyaml in /usr/local/lib/python3.7/dist-packages (from transformers==4.8.2) (6.0)\n",
            "Requirement already satisfied: filelock in /usr/local/lib/python3.7/dist-packages (from transformers==4.8.2) (3.8.0)\n",
            "Requirement already satisfied: tqdm>=4.27 in /usr/local/lib/python3.7/dist-packages (from transformers==4.8.2) (4.64.1)\n",
            "Collecting sacremoses\n",
            "  Downloading sacremoses-0.0.53.tar.gz (880 kB)\n",
            "\u001b[K     |████████████████████████████████| 880 kB 61.1 MB/s \n",
            "\u001b[?25hRequirement already satisfied: importlib-metadata in /usr/local/lib/python3.7/dist-packages (from transformers==4.8.2) (4.13.0)\n",
            "Requirement already satisfied: regex!=2019.12.17 in /usr/local/lib/python3.7/dist-packages (from transformers==4.8.2) (2022.6.2)\n",
            "Collecting huggingface-hub==0.0.12\n",
            "  Downloading huggingface_hub-0.0.12-py3-none-any.whl (37 kB)\n",
            "Requirement already satisfied: requests in /usr/local/lib/python3.7/dist-packages (from transformers==4.8.2) (2.23.0)\n",
            "Requirement already satisfied: typing-extensions in /usr/local/lib/python3.7/dist-packages (from huggingface-hub==0.0.12->transformers==4.8.2) (4.1.1)\n",
            "Requirement already satisfied: pyparsing!=3.0.5,>=2.0.2 in /usr/local/lib/python3.7/dist-packages (from packaging->transformers==4.8.2) (3.0.9)\n",
            "Requirement already satisfied: zipp>=0.5 in /usr/local/lib/python3.7/dist-packages (from importlib-metadata->transformers==4.8.2) (3.10.0)\n",
            "Requirement already satisfied: certifi>=2017.4.17 in /usr/local/lib/python3.7/dist-packages (from requests->transformers==4.8.2) (2022.9.24)\n",
            "Requirement already satisfied: urllib3!=1.25.0,!=1.25.1,<1.26,>=1.21.1 in /usr/local/lib/python3.7/dist-packages (from requests->transformers==4.8.2) (1.24.3)\n",
            "Requirement already satisfied: idna<3,>=2.5 in /usr/local/lib/python3.7/dist-packages (from requests->transformers==4.8.2) (2.10)\n",
            "Requirement already satisfied: chardet<4,>=3.0.2 in /usr/local/lib/python3.7/dist-packages (from requests->transformers==4.8.2) (3.0.4)\n",
            "Requirement already satisfied: six in /usr/local/lib/python3.7/dist-packages (from sacremoses->transformers==4.8.2) (1.15.0)\n",
            "Requirement already satisfied: click in /usr/local/lib/python3.7/dist-packages (from sacremoses->transformers==4.8.2) (7.1.2)\n",
            "Requirement already satisfied: joblib in /usr/local/lib/python3.7/dist-packages (from sacremoses->transformers==4.8.2) (1.2.0)\n",
            "Building wheels for collected packages: sacremoses\n",
            "  Building wheel for sacremoses (setup.py) ... \u001b[?25l\u001b[?25hdone\n",
            "  Created wheel for sacremoses: filename=sacremoses-0.0.53-py3-none-any.whl size=895260 sha256=c5db4af4fa8772ba52aa33a42f1fb0ef11222d9e3e9d9777685ff55e6723c44f\n",
            "  Stored in directory: /root/.cache/pip/wheels/87/39/dd/a83eeef36d0bf98e7a4d1933a4ad2d660295a40613079bafc9\n",
            "Successfully built sacremoses\n",
            "Installing collected packages: tokenizers, sacremoses, huggingface-hub, transformers\n",
            "Successfully installed huggingface-hub-0.0.12 sacremoses-0.0.53 tokenizers-0.10.3 transformers-4.8.2\n"
          ]
        }
      ],
      "source": [
        "!pip install openpyxl\n",
        "!pip install soynlp\n",
        "!pip install emoji\n",
        "!pip install transformers==4.8.2"
      ]
    },
    {
      "cell_type": "markdown",
      "metadata": {
        "id": "_P6pjIkRBeFZ"
      },
      "source": [
        "`-` 런타임 재시작"
      ]
    },
    {
      "cell_type": "markdown",
      "metadata": {
        "id": "68xM6jF0ZchA"
      },
      "source": [
        "## 데이터 불러오기"
      ]
    },
    {
      "cell_type": "code",
      "execution_count": 3,
      "metadata": {
        "id": "zJnLWFhmMGG4"
      },
      "outputs": [],
      "source": [
        "import numpy as np\n",
        "import pandas as pd\n",
        "import seaborn as sns\n",
        "import matplotlib.pyplot as plt\n",
        "import warnings\n",
        "import random\n",
        "import json\n",
        "import os\n",
        "import gc\n",
        "import re\n",
        "import emoji\n",
        "\n",
        "from soynlp.normalizer import repeat_normalize\n",
        "\n",
        "from sklearn.model_selection import StratifiedKFold\n",
        "from sklearn.preprocessing import LabelEncoder, MultiLabelBinarizer\n",
        "from sklearn.metrics import accuracy_score, precision_score, recall_score, f1_score\n",
        "\n",
        "from typing import Any, Callable, Dict, List, Optional, Sequence, Tuple, Union\n",
        "from numpy.typing import NDArray\n",
        "\n",
        "from tqdm.auto import tqdm\n",
        "from glob import glob\n",
        "\n",
        "warnings.filterwarnings('ignore') "
      ]
    },
    {
      "cell_type": "code",
      "execution_count": 4,
      "metadata": {
        "colab": {
          "base_uri": "https://localhost:8080/"
        },
        "id": "GjvmmVOVMW_P",
        "outputId": "41d01e14-4f90-424d-9d43-85e651d614b1"
      },
      "outputs": [
        {
          "output_type": "stream",
          "name": "stdout",
          "text": [
            "Mounted at /content/drive\n"
          ]
        }
      ],
      "source": [
        "from google.colab import drive\n",
        "\n",
        "drive.mount('/content/drive')  ## 구글코랩과 구글드라이브 연결"
      ]
    },
    {
      "cell_type": "code",
      "execution_count": 5,
      "metadata": {
        "colab": {
          "base_uri": "https://localhost:8080/"
        },
        "id": "eVxuuFzhM72P",
        "outputId": "e4cdefa5-00c4-45b1-c528-12c01cc8b670"
      },
      "outputs": [
        {
          "output_type": "stream",
          "name": "stdout",
          "text": [
            "/content/drive/MyDrive/Colab Notebooks/속성기반-감성-분류\n"
          ]
        }
      ],
      "source": [
        "%cd  '/content/drive/MyDrive/Colab Notebooks/속성기반-감성-분류'"
      ]
    },
    {
      "cell_type": "markdown",
      "metadata": {
        "id": "MRrJ4A5RKC4B"
      },
      "source": [
        "- 데이터 불러오기"
      ]
    },
    {
      "cell_type": "code",
      "source": [
        "JsonType = Dict[str, Any]"
      ],
      "metadata": {
        "id": "r8sfDvtF3xIa"
      },
      "execution_count": 6,
      "outputs": []
    },
    {
      "cell_type": "code",
      "source": [
        "train_path = './data/nikluge-sa-2022-train.jsonl'\n",
        "valid_path = './data/nikluge-sa-2022-dev.jsonl'\n",
        "test_path = './data/nikluge-sa-2022-test.jsonl'\n",
        "submission_path = './data/nikluge-sa-2022-submission7.json'"
      ],
      "metadata": {
        "id": "N7JdJZofCXED"
      },
      "execution_count": 7,
      "outputs": []
    },
    {
      "cell_type": "code",
      "source": [
        "def load_jsonl(file_path: str) -> List[JsonType]:\n",
        "    \"\"\"jsonl 파일을 읽어서 list에 저장\"\"\"\n",
        "    json_list = []\n",
        "    with open(file_path, encoding='utf-8') as f:\n",
        "        for line in f.readlines():\n",
        "            json_list.append(json.loads(line))\n",
        "    return json_list"
      ],
      "metadata": {
        "id": "0UXPB5Wh0clN"
      },
      "execution_count": 8,
      "outputs": []
    },
    {
      "cell_type": "code",
      "source": [
        "def write_jsonl(jsonl: List[JsonType], file_path: str) -> None:\n",
        "    \"\"\"jsonl 파일을 write\"\"\"\n",
        "    with open(file_path, mode='w', encoding='utf-8') as f: \n",
        "        for j in jsonl: \n",
        "            f.write(json.dumps(j, ensure_ascii=False) + '\\n')"
      ],
      "metadata": {
        "id": "HFCXueZYU2ha"
      },
      "execution_count": 9,
      "outputs": []
    },
    {
      "cell_type": "code",
      "source": [
        "def jsonl2df(jsonl: List[JsonType]) -> pd.DataFrame:\n",
        "    \"\"\"\n",
        "    jsonl을 dataframe으로 변경한 후 반환\n",
        "    For entity property classification\n",
        "    \"\"\"\n",
        "    ids = []\n",
        "    texts = []\n",
        "    entity_properties = []\n",
        "    sentiments = []\n",
        "    \n",
        "    for json in jsonl:\n",
        "        annotations = json['annotation']\n",
        "        ids.append(json['id'].split('-')[-1])\n",
        "        texts.append(json['sentence_form'])\n",
        "        entity_properties.append([annotation[0] for annotation in annotations])\n",
        "        sentiments.append([annotation[2] for annotation in annotations])\n",
        "        \n",
        "    df = pd.DataFrame({'id':ids,\n",
        "                        'text':texts,\n",
        "                        'entity_property':entity_properties,\n",
        "                        'sentiment':sentiments})\n",
        "    \n",
        "    return df"
      ],
      "metadata": {
        "id": "K6WYFPN8Fh7f"
      },
      "execution_count": 10,
      "outputs": []
    },
    {
      "cell_type": "code",
      "source": [
        "def to_tidy(df: pd.DataFrame) -> pd.DataFrame:\n",
        "    \"\"\"\n",
        "    entity_property 변수가 한 행에 하나의 개체 속성만 가지도록 변환\n",
        "    For visualization and sentiment classification\n",
        "    \"\"\"\n",
        "    list_df = df.to_numpy().tolist()\n",
        "    ids = []\n",
        "    texts = []\n",
        "    entity_properties = []\n",
        "    sentiments = []\n",
        "\n",
        "    for id, text, entity_property, sentiment in list_df:\n",
        "        if not entity_property:\n",
        "            entity_property = [[]]\n",
        "        if not sentiment:\n",
        "            sentiment = [[] for _ in range(len(entity_property))]\n",
        "\n",
        "        for e, s, in zip(entity_property, sentiment):\n",
        "            ids.append(id)\n",
        "            texts.append(text)\n",
        "            entity_properties.append(e)\n",
        "            sentiments.append(s) \n",
        "\n",
        "    df = pd.DataFrame({'id':ids,\n",
        "                       'text':texts,\n",
        "                       'entity_property':entity_properties,\n",
        "                       'sentiment':sentiments})\n",
        "    return df"
      ],
      "metadata": {
        "id": "LOhs4Kv8kzHe"
      },
      "execution_count": 11,
      "outputs": []
    },
    {
      "cell_type": "code",
      "source": [
        "def to_untidy(df: pd.DataFrame) -> pd.DataFrame:\n",
        "    ids = []\n",
        "    texts = []\n",
        "    entity_properties = [] \n",
        "    sentiments = [] \n",
        "\n",
        "    for id in sorted(df['id'].unique()):\n",
        "        tmp = df.query('id == @id')\n",
        "        ids.append(id)\n",
        "        texts.append(tmp['text'].values[0])\n",
        "        if isinstance(tmp['entity_property'].tolist()[0], list):  ## [[]] \n",
        "            entity_properties.append(tmp['entity_property'].tolist()[0])\n",
        "            sentiments.append(tmp['sentiment'].tolist()[0])\n",
        "        else:\n",
        "            entity_properties.append(tmp['entity_property'].tolist())\n",
        "            sentiments.append(tmp['sentiment'].tolist())\n",
        "\n",
        "    df = pd.DataFrame({'id':ids,\n",
        "                       'text':texts,\n",
        "                       'entity_property':entity_properties,\n",
        "                       'sentiment':sentiments})\n",
        "    return df"
      ],
      "metadata": {
        "id": "aA-qCHevaqCh"
      },
      "execution_count": 12,
      "outputs": []
    },
    {
      "cell_type": "code",
      "source": [
        "df = jsonl2df(load_jsonl(train_path))\n",
        "tidy_df = to_tidy(df)\n",
        "\n",
        "valid = jsonl2df(load_jsonl(valid_path))\n",
        "tidy_valid = to_tidy(valid)\n",
        "\n",
        "test = jsonl2df(load_jsonl(test_path))"
      ],
      "metadata": {
        "id": "dl5XJ4wb7joA"
      },
      "execution_count": 13,
      "outputs": []
    },
    {
      "cell_type": "code",
      "source": [
        "tidy_df = tidy_df.drop_duplicates().reset_index().drop('index', axis=1)  ## 주석되는 요인만 다른 경우\n",
        "tidy_valid = tidy_valid.drop_duplicates().reset_index().drop('index', axis=1)"
      ],
      "metadata": {
        "id": "X5ftbhz0O91L"
      },
      "execution_count": 14,
      "outputs": []
    },
    {
      "cell_type": "code",
      "source": [
        "tidy_df.head() "
      ],
      "metadata": {
        "colab": {
          "base_uri": "https://localhost:8080/",
          "height": 206
        },
        "id": "r9XYDh4m070J",
        "outputId": "b9ede092-e8e7-483c-91ac-e04292ef8c14"
      },
      "execution_count": 15,
      "outputs": [
        {
          "output_type": "execute_result",
          "data": {
            "text/plain": [
              "      id                                               text entity_property  \\\n",
              "0  00001             둘쨋날은 미친듯이 밟아봤더니 기어가 헛돌면서 틱틱 소리가 나서 경악.           본품#품질   \n",
              "1  00002  이거 뭐 삐꾸를 준 거 아냐 불안하고, 거금 투자한 게 왜 이래.. 싶어서 정이 확...           본품#품질   \n",
              "2  00003               간사하게도 그 이후에는 라이딩이 아주 즐거워져서 만족스럽게 탔다.        제품 전체#일반   \n",
              "3  00004  샥이 없는 모델이라 일반 도로에서 타면 노면의 진동 때문에 손목이 덜덜덜 떨리고 이...        제품 전체#일반   \n",
              "4  00005                     안장도 딱딱해서 엉덩이가 아팠는데 무시하고 타고 있다.           본품#일반   \n",
              "\n",
              "  sentiment  \n",
              "0  negative  \n",
              "1  negative  \n",
              "2  positive  \n",
              "3   neutral  \n",
              "4  negative  "
            ],
            "text/html": [
              "\n",
              "  <div id=\"df-b8d6b089-de0a-4739-b29e-f6304ec36e84\">\n",
              "    <div class=\"colab-df-container\">\n",
              "      <div>\n",
              "<style scoped>\n",
              "    .dataframe tbody tr th:only-of-type {\n",
              "        vertical-align: middle;\n",
              "    }\n",
              "\n",
              "    .dataframe tbody tr th {\n",
              "        vertical-align: top;\n",
              "    }\n",
              "\n",
              "    .dataframe thead th {\n",
              "        text-align: right;\n",
              "    }\n",
              "</style>\n",
              "<table border=\"1\" class=\"dataframe\">\n",
              "  <thead>\n",
              "    <tr style=\"text-align: right;\">\n",
              "      <th></th>\n",
              "      <th>id</th>\n",
              "      <th>text</th>\n",
              "      <th>entity_property</th>\n",
              "      <th>sentiment</th>\n",
              "    </tr>\n",
              "  </thead>\n",
              "  <tbody>\n",
              "    <tr>\n",
              "      <th>0</th>\n",
              "      <td>00001</td>\n",
              "      <td>둘쨋날은 미친듯이 밟아봤더니 기어가 헛돌면서 틱틱 소리가 나서 경악.</td>\n",
              "      <td>본품#품질</td>\n",
              "      <td>negative</td>\n",
              "    </tr>\n",
              "    <tr>\n",
              "      <th>1</th>\n",
              "      <td>00002</td>\n",
              "      <td>이거 뭐 삐꾸를 준 거 아냐 불안하고, 거금 투자한 게 왜 이래.. 싶어서 정이 확...</td>\n",
              "      <td>본품#품질</td>\n",
              "      <td>negative</td>\n",
              "    </tr>\n",
              "    <tr>\n",
              "      <th>2</th>\n",
              "      <td>00003</td>\n",
              "      <td>간사하게도 그 이후에는 라이딩이 아주 즐거워져서 만족스럽게 탔다.</td>\n",
              "      <td>제품 전체#일반</td>\n",
              "      <td>positive</td>\n",
              "    </tr>\n",
              "    <tr>\n",
              "      <th>3</th>\n",
              "      <td>00004</td>\n",
              "      <td>샥이 없는 모델이라 일반 도로에서 타면 노면의 진동 때문에 손목이 덜덜덜 떨리고 이...</td>\n",
              "      <td>제품 전체#일반</td>\n",
              "      <td>neutral</td>\n",
              "    </tr>\n",
              "    <tr>\n",
              "      <th>4</th>\n",
              "      <td>00005</td>\n",
              "      <td>안장도 딱딱해서 엉덩이가 아팠는데 무시하고 타고 있다.</td>\n",
              "      <td>본품#일반</td>\n",
              "      <td>negative</td>\n",
              "    </tr>\n",
              "  </tbody>\n",
              "</table>\n",
              "</div>\n",
              "      <button class=\"colab-df-convert\" onclick=\"convertToInteractive('df-b8d6b089-de0a-4739-b29e-f6304ec36e84')\"\n",
              "              title=\"Convert this dataframe to an interactive table.\"\n",
              "              style=\"display:none;\">\n",
              "        \n",
              "  <svg xmlns=\"http://www.w3.org/2000/svg\" height=\"24px\"viewBox=\"0 0 24 24\"\n",
              "       width=\"24px\">\n",
              "    <path d=\"M0 0h24v24H0V0z\" fill=\"none\"/>\n",
              "    <path d=\"M18.56 5.44l.94 2.06.94-2.06 2.06-.94-2.06-.94-.94-2.06-.94 2.06-2.06.94zm-11 1L8.5 8.5l.94-2.06 2.06-.94-2.06-.94L8.5 2.5l-.94 2.06-2.06.94zm10 10l.94 2.06.94-2.06 2.06-.94-2.06-.94-.94-2.06-.94 2.06-2.06.94z\"/><path d=\"M17.41 7.96l-1.37-1.37c-.4-.4-.92-.59-1.43-.59-.52 0-1.04.2-1.43.59L10.3 9.45l-7.72 7.72c-.78.78-.78 2.05 0 2.83L4 21.41c.39.39.9.59 1.41.59.51 0 1.02-.2 1.41-.59l7.78-7.78 2.81-2.81c.8-.78.8-2.07 0-2.86zM5.41 20L4 18.59l7.72-7.72 1.47 1.35L5.41 20z\"/>\n",
              "  </svg>\n",
              "      </button>\n",
              "      \n",
              "  <style>\n",
              "    .colab-df-container {\n",
              "      display:flex;\n",
              "      flex-wrap:wrap;\n",
              "      gap: 12px;\n",
              "    }\n",
              "\n",
              "    .colab-df-convert {\n",
              "      background-color: #E8F0FE;\n",
              "      border: none;\n",
              "      border-radius: 50%;\n",
              "      cursor: pointer;\n",
              "      display: none;\n",
              "      fill: #1967D2;\n",
              "      height: 32px;\n",
              "      padding: 0 0 0 0;\n",
              "      width: 32px;\n",
              "    }\n",
              "\n",
              "    .colab-df-convert:hover {\n",
              "      background-color: #E2EBFA;\n",
              "      box-shadow: 0px 1px 2px rgba(60, 64, 67, 0.3), 0px 1px 3px 1px rgba(60, 64, 67, 0.15);\n",
              "      fill: #174EA6;\n",
              "    }\n",
              "\n",
              "    [theme=dark] .colab-df-convert {\n",
              "      background-color: #3B4455;\n",
              "      fill: #D2E3FC;\n",
              "    }\n",
              "\n",
              "    [theme=dark] .colab-df-convert:hover {\n",
              "      background-color: #434B5C;\n",
              "      box-shadow: 0px 1px 3px 1px rgba(0, 0, 0, 0.15);\n",
              "      filter: drop-shadow(0px 1px 2px rgba(0, 0, 0, 0.3));\n",
              "      fill: #FFFFFF;\n",
              "    }\n",
              "  </style>\n",
              "\n",
              "      <script>\n",
              "        const buttonEl =\n",
              "          document.querySelector('#df-b8d6b089-de0a-4739-b29e-f6304ec36e84 button.colab-df-convert');\n",
              "        buttonEl.style.display =\n",
              "          google.colab.kernel.accessAllowed ? 'block' : 'none';\n",
              "\n",
              "        async function convertToInteractive(key) {\n",
              "          const element = document.querySelector('#df-b8d6b089-de0a-4739-b29e-f6304ec36e84');\n",
              "          const dataTable =\n",
              "            await google.colab.kernel.invokeFunction('convertToInteractive',\n",
              "                                                     [key], {});\n",
              "          if (!dataTable) return;\n",
              "\n",
              "          const docLinkHtml = 'Like what you see? Visit the ' +\n",
              "            '<a target=\"_blank\" href=https://colab.research.google.com/notebooks/data_table.ipynb>data table notebook</a>'\n",
              "            + ' to learn more about interactive tables.';\n",
              "          element.innerHTML = '';\n",
              "          dataTable['output_type'] = 'display_data';\n",
              "          await google.colab.output.renderOutput(dataTable, element);\n",
              "          const docLink = document.createElement('div');\n",
              "          docLink.innerHTML = docLinkHtml;\n",
              "          element.appendChild(docLink);\n",
              "        }\n",
              "      </script>\n",
              "    </div>\n",
              "  </div>\n",
              "  "
            ]
          },
          "metadata": {},
          "execution_count": 15
        }
      ]
    },
    {
      "cell_type": "markdown",
      "metadata": {
        "id": "NN7RHXuYr88l"
      },
      "source": [
        "- 하이퍼파라미터 (개체 속성과 감성)"
      ]
    },
    {
      "cell_type": "code",
      "execution_count": 17,
      "metadata": {
        "id": "ZBe2gEgzr-q1"
      },
      "outputs": [],
      "source": [
        "MODEL_PATHS = {'bert':'kykim/bert-kor-base',}\n",
        "\n",
        "MODEL_NAME = 'bert'\n",
        "MODEL_DEFAULT_WEIGHT_PATHS = {'ACD':f'acd_{MODEL_NAME}_default_weight.pt', \n",
        "                              'ASC':f'asc_{MODEL_NAME}_default_weight.pt'} \n",
        "\n",
        "SAVE_PATHS = {'ACD':'./acd_weight',\n",
        "              'ASC':'./asc_weight'}\n",
        "\n",
        "NUM_CLASSES = {'ACD':len(tidy_df['entity_property'].unique()),   \n",
        "               'ASC':len(tidy_df['sentiment'].unique())}\n",
        "\n",
        "NUM_EPOCHS = {'ACD':15, 'ASC':15}\n",
        "MAX_LEN = 45\n",
        "BATCH_SIZE = 32\n",
        "LEARNING_RATE = {'ACD':2e-5, 'ASC':2e-5}\n",
        "LABEL_SMOOTHING = 0.1\n",
        "SEEDS = [2021]  ## seed ensemble\n",
        "NUM_FOLDS = len(SEEDS) "
      ]
    },
    {
      "cell_type": "markdown",
      "metadata": {
        "id": "II2XMQAVsAQt"
      },
      "source": [
        "- 가중치 저장폴더"
      ]
    },
    {
      "cell_type": "code",
      "execution_count": null,
      "metadata": {
        "id": "YnpAfBHMsCb1"
      },
      "outputs": [],
      "source": [
        "def create_folder(path: str) -> None:\n",
        "    try:\n",
        "        if not os.path.exists(path):\n",
        "            os.makedirs(path)\n",
        "    except OSError as error:\n",
        "        print(error)"
      ]
    },
    {
      "cell_type": "code",
      "execution_count": null,
      "metadata": {
        "id": "WRCnOvxlsE2F"
      },
      "outputs": [],
      "source": [
        "create_folder(SAVE_PATHS['ACD'])\n",
        "create_folder(SAVE_PATHS['ASC'])"
      ]
    },
    {
      "cell_type": "markdown",
      "metadata": {
        "id": "bvB62nkihj3a"
      },
      "source": [
        "## 시각화"
      ]
    },
    {
      "cell_type": "markdown",
      "metadata": {
        "id": "5HSm1gzTxO0e"
      },
      "source": [
        "### 라벨"
      ]
    },
    {
      "cell_type": "code",
      "source": [
        "plt.rc('font', family='NanumBarunGothic')"
      ],
      "metadata": {
        "id": "j2rL6owHJRmP"
      },
      "execution_count": null,
      "outputs": []
    },
    {
      "cell_type": "code",
      "source": [
        "sns.countplot(tidy_df['sentiment'])"
      ],
      "metadata": {
        "colab": {
          "base_uri": "https://localhost:8080/",
          "height": 297
        },
        "id": "eva2cOqI8WoI",
        "outputId": "b6867e5a-b72d-4334-da3f-8160faa8d602"
      },
      "execution_count": null,
      "outputs": [
        {
          "output_type": "execute_result",
          "data": {
            "text/plain": [
              "<matplotlib.axes._subplots.AxesSubplot at 0x7f61f7efb790>"
            ]
          },
          "metadata": {},
          "execution_count": 18
        },
        {
          "output_type": "display_data",
          "data": {
            "text/plain": [
              "<Figure size 432x288 with 1 Axes>"
            ],
            "image/png": "[encoded data removed]"
          },
          "metadata": {
            "needs_background": "light"
          }
        }
      ]
    },
    {
      "cell_type": "markdown",
      "source": [
        "`-` 라벨 불균형이 매우 심하다\n",
        "\n",
        "`-` 하지만 평가 산식은 단순히 라벨을 맞췄냐 못맞췄냐로만 판단한다\n",
        "\n",
        "`-` 즉, 단순 `f1 score`이므로 적은 클래스의 카테고리는 내다 버려도 좋은 점수를 얻을 수 있다\n",
        "\n",
        "`-` 속성 기반 감성 분류인데 감성 대부분이 긍정이므로 사실상 속성 분류 테스크와 같다\n",
        "\n",
        "`-` 그런데 train과 test의 분포가 다르다면?......\n",
        "\n",
        "`-` 무작위로 샘플링했다면 둘의 분포가 비슷할 것이다"
      ],
      "metadata": {
        "id": "sOeqzs7sslzg"
      }
    },
    {
      "cell_type": "markdown",
      "source": [
        "### 개체 속성"
      ],
      "metadata": {
        "id": "TgEDPR4vAUVw"
      }
    },
    {
      "cell_type": "code",
      "source": [
        "sns.countplot(y=tidy_df['entity_property'], order=tidy_df['entity_property'].value_counts().index) "
      ],
      "metadata": {
        "colab": {
          "base_uri": "https://localhost:8080/",
          "height": 297
        },
        "id": "gIw-zi-H24iw",
        "outputId": "42a0e2c4-1ea0-4cac-c38a-318726e58b58"
      },
      "execution_count": null,
      "outputs": [
        {
          "output_type": "execute_result",
          "data": {
            "text/plain": [
              "<matplotlib.axes._subplots.AxesSubplot at 0x7f61f7e29750>"
            ]
          },
          "metadata": {},
          "execution_count": 19
        },
        {
          "output_type": "display_data",
          "data": {
            "text/plain": [
              "<Figure size 432x288 with 1 Axes>"
            ],
            "image/png": "[encoded data removed]"
          },
          "metadata": {
            "needs_background": "light"
          }
        }
      ]
    },
    {
      "cell_type": "markdown",
      "source": [
        "`-` 개체 속성도 불균형이 심하다\n",
        "\n",
        "`-` 하지만 단순히 맞췄냐 못맞췄냐로 판단하므로 적은 클래스는 내다 버려도 좋은 점수를 얻을 수 있다"
      ],
      "metadata": {
        "id": "ZU6YpGIsA1sP"
      }
    },
    {
      "cell_type": "markdown",
      "source": [
        "### 텍스트"
      ],
      "metadata": {
        "id": "lh9oPb8rZNef"
      }
    },
    {
      "cell_type": "code",
      "source": [
        "df['text'].str.len().describe()"
      ],
      "metadata": {
        "colab": {
          "base_uri": "https://localhost:8080/"
        },
        "id": "Hb5qwbEwaQUi",
        "outputId": "a811ca6e-1938-467e-8946-080ef249a6e3"
      },
      "execution_count": null,
      "outputs": [
        {
          "output_type": "execute_result",
          "data": {
            "text/plain": [
              "count    3001.00000\n",
              "mean       33.91103\n",
              "std        20.15056\n",
              "min         1.00000\n",
              "25%        19.00000\n",
              "50%        30.00000\n",
              "75%        44.00000\n",
              "max       161.00000\n",
              "Name: text, dtype: float64"
            ]
          },
          "metadata": {},
          "execution_count": 16
        }
      ]
    },
    {
      "cell_type": "code",
      "source": [
        "df['text'].str.len().plot.box()"
      ],
      "metadata": {
        "colab": {
          "base_uri": "https://localhost:8080/",
          "height": 283
        },
        "id": "ht4nnlSfZOaX",
        "outputId": "e41550f8-a894-4e56-f2b6-191e9e503660"
      },
      "execution_count": null,
      "outputs": [
        {
          "output_type": "execute_result",
          "data": {
            "text/plain": [
              "<matplotlib.axes._subplots.AxesSubplot at 0x7fbcd5789a10>"
            ]
          },
          "metadata": {},
          "execution_count": 17
        },
        {
          "output_type": "display_data",
          "data": {
            "text/plain": [
              "<Figure size 432x288 with 1 Axes>"
            ],
            "image/png": "[encoded data removed]"
          },
          "metadata": {
            "needs_background": "light"
          }
        }
      ]
    },
    {
      "cell_type": "code",
      "source": [
        "emoji_dict = {'👍':'좋다',\n",
        "              '👍🏻':'좋다',\n",
        "              '★':'좋다',\n",
        "              '❤':'좋다',\n",
        "              '♥️':'좋다',\n",
        "              '♥':'좋다',\n",
        "              '💕':'좋다',\n",
        "              '💖':'좋다',\n",
        "              '❣️':'좋다',\n",
        "              '💜':'좋다',\n",
        "              '💛':'좋다',\n",
        "              '♡':'좋다',\n",
        "              '😄':'좋다',\n",
        "              '😊':'좋다',\n",
        "              '😁':'좋다',\n",
        "              '😍':'좋다',\n",
        "              '🤩':'좋다',\n",
        "              '🤗':'좋다',\n",
        "              '😆':'좋다',\n",
        "              '😀':'좋다',\n",
        "              '👌':'좋다',\n",
        "              '👏':'좋다',\n",
        "              '✨':'좋다',\n",
        "              '^^':'좋다',\n",
        "              '>_<':'좋다',\n",
        "              '^-^':'좋다',\n",
        "              '+_+':'좋다',\n",
        "              ':)':'좋다',}"
      ],
      "metadata": {
        "id": "8HLM8fPwuoFA"
      },
      "execution_count": 18,
      "outputs": []
    },
    {
      "cell_type": "code",
      "source": [
        "def check_hashtag_df(texts: Sequence[str]) -> Dict[str, int]:\n",
        "    \"\"\"해시태그의 document frequency를 계산\"\"\"\n",
        "    hashtag_dict = {}\n",
        "    for text in texts:\n",
        "        text = text.lower()\n",
        "        words = text.split()\n",
        "        duplicate = {}\n",
        "        for word in words:\n",
        "            if '#' in word and word not in duplicate:\n",
        "                if word not in hashtag_dict:\n",
        "                    hashtag_dict[word] = 1\n",
        "                else:\n",
        "                    hashtag_dict[word] += 1\n",
        "                duplicate[word] = True\n",
        "\n",
        "    hashtag_dict.update({'고유한 해시태그 개수':len(hashtag_dict)})\n",
        "    hashtag_dict = sorted(hashtag_dict.items(), key=lambda item: item[1], reverse=True)\n",
        "    return hashtag_dict"
      ],
      "metadata": {
        "id": "Thv69xDVlOLU"
      },
      "execution_count": null,
      "outputs": []
    },
    {
      "cell_type": "code",
      "source": [
        "def check_emoji_df(texts: Sequence[str]) -> Dict[str, int]:\n",
        "    \"\"\"이모지의 document frequency를 계산\"\"\"\n",
        "    emoji_dict = {}\n",
        "    for text in texts:\n",
        "        text = text.lower()\n",
        "        words = text.split()\n",
        "        duplicate = {}\n",
        "        for word in words:\n",
        "            if emoji.is_emoji(word) and word not in duplicate:\n",
        "                if word not in emoji_dict:\n",
        "                    emoji_dict[word] = 1\n",
        "                else:\n",
        "                    emoji_dict[word] += 1\n",
        "                duplicate[word] = True\n",
        "\n",
        "    emoji_dict.update({'고유한 이모지 개수':len(emoji_dict)})\n",
        "    emoji_dict = sorted(emoji_dict.items(), key=lambda item: item[1], reverse=True)\n",
        "    return emoji_dict"
      ],
      "metadata": {
        "id": "KdmddzOJ_bQl"
      },
      "execution_count": null,
      "outputs": []
    },
    {
      "cell_type": "code",
      "source": [
        "def check_word_counts(word: str, texts: Sequence[str], labels: NDArray[np.str_]) -> Dict[str, int]:\n",
        "    count_dict = {}\n",
        "    for idx, text in enumerate(texts):\n",
        "        text = text.lower()\n",
        "        label = labels[idx]\n",
        "        if word in text:   \n",
        "            if label not in count_dict:\n",
        "                count_dict[label] = 1\n",
        "            else:\n",
        "                count_dict[label] += 1\n",
        "\n",
        "    all_counts = sum([np.sum(labels == key) for key in list(count_dict.keys())])\n",
        "    count_dict.update({'합계':sum(count_dict.values())})\n",
        "    count_list = list(count_dict.items())\n",
        "    count_list = list(map(list, count_list))\n",
        "\n",
        "    for item in count_list:\n",
        "        if item[0] == '합계':\n",
        "            item.append(all_counts)\n",
        "        else:\n",
        "            item.append(np.sum(labels == item[0]))\n",
        "\n",
        "    count_list = sorted(count_list, key=lambda item: (-item[1], -item[2]))\n",
        "    return count_list"
      ],
      "metadata": {
        "id": "WKEIC_rySYcK"
      },
      "execution_count": null,
      "outputs": []
    },
    {
      "cell_type": "code",
      "source": [
        "# check_hashtag_df(df['text'].values)"
      ],
      "metadata": {
        "id": "qo_WPQfqmavL"
      },
      "execution_count": null,
      "outputs": []
    },
    {
      "cell_type": "code",
      "source": [
        "# check_emoji_df(df['text'].values)"
      ],
      "metadata": {
        "id": "bpMPDZ4-6fnX"
      },
      "execution_count": null,
      "outputs": []
    },
    {
      "cell_type": "code",
      "source": [
        "check_word_counts('색상', tidy_df['text'].values, tidy_df['entity_property'].values)"
      ],
      "metadata": {
        "colab": {
          "base_uri": "https://localhost:8080/"
        },
        "id": "SeW4sgAWm9bc",
        "outputId": "9b666269-b6b9-4bfd-d096-76b98c1e7c6c"
      },
      "execution_count": null,
      "outputs": [
        {
          "output_type": "execute_result",
          "data": {
            "text/plain": [
              "[['합계', 19, 2712],\n",
              " ['본품#일반', 6, 250],\n",
              " ['제품 전체#디자인', 6, 157],\n",
              " ['본품#품질', 1, 1154],\n",
              " ['제품 전체#일반', 1, 848],\n",
              " ['제품 전체#품질', 1, 237],\n",
              " ['패키지/구성품#일반', 1, 30],\n",
              " ['본품#다양성', 1, 20],\n",
              " ['브랜드#품질', 1, 13],\n",
              " ['브랜드#가격', 1, 3]]"
            ]
          },
          "metadata": {},
          "execution_count": 23
        }
      ]
    },
    {
      "cell_type": "code",
      "source": [
        "# set(df.text.apply(lambda x: re.sub(r'[ .,?!/@$&%~％#·∼()0-9a-zA-Zㄱ-ㅣ가-힣]+', '', x)).tolist())"
      ],
      "metadata": {
        "id": "H2e-iHHR8aMY"
      },
      "execution_count": null,
      "outputs": []
    },
    {
      "cell_type": "markdown",
      "source": [
        "`-` 이모티콘은 모델이 학습하지 못하므로 이모티콘의 의미로 바꿔주었다 (성능 향상이 있을 것)"
      ],
      "metadata": {
        "id": "3Es84kSuvnIQ"
      }
    },
    {
      "cell_type": "markdown",
      "source": [
        "### 텍스트 길이와 토큰 길이"
      ],
      "metadata": {
        "id": "RHzBEFbVRYgW"
      }
    },
    {
      "cell_type": "code",
      "source": [
        "import torch\n",
        "from transformers import AutoTokenizer"
      ],
      "metadata": {
        "id": "FHdqWxeW-4ZV"
      },
      "execution_count": null,
      "outputs": []
    },
    {
      "cell_type": "code",
      "source": [
        "pattern = re.compile(f'[^ .?!@$%~％·∼\\x00-\\x7Fㄱ-ㅣ가-힣]+')\n",
        "url_pattern = re.compile(\n",
        "    r'https?:\\/\\/(www\\.)?[-a-zA-Z0-9@:%._\\+~#=]{1,256}\\.[a-zA-Z0-9()]{1,6}\\b([-a-zA-Z0-9()@:%_\\+.~#?&//=]*)')"
      ],
      "metadata": {
        "id": "-_ccSl4Xb-VJ"
      },
      "execution_count": 19,
      "outputs": []
    },
    {
      "cell_type": "code",
      "source": [
        "def minor2major(text: str, minor2major_dict: Dict[str, str]) -> str:\n",
        "    for minor, major in minor2major_dict.items():\n",
        "        text = text.replace(minor, f' {major} ')\n",
        "    return text"
      ],
      "metadata": {
        "id": "BjKzf4foOa2S"
      },
      "execution_count": 20,
      "outputs": []
    },
    {
      "cell_type": "code",
      "source": [
        "def clean_text(text: str) -> str:\n",
        "    text = text.lower()\n",
        "    text = pattern.sub(' ', text)\n",
        "    text = emoji.replace_emoji(text, replace='')  ## emoji 삭제\n",
        "    text = url_pattern.sub('', text)  ## url 삭제\n",
        "    text = re.sub(r'[`,/()*#\\[\\]]+', '', text)   \n",
        "    text = re.sub(r'[ㅜㅠ]+', '눈물', text)      \n",
        "    text = re.sub(r'\\.+', '.', text)   \n",
        "    text = re.sub(r'!+', '!', text)    \n",
        "    text = re.sub(r'~+', '~', text)   \n",
        "    text = re.sub(r'\\s+', ' ', text)  ## 다중 공백 제거\n",
        "    text = text.strip()\n",
        "    text = repeat_normalize(text, num_repeats=2)\n",
        "    return text"
      ],
      "metadata": {
        "id": "OUx4eV3XPaHg"
      },
      "execution_count": 21,
      "outputs": []
    },
    {
      "cell_type": "code",
      "source": [
        "def preprocessing(text: str) -> str:\n",
        "    text = minor2major(text, emoji_dict)\n",
        "    text = clean_text(text)\n",
        "    return text"
      ],
      "metadata": {
        "id": "Iy0E9HTOUdOI"
      },
      "execution_count": 22,
      "outputs": []
    },
    {
      "cell_type": "code",
      "source": [
        "df['text'] = df['text'].apply(preprocessing)\n",
        "tidy_df['text'] = tidy_df['text'].apply(preprocessing)\n",
        "\n",
        "valid['text'] = valid['text'].apply(preprocessing)\n",
        "tidy_valid['text'] = tidy_valid['text'].apply(preprocessing)\n",
        "\n",
        "test['text'] = test['text'].apply(preprocessing)"
      ],
      "metadata": {
        "id": "Mt5vPZsNCm7U"
      },
      "execution_count": 23,
      "outputs": []
    },
    {
      "cell_type": "code",
      "source": [
        "tokenizer = AutoTokenizer.from_pretrained(MODEL_PATHS[MODEL_NAME])  "
      ],
      "metadata": {
        "id": "ZbvYYzVWUdp0",
        "colab": {
          "base_uri": "https://localhost:8080/",
          "height": 113,
          "referenced_widgets": [
            "e0bbe8a17b624eb6b8ffdc3c984d158c",
            "9f7ab87251134c82b506ac8727449851",
            "6fb59daee0bb43e094320166948ab674",
            "9f680686490a445da2e7f7e1e22d68fe",
            "bfb8152acbb14b1399902979077a30e5",
            "1e5009c741e74d05b7ef994d8bb8431d",
            "92422550fe534e939e1807b616aecf71",
            "dced3b9e16c145bfac49afe388514404",
            "7567791fbdac46beae61d2e2461427d1",
            "ffcb1b2fd76f4a3987f175d9d9951675",
            "5cb38230c1fe4b87ab5ae6cc87f659cd",
            "8717c487617b4121bb809a7ee771a19d",
            "9092aa03d3e1474abbb3a54300f890d0",
            "ccf6a9ce6bd141a189c3f37be100fd23",
            "61995966928d4e98b61dd7374f020834",
            "25d13ad9e72041d2ace2f1dfb1d19115",
            "5af1f654829742769d8760604c10153d",
            "ef08fc5e1b534925ae924f204e2c28ef",
            "43ce0f82895c417d8aa094c94afd2b96",
            "cdd9ad27e3124fda96fc2c9a753f7749",
            "a191d5277e6947b89c1404850b88f347",
            "d1371d4d89e74bfb9a8a9b8ff9a62dff",
            "cfecc5a63f124f56b5e0f9ce6b9e2f09",
            "ed1ee9f9cd3a41ddafe31d909a0f00ab",
            "a83afcc5b45a457d9d77e13dc6b60f83",
            "88da87486f4e45249f98f4982b58eb70",
            "77b9cdfbd3c445feadb3292821b792d3",
            "3e66530678524df5888c5030a0ea41bd",
            "d2f4527b389046918d7714b5a9ea87e5",
            "f1a30ce4cd6745d19438c094116ba869",
            "e4512cfbf04a434c8eac894caec85899",
            "733ee8063baa4cd7be5ac1bac9bdc523",
            "fcf31e58df45461e9a0c4b4c16884c38"
          ]
        },
        "outputId": "a1e8a1ed-d190-405d-8f41-d0d94ab664fc"
      },
      "execution_count": null,
      "outputs": [
        {
          "output_type": "display_data",
          "data": {
            "text/plain": [
              "Downloading:   0%|          | 0.00/56.0 [00:00<?, ?B/s]"
            ],
            "application/vnd.jupyter.widget-view+json": {
              "version_major": 2,
              "version_minor": 0,
              "model_id": "e0bbe8a17b624eb6b8ffdc3c984d158c"
            }
          },
          "metadata": {}
        },
        {
          "output_type": "display_data",
          "data": {
            "text/plain": [
              "Downloading:   0%|          | 0.00/468 [00:00<?, ?B/s]"
            ],
            "application/vnd.jupyter.widget-view+json": {
              "version_major": 2,
              "version_minor": 0,
              "model_id": "8717c487617b4121bb809a7ee771a19d"
            }
          },
          "metadata": {}
        },
        {
          "output_type": "display_data",
          "data": {
            "text/plain": [
              "Downloading:   0%|          | 0.00/214k [00:00<?, ?B/s]"
            ],
            "application/vnd.jupyter.widget-view+json": {
              "version_major": 2,
              "version_minor": 0,
              "model_id": "cfecc5a63f124f56b5e0f9ce6b9e2f09"
            }
          },
          "metadata": {}
        }
      ]
    },
    {
      "cell_type": "markdown",
      "source": [
        "- 텍스트 길이"
      ],
      "metadata": {
        "id": "tW559dmLTeSl"
      }
    },
    {
      "cell_type": "code",
      "source": [
        "train_texts = df['text'].values"
      ],
      "metadata": {
        "id": "cfDJiexqQPzo"
      },
      "execution_count": null,
      "outputs": []
    },
    {
      "cell_type": "code",
      "source": [
        "texts_len = list(map(len, train_texts))"
      ],
      "metadata": {
        "id": "e814DtteEhXB"
      },
      "execution_count": null,
      "outputs": []
    },
    {
      "cell_type": "code",
      "source": [
        "plt.boxplot(texts_len)\n",
        "print('25%: ', np.quantile(texts_len, q=0.25))\n",
        "print('50%: ', np.quantile(texts_len, q=0.5))\n",
        "print('75%: ', np.quantile(texts_len, q=0.75))\n",
        "print('85%: ', np.quantile(texts_len, q=0.85))\n",
        "print('90%: ', np.quantile(texts_len, q=0.9))\n",
        "print('95%: ', np.quantile(texts_len, q=0.95))\n",
        "print('99%: ', np.quantile(texts_len, q=0.99))\n",
        "print('99.9%: ', np.quantile(texts_len, q=0.999))\n",
        "plt.title('Text Length', fontsize=15)\n",
        "plt.show()"
      ],
      "metadata": {
        "colab": {
          "base_uri": "https://localhost:8080/",
          "height": 429
        },
        "id": "Yim33Nn-MYZ-",
        "outputId": "20d63bba-23e1-4dcf-c557-baea36d1e67f"
      },
      "execution_count": null,
      "outputs": [
        {
          "output_type": "stream",
          "name": "stdout",
          "text": [
            "25%:  19.0\n",
            "50%:  30.0\n",
            "75%:  43.0\n",
            "85%:  52.0\n",
            "90%:  59.0\n",
            "95%:  71.0\n",
            "99%:  96.0\n",
            "99.9%:  135.0\n"
          ]
        },
        {
          "output_type": "display_data",
          "data": {
            "text/plain": [
              "<Figure size 432x288 with 1 Axes>"
            ],
            "image/png": "[encoded data removed]"
          },
          "metadata": {
            "needs_background": "light"
          }
        }
      ]
    },
    {
      "cell_type": "markdown",
      "source": [
        "- 토큰 길이"
      ],
      "metadata": {
        "id": "w7v4Q5Y3UcEF"
      }
    },
    {
      "cell_type": "code",
      "source": [
        "tokens_len = []\n",
        "for text in tqdm(train_texts):\n",
        "    inputs = tokenizer(\n",
        "            text, \n",
        "            return_tensors='pt',\n",
        "            truncation=True,\n",
        "            max_length=100,\n",
        "            pad_to_max_length=True,\n",
        "            add_special_tokens=True\n",
        "        )\n",
        "    inputs = torch.sum(inputs['attention_mask'])\n",
        "    tokens_len.append(inputs)"
      ],
      "metadata": {
        "colab": {
          "base_uri": "https://localhost:8080/",
          "height": 49,
          "referenced_widgets": [
            "c95000569fc247bb927f82dec6c613a1",
            "745b021c6ff04cd1971a52b4976eb248",
            "59853f6152a24a1ba46d71f5efc60b87",
            "cf3952ddc5d640c9aecb8af5ca7ee150",
            "685ef703757c4649985b07b61d3c81cd",
            "b39c655676d744d1806c38769dc52422",
            "0213dc66dfbf4a0b874024229b1d2fa2",
            "cdd7cdfc193b4f9ebd44df9e4beff470",
            "01d3da1e2c7e4e009f20e6a3e8bb4291",
            "95c0e012c2e44257858edfe155ca2aec",
            "689b530ba29d488e82e9b2ef3d0ee394"
          ]
        },
        "id": "bD_eSH3KUsM_",
        "outputId": "6737aaf2-2057-497c-d2bd-0a65f82ec177"
      },
      "execution_count": null,
      "outputs": [
        {
          "output_type": "display_data",
          "data": {
            "text/plain": [
              "  0%|          | 0/3001 [00:00<?, ?it/s]"
            ],
            "application/vnd.jupyter.widget-view+json": {
              "version_major": 2,
              "version_minor": 0,
              "model_id": "c95000569fc247bb927f82dec6c613a1"
            }
          },
          "metadata": {}
        }
      ]
    },
    {
      "cell_type": "code",
      "source": [
        "plt.boxplot(tokens_len)\n",
        "print('25%: ', np.quantile(tokens_len, q=0.25))\n",
        "print('50%: ', np.quantile(tokens_len, q=0.5))\n",
        "print('75%: ', np.quantile(tokens_len, q=0.75))\n",
        "print('85%: ', np.quantile(tokens_len, q=0.85))\n",
        "print('90%: ', np.quantile(tokens_len, q=0.9))\n",
        "print('95%: ', np.quantile(tokens_len, q=0.95))\n",
        "print('99%: ', np.quantile(tokens_len, q=0.99))\n",
        "print('99.9%: ', np.quantile(tokens_len, q=0.999))\n",
        "plt.title('Token Length', fontsize=15)\n",
        "plt.show()"
      ],
      "metadata": {
        "colab": {
          "base_uri": "https://localhost:8080/",
          "height": 429
        },
        "id": "FJDc_X4BMbmt",
        "outputId": "e390a083-891b-48f1-8617-7418d8008620"
      },
      "execution_count": null,
      "outputs": [
        {
          "output_type": "stream",
          "name": "stdout",
          "text": [
            "25%:  10.0\n",
            "50%:  13.0\n",
            "75%:  19.0\n",
            "85%:  22.0\n",
            "90%:  25.0\n",
            "95%:  29.0\n",
            "99%:  40.0\n",
            "99.9%:  53.0\n"
          ]
        },
        {
          "output_type": "display_data",
          "data": {
            "text/plain": [
              "<Figure size 432x288 with 1 Axes>"
            ],
            "image/png": "[encoded data removed]"
          },
          "metadata": {
            "needs_background": "light"
          }
        }
      ]
    },
    {
      "cell_type": "markdown",
      "source": [
        "- 산점도"
      ],
      "metadata": {
        "id": "IEhW_BBe2AcL"
      }
    },
    {
      "cell_type": "code",
      "source": [
        "plt.plot(texts_len, tokens_len, '.', alpha=0.05)"
      ],
      "metadata": {
        "colab": {
          "base_uri": "https://localhost:8080/",
          "height": 283
        },
        "id": "R9V-S7242BFS",
        "outputId": "3415b48a-8eee-45c6-e7ab-28520c0652aa"
      },
      "execution_count": null,
      "outputs": [
        {
          "output_type": "execute_result",
          "data": {
            "text/plain": [
              "[<matplotlib.lines.Line2D at 0x7fbc626a3bd0>]"
            ]
          },
          "metadata": {},
          "execution_count": 112
        },
        {
          "output_type": "display_data",
          "data": {
            "text/plain": [
              "<Figure size 432x288 with 1 Axes>"
            ],
            "image/png": "[encoded data removed]"
          },
          "metadata": {
            "needs_background": "light"
          }
        }
      ]
    },
    {
      "cell_type": "markdown",
      "source": [
        "`-` $\\text{토큰 길이} \\times 2 \\approx \\text{텍스트 길이}$"
      ],
      "metadata": {
        "id": "OTtW53cR2haD"
      }
    },
    {
      "cell_type": "markdown",
      "source": [
        "## 라벨링"
      ],
      "metadata": {
        "id": "ZW52jK4pGLo_"
      }
    },
    {
      "cell_type": "markdown",
      "source": [
        "- Reference\n",
        "\n",
        "신경식(2019). 연구용 빅데이터 레파지토리 [http://www.drbr.or.kr]. 한국경영학회.\n",
        "Shin, K-s (2019). Data Repository for Business Research [http://www.drbr.or.kr]. The Korean Academic Society of Business Administration."
      ],
      "metadata": {
        "id": "9ocl_kyPGmLu"
      }
    },
    {
      "cell_type": "markdown",
      "source": [
        "`-` 상품평에 실제 등장한 aspect term과 aspect term의 상위개념인 aspect category 20개로 구성되어 있다\n",
        "\n",
        "`-` polarity는 각 속성에 대한 감성을 positive와 negative로 분류하였다."
      ],
      "metadata": {
        "id": "Nr3rNP51Hi0A"
      }
    },
    {
      "cell_type": "code",
      "source": [
        "df2 = pd.read_excel('./data/sentiment_dataset.xlsx', engine='openpyxl')"
      ],
      "metadata": {
        "id": "MyPzxuBdLIul"
      },
      "execution_count": 48,
      "outputs": []
    },
    {
      "cell_type": "code",
      "source": [
        "df2['aspect category'].value_counts()"
      ],
      "metadata": {
        "colab": {
          "base_uri": "https://localhost:8080/"
        },
        "id": "UmHViwycH9a2",
        "outputId": "d33d120e-88e6-4f04-83c4-158feee33121"
      },
      "execution_count": null,
      "outputs": [
        {
          "output_type": "execute_result",
          "data": {
            "text/plain": [
              "색상     4031\n",
              "발색     1102\n",
              "배송     1012\n",
              "지속력     869\n",
              "발림      651\n",
              "가격      624\n",
              "각질      507\n",
              "착색      332\n",
              "보습      192\n",
              "품질      139\n",
              "향       133\n",
              "사은품      83\n",
              "질감       71\n",
              "용량       65\n",
              "감촉       46\n",
              "포장       38\n",
              "기능       35\n",
              "용기       32\n",
              "성분       27\n",
              "서비스      11\n",
              "Name: aspect category, dtype: int64"
            ]
          },
          "metadata": {},
          "execution_count": 143
        }
      ]
    },
    {
      "cell_type": "code",
      "source": [
        "mapping_dict = {\n",
        "        '색상':'제품 전체#디자인',\n",
        "        '발색':'본품#품질',\n",
        "        '지속력':'본품#품질',\n",
        "        '발림':'본품#품질',\n",
        "        '가격':'제품 전체#가격',\n",
        "        '각질':'본품#품질',\n",
        "        '보습':'본품#품질',\n",
        "        '품질':'제품 전체#품질',\n",
        "        '향':'본품#일반',\n",
        "        '용량':'본품#일반',\n",
        "        '기능':'본품#품질',\n",
        "        '성분':'본품#품질',\n",
        "    }"
      ],
      "metadata": {
        "id": "tCciUDPSLl-8"
      },
      "execution_count": 26,
      "outputs": []
    },
    {
      "cell_type": "markdown",
      "source": [
        "`-` 해당 데이터셋의 aspect category를 해결하고자 하는 연구 문제의 속성 개체로 바로 매핑할 수 없다\n",
        "\n",
        "`-` 예컨대 aspect category가 `색상`이라 하더라도 `제품 전체#디자인`인지 `본품#디자인`인지 `패키지/구성품#디자인`인지 모르기 때문이다\n",
        "\n",
        "`-` 이는 다른 aspect category도 마찬가지이다\n",
        "\n",
        "`-` 또한 해당 데이터셋은 하나의 aspect category에 하나의 polarity만 가지고 있지만 두 개 이상의 aspect category를 언급하고 있는 텍스트를 심심치 않게 볼 수 있다\n",
        "\n",
        "`-` 그리하여 연구 문제에서 주어진 데이터셋을 학습한 모델로 해당 데이터셋의 속성 개체와 극성을 예측한 후 해당 예측값을 라벨로 사용하기로 하겠다\n",
        "\n",
        "`-` 단, 모델의 분류 능력이 완벽한 것이 아니기에 잘못 라벨링된 데이터가 필연적으로 존재할 수 밖에 없는 단점이 있다\n",
        "\n",
        "`-` 분류 성능을 향상시키기 위해 해당 데이터셋에서 정의된 aspect category를 사용하겠다\n",
        "\n",
        "`-` 만약 주어진 aspect category가 색상이라면 모델의 아웃풋 중 디자인 컬럼들에 대해 가장 확률이 큰 디자인 컬럼을 확률에 관계없이 수용하고 이때의 라벨은 polarity로 정한다  "
      ],
      "metadata": {
        "id": "jm5HdYXcIL81"
      }
    },
    {
      "cell_type": "code",
      "source": [
        "df2['aspect category'] = df2['aspect category'].apply(lambda x: [mapping_dict[x]] if x in mapping_dict.keys() else np.nan)"
      ],
      "metadata": {
        "id": "aswg6RO6L77G"
      },
      "execution_count": 49,
      "outputs": []
    },
    {
      "cell_type": "code",
      "source": [
        "df2 = df2.dropna().reset_index().drop(['index', 'aspect term'], axis=1)"
      ],
      "metadata": {
        "id": "VWkXkf67MV01"
      },
      "execution_count": 50,
      "outputs": []
    },
    {
      "cell_type": "code",
      "source": [
        "df2['review'] = df2['review'].apply(preprocessing)"
      ],
      "metadata": {
        "id": "7YqREMUbA6iw"
      },
      "execution_count": 51,
      "outputs": []
    },
    {
      "cell_type": "code",
      "source": [
        "df2['polarity'] = df2['polarity'].apply(lambda x: [x])"
      ],
      "metadata": {
        "id": "yLUp7Qh4MjcN"
      },
      "execution_count": 52,
      "outputs": []
    },
    {
      "cell_type": "code",
      "source": [
        "df2['id'] = [str(id).zfill(5) for id in range(df.shape[0]+1, df.shape[0]+df2.shape[0]+1)]"
      ],
      "metadata": {
        "id": "W1IJcZ_lN5Ad"
      },
      "execution_count": 53,
      "outputs": []
    },
    {
      "cell_type": "code",
      "source": [
        "df2 = df2.rename(columns={'review':'text', 'aspect category':'entity_property', 'polarity':'sentiment'})"
      ],
      "metadata": {
        "id": "Gucfo_5CJS79"
      },
      "execution_count": 54,
      "outputs": []
    },
    {
      "cell_type": "code",
      "source": [
        "df2 = df2[['id', 'text', 'entity_property',\t'sentiment']]"
      ],
      "metadata": {
        "id": "ah82xZaXgKCJ"
      },
      "execution_count": 57,
      "outputs": []
    },
    {
      "cell_type": "markdown",
      "source": [
        "## 모델 학습 방법"
      ],
      "metadata": {
        "id": "-KgtTAmF710T"
      }
    },
    {
      "cell_type": "markdown",
      "source": [
        "`-` muti class와 muti label의 차이: https://medium.com/analytics-vidhya/multi-label-classification-a9643d221954\n",
        "\n",
        "`-` 두개의 task를 한 번에 진행할 필요는 없다 (난이도도 다르니 모델 학습 속도도 다름)\n",
        "\n",
        "`-` 개체 속성 분류: muti label classification with single class\n",
        "\n",
        "`-` 감성 분류: muti class classification\n",
        "\n",
        "`-` 개체 속성 분류 train, validate ---> 감성 분류 train, validate ---> ABSA validate\n",
        "\n",
        "`-` 개체 속성은 존재하면 1, 아니면 0으로 라벨링 ---> BCEWithlogitsloss ---> 1인 개체 속성에 대해서만 각각 감성분류\n",
        "\n",
        "`-` 감성 분류에서는 text_pair 인자에 개체 속성을 넘겨줌 ---> CrossEntropy"
      ],
      "metadata": {
        "id": "R30nCuqz73wy"
      }
    },
    {
      "cell_type": "markdown",
      "source": [
        "`-` 개체 속성별로 긍정 데이터 개수의 균형이 맞지 않는다  \n",
        "\n",
        "`-` 예컨대 `본품#인지도`는 3001개의 텍스트 중에서 오직 1번만 나타난다 (긍정 데이터의 개수가 1이다)\n",
        "\n",
        "`-` 반면에 `본품#품질`의 경우 긍정 데이터가 1196개의 텍스트에 존재한다\n",
        "\n",
        "`-` 즉, 3001개의 텍스트를 학습시키는데 `본품#인지도`는 부정(0)인 경우만 과하게 학습하고 `본품#품질`는 다른 개체 속성에 비해 긍정인 경우를 과하게 학습한다\n",
        "\n",
        "`-` 클래스별로 가중치를 주어 클래스별로 균형있게 학습되도록 하자\n",
        "\n",
        "`-` 또한 클래스 각각의 라벨별로 가중치를 주어 클래스별로 긍정, 부정 데이터가 균형있게 학습되도록 하자 \n",
        "\n",
        "`-` 미니배치 단위로 학습하므로 `pos_weight` 만으로는 클래스와 라벨별로 균형있게 학습할 수 없다\n",
        "\n",
        "`-` `본품#인지도`의 경우 1개의 긍정 라벨의 매우 큰 가중치를 주더라도 하나의 미니배치에서만 영향력을 행사하고 그 뒤로는 나머지 클래스에 의해 학습 방향이 조절된다\n",
        "\n",
        "`-` 긍정 라벨의 개수가 30보다 작은 개체 속성에 경우 데이터가 너무 적다고 판단해 `pos_weight`를 1로 부여했다\n",
        "\n",
        "`-` 적은 확신을 가지고 예측하는 것은 f1 score에 악영향을 끼친다\n",
        "\n",
        "`-` 예측을 하지 않으면 FN만 1이 증가되지만 예측을 했다가 틀리면 FN, FP 둘다 1씩 증가하기 때문\n",
        "\n",
        "`-` 따라서, 라벨 스무딩값을 작게 줘야 한다 (pos_weight도 마찬가지)"
      ],
      "metadata": {
        "id": "qXD2Hx-SjWjy"
      }
    },
    {
      "cell_type": "markdown",
      "metadata": {
        "id": "8R8eEwVqa-Yw"
      },
      "source": [
        "## 모델 학습 준비"
      ]
    },
    {
      "cell_type": "code",
      "execution_count": 58,
      "metadata": {
        "id": "n8LBsMPybBJx"
      },
      "outputs": [],
      "source": [
        "import torch\n",
        "import torch.nn as nn\n",
        "import torch.optim as optim\n",
        "import torch.nn.functional as F\n",
        "from torch import Tensor\n",
        "from torch.utils.data import Dataset, DataLoader\n",
        "from torch.optim.lr_scheduler import _LRScheduler\n",
        "from torch.nn.modules.loss import _Loss\n",
        "from torch.optim import Optimizer\n",
        "\n",
        "from transformers import AdamW\n",
        "from transformers.optimization import get_linear_schedule_with_warmup\n",
        "from transformers import AutoTokenizer, AutoModelForSequenceClassification"
      ]
    },
    {
      "cell_type": "code",
      "execution_count": 59,
      "metadata": {
        "colab": {
          "base_uri": "https://localhost:8080/"
        },
        "id": "VHaG21kBKVPp",
        "outputId": "5990ca26-a05e-4de9-eb0a-666b0e2065ad"
      },
      "outputs": [
        {
          "output_type": "stream",
          "name": "stdout",
          "text": [
            "현재 device는 cuda입니다\n"
          ]
        }
      ],
      "source": [
        "DEVICE = torch.device('cuda' if torch.cuda.is_available() else 'cpu')\n",
        "print(f'현재 device는 {DEVICE}입니다')"
      ]
    },
    {
      "cell_type": "code",
      "execution_count": 60,
      "metadata": {
        "id": "Bs1K4etzcwE-"
      },
      "outputs": [],
      "source": [
        "def seed_everything(seed: int) -> None:\n",
        "    random.seed(seed)\n",
        "    os.environ['PYTHONHASHSEED'] = str(seed)\n",
        "    np.random.seed(seed)\n",
        "    torch.manual_seed(seed)\n",
        "    torch.cuda.manual_seed(seed)\n",
        "    torch.backends.cudnn.deterministic = True\n",
        "    torch.backends.cudnn.benchmark = True"
      ]
    },
    {
      "cell_type": "code",
      "execution_count": 61,
      "metadata": {
        "id": "Ts-GMlTEn_YX"
      },
      "outputs": [],
      "source": [
        "def clear_gpu() -> None:\n",
        "    gc.collect()\n",
        "    torch.cuda.empty_cache()"
      ]
    },
    {
      "cell_type": "markdown",
      "source": [
        "- 전처리"
      ],
      "metadata": {
        "id": "7_UxbAtlje5C"
      }
    },
    {
      "cell_type": "code",
      "source": [
        "only_valid_entity_columns = list(set(tidy_valid['entity_property'].unique()) - set(tidy_df['entity_property'].unique()))\n",
        "only_valid_entity_ids = tidy_valid.query('entity_property == @only_valid_entity_columns')['id'].to_numpy().tolist()"
      ],
      "metadata": {
        "id": "uTLfzepyf829"
      },
      "execution_count": 62,
      "outputs": []
    },
    {
      "cell_type": "code",
      "source": [
        "valid = valid.query('id not in @only_valid_entity_ids').reset_index().drop('index', axis=1)\n",
        "tidy_valid = tidy_valid.query('id not in @only_valid_entity_ids').reset_index().drop('index', axis=1)"
      ],
      "metadata": {
        "id": "1eK9GCSGgrAt"
      },
      "execution_count": 63,
      "outputs": []
    },
    {
      "cell_type": "code",
      "source": [
        "df3 = pd.concat([df, df2], axis=0).reset_index().drop('index', axis=1)"
      ],
      "metadata": {
        "id": "Mng8Hap5ggef"
      },
      "execution_count": 66,
      "outputs": []
    },
    {
      "cell_type": "code",
      "source": [
        "tidy_df = to_tidy(df3)"
      ],
      "metadata": {
        "id": "ICkSom8dg0Sw"
      },
      "execution_count": 78,
      "outputs": []
    },
    {
      "cell_type": "markdown",
      "source": [
        "- 라벨 인코딩"
      ],
      "metadata": {
        "id": "kJ5dIzUNu-PV"
      }
    },
    {
      "cell_type": "code",
      "source": [
        "ACD_ENCODER = MultiLabelBinarizer()\n",
        "ACD_ENCODER.fit(df3['entity_property'])\n",
        "\n",
        "ASC_ENCODER = LabelEncoder()\n",
        "ASC_ENCODER.fit(tidy_df['sentiment'])"
      ],
      "metadata": {
        "id": "w_U-RcKqPDhS",
        "colab": {
          "base_uri": "https://localhost:8080/"
        },
        "outputId": "16b65c46-682c-47ad-ddd4-8be6970c8436"
      },
      "execution_count": 80,
      "outputs": [
        {
          "output_type": "execute_result",
          "data": {
            "text/plain": [
              "LabelEncoder()"
            ]
          },
          "metadata": {},
          "execution_count": 80
        }
      ]
    },
    {
      "cell_type": "markdown",
      "metadata": {
        "id": "VqF9HjyEEelg"
      },
      "source": [
        "- 데이터 셋과 데이터 로더"
      ]
    },
    {
      "cell_type": "code",
      "source": [
        "class ACDDataset(Dataset):\n",
        "    \"\"\"\n",
        "    개체 속성 분류\n",
        "    dataframe을 df의 인자로 받는다\n",
        "    \"\"\"\n",
        "\n",
        "    def __init__(\n",
        "        self, \n",
        "        df: pd.DataFrame,\n",
        "        tokenizer: AutoTokenizer,\n",
        "        max_len: int = 128\n",
        "    ) -> None:\n",
        "        self.df = df\n",
        "        self.tokenizer = tokenizer\n",
        "        self.max_len = max_len\n",
        "    \n",
        "    def __getitem__(self, idx: int) -> Dict[str, List[Tensor]]:\n",
        "        text = self.df.text[idx]\n",
        "        entity_property = self.df.entity_property[idx]\n",
        "\n",
        "        inputs = self.tokenizer(\n",
        "            text, \n",
        "            return_tensors='pt',\n",
        "            truncation=True,\n",
        "            max_length=self.max_len,\n",
        "            pad_to_max_length=True,\n",
        "            add_special_tokens=True\n",
        "        )\n",
        "                \n",
        "        input_ids = inputs['input_ids'][0]\n",
        "        attention_mask = inputs['attention_mask'][0]    \n",
        "\n",
        "        if entity_property:  ## test는 라벨(개체 속성)이 없다\n",
        "            if isinstance(entity_property, list):   ## untidy dataframe (for ACD)\n",
        "                label = entity_property \n",
        "            elif isinstance(entity_property, str):  ## tidy dataframe (for ASC)\n",
        "                label = [entity_property]\n",
        "            label = torch.FloatTensor(ACD_ENCODER.transform([label]))[0]\n",
        "            return {'ACD':[input_ids, attention_mask, label]}\n",
        "        return {'ACD':[input_ids, attention_mask]}   \n",
        "\n",
        "    def __len__(self) -> int:\n",
        "        return self.df.shape[0]"
      ],
      "metadata": {
        "id": "6cBvBVca7yeC"
      },
      "execution_count": 74,
      "outputs": []
    },
    {
      "cell_type": "code",
      "source": [
        "class ABSADataset(Dataset):\n",
        "    \"\"\"\n",
        "    감성 분류하면서 ABSA에 대한 평가도 진행\n",
        "    tidy dataframe을 df의 인자로 받는다\n",
        "    \"\"\"\n",
        "\n",
        "    def __init__(\n",
        "        self, \n",
        "        df: pd.DataFrame,\n",
        "        tokenizer: AutoTokenizer,\n",
        "        max_len: int = 128\n",
        "    ) -> None:\n",
        "        self.df = df\n",
        "        self.tokenizer = tokenizer\n",
        "        self.max_len = max_len\n",
        "    \n",
        "    def __getitem__(self, idx: int) -> Dict[str, List[Tensor]]:\n",
        "        text = self.df.text[idx]\n",
        "        entity_property = self.df.entity_property[idx]\n",
        "        sentiment = self.df.sentiment[idx]\n",
        "\n",
        "        text_pair = ' '.join(entity_property.split('#')).replace('/', ' ') if entity_property else None\n",
        "        acd_dataset = ACDDataset(self.df.iloc[[idx], :], self.tokenizer, self.max_len)[idx].get('ACD')\n",
        "        inputs = self.tokenizer(\n",
        "            text_pair,  ## MAX_LEN에 의해 속성 개체가 cut 되면 안되니 앞 문장에 배치\n",
        "            text,\n",
        "            return_tensors='pt',\n",
        "            truncation=True,\n",
        "            max_length=self.max_len,\n",
        "            pad_to_max_length=True,\n",
        "            add_special_tokens=True\n",
        "        )\n",
        "                \n",
        "        input_ids = inputs['input_ids'][0]\n",
        "        attention_mask = inputs['attention_mask'][0]\n",
        "        token_type_ids = inputs['token_type_ids'][0]\n",
        "\n",
        "        if sentiment:\n",
        "            label = torch.LongTensor(ASC_ENCODER.transform([sentiment]))[0]\n",
        "            return {'ACD':acd_dataset, \n",
        "                    'ASC':[input_ids, attention_mask, token_type_ids, label]}\n",
        "\n",
        "        return {'ACD':acd_dataset, \n",
        "                'ASC':[input_ids, attention_mask, token_type_ids]}\n",
        "\n",
        "    def __len__(self) -> int:\n",
        "        return self.df.shape[0]"
      ],
      "metadata": {
        "id": "qrr0GvDNjB_6"
      },
      "execution_count": 75,
      "outputs": []
    },
    {
      "cell_type": "markdown",
      "metadata": {
        "id": "OdJ4NrlutzeQ"
      },
      "source": [
        "- 손실 함수"
      ]
    },
    {
      "cell_type": "code",
      "source": [
        "class LabelSmoothingBCEWithLogitsLoss(nn.BCEWithLogitsLoss):\n",
        "    def __init__(self,\n",
        "                 weight: Optional[Tensor] = None, \n",
        "                 size_average: Optional[bool] = None, \n",
        "                 reduce: Optional[bool] = None, \n",
        "                 reduction: str = 'mean',\n",
        "                 pos_weight: Optional[Tensor] = None,\n",
        "                 label_smoothing: float = 0.0\n",
        "    ) -> None:\n",
        "        if label_smoothing < 0.0 or label_smoothing > 1.0:\n",
        "           raise ValueError('label_smoothing must be between 0.0 and 1.0. Got: ', label_smoothing)\n",
        "\n",
        "        super(LabelSmoothingBCEWithLogitsLoss, self).__init__(weight, size_average, reduce, reduction, pos_weight)\n",
        "        self.label_smoothing = label_smoothing\n",
        "\n",
        "    def forward(self, input: Tensor, target: Tensor) -> Tensor:\n",
        "        smooth_target = target * (1.0 - self.label_smoothing) + 0.5*self.label_smoothing  ## single-class   \n",
        "        return F.binary_cross_entropy_with_logits(input, smooth_target,\n",
        "                                                  self.weight,\n",
        "                                                  pos_weight=self.pos_weight,\n",
        "                                                  reduction=self.reduction)"
      ],
      "metadata": {
        "id": "zVbG3KTMTSEa"
      },
      "execution_count": 76,
      "outputs": []
    },
    {
      "cell_type": "code",
      "source": [
        "class FocalLoss(_Loss):\n",
        "    def __init__(\n",
        "        self,\n",
        "        gamma: float = 2.0,\n",
        "        alpha: Optional[Tensor] = None, \n",
        "        label_smoothing: float = 0.0,\n",
        "        reduction: str = 'mean'\n",
        "    ) -> None:\n",
        "        super(FocalLoss, self).__init__()\n",
        "        self.gamma = gamma\n",
        "        self.alpha = alpha\n",
        "        self.reduction = reduction\n",
        "        self.label_smoothing = label_smoothing\n",
        "\n",
        "    def forward(self, input: Tensor, target: Tensor) -> Tensor:\n",
        "        ce_loss = F.cross_entropy(input, target, \n",
        "                                  self.alpha,\n",
        "                                  label_smoothing=self.label_smoothing,\n",
        "                                  reduction='none')\n",
        "        p_t = torch.exp(-ce_loss)  \n",
        "        loss = ce_loss * (1 - p_t)**self.gamma\n",
        "\n",
        "        if self.reduction == 'mean':\n",
        "            loss = loss.mean()\n",
        "        elif self.reduction == 'sum':\n",
        "            loss = loss.sum()\n",
        "        return loss"
      ],
      "metadata": {
        "id": "mC5wYhHt0X6_"
      },
      "execution_count": 77,
      "outputs": []
    },
    {
      "cell_type": "code",
      "source": [
        "## ACD\n",
        "acd_dict = tidy_df['entity_property'].value_counts().to_dict()\n",
        "acd_weight = torch.FloatTensor([1 - (acd_dict[cls] / sum(acd_dict.values())) for cls in ACD_ENCODER.classes_]).to(DEVICE)\n",
        "acd_pos_weight = torch.FloatTensor([[(df.shape[0] - acd_dict[cls]) / acd_dict[cls] if acd_dict[cls] > 30 else 1.0 \n",
        "                                     for cls in ACD_ENCODER.classes_]])  \n",
        "acd_pos_weight = np.clip(acd_pos_weight, a_min=1.0, a_max=1.5)  ## 1보다 크면 recall이 올라가고 1보다 작으면 precision이 올라간다 (trade off)\n",
        "acd_pos_weight = acd_pos_weight.to(DEVICE)\n",
        "\n",
        "acd_loss_fn = LabelSmoothingBCEWithLogitsLoss(weight=acd_weight, pos_weight=None, label_smoothing=LABEL_SMOOTHING)\n",
        "\n",
        "\n",
        "## ASC\n",
        "asc_dict = tidy_df['sentiment'].value_counts().to_dict()\n",
        "asc_weight = torch.FloatTensor([1 - (asc_dict[cls] / sum(asc_dict.values())) for cls in ASC_ENCODER.classes_])\n",
        "asc_weight = np.clip(asc_weight, a_min=0.25, a_max=1.0)\n",
        "asc_weight = asc_weight.to(DEVICE)\n",
        "\n",
        "asc_loss_fn = nn.CrossEntropyLoss(weight=None, label_smoothing=LABEL_SMOOTHING)\n",
        "# asc_loss_fn = FocalLoss(gamma=1.0, alpha=asc_weight, label_smoothing=LABEL_SMOOTHING)\n",
        "\n",
        "## Loss\n",
        "loss_fn = {'ACD':acd_loss_fn, 'ASC':asc_loss_fn}"
      ],
      "metadata": {
        "id": "nMzLVX0mQZAk"
      },
      "execution_count": 98,
      "outputs": []
    },
    {
      "cell_type": "markdown",
      "source": [
        "- early stopping"
      ],
      "metadata": {
        "id": "MBco8kR31jKg"
      }
    },
    {
      "cell_type": "code",
      "source": [
        "## Copyright (c) 2018 Bjarte Mehus Sunde\n",
        "## ref: https://github.com/Bjarten/early-stopping-pytorch/blob/master/pytorchtools.py\n",
        "class EarlyStopping:\n",
        "    \"\"\"주어진 patience 횟수 이후로 validation score가 개선되지 않으면 학습을 조기 중단\"\"\"\n",
        "    mode_dict = {'min':-1, 'max':1}\n",
        "    score_metrics = [\n",
        "        'accuracy',\n",
        "        'f1_score',\n",
        "    ]\n",
        "\n",
        "    def __init__(\n",
        "        self, \n",
        "        patience: int = 7, \n",
        "        monitor: str = 'loss', \n",
        "        mode: str = 'min', \n",
        "        min_delta: float = 0.0, \n",
        "        path: str = './weight', \n",
        "        model_name: str = '', \n",
        "        current_fold: int = 1\n",
        "    ) -> None:\n",
        "        \"\"\"\n",
        "        Args:\n",
        "            patience (int): score가 개선될 때까지 기다리는 에폭\n",
        "                            Default: 7\n",
        "                          \n",
        "            monitor (str): 값의 변화를 모니터링할 수치(score)\n",
        "                            Default: 'loss'\n",
        "\n",
        "            mode (str): score를 개선시킬 방식\n",
        "                            Default: 'min'\n",
        "\n",
        "            min_delta (float): 개선되었다고 인정되는 score의 최소 변화\n",
        "                            Default: 0.0\n",
        "\n",
        "            path (str): checkpoint 공통 저장 경로\n",
        "                            Default: './weight'\n",
        "\n",
        "            model_name (str): 학습시킬 모델의 이름\n",
        "                            Default: ''\n",
        "\n",
        "            current_fold (int): 현재 학습을 진행하는 fold의 순서\n",
        "                            Default: 1\n",
        "        \"\"\"\n",
        "        self.patience = patience\n",
        "        self.counter = 0\n",
        "        self.mode = mode\n",
        "        self.direction = self.mode_dict[mode]\n",
        "        self.monitor = monitor\n",
        "        self.best_score = -np.Inf\n",
        "        self.valid_loss = np.Inf\n",
        "        self.valid_metric_score = None  ## 평가지표 (i.g. accuracy)\n",
        "        self.early_stop = False\n",
        "        self.min_delta = min_delta\n",
        "        self.path = path\n",
        "        self.model_name = model_name\n",
        "        self.current_fold = current_fold\n",
        "\n",
        "    def __call__(\n",
        "        self, \n",
        "        model: nn.Module, \n",
        "        valid_loss: float, \n",
        "        valid_metric_score: Optional[float] = None\n",
        "    ) -> None:\n",
        "        ## score는 클수록 좋다\n",
        "        if self.monitor == 'loss':\n",
        "            score = valid_loss * self.direction\n",
        "        elif self.monitor in self.score_metrics:\n",
        "            score = valid_metric_score * self.direction\n",
        "        else:\n",
        "            score = None\n",
        "\n",
        "        ## score가 개선되었는지 확인\n",
        "        if score <= self.best_score + self.min_delta: \n",
        "            self.counter += 1 \n",
        "            if self.counter > self.patience:  ## 만약 score가 개선되지 않은 에폭이 patience 횟수보다 크다면 조기 중단\n",
        "                self.early_stop = True\n",
        "        else: \n",
        "            self.best_score = score \n",
        "            self.save_checkpoint(model, valid_loss, valid_metric_score) \n",
        "            self.counter = 0  ## score가 개선되었으므로 0으로 변경\n",
        "\n",
        "    def save_checkpoint(\n",
        "        self, \n",
        "        model: nn.Module, \n",
        "        valid_loss: float, \n",
        "        valid_metric_score: Optional[float] = None\n",
        "    ) -> None:\n",
        "        \"\"\"validation score가 개선되면 모델을 저장\"\"\"\n",
        "        torch.save(model.state_dict(), self.get_current_fold_path()) \n",
        "        self.valid_loss = valid_loss  ## 모델이 더 좋게 갱신되었으므로 이때의 valid loss를 기준치로 변경\n",
        "        self.valid_metric_score = valid_metric_score  ## 이때의 valid metric score도 변경해준다\n",
        "\n",
        "    def set_fold(self, current_fold: int) -> None:\n",
        "        self.current_fold = current_fold\n",
        "\n",
        "    def reset_score(self) -> None:\n",
        "        \"\"\"다음 fold 학습을 위해 score 관련 파라미터를 초기화\"\"\"\n",
        "        self.counter = 0\n",
        "        self.best_score = -np.Inf\n",
        "        self.valid_loss = np.Inf\n",
        "        self.valid_metric_score = None\n",
        "        self.early_stop = False\n",
        "\n",
        "    def check_early_stop(self) -> bool:\n",
        "        return self.early_stop\n",
        "\n",
        "    def get_current_fold_path(self) -> str:\n",
        "        return self.path + f'/{self.model_name}_best_{self.current_fold}.pt'\n",
        "\n",
        "    def set_path(self, path) -> None:\n",
        "        self.path = path"
      ],
      "metadata": {
        "id": "T355NBZ21kcw"
      },
      "execution_count": 85,
      "outputs": []
    },
    {
      "cell_type": "code",
      "source": [
        "early_stopping = EarlyStopping(patience=5,\n",
        "                               monitor='f1_score',\n",
        "                               mode='max',\n",
        "                               path=SAVE_PATHS['ACD'],\n",
        "                               model_name=MODEL_NAME,\n",
        "                               current_fold=1)  ## patience 횟수 에폭 후에도 검증 손실이 작아지지 않으면 조기 중단"
      ],
      "metadata": {
        "id": "_LyT_r461k3J"
      },
      "execution_count": 86,
      "outputs": []
    },
    {
      "cell_type": "markdown",
      "metadata": {
        "id": "3lq9uwAwJbZI"
      },
      "source": [
        "## 모델 학습 및 검증"
      ]
    },
    {
      "cell_type": "markdown",
      "source": [
        "- 텍스트"
      ],
      "metadata": {
        "id": "6ykSMVKnqeo7"
      }
    },
    {
      "cell_type": "code",
      "source": [
        "def under_half_max_to_1(arr, threshold=0.5):\n",
        "    if np.max(arr) < threshold:\n",
        "        arr[np.argmax(arr)] = 1.0\n",
        "    return arr"
      ],
      "metadata": {
        "id": "UgPbd-wqzMjH"
      },
      "execution_count": null,
      "outputs": []
    },
    {
      "cell_type": "code",
      "source": [
        "def train(\n",
        "        model: nn.Module,\n",
        "        dataloader: DataLoader, \n",
        "        task_type: str,\n",
        "        device: torch.device,\n",
        "        loss_fn: _Loss, \n",
        "        optimizer: Optimizer, \n",
        "        scheduler: Optional[_LRScheduler] = None\n",
        "    ) -> Tuple[nn.Module, float]:\n",
        "    \"\"\"dataloader의 데이터로 모델을 학습시킨 후 학습된 모델과 평균 배치 훈련 오차를 반환\"\"\"  \n",
        "    train_loss = 0.0  ## mini-batch 평균 훈련 오차 \n",
        "    model.to(device)\n",
        "    model.train()\n",
        "    scaler = torch.cuda.amp.GradScaler()\n",
        "\n",
        "    for batch in dataloader:  ## 미니 배치 단위로 꺼내온다\n",
        "        *args, y = [*(map(lambda tensor: tensor.to(device), batch[task_type]))]\n",
        "        with torch.cuda.amp.autocast():\n",
        "            y_hat = model(*args)[0]\n",
        "            loss = loss_fn(y_hat, y)  \n",
        "\n",
        "        scaler.scale(loss).backward()\n",
        "        scaler.step(optimizer)\n",
        "        scaler.update()\n",
        "        optimizer.zero_grad()  ## 그래디언트 초기화\n",
        "        train_loss += (loss.item() / len(dataloader)) \n",
        "  \n",
        "        ## 배치마다 학습률 조절\n",
        "        if scheduler is not None:\n",
        "            scheduler.step()\n",
        "        \n",
        "    return model, train_loss"
      ],
      "metadata": {
        "id": "GxZoGYxft9iu"
      },
      "execution_count": 87,
      "outputs": []
    },
    {
      "cell_type": "code",
      "source": [
        "def acd_evaluate(\n",
        "        model: nn.Module, \n",
        "        dataloader: DataLoader, \n",
        "        loss_fn: _Loss,\n",
        "        device: torch.device\n",
        "    ) -> Tuple[float, float]:\n",
        "    \"\"\"dataloader의 데이터를 모델이 평가한 후 평균 배치 검증 오차와 ACD f1 score를 반환\"\"\"\n",
        "    valid_loss = 0.0\n",
        "    y_array, yhat_array = np.array([]), np.array([])\n",
        "    model.to(device)\n",
        "    model.eval()  \n",
        "\n",
        "    with torch.no_grad():  ## 역전파를 계산할 필요가 없으니까\n",
        "        for batch in dataloader:  ## 미니 배치 단위로 꺼내온다\n",
        "            *args, y = [*(map(lambda tensor: tensor.to(device), batch['ACD']))]\n",
        "            y_hat = model(*args)[0]\n",
        "            loss = loss_fn(y_hat, y) \n",
        "            \n",
        "            y_hat = F.sigmoid(y_hat).detach().cpu().numpy()\n",
        "            # y_hat = np.apply_along_axis(under_half_max_to_1, 1, y_hat)  ## 텍스트에는 적어도 한 개의 개체 속성이 포함되어야 한다 (모든 train text는 한 개 이상의 개체 속성을 포함)\n",
        "            y_hat = np.where(y_hat >= 0.5, 1, 0) \n",
        "\n",
        "            y_array = np.concatenate([y_array, y.detach().cpu().numpy().reshape(-1)], axis=0)\n",
        "            yhat_array = np.concatenate([yhat_array, y_hat.reshape(-1)], axis=0)\n",
        "            valid_loss += (loss.item() / len(dataloader))\n",
        "            \n",
        "    valid_precision = precision_score(y_array, yhat_array)\n",
        "    valid_recall = recall_score(y_array, yhat_array)\n",
        "    valid_f1 = f1_score(y_array, yhat_array)\n",
        "    return valid_loss, valid_precision, valid_recall, valid_f1"
      ],
      "metadata": {
        "id": "IDntd-Gat9-d"
      },
      "execution_count": 88,
      "outputs": []
    },
    {
      "cell_type": "code",
      "source": [
        "def absa_evaluate(\n",
        "        acd_model: nn.Module,\n",
        "        asc_model: nn.Module,  \n",
        "        dataloader: DataLoader,\n",
        "        acd_model_weight_path: str,\n",
        "        loss_fn: _Loss,\n",
        "        device: torch.device\n",
        "    ) -> Tuple[float, float, float]:\n",
        "    \"\"\"dataloader의 데이터를 모델이 평가한 후 평균 배치 검증 오차와 (ACD, ABSA) f1 score를 반환\"\"\"\n",
        "    valid_loss = 0.0\n",
        "    asc_y_array, asc_yhat_array = np.array([]), np.array([])\n",
        "    absa_y_array, absa_yhat_array = np.array([]), np.array([])\n",
        "    acd_model.load_state_dict(torch.load(acd_model_weight_path , map_location=device))\n",
        "    acd_model.to(device)\n",
        "    asc_model.to(device)\n",
        "    acd_model.eval()\n",
        "    asc_model.eval() \n",
        "\n",
        "    with torch.no_grad():  ## 역전파를 계산할 필요가 없다\n",
        "        for batch in dataloader:  ## 미니 배치 단위로 꺼내온다\n",
        "            *acd_args, acd_y = [*(map(lambda tensor: tensor.to(device), batch['ACD']))]\n",
        "            *asc_args, asc_y = [*(map(lambda tensor: tensor.to(device), batch['ASC']))]\n",
        "            acd_y = acd_y.detach().cpu().numpy()  ## shape: (B, C)\n",
        "            \n",
        "            acd_yhat = F.sigmoid(acd_model(*acd_args)[0]).detach().cpu().numpy()\n",
        "            # acd_yhat = np.apply_along_axis(under_half_max_to_1, 1, acd_yhat)   ## 텍스트에는 적어도 한 개의 개체 속성이 포함되어야 한다\n",
        "            acd_yhat = np.where(acd_yhat >= 0.5, 1, 0)  ## shape: (B, C)\n",
        "            asc_yhat = asc_model(*asc_args)[0]\n",
        "            loss = loss_fn(asc_yhat, asc_y)  \n",
        "            asc_yhat = asc_yhat.argmax(-1).detach().cpu().numpy()\n",
        "\n",
        "            ## 개체 속성이 틀리다면 감성은 굳이 확인하지 않아도 된다\n",
        "            ## 개체 속성이 맞지만 감성이 틀렸다면 FP, FN 둘 다 1씩 증가시켜야 한다\n",
        "            ## true: [1(긍정), 0, 0, 0], pred: [1(긍정 X), 0, 0, 0] \n",
        "            ## 위와 같은 상황일 때 true: [1, 0, 0, 0], pred: [0, 0, 0, 0]와 같이 라벨링 하면 FN는 1이 증가하지만 FP는 증가하지 않음 \n",
        "            ## true(긍정, 긍정X): [[1, 0, 0, 0], [0, 0, 0, 0]] , pred(긍정, 긍정X): [[0, 0, 0, 0], [1, 0, 0, 0]], 따라서 이와 같이 라벨링 \n",
        "            ## 근데 위와 같이 차원의 낭비이고 단지 FP, FN만 1씩 증가시키면 된다\n",
        "            ## true: [1, 0, 0, 0] + [0] , pred: [0, 0, 0, 0] + [1], 따라서 이와 같이 라벨링\n",
        "            ## 근데 이렇게하면 차원이 안맞아서 차원을 하나 더 만들었다\n",
        "            for idx in range(len(acd_y)):\n",
        "                one_idx = np.where(acd_y[idx] == 1)  \n",
        "                if acd_yhat[idx][one_idx][0] == 1:   ## 개체 속성을 맞춘 경우\n",
        "                    if asc_y[idx] != asc_yhat[idx]:  ## 감성을 틀린 경우\n",
        "                        tmp_y = np.zeros_like(acd_y[idx])\n",
        "                        tmp_yhat = np.zeros_like(acd_yhat[idx])\n",
        "                        acd_yhat[idx][one_idx] = 0   ## FN\n",
        "                        tmp_yhat[one_idx] = 1        ## FP\n",
        "                        acd_y = np.concatenate([acd_y, tmp_y.reshape(1, -1)], axis=0)\n",
        "                        acd_yhat = np.concatenate([acd_yhat, tmp_yhat.reshape(1, -1)], axis=0)\n",
        "\n",
        "            asc_y_array = np.concatenate([asc_y_array, asc_y.detach().cpu().numpy()], axis=0)\n",
        "            asc_yhat_array = np.concatenate([asc_yhat_array, asc_yhat], axis=0)\n",
        "            absa_y_array = np.concatenate([absa_y_array, acd_y.reshape(-1)], axis=0)\n",
        "            absa_yhat_array = np.concatenate([absa_yhat_array, acd_yhat.reshape(-1)], axis=0)\n",
        "            valid_loss += (loss.item() / len(dataloader))\n",
        "\n",
        "    asc_valid_f1 = accuracy_score(asc_y_array, asc_yhat_array)  ## 감성(긍정, 부정, 중립)\n",
        "    absa_valid_f1 = f1_score(absa_y_array, absa_yhat_array)\n",
        "    return valid_loss, asc_valid_f1, absa_valid_f1"
      ],
      "metadata": {
        "id": "8g4bQ3OgLMQJ"
      },
      "execution_count": 89,
      "outputs": []
    },
    {
      "cell_type": "code",
      "source": [
        "def deep_ensemble(\n",
        "        models: Dict[str, nn.Module], \n",
        "        acd_train_df: pd.DataFrame,\n",
        "        acd_valid_df: pd.DataFrame,\n",
        "        absa_train_df: pd.DataFrame,\n",
        "        absa_valid_df: pd.DataFrame,\n",
        "        tokenizer: AutoTokenizer,\n",
        "        loss_fn: Dict[str, _Loss], \n",
        "        early_stopping: EarlyStopping,\n",
        "        seeds: List[int],\n",
        "        device: torch.device\n",
        "    ) -> Tuple[Dict[str, nn.Module], List[List[float]], List[List[float]], List[List[float]], List[List[float]]]:\n",
        "    \"\"\"\n",
        "    K겹 교차검증을 통해 모델의 성능을 평가하고 학습된 모델과 폴드별 훈련 손실, 폴드별 검증 손실을 반환\n",
        "    개체 속성 분류에 대해서만 학습과 검증 후 감성 분류에 대해서 학습과 검증 그리고 ABSA 평가를 진행\n",
        "     \"\"\"\n",
        "    num_folds = len(seeds)   \n",
        "    acd_fold_train_losses_per_epoch = [[] for _ in range(num_folds)]  ## ACD: 폴드별 1 에폭에 따른 훈련 배치 손실\n",
        "    acd_fold_valid_losses_per_epoch = [[] for _ in range(num_folds)]  ## ACD: 폴드별 1 에폭에 따른 검증 배치 손실\n",
        "    asc_fold_train_losses_per_epoch = [[] for _ in range(num_folds)]  ## ASC\n",
        "    asc_fold_valid_losses_per_epoch = [[] for _ in range(num_folds)]  ## ASC\n",
        "\n",
        "    for fold, seed in enumerate(seeds):\n",
        "        seed_everything(seed)  ## 정확한 재현을 위함\n",
        "        print(f'[{fold + 1} / {num_folds}] Fold Training......')\n",
        "\n",
        "        ## 메모리 절약\n",
        "        clear_gpu()\n",
        "\n",
        "        ## Dataloader\n",
        "        train_dataloader = {'ACD':DataLoader(ACDDataset(acd_train_df, tokenizer, MAX_LEN), batch_size=BATCH_SIZE, shuffle=True),\n",
        "                            'ASC':DataLoader(ABSADataset(absa_train_df, tokenizer, MAX_LEN), batch_size=BATCH_SIZE, shuffle=True)}\n",
        "\n",
        "        valid_dataloader = {'ACD':DataLoader(ACDDataset(acd_valid_df, tokenizer, MAX_LEN), batch_size=BATCH_SIZE),\n",
        "                            'ASC':DataLoader(ABSADataset(absa_valid_df, tokenizer, MAX_LEN), batch_size=BATCH_SIZE)}        \n",
        "\n",
        "        ## ACD, ASC 모델의 기본 가중치 불러오기\n",
        "        acd_model, asc_model = models['ACD'], models['ASC']\n",
        "        acd_model.load_state_dict(torch.load(MODEL_DEFAULT_WEIGHT_PATHS['ACD'], map_location=device))\n",
        "        asc_model.load_state_dict(torch.load(MODEL_DEFAULT_WEIGHT_PATHS['ASC'], map_location=device))\n",
        "\n",
        "        ## optimizer\n",
        "        optimizer = {'ACD':AdamW(acd_model.parameters(), lr=LEARNING_RATE['ACD']),\n",
        "                     'ASC':AdamW(asc_model.parameters(), lr=LEARNING_RATE['ASC'])}\n",
        "\n",
        "        ## scheduler\n",
        "        t_total = len(train_dataloader['ACD']) * NUM_EPOCHS['ACD']  ## The total number of training steps\n",
        "        warmup_step = 0  ## The number of steps for the warmup phase\n",
        "        scheduler = {'ACD':get_linear_schedule_with_warmup(optimizer['ACD'], num_warmup_steps=warmup_step, num_training_steps=t_total),\n",
        "                     'ASC':get_linear_schedule_with_warmup(optimizer['ASC'], num_warmup_steps=warmup_step, num_training_steps=t_total)}\n",
        "\n",
        "        ## early stop, 다음 폴드 학습을 위해 score 관련 파라미터 초기화\n",
        "        early_stopping.reset_score()\n",
        "        early_stopping.set_path(SAVE_PATHS['ACD'])\n",
        "        early_stopping.set_fold(fold + 1)  \n",
        "        \n",
        "        ## 폴드마다 ACD 모델 학습\n",
        "        task = 'ACD'\n",
        "        print(f'{\"#\"*32}  {task}  {\"#\"*32}')\n",
        "        for epoch in tqdm(range(1, NUM_EPOCHS[task]+1)): ## (배치사이즈 X 에폭) 만큼 훈련시킴           \n",
        "            acd_model, acd_train_loss = train(acd_model, train_dataloader[task], task, device, \n",
        "                                      loss_fn[task], optimizer[task], scheduler[task])  ## 모델 학습\n",
        "\n",
        "            acd_valid_loss, acd_valid_precision, acd_valid_recall, acd_valid_f1 = acd_evaluate(acd_model, valid_dataloader[task], loss_fn[task], device)  ## 모델 평가\n",
        "            acd_fold_train_losses_per_epoch[fold].append(acd_train_loss) \n",
        "            acd_fold_valid_losses_per_epoch[fold].append(acd_valid_loss)  \n",
        "\n",
        "            print_score_condition = (epoch == 1 or epoch % 5 == 0 or epoch == NUM_EPOCHS[task])  \n",
        "            score_information = f'[Epoch: {epoch:>2}]  train loss = {acd_train_loss:.5f}  valid loss = {acd_valid_loss:.5f}  precision = {acd_valid_precision:.5f}  recall = {acd_valid_recall:.5f}  f1 = {acd_valid_f1:.5f}'\n",
        "\n",
        "            ## 평균 배치 훈련 오차와 검증 오차 출력\n",
        "            if print_score_condition:  \n",
        "                print(score_information)  \n",
        "                \n",
        "            ## 에폭마다 early stopping 실행\n",
        "            early_stopping(acd_model, acd_valid_loss, acd_valid_f1)  \n",
        "            if early_stopping.check_early_stop(): \n",
        "                if not print_score_condition:  ## 이미 출력한 에폭에 대해 중복으로 출력하지 않기 위함\n",
        "                    print(score_information) \n",
        "                print('Early Stopping!')\n",
        "                break \n",
        " \n",
        "        ## ACD: 폴드별 학습 및 검증 종료시 가장 작은 검증 손실과 이때의 f1 score를 출력\n",
        "        print(f'{fold + 1} Fold -> Best Valid Loss: {early_stopping.valid_loss:.5f} Valid ACD F1 score: {early_stopping.valid_metric_score:.5f}', end='\\n\\n')\n",
        "        \n",
        "        ## 폴드마다 ASC 모델 학습\n",
        "        early_stopping.reset_score()\n",
        "        early_stopping.set_path(SAVE_PATHS['ASC'])\n",
        "        task = 'ASC'\n",
        "        print(f'{\"#\"*32}  {task}  {\"#\"*32}')\n",
        "        for epoch in tqdm(range(1, NUM_EPOCHS[task]+1)): ## (배치사이즈 X 에폭) 만큼 훈련시킴         \n",
        "            asc_model, asc_train_loss = train(asc_model, train_dataloader[task], task, device, \n",
        "                                      loss_fn[task], optimizer[task], scheduler[task])  ## 모델 학습\n",
        "\n",
        "            asc_valid_loss, asc_valid_acc, absa_valid_f1 = absa_evaluate(acd_model, asc_model, valid_dataloader[task], \n",
        "                                                                    f'{SAVE_PATHS[\"ACD\"]}/{MODEL_NAME}_best_{fold + 1}.pt', \n",
        "                                                                    loss_fn[task], device)  ## 모델 평가\n",
        "\n",
        "            asc_fold_train_losses_per_epoch[fold].append(asc_train_loss) \n",
        "            asc_fold_valid_losses_per_epoch[fold].append(asc_valid_loss)  \n",
        "  \n",
        "            print_score_condition = (epoch == 1 or epoch % 5 == 0 or epoch == NUM_EPOCHS[task])  \n",
        "            score_information = f'[Epoch: {epoch:>2}]  train loss = {asc_train_loss:.5f}  valid loss = {asc_valid_loss:.5f}  ASC Accuracy = {asc_valid_acc:.5f}  ABSA f1 = {absa_valid_f1:.5f}'\n",
        "\n",
        "            ## 평균 배치 훈련 오차와 검증 오차 출력\n",
        "            if print_score_condition:  \n",
        "                print(score_information)  \n",
        "                \n",
        "            ## 에폭마다 early stopping 실행\n",
        "            early_stopping(asc_model, asc_valid_loss, asc_valid_acc)  \n",
        "            if early_stopping.check_early_stop(): \n",
        "                if not print_score_condition: \n",
        "                    print(score_information) \n",
        "                print('Early Stopping!')\n",
        "                break  \n",
        "\n",
        "        ## ABSA: 폴드별 학습 및 검증 종료시 가장 작은 검증 손실과 이때의 f1 score를 출력\n",
        "        print(f'{fold + 1} Fold -> Best Valid Loss: {early_stopping.valid_loss:.5f} Valid ASC Accuracy: {early_stopping.valid_metric_score:.5f}', end='\\n\\n')\n",
        "\n",
        "    models['ACD'], models['ASC'] = acd_model, asc_model\n",
        "    return models, acd_fold_train_losses_per_epoch, acd_fold_valid_losses_per_epoch, asc_fold_train_losses_per_epoch, asc_fold_valid_losses_per_epoch"
      ],
      "metadata": {
        "id": "T73b5ykHqfhv"
      },
      "execution_count": 96,
      "outputs": []
    },
    {
      "cell_type": "markdown",
      "metadata": {
        "id": "LyGMoqytkIDx"
      },
      "source": [
        "- 모델 선언 및 가중치 저장"
      ]
    },
    {
      "cell_type": "code",
      "source": [
        "acd_model = AutoModelForSequenceClassification.from_pretrained(MODEL_PATHS[MODEL_NAME], num_labels=NUM_CLASSES['ACD'])\n",
        "asc_model = AutoModelForSequenceClassification.from_pretrained(MODEL_PATHS[MODEL_NAME], num_labels=NUM_CLASSES['ASC'])\n",
        "tokenizer = AutoTokenizer.from_pretrained(MODEL_PATHS[MODEL_NAME])  "
      ],
      "metadata": {
        "colab": {
          "base_uri": "https://localhost:8080/",
          "height": 348,
          "referenced_widgets": [
            "4c533574700c4651b5762f7057cf6fa1",
            "d4ba109dbf9b44e983b69b3304e8f758",
            "ff56f0f050dd4f158679d488b472629c",
            "632c39f6e7d146bcbe45fe1721007064",
            "b0571dc9f5054c76b36ae02801e5d713",
            "51b3413b893d40549349f3ef98b6fe9d",
            "08efaa64ffae44eeb4fc5f7110875284",
            "3918d329f77a48fa926860c5a81c9fee",
            "fd306ff577d94483906434aa104c962e",
            "124817f761bd4c3eb910275a6a8c4218",
            "f689a41801584fff89c8033c18ce1ba6",
            "cdd90f26982c44839a5fe88684f9ffb8",
            "a0a5fa720649435b83dd83d0256f4ba2",
            "2fd9523c3bc64d11a3fae0ff5f7445d2",
            "e574736e5a9a41a18480c7611592c03a",
            "0ab1f96b15bb4deea78ce84c22ce4b90",
            "25cd9af336124e3fa780daf75f738e2f",
            "59b4938f901a4748a7441751548c9d29",
            "3f7230f4a2d1482fbe863254008107fb",
            "bcce6b8f97ba47fcb76334f6cc2cc255",
            "9687c509285c4c808efebb28aa0fb680",
            "d3b6e8fd52824c07945e6697343a318a",
            "0f288d822b3d4361a8dfe16ee3d67b8c",
            "734b2e39b1fd4252aa299434d08b578e",
            "1718d14f3aa541ef820dca736c383c18",
            "27b6737a55304834af3f58e1a61bde67",
            "c59629143a1b4d38a095736c5bd5344d",
            "9cc404ebe4ea46239ebce50e22539fe4",
            "d3719139d8144d34a194cb3f0e065f03",
            "0276cb4d141248c996ee1f6804ccebda",
            "a4bd3720af1448849cb6b2a00b9b4f0f",
            "18c55edb4e3c481398c992dce47fd47c",
            "5ac0d6d016f349acb932cca3c7cc08ee",
            "c598adda5bcc4822bd8b4d15978462fb",
            "2e1f530bd83848e1909860eee616bfa7",
            "e24dcb101d8046ca91111c0a5844f33b",
            "b1c9b5077c0842d18859e9c2ec5366de",
            "295a2f09263344eeab7deb96dfa92ab5",
            "039940d2afcc46ccad0529ef5e636e2c",
            "0ba696ab0d9a4fb8afb8c1d155be061b",
            "e5f8b7fe8eca41cf9dfbf6ffe4149567",
            "56fe89ea2ebf4a77977e8f7123cbe61c",
            "6eb87bf1006e471291169a1f4f9ed0b4",
            "e7fdbcbca8fe469f979870170a767043"
          ]
        },
        "id": "Bz9bELhQqoiP",
        "outputId": "d02c1412-7543-4259-9187-a428b0cbb89d"
      },
      "execution_count": 91,
      "outputs": [
        {
          "output_type": "display_data",
          "data": {
            "text/plain": [
              "Downloading:   0%|          | 0.00/725 [00:00<?, ?B/s]"
            ],
            "application/vnd.jupyter.widget-view+json": {
              "version_major": 2,
              "version_minor": 0,
              "model_id": "4c533574700c4651b5762f7057cf6fa1"
            }
          },
          "metadata": {}
        },
        {
          "output_type": "display_data",
          "data": {
            "text/plain": [
              "Downloading:   0%|          | 0.00/476M [00:00<?, ?B/s]"
            ],
            "application/vnd.jupyter.widget-view+json": {
              "version_major": 2,
              "version_minor": 0,
              "model_id": "cdd90f26982c44839a5fe88684f9ffb8"
            }
          },
          "metadata": {}
        },
        {
          "output_type": "stream",
          "name": "stderr",
          "text": [
            "Some weights of the model checkpoint at kykim/bert-kor-base were not used when initializing BertForSequenceClassification: ['cls.predictions.transform.LayerNorm.weight', 'cls.predictions.transform.LayerNorm.bias', 'cls.predictions.transform.dense.weight', 'cls.predictions.decoder.bias', 'cls.predictions.bias', 'cls.predictions.transform.dense.bias', 'cls.predictions.decoder.weight', 'cls.seq_relationship.weight', 'cls.seq_relationship.bias']\n",
            "- This IS expected if you are initializing BertForSequenceClassification from the checkpoint of a model trained on another task or with another architecture (e.g. initializing a BertForSequenceClassification model from a BertForPreTraining model).\n",
            "- This IS NOT expected if you are initializing BertForSequenceClassification from the checkpoint of a model that you expect to be exactly identical (initializing a BertForSequenceClassification model from a BertForSequenceClassification model).\n",
            "Some weights of BertForSequenceClassification were not initialized from the model checkpoint at kykim/bert-kor-base and are newly initialized: ['classifier.weight', 'classifier.bias']\n",
            "You should probably TRAIN this model on a down-stream task to be able to use it for predictions and inference.\n",
            "Some weights of the model checkpoint at kykim/bert-kor-base were not used when initializing BertForSequenceClassification: ['cls.predictions.transform.LayerNorm.weight', 'cls.predictions.transform.LayerNorm.bias', 'cls.predictions.transform.dense.weight', 'cls.predictions.decoder.bias', 'cls.predictions.bias', 'cls.predictions.transform.dense.bias', 'cls.predictions.decoder.weight', 'cls.seq_relationship.weight', 'cls.seq_relationship.bias']\n",
            "- This IS expected if you are initializing BertForSequenceClassification from the checkpoint of a model trained on another task or with another architecture (e.g. initializing a BertForSequenceClassification model from a BertForPreTraining model).\n",
            "- This IS NOT expected if you are initializing BertForSequenceClassification from the checkpoint of a model that you expect to be exactly identical (initializing a BertForSequenceClassification model from a BertForSequenceClassification model).\n",
            "Some weights of BertForSequenceClassification were not initialized from the model checkpoint at kykim/bert-kor-base and are newly initialized: ['classifier.weight', 'classifier.bias']\n",
            "You should probably TRAIN this model on a down-stream task to be able to use it for predictions and inference.\n"
          ]
        },
        {
          "output_type": "display_data",
          "data": {
            "text/plain": [
              "Downloading:   0%|          | 0.00/80.0 [00:00<?, ?B/s]"
            ],
            "application/vnd.jupyter.widget-view+json": {
              "version_major": 2,
              "version_minor": 0,
              "model_id": "0f288d822b3d4361a8dfe16ee3d67b8c"
            }
          },
          "metadata": {}
        },
        {
          "output_type": "display_data",
          "data": {
            "text/plain": [
              "Downloading:   0%|          | 0.00/344k [00:00<?, ?B/s]"
            ],
            "application/vnd.jupyter.widget-view+json": {
              "version_major": 2,
              "version_minor": 0,
              "model_id": "c598adda5bcc4822bd8b4d15978462fb"
            }
          },
          "metadata": {}
        }
      ]
    },
    {
      "cell_type": "code",
      "source": [
        "special_tokens_dict = {'additional_special_tokens': ['&name&', '&online-account&']}\n",
        "tokenizer.add_special_tokens(special_tokens_dict)"
      ],
      "metadata": {
        "colab": {
          "base_uri": "https://localhost:8080/"
        },
        "id": "Vg0HlSnlXEq-",
        "outputId": "c5d71113-0ba2-4760-b8a2-9d86e5da4907"
      },
      "execution_count": 92,
      "outputs": [
        {
          "output_type": "execute_result",
          "data": {
            "text/plain": [
              "2"
            ]
          },
          "metadata": {},
          "execution_count": 92
        }
      ]
    },
    {
      "cell_type": "code",
      "source": [
        "acd_model.resize_token_embeddings(len(tokenizer))\n",
        "asc_model.resize_token_embeddings(len(tokenizer))\n",
        "torch.save(acd_model.state_dict(), MODEL_DEFAULT_WEIGHT_PATHS['ACD']) \n",
        "torch.save(asc_model.state_dict(), MODEL_DEFAULT_WEIGHT_PATHS['ASC']) "
      ],
      "metadata": {
        "id": "KmKgqiLkXDzX"
      },
      "execution_count": 93,
      "outputs": []
    },
    {
      "cell_type": "code",
      "source": [
        "models = {'ACD':acd_model, 'ASC':asc_model}"
      ],
      "metadata": {
        "id": "07ryAjyYLeCB"
      },
      "execution_count": 94,
      "outputs": []
    },
    {
      "cell_type": "markdown",
      "metadata": {
        "id": "s0OMjmQ_t12g"
      },
      "source": [
        "- 모델 K겹 교차검증"
      ]
    },
    {
      "cell_type": "markdown",
      "source": [
        "`-` 22시 20분 시작"
      ],
      "metadata": {
        "id": "i-b1oUq4Zzf5"
      }
    },
    {
      "cell_type": "code",
      "source": [
        "(models, acd_fold_train_losses_per_epoch, acd_fold_valid_losses_per_epoch,\n",
        "asc_fold_train_losses_per_epoch, asc_fold_valid_losses_per_epoch) = deep_ensemble(models, \n",
        "                                                                                  df3,\n",
        "                                                                                  valid,\n",
        "                                                                                  tidy_df,\n",
        "                                                                                  tidy_valid, \n",
        "                                                                                  tokenizer, \n",
        "                                                                                  loss_fn,\n",
        "                                                                                  early_stopping,\n",
        "                                                                                  SEEDS,\n",
        "                                                                                  DEVICE)"
      ],
      "metadata": {
        "id": "ICj7D0G1MbMx",
        "colab": {
          "base_uri": "https://localhost:8080/",
          "height": 355,
          "referenced_widgets": [
            "cab07785f01740f7a743942278cd2afe",
            "c07b5b2d51ed470f8c03e0edb61315d5",
            "e3b7986af5684e909a628154c82349a0",
            "025d78e0238a449fb6064abbec3b16e4",
            "df8811d129de4ee7b87d18c4820da182",
            "18987cd8583a41eeb89031e76e16dbfe",
            "a6929c362d71434e99fa1878beafe9ef",
            "c4544eebbdf34188bacda9bc792c011f",
            "abdb943dd05e4b68b69c6b3369677dc2",
            "911d6c351ef440ee8ca77e09c4bf6af2",
            "e992f999454345d29e6a52bc6c8e0d46",
            "5ae7340a9ff84f44b0bb687f99d0479b",
            "f1f984b5b14947ba812fbfc08c1a3e23",
            "286c8a7793b04ee5a3d23635a2888b83",
            "d6d972b43e0f46e89167cf2f4d524ec6",
            "2a3d532341944127a8cd651da36f4943",
            "fe059295b7214c68adb0368a6ce9b97a",
            "0b2b984207534064814615fae8ec9da6",
            "e984a0ab137d47d3b02bc1148b64eb81",
            "797162621b774273b6eced0605fc75a4",
            "86f431e6d9ef47a5b761ffa0664fcc89",
            "2136f746b5864aa990974eb8af6ffc1f"
          ]
        },
        "outputId": "cb0af146-9285-4d7c-f7fa-d46ffce94a90"
      },
      "execution_count": 99,
      "outputs": [
        {
          "output_type": "stream",
          "name": "stdout",
          "text": [
            "[1 / 1] Fold Training......\n",
            "################################  ACD  ################################\n"
          ]
        },
        {
          "output_type": "display_data",
          "data": {
            "text/plain": [
              "  0%|          | 0/15 [00:00<?, ?it/s]"
            ],
            "application/vnd.jupyter.widget-view+json": {
              "version_major": 2,
              "version_minor": 0,
              "model_id": "cab07785f01740f7a743942278cd2afe"
            }
          },
          "metadata": {}
        },
        {
          "output_type": "stream",
          "name": "stdout",
          "text": [
            "[Epoch:  1]  train loss = 0.24645  valid loss = 0.24543  precision = 0.75837  recall = 0.46003  f1 = 0.57267\n",
            "[Epoch:  5]  train loss = 0.19815  valid loss = 0.22967  precision = 0.77852  recall = 0.65923  f1 = 0.71392\n",
            "[Epoch: 10]  train loss = 0.19351  valid loss = 0.23254  precision = 0.76116  recall = 0.69320  f1 = 0.72559\n",
            "[Epoch: 15]  train loss = 0.19232  valid loss = 0.23389  precision = 0.75581  recall = 0.70420  f1 = 0.72909\n",
            "1 Fold -> Best Valid Loss: 0.23312 Valid ACD F1 score: 0.72969\n",
            "\n",
            "################################  ASC  ################################\n"
          ]
        },
        {
          "output_type": "display_data",
          "data": {
            "text/plain": [
              "  0%|          | 0/15 [00:00<?, ?it/s]"
            ],
            "application/vnd.jupyter.widget-view+json": {
              "version_major": 2,
              "version_minor": 0,
              "model_id": "5ae7340a9ff84f44b0bb687f99d0479b"
            }
          },
          "metadata": {}
        },
        {
          "output_type": "stream",
          "name": "stdout",
          "text": [
            "[Epoch:  1]  train loss = 0.44373  valid loss = 0.35103  ASC Accuracy = 0.97536  ABSA f1 = 0.68275\n",
            "[Epoch:  5]  train loss = 0.31527  valid loss = 0.37487  ASC Accuracy = 0.96404  ABSA f1 = 0.67614\n",
            "[Epoch:  7]  train loss = 0.30444  valid loss = 0.37112  ASC Accuracy = 0.96836  ABSA f1 = 0.67812\n",
            "Early Stopping!\n",
            "1 Fold -> Best Valid Loss: 0.35103 Valid ASC Accuracy: 0.97536\n",
            "\n"
          ]
        }
      ]
    },
    {
      "cell_type": "markdown",
      "metadata": {
        "id": "dS896I7QumEp"
      },
      "source": [
        "- train loss와 valid loss의 변화를 시각화"
      ]
    },
    {
      "cell_type": "code",
      "execution_count": 103,
      "metadata": {
        "id": "gcfLWSukuoQx"
      },
      "outputs": [],
      "source": [
        "def show_loss_plot(\n",
        "        fold_train_losses: List[List[float]],\n",
        "        fold_valid_losses: List[List[float]]\n",
        "    ) -> None:\n",
        "    \"\"\"폴드별로 에폭에 따른 모델의 훈련 손실과 검증 손실의 변화를 시각화\"\"\"\n",
        "    assert len(fold_train_losses) == len(fold_valid_losses)\n",
        "    num_folds = len(fold_train_losses)\n",
        "    ncols = 3\n",
        "    nrows = 1 + (num_folds - 1)//ncols\n",
        "    fig, axes = plt.subplots(nrows, ncols, figsize=(ncols*4, nrows*4)) \n",
        "\n",
        "    ## 폴드마다 에폭에 따른 훈련 손실과 검증 손실의 변화를 시각화\n",
        "    for fold, (ax, train_losses, valid_losses) in enumerate(zip(axes.flatten(), fold_train_losses, fold_valid_losses), start=1):\n",
        "        assert len(train_losses) == len(valid_losses) \n",
        "        if fold > num_folds:\n",
        "            break\n",
        "\n",
        "        num_epochs = len(train_losses)\n",
        "        ax.set_title(f'{fold} Fold')\n",
        "        ax.plot(range(1, num_epochs+1), train_losses, label='Train')\n",
        "        ax.plot(range(1, num_epochs+1), valid_losses, label='Valid')\n",
        "        ax.set_xlabel('Epoch')\n",
        "        ax.set_ylabel('Loss')\n",
        "        ax.legend()\n",
        "\n",
        "    fig.suptitle('Train Loss and Valid Loss', x=0.51, y=1.05, fontsize=15)\n",
        "    fig.tight_layout()\n",
        "\n",
        "    ## 남는 서브 플랏 제거\n",
        "    for ax in axes.flatten():\n",
        "        if not ax.has_data():\n",
        "            fig.delaxes(ax)"
      ]
    },
    {
      "cell_type": "code",
      "execution_count": 104,
      "metadata": {
        "id": "wJCs4xPLJ3Ry",
        "colab": {
          "base_uri": "https://localhost:8080/",
          "height": 323
        },
        "outputId": "4a7b6bbf-5906-42a3-de17-4e7690971b7b"
      },
      "outputs": [
        {
          "output_type": "display_data",
          "data": {
            "text/plain": [
              "<Figure size 864x288 with 1 Axes>"
            ],
            "image/png": "[encoded data removed]"
          },
          "metadata": {
            "needs_background": "light"
          }
        }
      ],
      "source": [
        "show_loss_plot(acd_fold_train_losses_per_epoch, acd_fold_valid_losses_per_epoch)"
      ]
    },
    {
      "cell_type": "code",
      "source": [
        "show_loss_plot(asc_fold_train_losses_per_epoch, asc_fold_valid_losses_per_epoch)"
      ],
      "metadata": {
        "id": "VbmVJWE1Op1o",
        "colab": {
          "base_uri": "https://localhost:8080/",
          "height": 323
        },
        "outputId": "486baeae-cd52-4d68-d6ff-4bc5d3b383dd"
      },
      "execution_count": 105,
      "outputs": [
        {
          "output_type": "display_data",
          "data": {
            "text/plain": [
              "<Figure size 864x288 with 1 Axes>"
            ],
            "image/png": "[encoded data removed]"
          },
          "metadata": {
            "needs_background": "light"
          }
        }
      ]
    },
    {
      "cell_type": "markdown",
      "metadata": {
        "id": "2F1rlPmIPpvL"
      },
      "source": [
        "## Test 예측"
      ]
    },
    {
      "cell_type": "code",
      "source": [
        "def acd_predict(\n",
        "        model: nn.Module, \n",
        "        dataloader: DataLoader, \n",
        "        weight_save_path: str, \n",
        "        device: torch.device,\n",
        "        return_prob: bool = False\n",
        "    ) -> Tensor:\n",
        "    \"\"\"test text를 보고 개체 속성을 분류\"\"\"\n",
        "    model.to(device) \n",
        "    weight_path_list = glob(weight_save_path + '/*.pt')\n",
        "    test_probs = torch.zeros(len(dataloader.dataset), NUM_CLASSES['ACD'])  \n",
        "\n",
        "    for weight_path in tqdm(weight_path_list):\n",
        "        probs = None\n",
        "        model.load_state_dict(torch.load(weight_path, map_location=device))\n",
        "        model.eval()\n",
        "\n",
        "        with torch.no_grad(): \n",
        "            for batch in dataloader:  ## test 데이터는 라벨(y)이 없다\n",
        "                args = [*(map(lambda tensor: tensor.to(device), batch['ACD']))]\n",
        "                y_hat = F.sigmoid(model(*args)[0]).detach().cpu().numpy()\n",
        "\n",
        "                if probs is None:\n",
        "                    probs = y_hat\n",
        "                else:\n",
        "                    probs = np.concatenate([probs, y_hat]) \n",
        "\n",
        "        test_probs += (torch.from_numpy(probs) / NUM_FOLDS)    ## 각 컬럼별 확률\n",
        "    # test_probs = torch.from_numpy(np.apply_along_axis(under_half_max_to_1, 1, test_probs))  ## 텍스트에는 적어도 한 개의 개체 속성이 포함되어야 한다\n",
        "    test_preds = torch.where(test_probs >= 0.5, 1, 0)          ## threshold(0.5)보다 크면 positive 그렇지 않으면 negative\n",
        "\n",
        "    if return_prob:\n",
        "        return test_probs  ## 각 컬럼별 확률\n",
        "    return test_preds  ## 라벨"
      ],
      "metadata": {
        "id": "asEGDYkZp1mr"
      },
      "execution_count": 106,
      "outputs": []
    },
    {
      "cell_type": "code",
      "source": [
        "def asc_predict(\n",
        "        model: nn.Module, \n",
        "        dataloader: DataLoader, \n",
        "        weight_save_path: str, \n",
        "        device: torch.device,\n",
        "        return_prob: bool = False\n",
        "    ) -> Tensor:\n",
        "    \"\"\"개체 속성을 분류한 후 존재하는 개체 속성에 대해 감성 분류\"\"\"\n",
        "    model = model.to(device) \n",
        "    weight_path_list = glob(weight_save_path + '/*.pt') \n",
        "    test_probs = torch.zeros(len(dataloader.dataset), NUM_CLASSES['ASC'])  \n",
        "\n",
        "    for weight_path in tqdm(weight_path_list):\n",
        "        probs = None\n",
        "        model.load_state_dict(torch.load(weight_path, map_location=device))\n",
        "        model.eval()\n",
        "\n",
        "        with torch.no_grad(): \n",
        "            for batch in dataloader:  ## test 데이터는 라벨(y)이 없다\n",
        "                args = [*(map(lambda tensor: tensor.to(device), batch['ASC']))]\n",
        "                y_hat = model(*args)[0].detach().cpu().numpy()\n",
        "\n",
        "                if probs is None:\n",
        "                    probs = y_hat\n",
        "                else:\n",
        "                    probs = np.concatenate([probs, y_hat]) \n",
        "\n",
        "        test_probs += (torch.softmax(torch.from_numpy(probs), dim=-1) / NUM_FOLDS)  ## 각 컬럼별 확률\n",
        "    _, test_preds = torch.max(test_probs, dim=-1)  ## 최댓값과 인덱스\n",
        "    \n",
        "    if return_prob:\n",
        "        return test_probs  ## 각 컬럼별 확률\n",
        "    return test_preds  ## 라벨"
      ],
      "metadata": {
        "id": "Xu4gAH67RtKy"
      },
      "execution_count": 107,
      "outputs": []
    },
    {
      "cell_type": "code",
      "source": [
        "def fill_annotation(jsonl: List[JsonType], df: pd.DataFrame) -> List[JsonType]:\n",
        "    \"\"\"\n",
        "    test jsonl의 annotation을 df의 entity_property와 sentiment로 채운다 (In-Place)\n",
        "    For submission \n",
        "    \"\"\"\n",
        "    list_df = df.to_numpy().tolist()\n",
        "    for idx, json in enumerate(jsonl):\n",
        "        assert json['id'].split('-')[-1] == list_df[idx][0]  ## id는 동일해야 함\n",
        "        jsonl[idx]['annotation'] = list(map(list, zip(list_df[idx][2], list_df[idx][3])))  ## entity_property, sentiment    \n",
        "    return jsonl"
      ],
      "metadata": {
        "id": "f3R6vv_YTD97"
      },
      "execution_count": 108,
      "outputs": []
    },
    {
      "cell_type": "code",
      "source": [
        "test_acd_dataloader = DataLoader(ACDDataset(test, tokenizer, MAX_LEN), batch_size=BATCH_SIZE)"
      ],
      "metadata": {
        "id": "Me_6g1isqHVj"
      },
      "execution_count": 109,
      "outputs": []
    },
    {
      "cell_type": "code",
      "source": [
        "acd_preds = acd_predict(acd_model, test_acd_dataloader, SAVE_PATHS['ACD'], device=DEVICE)"
      ],
      "metadata": {
        "id": "f3Rem_MJH0zU",
        "colab": {
          "base_uri": "https://localhost:8080/",
          "height": 49,
          "referenced_widgets": [
            "ba005e7c435a4a069cc9637d562cc503",
            "0c85349278814c2b856913ff3bb53fbb",
            "bcb9561039ff48ccba91610c1675d755",
            "92736ee7f48448c5a341a6710e71a69d",
            "c8cc2295aa704ea0a76bf71c1b21ef3d",
            "2961cc8c905540bfa3d22721a4b8d9c9",
            "39e63295ca5948deb379ad36bad00677",
            "f63cf6afc3444a56963108be1c3c9bd8",
            "5c4058b9fca84df9b39814de1ab13d89",
            "0e3fde0c56e346ecbe4255efccb1a2c2",
            "c3b9c7c61c0c4b08aacb5aa21f9bdda6"
          ]
        },
        "outputId": "52e43d32-8348-446e-93e2-99bddff3ba56"
      },
      "execution_count": 110,
      "outputs": [
        {
          "output_type": "display_data",
          "data": {
            "text/plain": [
              "  0%|          | 0/1 [00:00<?, ?it/s]"
            ],
            "application/vnd.jupyter.widget-view+json": {
              "version_major": 2,
              "version_minor": 0,
              "model_id": "ba005e7c435a4a069cc9637d562cc503"
            }
          },
          "metadata": {}
        }
      ]
    },
    {
      "cell_type": "code",
      "source": [
        "test['entity_property'] = list(map(list, ACD_ENCODER.inverse_transform(acd_preds)))\n",
        "test = to_tidy(test)"
      ],
      "metadata": {
        "id": "Rg8uSFmGpWnS"
      },
      "execution_count": 111,
      "outputs": []
    },
    {
      "cell_type": "code",
      "source": [
        "none_entity_test = test[test['entity_property'].apply(lambda x: False if x else True)]  ## sentiment == []\n",
        "test = test[test['entity_property'].apply(lambda x: True if x else False)].reset_index().drop('index', axis=1)"
      ],
      "metadata": {
        "id": "Xb_FyuKTH9bh"
      },
      "execution_count": 116,
      "outputs": []
    },
    {
      "cell_type": "code",
      "source": [
        "test_absa_dataloader = DataLoader(ABSADataset(test, tokenizer, MAX_LEN), batch_size=BATCH_SIZE)"
      ],
      "metadata": {
        "id": "LQX-5lVCYn1Y"
      },
      "execution_count": 117,
      "outputs": []
    },
    {
      "cell_type": "code",
      "source": [
        "asc_preds = asc_predict(asc_model, test_absa_dataloader, SAVE_PATHS['ASC'], device=DEVICE)\n",
        "test['sentiment'] =  ASC_ENCODER.inverse_transform(asc_preds)"
      ],
      "metadata": {
        "id": "z5QBij7xrlST",
        "colab": {
          "base_uri": "https://localhost:8080/",
          "height": 49,
          "referenced_widgets": [
            "7797865af0b94f3092b2b9d81bce989a",
            "754b15ca2785499e85f3f422ff57a17a",
            "9e7a4c7359a5408daf3b28a3f2a04397",
            "ed25a307bc9044cd86e3847c569e5846",
            "9a80aadb55e942c6aaf5b50b7b1a36b3",
            "fd878e76f38643f5a01297cb09ae25bb",
            "25dbaf8c5ed44f7db2e7a3eb9e70bfd7",
            "8123c68d4d2f4bc3ba5df454e11bfc08",
            "c8a2d3ce0fcf44dca08da0ee89c8e4f7",
            "fe53dcbb0f75458bbf7860993bfb1bca",
            "ea25e4567cf046f8aa661fa6823e7822"
          ]
        },
        "outputId": "023840cc-1ca9-4564-d218-5e150eb70758"
      },
      "execution_count": 118,
      "outputs": [
        {
          "output_type": "display_data",
          "data": {
            "text/plain": [
              "  0%|          | 0/1 [00:00<?, ?it/s]"
            ],
            "application/vnd.jupyter.widget-view+json": {
              "version_major": 2,
              "version_minor": 0,
              "model_id": "7797865af0b94f3092b2b9d81bce989a"
            }
          },
          "metadata": {}
        }
      ]
    },
    {
      "cell_type": "code",
      "source": [
        "test = pd.concat([test, none_entity_test], axis=0)\n",
        "test = test.sort_values(by=['id']).reset_index().drop('index', axis=1)"
      ],
      "metadata": {
        "id": "DG4Or2A7IjMQ"
      },
      "execution_count": 119,
      "outputs": []
    },
    {
      "cell_type": "code",
      "source": [
        "test = to_untidy(test)"
      ],
      "metadata": {
        "id": "MoAX84QzSpGu"
      },
      "execution_count": 120,
      "outputs": []
    },
    {
      "cell_type": "code",
      "execution_count": 122,
      "metadata": {
        "id": "PoepzDgQSJFc"
      },
      "outputs": [],
      "source": [
        "test_jsonl = fill_annotation(load_jsonl(test_path) , test)"
      ]
    },
    {
      "cell_type": "code",
      "execution_count": 123,
      "metadata": {
        "id": "nDlAjiwbSQ-M"
      },
      "outputs": [],
      "source": [
        "write_jsonl(test_jsonl, submission_path)"
      ]
    },
    {
      "cell_type": "code",
      "source": [
        "x = to_tidy(test)\n",
        "x = x[x['entity_property'].apply(lambda x: True if x else False)].reset_index().drop('index', axis=1)"
      ],
      "metadata": {
        "id": "Dz_szmyW7W0m"
      },
      "execution_count": 124,
      "outputs": []
    },
    {
      "cell_type": "code",
      "source": [
        "x.entity_property.value_counts() / x.shape[0]"
      ],
      "metadata": {
        "colab": {
          "base_uri": "https://localhost:8080/"
        },
        "id": "HKQqZcYKo41m",
        "outputId": "de24faff-57e7-45a2-d92e-5193842888e2"
      },
      "execution_count": 125,
      "outputs": [
        {
          "output_type": "execute_result",
          "data": {
            "text/plain": [
              "본품#품질          0.360705\n",
              "제품 전체#일반       0.176322\n",
              "제품 전체#디자인      0.092191\n",
              "본품#편의성         0.091688\n",
              "본품#일반          0.088161\n",
              "제품 전체#품질       0.063980\n",
              "제품 전체#편의성      0.034761\n",
              "제품 전체#가격       0.022166\n",
              "패키지/구성품#디자인    0.020151\n",
              "제품 전체#인지도      0.016625\n",
              "패키지/구성품#일반     0.012091\n",
              "패키지/구성품#편의성    0.010076\n",
              "브랜드#일반         0.008564\n",
              "본품#다양성         0.002519\n",
              "Name: entity_property, dtype: float64"
            ]
          },
          "metadata": {},
          "execution_count": 125
        }
      ]
    },
    {
      "cell_type": "code",
      "source": [
        "tidy_df.entity_property.value_counts() / tidy_df.shape[0]"
      ],
      "metadata": {
        "id": "6o1nIS2KzC8y",
        "colab": {
          "base_uri": "https://localhost:8080/"
        },
        "outputId": "3b39a1b6-d696-44d2-842f-8a76e6829f48"
      },
      "execution_count": null,
      "outputs": [
        {
          "output_type": "execute_result",
          "data": {
            "text/plain": [
              "본품#품질          0.360963\n",
              "제품 전체#일반       0.265249\n",
              "본품#일반          0.078198\n",
              "제품 전체#품질       0.074132\n",
              "제품 전체#디자인      0.049109\n",
              "제품 전체#편의성      0.029403\n",
              "본품#편의성         0.029403\n",
              "제품 전체#인지도      0.020644\n",
              "브랜드#일반         0.016578\n",
              "패키지/구성품#디자인    0.016578\n",
              "제품 전체#가격       0.015327\n",
              "패키지/구성품#편의성    0.011886\n",
              "패키지/구성품#일반     0.009384\n",
              "본품#다양성         0.006256\n",
              "본품#디자인         0.004692\n",
              "브랜드#품질         0.004066\n",
              "패키지/구성품#품질     0.003128\n",
              "브랜드#인지도        0.002815\n",
              "브랜드#가격         0.000938\n",
              "본품#가격          0.000626\n",
              "패키지/구성품#다양성    0.000313\n",
              "본품#인지도         0.000313\n",
              "Name: entity_property, dtype: float64"
            ]
          },
          "metadata": {},
          "execution_count": 83
        }
      ]
    },
    {
      "cell_type": "code",
      "source": [
        "tidy_valid.entity_property.value_counts() / tidy_valid.shape[0]"
      ],
      "metadata": {
        "colab": {
          "base_uri": "https://localhost:8080/"
        },
        "id": "UiwtH5Fu7xfO",
        "outputId": "23a0174e-93e7-4d74-f8b9-cd686730377b"
      },
      "execution_count": null,
      "outputs": [
        {
          "output_type": "execute_result",
          "data": {
            "text/plain": [
              "본품#품질          0.375957\n",
              "제품 전체#일반       0.257409\n",
              "제품 전체#품질       0.080919\n",
              "본품#일반          0.076923\n",
              "제품 전체#디자인      0.041958\n",
              "본품#편의성         0.031302\n",
              "제품 전체#편의성      0.028638\n",
              "제품 전체#인지도      0.024975\n",
              "패키지/구성품#디자인    0.020979\n",
              "브랜드#일반         0.016650\n",
              "제품 전체#가격       0.014319\n",
              "패키지/구성품#편의성    0.008991\n",
              "패키지/구성품#일반     0.006660\n",
              "본품#다양성         0.003330\n",
              "브랜드#인지도        0.002664\n",
              "패키지/구성품#품질     0.002331\n",
              "본품#디자인         0.001998\n",
              "브랜드#품질         0.001998\n",
              "브랜드#가격         0.001332\n",
              "패키지/구성품#다양성    0.000666\n",
              "Name: entity_property, dtype: float64"
            ]
          },
          "metadata": {},
          "execution_count": 84
        }
      ]
    },
    {
      "cell_type": "code",
      "source": [],
      "metadata": {
        "id": "S_v-nY9w7zBu"
      },
      "execution_count": null,
      "outputs": []
    }
  ],
  "metadata": {
    "colab": {
      "collapsed_sections": [],
      "provenance": [],
      "toc_visible": true,
      "include_colab_link": true
    },
    "gpuClass": "standard",
    "kernelspec": {
      "display_name": "Python 3 (ipykernel)",
      "language": "python",
      "name": "python3"
    },
    "language_info": {
      "codemirror_mode": {
        "name": "ipython",
        "version": 3
      },
      "file_extension": ".py",
      "mimetype": "text/x-python",
      "name": "python",
      "nbconvert_exporter": "python",
      "pygments_lexer": "ipython3",
      "version": "3.8.11"
    },
    "widgets": {
      "application/vnd.jupyter.widget-state+json": {
        "c95000569fc247bb927f82dec6c613a1": {
          "model_module": "@jupyter-widgets/controls",
          "model_name": "HBoxModel",
          "model_module_version": "1.5.0",
          "state": {
            "_dom_classes": [],
            "_model_module": "@jupyter-widgets/controls",
            "_model_module_version": "1.5.0",
            "_model_name": "HBoxModel",
            "_view_count": null,
            "_view_module": "@jupyter-widgets/controls",
            "_view_module_version": "1.5.0",
            "_view_name": "HBoxView",
            "box_style": "",
            "children": [
              "IPY_MODEL_745b021c6ff04cd1971a52b4976eb248",
              "IPY_MODEL_59853f6152a24a1ba46d71f5efc60b87",
              "IPY_MODEL_cf3952ddc5d640c9aecb8af5ca7ee150"
            ],
            "layout": "IPY_MODEL_685ef703757c4649985b07b61d3c81cd"
          }
        },
        "745b021c6ff04cd1971a52b4976eb248": {
          "model_module": "@jupyter-widgets/controls",
          "model_name": "HTMLModel",
          "model_module_version": "1.5.0",
          "state": {
            "_dom_classes": [],
            "_model_module": "@jupyter-widgets/controls",
            "_model_module_version": "1.5.0",
            "_model_name": "HTMLModel",
            "_view_count": null,
            "_view_module": "@jupyter-widgets/controls",
            "_view_module_version": "1.5.0",
            "_view_name": "HTMLView",
            "description": "",
            "description_tooltip": null,
            "layout": "IPY_MODEL_b39c655676d744d1806c38769dc52422",
            "placeholder": "​",
            "style": "IPY_MODEL_0213dc66dfbf4a0b874024229b1d2fa2",
            "value": "100%"
          }
        },
        "59853f6152a24a1ba46d71f5efc60b87": {
          "model_module": "@jupyter-widgets/controls",
          "model_name": "FloatProgressModel",
          "model_module_version": "1.5.0",
          "state": {
            "_dom_classes": [],
            "_model_module": "@jupyter-widgets/controls",
            "_model_module_version": "1.5.0",
            "_model_name": "FloatProgressModel",
            "_view_count": null,
            "_view_module": "@jupyter-widgets/controls",
            "_view_module_version": "1.5.0",
            "_view_name": "ProgressView",
            "bar_style": "success",
            "description": "",
            "description_tooltip": null,
            "layout": "IPY_MODEL_cdd7cdfc193b4f9ebd44df9e4beff470",
            "max": 3001,
            "min": 0,
            "orientation": "horizontal",
            "style": "IPY_MODEL_01d3da1e2c7e4e009f20e6a3e8bb4291",
            "value": 3001
          }
        },
        "cf3952ddc5d640c9aecb8af5ca7ee150": {
          "model_module": "@jupyter-widgets/controls",
          "model_name": "HTMLModel",
          "model_module_version": "1.5.0",
          "state": {
            "_dom_classes": [],
            "_model_module": "@jupyter-widgets/controls",
            "_model_module_version": "1.5.0",
            "_model_name": "HTMLModel",
            "_view_count": null,
            "_view_module": "@jupyter-widgets/controls",
            "_view_module_version": "1.5.0",
            "_view_name": "HTMLView",
            "description": "",
            "description_tooltip": null,
            "layout": "IPY_MODEL_95c0e012c2e44257858edfe155ca2aec",
            "placeholder": "​",
            "style": "IPY_MODEL_689b530ba29d488e82e9b2ef3d0ee394",
            "value": " 3001/3001 [00:01&lt;00:00, 2349.77it/s]"
          }
        },
        "685ef703757c4649985b07b61d3c81cd": {
          "model_module": "@jupyter-widgets/base",
          "model_name": "LayoutModel",
          "model_module_version": "1.2.0",
          "state": {
            "_model_module": "@jupyter-widgets/base",
            "_model_module_version": "1.2.0",
            "_model_name": "LayoutModel",
            "_view_count": null,
            "_view_module": "@jupyter-widgets/base",
            "_view_module_version": "1.2.0",
            "_view_name": "LayoutView",
            "align_content": null,
            "align_items": null,
            "align_self": null,
            "border": null,
            "bottom": null,
            "display": null,
            "flex": null,
            "flex_flow": null,
            "grid_area": null,
            "grid_auto_columns": null,
            "grid_auto_flow": null,
            "grid_auto_rows": null,
            "grid_column": null,
            "grid_gap": null,
            "grid_row": null,
            "grid_template_areas": null,
            "grid_template_columns": null,
            "grid_template_rows": null,
            "height": null,
            "justify_content": null,
            "justify_items": null,
            "left": null,
            "margin": null,
            "max_height": null,
            "max_width": null,
            "min_height": null,
            "min_width": null,
            "object_fit": null,
            "object_position": null,
            "order": null,
            "overflow": null,
            "overflow_x": null,
            "overflow_y": null,
            "padding": null,
            "right": null,
            "top": null,
            "visibility": null,
            "width": null
          }
        },
        "b39c655676d744d1806c38769dc52422": {
          "model_module": "@jupyter-widgets/base",
          "model_name": "LayoutModel",
          "model_module_version": "1.2.0",
          "state": {
            "_model_module": "@jupyter-widgets/base",
            "_model_module_version": "1.2.0",
            "_model_name": "LayoutModel",
            "_view_count": null,
            "_view_module": "@jupyter-widgets/base",
            "_view_module_version": "1.2.0",
            "_view_name": "LayoutView",
            "align_content": null,
            "align_items": null,
            "align_self": null,
            "border": null,
            "bottom": null,
            "display": null,
            "flex": null,
            "flex_flow": null,
            "grid_area": null,
            "grid_auto_columns": null,
            "grid_auto_flow": null,
            "grid_auto_rows": null,
            "grid_column": null,
            "grid_gap": null,
            "grid_row": null,
            "grid_template_areas": null,
            "grid_template_columns": null,
            "grid_template_rows": null,
            "height": null,
            "justify_content": null,
            "justify_items": null,
            "left": null,
            "margin": null,
            "max_height": null,
            "max_width": null,
            "min_height": null,
            "min_width": null,
            "object_fit": null,
            "object_position": null,
            "order": null,
            "overflow": null,
            "overflow_x": null,
            "overflow_y": null,
            "padding": null,
            "right": null,
            "top": null,
            "visibility": null,
            "width": null
          }
        },
        "0213dc66dfbf4a0b874024229b1d2fa2": {
          "model_module": "@jupyter-widgets/controls",
          "model_name": "DescriptionStyleModel",
          "model_module_version": "1.5.0",
          "state": {
            "_model_module": "@jupyter-widgets/controls",
            "_model_module_version": "1.5.0",
            "_model_name": "DescriptionStyleModel",
            "_view_count": null,
            "_view_module": "@jupyter-widgets/base",
            "_view_module_version": "1.2.0",
            "_view_name": "StyleView",
            "description_width": ""
          }
        },
        "cdd7cdfc193b4f9ebd44df9e4beff470": {
          "model_module": "@jupyter-widgets/base",
          "model_name": "LayoutModel",
          "model_module_version": "1.2.0",
          "state": {
            "_model_module": "@jupyter-widgets/base",
            "_model_module_version": "1.2.0",
            "_model_name": "LayoutModel",
            "_view_count": null,
            "_view_module": "@jupyter-widgets/base",
            "_view_module_version": "1.2.0",
            "_view_name": "LayoutView",
            "align_content": null,
            "align_items": null,
            "align_self": null,
            "border": null,
            "bottom": null,
            "display": null,
            "flex": null,
            "flex_flow": null,
            "grid_area": null,
            "grid_auto_columns": null,
            "grid_auto_flow": null,
            "grid_auto_rows": null,
            "grid_column": null,
            "grid_gap": null,
            "grid_row": null,
            "grid_template_areas": null,
            "grid_template_columns": null,
            "grid_template_rows": null,
            "height": null,
            "justify_content": null,
            "justify_items": null,
            "left": null,
            "margin": null,
            "max_height": null,
            "max_width": null,
            "min_height": null,
            "min_width": null,
            "object_fit": null,
            "object_position": null,
            "order": null,
            "overflow": null,
            "overflow_x": null,
            "overflow_y": null,
            "padding": null,
            "right": null,
            "top": null,
            "visibility": null,
            "width": null
          }
        },
        "01d3da1e2c7e4e009f20e6a3e8bb4291": {
          "model_module": "@jupyter-widgets/controls",
          "model_name": "ProgressStyleModel",
          "model_module_version": "1.5.0",
          "state": {
            "_model_module": "@jupyter-widgets/controls",
            "_model_module_version": "1.5.0",
            "_model_name": "ProgressStyleModel",
            "_view_count": null,
            "_view_module": "@jupyter-widgets/base",
            "_view_module_version": "1.2.0",
            "_view_name": "StyleView",
            "bar_color": null,
            "description_width": ""
          }
        },
        "95c0e012c2e44257858edfe155ca2aec": {
          "model_module": "@jupyter-widgets/base",
          "model_name": "LayoutModel",
          "model_module_version": "1.2.0",
          "state": {
            "_model_module": "@jupyter-widgets/base",
            "_model_module_version": "1.2.0",
            "_model_name": "LayoutModel",
            "_view_count": null,
            "_view_module": "@jupyter-widgets/base",
            "_view_module_version": "1.2.0",
            "_view_name": "LayoutView",
            "align_content": null,
            "align_items": null,
            "align_self": null,
            "border": null,
            "bottom": null,
            "display": null,
            "flex": null,
            "flex_flow": null,
            "grid_area": null,
            "grid_auto_columns": null,
            "grid_auto_flow": null,
            "grid_auto_rows": null,
            "grid_column": null,
            "grid_gap": null,
            "grid_row": null,
            "grid_template_areas": null,
            "grid_template_columns": null,
            "grid_template_rows": null,
            "height": null,
            "justify_content": null,
            "justify_items": null,
            "left": null,
            "margin": null,
            "max_height": null,
            "max_width": null,
            "min_height": null,
            "min_width": null,
            "object_fit": null,
            "object_position": null,
            "order": null,
            "overflow": null,
            "overflow_x": null,
            "overflow_y": null,
            "padding": null,
            "right": null,
            "top": null,
            "visibility": null,
            "width": null
          }
        },
        "689b530ba29d488e82e9b2ef3d0ee394": {
          "model_module": "@jupyter-widgets/controls",
          "model_name": "DescriptionStyleModel",
          "model_module_version": "1.5.0",
          "state": {
            "_model_module": "@jupyter-widgets/controls",
            "_model_module_version": "1.5.0",
            "_model_name": "DescriptionStyleModel",
            "_view_count": null,
            "_view_module": "@jupyter-widgets/base",
            "_view_module_version": "1.2.0",
            "_view_name": "StyleView",
            "description_width": ""
          }
        },
        "e0bbe8a17b624eb6b8ffdc3c984d158c": {
          "model_module": "@jupyter-widgets/controls",
          "model_name": "HBoxModel",
          "model_module_version": "1.5.0",
          "state": {
            "_dom_classes": [],
            "_model_module": "@jupyter-widgets/controls",
            "_model_module_version": "1.5.0",
            "_model_name": "HBoxModel",
            "_view_count": null,
            "_view_module": "@jupyter-widgets/controls",
            "_view_module_version": "1.5.0",
            "_view_name": "HBoxView",
            "box_style": "",
            "children": [
              "IPY_MODEL_9f7ab87251134c82b506ac8727449851",
              "IPY_MODEL_6fb59daee0bb43e094320166948ab674",
              "IPY_MODEL_9f680686490a445da2e7f7e1e22d68fe"
            ],
            "layout": "IPY_MODEL_bfb8152acbb14b1399902979077a30e5"
          }
        },
        "9f7ab87251134c82b506ac8727449851": {
          "model_module": "@jupyter-widgets/controls",
          "model_name": "HTMLModel",
          "model_module_version": "1.5.0",
          "state": {
            "_dom_classes": [],
            "_model_module": "@jupyter-widgets/controls",
            "_model_module_version": "1.5.0",
            "_model_name": "HTMLModel",
            "_view_count": null,
            "_view_module": "@jupyter-widgets/controls",
            "_view_module_version": "1.5.0",
            "_view_name": "HTMLView",
            "description": "",
            "description_tooltip": null,
            "layout": "IPY_MODEL_1e5009c741e74d05b7ef994d8bb8431d",
            "placeholder": "​",
            "style": "IPY_MODEL_92422550fe534e939e1807b616aecf71",
            "value": "Downloading: 100%"
          }
        },
        "6fb59daee0bb43e094320166948ab674": {
          "model_module": "@jupyter-widgets/controls",
          "model_name": "FloatProgressModel",
          "model_module_version": "1.5.0",
          "state": {
            "_dom_classes": [],
            "_model_module": "@jupyter-widgets/controls",
            "_model_module_version": "1.5.0",
            "_model_name": "FloatProgressModel",
            "_view_count": null,
            "_view_module": "@jupyter-widgets/controls",
            "_view_module_version": "1.5.0",
            "_view_name": "ProgressView",
            "bar_style": "success",
            "description": "",
            "description_tooltip": null,
            "layout": "IPY_MODEL_dced3b9e16c145bfac49afe388514404",
            "max": 56,
            "min": 0,
            "orientation": "horizontal",
            "style": "IPY_MODEL_7567791fbdac46beae61d2e2461427d1",
            "value": 56
          }
        },
        "9f680686490a445da2e7f7e1e22d68fe": {
          "model_module": "@jupyter-widgets/controls",
          "model_name": "HTMLModel",
          "model_module_version": "1.5.0",
          "state": {
            "_dom_classes": [],
            "_model_module": "@jupyter-widgets/controls",
            "_model_module_version": "1.5.0",
            "_model_name": "HTMLModel",
            "_view_count": null,
            "_view_module": "@jupyter-widgets/controls",
            "_view_module_version": "1.5.0",
            "_view_name": "HTMLView",
            "description": "",
            "description_tooltip": null,
            "layout": "IPY_MODEL_ffcb1b2fd76f4a3987f175d9d9951675",
            "placeholder": "​",
            "style": "IPY_MODEL_5cb38230c1fe4b87ab5ae6cc87f659cd",
            "value": " 56.0/56.0 [00:00&lt;00:00, 756B/s]"
          }
        },
        "bfb8152acbb14b1399902979077a30e5": {
          "model_module": "@jupyter-widgets/base",
          "model_name": "LayoutModel",
          "model_module_version": "1.2.0",
          "state": {
            "_model_module": "@jupyter-widgets/base",
            "_model_module_version": "1.2.0",
            "_model_name": "LayoutModel",
            "_view_count": null,
            "_view_module": "@jupyter-widgets/base",
            "_view_module_version": "1.2.0",
            "_view_name": "LayoutView",
            "align_content": null,
            "align_items": null,
            "align_self": null,
            "border": null,
            "bottom": null,
            "display": null,
            "flex": null,
            "flex_flow": null,
            "grid_area": null,
            "grid_auto_columns": null,
            "grid_auto_flow": null,
            "grid_auto_rows": null,
            "grid_column": null,
            "grid_gap": null,
            "grid_row": null,
            "grid_template_areas": null,
            "grid_template_columns": null,
            "grid_template_rows": null,
            "height": null,
            "justify_content": null,
            "justify_items": null,
            "left": null,
            "margin": null,
            "max_height": null,
            "max_width": null,
            "min_height": null,
            "min_width": null,
            "object_fit": null,
            "object_position": null,
            "order": null,
            "overflow": null,
            "overflow_x": null,
            "overflow_y": null,
            "padding": null,
            "right": null,
            "top": null,
            "visibility": null,
            "width": null
          }
        },
        "1e5009c741e74d05b7ef994d8bb8431d": {
          "model_module": "@jupyter-widgets/base",
          "model_name": "LayoutModel",
          "model_module_version": "1.2.0",
          "state": {
            "_model_module": "@jupyter-widgets/base",
            "_model_module_version": "1.2.0",
            "_model_name": "LayoutModel",
            "_view_count": null,
            "_view_module": "@jupyter-widgets/base",
            "_view_module_version": "1.2.0",
            "_view_name": "LayoutView",
            "align_content": null,
            "align_items": null,
            "align_self": null,
            "border": null,
            "bottom": null,
            "display": null,
            "flex": null,
            "flex_flow": null,
            "grid_area": null,
            "grid_auto_columns": null,
            "grid_auto_flow": null,
            "grid_auto_rows": null,
            "grid_column": null,
            "grid_gap": null,
            "grid_row": null,
            "grid_template_areas": null,
            "grid_template_columns": null,
            "grid_template_rows": null,
            "height": null,
            "justify_content": null,
            "justify_items": null,
            "left": null,
            "margin": null,
            "max_height": null,
            "max_width": null,
            "min_height": null,
            "min_width": null,
            "object_fit": null,
            "object_position": null,
            "order": null,
            "overflow": null,
            "overflow_x": null,
            "overflow_y": null,
            "padding": null,
            "right": null,
            "top": null,
            "visibility": null,
            "width": null
          }
        },
        "92422550fe534e939e1807b616aecf71": {
          "model_module": "@jupyter-widgets/controls",
          "model_name": "DescriptionStyleModel",
          "model_module_version": "1.5.0",
          "state": {
            "_model_module": "@jupyter-widgets/controls",
            "_model_module_version": "1.5.0",
            "_model_name": "DescriptionStyleModel",
            "_view_count": null,
            "_view_module": "@jupyter-widgets/base",
            "_view_module_version": "1.2.0",
            "_view_name": "StyleView",
            "description_width": ""
          }
        },
        "dced3b9e16c145bfac49afe388514404": {
          "model_module": "@jupyter-widgets/base",
          "model_name": "LayoutModel",
          "model_module_version": "1.2.0",
          "state": {
            "_model_module": "@jupyter-widgets/base",
            "_model_module_version": "1.2.0",
            "_model_name": "LayoutModel",
            "_view_count": null,
            "_view_module": "@jupyter-widgets/base",
            "_view_module_version": "1.2.0",
            "_view_name": "LayoutView",
            "align_content": null,
            "align_items": null,
            "align_self": null,
            "border": null,
            "bottom": null,
            "display": null,
            "flex": null,
            "flex_flow": null,
            "grid_area": null,
            "grid_auto_columns": null,
            "grid_auto_flow": null,
            "grid_auto_rows": null,
            "grid_column": null,
            "grid_gap": null,
            "grid_row": null,
            "grid_template_areas": null,
            "grid_template_columns": null,
            "grid_template_rows": null,
            "height": null,
            "justify_content": null,
            "justify_items": null,
            "left": null,
            "margin": null,
            "max_height": null,
            "max_width": null,
            "min_height": null,
            "min_width": null,
            "object_fit": null,
            "object_position": null,
            "order": null,
            "overflow": null,
            "overflow_x": null,
            "overflow_y": null,
            "padding": null,
            "right": null,
            "top": null,
            "visibility": null,
            "width": null
          }
        },
        "7567791fbdac46beae61d2e2461427d1": {
          "model_module": "@jupyter-widgets/controls",
          "model_name": "ProgressStyleModel",
          "model_module_version": "1.5.0",
          "state": {
            "_model_module": "@jupyter-widgets/controls",
            "_model_module_version": "1.5.0",
            "_model_name": "ProgressStyleModel",
            "_view_count": null,
            "_view_module": "@jupyter-widgets/base",
            "_view_module_version": "1.2.0",
            "_view_name": "StyleView",
            "bar_color": null,
            "description_width": ""
          }
        },
        "ffcb1b2fd76f4a3987f175d9d9951675": {
          "model_module": "@jupyter-widgets/base",
          "model_name": "LayoutModel",
          "model_module_version": "1.2.0",
          "state": {
            "_model_module": "@jupyter-widgets/base",
            "_model_module_version": "1.2.0",
            "_model_name": "LayoutModel",
            "_view_count": null,
            "_view_module": "@jupyter-widgets/base",
            "_view_module_version": "1.2.0",
            "_view_name": "LayoutView",
            "align_content": null,
            "align_items": null,
            "align_self": null,
            "border": null,
            "bottom": null,
            "display": null,
            "flex": null,
            "flex_flow": null,
            "grid_area": null,
            "grid_auto_columns": null,
            "grid_auto_flow": null,
            "grid_auto_rows": null,
            "grid_column": null,
            "grid_gap": null,
            "grid_row": null,
            "grid_template_areas": null,
            "grid_template_columns": null,
            "grid_template_rows": null,
            "height": null,
            "justify_content": null,
            "justify_items": null,
            "left": null,
            "margin": null,
            "max_height": null,
            "max_width": null,
            "min_height": null,
            "min_width": null,
            "object_fit": null,
            "object_position": null,
            "order": null,
            "overflow": null,
            "overflow_x": null,
            "overflow_y": null,
            "padding": null,
            "right": null,
            "top": null,
            "visibility": null,
            "width": null
          }
        },
        "5cb38230c1fe4b87ab5ae6cc87f659cd": {
          "model_module": "@jupyter-widgets/controls",
          "model_name": "DescriptionStyleModel",
          "model_module_version": "1.5.0",
          "state": {
            "_model_module": "@jupyter-widgets/controls",
            "_model_module_version": "1.5.0",
            "_model_name": "DescriptionStyleModel",
            "_view_count": null,
            "_view_module": "@jupyter-widgets/base",
            "_view_module_version": "1.2.0",
            "_view_name": "StyleView",
            "description_width": ""
          }
        },
        "8717c487617b4121bb809a7ee771a19d": {
          "model_module": "@jupyter-widgets/controls",
          "model_name": "HBoxModel",
          "model_module_version": "1.5.0",
          "state": {
            "_dom_classes": [],
            "_model_module": "@jupyter-widgets/controls",
            "_model_module_version": "1.5.0",
            "_model_name": "HBoxModel",
            "_view_count": null,
            "_view_module": "@jupyter-widgets/controls",
            "_view_module_version": "1.5.0",
            "_view_name": "HBoxView",
            "box_style": "",
            "children": [
              "IPY_MODEL_9092aa03d3e1474abbb3a54300f890d0",
              "IPY_MODEL_ccf6a9ce6bd141a189c3f37be100fd23",
              "IPY_MODEL_61995966928d4e98b61dd7374f020834"
            ],
            "layout": "IPY_MODEL_25d13ad9e72041d2ace2f1dfb1d19115"
          }
        },
        "9092aa03d3e1474abbb3a54300f890d0": {
          "model_module": "@jupyter-widgets/controls",
          "model_name": "HTMLModel",
          "model_module_version": "1.5.0",
          "state": {
            "_dom_classes": [],
            "_model_module": "@jupyter-widgets/controls",
            "_model_module_version": "1.5.0",
            "_model_name": "HTMLModel",
            "_view_count": null,
            "_view_module": "@jupyter-widgets/controls",
            "_view_module_version": "1.5.0",
            "_view_name": "HTMLView",
            "description": "",
            "description_tooltip": null,
            "layout": "IPY_MODEL_5af1f654829742769d8760604c10153d",
            "placeholder": "​",
            "style": "IPY_MODEL_ef08fc5e1b534925ae924f204e2c28ef",
            "value": "Downloading: 100%"
          }
        },
        "ccf6a9ce6bd141a189c3f37be100fd23": {
          "model_module": "@jupyter-widgets/controls",
          "model_name": "FloatProgressModel",
          "model_module_version": "1.5.0",
          "state": {
            "_dom_classes": [],
            "_model_module": "@jupyter-widgets/controls",
            "_model_module_version": "1.5.0",
            "_model_name": "FloatProgressModel",
            "_view_count": null,
            "_view_module": "@jupyter-widgets/controls",
            "_view_module_version": "1.5.0",
            "_view_name": "ProgressView",
            "bar_style": "success",
            "description": "",
            "description_tooltip": null,
            "layout": "IPY_MODEL_43ce0f82895c417d8aa094c94afd2b96",
            "max": 468,
            "min": 0,
            "orientation": "horizontal",
            "style": "IPY_MODEL_cdd9ad27e3124fda96fc2c9a753f7749",
            "value": 468
          }
        },
        "61995966928d4e98b61dd7374f020834": {
          "model_module": "@jupyter-widgets/controls",
          "model_name": "HTMLModel",
          "model_module_version": "1.5.0",
          "state": {
            "_dom_classes": [],
            "_model_module": "@jupyter-widgets/controls",
            "_model_module_version": "1.5.0",
            "_model_name": "HTMLModel",
            "_view_count": null,
            "_view_module": "@jupyter-widgets/controls",
            "_view_module_version": "1.5.0",
            "_view_name": "HTMLView",
            "description": "",
            "description_tooltip": null,
            "layout": "IPY_MODEL_a191d5277e6947b89c1404850b88f347",
            "placeholder": "​",
            "style": "IPY_MODEL_d1371d4d89e74bfb9a8a9b8ff9a62dff",
            "value": " 468/468 [00:00&lt;00:00, 3.82kB/s]"
          }
        },
        "25d13ad9e72041d2ace2f1dfb1d19115": {
          "model_module": "@jupyter-widgets/base",
          "model_name": "LayoutModel",
          "model_module_version": "1.2.0",
          "state": {
            "_model_module": "@jupyter-widgets/base",
            "_model_module_version": "1.2.0",
            "_model_name": "LayoutModel",
            "_view_count": null,
            "_view_module": "@jupyter-widgets/base",
            "_view_module_version": "1.2.0",
            "_view_name": "LayoutView",
            "align_content": null,
            "align_items": null,
            "align_self": null,
            "border": null,
            "bottom": null,
            "display": null,
            "flex": null,
            "flex_flow": null,
            "grid_area": null,
            "grid_auto_columns": null,
            "grid_auto_flow": null,
            "grid_auto_rows": null,
            "grid_column": null,
            "grid_gap": null,
            "grid_row": null,
            "grid_template_areas": null,
            "grid_template_columns": null,
            "grid_template_rows": null,
            "height": null,
            "justify_content": null,
            "justify_items": null,
            "left": null,
            "margin": null,
            "max_height": null,
            "max_width": null,
            "min_height": null,
            "min_width": null,
            "object_fit": null,
            "object_position": null,
            "order": null,
            "overflow": null,
            "overflow_x": null,
            "overflow_y": null,
            "padding": null,
            "right": null,
            "top": null,
            "visibility": null,
            "width": null
          }
        },
        "5af1f654829742769d8760604c10153d": {
          "model_module": "@jupyter-widgets/base",
          "model_name": "LayoutModel",
          "model_module_version": "1.2.0",
          "state": {
            "_model_module": "@jupyter-widgets/base",
            "_model_module_version": "1.2.0",
            "_model_name": "LayoutModel",
            "_view_count": null,
            "_view_module": "@jupyter-widgets/base",
            "_view_module_version": "1.2.0",
            "_view_name": "LayoutView",
            "align_content": null,
            "align_items": null,
            "align_self": null,
            "border": null,
            "bottom": null,
            "display": null,
            "flex": null,
            "flex_flow": null,
            "grid_area": null,
            "grid_auto_columns": null,
            "grid_auto_flow": null,
            "grid_auto_rows": null,
            "grid_column": null,
            "grid_gap": null,
            "grid_row": null,
            "grid_template_areas": null,
            "grid_template_columns": null,
            "grid_template_rows": null,
            "height": null,
            "justify_content": null,
            "justify_items": null,
            "left": null,
            "margin": null,
            "max_height": null,
            "max_width": null,
            "min_height": null,
            "min_width": null,
            "object_fit": null,
            "object_position": null,
            "order": null,
            "overflow": null,
            "overflow_x": null,
            "overflow_y": null,
            "padding": null,
            "right": null,
            "top": null,
            "visibility": null,
            "width": null
          }
        },
        "ef08fc5e1b534925ae924f204e2c28ef": {
          "model_module": "@jupyter-widgets/controls",
          "model_name": "DescriptionStyleModel",
          "model_module_version": "1.5.0",
          "state": {
            "_model_module": "@jupyter-widgets/controls",
            "_model_module_version": "1.5.0",
            "_model_name": "DescriptionStyleModel",
            "_view_count": null,
            "_view_module": "@jupyter-widgets/base",
            "_view_module_version": "1.2.0",
            "_view_name": "StyleView",
            "description_width": ""
          }
        },
        "43ce0f82895c417d8aa094c94afd2b96": {
          "model_module": "@jupyter-widgets/base",
          "model_name": "LayoutModel",
          "model_module_version": "1.2.0",
          "state": {
            "_model_module": "@jupyter-widgets/base",
            "_model_module_version": "1.2.0",
            "_model_name": "LayoutModel",
            "_view_count": null,
            "_view_module": "@jupyter-widgets/base",
            "_view_module_version": "1.2.0",
            "_view_name": "LayoutView",
            "align_content": null,
            "align_items": null,
            "align_self": null,
            "border": null,
            "bottom": null,
            "display": null,
            "flex": null,
            "flex_flow": null,
            "grid_area": null,
            "grid_auto_columns": null,
            "grid_auto_flow": null,
            "grid_auto_rows": null,
            "grid_column": null,
            "grid_gap": null,
            "grid_row": null,
            "grid_template_areas": null,
            "grid_template_columns": null,
            "grid_template_rows": null,
            "height": null,
            "justify_content": null,
            "justify_items": null,
            "left": null,
            "margin": null,
            "max_height": null,
            "max_width": null,
            "min_height": null,
            "min_width": null,
            "object_fit": null,
            "object_position": null,
            "order": null,
            "overflow": null,
            "overflow_x": null,
            "overflow_y": null,
            "padding": null,
            "right": null,
            "top": null,
            "visibility": null,
            "width": null
          }
        },
        "cdd9ad27e3124fda96fc2c9a753f7749": {
          "model_module": "@jupyter-widgets/controls",
          "model_name": "ProgressStyleModel",
          "model_module_version": "1.5.0",
          "state": {
            "_model_module": "@jupyter-widgets/controls",
            "_model_module_version": "1.5.0",
            "_model_name": "ProgressStyleModel",
            "_view_count": null,
            "_view_module": "@jupyter-widgets/base",
            "_view_module_version": "1.2.0",
            "_view_name": "StyleView",
            "bar_color": null,
            "description_width": ""
          }
        },
        "a191d5277e6947b89c1404850b88f347": {
          "model_module": "@jupyter-widgets/base",
          "model_name": "LayoutModel",
          "model_module_version": "1.2.0",
          "state": {
            "_model_module": "@jupyter-widgets/base",
            "_model_module_version": "1.2.0",
            "_model_name": "LayoutModel",
            "_view_count": null,
            "_view_module": "@jupyter-widgets/base",
            "_view_module_version": "1.2.0",
            "_view_name": "LayoutView",
            "align_content": null,
            "align_items": null,
            "align_self": null,
            "border": null,
            "bottom": null,
            "display": null,
            "flex": null,
            "flex_flow": null,
            "grid_area": null,
            "grid_auto_columns": null,
            "grid_auto_flow": null,
            "grid_auto_rows": null,
            "grid_column": null,
            "grid_gap": null,
            "grid_row": null,
            "grid_template_areas": null,
            "grid_template_columns": null,
            "grid_template_rows": null,
            "height": null,
            "justify_content": null,
            "justify_items": null,
            "left": null,
            "margin": null,
            "max_height": null,
            "max_width": null,
            "min_height": null,
            "min_width": null,
            "object_fit": null,
            "object_position": null,
            "order": null,
            "overflow": null,
            "overflow_x": null,
            "overflow_y": null,
            "padding": null,
            "right": null,
            "top": null,
            "visibility": null,
            "width": null
          }
        },
        "d1371d4d89e74bfb9a8a9b8ff9a62dff": {
          "model_module": "@jupyter-widgets/controls",
          "model_name": "DescriptionStyleModel",
          "model_module_version": "1.5.0",
          "state": {
            "_model_module": "@jupyter-widgets/controls",
            "_model_module_version": "1.5.0",
            "_model_name": "DescriptionStyleModel",
            "_view_count": null,
            "_view_module": "@jupyter-widgets/base",
            "_view_module_version": "1.2.0",
            "_view_name": "StyleView",
            "description_width": ""
          }
        },
        "cfecc5a63f124f56b5e0f9ce6b9e2f09": {
          "model_module": "@jupyter-widgets/controls",
          "model_name": "HBoxModel",
          "model_module_version": "1.5.0",
          "state": {
            "_dom_classes": [],
            "_model_module": "@jupyter-widgets/controls",
            "_model_module_version": "1.5.0",
            "_model_name": "HBoxModel",
            "_view_count": null,
            "_view_module": "@jupyter-widgets/controls",
            "_view_module_version": "1.5.0",
            "_view_name": "HBoxView",
            "box_style": "",
            "children": [
              "IPY_MODEL_ed1ee9f9cd3a41ddafe31d909a0f00ab",
              "IPY_MODEL_a83afcc5b45a457d9d77e13dc6b60f83",
              "IPY_MODEL_88da87486f4e45249f98f4982b58eb70"
            ],
            "layout": "IPY_MODEL_77b9cdfbd3c445feadb3292821b792d3"
          }
        },
        "ed1ee9f9cd3a41ddafe31d909a0f00ab": {
          "model_module": "@jupyter-widgets/controls",
          "model_name": "HTMLModel",
          "model_module_version": "1.5.0",
          "state": {
            "_dom_classes": [],
            "_model_module": "@jupyter-widgets/controls",
            "_model_module_version": "1.5.0",
            "_model_name": "HTMLModel",
            "_view_count": null,
            "_view_module": "@jupyter-widgets/controls",
            "_view_module_version": "1.5.0",
            "_view_name": "HTMLView",
            "description": "",
            "description_tooltip": null,
            "layout": "IPY_MODEL_3e66530678524df5888c5030a0ea41bd",
            "placeholder": "​",
            "style": "IPY_MODEL_d2f4527b389046918d7714b5a9ea87e5",
            "value": "Downloading: 100%"
          }
        },
        "a83afcc5b45a457d9d77e13dc6b60f83": {
          "model_module": "@jupyter-widgets/controls",
          "model_name": "FloatProgressModel",
          "model_module_version": "1.5.0",
          "state": {
            "_dom_classes": [],
            "_model_module": "@jupyter-widgets/controls",
            "_model_module_version": "1.5.0",
            "_model_name": "FloatProgressModel",
            "_view_count": null,
            "_view_module": "@jupyter-widgets/controls",
            "_view_module_version": "1.5.0",
            "_view_name": "ProgressView",
            "bar_style": "success",
            "description": "",
            "description_tooltip": null,
            "layout": "IPY_MODEL_f1a30ce4cd6745d19438c094116ba869",
            "max": 213726,
            "min": 0,
            "orientation": "horizontal",
            "style": "IPY_MODEL_e4512cfbf04a434c8eac894caec85899",
            "value": 213726
          }
        },
        "88da87486f4e45249f98f4982b58eb70": {
          "model_module": "@jupyter-widgets/controls",
          "model_name": "HTMLModel",
          "model_module_version": "1.5.0",
          "state": {
            "_dom_classes": [],
            "_model_module": "@jupyter-widgets/controls",
            "_model_module_version": "1.5.0",
            "_model_name": "HTMLModel",
            "_view_count": null,
            "_view_module": "@jupyter-widgets/controls",
            "_view_module_version": "1.5.0",
            "_view_name": "HTMLView",
            "description": "",
            "description_tooltip": null,
            "layout": "IPY_MODEL_733ee8063baa4cd7be5ac1bac9bdc523",
            "placeholder": "​",
            "style": "IPY_MODEL_fcf31e58df45461e9a0c4b4c16884c38",
            "value": " 214k/214k [00:00&lt;00:00, 258kB/s]"
          }
        },
        "77b9cdfbd3c445feadb3292821b792d3": {
          "model_module": "@jupyter-widgets/base",
          "model_name": "LayoutModel",
          "model_module_version": "1.2.0",
          "state": {
            "_model_module": "@jupyter-widgets/base",
            "_model_module_version": "1.2.0",
            "_model_name": "LayoutModel",
            "_view_count": null,
            "_view_module": "@jupyter-widgets/base",
            "_view_module_version": "1.2.0",
            "_view_name": "LayoutView",
            "align_content": null,
            "align_items": null,
            "align_self": null,
            "border": null,
            "bottom": null,
            "display": null,
            "flex": null,
            "flex_flow": null,
            "grid_area": null,
            "grid_auto_columns": null,
            "grid_auto_flow": null,
            "grid_auto_rows": null,
            "grid_column": null,
            "grid_gap": null,
            "grid_row": null,
            "grid_template_areas": null,
            "grid_template_columns": null,
            "grid_template_rows": null,
            "height": null,
            "justify_content": null,
            "justify_items": null,
            "left": null,
            "margin": null,
            "max_height": null,
            "max_width": null,
            "min_height": null,
            "min_width": null,
            "object_fit": null,
            "object_position": null,
            "order": null,
            "overflow": null,
            "overflow_x": null,
            "overflow_y": null,
            "padding": null,
            "right": null,
            "top": null,
            "visibility": null,
            "width": null
          }
        },
        "3e66530678524df5888c5030a0ea41bd": {
          "model_module": "@jupyter-widgets/base",
          "model_name": "LayoutModel",
          "model_module_version": "1.2.0",
          "state": {
            "_model_module": "@jupyter-widgets/base",
            "_model_module_version": "1.2.0",
            "_model_name": "LayoutModel",
            "_view_count": null,
            "_view_module": "@jupyter-widgets/base",
            "_view_module_version": "1.2.0",
            "_view_name": "LayoutView",
            "align_content": null,
            "align_items": null,
            "align_self": null,
            "border": null,
            "bottom": null,
            "display": null,
            "flex": null,
            "flex_flow": null,
            "grid_area": null,
            "grid_auto_columns": null,
            "grid_auto_flow": null,
            "grid_auto_rows": null,
            "grid_column": null,
            "grid_gap": null,
            "grid_row": null,
            "grid_template_areas": null,
            "grid_template_columns": null,
            "grid_template_rows": null,
            "height": null,
            "justify_content": null,
            "justify_items": null,
            "left": null,
            "margin": null,
            "max_height": null,
            "max_width": null,
            "min_height": null,
            "min_width": null,
            "object_fit": null,
            "object_position": null,
            "order": null,
            "overflow": null,
            "overflow_x": null,
            "overflow_y": null,
            "padding": null,
            "right": null,
            "top": null,
            "visibility": null,
            "width": null
          }
        },
        "d2f4527b389046918d7714b5a9ea87e5": {
          "model_module": "@jupyter-widgets/controls",
          "model_name": "DescriptionStyleModel",
          "model_module_version": "1.5.0",
          "state": {
            "_model_module": "@jupyter-widgets/controls",
            "_model_module_version": "1.5.0",
            "_model_name": "DescriptionStyleModel",
            "_view_count": null,
            "_view_module": "@jupyter-widgets/base",
            "_view_module_version": "1.2.0",
            "_view_name": "StyleView",
            "description_width": ""
          }
        },
        "f1a30ce4cd6745d19438c094116ba869": {
          "model_module": "@jupyter-widgets/base",
          "model_name": "LayoutModel",
          "model_module_version": "1.2.0",
          "state": {
            "_model_module": "@jupyter-widgets/base",
            "_model_module_version": "1.2.0",
            "_model_name": "LayoutModel",
            "_view_count": null,
            "_view_module": "@jupyter-widgets/base",
            "_view_module_version": "1.2.0",
            "_view_name": "LayoutView",
            "align_content": null,
            "align_items": null,
            "align_self": null,
            "border": null,
            "bottom": null,
            "display": null,
            "flex": null,
            "flex_flow": null,
            "grid_area": null,
            "grid_auto_columns": null,
            "grid_auto_flow": null,
            "grid_auto_rows": null,
            "grid_column": null,
            "grid_gap": null,
            "grid_row": null,
            "grid_template_areas": null,
            "grid_template_columns": null,
            "grid_template_rows": null,
            "height": null,
            "justify_content": null,
            "justify_items": null,
            "left": null,
            "margin": null,
            "max_height": null,
            "max_width": null,
            "min_height": null,
            "min_width": null,
            "object_fit": null,
            "object_position": null,
            "order": null,
            "overflow": null,
            "overflow_x": null,
            "overflow_y": null,
            "padding": null,
            "right": null,
            "top": null,
            "visibility": null,
            "width": null
          }
        },
        "e4512cfbf04a434c8eac894caec85899": {
          "model_module": "@jupyter-widgets/controls",
          "model_name": "ProgressStyleModel",
          "model_module_version": "1.5.0",
          "state": {
            "_model_module": "@jupyter-widgets/controls",
            "_model_module_version": "1.5.0",
            "_model_name": "ProgressStyleModel",
            "_view_count": null,
            "_view_module": "@jupyter-widgets/base",
            "_view_module_version": "1.2.0",
            "_view_name": "StyleView",
            "bar_color": null,
            "description_width": ""
          }
        },
        "733ee8063baa4cd7be5ac1bac9bdc523": {
          "model_module": "@jupyter-widgets/base",
          "model_name": "LayoutModel",
          "model_module_version": "1.2.0",
          "state": {
            "_model_module": "@jupyter-widgets/base",
            "_model_module_version": "1.2.0",
            "_model_name": "LayoutModel",
            "_view_count": null,
            "_view_module": "@jupyter-widgets/base",
            "_view_module_version": "1.2.0",
            "_view_name": "LayoutView",
            "align_content": null,
            "align_items": null,
            "align_self": null,
            "border": null,
            "bottom": null,
            "display": null,
            "flex": null,
            "flex_flow": null,
            "grid_area": null,
            "grid_auto_columns": null,
            "grid_auto_flow": null,
            "grid_auto_rows": null,
            "grid_column": null,
            "grid_gap": null,
            "grid_row": null,
            "grid_template_areas": null,
            "grid_template_columns": null,
            "grid_template_rows": null,
            "height": null,
            "justify_content": null,
            "justify_items": null,
            "left": null,
            "margin": null,
            "max_height": null,
            "max_width": null,
            "min_height": null,
            "min_width": null,
            "object_fit": null,
            "object_position": null,
            "order": null,
            "overflow": null,
            "overflow_x": null,
            "overflow_y": null,
            "padding": null,
            "right": null,
            "top": null,
            "visibility": null,
            "width": null
          }
        },
        "fcf31e58df45461e9a0c4b4c16884c38": {
          "model_module": "@jupyter-widgets/controls",
          "model_name": "DescriptionStyleModel",
          "model_module_version": "1.5.0",
          "state": {
            "_model_module": "@jupyter-widgets/controls",
            "_model_module_version": "1.5.0",
            "_model_name": "DescriptionStyleModel",
            "_view_count": null,
            "_view_module": "@jupyter-widgets/base",
            "_view_module_version": "1.2.0",
            "_view_name": "StyleView",
            "description_width": ""
          }
        },
        "4c533574700c4651b5762f7057cf6fa1": {
          "model_module": "@jupyter-widgets/controls",
          "model_name": "HBoxModel",
          "model_module_version": "1.5.0",
          "state": {
            "_dom_classes": [],
            "_model_module": "@jupyter-widgets/controls",
            "_model_module_version": "1.5.0",
            "_model_name": "HBoxModel",
            "_view_count": null,
            "_view_module": "@jupyter-widgets/controls",
            "_view_module_version": "1.5.0",
            "_view_name": "HBoxView",
            "box_style": "",
            "children": [
              "IPY_MODEL_d4ba109dbf9b44e983b69b3304e8f758",
              "IPY_MODEL_ff56f0f050dd4f158679d488b472629c",
              "IPY_MODEL_632c39f6e7d146bcbe45fe1721007064"
            ],
            "layout": "IPY_MODEL_b0571dc9f5054c76b36ae02801e5d713"
          }
        },
        "d4ba109dbf9b44e983b69b3304e8f758": {
          "model_module": "@jupyter-widgets/controls",
          "model_name": "HTMLModel",
          "model_module_version": "1.5.0",
          "state": {
            "_dom_classes": [],
            "_model_module": "@jupyter-widgets/controls",
            "_model_module_version": "1.5.0",
            "_model_name": "HTMLModel",
            "_view_count": null,
            "_view_module": "@jupyter-widgets/controls",
            "_view_module_version": "1.5.0",
            "_view_name": "HTMLView",
            "description": "",
            "description_tooltip": null,
            "layout": "IPY_MODEL_51b3413b893d40549349f3ef98b6fe9d",
            "placeholder": "​",
            "style": "IPY_MODEL_08efaa64ffae44eeb4fc5f7110875284",
            "value": "Downloading: 100%"
          }
        },
        "ff56f0f050dd4f158679d488b472629c": {
          "model_module": "@jupyter-widgets/controls",
          "model_name": "FloatProgressModel",
          "model_module_version": "1.5.0",
          "state": {
            "_dom_classes": [],
            "_model_module": "@jupyter-widgets/controls",
            "_model_module_version": "1.5.0",
            "_model_name": "FloatProgressModel",
            "_view_count": null,
            "_view_module": "@jupyter-widgets/controls",
            "_view_module_version": "1.5.0",
            "_view_name": "ProgressView",
            "bar_style": "success",
            "description": "",
            "description_tooltip": null,
            "layout": "IPY_MODEL_3918d329f77a48fa926860c5a81c9fee",
            "max": 725,
            "min": 0,
            "orientation": "horizontal",
            "style": "IPY_MODEL_fd306ff577d94483906434aa104c962e",
            "value": 725
          }
        },
        "632c39f6e7d146bcbe45fe1721007064": {
          "model_module": "@jupyter-widgets/controls",
          "model_name": "HTMLModel",
          "model_module_version": "1.5.0",
          "state": {
            "_dom_classes": [],
            "_model_module": "@jupyter-widgets/controls",
            "_model_module_version": "1.5.0",
            "_model_name": "HTMLModel",
            "_view_count": null,
            "_view_module": "@jupyter-widgets/controls",
            "_view_module_version": "1.5.0",
            "_view_name": "HTMLView",
            "description": "",
            "description_tooltip": null,
            "layout": "IPY_MODEL_124817f761bd4c3eb910275a6a8c4218",
            "placeholder": "​",
            "style": "IPY_MODEL_f689a41801584fff89c8033c18ce1ba6",
            "value": " 725/725 [00:00&lt;00:00, 9.27kB/s]"
          }
        },
        "b0571dc9f5054c76b36ae02801e5d713": {
          "model_module": "@jupyter-widgets/base",
          "model_name": "LayoutModel",
          "model_module_version": "1.2.0",
          "state": {
            "_model_module": "@jupyter-widgets/base",
            "_model_module_version": "1.2.0",
            "_model_name": "LayoutModel",
            "_view_count": null,
            "_view_module": "@jupyter-widgets/base",
            "_view_module_version": "1.2.0",
            "_view_name": "LayoutView",
            "align_content": null,
            "align_items": null,
            "align_self": null,
            "border": null,
            "bottom": null,
            "display": null,
            "flex": null,
            "flex_flow": null,
            "grid_area": null,
            "grid_auto_columns": null,
            "grid_auto_flow": null,
            "grid_auto_rows": null,
            "grid_column": null,
            "grid_gap": null,
            "grid_row": null,
            "grid_template_areas": null,
            "grid_template_columns": null,
            "grid_template_rows": null,
            "height": null,
            "justify_content": null,
            "justify_items": null,
            "left": null,
            "margin": null,
            "max_height": null,
            "max_width": null,
            "min_height": null,
            "min_width": null,
            "object_fit": null,
            "object_position": null,
            "order": null,
            "overflow": null,
            "overflow_x": null,
            "overflow_y": null,
            "padding": null,
            "right": null,
            "top": null,
            "visibility": null,
            "width": null
          }
        },
        "51b3413b893d40549349f3ef98b6fe9d": {
          "model_module": "@jupyter-widgets/base",
          "model_name": "LayoutModel",
          "model_module_version": "1.2.0",
          "state": {
            "_model_module": "@jupyter-widgets/base",
            "_model_module_version": "1.2.0",
            "_model_name": "LayoutModel",
            "_view_count": null,
            "_view_module": "@jupyter-widgets/base",
            "_view_module_version": "1.2.0",
            "_view_name": "LayoutView",
            "align_content": null,
            "align_items": null,
            "align_self": null,
            "border": null,
            "bottom": null,
            "display": null,
            "flex": null,
            "flex_flow": null,
            "grid_area": null,
            "grid_auto_columns": null,
            "grid_auto_flow": null,
            "grid_auto_rows": null,
            "grid_column": null,
            "grid_gap": null,
            "grid_row": null,
            "grid_template_areas": null,
            "grid_template_columns": null,
            "grid_template_rows": null,
            "height": null,
            "justify_content": null,
            "justify_items": null,
            "left": null,
            "margin": null,
            "max_height": null,
            "max_width": null,
            "min_height": null,
            "min_width": null,
            "object_fit": null,
            "object_position": null,
            "order": null,
            "overflow": null,
            "overflow_x": null,
            "overflow_y": null,
            "padding": null,
            "right": null,
            "top": null,
            "visibility": null,
            "width": null
          }
        },
        "08efaa64ffae44eeb4fc5f7110875284": {
          "model_module": "@jupyter-widgets/controls",
          "model_name": "DescriptionStyleModel",
          "model_module_version": "1.5.0",
          "state": {
            "_model_module": "@jupyter-widgets/controls",
            "_model_module_version": "1.5.0",
            "_model_name": "DescriptionStyleModel",
            "_view_count": null,
            "_view_module": "@jupyter-widgets/base",
            "_view_module_version": "1.2.0",
            "_view_name": "StyleView",
            "description_width": ""
          }
        },
        "3918d329f77a48fa926860c5a81c9fee": {
          "model_module": "@jupyter-widgets/base",
          "model_name": "LayoutModel",
          "model_module_version": "1.2.0",
          "state": {
            "_model_module": "@jupyter-widgets/base",
            "_model_module_version": "1.2.0",
            "_model_name": "LayoutModel",
            "_view_count": null,
            "_view_module": "@jupyter-widgets/base",
            "_view_module_version": "1.2.0",
            "_view_name": "LayoutView",
            "align_content": null,
            "align_items": null,
            "align_self": null,
            "border": null,
            "bottom": null,
            "display": null,
            "flex": null,
            "flex_flow": null,
            "grid_area": null,
            "grid_auto_columns": null,
            "grid_auto_flow": null,
            "grid_auto_rows": null,
            "grid_column": null,
            "grid_gap": null,
            "grid_row": null,
            "grid_template_areas": null,
            "grid_template_columns": null,
            "grid_template_rows": null,
            "height": null,
            "justify_content": null,
            "justify_items": null,
            "left": null,
            "margin": null,
            "max_height": null,
            "max_width": null,
            "min_height": null,
            "min_width": null,
            "object_fit": null,
            "object_position": null,
            "order": null,
            "overflow": null,
            "overflow_x": null,
            "overflow_y": null,
            "padding": null,
            "right": null,
            "top": null,
            "visibility": null,
            "width": null
          }
        },
        "fd306ff577d94483906434aa104c962e": {
          "model_module": "@jupyter-widgets/controls",
          "model_name": "ProgressStyleModel",
          "model_module_version": "1.5.0",
          "state": {
            "_model_module": "@jupyter-widgets/controls",
            "_model_module_version": "1.5.0",
            "_model_name": "ProgressStyleModel",
            "_view_count": null,
            "_view_module": "@jupyter-widgets/base",
            "_view_module_version": "1.2.0",
            "_view_name": "StyleView",
            "bar_color": null,
            "description_width": ""
          }
        },
        "124817f761bd4c3eb910275a6a8c4218": {
          "model_module": "@jupyter-widgets/base",
          "model_name": "LayoutModel",
          "model_module_version": "1.2.0",
          "state": {
            "_model_module": "@jupyter-widgets/base",
            "_model_module_version": "1.2.0",
            "_model_name": "LayoutModel",
            "_view_count": null,
            "_view_module": "@jupyter-widgets/base",
            "_view_module_version": "1.2.0",
            "_view_name": "LayoutView",
            "align_content": null,
            "align_items": null,
            "align_self": null,
            "border": null,
            "bottom": null,
            "display": null,
            "flex": null,
            "flex_flow": null,
            "grid_area": null,
            "grid_auto_columns": null,
            "grid_auto_flow": null,
            "grid_auto_rows": null,
            "grid_column": null,
            "grid_gap": null,
            "grid_row": null,
            "grid_template_areas": null,
            "grid_template_columns": null,
            "grid_template_rows": null,
            "height": null,
            "justify_content": null,
            "justify_items": null,
            "left": null,
            "margin": null,
            "max_height": null,
            "max_width": null,
            "min_height": null,
            "min_width": null,
            "object_fit": null,
            "object_position": null,
            "order": null,
            "overflow": null,
            "overflow_x": null,
            "overflow_y": null,
            "padding": null,
            "right": null,
            "top": null,
            "visibility": null,
            "width": null
          }
        },
        "f689a41801584fff89c8033c18ce1ba6": {
          "model_module": "@jupyter-widgets/controls",
          "model_name": "DescriptionStyleModel",
          "model_module_version": "1.5.0",
          "state": {
            "_model_module": "@jupyter-widgets/controls",
            "_model_module_version": "1.5.0",
            "_model_name": "DescriptionStyleModel",
            "_view_count": null,
            "_view_module": "@jupyter-widgets/base",
            "_view_module_version": "1.2.0",
            "_view_name": "StyleView",
            "description_width": ""
          }
        },
        "cdd90f26982c44839a5fe88684f9ffb8": {
          "model_module": "@jupyter-widgets/controls",
          "model_name": "HBoxModel",
          "model_module_version": "1.5.0",
          "state": {
            "_dom_classes": [],
            "_model_module": "@jupyter-widgets/controls",
            "_model_module_version": "1.5.0",
            "_model_name": "HBoxModel",
            "_view_count": null,
            "_view_module": "@jupyter-widgets/controls",
            "_view_module_version": "1.5.0",
            "_view_name": "HBoxView",
            "box_style": "",
            "children": [
              "IPY_MODEL_a0a5fa720649435b83dd83d0256f4ba2",
              "IPY_MODEL_2fd9523c3bc64d11a3fae0ff5f7445d2",
              "IPY_MODEL_e574736e5a9a41a18480c7611592c03a"
            ],
            "layout": "IPY_MODEL_0ab1f96b15bb4deea78ce84c22ce4b90"
          }
        },
        "a0a5fa720649435b83dd83d0256f4ba2": {
          "model_module": "@jupyter-widgets/controls",
          "model_name": "HTMLModel",
          "model_module_version": "1.5.0",
          "state": {
            "_dom_classes": [],
            "_model_module": "@jupyter-widgets/controls",
            "_model_module_version": "1.5.0",
            "_model_name": "HTMLModel",
            "_view_count": null,
            "_view_module": "@jupyter-widgets/controls",
            "_view_module_version": "1.5.0",
            "_view_name": "HTMLView",
            "description": "",
            "description_tooltip": null,
            "layout": "IPY_MODEL_25cd9af336124e3fa780daf75f738e2f",
            "placeholder": "​",
            "style": "IPY_MODEL_59b4938f901a4748a7441751548c9d29",
            "value": "Downloading: 100%"
          }
        },
        "2fd9523c3bc64d11a3fae0ff5f7445d2": {
          "model_module": "@jupyter-widgets/controls",
          "model_name": "FloatProgressModel",
          "model_module_version": "1.5.0",
          "state": {
            "_dom_classes": [],
            "_model_module": "@jupyter-widgets/controls",
            "_model_module_version": "1.5.0",
            "_model_name": "FloatProgressModel",
            "_view_count": null,
            "_view_module": "@jupyter-widgets/controls",
            "_view_module_version": "1.5.0",
            "_view_name": "ProgressView",
            "bar_style": "success",
            "description": "",
            "description_tooltip": null,
            "layout": "IPY_MODEL_3f7230f4a2d1482fbe863254008107fb",
            "max": 475782997,
            "min": 0,
            "orientation": "horizontal",
            "style": "IPY_MODEL_bcce6b8f97ba47fcb76334f6cc2cc255",
            "value": 475782997
          }
        },
        "e574736e5a9a41a18480c7611592c03a": {
          "model_module": "@jupyter-widgets/controls",
          "model_name": "HTMLModel",
          "model_module_version": "1.5.0",
          "state": {
            "_dom_classes": [],
            "_model_module": "@jupyter-widgets/controls",
            "_model_module_version": "1.5.0",
            "_model_name": "HTMLModel",
            "_view_count": null,
            "_view_module": "@jupyter-widgets/controls",
            "_view_module_version": "1.5.0",
            "_view_name": "HTMLView",
            "description": "",
            "description_tooltip": null,
            "layout": "IPY_MODEL_9687c509285c4c808efebb28aa0fb680",
            "placeholder": "​",
            "style": "IPY_MODEL_d3b6e8fd52824c07945e6697343a318a",
            "value": " 476M/476M [00:16&lt;00:00, 38.6MB/s]"
          }
        },
        "0ab1f96b15bb4deea78ce84c22ce4b90": {
          "model_module": "@jupyter-widgets/base",
          "model_name": "LayoutModel",
          "model_module_version": "1.2.0",
          "state": {
            "_model_module": "@jupyter-widgets/base",
            "_model_module_version": "1.2.0",
            "_model_name": "LayoutModel",
            "_view_count": null,
            "_view_module": "@jupyter-widgets/base",
            "_view_module_version": "1.2.0",
            "_view_name": "LayoutView",
            "align_content": null,
            "align_items": null,
            "align_self": null,
            "border": null,
            "bottom": null,
            "display": null,
            "flex": null,
            "flex_flow": null,
            "grid_area": null,
            "grid_auto_columns": null,
            "grid_auto_flow": null,
            "grid_auto_rows": null,
            "grid_column": null,
            "grid_gap": null,
            "grid_row": null,
            "grid_template_areas": null,
            "grid_template_columns": null,
            "grid_template_rows": null,
            "height": null,
            "justify_content": null,
            "justify_items": null,
            "left": null,
            "margin": null,
            "max_height": null,
            "max_width": null,
            "min_height": null,
            "min_width": null,
            "object_fit": null,
            "object_position": null,
            "order": null,
            "overflow": null,
            "overflow_x": null,
            "overflow_y": null,
            "padding": null,
            "right": null,
            "top": null,
            "visibility": null,
            "width": null
          }
        },
        "25cd9af336124e3fa780daf75f738e2f": {
          "model_module": "@jupyter-widgets/base",
          "model_name": "LayoutModel",
          "model_module_version": "1.2.0",
          "state": {
            "_model_module": "@jupyter-widgets/base",
            "_model_module_version": "1.2.0",
            "_model_name": "LayoutModel",
            "_view_count": null,
            "_view_module": "@jupyter-widgets/base",
            "_view_module_version": "1.2.0",
            "_view_name": "LayoutView",
            "align_content": null,
            "align_items": null,
            "align_self": null,
            "border": null,
            "bottom": null,
            "display": null,
            "flex": null,
            "flex_flow": null,
            "grid_area": null,
            "grid_auto_columns": null,
            "grid_auto_flow": null,
            "grid_auto_rows": null,
            "grid_column": null,
            "grid_gap": null,
            "grid_row": null,
            "grid_template_areas": null,
            "grid_template_columns": null,
            "grid_template_rows": null,
            "height": null,
            "justify_content": null,
            "justify_items": null,
            "left": null,
            "margin": null,
            "max_height": null,
            "max_width": null,
            "min_height": null,
            "min_width": null,
            "object_fit": null,
            "object_position": null,
            "order": null,
            "overflow": null,
            "overflow_x": null,
            "overflow_y": null,
            "padding": null,
            "right": null,
            "top": null,
            "visibility": null,
            "width": null
          }
        },
        "59b4938f901a4748a7441751548c9d29": {
          "model_module": "@jupyter-widgets/controls",
          "model_name": "DescriptionStyleModel",
          "model_module_version": "1.5.0",
          "state": {
            "_model_module": "@jupyter-widgets/controls",
            "_model_module_version": "1.5.0",
            "_model_name": "DescriptionStyleModel",
            "_view_count": null,
            "_view_module": "@jupyter-widgets/base",
            "_view_module_version": "1.2.0",
            "_view_name": "StyleView",
            "description_width": ""
          }
        },
        "3f7230f4a2d1482fbe863254008107fb": {
          "model_module": "@jupyter-widgets/base",
          "model_name": "LayoutModel",
          "model_module_version": "1.2.0",
          "state": {
            "_model_module": "@jupyter-widgets/base",
            "_model_module_version": "1.2.0",
            "_model_name": "LayoutModel",
            "_view_count": null,
            "_view_module": "@jupyter-widgets/base",
            "_view_module_version": "1.2.0",
            "_view_name": "LayoutView",
            "align_content": null,
            "align_items": null,
            "align_self": null,
            "border": null,
            "bottom": null,
            "display": null,
            "flex": null,
            "flex_flow": null,
            "grid_area": null,
            "grid_auto_columns": null,
            "grid_auto_flow": null,
            "grid_auto_rows": null,
            "grid_column": null,
            "grid_gap": null,
            "grid_row": null,
            "grid_template_areas": null,
            "grid_template_columns": null,
            "grid_template_rows": null,
            "height": null,
            "justify_content": null,
            "justify_items": null,
            "left": null,
            "margin": null,
            "max_height": null,
            "max_width": null,
            "min_height": null,
            "min_width": null,
            "object_fit": null,
            "object_position": null,
            "order": null,
            "overflow": null,
            "overflow_x": null,
            "overflow_y": null,
            "padding": null,
            "right": null,
            "top": null,
            "visibility": null,
            "width": null
          }
        },
        "bcce6b8f97ba47fcb76334f6cc2cc255": {
          "model_module": "@jupyter-widgets/controls",
          "model_name": "ProgressStyleModel",
          "model_module_version": "1.5.0",
          "state": {
            "_model_module": "@jupyter-widgets/controls",
            "_model_module_version": "1.5.0",
            "_model_name": "ProgressStyleModel",
            "_view_count": null,
            "_view_module": "@jupyter-widgets/base",
            "_view_module_version": "1.2.0",
            "_view_name": "StyleView",
            "bar_color": null,
            "description_width": ""
          }
        },
        "9687c509285c4c808efebb28aa0fb680": {
          "model_module": "@jupyter-widgets/base",
          "model_name": "LayoutModel",
          "model_module_version": "1.2.0",
          "state": {
            "_model_module": "@jupyter-widgets/base",
            "_model_module_version": "1.2.0",
            "_model_name": "LayoutModel",
            "_view_count": null,
            "_view_module": "@jupyter-widgets/base",
            "_view_module_version": "1.2.0",
            "_view_name": "LayoutView",
            "align_content": null,
            "align_items": null,
            "align_self": null,
            "border": null,
            "bottom": null,
            "display": null,
            "flex": null,
            "flex_flow": null,
            "grid_area": null,
            "grid_auto_columns": null,
            "grid_auto_flow": null,
            "grid_auto_rows": null,
            "grid_column": null,
            "grid_gap": null,
            "grid_row": null,
            "grid_template_areas": null,
            "grid_template_columns": null,
            "grid_template_rows": null,
            "height": null,
            "justify_content": null,
            "justify_items": null,
            "left": null,
            "margin": null,
            "max_height": null,
            "max_width": null,
            "min_height": null,
            "min_width": null,
            "object_fit": null,
            "object_position": null,
            "order": null,
            "overflow": null,
            "overflow_x": null,
            "overflow_y": null,
            "padding": null,
            "right": null,
            "top": null,
            "visibility": null,
            "width": null
          }
        },
        "d3b6e8fd52824c07945e6697343a318a": {
          "model_module": "@jupyter-widgets/controls",
          "model_name": "DescriptionStyleModel",
          "model_module_version": "1.5.0",
          "state": {
            "_model_module": "@jupyter-widgets/controls",
            "_model_module_version": "1.5.0",
            "_model_name": "DescriptionStyleModel",
            "_view_count": null,
            "_view_module": "@jupyter-widgets/base",
            "_view_module_version": "1.2.0",
            "_view_name": "StyleView",
            "description_width": ""
          }
        },
        "0f288d822b3d4361a8dfe16ee3d67b8c": {
          "model_module": "@jupyter-widgets/controls",
          "model_name": "HBoxModel",
          "model_module_version": "1.5.0",
          "state": {
            "_dom_classes": [],
            "_model_module": "@jupyter-widgets/controls",
            "_model_module_version": "1.5.0",
            "_model_name": "HBoxModel",
            "_view_count": null,
            "_view_module": "@jupyter-widgets/controls",
            "_view_module_version": "1.5.0",
            "_view_name": "HBoxView",
            "box_style": "",
            "children": [
              "IPY_MODEL_734b2e39b1fd4252aa299434d08b578e",
              "IPY_MODEL_1718d14f3aa541ef820dca736c383c18",
              "IPY_MODEL_27b6737a55304834af3f58e1a61bde67"
            ],
            "layout": "IPY_MODEL_c59629143a1b4d38a095736c5bd5344d"
          }
        },
        "734b2e39b1fd4252aa299434d08b578e": {
          "model_module": "@jupyter-widgets/controls",
          "model_name": "HTMLModel",
          "model_module_version": "1.5.0",
          "state": {
            "_dom_classes": [],
            "_model_module": "@jupyter-widgets/controls",
            "_model_module_version": "1.5.0",
            "_model_name": "HTMLModel",
            "_view_count": null,
            "_view_module": "@jupyter-widgets/controls",
            "_view_module_version": "1.5.0",
            "_view_name": "HTMLView",
            "description": "",
            "description_tooltip": null,
            "layout": "IPY_MODEL_9cc404ebe4ea46239ebce50e22539fe4",
            "placeholder": "​",
            "style": "IPY_MODEL_d3719139d8144d34a194cb3f0e065f03",
            "value": "Downloading: 100%"
          }
        },
        "1718d14f3aa541ef820dca736c383c18": {
          "model_module": "@jupyter-widgets/controls",
          "model_name": "FloatProgressModel",
          "model_module_version": "1.5.0",
          "state": {
            "_dom_classes": [],
            "_model_module": "@jupyter-widgets/controls",
            "_model_module_version": "1.5.0",
            "_model_name": "FloatProgressModel",
            "_view_count": null,
            "_view_module": "@jupyter-widgets/controls",
            "_view_module_version": "1.5.0",
            "_view_name": "ProgressView",
            "bar_style": "success",
            "description": "",
            "description_tooltip": null,
            "layout": "IPY_MODEL_0276cb4d141248c996ee1f6804ccebda",
            "max": 80,
            "min": 0,
            "orientation": "horizontal",
            "style": "IPY_MODEL_a4bd3720af1448849cb6b2a00b9b4f0f",
            "value": 80
          }
        },
        "27b6737a55304834af3f58e1a61bde67": {
          "model_module": "@jupyter-widgets/controls",
          "model_name": "HTMLModel",
          "model_module_version": "1.5.0",
          "state": {
            "_dom_classes": [],
            "_model_module": "@jupyter-widgets/controls",
            "_model_module_version": "1.5.0",
            "_model_name": "HTMLModel",
            "_view_count": null,
            "_view_module": "@jupyter-widgets/controls",
            "_view_module_version": "1.5.0",
            "_view_name": "HTMLView",
            "description": "",
            "description_tooltip": null,
            "layout": "IPY_MODEL_18c55edb4e3c481398c992dce47fd47c",
            "placeholder": "​",
            "style": "IPY_MODEL_5ac0d6d016f349acb932cca3c7cc08ee",
            "value": " 80.0/80.0 [00:00&lt;00:00, 866B/s]"
          }
        },
        "c59629143a1b4d38a095736c5bd5344d": {
          "model_module": "@jupyter-widgets/base",
          "model_name": "LayoutModel",
          "model_module_version": "1.2.0",
          "state": {
            "_model_module": "@jupyter-widgets/base",
            "_model_module_version": "1.2.0",
            "_model_name": "LayoutModel",
            "_view_count": null,
            "_view_module": "@jupyter-widgets/base",
            "_view_module_version": "1.2.0",
            "_view_name": "LayoutView",
            "align_content": null,
            "align_items": null,
            "align_self": null,
            "border": null,
            "bottom": null,
            "display": null,
            "flex": null,
            "flex_flow": null,
            "grid_area": null,
            "grid_auto_columns": null,
            "grid_auto_flow": null,
            "grid_auto_rows": null,
            "grid_column": null,
            "grid_gap": null,
            "grid_row": null,
            "grid_template_areas": null,
            "grid_template_columns": null,
            "grid_template_rows": null,
            "height": null,
            "justify_content": null,
            "justify_items": null,
            "left": null,
            "margin": null,
            "max_height": null,
            "max_width": null,
            "min_height": null,
            "min_width": null,
            "object_fit": null,
            "object_position": null,
            "order": null,
            "overflow": null,
            "overflow_x": null,
            "overflow_y": null,
            "padding": null,
            "right": null,
            "top": null,
            "visibility": null,
            "width": null
          }
        },
        "9cc404ebe4ea46239ebce50e22539fe4": {
          "model_module": "@jupyter-widgets/base",
          "model_name": "LayoutModel",
          "model_module_version": "1.2.0",
          "state": {
            "_model_module": "@jupyter-widgets/base",
            "_model_module_version": "1.2.0",
            "_model_name": "LayoutModel",
            "_view_count": null,
            "_view_module": "@jupyter-widgets/base",
            "_view_module_version": "1.2.0",
            "_view_name": "LayoutView",
            "align_content": null,
            "align_items": null,
            "align_self": null,
            "border": null,
            "bottom": null,
            "display": null,
            "flex": null,
            "flex_flow": null,
            "grid_area": null,
            "grid_auto_columns": null,
            "grid_auto_flow": null,
            "grid_auto_rows": null,
            "grid_column": null,
            "grid_gap": null,
            "grid_row": null,
            "grid_template_areas": null,
            "grid_template_columns": null,
            "grid_template_rows": null,
            "height": null,
            "justify_content": null,
            "justify_items": null,
            "left": null,
            "margin": null,
            "max_height": null,
            "max_width": null,
            "min_height": null,
            "min_width": null,
            "object_fit": null,
            "object_position": null,
            "order": null,
            "overflow": null,
            "overflow_x": null,
            "overflow_y": null,
            "padding": null,
            "right": null,
            "top": null,
            "visibility": null,
            "width": null
          }
        },
        "d3719139d8144d34a194cb3f0e065f03": {
          "model_module": "@jupyter-widgets/controls",
          "model_name": "DescriptionStyleModel",
          "model_module_version": "1.5.0",
          "state": {
            "_model_module": "@jupyter-widgets/controls",
            "_model_module_version": "1.5.0",
            "_model_name": "DescriptionStyleModel",
            "_view_count": null,
            "_view_module": "@jupyter-widgets/base",
            "_view_module_version": "1.2.0",
            "_view_name": "StyleView",
            "description_width": ""
          }
        },
        "0276cb4d141248c996ee1f6804ccebda": {
          "model_module": "@jupyter-widgets/base",
          "model_name": "LayoutModel",
          "model_module_version": "1.2.0",
          "state": {
            "_model_module": "@jupyter-widgets/base",
            "_model_module_version": "1.2.0",
            "_model_name": "LayoutModel",
            "_view_count": null,
            "_view_module": "@jupyter-widgets/base",
            "_view_module_version": "1.2.0",
            "_view_name": "LayoutView",
            "align_content": null,
            "align_items": null,
            "align_self": null,
            "border": null,
            "bottom": null,
            "display": null,
            "flex": null,
            "flex_flow": null,
            "grid_area": null,
            "grid_auto_columns": null,
            "grid_auto_flow": null,
            "grid_auto_rows": null,
            "grid_column": null,
            "grid_gap": null,
            "grid_row": null,
            "grid_template_areas": null,
            "grid_template_columns": null,
            "grid_template_rows": null,
            "height": null,
            "justify_content": null,
            "justify_items": null,
            "left": null,
            "margin": null,
            "max_height": null,
            "max_width": null,
            "min_height": null,
            "min_width": null,
            "object_fit": null,
            "object_position": null,
            "order": null,
            "overflow": null,
            "overflow_x": null,
            "overflow_y": null,
            "padding": null,
            "right": null,
            "top": null,
            "visibility": null,
            "width": null
          }
        },
        "a4bd3720af1448849cb6b2a00b9b4f0f": {
          "model_module": "@jupyter-widgets/controls",
          "model_name": "ProgressStyleModel",
          "model_module_version": "1.5.0",
          "state": {
            "_model_module": "@jupyter-widgets/controls",
            "_model_module_version": "1.5.0",
            "_model_name": "ProgressStyleModel",
            "_view_count": null,
            "_view_module": "@jupyter-widgets/base",
            "_view_module_version": "1.2.0",
            "_view_name": "StyleView",
            "bar_color": null,
            "description_width": ""
          }
        },
        "18c55edb4e3c481398c992dce47fd47c": {
          "model_module": "@jupyter-widgets/base",
          "model_name": "LayoutModel",
          "model_module_version": "1.2.0",
          "state": {
            "_model_module": "@jupyter-widgets/base",
            "_model_module_version": "1.2.0",
            "_model_name": "LayoutModel",
            "_view_count": null,
            "_view_module": "@jupyter-widgets/base",
            "_view_module_version": "1.2.0",
            "_view_name": "LayoutView",
            "align_content": null,
            "align_items": null,
            "align_self": null,
            "border": null,
            "bottom": null,
            "display": null,
            "flex": null,
            "flex_flow": null,
            "grid_area": null,
            "grid_auto_columns": null,
            "grid_auto_flow": null,
            "grid_auto_rows": null,
            "grid_column": null,
            "grid_gap": null,
            "grid_row": null,
            "grid_template_areas": null,
            "grid_template_columns": null,
            "grid_template_rows": null,
            "height": null,
            "justify_content": null,
            "justify_items": null,
            "left": null,
            "margin": null,
            "max_height": null,
            "max_width": null,
            "min_height": null,
            "min_width": null,
            "object_fit": null,
            "object_position": null,
            "order": null,
            "overflow": null,
            "overflow_x": null,
            "overflow_y": null,
            "padding": null,
            "right": null,
            "top": null,
            "visibility": null,
            "width": null
          }
        },
        "5ac0d6d016f349acb932cca3c7cc08ee": {
          "model_module": "@jupyter-widgets/controls",
          "model_name": "DescriptionStyleModel",
          "model_module_version": "1.5.0",
          "state": {
            "_model_module": "@jupyter-widgets/controls",
            "_model_module_version": "1.5.0",
            "_model_name": "DescriptionStyleModel",
            "_view_count": null,
            "_view_module": "@jupyter-widgets/base",
            "_view_module_version": "1.2.0",
            "_view_name": "StyleView",
            "description_width": ""
          }
        },
        "c598adda5bcc4822bd8b4d15978462fb": {
          "model_module": "@jupyter-widgets/controls",
          "model_name": "HBoxModel",
          "model_module_version": "1.5.0",
          "state": {
            "_dom_classes": [],
            "_model_module": "@jupyter-widgets/controls",
            "_model_module_version": "1.5.0",
            "_model_name": "HBoxModel",
            "_view_count": null,
            "_view_module": "@jupyter-widgets/controls",
            "_view_module_version": "1.5.0",
            "_view_name": "HBoxView",
            "box_style": "",
            "children": [
              "IPY_MODEL_2e1f530bd83848e1909860eee616bfa7",
              "IPY_MODEL_e24dcb101d8046ca91111c0a5844f33b",
              "IPY_MODEL_b1c9b5077c0842d18859e9c2ec5366de"
            ],
            "layout": "IPY_MODEL_295a2f09263344eeab7deb96dfa92ab5"
          }
        },
        "2e1f530bd83848e1909860eee616bfa7": {
          "model_module": "@jupyter-widgets/controls",
          "model_name": "HTMLModel",
          "model_module_version": "1.5.0",
          "state": {
            "_dom_classes": [],
            "_model_module": "@jupyter-widgets/controls",
            "_model_module_version": "1.5.0",
            "_model_name": "HTMLModel",
            "_view_count": null,
            "_view_module": "@jupyter-widgets/controls",
            "_view_module_version": "1.5.0",
            "_view_name": "HTMLView",
            "description": "",
            "description_tooltip": null,
            "layout": "IPY_MODEL_039940d2afcc46ccad0529ef5e636e2c",
            "placeholder": "​",
            "style": "IPY_MODEL_0ba696ab0d9a4fb8afb8c1d155be061b",
            "value": "Downloading: 100%"
          }
        },
        "e24dcb101d8046ca91111c0a5844f33b": {
          "model_module": "@jupyter-widgets/controls",
          "model_name": "FloatProgressModel",
          "model_module_version": "1.5.0",
          "state": {
            "_dom_classes": [],
            "_model_module": "@jupyter-widgets/controls",
            "_model_module_version": "1.5.0",
            "_model_name": "FloatProgressModel",
            "_view_count": null,
            "_view_module": "@jupyter-widgets/controls",
            "_view_module_version": "1.5.0",
            "_view_name": "ProgressView",
            "bar_style": "success",
            "description": "",
            "description_tooltip": null,
            "layout": "IPY_MODEL_e5f8b7fe8eca41cf9dfbf6ffe4149567",
            "max": 344259,
            "min": 0,
            "orientation": "horizontal",
            "style": "IPY_MODEL_56fe89ea2ebf4a77977e8f7123cbe61c",
            "value": 344259
          }
        },
        "b1c9b5077c0842d18859e9c2ec5366de": {
          "model_module": "@jupyter-widgets/controls",
          "model_name": "HTMLModel",
          "model_module_version": "1.5.0",
          "state": {
            "_dom_classes": [],
            "_model_module": "@jupyter-widgets/controls",
            "_model_module_version": "1.5.0",
            "_model_name": "HTMLModel",
            "_view_count": null,
            "_view_module": "@jupyter-widgets/controls",
            "_view_module_version": "1.5.0",
            "_view_name": "HTMLView",
            "description": "",
            "description_tooltip": null,
            "layout": "IPY_MODEL_6eb87bf1006e471291169a1f4f9ed0b4",
            "placeholder": "​",
            "style": "IPY_MODEL_e7fdbcbca8fe469f979870170a767043",
            "value": " 344k/344k [00:00&lt;00:00, 9.55kB/s]"
          }
        },
        "295a2f09263344eeab7deb96dfa92ab5": {
          "model_module": "@jupyter-widgets/base",
          "model_name": "LayoutModel",
          "model_module_version": "1.2.0",
          "state": {
            "_model_module": "@jupyter-widgets/base",
            "_model_module_version": "1.2.0",
            "_model_name": "LayoutModel",
            "_view_count": null,
            "_view_module": "@jupyter-widgets/base",
            "_view_module_version": "1.2.0",
            "_view_name": "LayoutView",
            "align_content": null,
            "align_items": null,
            "align_self": null,
            "border": null,
            "bottom": null,
            "display": null,
            "flex": null,
            "flex_flow": null,
            "grid_area": null,
            "grid_auto_columns": null,
            "grid_auto_flow": null,
            "grid_auto_rows": null,
            "grid_column": null,
            "grid_gap": null,
            "grid_row": null,
            "grid_template_areas": null,
            "grid_template_columns": null,
            "grid_template_rows": null,
            "height": null,
            "justify_content": null,
            "justify_items": null,
            "left": null,
            "margin": null,
            "max_height": null,
            "max_width": null,
            "min_height": null,
            "min_width": null,
            "object_fit": null,
            "object_position": null,
            "order": null,
            "overflow": null,
            "overflow_x": null,
            "overflow_y": null,
            "padding": null,
            "right": null,
            "top": null,
            "visibility": null,
            "width": null
          }
        },
        "039940d2afcc46ccad0529ef5e636e2c": {
          "model_module": "@jupyter-widgets/base",
          "model_name": "LayoutModel",
          "model_module_version": "1.2.0",
          "state": {
            "_model_module": "@jupyter-widgets/base",
            "_model_module_version": "1.2.0",
            "_model_name": "LayoutModel",
            "_view_count": null,
            "_view_module": "@jupyter-widgets/base",
            "_view_module_version": "1.2.0",
            "_view_name": "LayoutView",
            "align_content": null,
            "align_items": null,
            "align_self": null,
            "border": null,
            "bottom": null,
            "display": null,
            "flex": null,
            "flex_flow": null,
            "grid_area": null,
            "grid_auto_columns": null,
            "grid_auto_flow": null,
            "grid_auto_rows": null,
            "grid_column": null,
            "grid_gap": null,
            "grid_row": null,
            "grid_template_areas": null,
            "grid_template_columns": null,
            "grid_template_rows": null,
            "height": null,
            "justify_content": null,
            "justify_items": null,
            "left": null,
            "margin": null,
            "max_height": null,
            "max_width": null,
            "min_height": null,
            "min_width": null,
            "object_fit": null,
            "object_position": null,
            "order": null,
            "overflow": null,
            "overflow_x": null,
            "overflow_y": null,
            "padding": null,
            "right": null,
            "top": null,
            "visibility": null,
            "width": null
          }
        },
        "0ba696ab0d9a4fb8afb8c1d155be061b": {
          "model_module": "@jupyter-widgets/controls",
          "model_name": "DescriptionStyleModel",
          "model_module_version": "1.5.0",
          "state": {
            "_model_module": "@jupyter-widgets/controls",
            "_model_module_version": "1.5.0",
            "_model_name": "DescriptionStyleModel",
            "_view_count": null,
            "_view_module": "@jupyter-widgets/base",
            "_view_module_version": "1.2.0",
            "_view_name": "StyleView",
            "description_width": ""
          }
        },
        "e5f8b7fe8eca41cf9dfbf6ffe4149567": {
          "model_module": "@jupyter-widgets/base",
          "model_name": "LayoutModel",
          "model_module_version": "1.2.0",
          "state": {
            "_model_module": "@jupyter-widgets/base",
            "_model_module_version": "1.2.0",
            "_model_name": "LayoutModel",
            "_view_count": null,
            "_view_module": "@jupyter-widgets/base",
            "_view_module_version": "1.2.0",
            "_view_name": "LayoutView",
            "align_content": null,
            "align_items": null,
            "align_self": null,
            "border": null,
            "bottom": null,
            "display": null,
            "flex": null,
            "flex_flow": null,
            "grid_area": null,
            "grid_auto_columns": null,
            "grid_auto_flow": null,
            "grid_auto_rows": null,
            "grid_column": null,
            "grid_gap": null,
            "grid_row": null,
            "grid_template_areas": null,
            "grid_template_columns": null,
            "grid_template_rows": null,
            "height": null,
            "justify_content": null,
            "justify_items": null,
            "left": null,
            "margin": null,
            "max_height": null,
            "max_width": null,
            "min_height": null,
            "min_width": null,
            "object_fit": null,
            "object_position": null,
            "order": null,
            "overflow": null,
            "overflow_x": null,
            "overflow_y": null,
            "padding": null,
            "right": null,
            "top": null,
            "visibility": null,
            "width": null
          }
        },
        "56fe89ea2ebf4a77977e8f7123cbe61c": {
          "model_module": "@jupyter-widgets/controls",
          "model_name": "ProgressStyleModel",
          "model_module_version": "1.5.0",
          "state": {
            "_model_module": "@jupyter-widgets/controls",
            "_model_module_version": "1.5.0",
            "_model_name": "ProgressStyleModel",
            "_view_count": null,
            "_view_module": "@jupyter-widgets/base",
            "_view_module_version": "1.2.0",
            "_view_name": "StyleView",
            "bar_color": null,
            "description_width": ""
          }
        },
        "6eb87bf1006e471291169a1f4f9ed0b4": {
          "model_module": "@jupyter-widgets/base",
          "model_name": "LayoutModel",
          "model_module_version": "1.2.0",
          "state": {
            "_model_module": "@jupyter-widgets/base",
            "_model_module_version": "1.2.0",
            "_model_name": "LayoutModel",
            "_view_count": null,
            "_view_module": "@jupyter-widgets/base",
            "_view_module_version": "1.2.0",
            "_view_name": "LayoutView",
            "align_content": null,
            "align_items": null,
            "align_self": null,
            "border": null,
            "bottom": null,
            "display": null,
            "flex": null,
            "flex_flow": null,
            "grid_area": null,
            "grid_auto_columns": null,
            "grid_auto_flow": null,
            "grid_auto_rows": null,
            "grid_column": null,
            "grid_gap": null,
            "grid_row": null,
            "grid_template_areas": null,
            "grid_template_columns": null,
            "grid_template_rows": null,
            "height": null,
            "justify_content": null,
            "justify_items": null,
            "left": null,
            "margin": null,
            "max_height": null,
            "max_width": null,
            "min_height": null,
            "min_width": null,
            "object_fit": null,
            "object_position": null,
            "order": null,
            "overflow": null,
            "overflow_x": null,
            "overflow_y": null,
            "padding": null,
            "right": null,
            "top": null,
            "visibility": null,
            "width": null
          }
        },
        "e7fdbcbca8fe469f979870170a767043": {
          "model_module": "@jupyter-widgets/controls",
          "model_name": "DescriptionStyleModel",
          "model_module_version": "1.5.0",
          "state": {
            "_model_module": "@jupyter-widgets/controls",
            "_model_module_version": "1.5.0",
            "_model_name": "DescriptionStyleModel",
            "_view_count": null,
            "_view_module": "@jupyter-widgets/base",
            "_view_module_version": "1.2.0",
            "_view_name": "StyleView",
            "description_width": ""
          }
        },
        "cab07785f01740f7a743942278cd2afe": {
          "model_module": "@jupyter-widgets/controls",
          "model_name": "HBoxModel",
          "model_module_version": "1.5.0",
          "state": {
            "_dom_classes": [],
            "_model_module": "@jupyter-widgets/controls",
            "_model_module_version": "1.5.0",
            "_model_name": "HBoxModel",
            "_view_count": null,
            "_view_module": "@jupyter-widgets/controls",
            "_view_module_version": "1.5.0",
            "_view_name": "HBoxView",
            "box_style": "",
            "children": [
              "IPY_MODEL_c07b5b2d51ed470f8c03e0edb61315d5",
              "IPY_MODEL_e3b7986af5684e909a628154c82349a0",
              "IPY_MODEL_025d78e0238a449fb6064abbec3b16e4"
            ],
            "layout": "IPY_MODEL_df8811d129de4ee7b87d18c4820da182"
          }
        },
        "c07b5b2d51ed470f8c03e0edb61315d5": {
          "model_module": "@jupyter-widgets/controls",
          "model_name": "HTMLModel",
          "model_module_version": "1.5.0",
          "state": {
            "_dom_classes": [],
            "_model_module": "@jupyter-widgets/controls",
            "_model_module_version": "1.5.0",
            "_model_name": "HTMLModel",
            "_view_count": null,
            "_view_module": "@jupyter-widgets/controls",
            "_view_module_version": "1.5.0",
            "_view_name": "HTMLView",
            "description": "",
            "description_tooltip": null,
            "layout": "IPY_MODEL_18987cd8583a41eeb89031e76e16dbfe",
            "placeholder": "​",
            "style": "IPY_MODEL_a6929c362d71434e99fa1878beafe9ef",
            "value": "100%"
          }
        },
        "e3b7986af5684e909a628154c82349a0": {
          "model_module": "@jupyter-widgets/controls",
          "model_name": "FloatProgressModel",
          "model_module_version": "1.5.0",
          "state": {
            "_dom_classes": [],
            "_model_module": "@jupyter-widgets/controls",
            "_model_module_version": "1.5.0",
            "_model_name": "FloatProgressModel",
            "_view_count": null,
            "_view_module": "@jupyter-widgets/controls",
            "_view_module_version": "1.5.0",
            "_view_name": "ProgressView",
            "bar_style": "success",
            "description": "",
            "description_tooltip": null,
            "layout": "IPY_MODEL_c4544eebbdf34188bacda9bc792c011f",
            "max": 15,
            "min": 0,
            "orientation": "horizontal",
            "style": "IPY_MODEL_abdb943dd05e4b68b69c6b3369677dc2",
            "value": 15
          }
        },
        "025d78e0238a449fb6064abbec3b16e4": {
          "model_module": "@jupyter-widgets/controls",
          "model_name": "HTMLModel",
          "model_module_version": "1.5.0",
          "state": {
            "_dom_classes": [],
            "_model_module": "@jupyter-widgets/controls",
            "_model_module_version": "1.5.0",
            "_model_name": "HTMLModel",
            "_view_count": null,
            "_view_module": "@jupyter-widgets/controls",
            "_view_module_version": "1.5.0",
            "_view_name": "HTMLView",
            "description": "",
            "description_tooltip": null,
            "layout": "IPY_MODEL_911d6c351ef440ee8ca77e09c4bf6af2",
            "placeholder": "​",
            "style": "IPY_MODEL_e992f999454345d29e6a52bc6c8e0d46",
            "value": " 15/15 [15:23&lt;00:00, 63.78s/it]"
          }
        },
        "df8811d129de4ee7b87d18c4820da182": {
          "model_module": "@jupyter-widgets/base",
          "model_name": "LayoutModel",
          "model_module_version": "1.2.0",
          "state": {
            "_model_module": "@jupyter-widgets/base",
            "_model_module_version": "1.2.0",
            "_model_name": "LayoutModel",
            "_view_count": null,
            "_view_module": "@jupyter-widgets/base",
            "_view_module_version": "1.2.0",
            "_view_name": "LayoutView",
            "align_content": null,
            "align_items": null,
            "align_self": null,
            "border": null,
            "bottom": null,
            "display": null,
            "flex": null,
            "flex_flow": null,
            "grid_area": null,
            "grid_auto_columns": null,
            "grid_auto_flow": null,
            "grid_auto_rows": null,
            "grid_column": null,
            "grid_gap": null,
            "grid_row": null,
            "grid_template_areas": null,
            "grid_template_columns": null,
            "grid_template_rows": null,
            "height": null,
            "justify_content": null,
            "justify_items": null,
            "left": null,
            "margin": null,
            "max_height": null,
            "max_width": null,
            "min_height": null,
            "min_width": null,
            "object_fit": null,
            "object_position": null,
            "order": null,
            "overflow": null,
            "overflow_x": null,
            "overflow_y": null,
            "padding": null,
            "right": null,
            "top": null,
            "visibility": null,
            "width": null
          }
        },
        "18987cd8583a41eeb89031e76e16dbfe": {
          "model_module": "@jupyter-widgets/base",
          "model_name": "LayoutModel",
          "model_module_version": "1.2.0",
          "state": {
            "_model_module": "@jupyter-widgets/base",
            "_model_module_version": "1.2.0",
            "_model_name": "LayoutModel",
            "_view_count": null,
            "_view_module": "@jupyter-widgets/base",
            "_view_module_version": "1.2.0",
            "_view_name": "LayoutView",
            "align_content": null,
            "align_items": null,
            "align_self": null,
            "border": null,
            "bottom": null,
            "display": null,
            "flex": null,
            "flex_flow": null,
            "grid_area": null,
            "grid_auto_columns": null,
            "grid_auto_flow": null,
            "grid_auto_rows": null,
            "grid_column": null,
            "grid_gap": null,
            "grid_row": null,
            "grid_template_areas": null,
            "grid_template_columns": null,
            "grid_template_rows": null,
            "height": null,
            "justify_content": null,
            "justify_items": null,
            "left": null,
            "margin": null,
            "max_height": null,
            "max_width": null,
            "min_height": null,
            "min_width": null,
            "object_fit": null,
            "object_position": null,
            "order": null,
            "overflow": null,
            "overflow_x": null,
            "overflow_y": null,
            "padding": null,
            "right": null,
            "top": null,
            "visibility": null,
            "width": null
          }
        },
        "a6929c362d71434e99fa1878beafe9ef": {
          "model_module": "@jupyter-widgets/controls",
          "model_name": "DescriptionStyleModel",
          "model_module_version": "1.5.0",
          "state": {
            "_model_module": "@jupyter-widgets/controls",
            "_model_module_version": "1.5.0",
            "_model_name": "DescriptionStyleModel",
            "_view_count": null,
            "_view_module": "@jupyter-widgets/base",
            "_view_module_version": "1.2.0",
            "_view_name": "StyleView",
            "description_width": ""
          }
        },
        "c4544eebbdf34188bacda9bc792c011f": {
          "model_module": "@jupyter-widgets/base",
          "model_name": "LayoutModel",
          "model_module_version": "1.2.0",
          "state": {
            "_model_module": "@jupyter-widgets/base",
            "_model_module_version": "1.2.0",
            "_model_name": "LayoutModel",
            "_view_count": null,
            "_view_module": "@jupyter-widgets/base",
            "_view_module_version": "1.2.0",
            "_view_name": "LayoutView",
            "align_content": null,
            "align_items": null,
            "align_self": null,
            "border": null,
            "bottom": null,
            "display": null,
            "flex": null,
            "flex_flow": null,
            "grid_area": null,
            "grid_auto_columns": null,
            "grid_auto_flow": null,
            "grid_auto_rows": null,
            "grid_column": null,
            "grid_gap": null,
            "grid_row": null,
            "grid_template_areas": null,
            "grid_template_columns": null,
            "grid_template_rows": null,
            "height": null,
            "justify_content": null,
            "justify_items": null,
            "left": null,
            "margin": null,
            "max_height": null,
            "max_width": null,
            "min_height": null,
            "min_width": null,
            "object_fit": null,
            "object_position": null,
            "order": null,
            "overflow": null,
            "overflow_x": null,
            "overflow_y": null,
            "padding": null,
            "right": null,
            "top": null,
            "visibility": null,
            "width": null
          }
        },
        "abdb943dd05e4b68b69c6b3369677dc2": {
          "model_module": "@jupyter-widgets/controls",
          "model_name": "ProgressStyleModel",
          "model_module_version": "1.5.0",
          "state": {
            "_model_module": "@jupyter-widgets/controls",
            "_model_module_version": "1.5.0",
            "_model_name": "ProgressStyleModel",
            "_view_count": null,
            "_view_module": "@jupyter-widgets/base",
            "_view_module_version": "1.2.0",
            "_view_name": "StyleView",
            "bar_color": null,
            "description_width": ""
          }
        },
        "911d6c351ef440ee8ca77e09c4bf6af2": {
          "model_module": "@jupyter-widgets/base",
          "model_name": "LayoutModel",
          "model_module_version": "1.2.0",
          "state": {
            "_model_module": "@jupyter-widgets/base",
            "_model_module_version": "1.2.0",
            "_model_name": "LayoutModel",
            "_view_count": null,
            "_view_module": "@jupyter-widgets/base",
            "_view_module_version": "1.2.0",
            "_view_name": "LayoutView",
            "align_content": null,
            "align_items": null,
            "align_self": null,
            "border": null,
            "bottom": null,
            "display": null,
            "flex": null,
            "flex_flow": null,
            "grid_area": null,
            "grid_auto_columns": null,
            "grid_auto_flow": null,
            "grid_auto_rows": null,
            "grid_column": null,
            "grid_gap": null,
            "grid_row": null,
            "grid_template_areas": null,
            "grid_template_columns": null,
            "grid_template_rows": null,
            "height": null,
            "justify_content": null,
            "justify_items": null,
            "left": null,
            "margin": null,
            "max_height": null,
            "max_width": null,
            "min_height": null,
            "min_width": null,
            "object_fit": null,
            "object_position": null,
            "order": null,
            "overflow": null,
            "overflow_x": null,
            "overflow_y": null,
            "padding": null,
            "right": null,
            "top": null,
            "visibility": null,
            "width": null
          }
        },
        "e992f999454345d29e6a52bc6c8e0d46": {
          "model_module": "@jupyter-widgets/controls",
          "model_name": "DescriptionStyleModel",
          "model_module_version": "1.5.0",
          "state": {
            "_model_module": "@jupyter-widgets/controls",
            "_model_module_version": "1.5.0",
            "_model_name": "DescriptionStyleModel",
            "_view_count": null,
            "_view_module": "@jupyter-widgets/base",
            "_view_module_version": "1.2.0",
            "_view_name": "StyleView",
            "description_width": ""
          }
        },
        "5ae7340a9ff84f44b0bb687f99d0479b": {
          "model_module": "@jupyter-widgets/controls",
          "model_name": "HBoxModel",
          "model_module_version": "1.5.0",
          "state": {
            "_dom_classes": [],
            "_model_module": "@jupyter-widgets/controls",
            "_model_module_version": "1.5.0",
            "_model_name": "HBoxModel",
            "_view_count": null,
            "_view_module": "@jupyter-widgets/controls",
            "_view_module_version": "1.5.0",
            "_view_name": "HBoxView",
            "box_style": "",
            "children": [
              "IPY_MODEL_f1f984b5b14947ba812fbfc08c1a3e23",
              "IPY_MODEL_286c8a7793b04ee5a3d23635a2888b83",
              "IPY_MODEL_d6d972b43e0f46e89167cf2f4d524ec6"
            ],
            "layout": "IPY_MODEL_2a3d532341944127a8cd651da36f4943"
          }
        },
        "f1f984b5b14947ba812fbfc08c1a3e23": {
          "model_module": "@jupyter-widgets/controls",
          "model_name": "HTMLModel",
          "model_module_version": "1.5.0",
          "state": {
            "_dom_classes": [],
            "_model_module": "@jupyter-widgets/controls",
            "_model_module_version": "1.5.0",
            "_model_name": "HTMLModel",
            "_view_count": null,
            "_view_module": "@jupyter-widgets/controls",
            "_view_module_version": "1.5.0",
            "_view_name": "HTMLView",
            "description": "",
            "description_tooltip": null,
            "layout": "IPY_MODEL_fe059295b7214c68adb0368a6ce9b97a",
            "placeholder": "​",
            "style": "IPY_MODEL_0b2b984207534064814615fae8ec9da6",
            "value": " 40%"
          }
        },
        "286c8a7793b04ee5a3d23635a2888b83": {
          "model_module": "@jupyter-widgets/controls",
          "model_name": "FloatProgressModel",
          "model_module_version": "1.5.0",
          "state": {
            "_dom_classes": [],
            "_model_module": "@jupyter-widgets/controls",
            "_model_module_version": "1.5.0",
            "_model_name": "FloatProgressModel",
            "_view_count": null,
            "_view_module": "@jupyter-widgets/controls",
            "_view_module_version": "1.5.0",
            "_view_name": "ProgressView",
            "bar_style": "danger",
            "description": "",
            "description_tooltip": null,
            "layout": "IPY_MODEL_e984a0ab137d47d3b02bc1148b64eb81",
            "max": 15,
            "min": 0,
            "orientation": "horizontal",
            "style": "IPY_MODEL_797162621b774273b6eced0605fc75a4",
            "value": 6
          }
        },
        "d6d972b43e0f46e89167cf2f4d524ec6": {
          "model_module": "@jupyter-widgets/controls",
          "model_name": "HTMLModel",
          "model_module_version": "1.5.0",
          "state": {
            "_dom_classes": [],
            "_model_module": "@jupyter-widgets/controls",
            "_model_module_version": "1.5.0",
            "_model_name": "HTMLModel",
            "_view_count": null,
            "_view_module": "@jupyter-widgets/controls",
            "_view_module_version": "1.5.0",
            "_view_name": "HTMLView",
            "description": "",
            "description_tooltip": null,
            "layout": "IPY_MODEL_86f431e6d9ef47a5b761ffa0664fcc89",
            "placeholder": "​",
            "style": "IPY_MODEL_2136f746b5864aa990974eb8af6ffc1f",
            "value": " 6/15 [08:46&lt;11:18, 75.38s/it]"
          }
        },
        "2a3d532341944127a8cd651da36f4943": {
          "model_module": "@jupyter-widgets/base",
          "model_name": "LayoutModel",
          "model_module_version": "1.2.0",
          "state": {
            "_model_module": "@jupyter-widgets/base",
            "_model_module_version": "1.2.0",
            "_model_name": "LayoutModel",
            "_view_count": null,
            "_view_module": "@jupyter-widgets/base",
            "_view_module_version": "1.2.0",
            "_view_name": "LayoutView",
            "align_content": null,
            "align_items": null,
            "align_self": null,
            "border": null,
            "bottom": null,
            "display": null,
            "flex": null,
            "flex_flow": null,
            "grid_area": null,
            "grid_auto_columns": null,
            "grid_auto_flow": null,
            "grid_auto_rows": null,
            "grid_column": null,
            "grid_gap": null,
            "grid_row": null,
            "grid_template_areas": null,
            "grid_template_columns": null,
            "grid_template_rows": null,
            "height": null,
            "justify_content": null,
            "justify_items": null,
            "left": null,
            "margin": null,
            "max_height": null,
            "max_width": null,
            "min_height": null,
            "min_width": null,
            "object_fit": null,
            "object_position": null,
            "order": null,
            "overflow": null,
            "overflow_x": null,
            "overflow_y": null,
            "padding": null,
            "right": null,
            "top": null,
            "visibility": null,
            "width": null
          }
        },
        "fe059295b7214c68adb0368a6ce9b97a": {
          "model_module": "@jupyter-widgets/base",
          "model_name": "LayoutModel",
          "model_module_version": "1.2.0",
          "state": {
            "_model_module": "@jupyter-widgets/base",
            "_model_module_version": "1.2.0",
            "_model_name": "LayoutModel",
            "_view_count": null,
            "_view_module": "@jupyter-widgets/base",
            "_view_module_version": "1.2.0",
            "_view_name": "LayoutView",
            "align_content": null,
            "align_items": null,
            "align_self": null,
            "border": null,
            "bottom": null,
            "display": null,
            "flex": null,
            "flex_flow": null,
            "grid_area": null,
            "grid_auto_columns": null,
            "grid_auto_flow": null,
            "grid_auto_rows": null,
            "grid_column": null,
            "grid_gap": null,
            "grid_row": null,
            "grid_template_areas": null,
            "grid_template_columns": null,
            "grid_template_rows": null,
            "height": null,
            "justify_content": null,
            "justify_items": null,
            "left": null,
            "margin": null,
            "max_height": null,
            "max_width": null,
            "min_height": null,
            "min_width": null,
            "object_fit": null,
            "object_position": null,
            "order": null,
            "overflow": null,
            "overflow_x": null,
            "overflow_y": null,
            "padding": null,
            "right": null,
            "top": null,
            "visibility": null,
            "width": null
          }
        },
        "0b2b984207534064814615fae8ec9da6": {
          "model_module": "@jupyter-widgets/controls",
          "model_name": "DescriptionStyleModel",
          "model_module_version": "1.5.0",
          "state": {
            "_model_module": "@jupyter-widgets/controls",
            "_model_module_version": "1.5.0",
            "_model_name": "DescriptionStyleModel",
            "_view_count": null,
            "_view_module": "@jupyter-widgets/base",
            "_view_module_version": "1.2.0",
            "_view_name": "StyleView",
            "description_width": ""
          }
        },
        "e984a0ab137d47d3b02bc1148b64eb81": {
          "model_module": "@jupyter-widgets/base",
          "model_name": "LayoutModel",
          "model_module_version": "1.2.0",
          "state": {
            "_model_module": "@jupyter-widgets/base",
            "_model_module_version": "1.2.0",
            "_model_name": "LayoutModel",
            "_view_count": null,
            "_view_module": "@jupyter-widgets/base",
            "_view_module_version": "1.2.0",
            "_view_name": "LayoutView",
            "align_content": null,
            "align_items": null,
            "align_self": null,
            "border": null,
            "bottom": null,
            "display": null,
            "flex": null,
            "flex_flow": null,
            "grid_area": null,
            "grid_auto_columns": null,
            "grid_auto_flow": null,
            "grid_auto_rows": null,
            "grid_column": null,
            "grid_gap": null,
            "grid_row": null,
            "grid_template_areas": null,
            "grid_template_columns": null,
            "grid_template_rows": null,
            "height": null,
            "justify_content": null,
            "justify_items": null,
            "left": null,
            "margin": null,
            "max_height": null,
            "max_width": null,
            "min_height": null,
            "min_width": null,
            "object_fit": null,
            "object_position": null,
            "order": null,
            "overflow": null,
            "overflow_x": null,
            "overflow_y": null,
            "padding": null,
            "right": null,
            "top": null,
            "visibility": null,
            "width": null
          }
        },
        "797162621b774273b6eced0605fc75a4": {
          "model_module": "@jupyter-widgets/controls",
          "model_name": "ProgressStyleModel",
          "model_module_version": "1.5.0",
          "state": {
            "_model_module": "@jupyter-widgets/controls",
            "_model_module_version": "1.5.0",
            "_model_name": "ProgressStyleModel",
            "_view_count": null,
            "_view_module": "@jupyter-widgets/base",
            "_view_module_version": "1.2.0",
            "_view_name": "StyleView",
            "bar_color": null,
            "description_width": ""
          }
        },
        "86f431e6d9ef47a5b761ffa0664fcc89": {
          "model_module": "@jupyter-widgets/base",
          "model_name": "LayoutModel",
          "model_module_version": "1.2.0",
          "state": {
            "_model_module": "@jupyter-widgets/base",
            "_model_module_version": "1.2.0",
            "_model_name": "LayoutModel",
            "_view_count": null,
            "_view_module": "@jupyter-widgets/base",
            "_view_module_version": "1.2.0",
            "_view_name": "LayoutView",
            "align_content": null,
            "align_items": null,
            "align_self": null,
            "border": null,
            "bottom": null,
            "display": null,
            "flex": null,
            "flex_flow": null,
            "grid_area": null,
            "grid_auto_columns": null,
            "grid_auto_flow": null,
            "grid_auto_rows": null,
            "grid_column": null,
            "grid_gap": null,
            "grid_row": null,
            "grid_template_areas": null,
            "grid_template_columns": null,
            "grid_template_rows": null,
            "height": null,
            "justify_content": null,
            "justify_items": null,
            "left": null,
            "margin": null,
            "max_height": null,
            "max_width": null,
            "min_height": null,
            "min_width": null,
            "object_fit": null,
            "object_position": null,
            "order": null,
            "overflow": null,
            "overflow_x": null,
            "overflow_y": null,
            "padding": null,
            "right": null,
            "top": null,
            "visibility": null,
            "width": null
          }
        },
        "2136f746b5864aa990974eb8af6ffc1f": {
          "model_module": "@jupyter-widgets/controls",
          "model_name": "DescriptionStyleModel",
          "model_module_version": "1.5.0",
          "state": {
            "_model_module": "@jupyter-widgets/controls",
            "_model_module_version": "1.5.0",
            "_model_name": "DescriptionStyleModel",
            "_view_count": null,
            "_view_module": "@jupyter-widgets/base",
            "_view_module_version": "1.2.0",
            "_view_name": "StyleView",
            "description_width": ""
          }
        },
        "ba005e7c435a4a069cc9637d562cc503": {
          "model_module": "@jupyter-widgets/controls",
          "model_name": "HBoxModel",
          "model_module_version": "1.5.0",
          "state": {
            "_dom_classes": [],
            "_model_module": "@jupyter-widgets/controls",
            "_model_module_version": "1.5.0",
            "_model_name": "HBoxModel",
            "_view_count": null,
            "_view_module": "@jupyter-widgets/controls",
            "_view_module_version": "1.5.0",
            "_view_name": "HBoxView",
            "box_style": "",
            "children": [
              "IPY_MODEL_0c85349278814c2b856913ff3bb53fbb",
              "IPY_MODEL_bcb9561039ff48ccba91610c1675d755",
              "IPY_MODEL_92736ee7f48448c5a341a6710e71a69d"
            ],
            "layout": "IPY_MODEL_c8cc2295aa704ea0a76bf71c1b21ef3d"
          }
        },
        "0c85349278814c2b856913ff3bb53fbb": {
          "model_module": "@jupyter-widgets/controls",
          "model_name": "HTMLModel",
          "model_module_version": "1.5.0",
          "state": {
            "_dom_classes": [],
            "_model_module": "@jupyter-widgets/controls",
            "_model_module_version": "1.5.0",
            "_model_name": "HTMLModel",
            "_view_count": null,
            "_view_module": "@jupyter-widgets/controls",
            "_view_module_version": "1.5.0",
            "_view_name": "HTMLView",
            "description": "",
            "description_tooltip": null,
            "layout": "IPY_MODEL_2961cc8c905540bfa3d22721a4b8d9c9",
            "placeholder": "​",
            "style": "IPY_MODEL_39e63295ca5948deb379ad36bad00677",
            "value": "100%"
          }
        },
        "bcb9561039ff48ccba91610c1675d755": {
          "model_module": "@jupyter-widgets/controls",
          "model_name": "FloatProgressModel",
          "model_module_version": "1.5.0",
          "state": {
            "_dom_classes": [],
            "_model_module": "@jupyter-widgets/controls",
            "_model_module_version": "1.5.0",
            "_model_name": "FloatProgressModel",
            "_view_count": null,
            "_view_module": "@jupyter-widgets/controls",
            "_view_module_version": "1.5.0",
            "_view_name": "ProgressView",
            "bar_style": "success",
            "description": "",
            "description_tooltip": null,
            "layout": "IPY_MODEL_f63cf6afc3444a56963108be1c3c9bd8",
            "max": 1,
            "min": 0,
            "orientation": "horizontal",
            "style": "IPY_MODEL_5c4058b9fca84df9b39814de1ab13d89",
            "value": 1
          }
        },
        "92736ee7f48448c5a341a6710e71a69d": {
          "model_module": "@jupyter-widgets/controls",
          "model_name": "HTMLModel",
          "model_module_version": "1.5.0",
          "state": {
            "_dom_classes": [],
            "_model_module": "@jupyter-widgets/controls",
            "_model_module_version": "1.5.0",
            "_model_name": "HTMLModel",
            "_view_count": null,
            "_view_module": "@jupyter-widgets/controls",
            "_view_module_version": "1.5.0",
            "_view_name": "HTMLView",
            "description": "",
            "description_tooltip": null,
            "layout": "IPY_MODEL_0e3fde0c56e346ecbe4255efccb1a2c2",
            "placeholder": "​",
            "style": "IPY_MODEL_c3b9c7c61c0c4b08aacb5aa21f9bdda6",
            "value": " 1/1 [00:07&lt;00:00,  7.20s/it]"
          }
        },
        "c8cc2295aa704ea0a76bf71c1b21ef3d": {
          "model_module": "@jupyter-widgets/base",
          "model_name": "LayoutModel",
          "model_module_version": "1.2.0",
          "state": {
            "_model_module": "@jupyter-widgets/base",
            "_model_module_version": "1.2.0",
            "_model_name": "LayoutModel",
            "_view_count": null,
            "_view_module": "@jupyter-widgets/base",
            "_view_module_version": "1.2.0",
            "_view_name": "LayoutView",
            "align_content": null,
            "align_items": null,
            "align_self": null,
            "border": null,
            "bottom": null,
            "display": null,
            "flex": null,
            "flex_flow": null,
            "grid_area": null,
            "grid_auto_columns": null,
            "grid_auto_flow": null,
            "grid_auto_rows": null,
            "grid_column": null,
            "grid_gap": null,
            "grid_row": null,
            "grid_template_areas": null,
            "grid_template_columns": null,
            "grid_template_rows": null,
            "height": null,
            "justify_content": null,
            "justify_items": null,
            "left": null,
            "margin": null,
            "max_height": null,
            "max_width": null,
            "min_height": null,
            "min_width": null,
            "object_fit": null,
            "object_position": null,
            "order": null,
            "overflow": null,
            "overflow_x": null,
            "overflow_y": null,
            "padding": null,
            "right": null,
            "top": null,
            "visibility": null,
            "width": null
          }
        },
        "2961cc8c905540bfa3d22721a4b8d9c9": {
          "model_module": "@jupyter-widgets/base",
          "model_name": "LayoutModel",
          "model_module_version": "1.2.0",
          "state": {
            "_model_module": "@jupyter-widgets/base",
            "_model_module_version": "1.2.0",
            "_model_name": "LayoutModel",
            "_view_count": null,
            "_view_module": "@jupyter-widgets/base",
            "_view_module_version": "1.2.0",
            "_view_name": "LayoutView",
            "align_content": null,
            "align_items": null,
            "align_self": null,
            "border": null,
            "bottom": null,
            "display": null,
            "flex": null,
            "flex_flow": null,
            "grid_area": null,
            "grid_auto_columns": null,
            "grid_auto_flow": null,
            "grid_auto_rows": null,
            "grid_column": null,
            "grid_gap": null,
            "grid_row": null,
            "grid_template_areas": null,
            "grid_template_columns": null,
            "grid_template_rows": null,
            "height": null,
            "justify_content": null,
            "justify_items": null,
            "left": null,
            "margin": null,
            "max_height": null,
            "max_width": null,
            "min_height": null,
            "min_width": null,
            "object_fit": null,
            "object_position": null,
            "order": null,
            "overflow": null,
            "overflow_x": null,
            "overflow_y": null,
            "padding": null,
            "right": null,
            "top": null,
            "visibility": null,
            "width": null
          }
        },
        "39e63295ca5948deb379ad36bad00677": {
          "model_module": "@jupyter-widgets/controls",
          "model_name": "DescriptionStyleModel",
          "model_module_version": "1.5.0",
          "state": {
            "_model_module": "@jupyter-widgets/controls",
            "_model_module_version": "1.5.0",
            "_model_name": "DescriptionStyleModel",
            "_view_count": null,
            "_view_module": "@jupyter-widgets/base",
            "_view_module_version": "1.2.0",
            "_view_name": "StyleView",
            "description_width": ""
          }
        },
        "f63cf6afc3444a56963108be1c3c9bd8": {
          "model_module": "@jupyter-widgets/base",
          "model_name": "LayoutModel",
          "model_module_version": "1.2.0",
          "state": {
            "_model_module": "@jupyter-widgets/base",
            "_model_module_version": "1.2.0",
            "_model_name": "LayoutModel",
            "_view_count": null,
            "_view_module": "@jupyter-widgets/base",
            "_view_module_version": "1.2.0",
            "_view_name": "LayoutView",
            "align_content": null,
            "align_items": null,
            "align_self": null,
            "border": null,
            "bottom": null,
            "display": null,
            "flex": null,
            "flex_flow": null,
            "grid_area": null,
            "grid_auto_columns": null,
            "grid_auto_flow": null,
            "grid_auto_rows": null,
            "grid_column": null,
            "grid_gap": null,
            "grid_row": null,
            "grid_template_areas": null,
            "grid_template_columns": null,
            "grid_template_rows": null,
            "height": null,
            "justify_content": null,
            "justify_items": null,
            "left": null,
            "margin": null,
            "max_height": null,
            "max_width": null,
            "min_height": null,
            "min_width": null,
            "object_fit": null,
            "object_position": null,
            "order": null,
            "overflow": null,
            "overflow_x": null,
            "overflow_y": null,
            "padding": null,
            "right": null,
            "top": null,
            "visibility": null,
            "width": null
          }
        },
        "5c4058b9fca84df9b39814de1ab13d89": {
          "model_module": "@jupyter-widgets/controls",
          "model_name": "ProgressStyleModel",
          "model_module_version": "1.5.0",
          "state": {
            "_model_module": "@jupyter-widgets/controls",
            "_model_module_version": "1.5.0",
            "_model_name": "ProgressStyleModel",
            "_view_count": null,
            "_view_module": "@jupyter-widgets/base",
            "_view_module_version": "1.2.0",
            "_view_name": "StyleView",
            "bar_color": null,
            "description_width": ""
          }
        },
        "0e3fde0c56e346ecbe4255efccb1a2c2": {
          "model_module": "@jupyter-widgets/base",
          "model_name": "LayoutModel",
          "model_module_version": "1.2.0",
          "state": {
            "_model_module": "@jupyter-widgets/base",
            "_model_module_version": "1.2.0",
            "_model_name": "LayoutModel",
            "_view_count": null,
            "_view_module": "@jupyter-widgets/base",
            "_view_module_version": "1.2.0",
            "_view_name": "LayoutView",
            "align_content": null,
            "align_items": null,
            "align_self": null,
            "border": null,
            "bottom": null,
            "display": null,
            "flex": null,
            "flex_flow": null,
            "grid_area": null,
            "grid_auto_columns": null,
            "grid_auto_flow": null,
            "grid_auto_rows": null,
            "grid_column": null,
            "grid_gap": null,
            "grid_row": null,
            "grid_template_areas": null,
            "grid_template_columns": null,
            "grid_template_rows": null,
            "height": null,
            "justify_content": null,
            "justify_items": null,
            "left": null,
            "margin": null,
            "max_height": null,
            "max_width": null,
            "min_height": null,
            "min_width": null,
            "object_fit": null,
            "object_position": null,
            "order": null,
            "overflow": null,
            "overflow_x": null,
            "overflow_y": null,
            "padding": null,
            "right": null,
            "top": null,
            "visibility": null,
            "width": null
          }
        },
        "c3b9c7c61c0c4b08aacb5aa21f9bdda6": {
          "model_module": "@jupyter-widgets/controls",
          "model_name": "DescriptionStyleModel",
          "model_module_version": "1.5.0",
          "state": {
            "_model_module": "@jupyter-widgets/controls",
            "_model_module_version": "1.5.0",
            "_model_name": "DescriptionStyleModel",
            "_view_count": null,
            "_view_module": "@jupyter-widgets/base",
            "_view_module_version": "1.2.0",
            "_view_name": "StyleView",
            "description_width": ""
          }
        },
        "7797865af0b94f3092b2b9d81bce989a": {
          "model_module": "@jupyter-widgets/controls",
          "model_name": "HBoxModel",
          "model_module_version": "1.5.0",
          "state": {
            "_dom_classes": [],
            "_model_module": "@jupyter-widgets/controls",
            "_model_module_version": "1.5.0",
            "_model_name": "HBoxModel",
            "_view_count": null,
            "_view_module": "@jupyter-widgets/controls",
            "_view_module_version": "1.5.0",
            "_view_name": "HBoxView",
            "box_style": "",
            "children": [
              "IPY_MODEL_754b15ca2785499e85f3f422ff57a17a",
              "IPY_MODEL_9e7a4c7359a5408daf3b28a3f2a04397",
              "IPY_MODEL_ed25a307bc9044cd86e3847c569e5846"
            ],
            "layout": "IPY_MODEL_9a80aadb55e942c6aaf5b50b7b1a36b3"
          }
        },
        "754b15ca2785499e85f3f422ff57a17a": {
          "model_module": "@jupyter-widgets/controls",
          "model_name": "HTMLModel",
          "model_module_version": "1.5.0",
          "state": {
            "_dom_classes": [],
            "_model_module": "@jupyter-widgets/controls",
            "_model_module_version": "1.5.0",
            "_model_name": "HTMLModel",
            "_view_count": null,
            "_view_module": "@jupyter-widgets/controls",
            "_view_module_version": "1.5.0",
            "_view_name": "HTMLView",
            "description": "",
            "description_tooltip": null,
            "layout": "IPY_MODEL_fd878e76f38643f5a01297cb09ae25bb",
            "placeholder": "​",
            "style": "IPY_MODEL_25dbaf8c5ed44f7db2e7a3eb9e70bfd7",
            "value": "100%"
          }
        },
        "9e7a4c7359a5408daf3b28a3f2a04397": {
          "model_module": "@jupyter-widgets/controls",
          "model_name": "FloatProgressModel",
          "model_module_version": "1.5.0",
          "state": {
            "_dom_classes": [],
            "_model_module": "@jupyter-widgets/controls",
            "_model_module_version": "1.5.0",
            "_model_name": "FloatProgressModel",
            "_view_count": null,
            "_view_module": "@jupyter-widgets/controls",
            "_view_module_version": "1.5.0",
            "_view_name": "ProgressView",
            "bar_style": "success",
            "description": "",
            "description_tooltip": null,
            "layout": "IPY_MODEL_8123c68d4d2f4bc3ba5df454e11bfc08",
            "max": 1,
            "min": 0,
            "orientation": "horizontal",
            "style": "IPY_MODEL_c8a2d3ce0fcf44dca08da0ee89c8e4f7",
            "value": 1
          }
        },
        "ed25a307bc9044cd86e3847c569e5846": {
          "model_module": "@jupyter-widgets/controls",
          "model_name": "HTMLModel",
          "model_module_version": "1.5.0",
          "state": {
            "_dom_classes": [],
            "_model_module": "@jupyter-widgets/controls",
            "_model_module_version": "1.5.0",
            "_model_name": "HTMLModel",
            "_view_count": null,
            "_view_module": "@jupyter-widgets/controls",
            "_view_module_version": "1.5.0",
            "_view_name": "HTMLView",
            "description": "",
            "description_tooltip": null,
            "layout": "IPY_MODEL_fe53dcbb0f75458bbf7860993bfb1bca",
            "placeholder": "​",
            "style": "IPY_MODEL_ea25e4567cf046f8aa661fa6823e7822",
            "value": " 1/1 [00:09&lt;00:00,  9.26s/it]"
          }
        },
        "9a80aadb55e942c6aaf5b50b7b1a36b3": {
          "model_module": "@jupyter-widgets/base",
          "model_name": "LayoutModel",
          "model_module_version": "1.2.0",
          "state": {
            "_model_module": "@jupyter-widgets/base",
            "_model_module_version": "1.2.0",
            "_model_name": "LayoutModel",
            "_view_count": null,
            "_view_module": "@jupyter-widgets/base",
            "_view_module_version": "1.2.0",
            "_view_name": "LayoutView",
            "align_content": null,
            "align_items": null,
            "align_self": null,
            "border": null,
            "bottom": null,
            "display": null,
            "flex": null,
            "flex_flow": null,
            "grid_area": null,
            "grid_auto_columns": null,
            "grid_auto_flow": null,
            "grid_auto_rows": null,
            "grid_column": null,
            "grid_gap": null,
            "grid_row": null,
            "grid_template_areas": null,
            "grid_template_columns": null,
            "grid_template_rows": null,
            "height": null,
            "justify_content": null,
            "justify_items": null,
            "left": null,
            "margin": null,
            "max_height": null,
            "max_width": null,
            "min_height": null,
            "min_width": null,
            "object_fit": null,
            "object_position": null,
            "order": null,
            "overflow": null,
            "overflow_x": null,
            "overflow_y": null,
            "padding": null,
            "right": null,
            "top": null,
            "visibility": null,
            "width": null
          }
        },
        "fd878e76f38643f5a01297cb09ae25bb": {
          "model_module": "@jupyter-widgets/base",
          "model_name": "LayoutModel",
          "model_module_version": "1.2.0",
          "state": {
            "_model_module": "@jupyter-widgets/base",
            "_model_module_version": "1.2.0",
            "_model_name": "LayoutModel",
            "_view_count": null,
            "_view_module": "@jupyter-widgets/base",
            "_view_module_version": "1.2.0",
            "_view_name": "LayoutView",
            "align_content": null,
            "align_items": null,
            "align_self": null,
            "border": null,
            "bottom": null,
            "display": null,
            "flex": null,
            "flex_flow": null,
            "grid_area": null,
            "grid_auto_columns": null,
            "grid_auto_flow": null,
            "grid_auto_rows": null,
            "grid_column": null,
            "grid_gap": null,
            "grid_row": null,
            "grid_template_areas": null,
            "grid_template_columns": null,
            "grid_template_rows": null,
            "height": null,
            "justify_content": null,
            "justify_items": null,
            "left": null,
            "margin": null,
            "max_height": null,
            "max_width": null,
            "min_height": null,
            "min_width": null,
            "object_fit": null,
            "object_position": null,
            "order": null,
            "overflow": null,
            "overflow_x": null,
            "overflow_y": null,
            "padding": null,
            "right": null,
            "top": null,
            "visibility": null,
            "width": null
          }
        },
        "25dbaf8c5ed44f7db2e7a3eb9e70bfd7": {
          "model_module": "@jupyter-widgets/controls",
          "model_name": "DescriptionStyleModel",
          "model_module_version": "1.5.0",
          "state": {
            "_model_module": "@jupyter-widgets/controls",
            "_model_module_version": "1.5.0",
            "_model_name": "DescriptionStyleModel",
            "_view_count": null,
            "_view_module": "@jupyter-widgets/base",
            "_view_module_version": "1.2.0",
            "_view_name": "StyleView",
            "description_width": ""
          }
        },
        "8123c68d4d2f4bc3ba5df454e11bfc08": {
          "model_module": "@jupyter-widgets/base",
          "model_name": "LayoutModel",
          "model_module_version": "1.2.0",
          "state": {
            "_model_module": "@jupyter-widgets/base",
            "_model_module_version": "1.2.0",
            "_model_name": "LayoutModel",
            "_view_count": null,
            "_view_module": "@jupyter-widgets/base",
            "_view_module_version": "1.2.0",
            "_view_name": "LayoutView",
            "align_content": null,
            "align_items": null,
            "align_self": null,
            "border": null,
            "bottom": null,
            "display": null,
            "flex": null,
            "flex_flow": null,
            "grid_area": null,
            "grid_auto_columns": null,
            "grid_auto_flow": null,
            "grid_auto_rows": null,
            "grid_column": null,
            "grid_gap": null,
            "grid_row": null,
            "grid_template_areas": null,
            "grid_template_columns": null,
            "grid_template_rows": null,
            "height": null,
            "justify_content": null,
            "justify_items": null,
            "left": null,
            "margin": null,
            "max_height": null,
            "max_width": null,
            "min_height": null,
            "min_width": null,
            "object_fit": null,
            "object_position": null,
            "order": null,
            "overflow": null,
            "overflow_x": null,
            "overflow_y": null,
            "padding": null,
            "right": null,
            "top": null,
            "visibility": null,
            "width": null
          }
        },
        "c8a2d3ce0fcf44dca08da0ee89c8e4f7": {
          "model_module": "@jupyter-widgets/controls",
          "model_name": "ProgressStyleModel",
          "model_module_version": "1.5.0",
          "state": {
            "_model_module": "@jupyter-widgets/controls",
            "_model_module_version": "1.5.0",
            "_model_name": "ProgressStyleModel",
            "_view_count": null,
            "_view_module": "@jupyter-widgets/base",
            "_view_module_version": "1.2.0",
            "_view_name": "StyleView",
            "bar_color": null,
            "description_width": ""
          }
        },
        "fe53dcbb0f75458bbf7860993bfb1bca": {
          "model_module": "@jupyter-widgets/base",
          "model_name": "LayoutModel",
          "model_module_version": "1.2.0",
          "state": {
            "_model_module": "@jupyter-widgets/base",
            "_model_module_version": "1.2.0",
            "_model_name": "LayoutModel",
            "_view_count": null,
            "_view_module": "@jupyter-widgets/base",
            "_view_module_version": "1.2.0",
            "_view_name": "LayoutView",
            "align_content": null,
            "align_items": null,
            "align_self": null,
            "border": null,
            "bottom": null,
            "display": null,
            "flex": null,
            "flex_flow": null,
            "grid_area": null,
            "grid_auto_columns": null,
            "grid_auto_flow": null,
            "grid_auto_rows": null,
            "grid_column": null,
            "grid_gap": null,
            "grid_row": null,
            "grid_template_areas": null,
            "grid_template_columns": null,
            "grid_template_rows": null,
            "height": null,
            "justify_content": null,
            "justify_items": null,
            "left": null,
            "margin": null,
            "max_height": null,
            "max_width": null,
            "min_height": null,
            "min_width": null,
            "object_fit": null,
            "object_position": null,
            "order": null,
            "overflow": null,
            "overflow_x": null,
            "overflow_y": null,
            "padding": null,
            "right": null,
            "top": null,
            "visibility": null,
            "width": null
          }
        },
        "ea25e4567cf046f8aa661fa6823e7822": {
          "model_module": "@jupyter-widgets/controls",
          "model_name": "DescriptionStyleModel",
          "model_module_version": "1.5.0",
          "state": {
            "_model_module": "@jupyter-widgets/controls",
            "_model_module_version": "1.5.0",
            "_model_name": "DescriptionStyleModel",
            "_view_count": null,
            "_view_module": "@jupyter-widgets/base",
            "_view_module_version": "1.2.0",
            "_view_name": "StyleView",
            "description_width": ""
          }
        }
      }
    },
    "accelerator": "GPU"
  },
  "nbformat": 4,
  "nbformat_minor": 0
}