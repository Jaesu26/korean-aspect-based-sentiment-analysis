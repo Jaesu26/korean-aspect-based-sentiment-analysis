{
  "cells": [
    {
      "cell_type": "markdown",
      "metadata": {
        "id": "view-in-github",
        "colab_type": "text"
      },
      "source": [
        "<a href=\"https://colab.research.google.com/github/Jaesu26/korean-aspect-based-sentiment-analysis/blob/main/2022-10-29-%EC%86%8D%EC%84%B1%EA%B8%B0%EB%B0%98-%EA%B0%90%EC%84%B1-%EB%B6%84%EB%A5%98.ipynb\" target=\"_parent\"><img src=\"https://colab.research.google.com/assets/colab-badge.svg\" alt=\"Open In Colab\"/></a>"
      ]
    },
    {
      "cell_type": "markdown",
      "metadata": {
        "id": "75xRhMA-ZZ4g"
      },
      "source": [
        "# 2022 국립국어원 인공지능 언어능력평가"
      ]
    },
    {
      "cell_type": "code",
      "source": [
        "!nvidia-smi"
      ],
      "metadata": {
        "id": "Vry2J_Ifj6ZW",
        "colab": {
          "base_uri": "https://localhost:8080/"
        },
        "outputId": "6a38b764-7ae4-4855-cefe-aabae1723cce"
      },
      "execution_count": 1,
      "outputs": [
        {
          "output_type": "stream",
          "name": "stdout",
          "text": [
            "Sat Oct 29 10:05:08 2022       \n",
            "+-----------------------------------------------------------------------------+\n",
            "| NVIDIA-SMI 460.32.03    Driver Version: 460.32.03    CUDA Version: 11.2     |\n",
            "|-------------------------------+----------------------+----------------------+\n",
            "| GPU  Name        Persistence-M| Bus-Id        Disp.A | Volatile Uncorr. ECC |\n",
            "| Fan  Temp  Perf  Pwr:Usage/Cap|         Memory-Usage | GPU-Util  Compute M. |\n",
            "|                               |                      |               MIG M. |\n",
            "|===============================+======================+======================|\n",
            "|   0  Tesla T4            Off  | 00000000:00:04.0 Off |                    0 |\n",
            "| N/A   37C    P8     9W /  70W |      0MiB / 15109MiB |      0%      Default |\n",
            "|                               |                      |                  N/A |\n",
            "+-------------------------------+----------------------+----------------------+\n",
            "                                                                               \n",
            "+-----------------------------------------------------------------------------+\n",
            "| Processes:                                                                  |\n",
            "|  GPU   GI   CI        PID   Type   Process name                  GPU Memory |\n",
            "|        ID   ID                                                   Usage      |\n",
            "|=============================================================================|\n",
            "|  No running processes found                                                 |\n",
            "+-----------------------------------------------------------------------------+\n"
          ]
        }
      ]
    },
    {
      "cell_type": "code",
      "source": [
        "!sudo apt-get install -y fonts-nanum\n",
        "!sudo fc-cache -fv\n",
        "!rm ~/.cache/matplotlib -rf"
      ],
      "metadata": {
        "id": "CcdrPaqtO1bU",
        "colab": {
          "base_uri": "https://localhost:8080/"
        },
        "outputId": "a97a13c2-8130-4909-9f54-06dc70654a4e"
      },
      "execution_count": null,
      "outputs": [
        {
          "output_type": "stream",
          "name": "stdout",
          "text": [
            "Reading package lists... Done\n",
            "Building dependency tree       \n",
            "Reading state information... Done\n",
            "The following package was automatically installed and is no longer required:\n",
            "  libnvidia-common-460\n",
            "Use 'sudo apt autoremove' to remove it.\n",
            "The following NEW packages will be installed:\n",
            "  fonts-nanum\n",
            "0 upgraded, 1 newly installed, 0 to remove and 29 not upgraded.\n",
            "Need to get 9,604 kB of archives.\n",
            "After this operation, 29.5 MB of additional disk space will be used.\n",
            "Get:1 http://archive.ubuntu.com/ubuntu bionic/universe amd64 fonts-nanum all 20170925-1 [9,604 kB]\n",
            "Fetched 9,604 kB in 1s (9,017 kB/s)\n",
            "debconf: unable to initialize frontend: Dialog\n",
            "debconf: (No usable dialog-like program is installed, so the dialog based frontend cannot be used. at /usr/share/perl5/Debconf/FrontEnd/Dialog.pm line 76, <> line 1.)\n",
            "debconf: falling back to frontend: Readline\n",
            "debconf: unable to initialize frontend: Readline\n",
            "debconf: (This frontend requires a controlling tty.)\n",
            "debconf: falling back to frontend: Teletype\n",
            "dpkg-preconfigure: unable to re-open stdin: \n",
            "Selecting previously unselected package fonts-nanum.\n",
            "(Reading database ... 123942 files and directories currently installed.)\n",
            "Preparing to unpack .../fonts-nanum_20170925-1_all.deb ...\n",
            "Unpacking fonts-nanum (20170925-1) ...\n",
            "Setting up fonts-nanum (20170925-1) ...\n",
            "Processing triggers for fontconfig (2.12.6-0ubuntu2) ...\n",
            "/usr/share/fonts: caching, new cache contents: 0 fonts, 1 dirs\n",
            "/usr/share/fonts/truetype: caching, new cache contents: 0 fonts, 3 dirs\n",
            "/usr/share/fonts/truetype/humor-sans: caching, new cache contents: 1 fonts, 0 dirs\n",
            "/usr/share/fonts/truetype/liberation: caching, new cache contents: 16 fonts, 0 dirs\n",
            "/usr/share/fonts/truetype/nanum: caching, new cache contents: 10 fonts, 0 dirs\n",
            "/usr/local/share/fonts: caching, new cache contents: 0 fonts, 0 dirs\n",
            "/root/.local/share/fonts: skipping, no such directory\n",
            "/root/.fonts: skipping, no such directory\n",
            "/var/cache/fontconfig: cleaning cache directory\n",
            "/root/.cache/fontconfig: not cleaning non-existent cache directory\n",
            "/root/.fontconfig: not cleaning non-existent cache directory\n",
            "fc-cache: succeeded\n"
          ]
        }
      ]
    },
    {
      "cell_type": "code",
      "execution_count": 2,
      "metadata": {
        "id": "vrIMdOEbBdTC",
        "colab": {
          "base_uri": "https://localhost:8080/"
        },
        "outputId": "70dd4d14-7172-484c-e449-30e00ae76615"
      },
      "outputs": [
        {
          "output_type": "stream",
          "name": "stdout",
          "text": [
            "Looking in indexes: https://pypi.org/simple, https://us-python.pkg.dev/colab-wheels/public/simple/\n",
            "Collecting soynlp\n",
            "  Downloading soynlp-0.0.493-py3-none-any.whl (416 kB)\n",
            "\u001b[K     |████████████████████████████████| 416 kB 21.5 MB/s \n",
            "\u001b[?25hRequirement already satisfied: scikit-learn>=0.20.0 in /usr/local/lib/python3.7/dist-packages (from soynlp) (1.0.2)\n",
            "Requirement already satisfied: numpy>=1.12.1 in /usr/local/lib/python3.7/dist-packages (from soynlp) (1.21.6)\n",
            "Requirement already satisfied: scipy>=1.1.0 in /usr/local/lib/python3.7/dist-packages (from soynlp) (1.7.3)\n",
            "Requirement already satisfied: psutil>=5.0.1 in /usr/local/lib/python3.7/dist-packages (from soynlp) (5.4.8)\n",
            "Requirement already satisfied: joblib>=0.11 in /usr/local/lib/python3.7/dist-packages (from scikit-learn>=0.20.0->soynlp) (1.2.0)\n",
            "Requirement already satisfied: threadpoolctl>=2.0.0 in /usr/local/lib/python3.7/dist-packages (from scikit-learn>=0.20.0->soynlp) (3.1.0)\n",
            "Installing collected packages: soynlp\n",
            "Successfully installed soynlp-0.0.493\n",
            "Looking in indexes: https://pypi.org/simple, https://us-python.pkg.dev/colab-wheels/public/simple/\n",
            "Collecting emoji\n",
            "  Downloading emoji-2.1.0.tar.gz (216 kB)\n",
            "\u001b[K     |████████████████████████████████| 216 kB 26.9 MB/s \n",
            "\u001b[?25hBuilding wheels for collected packages: emoji\n",
            "  Building wheel for emoji (setup.py) ... \u001b[?25l\u001b[?25hdone\n",
            "  Created wheel for emoji: filename=emoji-2.1.0-py3-none-any.whl size=212392 sha256=9016ef80a0a234b39382dccaebd469ea1d422e1052162cc5d286ae3b9f76d3e1\n",
            "  Stored in directory: /root/.cache/pip/wheels/77/75/99/51c2a119f4cfd3af7b49cc57e4f737bed7e40b348a85d82804\n",
            "Successfully built emoji\n",
            "Installing collected packages: emoji\n",
            "Successfully installed emoji-2.1.0\n",
            "Looking in indexes: https://pypi.org/simple, https://us-python.pkg.dev/colab-wheels/public/simple/\n",
            "Collecting transformers==4.8.2\n",
            "  Downloading transformers-4.8.2-py3-none-any.whl (2.5 MB)\n",
            "\u001b[K     |████████████████████████████████| 2.5 MB 22.9 MB/s \n",
            "\u001b[?25hRequirement already satisfied: tqdm>=4.27 in /usr/local/lib/python3.7/dist-packages (from transformers==4.8.2) (4.64.1)\n",
            "Requirement already satisfied: filelock in /usr/local/lib/python3.7/dist-packages (from transformers==4.8.2) (3.8.0)\n",
            "Collecting sacremoses\n",
            "  Downloading sacremoses-0.0.53.tar.gz (880 kB)\n",
            "\u001b[K     |████████████████████████████████| 880 kB 59.6 MB/s \n",
            "\u001b[?25hCollecting huggingface-hub==0.0.12\n",
            "  Downloading huggingface_hub-0.0.12-py3-none-any.whl (37 kB)\n",
            "Requirement already satisfied: pyyaml in /usr/local/lib/python3.7/dist-packages (from transformers==4.8.2) (6.0)\n",
            "Requirement already satisfied: regex!=2019.12.17 in /usr/local/lib/python3.7/dist-packages (from transformers==4.8.2) (2022.6.2)\n",
            "Requirement already satisfied: importlib-metadata in /usr/local/lib/python3.7/dist-packages (from transformers==4.8.2) (4.13.0)\n",
            "Requirement already satisfied: requests in /usr/local/lib/python3.7/dist-packages (from transformers==4.8.2) (2.23.0)\n",
            "Collecting tokenizers<0.11,>=0.10.1\n",
            "  Downloading tokenizers-0.10.3-cp37-cp37m-manylinux_2_5_x86_64.manylinux1_x86_64.manylinux_2_12_x86_64.manylinux2010_x86_64.whl (3.3 MB)\n",
            "\u001b[K     |████████████████████████████████| 3.3 MB 41.3 MB/s \n",
            "\u001b[?25hRequirement already satisfied: packaging in /usr/local/lib/python3.7/dist-packages (from transformers==4.8.2) (21.3)\n",
            "Requirement already satisfied: numpy>=1.17 in /usr/local/lib/python3.7/dist-packages (from transformers==4.8.2) (1.21.6)\n",
            "Requirement already satisfied: typing-extensions in /usr/local/lib/python3.7/dist-packages (from huggingface-hub==0.0.12->transformers==4.8.2) (4.1.1)\n",
            "Requirement already satisfied: pyparsing!=3.0.5,>=2.0.2 in /usr/local/lib/python3.7/dist-packages (from packaging->transformers==4.8.2) (3.0.9)\n",
            "Requirement already satisfied: zipp>=0.5 in /usr/local/lib/python3.7/dist-packages (from importlib-metadata->transformers==4.8.2) (3.9.0)\n",
            "Requirement already satisfied: chardet<4,>=3.0.2 in /usr/local/lib/python3.7/dist-packages (from requests->transformers==4.8.2) (3.0.4)\n",
            "Requirement already satisfied: urllib3!=1.25.0,!=1.25.1,<1.26,>=1.21.1 in /usr/local/lib/python3.7/dist-packages (from requests->transformers==4.8.2) (1.24.3)\n",
            "Requirement already satisfied: certifi>=2017.4.17 in /usr/local/lib/python3.7/dist-packages (from requests->transformers==4.8.2) (2022.9.24)\n",
            "Requirement already satisfied: idna<3,>=2.5 in /usr/local/lib/python3.7/dist-packages (from requests->transformers==4.8.2) (2.10)\n",
            "Requirement already satisfied: six in /usr/local/lib/python3.7/dist-packages (from sacremoses->transformers==4.8.2) (1.15.0)\n",
            "Requirement already satisfied: click in /usr/local/lib/python3.7/dist-packages (from sacremoses->transformers==4.8.2) (7.1.2)\n",
            "Requirement already satisfied: joblib in /usr/local/lib/python3.7/dist-packages (from sacremoses->transformers==4.8.2) (1.2.0)\n",
            "Building wheels for collected packages: sacremoses\n",
            "  Building wheel for sacremoses (setup.py) ... \u001b[?25l\u001b[?25hdone\n",
            "  Created wheel for sacremoses: filename=sacremoses-0.0.53-py3-none-any.whl size=895260 sha256=2a51901bcaff76bdbf0772633caba8f75fab2213476ba5b671c1f72c58267655\n",
            "  Stored in directory: /root/.cache/pip/wheels/87/39/dd/a83eeef36d0bf98e7a4d1933a4ad2d660295a40613079bafc9\n",
            "Successfully built sacremoses\n",
            "Installing collected packages: tokenizers, sacremoses, huggingface-hub, transformers\n",
            "Successfully installed huggingface-hub-0.0.12 sacremoses-0.0.53 tokenizers-0.10.3 transformers-4.8.2\n"
          ]
        }
      ],
      "source": [
        "!pip install soynlp\n",
        "!pip install emoji\n",
        "!pip install transformers==4.8.2"
      ]
    },
    {
      "cell_type": "markdown",
      "metadata": {
        "id": "_P6pjIkRBeFZ"
      },
      "source": [
        "`-` 런타임 재시작"
      ]
    },
    {
      "cell_type": "markdown",
      "metadata": {
        "id": "68xM6jF0ZchA"
      },
      "source": [
        "## 데이터 불러오기"
      ]
    },
    {
      "cell_type": "code",
      "execution_count": 3,
      "metadata": {
        "id": "zJnLWFhmMGG4"
      },
      "outputs": [],
      "source": [
        "import numpy as np\n",
        "import pandas as pd\n",
        "import seaborn as sns\n",
        "import matplotlib.pyplot as plt\n",
        "import warnings\n",
        "import random\n",
        "import json\n",
        "import os\n",
        "import gc\n",
        "import re\n",
        "import emoji\n",
        "\n",
        "from soynlp.normalizer import repeat_normalize\n",
        "\n",
        "from sklearn.model_selection import StratifiedKFold\n",
        "from sklearn.preprocessing import LabelEncoder, MultiLabelBinarizer\n",
        "from sklearn.metrics import precision_score, recall_score, f1_score\n",
        "\n",
        "from typing import Any, Callable, Dict, List, Optional, Sequence, Tuple, Union\n",
        "from numpy.typing import NDArray\n",
        "\n",
        "from tqdm.auto import tqdm\n",
        "from glob import glob\n",
        "\n",
        "warnings.filterwarnings('ignore') "
      ]
    },
    {
      "cell_type": "code",
      "execution_count": 4,
      "metadata": {
        "colab": {
          "base_uri": "https://localhost:8080/"
        },
        "id": "GjvmmVOVMW_P",
        "outputId": "75f645b7-fd9c-4600-a40f-d534b0fec1e5"
      },
      "outputs": [
        {
          "output_type": "stream",
          "name": "stdout",
          "text": [
            "Mounted at /content/drive\n"
          ]
        }
      ],
      "source": [
        "from google.colab import drive\n",
        "\n",
        "drive.mount('/content/drive')  ## 구글코랩과 구글드라이브 연결"
      ]
    },
    {
      "cell_type": "code",
      "execution_count": 5,
      "metadata": {
        "colab": {
          "base_uri": "https://localhost:8080/"
        },
        "id": "eVxuuFzhM72P",
        "outputId": "5c73ac27-92b1-4221-d95f-bd1080a42823"
      },
      "outputs": [
        {
          "output_type": "stream",
          "name": "stdout",
          "text": [
            "/content/drive/MyDrive/Colab Notebooks/속성기반-감성-분류\n"
          ]
        }
      ],
      "source": [
        "%cd  '/content/drive/MyDrive/Colab Notebooks/속성기반-감성-분류'"
      ]
    },
    {
      "cell_type": "markdown",
      "metadata": {
        "id": "MRrJ4A5RKC4B"
      },
      "source": [
        "- 데이터 불러오기"
      ]
    },
    {
      "cell_type": "code",
      "source": [
        "JsonType = Dict[str, Any]"
      ],
      "metadata": {
        "id": "r8sfDvtF3xIa"
      },
      "execution_count": 6,
      "outputs": []
    },
    {
      "cell_type": "code",
      "source": [
        "train_path = './data/nikluge-sa-2022-train.jsonl'\n",
        "valid_path = './data/nikluge-sa-2022-dev.jsonl'\n",
        "test_path = './data/nikluge-sa-2022-test.jsonl'\n",
        "submission_path = './data/nikluge-sa-2022-submission4.json'"
      ],
      "metadata": {
        "id": "N7JdJZofCXED"
      },
      "execution_count": 7,
      "outputs": []
    },
    {
      "cell_type": "code",
      "source": [
        "def load_jsonl(file_path: str, encoding: str = 'utf-8') -> List[JsonType]:\n",
        "    \"\"\"jsonl 파일을 읽어서 list에 저장\"\"\"\n",
        "    json_list = []\n",
        "    with open(file_path, encoding=encoding) as f:\n",
        "        for line in f.readlines():\n",
        "            json_list.append(json.loads(line))\n",
        "    return json_list"
      ],
      "metadata": {
        "id": "0UXPB5Wh0clN"
      },
      "execution_count": 8,
      "outputs": []
    },
    {
      "cell_type": "code",
      "source": [
        "def write_jsonl(jsonl: List[JsonType], file_path: str) -> None:\n",
        "    \"\"\"jsonl 파일을 write\"\"\"\n",
        "    with open(file_path, mode='w', encoding='utf-8') as f: \n",
        "        for j in jsonl: \n",
        "            f.write(json.dumps(j, ensure_ascii=False) + '\\n')"
      ],
      "metadata": {
        "id": "HFCXueZYU2ha"
      },
      "execution_count": 9,
      "outputs": []
    },
    {
      "cell_type": "code",
      "source": [
        "def jsonl2df(jsonl: List[JsonType]) -> pd.DataFrame:\n",
        "    \"\"\"\n",
        "    jsonl을 dataframe으로 변경한 후 반환\n",
        "    For entity property classification\n",
        "    \"\"\"\n",
        "    ids = []\n",
        "    texts = []\n",
        "    entity_properties = []\n",
        "    sentiments = []\n",
        "    \n",
        "    for json in jsonl:\n",
        "        annotations = json['annotation']\n",
        "        ids.append(json['id'].split('-')[-1])\n",
        "        texts.append(json['sentence_form'])\n",
        "        entity_properties.append([annotation[0] for annotation in annotations])\n",
        "        sentiments.append([annotation[2] for annotation in annotations])\n",
        "        \n",
        "    df = pd.DataFrame({'id':ids,\n",
        "                        'text':texts,\n",
        "                        'entity_property':entity_properties,\n",
        "                        'sentiment':sentiments})\n",
        "    \n",
        "    return df"
      ],
      "metadata": {
        "id": "K6WYFPN8Fh7f"
      },
      "execution_count": 42,
      "outputs": []
    },
    {
      "cell_type": "code",
      "source": [
        "def to_tidy(df: pd.DataFrame, is_test: bool = False) -> pd.DataFrame:\n",
        "    \"\"\"\n",
        "    entity_property 변수가 한 행에 하나의 개체 속성만 가지도록 변환\n",
        "    For visualization and sentiment classification\n",
        "    \"\"\"\n",
        "    list_df = df.to_numpy().tolist()\n",
        "    ids = []\n",
        "    texts = []\n",
        "    entity_properties = []\n",
        "    sentiments = []\n",
        "\n",
        "    for id, text, entity_property, sentiment in list_df:\n",
        "        if is_test:\n",
        "            sentiment = [[] for _ in range(len(entity_property))]\n",
        "\n",
        "        for e, s, in zip(entity_property, sentiment):\n",
        "            ids.append(id)\n",
        "            texts.append(text)\n",
        "            entity_properties.append(e)\n",
        "            sentiments.append(s) \n",
        "\n",
        "    df = pd.DataFrame({'id':ids,\n",
        "                       'text':texts,\n",
        "                       'entity_property':entity_properties,\n",
        "                       'sentiment':sentiments})\n",
        "    return df"
      ],
      "metadata": {
        "id": "LOhs4Kv8kzHe"
      },
      "execution_count": 46,
      "outputs": []
    },
    {
      "cell_type": "code",
      "source": [
        "def to_untidy(df: pd.DataFrame) -> pd.DataFrame:\n",
        "    ids = []\n",
        "    texts = []\n",
        "    entity_properties = [] \n",
        "    sentiments = [] \n",
        "\n",
        "    for id in sorted(df['id'].unique()):\n",
        "        tmp = df.query('id == @id')\n",
        "        ids.append(id)\n",
        "        texts.append(tmp['text'].values[0])\n",
        "        entity_properties.append(tmp['entity_property'].tolist())\n",
        "        sentiments.append(tmp['sentiment'].tolist())\n",
        "\n",
        "    df = pd.DataFrame({'id':ids,\n",
        "                       'text':texts,\n",
        "                       'entity_property':entity_properties,\n",
        "                       'sentiment':sentiments})\n",
        "    return df"
      ],
      "metadata": {
        "id": "aA-qCHevaqCh"
      },
      "execution_count": 44,
      "outputs": []
    },
    {
      "cell_type": "code",
      "source": [
        "df = jsonl2df(load_jsonl(train_path))\n",
        "tidy_df = to_tidy(df)\n",
        "\n",
        "valid = jsonl2df(load_jsonl(valid_path))\n",
        "tidy_valid = to_tidy(valid)\n",
        "\n",
        "test = jsonl2df(load_jsonl(test_path))"
      ],
      "metadata": {
        "id": "dl5XJ4wb7joA"
      },
      "execution_count": 133,
      "outputs": []
    },
    {
      "cell_type": "code",
      "source": [
        "tidy_df = tidy_df.drop_duplicates().reset_index().drop('index', axis=1)  ## 주석되는 요인만 다른 경우\n",
        "tidy_valid = tidy_valid.drop_duplicates().reset_index().drop('index', axis=1)"
      ],
      "metadata": {
        "id": "X5ftbhz0O91L"
      },
      "execution_count": 134,
      "outputs": []
    },
    {
      "cell_type": "code",
      "source": [
        "tidy_df.head() "
      ],
      "metadata": {
        "colab": {
          "base_uri": "https://localhost:8080/",
          "height": 206
        },
        "id": "r9XYDh4m070J",
        "outputId": "12f0b83a-37f1-427c-e4ee-a0cb492f73b7"
      },
      "execution_count": 70,
      "outputs": [
        {
          "output_type": "execute_result",
          "data": {
            "text/plain": [
              "      id                                               text entity_property  \\\n",
              "0  00001             둘쨋날은 미친듯이 밟아봤더니 기어가 헛돌면서 틱틱 소리가 나서 경악.           본품#품질   \n",
              "1  00002  이거 뭐 삐꾸를 준 거 아냐 불안하고, 거금 투자한 게 왜 이래.. 싶어서 정이 확...           본품#품질   \n",
              "2  00003               간사하게도 그 이후에는 라이딩이 아주 즐거워져서 만족스럽게 탔다.        제품 전체#일반   \n",
              "3  00004  샥이 없는 모델이라 일반 도로에서 타면 노면의 진동 때문에 손목이 덜덜덜 떨리고 이...        제품 전체#일반   \n",
              "4  00005                     안장도 딱딱해서 엉덩이가 아팠는데 무시하고 타고 있다.           본품#일반   \n",
              "\n",
              "  sentiment  \n",
              "0  negative  \n",
              "1  negative  \n",
              "2  positive  \n",
              "3   neutral  \n",
              "4  negative  "
            ],
            "text/html": [
              "\n",
              "  <div id=\"df-eedb6a0c-2119-4224-a56a-936c2da5e266\">\n",
              "    <div class=\"colab-df-container\">\n",
              "      <div>\n",
              "<style scoped>\n",
              "    .dataframe tbody tr th:only-of-type {\n",
              "        vertical-align: middle;\n",
              "    }\n",
              "\n",
              "    .dataframe tbody tr th {\n",
              "        vertical-align: top;\n",
              "    }\n",
              "\n",
              "    .dataframe thead th {\n",
              "        text-align: right;\n",
              "    }\n",
              "</style>\n",
              "<table border=\"1\" class=\"dataframe\">\n",
              "  <thead>\n",
              "    <tr style=\"text-align: right;\">\n",
              "      <th></th>\n",
              "      <th>id</th>\n",
              "      <th>text</th>\n",
              "      <th>entity_property</th>\n",
              "      <th>sentiment</th>\n",
              "    </tr>\n",
              "  </thead>\n",
              "  <tbody>\n",
              "    <tr>\n",
              "      <th>0</th>\n",
              "      <td>00001</td>\n",
              "      <td>둘쨋날은 미친듯이 밟아봤더니 기어가 헛돌면서 틱틱 소리가 나서 경악.</td>\n",
              "      <td>본품#품질</td>\n",
              "      <td>negative</td>\n",
              "    </tr>\n",
              "    <tr>\n",
              "      <th>1</th>\n",
              "      <td>00002</td>\n",
              "      <td>이거 뭐 삐꾸를 준 거 아냐 불안하고, 거금 투자한 게 왜 이래.. 싶어서 정이 확...</td>\n",
              "      <td>본품#품질</td>\n",
              "      <td>negative</td>\n",
              "    </tr>\n",
              "    <tr>\n",
              "      <th>2</th>\n",
              "      <td>00003</td>\n",
              "      <td>간사하게도 그 이후에는 라이딩이 아주 즐거워져서 만족스럽게 탔다.</td>\n",
              "      <td>제품 전체#일반</td>\n",
              "      <td>positive</td>\n",
              "    </tr>\n",
              "    <tr>\n",
              "      <th>3</th>\n",
              "      <td>00004</td>\n",
              "      <td>샥이 없는 모델이라 일반 도로에서 타면 노면의 진동 때문에 손목이 덜덜덜 떨리고 이...</td>\n",
              "      <td>제품 전체#일반</td>\n",
              "      <td>neutral</td>\n",
              "    </tr>\n",
              "    <tr>\n",
              "      <th>4</th>\n",
              "      <td>00005</td>\n",
              "      <td>안장도 딱딱해서 엉덩이가 아팠는데 무시하고 타고 있다.</td>\n",
              "      <td>본품#일반</td>\n",
              "      <td>negative</td>\n",
              "    </tr>\n",
              "  </tbody>\n",
              "</table>\n",
              "</div>\n",
              "      <button class=\"colab-df-convert\" onclick=\"convertToInteractive('df-eedb6a0c-2119-4224-a56a-936c2da5e266')\"\n",
              "              title=\"Convert this dataframe to an interactive table.\"\n",
              "              style=\"display:none;\">\n",
              "        \n",
              "  <svg xmlns=\"http://www.w3.org/2000/svg\" height=\"24px\"viewBox=\"0 0 24 24\"\n",
              "       width=\"24px\">\n",
              "    <path d=\"M0 0h24v24H0V0z\" fill=\"none\"/>\n",
              "    <path d=\"M18.56 5.44l.94 2.06.94-2.06 2.06-.94-2.06-.94-.94-2.06-.94 2.06-2.06.94zm-11 1L8.5 8.5l.94-2.06 2.06-.94-2.06-.94L8.5 2.5l-.94 2.06-2.06.94zm10 10l.94 2.06.94-2.06 2.06-.94-2.06-.94-.94-2.06-.94 2.06-2.06.94z\"/><path d=\"M17.41 7.96l-1.37-1.37c-.4-.4-.92-.59-1.43-.59-.52 0-1.04.2-1.43.59L10.3 9.45l-7.72 7.72c-.78.78-.78 2.05 0 2.83L4 21.41c.39.39.9.59 1.41.59.51 0 1.02-.2 1.41-.59l7.78-7.78 2.81-2.81c.8-.78.8-2.07 0-2.86zM5.41 20L4 18.59l7.72-7.72 1.47 1.35L5.41 20z\"/>\n",
              "  </svg>\n",
              "      </button>\n",
              "      \n",
              "  <style>\n",
              "    .colab-df-container {\n",
              "      display:flex;\n",
              "      flex-wrap:wrap;\n",
              "      gap: 12px;\n",
              "    }\n",
              "\n",
              "    .colab-df-convert {\n",
              "      background-color: #E8F0FE;\n",
              "      border: none;\n",
              "      border-radius: 50%;\n",
              "      cursor: pointer;\n",
              "      display: none;\n",
              "      fill: #1967D2;\n",
              "      height: 32px;\n",
              "      padding: 0 0 0 0;\n",
              "      width: 32px;\n",
              "    }\n",
              "\n",
              "    .colab-df-convert:hover {\n",
              "      background-color: #E2EBFA;\n",
              "      box-shadow: 0px 1px 2px rgba(60, 64, 67, 0.3), 0px 1px 3px 1px rgba(60, 64, 67, 0.15);\n",
              "      fill: #174EA6;\n",
              "    }\n",
              "\n",
              "    [theme=dark] .colab-df-convert {\n",
              "      background-color: #3B4455;\n",
              "      fill: #D2E3FC;\n",
              "    }\n",
              "\n",
              "    [theme=dark] .colab-df-convert:hover {\n",
              "      background-color: #434B5C;\n",
              "      box-shadow: 0px 1px 3px 1px rgba(0, 0, 0, 0.15);\n",
              "      filter: drop-shadow(0px 1px 2px rgba(0, 0, 0, 0.3));\n",
              "      fill: #FFFFFF;\n",
              "    }\n",
              "  </style>\n",
              "\n",
              "      <script>\n",
              "        const buttonEl =\n",
              "          document.querySelector('#df-eedb6a0c-2119-4224-a56a-936c2da5e266 button.colab-df-convert');\n",
              "        buttonEl.style.display =\n",
              "          google.colab.kernel.accessAllowed ? 'block' : 'none';\n",
              "\n",
              "        async function convertToInteractive(key) {\n",
              "          const element = document.querySelector('#df-eedb6a0c-2119-4224-a56a-936c2da5e266');\n",
              "          const dataTable =\n",
              "            await google.colab.kernel.invokeFunction('convertToInteractive',\n",
              "                                                     [key], {});\n",
              "          if (!dataTable) return;\n",
              "\n",
              "          const docLinkHtml = 'Like what you see? Visit the ' +\n",
              "            '<a target=\"_blank\" href=https://colab.research.google.com/notebooks/data_table.ipynb>data table notebook</a>'\n",
              "            + ' to learn more about interactive tables.';\n",
              "          element.innerHTML = '';\n",
              "          dataTable['output_type'] = 'display_data';\n",
              "          await google.colab.output.renderOutput(dataTable, element);\n",
              "          const docLink = document.createElement('div');\n",
              "          docLink.innerHTML = docLinkHtml;\n",
              "          element.appendChild(docLink);\n",
              "        }\n",
              "      </script>\n",
              "    </div>\n",
              "  </div>\n",
              "  "
            ]
          },
          "metadata": {},
          "execution_count": 70
        }
      ]
    },
    {
      "cell_type": "markdown",
      "metadata": {
        "id": "NN7RHXuYr88l"
      },
      "source": [
        "- 하이퍼파라미터 (개체 속성과 감성)"
      ]
    },
    {
      "cell_type": "code",
      "execution_count": 131,
      "metadata": {
        "id": "ZBe2gEgzr-q1"
      },
      "outputs": [],
      "source": [
        "MODEL_PATHS = {'electra':'kykim/electra-kor-base', \n",
        "               'bert':'kykim/bert-kor-base',}\n",
        "\n",
        "MODEL_NAME = 'bert'\n",
        "MODEL_DEFAULT_WEIGHT_PATHS = {'ACD':f'acd_{MODEL_NAME}_default_weight.pt', \n",
        "                              'ASC':f'asc_{MODEL_NAME}_default_weight.pt'} \n",
        "\n",
        "SAVE_PATHS = {'ACD':'./acd_weight',\n",
        "              'ASC':'./asc_weight'}\n",
        "\n",
        "NUM_CLASSES = {'ACD':len(tidy_df['entity_property'].unique()),   \n",
        "               'ASC':len(tidy_df['sentiment'].unique())}\n",
        "NUM_FOLDS = 3\n",
        "NUM_EPOCHS = {'ACD':40, 'ASC':20}\n",
        "MAX_LEN = 53\n",
        "BATCH_SIZE = 64\n",
        "LEARNING_RATE = {'ACD':5e-5, 'ASC':8e-6}\n",
        "LABEL_SMOOTHING = 0.1\n",
        "SEEDS = [2022, 2001, 22]  ## seed ensemble\n",
        "NUM_FOLDS = len(SEEDS) "
      ]
    },
    {
      "cell_type": "markdown",
      "metadata": {
        "id": "II2XMQAVsAQt"
      },
      "source": [
        "- 가중치 저장폴더"
      ]
    },
    {
      "cell_type": "code",
      "execution_count": null,
      "metadata": {
        "id": "YnpAfBHMsCb1"
      },
      "outputs": [],
      "source": [
        "def create_folder(path: str) -> None:\n",
        "    try:\n",
        "        if not os.path.exists(path):\n",
        "            os.makedirs(path)\n",
        "    except OSError as error:\n",
        "        print(error)"
      ]
    },
    {
      "cell_type": "code",
      "execution_count": null,
      "metadata": {
        "id": "WRCnOvxlsE2F"
      },
      "outputs": [],
      "source": [
        "create_folder(SAVE_PATHS['ACD'])\n",
        "create_folder(SAVE_PATHS['ASC'])"
      ]
    },
    {
      "cell_type": "markdown",
      "metadata": {
        "id": "bvB62nkihj3a"
      },
      "source": [
        "## 시각화"
      ]
    },
    {
      "cell_type": "markdown",
      "metadata": {
        "id": "5HSm1gzTxO0e"
      },
      "source": [
        "### 라벨"
      ]
    },
    {
      "cell_type": "code",
      "source": [
        "plt.rc('font', family='NanumBarunGothic')"
      ],
      "metadata": {
        "id": "j2rL6owHJRmP"
      },
      "execution_count": null,
      "outputs": []
    },
    {
      "cell_type": "code",
      "source": [
        "sns.countplot(tidy_df['sentiment'])"
      ],
      "metadata": {
        "colab": {
          "base_uri": "https://localhost:8080/",
          "height": 297
        },
        "id": "eva2cOqI8WoI",
        "outputId": "08eb598b-2a07-4593-98fa-11c6a8f0d44e"
      },
      "execution_count": 72,
      "outputs": [
        {
          "output_type": "execute_result",
          "data": {
            "text/plain": [
              "<matplotlib.axes._subplots.AxesSubplot at 0x7f00f23fdcd0>"
            ]
          },
          "metadata": {},
          "execution_count": 72
        },
        {
          "output_type": "display_data",
          "data": {
            "text/plain": [
              "<Figure size 432x288 with 1 Axes>"
            ],
            "image/png": "[encoded data removed]"
          },
          "metadata": {
            "needs_background": "light"
          }
        }
      ]
    },
    {
      "cell_type": "markdown",
      "source": [
        "`-` 라벨 불균형이 매우 심하다\n",
        "\n",
        "`-` 하지만 평가 산식은 단순히 라벨을 맞췄냐 못맞췄냐로만 판단한다\n",
        "\n",
        "`-` 즉, 단순 `f1 score`이므로 적은 클래스의 카테고리는 내다 버려도 좋은 점수를 얻을 수 있다\n",
        "\n",
        "`-` 속성 기반 감성 분류인데 감성 대부분이 긍정이므로 사실상 속성 분류 테스크와 같다\n",
        "\n",
        "`-` 그런데 train과 test의 분포가 다르다면?......\n",
        "\n",
        "`-` 무작위로 샘플링했다면 둘의 분포가 비슷할 것이다"
      ],
      "metadata": {
        "id": "sOeqzs7sslzg"
      }
    },
    {
      "cell_type": "markdown",
      "source": [
        "### 개체 속성"
      ],
      "metadata": {
        "id": "TgEDPR4vAUVw"
      }
    },
    {
      "cell_type": "code",
      "source": [
        "sns.countplot(y=tidy_df['entity_property'], order=tidy_df['entity_property'].value_counts().index)  ## 중복 제거 전 그래프"
      ],
      "metadata": {
        "colab": {
          "base_uri": "https://localhost:8080/",
          "height": 297
        },
        "id": "gIw-zi-H24iw",
        "outputId": "38df61ca-f246-4c2a-be60-25cf80f4cbcc"
      },
      "execution_count": null,
      "outputs": [
        {
          "output_type": "execute_result",
          "data": {
            "text/plain": [
              "<matplotlib.axes._subplots.AxesSubplot at 0x7f64f433e690>"
            ]
          },
          "metadata": {},
          "execution_count": 17
        },
        {
          "output_type": "display_data",
          "data": {
            "text/plain": [
              "<Figure size 432x288 with 1 Axes>"
            ],
            "image/png": "[encoded data removed]"
          },
          "metadata": {
            "needs_background": "light"
          }
        }
      ]
    },
    {
      "cell_type": "markdown",
      "source": [
        "`-` 개체 속성도 불균형이 심하다\n",
        "\n",
        "`-` 하지만 단순히 맞췄냐 못맞췄냐로 판단하므로 적은 클래스는 내다 버려도 좋은 점수를 얻을 수 있다"
      ],
      "metadata": {
        "id": "ZU6YpGIsA1sP"
      }
    },
    {
      "cell_type": "markdown",
      "source": [
        "### 텍스트"
      ],
      "metadata": {
        "id": "lh9oPb8rZNef"
      }
    },
    {
      "cell_type": "code",
      "source": [
        "df['text'].str.len().describe()"
      ],
      "metadata": {
        "colab": {
          "base_uri": "https://localhost:8080/"
        },
        "id": "Hb5qwbEwaQUi",
        "outputId": "a811ca6e-1938-467e-8946-080ef249a6e3"
      },
      "execution_count": null,
      "outputs": [
        {
          "output_type": "execute_result",
          "data": {
            "text/plain": [
              "count    3001.00000\n",
              "mean       33.91103\n",
              "std        20.15056\n",
              "min         1.00000\n",
              "25%        19.00000\n",
              "50%        30.00000\n",
              "75%        44.00000\n",
              "max       161.00000\n",
              "Name: text, dtype: float64"
            ]
          },
          "metadata": {},
          "execution_count": 16
        }
      ]
    },
    {
      "cell_type": "code",
      "source": [
        "df['text'].str.len().plot.box()"
      ],
      "metadata": {
        "colab": {
          "base_uri": "https://localhost:8080/",
          "height": 283
        },
        "id": "ht4nnlSfZOaX",
        "outputId": "e41550f8-a894-4e56-f2b6-191e9e503660"
      },
      "execution_count": null,
      "outputs": [
        {
          "output_type": "execute_result",
          "data": {
            "text/plain": [
              "<matplotlib.axes._subplots.AxesSubplot at 0x7fbcd5789a10>"
            ]
          },
          "metadata": {},
          "execution_count": 17
        },
        {
          "output_type": "display_data",
          "data": {
            "text/plain": [
              "<Figure size 432x288 with 1 Axes>"
            ],
            "image/png": "[encoded data removed]"
          },
          "metadata": {
            "needs_background": "light"
          }
        }
      ]
    },
    {
      "cell_type": "code",
      "source": [
        "emoji_dict = {'👍':'좋다',\n",
        "              '👍🏻':'좋다',\n",
        "              '★':'좋다',\n",
        "              '❤':'좋다',\n",
        "              '♥️':'좋다',\n",
        "              '♥':'좋다',\n",
        "              '💕':'좋다',\n",
        "              '💖':'좋다',\n",
        "              '❣️':'좋다',\n",
        "              '💜':'좋다',\n",
        "              '💛':'좋다',\n",
        "              '♡':'좋다',\n",
        "              '😄':'좋다',\n",
        "              '😊':'좋다',\n",
        "              '😁':'좋다',\n",
        "              '😍':'좋다',\n",
        "              '🤩':'좋다',\n",
        "              '🤗':'좋다',\n",
        "              '😆':'좋다',\n",
        "              '😀':'좋다',\n",
        "              '👌':'좋다',\n",
        "              '👏':'좋다',\n",
        "              '✨':'좋다',\n",
        "              '^^':'좋다',\n",
        "              '>_<':'좋다',\n",
        "              '^-^':'좋다',\n",
        "              '+_+':'좋다',\n",
        "              ':)':'좋다',}"
      ],
      "metadata": {
        "id": "8HLM8fPwuoFA"
      },
      "execution_count": 73,
      "outputs": []
    },
    {
      "cell_type": "code",
      "source": [
        "def check_hashtag_df(texts: Sequence[str]) -> Dict[str, int]:\n",
        "    \"\"\"해시태그의 document frequency를 계산\"\"\"\n",
        "    hashtag_dict = {}\n",
        "    for text in texts:\n",
        "        text = text.lower()\n",
        "        words = text.split()\n",
        "        duplicate = {}\n",
        "        for word in words:\n",
        "            if '#' in word and word not in duplicate:\n",
        "                if word not in hashtag_dict:\n",
        "                    hashtag_dict[word] = 1\n",
        "                else:\n",
        "                    hashtag_dict[word] += 1\n",
        "                duplicate[word] = True\n",
        "\n",
        "    hashtag_dict.update({'고유한 해시태그 개수':len(hashtag_dict)})\n",
        "    hashtag_dict = sorted(hashtag_dict.items(), key=lambda item: item[1], reverse=True)\n",
        "    return hashtag_dict"
      ],
      "metadata": {
        "id": "Thv69xDVlOLU"
      },
      "execution_count": null,
      "outputs": []
    },
    {
      "cell_type": "code",
      "source": [
        "def check_emoji_df(texts: Sequence[str]) -> Dict[str, int]:\n",
        "    \"\"\"이모지의 document frequency를 계산\"\"\"\n",
        "    emoji_dict = {}\n",
        "    for text in texts:\n",
        "        text = text.lower()\n",
        "        words = text.split()\n",
        "        duplicate = {}\n",
        "        for word in words:\n",
        "            if emoji.is_emoji(word) and word not in duplicate:\n",
        "                if word not in emoji_dict:\n",
        "                    emoji_dict[word] = 1\n",
        "                else:\n",
        "                    emoji_dict[word] += 1\n",
        "                duplicate[word] = True\n",
        "\n",
        "    emoji_dict.update({'고유한 이모지 개수':len(emoji_dict)})\n",
        "    emoji_dict = sorted(emoji_dict.items(), key=lambda item: item[1], reverse=True)\n",
        "    return emoji_dict"
      ],
      "metadata": {
        "id": "KdmddzOJ_bQl"
      },
      "execution_count": null,
      "outputs": []
    },
    {
      "cell_type": "code",
      "source": [
        "def check_word_counts(word: str, texts: Sequence[str], labels: NDArray[np.str_]) -> Dict[str, int]:\n",
        "    count_dict = {}\n",
        "    for idx, text in enumerate(texts):\n",
        "        text = text.lower()\n",
        "        label = labels[idx]\n",
        "        if word in text:   \n",
        "            if label not in count_dict:\n",
        "                count_dict[label] = 1\n",
        "            else:\n",
        "                count_dict[label] += 1\n",
        "\n",
        "    all_counts = sum([np.sum(labels == key) for key in list(count_dict.keys())])\n",
        "    count_dict.update({'합계':sum(count_dict.values())})\n",
        "    count_list = list(count_dict.items())\n",
        "    count_list = list(map(list, count_list))\n",
        "\n",
        "    for item in count_list:\n",
        "        if item[0] == '합계':\n",
        "            item.append(all_counts)\n",
        "        else:\n",
        "            item.append(np.sum(labels == item[0]))\n",
        "\n",
        "    count_list = sorted(count_list, key=lambda item: (-item[1], -item[2]))\n",
        "    return count_list"
      ],
      "metadata": {
        "id": "WKEIC_rySYcK"
      },
      "execution_count": null,
      "outputs": []
    },
    {
      "cell_type": "code",
      "source": [
        "# check_hashtag_df(df['text'].values)"
      ],
      "metadata": {
        "id": "qo_WPQfqmavL"
      },
      "execution_count": null,
      "outputs": []
    },
    {
      "cell_type": "code",
      "source": [
        "# check_emoji_df(df['text'].values)"
      ],
      "metadata": {
        "id": "bpMPDZ4-6fnX"
      },
      "execution_count": null,
      "outputs": []
    },
    {
      "cell_type": "code",
      "source": [
        "check_word_counts('가성비', tidy_df['text'].values, tidy_df['entity_property'].values)"
      ],
      "metadata": {
        "colab": {
          "base_uri": "https://localhost:8080/"
        },
        "id": "SeW4sgAWm9bc",
        "outputId": "7b34d214-2748-401c-fa9e-b0e8e5648713"
      },
      "execution_count": null,
      "outputs": [
        {
          "output_type": "execute_result",
          "data": {
            "text/plain": [
              "[['합계', 22, 1558],\n",
              " ['제품 전체#가격', 13, 49],\n",
              " ['본품#일반', 3, 256],\n",
              " ['제품 전체#품질', 2, 242],\n",
              " ['제품 전체#일반', 1, 848],\n",
              " ['제품 전체#디자인', 1, 158],\n",
              " ['브랜드#가격', 1, 3],\n",
              " ['본품#가격', 1, 2]]"
            ]
          },
          "metadata": {},
          "execution_count": 141
        }
      ]
    },
    {
      "cell_type": "code",
      "source": [
        "# set(df.text.apply(lambda x: re.sub(r'[ .,?!/@$&%~％#·∼()0-9a-zA-Zㄱ-ㅣ가-힣]+', '', x)).tolist())"
      ],
      "metadata": {
        "id": "H2e-iHHR8aMY"
      },
      "execution_count": null,
      "outputs": []
    },
    {
      "cell_type": "markdown",
      "source": [
        "`-` 이모티콘은 모델이 학습하지 못하므로 이모티콘의 의미로 바꿔주었다 (성능 향상이 있을 것)"
      ],
      "metadata": {
        "id": "3Es84kSuvnIQ"
      }
    },
    {
      "cell_type": "markdown",
      "source": [
        "### 텍스트 길이와 토큰 길이"
      ],
      "metadata": {
        "id": "RHzBEFbVRYgW"
      }
    },
    {
      "cell_type": "code",
      "source": [
        "import torch\n",
        "from transformers import AutoTokenizer"
      ],
      "metadata": {
        "id": "FHdqWxeW-4ZV"
      },
      "execution_count": null,
      "outputs": []
    },
    {
      "cell_type": "code",
      "source": [
        "pattern = re.compile(f'[^ .?!@$%~％·∼\\x00-\\x7Fㄱ-ㅣ가-힣]+')\n",
        "url_pattern = re.compile(\n",
        "    r'https?:\\/\\/(www\\.)?[-a-zA-Z0-9@:%._\\+~#=]{1,256}\\.[a-zA-Z0-9()]{1,6}\\b([-a-zA-Z0-9()@:%_\\+.~#?&//=]*)')"
      ],
      "metadata": {
        "id": "-_ccSl4Xb-VJ"
      },
      "execution_count": 74,
      "outputs": []
    },
    {
      "cell_type": "code",
      "source": [
        "def minor2major(text: str, minor2major_dict: Dict[str, str]) -> str:\n",
        "    for minor, major in minor2major_dict.items():\n",
        "        text = text.replace(minor, f' {major} ')\n",
        "    return text"
      ],
      "metadata": {
        "id": "BjKzf4foOa2S"
      },
      "execution_count": 75,
      "outputs": []
    },
    {
      "cell_type": "code",
      "source": [
        "def clean_text(text: str) -> str:\n",
        "    text = text.lower()\n",
        "    text = pattern.sub(' ', text)\n",
        "    text = emoji.replace_emoji(text, replace='')  ## emoji 삭제\n",
        "    text = url_pattern.sub('', text)  ## url 삭제\n",
        "    text = re.sub(r'[`,/()#\\[\\]]+', '', text)   \n",
        "    text = re.sub(r'[ㅜㅠ]+', '눈물', text)      \n",
        "    text = re.sub(r'\\.+', '.', text)   \n",
        "    text = re.sub(r'!+', '!', text)    \n",
        "    text = re.sub(r'~+', '~', text)   \n",
        "    text = re.sub(r'\\s+', ' ', text)  ## 다중 공백 제거\n",
        "    text = text.strip()\n",
        "    text = repeat_normalize(text, num_repeats=2)\n",
        "    return text"
      ],
      "metadata": {
        "id": "OUx4eV3XPaHg"
      },
      "execution_count": 76,
      "outputs": []
    },
    {
      "cell_type": "code",
      "source": [
        "def preprocessing(text: str) -> str:\n",
        "    text = minor2major(text, emoji_dict)\n",
        "    text = clean_text(text)\n",
        "    return text"
      ],
      "metadata": {
        "id": "Iy0E9HTOUdOI"
      },
      "execution_count": 77,
      "outputs": []
    },
    {
      "cell_type": "code",
      "source": [
        "df['text'] = df['text'].apply(preprocessing)\n",
        "tidy_df['text'] = tidy_df['text'].apply(preprocessing)\n",
        "\n",
        "valid['text'] = valid['text'].apply(preprocessing)\n",
        "tidy_valid['text'] = tidy_valid['text'].apply(preprocessing)\n",
        "\n",
        "test['text'] = test['text'].apply(preprocessing)"
      ],
      "metadata": {
        "id": "Mt5vPZsNCm7U"
      },
      "execution_count": 135,
      "outputs": []
    },
    {
      "cell_type": "code",
      "source": [
        "tokenizer = AutoTokenizer.from_pretrained(MODEL_PATHS[MODEL_NAME])  "
      ],
      "metadata": {
        "id": "ZbvYYzVWUdp0",
        "colab": {
          "base_uri": "https://localhost:8080/",
          "height": 113,
          "referenced_widgets": [
            "d0b9959ce350438d9980614c7ed4d11f",
            "f1e9033def9541a9b072a94e8afa106a",
            "5c51e9a6643046569d8ccb33498b6130",
            "f3734347132d49e199e49ac2552c1e9b",
            "cb654577604242e4b8fea123b0c85a52",
            "4de0ce20aec74719bbe21a556ce4567c",
            "200ea417791c40ceba1d239606d45367",
            "cc98d26cb6964bfd9244997468b649cf",
            "764b37ebfecb47a0825bc3aca0a28680",
            "0ae1ac6d59cd438a8264326f26421bcf",
            "2c3a43620e0c46fab70b0df9ceccb7e5",
            "1d0c18076eef4a00ac7d0da93b1abbea",
            "f65a33ffb66042b7a2fbc0c8c4e208a3",
            "88f6563762504a628b4cde11d64a0dd6",
            "ac1fabf068254b718897a2d042885295",
            "2575891af19c44cd8f9e7b3e2402c2e2",
            "6afa082a4147458c86e243472f82785a",
            "17f007a217f94f94a76fb10a5b3b43a5",
            "b378c99f99de43558a4ea547e4826fd3",
            "1c4a3c049be343e0a80ede9736d79427",
            "361d87f7e3b74930b0918dc8fced4b56",
            "700819135f1f4895a1325242a7916058",
            "b7efd2cb32e747ecb18cb036ef43dc2a",
            "623289b8672e40828a6feca5b44c024c",
            "cfcc18469c2e4bc7a8fb2d2d87e1deca",
            "7c0f61e843614dc5a16aa4895a8aea0f",
            "c18eb5e03e674c92aea73fca7782f0ec",
            "482e71e8388a4f07bf5a90f0208c407d",
            "6639a80b742a41fb9064fb5d3a6b4c48",
            "36ca358c60d04c97ac55d5b51356f536",
            "f4bd67efc0e34e50a6cd4b85af985d21",
            "0b7f3464a07e4caca02ecd768e4fc235",
            "3c2c2d301b9149f6a5b559aab3288c6e"
          ]
        },
        "outputId": "63132f4f-bee2-4e0c-d549-f6d3f3ca0ffb"
      },
      "execution_count": null,
      "outputs": [
        {
          "output_type": "display_data",
          "data": {
            "text/plain": [
              "Downloading:   0%|          | 0.00/80.0 [00:00<?, ?B/s]"
            ],
            "application/vnd.jupyter.widget-view+json": {
              "version_major": 2,
              "version_minor": 0,
              "model_id": "d0b9959ce350438d9980614c7ed4d11f"
            }
          },
          "metadata": {}
        },
        {
          "output_type": "display_data",
          "data": {
            "text/plain": [
              "Downloading:   0%|          | 0.00/725 [00:00<?, ?B/s]"
            ],
            "application/vnd.jupyter.widget-view+json": {
              "version_major": 2,
              "version_minor": 0,
              "model_id": "1d0c18076eef4a00ac7d0da93b1abbea"
            }
          },
          "metadata": {}
        },
        {
          "output_type": "display_data",
          "data": {
            "text/plain": [
              "Downloading:   0%|          | 0.00/344k [00:00<?, ?B/s]"
            ],
            "application/vnd.jupyter.widget-view+json": {
              "version_major": 2,
              "version_minor": 0,
              "model_id": "b7efd2cb32e747ecb18cb036ef43dc2a"
            }
          },
          "metadata": {}
        }
      ]
    },
    {
      "cell_type": "markdown",
      "source": [
        "- 텍스트 길이"
      ],
      "metadata": {
        "id": "tW559dmLTeSl"
      }
    },
    {
      "cell_type": "code",
      "source": [
        "train_texts = df['text'].values"
      ],
      "metadata": {
        "id": "cfDJiexqQPzo"
      },
      "execution_count": null,
      "outputs": []
    },
    {
      "cell_type": "code",
      "source": [
        "texts_len = list(map(len, train_texts))"
      ],
      "metadata": {
        "id": "e814DtteEhXB"
      },
      "execution_count": null,
      "outputs": []
    },
    {
      "cell_type": "code",
      "source": [
        "plt.boxplot(texts_len)\n",
        "print('25%: ', np.quantile(texts_len, q=0.25))\n",
        "print('50%: ', np.quantile(texts_len, q=0.5))\n",
        "print('75%: ', np.quantile(texts_len, q=0.75))\n",
        "print('85%: ', np.quantile(texts_len, q=0.85))\n",
        "print('90%: ', np.quantile(texts_len, q=0.9))\n",
        "print('95%: ', np.quantile(texts_len, q=0.95))\n",
        "print('99%: ', np.quantile(texts_len, q=0.99))\n",
        "print('99.9%: ', np.quantile(texts_len, q=0.999))\n",
        "plt.title('Text Length', fontsize=15)\n",
        "plt.show()"
      ],
      "metadata": {
        "colab": {
          "base_uri": "https://localhost:8080/",
          "height": 429
        },
        "id": "Yim33Nn-MYZ-",
        "outputId": "20d63bba-23e1-4dcf-c557-baea36d1e67f"
      },
      "execution_count": null,
      "outputs": [
        {
          "output_type": "stream",
          "name": "stdout",
          "text": [
            "25%:  19.0\n",
            "50%:  30.0\n",
            "75%:  43.0\n",
            "85%:  52.0\n",
            "90%:  59.0\n",
            "95%:  71.0\n",
            "99%:  96.0\n",
            "99.9%:  135.0\n"
          ]
        },
        {
          "output_type": "display_data",
          "data": {
            "text/plain": [
              "<Figure size 432x288 with 1 Axes>"
            ],
            "image/png": "[encoded data removed]"
          },
          "metadata": {
            "needs_background": "light"
          }
        }
      ]
    },
    {
      "cell_type": "markdown",
      "source": [
        "- 토큰 길이"
      ],
      "metadata": {
        "id": "w7v4Q5Y3UcEF"
      }
    },
    {
      "cell_type": "code",
      "source": [
        "tokens_len = []\n",
        "for text in tqdm(train_texts):\n",
        "    inputs = tokenizer(\n",
        "            text, \n",
        "            return_tensors='pt',\n",
        "            truncation=True,\n",
        "            max_length=100,\n",
        "            pad_to_max_length=True,\n",
        "            add_special_tokens=True\n",
        "        )\n",
        "    inputs = torch.sum(inputs['attention_mask'])\n",
        "    tokens_len.append(inputs)"
      ],
      "metadata": {
        "colab": {
          "base_uri": "https://localhost:8080/",
          "height": 49,
          "referenced_widgets": [
            "c95000569fc247bb927f82dec6c613a1",
            "745b021c6ff04cd1971a52b4976eb248",
            "59853f6152a24a1ba46d71f5efc60b87",
            "cf3952ddc5d640c9aecb8af5ca7ee150",
            "685ef703757c4649985b07b61d3c81cd",
            "b39c655676d744d1806c38769dc52422",
            "0213dc66dfbf4a0b874024229b1d2fa2",
            "cdd7cdfc193b4f9ebd44df9e4beff470",
            "01d3da1e2c7e4e009f20e6a3e8bb4291",
            "95c0e012c2e44257858edfe155ca2aec",
            "689b530ba29d488e82e9b2ef3d0ee394"
          ]
        },
        "id": "bD_eSH3KUsM_",
        "outputId": "6737aaf2-2057-497c-d2bd-0a65f82ec177"
      },
      "execution_count": null,
      "outputs": [
        {
          "output_type": "display_data",
          "data": {
            "text/plain": [
              "  0%|          | 0/3001 [00:00<?, ?it/s]"
            ],
            "application/vnd.jupyter.widget-view+json": {
              "version_major": 2,
              "version_minor": 0,
              "model_id": "c95000569fc247bb927f82dec6c613a1"
            }
          },
          "metadata": {}
        }
      ]
    },
    {
      "cell_type": "code",
      "source": [
        "plt.boxplot(tokens_len)\n",
        "print('25%: ', np.quantile(tokens_len, q=0.25))\n",
        "print('50%: ', np.quantile(tokens_len, q=0.5))\n",
        "print('75%: ', np.quantile(tokens_len, q=0.75))\n",
        "print('85%: ', np.quantile(tokens_len, q=0.85))\n",
        "print('90%: ', np.quantile(tokens_len, q=0.9))\n",
        "print('95%: ', np.quantile(tokens_len, q=0.95))\n",
        "print('99%: ', np.quantile(tokens_len, q=0.99))\n",
        "print('99.9%: ', np.quantile(tokens_len, q=0.999))\n",
        "plt.title('Token Length', fontsize=15)\n",
        "plt.show()"
      ],
      "metadata": {
        "colab": {
          "base_uri": "https://localhost:8080/",
          "height": 429
        },
        "id": "FJDc_X4BMbmt",
        "outputId": "e390a083-891b-48f1-8617-7418d8008620"
      },
      "execution_count": null,
      "outputs": [
        {
          "output_type": "stream",
          "name": "stdout",
          "text": [
            "25%:  10.0\n",
            "50%:  13.0\n",
            "75%:  19.0\n",
            "85%:  22.0\n",
            "90%:  25.0\n",
            "95%:  29.0\n",
            "99%:  40.0\n",
            "99.9%:  53.0\n"
          ]
        },
        {
          "output_type": "display_data",
          "data": {
            "text/plain": [
              "<Figure size 432x288 with 1 Axes>"
            ],
            "image/png": "[encoded data removed]"
          },
          "metadata": {
            "needs_background": "light"
          }
        }
      ]
    },
    {
      "cell_type": "markdown",
      "source": [
        "- 산점도"
      ],
      "metadata": {
        "id": "IEhW_BBe2AcL"
      }
    },
    {
      "cell_type": "code",
      "source": [
        "plt.plot(texts_len, tokens_len, '.', alpha=0.05)"
      ],
      "metadata": {
        "colab": {
          "base_uri": "https://localhost:8080/",
          "height": 283
        },
        "id": "R9V-S7242BFS",
        "outputId": "3415b48a-8eee-45c6-e7ab-28520c0652aa"
      },
      "execution_count": null,
      "outputs": [
        {
          "output_type": "execute_result",
          "data": {
            "text/plain": [
              "[<matplotlib.lines.Line2D at 0x7fbc626a3bd0>]"
            ]
          },
          "metadata": {},
          "execution_count": 112
        },
        {
          "output_type": "display_data",
          "data": {
            "text/plain": [
              "<Figure size 432x288 with 1 Axes>"
            ],
            "image/png": "[encoded data removed]"
          },
          "metadata": {
            "needs_background": "light"
          }
        }
      ]
    },
    {
      "cell_type": "markdown",
      "source": [
        "`-` $\\text{토큰 길이} \\times 2 \\approx \\text{텍스트 길이}$"
      ],
      "metadata": {
        "id": "OTtW53cR2haD"
      }
    },
    {
      "cell_type": "markdown",
      "source": [
        "## 모델 학습 방법"
      ],
      "metadata": {
        "id": "-KgtTAmF710T"
      }
    },
    {
      "cell_type": "markdown",
      "source": [
        "`-` muti class와 muti label의 차이: https://medium.com/analytics-vidhya/multi-label-classification-a9643d221954\n",
        "\n",
        "`-` 두개의 task를 한 번에 진행할 필요는 없다 (난이도도 다르니 모델 학습 속도도 다름)\n",
        "\n",
        "`-` 개체 속성 분류: muti label classification with single class\n",
        "\n",
        "`-` 감성 분류: muti class classification\n",
        "\n",
        "`-` 개체 속성 분류 train, validate ---> 감성 분류 train, validate ---> ABSA validate\n",
        "\n",
        "`-` 개체 속성은 존재하면 1, 아니면 0으로 라벨링 ---> BCEWithlogitsloss ---> 1인 개체 속성에 대해서만 각각 감성분류\n",
        "\n",
        "`-` 감성 분류에서는 text_pair 인자에 개체 속성을 넘겨줌 ---> CrossEntropy"
      ],
      "metadata": {
        "id": "R30nCuqz73wy"
      }
    },
    {
      "cell_type": "markdown",
      "source": [
        "`-` 개체 속성별로 긍정 데이터 개수의 균형이 맞지 않는다  \n",
        "\n",
        "`-` 예컨대 `본품#인지도`는 3001개의 텍스트 중에서 오직 1번만 나타난다 (긍정 데이터의 개수가 1이다)\n",
        "\n",
        "`-` 반면에 `본품#품질`의 경우 긍정 데이터가 1196개의 텍스트에 존재한다\n",
        "\n",
        "`-` 즉, 3001개의 텍스트를 학습시키는데 `본품#인지도`는 부정(0)인 경우만 과하게 학습하고 `본품#품질`는 다른 개체 속성에 비해 긍정인 경우를 과하게 학습한다\n",
        "\n",
        "`-` 클래스별로 가중치를 주어 클래스별로 균형있게 학습되도록 하자\n",
        "\n",
        "`-` 또한 클래스 각각의 라벨별로 가중치를 주어 클래스별로 긍정, 부정 데이터가 균형있게 학습되도록 하자 \n",
        "\n",
        "`-` 미니배치 단위로 학습하므로 `pos_weight` 만으로는 클래스와 라벨별로 균형있게 학습할 수 없다\n",
        "\n",
        "`-` `본품#인지도`의 경우 1개의 긍정 라벨의 매우 큰 가중치를 주더라도 하나의 미니배치에서만 영향력을 행사하고 그 뒤로는 나머지 클래스에 의해 학습 방향이 조절된다\n",
        "\n",
        "`-` 긍정 라벨의 개수가 30보다 작은 개체 속성에 경우 데이터가 너무 적다고 판단해 `pos_weight`를 1로 부여했다\n",
        "\n",
        "`-` 적은 확신을 가지고 예측하는 것은 f1 score에 악영향을 끼친다\n",
        "\n",
        "`-` 예측을 하지 않으면 FN만 1이 증가되지만 예측을 했다가 틀리면 FN, FP 둘다 1씩 증가하기 때문\n",
        "\n",
        "`-` 따라서, 라벨 스무딩값을 작게 줘야 한다 (pos_weight도 마찬가지)"
      ],
      "metadata": {
        "id": "qXD2Hx-SjWjy"
      }
    },
    {
      "cell_type": "markdown",
      "metadata": {
        "id": "8R8eEwVqa-Yw"
      },
      "source": [
        "## 모델 학습 준비"
      ]
    },
    {
      "cell_type": "code",
      "execution_count": 23,
      "metadata": {
        "id": "n8LBsMPybBJx"
      },
      "outputs": [],
      "source": [
        "import torch\n",
        "import torch.nn as nn\n",
        "import torch.optim as optim\n",
        "import torch.nn.functional as F\n",
        "from torch import Tensor\n",
        "from torch.utils.data import Dataset, DataLoader\n",
        "from torch.optim.lr_scheduler import _LRScheduler\n",
        "from torch.nn.modules.loss import _Loss\n",
        "from torch.optim import Optimizer\n",
        "\n",
        "from transformers import AdamW\n",
        "from transformers.optimization import get_linear_schedule_with_warmup\n",
        "from transformers import AutoTokenizer, AutoModelForSequenceClassification"
      ]
    },
    {
      "cell_type": "code",
      "execution_count": 24,
      "metadata": {
        "colab": {
          "base_uri": "https://localhost:8080/"
        },
        "id": "VHaG21kBKVPp",
        "outputId": "c927f4be-5403-4976-f3ab-c35b4f1449dd"
      },
      "outputs": [
        {
          "output_type": "stream",
          "name": "stdout",
          "text": [
            "현재 device는 cuda입니다\n"
          ]
        }
      ],
      "source": [
        "DEVICE = torch.device('cuda' if torch.cuda.is_available() else 'cpu')\n",
        "print(f'현재 device는 {DEVICE}입니다')"
      ]
    },
    {
      "cell_type": "code",
      "execution_count": 25,
      "metadata": {
        "id": "Bs1K4etzcwE-"
      },
      "outputs": [],
      "source": [
        "def seed_everything(seed: int) -> None:\n",
        "    random.seed(seed)\n",
        "    os.environ['PYTHONHASHSEED'] = str(seed)\n",
        "    np.random.seed(seed)\n",
        "    torch.manual_seed(seed)\n",
        "    torch.cuda.manual_seed(seed)\n",
        "    torch.backends.cudnn.deterministic = True\n",
        "    torch.backends.cudnn.benchmark = True"
      ]
    },
    {
      "cell_type": "code",
      "execution_count": 26,
      "metadata": {
        "id": "Ts-GMlTEn_YX"
      },
      "outputs": [],
      "source": [
        "def clear_gpu() -> None:\n",
        "    gc.collect()\n",
        "    torch.cuda.empty_cache()"
      ]
    },
    {
      "cell_type": "markdown",
      "source": [
        "- 전처리"
      ],
      "metadata": {
        "id": "7_UxbAtlje5C"
      }
    },
    {
      "cell_type": "code",
      "source": [
        "only_valid_entity_columns = list(set(tidy_valid['entity_property'].unique()) - set(tidy_df['entity_property'].unique()))\n",
        "only_valid_entity_ids = tidy_valid.query('entity_property == @only_valid_entity_columns')['id'].to_numpy().tolist()"
      ],
      "metadata": {
        "id": "uTLfzepyf829"
      },
      "execution_count": 136,
      "outputs": []
    },
    {
      "cell_type": "code",
      "source": [
        "valid = valid.query('id not in @only_valid_entity_ids').reset_index().drop('index', axis=1)\n",
        "tidy_valid = tidy_valid.query('id not in @only_valid_entity_ids').reset_index().drop('index', axis=1)"
      ],
      "metadata": {
        "id": "1eK9GCSGgrAt"
      },
      "execution_count": 137,
      "outputs": []
    },
    {
      "cell_type": "markdown",
      "source": [
        "- 라벨 인코딩"
      ],
      "metadata": {
        "id": "kJ5dIzUNu-PV"
      }
    },
    {
      "cell_type": "code",
      "source": [
        "ACD_ENCODER = MultiLabelBinarizer()\n",
        "ACD_ENCODER.fit(df['entity_property'])\n",
        "\n",
        "ASC_ENCODER = LabelEncoder()\n",
        "ASC_ENCODER.fit(tidy_df['sentiment'])"
      ],
      "metadata": {
        "id": "w_U-RcKqPDhS",
        "colab": {
          "base_uri": "https://localhost:8080/"
        },
        "outputId": "b4e0d4d5-df7f-4c3f-99e8-2df920a95da3"
      },
      "execution_count": 138,
      "outputs": [
        {
          "output_type": "execute_result",
          "data": {
            "text/plain": [
              "LabelEncoder()"
            ]
          },
          "metadata": {},
          "execution_count": 138
        }
      ]
    },
    {
      "cell_type": "markdown",
      "metadata": {
        "id": "VqF9HjyEEelg"
      },
      "source": [
        "- 데이터 셋과 데이터 로더"
      ]
    },
    {
      "cell_type": "code",
      "source": [
        "class ACDDataset(Dataset):\n",
        "    \"\"\"\n",
        "    개체 속성 분류\n",
        "    dataframe을 df의 인자로 받는다\n",
        "    \"\"\"\n",
        "\n",
        "    def __init__(\n",
        "        self, \n",
        "        df: pd.DataFrame,\n",
        "        tokenizer: AutoTokenizer,\n",
        "        max_len: int = 128\n",
        "    ) -> None:\n",
        "        self.df = df\n",
        "        self.tokenizer = tokenizer\n",
        "        self.max_len = max_len\n",
        "    \n",
        "    def __getitem__(self, idx: int) -> Dict[str, List[Tensor]]:\n",
        "        text = self.df.text[idx]\n",
        "        inputs = self.tokenizer(\n",
        "            text, \n",
        "            return_tensors='pt',\n",
        "            truncation=True,\n",
        "            max_length=self.max_len,\n",
        "            pad_to_max_length=True,\n",
        "            add_special_tokens=True\n",
        "        )\n",
        "                \n",
        "        input_ids = inputs['input_ids'][0]\n",
        "        attention_mask = inputs['attention_mask'][0]\n",
        "        entity_property = self.df.entity_property[idx]\n",
        "\n",
        "        if entity_property:  ## test는 라벨(개체 속성)이 없다\n",
        "            if isinstance(entity_property, list):   ## untidy dataframe (for ACD)\n",
        "                label = entity_property \n",
        "            elif isinstance(entity_property, str):  ## tidy dataframe (for ASC)\n",
        "                label = [entity_property]\n",
        "            label = torch.FloatTensor(ACD_ENCODER.transform([label]))[0]\n",
        "            return {'ACD':[input_ids, attention_mask, label]}\n",
        "        return {'ACD':[input_ids, attention_mask]}   \n",
        "\n",
        "    def __len__(self) -> int:\n",
        "        return self.df.shape[0]"
      ],
      "metadata": {
        "id": "6cBvBVca7yeC"
      },
      "execution_count": 83,
      "outputs": []
    },
    {
      "cell_type": "code",
      "source": [
        "class ABSADataset(Dataset):\n",
        "    \"\"\"\n",
        "    감성 분류하면서 ABSA에 대한 평가도 진행\n",
        "    tidy dataframe을 df의 인자로 받는다\n",
        "    \"\"\"\n",
        "\n",
        "    def __init__(\n",
        "        self, \n",
        "        df: pd.DataFrame,\n",
        "        tokenizer: AutoTokenizer,\n",
        "        max_len: int = 128\n",
        "    ) -> None:\n",
        "        self.df = df\n",
        "        self.tokenizer = tokenizer\n",
        "        self.max_len = max_len\n",
        "    \n",
        "    def __getitem__(self, idx: int) -> Dict[str, List[Tensor]]:\n",
        "        text = self.df.text[idx]\n",
        "        text_pair = ' '.join(self.df.entity_property[idx].split('#')).replace('/', ' ')\n",
        "        acd_dataset = ACDDataset(self.df.iloc[[idx], :], self.tokenizer, self.max_len)[idx].get('ACD')\n",
        "        inputs = self.tokenizer(\n",
        "            text, \n",
        "            text_pair,\n",
        "            return_tensors='pt',\n",
        "            truncation=True,\n",
        "            max_length=self.max_len,\n",
        "            pad_to_max_length=True,\n",
        "            add_special_tokens=True\n",
        "        )\n",
        "                \n",
        "        input_ids = inputs['input_ids'][0]\n",
        "        attention_mask = inputs['attention_mask'][0]\n",
        "        token_type_ids = inputs['token_type_ids'][0]\n",
        "        sentiment = self.df.sentiment[idx]\n",
        "\n",
        "        if sentiment:\n",
        "            label = torch.LongTensor(ASC_ENCODER.transform([sentiment]))[0]\n",
        "            return {'ACD':acd_dataset, \n",
        "                    'ASC':[input_ids, attention_mask, token_type_ids, label]}\n",
        "\n",
        "        return {'ACD':acd_dataset, \n",
        "                'ASC':[input_ids, attention_mask, token_type_ids]}\n",
        "\n",
        "    def __len__(self) -> int:\n",
        "        return self.df.shape[0]"
      ],
      "metadata": {
        "id": "qrr0GvDNjB_6"
      },
      "execution_count": 84,
      "outputs": []
    },
    {
      "cell_type": "markdown",
      "metadata": {
        "id": "OdJ4NrlutzeQ"
      },
      "source": [
        "- 손실 함수"
      ]
    },
    {
      "cell_type": "code",
      "source": [
        "class LabelSmoothingBCEWithLogitsLoss(nn.BCEWithLogitsLoss):\n",
        "    def __init__(self,\n",
        "                 weight: Optional[Tensor] = None, \n",
        "                 size_average: Optional[bool] = None, \n",
        "                 reduce: Optional[bool] = None, \n",
        "                 reduction: str = 'mean',\n",
        "                 pos_weight: Optional[Tensor] = None,\n",
        "                 label_smoothing: float = 0.0\n",
        "    ) -> None:\n",
        "        if label_smoothing < 0.0 or label_smoothing > 1.0:\n",
        "           raise ValueError('label_smoothing must be between 0.0 and 1.0. Got: ', label_smoothing)\n",
        "\n",
        "        super(LabelSmoothingBCEWithLogitsLoss, self).__init__(weight, size_average, reduce, reduction, pos_weight)\n",
        "        self.label_smoothing = label_smoothing\n",
        "\n",
        "    def forward(self, input: Tensor, target: Tensor) -> Tensor:\n",
        "        smooth_target = target * (1.0 - self.label_smoothing) + 0.5*self.label_smoothing  ## single-class   \n",
        "        return F.binary_cross_entropy_with_logits(input, smooth_target,\n",
        "                                                  self.weight,\n",
        "                                                  pos_weight=self.pos_weight,\n",
        "                                                  reduction=self.reduction)"
      ],
      "metadata": {
        "id": "zVbG3KTMTSEa"
      },
      "execution_count": 32,
      "outputs": []
    },
    {
      "cell_type": "code",
      "source": [
        "class FocalLoss(_Loss):\n",
        "    def __init__(\n",
        "        self,\n",
        "        gamma: float = 2.0,\n",
        "        alpha: Optional[Tensor] = None, \n",
        "        label_smoothing: float = 0.0,\n",
        "        reduction: str = 'mean'\n",
        "    ) -> None:\n",
        "        super(FocalLoss, self).__init__()\n",
        "        self.gamma = gamma\n",
        "        self.alpha = alpha\n",
        "        self.reduction = reduction\n",
        "        self.label_smoothing = label_smoothing\n",
        "\n",
        "    def forward(self, input: Tensor, target: Tensor) -> Tensor:\n",
        "        ce_loss = F.cross_entropy(input, target, \n",
        "                                  self.alpha,\n",
        "                                  label_smoothing=self.label_smoothing,\n",
        "                                  reduction='none')\n",
        "        p_t = torch.exp(-ce_loss)  \n",
        "        loss = ce_loss * (1 - p_t)**self.gamma\n",
        "\n",
        "        if self.reduction == 'mean':\n",
        "            loss = loss.mean()\n",
        "        elif self.reduction == 'sum':\n",
        "            loss = loss.sum()\n",
        "        return loss"
      ],
      "metadata": {
        "id": "mC5wYhHt0X6_"
      },
      "execution_count": 33,
      "outputs": []
    },
    {
      "cell_type": "code",
      "source": [
        "## ACD\n",
        "acd_dict = tidy_df['entity_property'].value_counts().to_dict()\n",
        "acd_pos_weight = torch.FloatTensor([[(df.shape[0] - acd_dict[cls]) / acd_dict[cls] if acd_dict[cls] > 30 else 1.0 \n",
        "                                     for cls in ACD_ENCODER.classes_]])  \n",
        "acd_pos_weight = np.clip(acd_pos_weight, a_min=1.0, a_max=2.0)  ## 1보다 크면 recall이 올라가고 1보다 작으면 precision이 올라간다 (trade off)\n",
        "acd_pos_weight = acd_pos_weight.to(DEVICE)\n",
        "\n",
        "acd_loss_fn = LabelSmoothingBCEWithLogitsLoss(weight=None, pos_weight=acd_pos_weight, label_smoothing=LABEL_SMOOTHING)\n",
        "\n",
        "\n",
        "## ASC\n",
        "asc_dict = tidy_df['sentiment'].value_counts().to_dict()\n",
        "asc_weight = torch.FloatTensor([1 - (asc_dict[cls] / sum(asc_dict.values())) for cls in ASC_ENCODER.classes_])\n",
        "asc_weight = np.clip(asc_weight, a_min=0.25, a_max=1.0)\n",
        "asc_weight = asc_weight.to(DEVICE)\n",
        "\n",
        "# asc_loss_fn = nn.CrossEntropyLoss(weight=None, label_smoothing=LABEL_SMOOTHING)\n",
        "asc_loss_fn = FocalLoss(gamma=1.0, alpha=asc_weight, label_smoothing=LABEL_SMOOTHING)\n",
        "\n",
        "## Loss\n",
        "loss_fn = {'ACD':acd_loss_fn, 'ASC':asc_loss_fn}"
      ],
      "metadata": {
        "id": "nMzLVX0mQZAk"
      },
      "execution_count": 85,
      "outputs": []
    },
    {
      "cell_type": "markdown",
      "source": [
        "- early stopping"
      ],
      "metadata": {
        "id": "MBco8kR31jKg"
      }
    },
    {
      "cell_type": "code",
      "source": [
        "## Copyright (c) 2018 Bjarte Mehus Sunde\n",
        "## ref: https://github.com/Bjarten/early-stopping-pytorch/blob/master/pytorchtools.py\n",
        "class EarlyStopping:\n",
        "    \"\"\"주어진 patience 횟수 이후로 validation score가 개선되지 않으면 학습을 조기 중단\"\"\"\n",
        "    mode_dict = {'min':-1, 'max':1}\n",
        "    score_metrics = [\n",
        "        'accuracy',\n",
        "        'f1_score',\n",
        "    ]\n",
        "\n",
        "    def __init__(\n",
        "        self, \n",
        "        patience: int = 7, \n",
        "        monitor: str = 'loss', \n",
        "        mode: str = 'min', \n",
        "        min_delta: float = 0.0, \n",
        "        path: str = './weight', \n",
        "        model_name: str = '', \n",
        "        current_fold: int = 1\n",
        "    ) -> None:\n",
        "        \"\"\"\n",
        "        Args:\n",
        "            patience (int): score가 개선될 때까지 기다리는 에폭\n",
        "                            Default: 7\n",
        "                          \n",
        "            monitor (str): 값의 변화를 모니터링할 수치(score)\n",
        "                            Default: 'loss'\n",
        "\n",
        "            mode (str): score를 개선시킬 방식\n",
        "                            Default: 'min'\n",
        "\n",
        "            min_delta (float): 개선되었다고 인정되는 score의 최소 변화\n",
        "                            Default: 0.0\n",
        "\n",
        "            path (str): checkpoint 공통 저장 경로\n",
        "                            Default: './weight'\n",
        "\n",
        "            model_name (str): 학습시킬 모델의 이름\n",
        "                            Default: ''\n",
        "\n",
        "            current_fold (int): 현재 학습을 진행하는 fold의 순서\n",
        "                            Default: 1\n",
        "        \"\"\"\n",
        "        self.patience = patience\n",
        "        self.counter = 0\n",
        "        self.mode = mode\n",
        "        self.direction = self.mode_dict[mode]\n",
        "        self.monitor = monitor\n",
        "        self.best_score = -np.Inf\n",
        "        self.valid_loss = np.Inf\n",
        "        self.valid_metric_score = None  ## 평가지표 (i.g. accuracy)\n",
        "        self.early_stop = False\n",
        "        self.min_delta = min_delta\n",
        "        self.path = path\n",
        "        self.model_name = model_name\n",
        "        self.current_fold = current_fold\n",
        "\n",
        "    def __call__(\n",
        "        self, \n",
        "        model: nn.Module, \n",
        "        valid_loss: float, \n",
        "        valid_metric_score: Optional[float] = None\n",
        "    ) -> None:\n",
        "        ## score는 클수록 좋다\n",
        "        if self.monitor == 'loss':\n",
        "            score = valid_loss * self.direction\n",
        "        elif self.monitor in self.score_metrics:\n",
        "            score = valid_metric_score * self.direction\n",
        "        else:\n",
        "            score = None\n",
        "\n",
        "        ## score가 개선되었는지 확인\n",
        "        if score <= self.best_score + self.min_delta: \n",
        "            self.counter += 1 \n",
        "            if self.counter > self.patience:  ## 만약 score가 개선되지 않은 에폭이 patience 횟수보다 크다면 조기 중단\n",
        "                self.early_stop = True\n",
        "        else: \n",
        "            self.best_score = score \n",
        "            self.save_checkpoint(model, valid_loss, valid_metric_score) \n",
        "            self.counter = 0  ## score가 개선되었으므로 0으로 변경\n",
        "\n",
        "    def save_checkpoint(\n",
        "        self, \n",
        "        model: nn.Module, \n",
        "        valid_loss: float, \n",
        "        valid_metric_score: Optional[float] = None\n",
        "    ) -> None:\n",
        "        \"\"\"validation score가 개선되면 모델을 저장\"\"\"\n",
        "        torch.save(model.state_dict(), self.get_current_fold_path()) \n",
        "        self.valid_loss = valid_loss  ## 모델이 더 좋게 갱신되었으므로 이때의 valid loss를 기준치로 변경\n",
        "        self.valid_metric_score = valid_metric_score  ## 이때의 valid metric score도 변경해준다\n",
        "\n",
        "    def set_fold(self, current_fold: int) -> None:\n",
        "        self.current_fold = current_fold\n",
        "\n",
        "    def reset_score(self) -> None:\n",
        "        \"\"\"다음 fold 학습을 위해 score 관련 파라미터를 초기화\"\"\"\n",
        "        self.counter = 0\n",
        "        self.best_score = -np.Inf\n",
        "        self.valid_loss = np.Inf\n",
        "        self.valid_metric_score = None\n",
        "        self.early_stop = False\n",
        "\n",
        "    def check_early_stop(self) -> bool:\n",
        "        return self.early_stop\n",
        "\n",
        "    def get_current_fold_path(self) -> str:\n",
        "        return self.path + f'/{self.model_name}_best_{self.current_fold}.pt'\n",
        "\n",
        "    def set_path(self, path) -> None:\n",
        "        self.path = path"
      ],
      "metadata": {
        "id": "T355NBZ21kcw"
      },
      "execution_count": 35,
      "outputs": []
    },
    {
      "cell_type": "code",
      "source": [
        "early_stopping = EarlyStopping(patience=15,\n",
        "                               monitor='f1_score',\n",
        "                               mode='max',\n",
        "                               path=SAVE_PATHS['ACD'],\n",
        "                               model_name=MODEL_NAME,\n",
        "                               current_fold=1)  ## patience 횟수 에폭 후에도 검증 손실이 작아지지 않으면 조기 중단"
      ],
      "metadata": {
        "id": "_LyT_r461k3J"
      },
      "execution_count": 86,
      "outputs": []
    },
    {
      "cell_type": "markdown",
      "metadata": {
        "id": "3lq9uwAwJbZI"
      },
      "source": [
        "## 모델 학습 및 검증"
      ]
    },
    {
      "cell_type": "markdown",
      "source": [
        "- 텍스트"
      ],
      "metadata": {
        "id": "6ykSMVKnqeo7"
      }
    },
    {
      "cell_type": "code",
      "source": [
        "def under_half_max_to_1(arr, threshold=0.5):\n",
        "    if np.max(arr) < threshold:\n",
        "        arr[np.argmax(arr)] = 1.0\n",
        "    return arr"
      ],
      "metadata": {
        "id": "UgPbd-wqzMjH"
      },
      "execution_count": 37,
      "outputs": []
    },
    {
      "cell_type": "code",
      "source": [
        "def train(\n",
        "        model: nn.Module,\n",
        "        dataloader: DataLoader, \n",
        "        task_type: str,\n",
        "        device: torch.device,\n",
        "        loss_fn: _Loss, \n",
        "        optimizer: Optimizer, \n",
        "        scheduler: Optional[_LRScheduler] = None\n",
        "    ) -> Tuple[nn.Module, float]:\n",
        "    \"\"\"dataloader의 데이터로 모델을 학습시킨 후 학습된 모델과 평균 배치 훈련 오차를 반환\"\"\"  \n",
        "    train_loss = 0.0  ## mini-batch 평균 훈련 오차 \n",
        "    model = model.to(device)\n",
        "    model.train()\n",
        "    scaler = torch.cuda.amp.GradScaler()\n",
        "\n",
        "    for batch in dataloader:  ## 미니 배치 단위로 꺼내온다\n",
        "        *args, y = [*(map(lambda tensor: tensor.to(device), batch[task_type]))]\n",
        "        with torch.cuda.amp.autocast():\n",
        "            y_hat = model(*args)[0]\n",
        "            loss = loss_fn(y_hat, y)  \n",
        "\n",
        "        scaler.scale(loss).backward()\n",
        "        scaler.step(optimizer)\n",
        "        scaler.update()\n",
        "        optimizer.zero_grad()  ## 그래디언트 초기화\n",
        "        train_loss += (loss.item() / len(dataloader)) \n",
        "  \n",
        "        ## 배치마다 학습률 조절\n",
        "        if scheduler is not None:\n",
        "            scheduler.step()\n",
        "        \n",
        "    return model, train_loss"
      ],
      "metadata": {
        "id": "GxZoGYxft9iu"
      },
      "execution_count": 38,
      "outputs": []
    },
    {
      "cell_type": "code",
      "source": [
        "def acd_evaluate(\n",
        "        model: nn.Module, \n",
        "        dataloader: DataLoader, \n",
        "        loss_fn: _Loss,\n",
        "        device: torch.device\n",
        "    ) -> Tuple[float, float]:\n",
        "    \"\"\"dataloader의 데이터를 모델이 평가한 후 평균 배치 검증 오차와 ACD f1 score를 반환\"\"\"\n",
        "    valid_loss = 0.0\n",
        "    y_array, yhat_array = np.array([]), np.array([])\n",
        "    model = model.to(device)\n",
        "    model.eval()  \n",
        "\n",
        "    with torch.no_grad():  ## 역전파를 계산할 필요가 없으니까\n",
        "        for batch in dataloader:  ## 미니 배치 단위로 꺼내온다\n",
        "            *args, y = [*(map(lambda tensor: tensor.to(device), batch['ACD']))]\n",
        "            y_hat = model(*args)[0]\n",
        "            loss = loss_fn(y_hat, y) \n",
        "            \n",
        "            y_hat = F.sigmoid(y_hat).detach().cpu().numpy()\n",
        "            y_hat = np.apply_along_axis(under_half_max_to_1, 1, y_hat)  ## 텍스트에는 적어도 한 개의 개체 속성이 포함되어야 한다 (모든 train text는 한 개 이상의 개체 속성을 포함)\n",
        "            y_hat = np.where(y_hat >= 0.5, 1, 0) \n",
        "\n",
        "            y_array = np.concatenate([y_array, y.detach().cpu().numpy().reshape(-1)], axis=0)\n",
        "            yhat_array = np.concatenate([yhat_array, y_hat.reshape(-1)], axis=0)\n",
        "            valid_loss += (loss.item() / len(dataloader))\n",
        "            \n",
        "    valid_precision = precision_score(y_array, yhat_array)\n",
        "    valid_recall = recall_score(y_array, yhat_array)\n",
        "    valid_f1 = f1_score(y_array, yhat_array)\n",
        "    return valid_loss, valid_precision, valid_recall, valid_f1"
      ],
      "metadata": {
        "id": "IDntd-Gat9-d"
      },
      "execution_count": 39,
      "outputs": []
    },
    {
      "cell_type": "code",
      "source": [
        "def absa_evaluate(\n",
        "        acd_model: nn.Module,\n",
        "        asc_model: nn.Module,  \n",
        "        dataloader: DataLoader,\n",
        "        acd_model_weight_path: str,\n",
        "        loss_fn: _Loss,\n",
        "        device: torch.device\n",
        "    ) -> Tuple[float, float, float]:\n",
        "    \"\"\"dataloader의 데이터를 모델이 평가한 후 평균 배치 검증 오차와 (ACD, ABSA) f1 score를 반환\"\"\"\n",
        "    valid_loss = 0.0\n",
        "    asc_y_array, asc_yhat_array = np.array([]), np.array([])\n",
        "    absa_y_array, absa_yhat_array = np.array([]), np.array([])\n",
        "    acd_model.load_state_dict(torch.load(acd_model_weight_path , map_location=device))\n",
        "    acd_model, asc_model = acd_model.to(device), asc_model.to(device)\n",
        "    acd_model.eval()\n",
        "    asc_model.eval() \n",
        "\n",
        "    with torch.no_grad():  ## 역전파를 계산할 필요가 없다\n",
        "        for batch in dataloader:  ## 미니 배치 단위로 꺼내온다\n",
        "            *acd_args, acd_y = [*(map(lambda tensor: tensor.to(device), batch['ACD']))]\n",
        "            *asc_args, asc_y = [*(map(lambda tensor: tensor.to(device), batch['ASC']))]\n",
        "            acd_y = acd_y.detach().cpu().numpy()  ## shape: (B, C)\n",
        "            \n",
        "            acd_yhat = F.sigmoid(acd_model(*acd_args)[0]).detach().cpu().numpy()\n",
        "            acd_yhat = np.apply_along_axis(under_half_max_to_1, 1, acd_yhat)   ## 텍스트에는 적어도 한 개의 개체 속성이 포함되어야 한다\n",
        "            acd_yhat = np.where(acd_yhat >= 0.5, 1, 0)  ## shape: (B, C)\n",
        "            asc_yhat = asc_model(*asc_args)[0]\n",
        "            loss = loss_fn(asc_yhat, asc_y)  \n",
        "            asc_yhat = asc_yhat.argmax(-1).detach().cpu().numpy()\n",
        "\n",
        "            ## 개체 속성이 틀리다면 감성은 굳이 확인하지 않아도 된다\n",
        "            ## 개체 속성이 맞지만 감성이 틀렸다면 FP, FN 둘 다 1씩 증가시켜야 한다\n",
        "            ## true: [1(긍정), 0, 0, 0], pred: [1(긍정 X), 0, 0, 0] \n",
        "            ## 위와 같은 상황일 때 true: [1, 0, 0, 0], pred: [0, 0, 0, 0]와 같이 라벨링 하면 FN는 1이 증가하지만 FP는 증가하지 않음 \n",
        "            ## true(긍정, 긍정X): [[1, 0, 0, 0], [0, 0, 0, 0]] , pred(긍정, 긍정X): [[0, 0, 0, 0], [1, 0, 0, 0]], 따라서 이와 같이 라벨링 \n",
        "            ## 근데 위와 같이 차원의 낭비이고 단지 FP, FN만 1씩 증가시키면 된다\n",
        "            ## true: [1, 0, 0, 0] + [0] , pred: [0, 0, 0, 0] + [1], 따라서 이와 같이 라벨링\n",
        "            ## 근데 이렇게하면 차원이 안맞아서 차원을 하나 더 만들었다\n",
        "            for idx in range(len(acd_y)):\n",
        "                one_idx = np.where(acd_y[idx] == 1)  \n",
        "                if acd_yhat[idx][one_idx][0] == 1:   ## 개체 속성을 맞춘 경우\n",
        "                    if asc_y[idx] != asc_yhat[idx]:  ## 감성을 틀린 경우\n",
        "                        tmp_y = np.zeros_like(acd_y[idx])\n",
        "                        tmp_yhat = np.zeros_like(acd_yhat[idx])\n",
        "                        acd_yhat[idx][one_idx] = 0   ## FN\n",
        "                        tmp_yhat[one_idx] = 1        ## FP\n",
        "                        acd_y = np.concatenate([acd_y, tmp_y.reshape(1, -1)], axis=0)\n",
        "                        acd_yhat = np.concatenate([acd_yhat, tmp_yhat.reshape(1, -1)], axis=0)\n",
        "\n",
        "            asc_y_array = np.concatenate([asc_y_array, asc_y.detach().cpu().numpy()], axis=0)\n",
        "            asc_yhat_array = np.concatenate([asc_yhat_array, asc_yhat], axis=0)\n",
        "            absa_y_array = np.concatenate([absa_y_array, acd_y.reshape(-1)], axis=0)\n",
        "            absa_yhat_array = np.concatenate([absa_yhat_array, acd_yhat.reshape(-1)], axis=0)\n",
        "            valid_loss += (loss.item() / len(dataloader))\n",
        "\n",
        "    asc_valid_f1 = f1_score(asc_y_array, asc_yhat_array, average='macro')  ## 감성(긍정, 부정, 중립)\n",
        "    absa_valid_f1 = f1_score(absa_y_array, absa_yhat_array)\n",
        "    return valid_loss, asc_valid_f1, absa_valid_f1"
      ],
      "metadata": {
        "id": "8g4bQ3OgLMQJ"
      },
      "execution_count": 40,
      "outputs": []
    },
    {
      "cell_type": "code",
      "source": [
        "def deep_ensemble(\n",
        "        models: Dict[str, nn.Module], \n",
        "        acd_train_df: pd.DataFrame,\n",
        "        acd_valid_df: pd.DataFrame,\n",
        "        absa_train_df: pd.DataFrame,\n",
        "        absa_valid_df: pd.DataFrame,\n",
        "        tokenizer: AutoTokenizer,\n",
        "        loss_fn: Dict[str, _Loss], \n",
        "        early_stopping: EarlyStopping,\n",
        "        seeds: List[int],\n",
        "        device: torch.device\n",
        "    ) -> Tuple[Dict[str, nn.Module], List[List[float]], List[List[float]], List[List[float]], List[List[float]]]:\n",
        "    \"\"\"\n",
        "    K겹 교차검증을 통해 모델의 성능을 평가하고 학습된 모델과 폴드별 훈련 손실, 폴드별 검증 손실을 반환\n",
        "    개체 속성 분류에 대해서만 학습과 검증 후 감성 분류에 대해서 학습과 검증 그리고 ABSA 평가를 진행\n",
        "     \"\"\"\n",
        "    num_folds = len(seeds)   \n",
        "    acd_fold_train_losses_per_epoch = [[] for _ in range(num_folds)]  ## ACD: 폴드별 1 에폭에 따른 훈련 배치 손실\n",
        "    acd_fold_valid_losses_per_epoch = [[] for _ in range(num_folds)]  ## ACD: 폴드별 1 에폭에 따른 검증 배치 손실\n",
        "    asc_fold_train_losses_per_epoch = [[] for _ in range(num_folds)]  ## ASC\n",
        "    asc_fold_valid_losses_per_epoch = [[] for _ in range(num_folds)]  ## ASC\n",
        "\n",
        "    for fold, seed in enumerate(seeds):\n",
        "        seed_everything(seed)  ## 정확한 재현을 위함\n",
        "        print(f'[{fold + 1} / {num_folds}] Fold Training......')\n",
        "\n",
        "        if fold != 1:\n",
        "            continue\n",
        "\n",
        "        ## 메모리 절약\n",
        "        clear_gpu()\n",
        "\n",
        "        ## Dataloader\n",
        "        train_dataloader = {'ACD':DataLoader(ACDDataset(acd_train_df, tokenizer, MAX_LEN), batch_size=BATCH_SIZE, shuffle=True),\n",
        "                            'ASC':DataLoader(ABSADataset(absa_train_df, tokenizer, MAX_LEN), batch_size=BATCH_SIZE, shuffle=True)}\n",
        "\n",
        "        valid_dataloader = {'ACD':DataLoader(ACDDataset(acd_valid_df, tokenizer, MAX_LEN), batch_size=BATCH_SIZE),\n",
        "                            'ASC':DataLoader(ABSADataset(absa_valid_df, tokenizer, MAX_LEN), batch_size=BATCH_SIZE)}        \n",
        "\n",
        "        ## ACD, ASC 모델의 기본 가중치 불러오기\n",
        "        acd_model, asc_model = models['ACD'], models['ASC']\n",
        "        acd_model.load_state_dict(torch.load(MODEL_DEFAULT_WEIGHT_PATHS['ACD'], map_location=device))\n",
        "        asc_model.load_state_dict(torch.load(MODEL_DEFAULT_WEIGHT_PATHS['ASC'], map_location=device))\n",
        "\n",
        "        ## optimizer\n",
        "        optimizer = {'ACD':AdamW(acd_model.parameters(), lr=LEARNING_RATE['ACD']),\n",
        "                     'ASC':AdamW(asc_model.parameters(), lr=LEARNING_RATE['ASC'])}\n",
        "\n",
        "        ## scheduler\n",
        "        t_total = len(train_dataloader['ACD']) * NUM_EPOCHS['ACD']  ## The total number of training steps\n",
        "        warmup_step = t_total // 10  ## The number of steps for the warmup phase\n",
        "        scheduler = {'ACD':get_linear_schedule_with_warmup(optimizer['ACD'], num_warmup_steps=warmup_step, num_training_steps=t_total),\n",
        "                     'ASC':get_linear_schedule_with_warmup(optimizer['ASC'], num_warmup_steps=warmup_step, num_training_steps=t_total)}\n",
        "\n",
        "        ## early stop, 다음 폴드 학습을 위해 score 관련 파라미터 초기화\n",
        "        early_stopping.reset_score()\n",
        "        early_stopping.set_path(SAVE_PATHS['ACD'])\n",
        "        early_stopping.set_fold(fold + 1)  \n",
        "        \n",
        "        ## 폴드마다 ACD 모델 학습\n",
        "        task = 'ACD'\n",
        "        print(f'{\"#\"*32}  {task}  {\"#\"*32}')\n",
        "        for epoch in tqdm(range(1, NUM_EPOCHS[task]+1)): ## (배치사이즈 X 에폭) 만큼 훈련시킴           \n",
        "            acd_model, train_loss = train(acd_model, train_dataloader[task], task, device, \n",
        "                                      loss_fn[task], optimizer[task], scheduler[task])  ## 모델 학습\n",
        "\n",
        "            valid_loss, valid_precision, valid_recall, valid_f1 = acd_evaluate(acd_model, valid_dataloader[task], loss_fn[task], device)  ## 모델 평가\n",
        "            acd_fold_train_losses_per_epoch[fold].append(train_loss) \n",
        "            acd_fold_valid_losses_per_epoch[fold].append(valid_loss)  \n",
        "\n",
        "            print_score_condition = (epoch == 1 or epoch % 5 == 0 or epoch == NUM_EPOCHS[task])  \n",
        "            score_information = f'[Epoch: {epoch:>2}]  train loss = {train_loss:.5f}  valid loss = {valid_loss:.5f}  precision = {valid_precision:.5f}  recall = {valid_recall:.5f}  f1 = {valid_f1:.5f}'\n",
        "\n",
        "            ## 평균 배치 훈련 오차와 검증 오차 출력\n",
        "            if print_score_condition:  \n",
        "                print(score_information)  \n",
        "                \n",
        "            ## 에폭마다 early stopping 실행\n",
        "            early_stopping(acd_model, valid_loss, valid_f1)  \n",
        "            if early_stopping.check_early_stop(): \n",
        "                if not print_score_condition:  ## 이미 출력한 에폭에 대해 중복으로 출력하지 않기 위함\n",
        "                    print(score_information) \n",
        "                print('Early Stopping!')\n",
        "                break \n",
        " \n",
        "        ## ACD: 폴드별 학습 및 검증 종료시 가장 작은 검증 손실과 이때의 f1 score를 출력\n",
        "        print(f'{fold + 1} Fold -> Best Valid Loss: {early_stopping.valid_loss:.5f} Valid ACD F1 score: {early_stopping.valid_metric_score:.5f}', end='\\n\\n')\n",
        "        \n",
        "        ## 폴드마다 ASC 모델 학습\n",
        "        early_stopping.reset_score()\n",
        "        early_stopping.set_path(SAVE_PATHS['ASC'])\n",
        "        task = 'ASC'\n",
        "        print(f'{\"#\"*32}  {task}  {\"#\"*32}')\n",
        "        for epoch in tqdm(range(1, NUM_EPOCHS[task]+1)): ## (배치사이즈 X 에폭) 만큼 훈련시킴         \n",
        "            asc_model, train_loss = train(asc_model, train_dataloader[task], task, device, \n",
        "                                      loss_fn[task], optimizer[task], scheduler[task])  ## 모델 학습\n",
        "\n",
        "            valid_loss, asc_valid_f1, absa_valid_f1 = absa_evaluate(acd_model, asc_model, valid_dataloader[task], \n",
        "                                                                    f'{SAVE_PATHS[\"ACD\"]}/{MODEL_NAME}_best_{fold + 1}.pt', \n",
        "                                                                    loss_fn[task], device)  ## 모델 평가\n",
        "\n",
        "            asc_fold_train_losses_per_epoch[fold].append(train_loss) \n",
        "            asc_fold_valid_losses_per_epoch[fold].append(valid_loss)  \n",
        "  \n",
        "            print_score_condition = (epoch == 1 or epoch % 5 == 0 or epoch == NUM_EPOCHS[task])  \n",
        "            score_information = f'[Epoch: {epoch:>2}]  train loss = {train_loss:.5f}  valid loss = {valid_loss:.5f}  ASC macro f1 = {asc_valid_f1:.5f}  ABSA f1 = {absa_valid_f1:.5f}'\n",
        "\n",
        "            ## 평균 배치 훈련 오차와 검증 오차 출력\n",
        "            if print_score_condition:  \n",
        "                print(score_information)  \n",
        "                \n",
        "            ## 에폭마다 early stopping 실행\n",
        "            early_stopping(asc_model, valid_loss, asc_valid_f1)  \n",
        "            if early_stopping.check_early_stop(): \n",
        "                if not print_score_condition: \n",
        "                    print(score_information) \n",
        "                print('Early Stopping!')\n",
        "                break  \n",
        "\n",
        "        ## ABSA: 폴드별 학습 및 검증 종료시 가장 작은 검증 손실과 이때의 f1 score를 출력\n",
        "        print(f'{fold + 1} Fold -> Best Valid Loss: {early_stopping.valid_loss:.5f} Valid ASC F1 score: {early_stopping.valid_metric_score:.5f}', end='\\n\\n')\n",
        "\n",
        "    models['ACD'], models['ASC'] = acd_model, asc_model\n",
        "    return models, acd_fold_train_losses_per_epoch, acd_fold_valid_losses_per_epoch, asc_fold_train_losses_per_epoch, asc_fold_valid_losses_per_epoch"
      ],
      "metadata": {
        "id": "T73b5ykHqfhv"
      },
      "execution_count": 129,
      "outputs": []
    },
    {
      "cell_type": "markdown",
      "metadata": {
        "id": "LyGMoqytkIDx"
      },
      "source": [
        "- 모델 선언 및 가중치 저장"
      ]
    },
    {
      "cell_type": "code",
      "source": [
        "acd_model = AutoModelForSequenceClassification.from_pretrained(MODEL_PATHS[MODEL_NAME], num_labels=NUM_CLASSES['ACD'])\n",
        "asc_model = AutoModelForSequenceClassification.from_pretrained(MODEL_PATHS[MODEL_NAME], num_labels=NUM_CLASSES['ASC'])\n",
        "tokenizer = AutoTokenizer.from_pretrained(MODEL_PATHS[MODEL_NAME])  "
      ],
      "metadata": {
        "colab": {
          "base_uri": "https://localhost:8080/",
          "height": 348,
          "referenced_widgets": [
            "d2f54db6cfe547a5bce6e4b6a3d75868",
            "aa59a703ac4642d5b7182da3a09bbb06",
            "d54a0c298dc2426fab06eaa4bde21fba",
            "72f9707d17bf47caa0efdf4a6d8089e6",
            "fa5a5798835045e795518a058bf836ae",
            "9ee401a2f45d484992b19f95f6b8c27b",
            "0ca0909660d34a179e424b21bdb33056",
            "2a33f3ae3204488abf2ebd116428eac0",
            "4c662e4bfa664f2eb9dea0cf7c4bcd47",
            "66ac77f42cd045189878e9e44099e4c8",
            "8dd27537e6874aa1b00d1013a2c12c30",
            "a764de7357fe46169a0512f38f683576",
            "49bbac03a4bb4bd59589b61c4ca84fb2",
            "08cd4336e4be4b9fa2e38003ccee8621",
            "b028476700cf4a61891fde281043c8ad",
            "87f2f7285fc14a31aff16021a045cda6",
            "f550901d33c74da3ae2b1962f591068e",
            "157f7d6c8c8a491394844eeb600f658f",
            "7f50a602133e4f82985b58e1606f7523",
            "5e6d3f86b1a74591bcb516e148297c5d",
            "91bd55fadb144feea3f4cd68e3d5bc7c",
            "dfab48266feb424ca4a3afbae9ff6e89",
            "e65d3b3c164d44dfaf1417e1aece2b90",
            "4781f65dfb6e4622bd2e168a4424b7b3",
            "5f4c7333ddf5482281c61a158f932f07",
            "5e6700272a47466fbfad3ac7478edae1",
            "9294d3fe459e4a3c862f27d5870a4054",
            "e80c0ed1fbd44d2599c652a379942333",
            "e006a32d9f4b4b7a803522b1ffeb21e5",
            "acb8f799155d46e5a9304090f3624d4b",
            "2c2089d3a556497fab314b5d482009bc",
            "c38a0da1610a48a3811acee394fbcad7",
            "eebb3a8fb81140ae82eec3a8b5754aeb",
            "12d987f48dd94eb89f030737bc34d104",
            "cbd598e158414f6584cd682bc73bc44a",
            "45566fa16b7e4c2ab5ab5ccd70e16b72",
            "653a9ff7d4b044a7835b4b5ab8058e1e",
            "f5414bc8b6f647b8a8d97a8cd26ae3fb",
            "0411ca7b7caf4a5c989f25e37ac6c256",
            "6c81162bd099433ea353e0df7f89e584",
            "4622d45d444944af835b261419a969b5",
            "5014794dcf9f4b8a8eaf8714730436f7",
            "7461556094d44a53890fb64507debc65",
            "3390c96e62334497ade1e665716d3e3d"
          ]
        },
        "id": "Bz9bELhQqoiP",
        "outputId": "5e54e3d0-9607-406c-8d10-a02ce3b69283"
      },
      "execution_count": 87,
      "outputs": [
        {
          "output_type": "display_data",
          "data": {
            "text/plain": [
              "Downloading:   0%|          | 0.00/725 [00:00<?, ?B/s]"
            ],
            "application/vnd.jupyter.widget-view+json": {
              "version_major": 2,
              "version_minor": 0,
              "model_id": "d2f54db6cfe547a5bce6e4b6a3d75868"
            }
          },
          "metadata": {}
        },
        {
          "output_type": "display_data",
          "data": {
            "text/plain": [
              "Downloading:   0%|          | 0.00/476M [00:00<?, ?B/s]"
            ],
            "application/vnd.jupyter.widget-view+json": {
              "version_major": 2,
              "version_minor": 0,
              "model_id": "a764de7357fe46169a0512f38f683576"
            }
          },
          "metadata": {}
        },
        {
          "output_type": "stream",
          "name": "stderr",
          "text": [
            "Some weights of the model checkpoint at kykim/bert-kor-base were not used when initializing BertForSequenceClassification: ['cls.predictions.transform.LayerNorm.weight', 'cls.seq_relationship.bias', 'cls.predictions.transform.dense.weight', 'cls.predictions.decoder.bias', 'cls.predictions.bias', 'cls.predictions.transform.dense.bias', 'cls.predictions.decoder.weight', 'cls.seq_relationship.weight', 'cls.predictions.transform.LayerNorm.bias']\n",
            "- This IS expected if you are initializing BertForSequenceClassification from the checkpoint of a model trained on another task or with another architecture (e.g. initializing a BertForSequenceClassification model from a BertForPreTraining model).\n",
            "- This IS NOT expected if you are initializing BertForSequenceClassification from the checkpoint of a model that you expect to be exactly identical (initializing a BertForSequenceClassification model from a BertForSequenceClassification model).\n",
            "Some weights of BertForSequenceClassification were not initialized from the model checkpoint at kykim/bert-kor-base and are newly initialized: ['classifier.bias', 'classifier.weight']\n",
            "You should probably TRAIN this model on a down-stream task to be able to use it for predictions and inference.\n",
            "Some weights of the model checkpoint at kykim/bert-kor-base were not used when initializing BertForSequenceClassification: ['cls.predictions.transform.LayerNorm.weight', 'cls.seq_relationship.bias', 'cls.predictions.transform.dense.weight', 'cls.predictions.decoder.bias', 'cls.predictions.bias', 'cls.predictions.transform.dense.bias', 'cls.predictions.decoder.weight', 'cls.seq_relationship.weight', 'cls.predictions.transform.LayerNorm.bias']\n",
            "- This IS expected if you are initializing BertForSequenceClassification from the checkpoint of a model trained on another task or with another architecture (e.g. initializing a BertForSequenceClassification model from a BertForPreTraining model).\n",
            "- This IS NOT expected if you are initializing BertForSequenceClassification from the checkpoint of a model that you expect to be exactly identical (initializing a BertForSequenceClassification model from a BertForSequenceClassification model).\n",
            "Some weights of BertForSequenceClassification were not initialized from the model checkpoint at kykim/bert-kor-base and are newly initialized: ['classifier.bias', 'classifier.weight']\n",
            "You should probably TRAIN this model on a down-stream task to be able to use it for predictions and inference.\n"
          ]
        },
        {
          "output_type": "display_data",
          "data": {
            "text/plain": [
              "Downloading:   0%|          | 0.00/80.0 [00:00<?, ?B/s]"
            ],
            "application/vnd.jupyter.widget-view+json": {
              "version_major": 2,
              "version_minor": 0,
              "model_id": "e65d3b3c164d44dfaf1417e1aece2b90"
            }
          },
          "metadata": {}
        },
        {
          "output_type": "display_data",
          "data": {
            "text/plain": [
              "Downloading:   0%|          | 0.00/344k [00:00<?, ?B/s]"
            ],
            "application/vnd.jupyter.widget-view+json": {
              "version_major": 2,
              "version_minor": 0,
              "model_id": "12d987f48dd94eb89f030737bc34d104"
            }
          },
          "metadata": {}
        }
      ]
    },
    {
      "cell_type": "code",
      "source": [
        "special_tokens_dict = {'additional_special_tokens': ['&name&', '&online-account&']}\n",
        "tokenizer.add_special_tokens(special_tokens_dict)"
      ],
      "metadata": {
        "colab": {
          "base_uri": "https://localhost:8080/"
        },
        "id": "Vg0HlSnlXEq-",
        "outputId": "6227c9d2-2670-40fd-9ae3-9c0ac82ac500"
      },
      "execution_count": 89,
      "outputs": [
        {
          "output_type": "execute_result",
          "data": {
            "text/plain": [
              "2"
            ]
          },
          "metadata": {},
          "execution_count": 89
        }
      ]
    },
    {
      "cell_type": "code",
      "source": [
        "acd_model.resize_token_embeddings(len(tokenizer))\n",
        "asc_model.resize_token_embeddings(len(tokenizer))\n",
        "# torch.save(acd_model.state_dict(), MODEL_DEFAULT_WEIGHT_PATHS['ACD']) \n",
        "# torch.save(asc_model.state_dict(), MODEL_DEFAULT_WEIGHT_PATHS['ASC']) "
      ],
      "metadata": {
        "id": "KmKgqiLkXDzX",
        "colab": {
          "base_uri": "https://localhost:8080/"
        },
        "outputId": "91c22b92-e2cf-47ee-d686-e87ac56381e4"
      },
      "execution_count": 90,
      "outputs": [
        {
          "output_type": "execute_result",
          "data": {
            "text/plain": [
              "Embedding(42002, 768)"
            ]
          },
          "metadata": {},
          "execution_count": 90
        }
      ]
    },
    {
      "cell_type": "code",
      "source": [
        "models = {'ACD':acd_model, 'ASC':asc_model}"
      ],
      "metadata": {
        "id": "07ryAjyYLeCB"
      },
      "execution_count": 91,
      "outputs": []
    },
    {
      "cell_type": "markdown",
      "metadata": {
        "id": "s0OMjmQ_t12g"
      },
      "source": [
        "- 모델 K겹 교차검증"
      ]
    },
    {
      "cell_type": "markdown",
      "source": [
        "`-` 19시 시작"
      ],
      "metadata": {
        "id": "i-b1oUq4Zzf5"
      }
    },
    {
      "cell_type": "code",
      "source": [
        "(models, acd_fold_train_losses_per_epoch, acd_fold_valid_losses_per_epoch,\n",
        "asc_fold_train_losses_per_epoch, asc_fold_valid_losses_per_epoch) = deep_ensemble(models, \n",
        "                                                                                  df,\n",
        "                                                                                  valid,\n",
        "                                                                                  tidy_df,\n",
        "                                                                                  tidy_valid, \n",
        "                                                                                  tokenizer, \n",
        "                                                                                  loss_fn,\n",
        "                                                                                  early_stopping,\n",
        "                                                                                  SEEDS,\n",
        "                                                                                  DEVICE)"
      ],
      "metadata": {
        "id": "ICj7D0G1MbMx",
        "colab": {
          "base_uri": "https://localhost:8080/",
          "height": 519,
          "referenced_widgets": [
            "b7b658f27d49466cac8369e5f0fe9561",
            "14a82c9705d8411ba367f174b6151ab8",
            "3d493a0d643e415eaffe3e2d6cdf1c21",
            "5ee1578a522940eeab68d1b217498a16",
            "1d8e2d653d814c0db05d588b4c52c32e",
            "d71b6d855afd4504b1b15e0e63e02981",
            "a6ae5c03dc11408b84a22a888756b209",
            "9766f2f1c4674342802d3bd588f53943",
            "2aa9567158b04bb5bd8345c4b8109d74",
            "d2751ce95745427791bda9bad9f45fac",
            "7d3fc2260e674ba5bbfaaa5b415f7be5",
            "79c4965454db4b308e4b0bfdf6743e93",
            "ae3ab9fc7fe14025af678f1f90e7da7f",
            "b7f2226aa00a461ca1eff69306d0a804",
            "64eef020ea184c7fadea2f1553eb582c",
            "69370d42e1e94c97b360f697865052ca",
            "d9eb18949ac3485780152f392abb3d77",
            "badace63a55846a58ad782da5efc0e36",
            "1e3868c6b91f43548f79b35df7d4e4e6",
            "687e9139a2a54c9c841ddf6d25513d53",
            "280a7be19c0941dfb68815ffdc7e381c",
            "2555fc11abd2419487e850cc78938d79"
          ]
        },
        "outputId": "014196d2-7b38-4af7-f6a3-4a1f3b1c1ec5"
      },
      "execution_count": 132,
      "outputs": [
        {
          "output_type": "stream",
          "name": "stdout",
          "text": [
            "[1 / 3] Fold Training......\n",
            "[2 / 3] Fold Training......\n",
            "################################  ACD  ################################\n"
          ]
        },
        {
          "output_type": "display_data",
          "data": {
            "text/plain": [
              "  0%|          | 0/40 [00:00<?, ?it/s]"
            ],
            "application/vnd.jupyter.widget-view+json": {
              "version_major": 2,
              "version_minor": 0,
              "model_id": "b7b658f27d49466cac8369e5f0fe9561"
            }
          },
          "metadata": {}
        },
        {
          "output_type": "stream",
          "name": "stdout",
          "text": [
            "[Epoch:  1]  train loss = 0.60218  valid loss = 0.44465  precision = 0.43794  recall = 0.43837  f1 = 0.43816\n",
            "[Epoch:  5]  train loss = 0.32437  valid loss = 0.32973  precision = 0.69868  recall = 0.70520  f1 = 0.70192\n",
            "[Epoch: 10]  train loss = 0.27974  valid loss = 0.33721  precision = 0.70225  recall = 0.71652  f1 = 0.70932\n",
            "[Epoch: 15]  train loss = 0.27101  valid loss = 0.33606  precision = 0.71245  recall = 0.73784  f1 = 0.72492\n",
            "[Epoch: 20]  train loss = 0.26840  valid loss = 0.33856  precision = 0.71900  recall = 0.73984  f1 = 0.72927\n",
            "[Epoch: 25]  train loss = 0.26727  valid loss = 0.34021  precision = 0.72166  recall = 0.74017  f1 = 0.73080\n",
            "[Epoch: 30]  train loss = 0.26659  valid loss = 0.34032  precision = 0.72544  recall = 0.74284  f1 = 0.73404\n",
            "[Epoch: 35]  train loss = 0.26637  valid loss = 0.34195  precision = 0.72081  recall = 0.73618  f1 = 0.72841\n",
            "[Epoch: 39]  train loss = 0.26627  valid loss = 0.34173  precision = 0.72253  recall = 0.73817  f1 = 0.73027\n",
            "Early Stopping!\n",
            "2 Fold -> Best Valid Loss: 0.33879 Valid ACD F1 score: 0.73440\n",
            "\n",
            "################################  ASC  ################################\n"
          ]
        },
        {
          "output_type": "display_data",
          "data": {
            "text/plain": [
              "  0%|          | 0/20 [00:00<?, ?it/s]"
            ],
            "application/vnd.jupyter.widget-view+json": {
              "version_major": 2,
              "version_minor": 0,
              "model_id": "79c4965454db4b308e4b0bfdf6743e93"
            }
          },
          "metadata": {}
        },
        {
          "output_type": "stream",
          "name": "stdout",
          "text": [
            "[Epoch:  1]  train loss = 0.10209  valid loss = 0.07519  ASC macro f1 = 0.34703  ABSA f1 = 0.67748\n",
            "[Epoch:  5]  train loss = 0.06846  valid loss = 0.06216  ASC macro f1 = 0.63097  ABSA f1 = 0.67312\n",
            "[Epoch: 10]  train loss = 0.04430  valid loss = 0.06498  ASC macro f1 = 0.66185  ABSA f1 = 0.67873\n",
            "[Epoch: 15]  train loss = 0.03836  valid loss = 0.06635  ASC macro f1 = 0.64512  ABSA f1 = 0.67592\n",
            "[Epoch: 20]  train loss = 0.03774  valid loss = 0.06714  ASC macro f1 = 0.64588  ABSA f1 = 0.67655\n",
            "2 Fold -> Best Valid Loss: 0.06498 Valid ASC F1 score: 0.66185\n",
            "\n",
            "[3 / 3] Fold Training......\n"
          ]
        }
      ]
    },
    {
      "cell_type": "markdown",
      "metadata": {
        "id": "dS896I7QumEp"
      },
      "source": [
        "- train loss와 valid loss의 변화를 시각화"
      ]
    },
    {
      "cell_type": "code",
      "execution_count": 95,
      "metadata": {
        "id": "gcfLWSukuoQx"
      },
      "outputs": [],
      "source": [
        "def show_loss_plot(\n",
        "        fold_train_losses: List[List[float]],\n",
        "        fold_valid_losses: List[List[float]]\n",
        "    ) -> None:\n",
        "    \"\"\"폴드별로 에폭에 따른 모델의 훈련 손실과 검증 손실의 변화를 시각화\"\"\"\n",
        "    assert len(fold_train_losses) == len(fold_valid_losses)\n",
        "    num_folds = len(fold_train_losses)\n",
        "    ncols = 3\n",
        "    nrows = 1 + (num_folds - 1)//ncols\n",
        "    fig, axes = plt.subplots(nrows, ncols, figsize=(ncols*4, nrows*4)) \n",
        "\n",
        "    ## 폴드마다 에폭에 따른 훈련 손실과 검증 손실의 변화를 시각화\n",
        "    for fold, (ax, train_losses, valid_losses) in enumerate(zip(axes.flatten(), fold_train_losses, fold_valid_losses), start=1):\n",
        "        assert len(train_losses) == len(valid_losses) \n",
        "        if fold > num_folds:\n",
        "            break\n",
        "\n",
        "        num_epochs = len(train_losses)\n",
        "        ax.set_title(f'{fold} Fold')\n",
        "        ax.plot(range(1, num_epochs+1), train_losses, label='Train')\n",
        "        ax.plot(range(1, num_epochs+1), valid_losses, label='Valid')\n",
        "        ax.set_xlabel('Epoch')\n",
        "        ax.set_ylabel('Loss')\n",
        "        ax.legend()\n",
        "\n",
        "    fig.suptitle('Train Loss and Valid Loss', x=0.51, y=1.05, fontsize=15)\n",
        "    fig.tight_layout()\n",
        "\n",
        "    ## 남는 서브 플랏 제거\n",
        "    for ax in axes.flatten():\n",
        "        if not ax.has_data():\n",
        "            fig.delaxes(ax)"
      ]
    },
    {
      "cell_type": "code",
      "execution_count": 96,
      "metadata": {
        "id": "wJCs4xPLJ3Ry",
        "colab": {
          "base_uri": "https://localhost:8080/",
          "height": 323
        },
        "outputId": "18c8b474-a0ef-47e5-fa8b-b0b4f89676c9"
      },
      "outputs": [
        {
          "output_type": "display_data",
          "data": {
            "text/plain": [
              "<Figure size 864x288 with 3 Axes>"
            ],
            "image/png": "[encoded data removed]"
          },
          "metadata": {
            "needs_background": "light"
          }
        }
      ],
      "source": [
        "show_loss_plot(acd_fold_train_losses_per_epoch, acd_fold_valid_losses_per_epoch)"
      ]
    },
    {
      "cell_type": "code",
      "source": [
        "show_loss_plot(asc_fold_train_losses_per_epoch, asc_fold_valid_losses_per_epoch)"
      ],
      "metadata": {
        "id": "VbmVJWE1Op1o",
        "colab": {
          "base_uri": "https://localhost:8080/",
          "height": 323
        },
        "outputId": "41aeff44-c295-4acd-f600-e676cd62f9b8"
      },
      "execution_count": 97,
      "outputs": [
        {
          "output_type": "display_data",
          "data": {
            "text/plain": [
              "<Figure size 864x288 with 3 Axes>"
            ],
            "image/png": "[encoded data removed]"
          },
          "metadata": {
            "needs_background": "light"
          }
        }
      ]
    },
    {
      "cell_type": "markdown",
      "metadata": {
        "id": "2F1rlPmIPpvL"
      },
      "source": [
        "## Test 예측"
      ]
    },
    {
      "cell_type": "code",
      "source": [
        "def acd_predict(\n",
        "        model: nn.Module, \n",
        "        dataloader: DataLoader, \n",
        "        weight_save_path: str, \n",
        "        device: torch.device,\n",
        "        return_prob: bool = False\n",
        "    ) -> Tensor:\n",
        "    \"\"\"test text를 보고 개체 속성을 분류\"\"\"\n",
        "    model = model.to(device) \n",
        "    weight_path_list = glob(weight_save_path + '/*.pt')\n",
        "    test_probs = torch.zeros(len(dataloader.dataset), NUM_CLASSES['ACD'])  \n",
        "\n",
        "    for weight_path in tqdm(weight_path_list):\n",
        "        probs = None\n",
        "        model.load_state_dict(torch.load(weight_path, map_location=device))\n",
        "        model.eval()\n",
        "\n",
        "        with torch.no_grad(): \n",
        "            for batch in dataloader:  ## test 데이터는 라벨(y)이 없다\n",
        "                args = [*(map(lambda tensor: tensor.to(device), batch['ACD']))]\n",
        "                y_hat = F.sigmoid(model(*args)[0]).detach().cpu().numpy()\n",
        "\n",
        "                if probs is None:\n",
        "                    probs = y_hat\n",
        "                else:\n",
        "                    probs = np.concatenate([probs, y_hat]) \n",
        "\n",
        "        test_probs += (torch.from_numpy(probs) / NUM_FOLDS)    ## 각 컬럼별 확률\n",
        "    test_probs = torch.from_numpy(np.apply_along_axis(under_half_max_to_1, 1, test_probs))  ## 텍스트에는 적어도 한 개의 개체 속성이 포함되어야 한다\n",
        "    test_preds = torch.where(test_probs >= 0.5, 1, 0)          ## threshold(0.5)보다 크면 positive 그렇지 않으면 negative\n",
        "\n",
        "    if return_prob:\n",
        "        return test_probs  ## 각 컬럼별 확률\n",
        "    return test_preds  ## 라벨"
      ],
      "metadata": {
        "id": "asEGDYkZp1mr"
      },
      "execution_count": 98,
      "outputs": []
    },
    {
      "cell_type": "code",
      "source": [
        "def asc_predict(\n",
        "        model: nn.Module, \n",
        "        dataloader: DataLoader, \n",
        "        weight_save_path: str, \n",
        "        device: torch.device,\n",
        "        return_prob: bool = False\n",
        "    ) -> Tensor:\n",
        "    \"\"\"개체 속성을 분류한 후 존재하는 개체 속성에 대해 감성 분류\"\"\"\n",
        "    model = model.to(device) \n",
        "    weight_path_list = glob(weight_save_path + '/*.pt') \n",
        "    test_probs = torch.zeros(len(dataloader.dataset), NUM_CLASSES['ASC'])  \n",
        "\n",
        "    for weight_path in tqdm(weight_path_list):\n",
        "        probs = None\n",
        "        model.load_state_dict(torch.load(weight_path, map_location=device))\n",
        "        model.eval()\n",
        "\n",
        "        with torch.no_grad(): \n",
        "            for batch in dataloader:  ## test 데이터는 라벨(y)이 없다\n",
        "                args = [*(map(lambda tensor: tensor.to(device), batch['ASC']))]\n",
        "                y_hat = model(*args)[0].detach().cpu().numpy()\n",
        "\n",
        "                if probs is None:\n",
        "                    probs = y_hat\n",
        "                else:\n",
        "                    probs = np.concatenate([probs, y_hat]) \n",
        "\n",
        "        test_probs += (torch.softmax(torch.from_numpy(probs), dim=-1) / NUM_FOLDS)  ## 각 컬럼별 확률\n",
        "    _, test_preds = torch.max(test_probs, dim=-1)  ## 최댓값과 인덱스\n",
        "    \n",
        "    if return_prob:\n",
        "        return test_probs  ## 각 컬럼별 확률\n",
        "    return test_preds  ## 라벨"
      ],
      "metadata": {
        "id": "Xu4gAH67RtKy"
      },
      "execution_count": 99,
      "outputs": []
    },
    {
      "cell_type": "code",
      "source": [
        "def fill_annotation(jsonl: List[JsonType], df: pd.DataFrame) -> List[JsonType]:\n",
        "    \"\"\"\n",
        "    test jsonl의 annotation을 df의 entity_property와 sentiment로 채운다 (In-Place)\n",
        "    For submission \n",
        "    \"\"\"\n",
        "    list_df = df.to_numpy().tolist()\n",
        "    for idx, json in enumerate(jsonl):\n",
        "        assert json['id'].split('-')[-1] == list_df[idx][0]  ## id는 동일해야 함\n",
        "        jsonl[idx]['annotation'] = list(map(list, zip(list_df[idx][2], list_df[idx][3])))\n",
        "        \n",
        "    return jsonl"
      ],
      "metadata": {
        "id": "f3R6vv_YTD97"
      },
      "execution_count": 100,
      "outputs": []
    },
    {
      "cell_type": "code",
      "source": [
        "test_acd_dataloader = DataLoader(ACDDataset(test, tokenizer, MAX_LEN), batch_size=BATCH_SIZE)"
      ],
      "metadata": {
        "id": "Me_6g1isqHVj"
      },
      "execution_count": 139,
      "outputs": []
    },
    {
      "cell_type": "code",
      "source": [
        "acd_preds = acd_predict(acd_model, test_acd_dataloader, SAVE_PATHS['ACD'], device=DEVICE)"
      ],
      "metadata": {
        "id": "f3Rem_MJH0zU",
        "colab": {
          "base_uri": "https://localhost:8080/",
          "height": 49,
          "referenced_widgets": [
            "79581f29cd4f443f9907583c688bfc37",
            "cb03aee23b7a417bbf98deae78159680",
            "45b355e4bd524dc1b6693ede2275b9c4",
            "a453785ec0ff49b7a10e2e8b8f76f827",
            "d39f77b60b224b9f94ee2f629b454a83",
            "2d625dd03b09438dbb1195ae3c519984",
            "1a938c8f3eaf485c94e46bb0a5c69fda",
            "5cf55b282dfc4018974be231f1d1de2b",
            "4985196838e94902bbaff3d4fdff6a8b",
            "8ca9188f0e7a469b936f7019b1558fe8",
            "e60a74427c4a468d89d9715d71d37993"
          ]
        },
        "outputId": "f6fcebce-95e8-496c-e61b-0f7e9f12e4c4"
      },
      "execution_count": 140,
      "outputs": [
        {
          "output_type": "display_data",
          "data": {
            "text/plain": [
              "  0%|          | 0/3 [00:00<?, ?it/s]"
            ],
            "application/vnd.jupyter.widget-view+json": {
              "version_major": 2,
              "version_minor": 0,
              "model_id": "79581f29cd4f443f9907583c688bfc37"
            }
          },
          "metadata": {}
        }
      ]
    },
    {
      "cell_type": "code",
      "source": [
        "test['entity_property'] = list(map(list, ACD_ENCODER.inverse_transform(acd_preds)))\n",
        "test = to_tidy(test, is_test=True)"
      ],
      "metadata": {
        "id": "Rg8uSFmGpWnS"
      },
      "execution_count": 141,
      "outputs": []
    },
    {
      "cell_type": "code",
      "source": [
        "test_absa_dataloader = DataLoader(ABSADataset(test, tokenizer, MAX_LEN), batch_size=BATCH_SIZE)"
      ],
      "metadata": {
        "id": "LQX-5lVCYn1Y"
      },
      "execution_count": 142,
      "outputs": []
    },
    {
      "cell_type": "code",
      "source": [
        "asc_preds = asc_predict(asc_model, test_absa_dataloader, SAVE_PATHS['ASC'], device=DEVICE)\n",
        "test['sentiment'] =  ASC_ENCODER.inverse_transform(asc_preds)"
      ],
      "metadata": {
        "id": "z5QBij7xrlST",
        "colab": {
          "base_uri": "https://localhost:8080/",
          "height": 49,
          "referenced_widgets": [
            "f1e862a0da5540be9b19e56852bb1e72",
            "3a535bf81b414c9dbdca7f9ea29fa6ae",
            "8013c97cdaaf4f07b3a111d6ab2a4129",
            "4d682cfa56fc4f19a238856080d81914",
            "8d8578250371409eb1f96f56df03a9fc",
            "738bd85db1634a5f9b4ec70d4f3f8ada",
            "ae3b0a8822714bc9b3455de47a151752",
            "88c073667d614a058e72416190a318d4",
            "119478feea6c4c8881f9443612afe526",
            "6db42f8334b942cb98322d2250ad11d1",
            "5b77b6d6aaee4e9c8b3d4507954ceeae"
          ]
        },
        "outputId": "b003f9f9-47eb-4857-9396-9d72c294b99a"
      },
      "execution_count": 143,
      "outputs": [
        {
          "output_type": "display_data",
          "data": {
            "text/plain": [
              "  0%|          | 0/3 [00:00<?, ?it/s]"
            ],
            "application/vnd.jupyter.widget-view+json": {
              "version_major": 2,
              "version_minor": 0,
              "model_id": "f1e862a0da5540be9b19e56852bb1e72"
            }
          },
          "metadata": {}
        }
      ]
    },
    {
      "cell_type": "code",
      "source": [
        "test = to_untidy(test)"
      ],
      "metadata": {
        "id": "MoAX84QzSpGu"
      },
      "execution_count": 144,
      "outputs": []
    },
    {
      "cell_type": "code",
      "execution_count": 145,
      "metadata": {
        "id": "PoepzDgQSJFc"
      },
      "outputs": [],
      "source": [
        "test_jsonl = fill_annotation(load_jsonl(test_path) , test)"
      ]
    },
    {
      "cell_type": "code",
      "execution_count": 147,
      "metadata": {
        "id": "nDlAjiwbSQ-M"
      },
      "outputs": [],
      "source": [
        "write_jsonl(test_jsonl, submission_path)"
      ]
    },
    {
      "cell_type": "code",
      "source": [
        "x = to_tidy(test, is_test=False)"
      ],
      "metadata": {
        "id": "Dz_szmyW7W0m"
      },
      "execution_count": 148,
      "outputs": []
    },
    {
      "cell_type": "code",
      "source": [
        "x['sentiment'].value_counts() / x.shape[0]"
      ],
      "metadata": {
        "colab": {
          "base_uri": "https://localhost:8080/"
        },
        "id": "9ytvKp2P0Ati",
        "outputId": "219beb01-08ab-49c7-df34-28af73175fdd"
      },
      "execution_count": 152,
      "outputs": [
        {
          "output_type": "execute_result",
          "data": {
            "text/plain": [
              "positive    0.948349\n",
              "neutral     0.035563\n",
              "negative    0.016088\n",
              "Name: sentiment, dtype: float64"
            ]
          },
          "metadata": {},
          "execution_count": 152
        }
      ]
    },
    {
      "cell_type": "code",
      "source": [
        "x.entity_property.value_counts() / x.shape[0]"
      ],
      "metadata": {
        "colab": {
          "base_uri": "https://localhost:8080/"
        },
        "id": "wDNi735LzERS",
        "outputId": "bc85bb52-a6f8-4fe9-f286-631bf85c3832"
      },
      "execution_count": 149,
      "outputs": [
        {
          "output_type": "execute_result",
          "data": {
            "text/plain": [
              "본품#품질          0.328959\n",
              "제품 전체#일반       0.157070\n",
              "본품#일반          0.115580\n",
              "본품#편의성         0.091025\n",
              "제품 전체#품질       0.080440\n",
              "제품 전체#디자인      0.069433\n",
              "제품 전체#편의성      0.043184\n",
              "제품 전체#가격       0.027942\n",
              "패키지/구성품#디자인    0.022862\n",
              "패키지/구성품#일반     0.020322\n",
              "패키지/구성품#편의성    0.014395\n",
              "제품 전체#인지도      0.013124\n",
              "브랜드#일반         0.006774\n",
              "본품#다양성         0.003810\n",
              "패키지/구성품#품질     0.001693\n",
              "브랜드#품질         0.001693\n",
              "본품#디자인         0.001270\n",
              "브랜드#인지도        0.000423\n",
              "Name: entity_property, dtype: float64"
            ]
          },
          "metadata": {},
          "execution_count": 149
        }
      ]
    },
    {
      "cell_type": "code",
      "source": [
        "tidy_df.entity_property.value_counts() / tidy_df.shape[0]"
      ],
      "metadata": {
        "id": "6o1nIS2KzC8y",
        "colab": {
          "base_uri": "https://localhost:8080/"
        },
        "outputId": "324eb4c1-1da1-4ec7-c97f-e3b5e378de11"
      },
      "execution_count": 124,
      "outputs": [
        {
          "output_type": "execute_result",
          "data": {
            "text/plain": [
              "본품#품질          0.360963\n",
              "제품 전체#일반       0.265249\n",
              "본품#일반          0.078198\n",
              "제품 전체#품질       0.074132\n",
              "제품 전체#디자인      0.049109\n",
              "제품 전체#편의성      0.029403\n",
              "본품#편의성         0.029403\n",
              "제품 전체#인지도      0.020644\n",
              "브랜드#일반         0.016578\n",
              "패키지/구성품#디자인    0.016578\n",
              "제품 전체#가격       0.015327\n",
              "패키지/구성품#편의성    0.011886\n",
              "패키지/구성품#일반     0.009384\n",
              "본품#다양성         0.006256\n",
              "본품#디자인         0.004692\n",
              "브랜드#품질         0.004066\n",
              "패키지/구성품#품질     0.003128\n",
              "브랜드#인지도        0.002815\n",
              "브랜드#가격         0.000938\n",
              "본품#가격          0.000626\n",
              "패키지/구성품#다양성    0.000313\n",
              "본품#인지도         0.000313\n",
              "Name: entity_property, dtype: float64"
            ]
          },
          "metadata": {},
          "execution_count": 124
        }
      ]
    },
    {
      "cell_type": "code",
      "source": [
        "tidy_valid.entity_property.value_counts() / tidy_valid.shape[0]"
      ],
      "metadata": {
        "colab": {
          "base_uri": "https://localhost:8080/"
        },
        "id": "UiwtH5Fu7xfO",
        "outputId": "87e35338-cd43-4234-986b-8e1cd5872877"
      },
      "execution_count": 125,
      "outputs": [
        {
          "output_type": "execute_result",
          "data": {
            "text/plain": [
              "본품#품질          0.375957\n",
              "제품 전체#일반       0.257409\n",
              "제품 전체#품질       0.080919\n",
              "본품#일반          0.076923\n",
              "제품 전체#디자인      0.041958\n",
              "본품#편의성         0.031302\n",
              "제품 전체#편의성      0.028638\n",
              "제품 전체#인지도      0.024975\n",
              "패키지/구성품#디자인    0.020979\n",
              "브랜드#일반         0.016650\n",
              "제품 전체#가격       0.014319\n",
              "패키지/구성품#편의성    0.008991\n",
              "패키지/구성품#일반     0.006660\n",
              "본품#다양성         0.003330\n",
              "브랜드#인지도        0.002664\n",
              "패키지/구성품#품질     0.002331\n",
              "본품#디자인         0.001998\n",
              "브랜드#품질         0.001998\n",
              "브랜드#가격         0.001332\n",
              "패키지/구성품#다양성    0.000666\n",
              "Name: entity_property, dtype: float64"
            ]
          },
          "metadata": {},
          "execution_count": 125
        }
      ]
    },
    {
      "cell_type": "code",
      "source": [],
      "metadata": {
        "id": "S_v-nY9w7zBu"
      },
      "execution_count": null,
      "outputs": []
    }
  ],
  "metadata": {
    "colab": {
      "collapsed_sections": [],
      "provenance": [],
      "toc_visible": true,
      "include_colab_link": true
    },
    "gpuClass": "standard",
    "kernelspec": {
      "display_name": "Python 3 (ipykernel)",
      "language": "python",
      "name": "python3"
    },
    "language_info": {
      "codemirror_mode": {
        "name": "ipython",
        "version": 3
      },
      "file_extension": ".py",
      "mimetype": "text/x-python",
      "name": "python",
      "nbconvert_exporter": "python",
      "pygments_lexer": "ipython3",
      "version": "3.8.11"
    },
    "widgets": {
      "application/vnd.jupyter.widget-state+json": {
        "d0b9959ce350438d9980614c7ed4d11f": {
          "model_module": "@jupyter-widgets/controls",
          "model_name": "HBoxModel",
          "model_module_version": "1.5.0",
          "state": {
            "_dom_classes": [],
            "_model_module": "@jupyter-widgets/controls",
            "_model_module_version": "1.5.0",
            "_model_name": "HBoxModel",
            "_view_count": null,
            "_view_module": "@jupyter-widgets/controls",
            "_view_module_version": "1.5.0",
            "_view_name": "HBoxView",
            "box_style": "",
            "children": [
              "IPY_MODEL_f1e9033def9541a9b072a94e8afa106a",
              "IPY_MODEL_5c51e9a6643046569d8ccb33498b6130",
              "IPY_MODEL_f3734347132d49e199e49ac2552c1e9b"
            ],
            "layout": "IPY_MODEL_cb654577604242e4b8fea123b0c85a52"
          }
        },
        "f1e9033def9541a9b072a94e8afa106a": {
          "model_module": "@jupyter-widgets/controls",
          "model_name": "HTMLModel",
          "model_module_version": "1.5.0",
          "state": {
            "_dom_classes": [],
            "_model_module": "@jupyter-widgets/controls",
            "_model_module_version": "1.5.0",
            "_model_name": "HTMLModel",
            "_view_count": null,
            "_view_module": "@jupyter-widgets/controls",
            "_view_module_version": "1.5.0",
            "_view_name": "HTMLView",
            "description": "",
            "description_tooltip": null,
            "layout": "IPY_MODEL_4de0ce20aec74719bbe21a556ce4567c",
            "placeholder": "​",
            "style": "IPY_MODEL_200ea417791c40ceba1d239606d45367",
            "value": "Downloading: 100%"
          }
        },
        "5c51e9a6643046569d8ccb33498b6130": {
          "model_module": "@jupyter-widgets/controls",
          "model_name": "FloatProgressModel",
          "model_module_version": "1.5.0",
          "state": {
            "_dom_classes": [],
            "_model_module": "@jupyter-widgets/controls",
            "_model_module_version": "1.5.0",
            "_model_name": "FloatProgressModel",
            "_view_count": null,
            "_view_module": "@jupyter-widgets/controls",
            "_view_module_version": "1.5.0",
            "_view_name": "ProgressView",
            "bar_style": "success",
            "description": "",
            "description_tooltip": null,
            "layout": "IPY_MODEL_cc98d26cb6964bfd9244997468b649cf",
            "max": 80,
            "min": 0,
            "orientation": "horizontal",
            "style": "IPY_MODEL_764b37ebfecb47a0825bc3aca0a28680",
            "value": 80
          }
        },
        "f3734347132d49e199e49ac2552c1e9b": {
          "model_module": "@jupyter-widgets/controls",
          "model_name": "HTMLModel",
          "model_module_version": "1.5.0",
          "state": {
            "_dom_classes": [],
            "_model_module": "@jupyter-widgets/controls",
            "_model_module_version": "1.5.0",
            "_model_name": "HTMLModel",
            "_view_count": null,
            "_view_module": "@jupyter-widgets/controls",
            "_view_module_version": "1.5.0",
            "_view_name": "HTMLView",
            "description": "",
            "description_tooltip": null,
            "layout": "IPY_MODEL_0ae1ac6d59cd438a8264326f26421bcf",
            "placeholder": "​",
            "style": "IPY_MODEL_2c3a43620e0c46fab70b0df9ceccb7e5",
            "value": " 80.0/80.0 [00:00&lt;00:00, 754B/s]"
          }
        },
        "cb654577604242e4b8fea123b0c85a52": {
          "model_module": "@jupyter-widgets/base",
          "model_name": "LayoutModel",
          "model_module_version": "1.2.0",
          "state": {
            "_model_module": "@jupyter-widgets/base",
            "_model_module_version": "1.2.0",
            "_model_name": "LayoutModel",
            "_view_count": null,
            "_view_module": "@jupyter-widgets/base",
            "_view_module_version": "1.2.0",
            "_view_name": "LayoutView",
            "align_content": null,
            "align_items": null,
            "align_self": null,
            "border": null,
            "bottom": null,
            "display": null,
            "flex": null,
            "flex_flow": null,
            "grid_area": null,
            "grid_auto_columns": null,
            "grid_auto_flow": null,
            "grid_auto_rows": null,
            "grid_column": null,
            "grid_gap": null,
            "grid_row": null,
            "grid_template_areas": null,
            "grid_template_columns": null,
            "grid_template_rows": null,
            "height": null,
            "justify_content": null,
            "justify_items": null,
            "left": null,
            "margin": null,
            "max_height": null,
            "max_width": null,
            "min_height": null,
            "min_width": null,
            "object_fit": null,
            "object_position": null,
            "order": null,
            "overflow": null,
            "overflow_x": null,
            "overflow_y": null,
            "padding": null,
            "right": null,
            "top": null,
            "visibility": null,
            "width": null
          }
        },
        "4de0ce20aec74719bbe21a556ce4567c": {
          "model_module": "@jupyter-widgets/base",
          "model_name": "LayoutModel",
          "model_module_version": "1.2.0",
          "state": {
            "_model_module": "@jupyter-widgets/base",
            "_model_module_version": "1.2.0",
            "_model_name": "LayoutModel",
            "_view_count": null,
            "_view_module": "@jupyter-widgets/base",
            "_view_module_version": "1.2.0",
            "_view_name": "LayoutView",
            "align_content": null,
            "align_items": null,
            "align_self": null,
            "border": null,
            "bottom": null,
            "display": null,
            "flex": null,
            "flex_flow": null,
            "grid_area": null,
            "grid_auto_columns": null,
            "grid_auto_flow": null,
            "grid_auto_rows": null,
            "grid_column": null,
            "grid_gap": null,
            "grid_row": null,
            "grid_template_areas": null,
            "grid_template_columns": null,
            "grid_template_rows": null,
            "height": null,
            "justify_content": null,
            "justify_items": null,
            "left": null,
            "margin": null,
            "max_height": null,
            "max_width": null,
            "min_height": null,
            "min_width": null,
            "object_fit": null,
            "object_position": null,
            "order": null,
            "overflow": null,
            "overflow_x": null,
            "overflow_y": null,
            "padding": null,
            "right": null,
            "top": null,
            "visibility": null,
            "width": null
          }
        },
        "200ea417791c40ceba1d239606d45367": {
          "model_module": "@jupyter-widgets/controls",
          "model_name": "DescriptionStyleModel",
          "model_module_version": "1.5.0",
          "state": {
            "_model_module": "@jupyter-widgets/controls",
            "_model_module_version": "1.5.0",
            "_model_name": "DescriptionStyleModel",
            "_view_count": null,
            "_view_module": "@jupyter-widgets/base",
            "_view_module_version": "1.2.0",
            "_view_name": "StyleView",
            "description_width": ""
          }
        },
        "cc98d26cb6964bfd9244997468b649cf": {
          "model_module": "@jupyter-widgets/base",
          "model_name": "LayoutModel",
          "model_module_version": "1.2.0",
          "state": {
            "_model_module": "@jupyter-widgets/base",
            "_model_module_version": "1.2.0",
            "_model_name": "LayoutModel",
            "_view_count": null,
            "_view_module": "@jupyter-widgets/base",
            "_view_module_version": "1.2.0",
            "_view_name": "LayoutView",
            "align_content": null,
            "align_items": null,
            "align_self": null,
            "border": null,
            "bottom": null,
            "display": null,
            "flex": null,
            "flex_flow": null,
            "grid_area": null,
            "grid_auto_columns": null,
            "grid_auto_flow": null,
            "grid_auto_rows": null,
            "grid_column": null,
            "grid_gap": null,
            "grid_row": null,
            "grid_template_areas": null,
            "grid_template_columns": null,
            "grid_template_rows": null,
            "height": null,
            "justify_content": null,
            "justify_items": null,
            "left": null,
            "margin": null,
            "max_height": null,
            "max_width": null,
            "min_height": null,
            "min_width": null,
            "object_fit": null,
            "object_position": null,
            "order": null,
            "overflow": null,
            "overflow_x": null,
            "overflow_y": null,
            "padding": null,
            "right": null,
            "top": null,
            "visibility": null,
            "width": null
          }
        },
        "764b37ebfecb47a0825bc3aca0a28680": {
          "model_module": "@jupyter-widgets/controls",
          "model_name": "ProgressStyleModel",
          "model_module_version": "1.5.0",
          "state": {
            "_model_module": "@jupyter-widgets/controls",
            "_model_module_version": "1.5.0",
            "_model_name": "ProgressStyleModel",
            "_view_count": null,
            "_view_module": "@jupyter-widgets/base",
            "_view_module_version": "1.2.0",
            "_view_name": "StyleView",
            "bar_color": null,
            "description_width": ""
          }
        },
        "0ae1ac6d59cd438a8264326f26421bcf": {
          "model_module": "@jupyter-widgets/base",
          "model_name": "LayoutModel",
          "model_module_version": "1.2.0",
          "state": {
            "_model_module": "@jupyter-widgets/base",
            "_model_module_version": "1.2.0",
            "_model_name": "LayoutModel",
            "_view_count": null,
            "_view_module": "@jupyter-widgets/base",
            "_view_module_version": "1.2.0",
            "_view_name": "LayoutView",
            "align_content": null,
            "align_items": null,
            "align_self": null,
            "border": null,
            "bottom": null,
            "display": null,
            "flex": null,
            "flex_flow": null,
            "grid_area": null,
            "grid_auto_columns": null,
            "grid_auto_flow": null,
            "grid_auto_rows": null,
            "grid_column": null,
            "grid_gap": null,
            "grid_row": null,
            "grid_template_areas": null,
            "grid_template_columns": null,
            "grid_template_rows": null,
            "height": null,
            "justify_content": null,
            "justify_items": null,
            "left": null,
            "margin": null,
            "max_height": null,
            "max_width": null,
            "min_height": null,
            "min_width": null,
            "object_fit": null,
            "object_position": null,
            "order": null,
            "overflow": null,
            "overflow_x": null,
            "overflow_y": null,
            "padding": null,
            "right": null,
            "top": null,
            "visibility": null,
            "width": null
          }
        },
        "2c3a43620e0c46fab70b0df9ceccb7e5": {
          "model_module": "@jupyter-widgets/controls",
          "model_name": "DescriptionStyleModel",
          "model_module_version": "1.5.0",
          "state": {
            "_model_module": "@jupyter-widgets/controls",
            "_model_module_version": "1.5.0",
            "_model_name": "DescriptionStyleModel",
            "_view_count": null,
            "_view_module": "@jupyter-widgets/base",
            "_view_module_version": "1.2.0",
            "_view_name": "StyleView",
            "description_width": ""
          }
        },
        "1d0c18076eef4a00ac7d0da93b1abbea": {
          "model_module": "@jupyter-widgets/controls",
          "model_name": "HBoxModel",
          "model_module_version": "1.5.0",
          "state": {
            "_dom_classes": [],
            "_model_module": "@jupyter-widgets/controls",
            "_model_module_version": "1.5.0",
            "_model_name": "HBoxModel",
            "_view_count": null,
            "_view_module": "@jupyter-widgets/controls",
            "_view_module_version": "1.5.0",
            "_view_name": "HBoxView",
            "box_style": "",
            "children": [
              "IPY_MODEL_f65a33ffb66042b7a2fbc0c8c4e208a3",
              "IPY_MODEL_88f6563762504a628b4cde11d64a0dd6",
              "IPY_MODEL_ac1fabf068254b718897a2d042885295"
            ],
            "layout": "IPY_MODEL_2575891af19c44cd8f9e7b3e2402c2e2"
          }
        },
        "f65a33ffb66042b7a2fbc0c8c4e208a3": {
          "model_module": "@jupyter-widgets/controls",
          "model_name": "HTMLModel",
          "model_module_version": "1.5.0",
          "state": {
            "_dom_classes": [],
            "_model_module": "@jupyter-widgets/controls",
            "_model_module_version": "1.5.0",
            "_model_name": "HTMLModel",
            "_view_count": null,
            "_view_module": "@jupyter-widgets/controls",
            "_view_module_version": "1.5.0",
            "_view_name": "HTMLView",
            "description": "",
            "description_tooltip": null,
            "layout": "IPY_MODEL_6afa082a4147458c86e243472f82785a",
            "placeholder": "​",
            "style": "IPY_MODEL_17f007a217f94f94a76fb10a5b3b43a5",
            "value": "Downloading: 100%"
          }
        },
        "88f6563762504a628b4cde11d64a0dd6": {
          "model_module": "@jupyter-widgets/controls",
          "model_name": "FloatProgressModel",
          "model_module_version": "1.5.0",
          "state": {
            "_dom_classes": [],
            "_model_module": "@jupyter-widgets/controls",
            "_model_module_version": "1.5.0",
            "_model_name": "FloatProgressModel",
            "_view_count": null,
            "_view_module": "@jupyter-widgets/controls",
            "_view_module_version": "1.5.0",
            "_view_name": "ProgressView",
            "bar_style": "success",
            "description": "",
            "description_tooltip": null,
            "layout": "IPY_MODEL_b378c99f99de43558a4ea547e4826fd3",
            "max": 725,
            "min": 0,
            "orientation": "horizontal",
            "style": "IPY_MODEL_1c4a3c049be343e0a80ede9736d79427",
            "value": 725
          }
        },
        "ac1fabf068254b718897a2d042885295": {
          "model_module": "@jupyter-widgets/controls",
          "model_name": "HTMLModel",
          "model_module_version": "1.5.0",
          "state": {
            "_dom_classes": [],
            "_model_module": "@jupyter-widgets/controls",
            "_model_module_version": "1.5.0",
            "_model_name": "HTMLModel",
            "_view_count": null,
            "_view_module": "@jupyter-widgets/controls",
            "_view_module_version": "1.5.0",
            "_view_name": "HTMLView",
            "description": "",
            "description_tooltip": null,
            "layout": "IPY_MODEL_361d87f7e3b74930b0918dc8fced4b56",
            "placeholder": "​",
            "style": "IPY_MODEL_700819135f1f4895a1325242a7916058",
            "value": " 725/725 [00:00&lt;00:00, 19.1kB/s]"
          }
        },
        "2575891af19c44cd8f9e7b3e2402c2e2": {
          "model_module": "@jupyter-widgets/base",
          "model_name": "LayoutModel",
          "model_module_version": "1.2.0",
          "state": {
            "_model_module": "@jupyter-widgets/base",
            "_model_module_version": "1.2.0",
            "_model_name": "LayoutModel",
            "_view_count": null,
            "_view_module": "@jupyter-widgets/base",
            "_view_module_version": "1.2.0",
            "_view_name": "LayoutView",
            "align_content": null,
            "align_items": null,
            "align_self": null,
            "border": null,
            "bottom": null,
            "display": null,
            "flex": null,
            "flex_flow": null,
            "grid_area": null,
            "grid_auto_columns": null,
            "grid_auto_flow": null,
            "grid_auto_rows": null,
            "grid_column": null,
            "grid_gap": null,
            "grid_row": null,
            "grid_template_areas": null,
            "grid_template_columns": null,
            "grid_template_rows": null,
            "height": null,
            "justify_content": null,
            "justify_items": null,
            "left": null,
            "margin": null,
            "max_height": null,
            "max_width": null,
            "min_height": null,
            "min_width": null,
            "object_fit": null,
            "object_position": null,
            "order": null,
            "overflow": null,
            "overflow_x": null,
            "overflow_y": null,
            "padding": null,
            "right": null,
            "top": null,
            "visibility": null,
            "width": null
          }
        },
        "6afa082a4147458c86e243472f82785a": {
          "model_module": "@jupyter-widgets/base",
          "model_name": "LayoutModel",
          "model_module_version": "1.2.0",
          "state": {
            "_model_module": "@jupyter-widgets/base",
            "_model_module_version": "1.2.0",
            "_model_name": "LayoutModel",
            "_view_count": null,
            "_view_module": "@jupyter-widgets/base",
            "_view_module_version": "1.2.0",
            "_view_name": "LayoutView",
            "align_content": null,
            "align_items": null,
            "align_self": null,
            "border": null,
            "bottom": null,
            "display": null,
            "flex": null,
            "flex_flow": null,
            "grid_area": null,
            "grid_auto_columns": null,
            "grid_auto_flow": null,
            "grid_auto_rows": null,
            "grid_column": null,
            "grid_gap": null,
            "grid_row": null,
            "grid_template_areas": null,
            "grid_template_columns": null,
            "grid_template_rows": null,
            "height": null,
            "justify_content": null,
            "justify_items": null,
            "left": null,
            "margin": null,
            "max_height": null,
            "max_width": null,
            "min_height": null,
            "min_width": null,
            "object_fit": null,
            "object_position": null,
            "order": null,
            "overflow": null,
            "overflow_x": null,
            "overflow_y": null,
            "padding": null,
            "right": null,
            "top": null,
            "visibility": null,
            "width": null
          }
        },
        "17f007a217f94f94a76fb10a5b3b43a5": {
          "model_module": "@jupyter-widgets/controls",
          "model_name": "DescriptionStyleModel",
          "model_module_version": "1.5.0",
          "state": {
            "_model_module": "@jupyter-widgets/controls",
            "_model_module_version": "1.5.0",
            "_model_name": "DescriptionStyleModel",
            "_view_count": null,
            "_view_module": "@jupyter-widgets/base",
            "_view_module_version": "1.2.0",
            "_view_name": "StyleView",
            "description_width": ""
          }
        },
        "b378c99f99de43558a4ea547e4826fd3": {
          "model_module": "@jupyter-widgets/base",
          "model_name": "LayoutModel",
          "model_module_version": "1.2.0",
          "state": {
            "_model_module": "@jupyter-widgets/base",
            "_model_module_version": "1.2.0",
            "_model_name": "LayoutModel",
            "_view_count": null,
            "_view_module": "@jupyter-widgets/base",
            "_view_module_version": "1.2.0",
            "_view_name": "LayoutView",
            "align_content": null,
            "align_items": null,
            "align_self": null,
            "border": null,
            "bottom": null,
            "display": null,
            "flex": null,
            "flex_flow": null,
            "grid_area": null,
            "grid_auto_columns": null,
            "grid_auto_flow": null,
            "grid_auto_rows": null,
            "grid_column": null,
            "grid_gap": null,
            "grid_row": null,
            "grid_template_areas": null,
            "grid_template_columns": null,
            "grid_template_rows": null,
            "height": null,
            "justify_content": null,
            "justify_items": null,
            "left": null,
            "margin": null,
            "max_height": null,
            "max_width": null,
            "min_height": null,
            "min_width": null,
            "object_fit": null,
            "object_position": null,
            "order": null,
            "overflow": null,
            "overflow_x": null,
            "overflow_y": null,
            "padding": null,
            "right": null,
            "top": null,
            "visibility": null,
            "width": null
          }
        },
        "1c4a3c049be343e0a80ede9736d79427": {
          "model_module": "@jupyter-widgets/controls",
          "model_name": "ProgressStyleModel",
          "model_module_version": "1.5.0",
          "state": {
            "_model_module": "@jupyter-widgets/controls",
            "_model_module_version": "1.5.0",
            "_model_name": "ProgressStyleModel",
            "_view_count": null,
            "_view_module": "@jupyter-widgets/base",
            "_view_module_version": "1.2.0",
            "_view_name": "StyleView",
            "bar_color": null,
            "description_width": ""
          }
        },
        "361d87f7e3b74930b0918dc8fced4b56": {
          "model_module": "@jupyter-widgets/base",
          "model_name": "LayoutModel",
          "model_module_version": "1.2.0",
          "state": {
            "_model_module": "@jupyter-widgets/base",
            "_model_module_version": "1.2.0",
            "_model_name": "LayoutModel",
            "_view_count": null,
            "_view_module": "@jupyter-widgets/base",
            "_view_module_version": "1.2.0",
            "_view_name": "LayoutView",
            "align_content": null,
            "align_items": null,
            "align_self": null,
            "border": null,
            "bottom": null,
            "display": null,
            "flex": null,
            "flex_flow": null,
            "grid_area": null,
            "grid_auto_columns": null,
            "grid_auto_flow": null,
            "grid_auto_rows": null,
            "grid_column": null,
            "grid_gap": null,
            "grid_row": null,
            "grid_template_areas": null,
            "grid_template_columns": null,
            "grid_template_rows": null,
            "height": null,
            "justify_content": null,
            "justify_items": null,
            "left": null,
            "margin": null,
            "max_height": null,
            "max_width": null,
            "min_height": null,
            "min_width": null,
            "object_fit": null,
            "object_position": null,
            "order": null,
            "overflow": null,
            "overflow_x": null,
            "overflow_y": null,
            "padding": null,
            "right": null,
            "top": null,
            "visibility": null,
            "width": null
          }
        },
        "700819135f1f4895a1325242a7916058": {
          "model_module": "@jupyter-widgets/controls",
          "model_name": "DescriptionStyleModel",
          "model_module_version": "1.5.0",
          "state": {
            "_model_module": "@jupyter-widgets/controls",
            "_model_module_version": "1.5.0",
            "_model_name": "DescriptionStyleModel",
            "_view_count": null,
            "_view_module": "@jupyter-widgets/base",
            "_view_module_version": "1.2.0",
            "_view_name": "StyleView",
            "description_width": ""
          }
        },
        "b7efd2cb32e747ecb18cb036ef43dc2a": {
          "model_module": "@jupyter-widgets/controls",
          "model_name": "HBoxModel",
          "model_module_version": "1.5.0",
          "state": {
            "_dom_classes": [],
            "_model_module": "@jupyter-widgets/controls",
            "_model_module_version": "1.5.0",
            "_model_name": "HBoxModel",
            "_view_count": null,
            "_view_module": "@jupyter-widgets/controls",
            "_view_module_version": "1.5.0",
            "_view_name": "HBoxView",
            "box_style": "",
            "children": [
              "IPY_MODEL_623289b8672e40828a6feca5b44c024c",
              "IPY_MODEL_cfcc18469c2e4bc7a8fb2d2d87e1deca",
              "IPY_MODEL_7c0f61e843614dc5a16aa4895a8aea0f"
            ],
            "layout": "IPY_MODEL_c18eb5e03e674c92aea73fca7782f0ec"
          }
        },
        "623289b8672e40828a6feca5b44c024c": {
          "model_module": "@jupyter-widgets/controls",
          "model_name": "HTMLModel",
          "model_module_version": "1.5.0",
          "state": {
            "_dom_classes": [],
            "_model_module": "@jupyter-widgets/controls",
            "_model_module_version": "1.5.0",
            "_model_name": "HTMLModel",
            "_view_count": null,
            "_view_module": "@jupyter-widgets/controls",
            "_view_module_version": "1.5.0",
            "_view_name": "HTMLView",
            "description": "",
            "description_tooltip": null,
            "layout": "IPY_MODEL_482e71e8388a4f07bf5a90f0208c407d",
            "placeholder": "​",
            "style": "IPY_MODEL_6639a80b742a41fb9064fb5d3a6b4c48",
            "value": "Downloading: 100%"
          }
        },
        "cfcc18469c2e4bc7a8fb2d2d87e1deca": {
          "model_module": "@jupyter-widgets/controls",
          "model_name": "FloatProgressModel",
          "model_module_version": "1.5.0",
          "state": {
            "_dom_classes": [],
            "_model_module": "@jupyter-widgets/controls",
            "_model_module_version": "1.5.0",
            "_model_name": "FloatProgressModel",
            "_view_count": null,
            "_view_module": "@jupyter-widgets/controls",
            "_view_module_version": "1.5.0",
            "_view_name": "ProgressView",
            "bar_style": "success",
            "description": "",
            "description_tooltip": null,
            "layout": "IPY_MODEL_36ca358c60d04c97ac55d5b51356f536",
            "max": 344259,
            "min": 0,
            "orientation": "horizontal",
            "style": "IPY_MODEL_f4bd67efc0e34e50a6cd4b85af985d21",
            "value": 344259
          }
        },
        "7c0f61e843614dc5a16aa4895a8aea0f": {
          "model_module": "@jupyter-widgets/controls",
          "model_name": "HTMLModel",
          "model_module_version": "1.5.0",
          "state": {
            "_dom_classes": [],
            "_model_module": "@jupyter-widgets/controls",
            "_model_module_version": "1.5.0",
            "_model_name": "HTMLModel",
            "_view_count": null,
            "_view_module": "@jupyter-widgets/controls",
            "_view_module_version": "1.5.0",
            "_view_name": "HTMLView",
            "description": "",
            "description_tooltip": null,
            "layout": "IPY_MODEL_0b7f3464a07e4caca02ecd768e4fc235",
            "placeholder": "​",
            "style": "IPY_MODEL_3c2c2d301b9149f6a5b559aab3288c6e",
            "value": " 344k/344k [00:00&lt;00:00, 684kB/s]"
          }
        },
        "c18eb5e03e674c92aea73fca7782f0ec": {
          "model_module": "@jupyter-widgets/base",
          "model_name": "LayoutModel",
          "model_module_version": "1.2.0",
          "state": {
            "_model_module": "@jupyter-widgets/base",
            "_model_module_version": "1.2.0",
            "_model_name": "LayoutModel",
            "_view_count": null,
            "_view_module": "@jupyter-widgets/base",
            "_view_module_version": "1.2.0",
            "_view_name": "LayoutView",
            "align_content": null,
            "align_items": null,
            "align_self": null,
            "border": null,
            "bottom": null,
            "display": null,
            "flex": null,
            "flex_flow": null,
            "grid_area": null,
            "grid_auto_columns": null,
            "grid_auto_flow": null,
            "grid_auto_rows": null,
            "grid_column": null,
            "grid_gap": null,
            "grid_row": null,
            "grid_template_areas": null,
            "grid_template_columns": null,
            "grid_template_rows": null,
            "height": null,
            "justify_content": null,
            "justify_items": null,
            "left": null,
            "margin": null,
            "max_height": null,
            "max_width": null,
            "min_height": null,
            "min_width": null,
            "object_fit": null,
            "object_position": null,
            "order": null,
            "overflow": null,
            "overflow_x": null,
            "overflow_y": null,
            "padding": null,
            "right": null,
            "top": null,
            "visibility": null,
            "width": null
          }
        },
        "482e71e8388a4f07bf5a90f0208c407d": {
          "model_module": "@jupyter-widgets/base",
          "model_name": "LayoutModel",
          "model_module_version": "1.2.0",
          "state": {
            "_model_module": "@jupyter-widgets/base",
            "_model_module_version": "1.2.0",
            "_model_name": "LayoutModel",
            "_view_count": null,
            "_view_module": "@jupyter-widgets/base",
            "_view_module_version": "1.2.0",
            "_view_name": "LayoutView",
            "align_content": null,
            "align_items": null,
            "align_self": null,
            "border": null,
            "bottom": null,
            "display": null,
            "flex": null,
            "flex_flow": null,
            "grid_area": null,
            "grid_auto_columns": null,
            "grid_auto_flow": null,
            "grid_auto_rows": null,
            "grid_column": null,
            "grid_gap": null,
            "grid_row": null,
            "grid_template_areas": null,
            "grid_template_columns": null,
            "grid_template_rows": null,
            "height": null,
            "justify_content": null,
            "justify_items": null,
            "left": null,
            "margin": null,
            "max_height": null,
            "max_width": null,
            "min_height": null,
            "min_width": null,
            "object_fit": null,
            "object_position": null,
            "order": null,
            "overflow": null,
            "overflow_x": null,
            "overflow_y": null,
            "padding": null,
            "right": null,
            "top": null,
            "visibility": null,
            "width": null
          }
        },
        "6639a80b742a41fb9064fb5d3a6b4c48": {
          "model_module": "@jupyter-widgets/controls",
          "model_name": "DescriptionStyleModel",
          "model_module_version": "1.5.0",
          "state": {
            "_model_module": "@jupyter-widgets/controls",
            "_model_module_version": "1.5.0",
            "_model_name": "DescriptionStyleModel",
            "_view_count": null,
            "_view_module": "@jupyter-widgets/base",
            "_view_module_version": "1.2.0",
            "_view_name": "StyleView",
            "description_width": ""
          }
        },
        "36ca358c60d04c97ac55d5b51356f536": {
          "model_module": "@jupyter-widgets/base",
          "model_name": "LayoutModel",
          "model_module_version": "1.2.0",
          "state": {
            "_model_module": "@jupyter-widgets/base",
            "_model_module_version": "1.2.0",
            "_model_name": "LayoutModel",
            "_view_count": null,
            "_view_module": "@jupyter-widgets/base",
            "_view_module_version": "1.2.0",
            "_view_name": "LayoutView",
            "align_content": null,
            "align_items": null,
            "align_self": null,
            "border": null,
            "bottom": null,
            "display": null,
            "flex": null,
            "flex_flow": null,
            "grid_area": null,
            "grid_auto_columns": null,
            "grid_auto_flow": null,
            "grid_auto_rows": null,
            "grid_column": null,
            "grid_gap": null,
            "grid_row": null,
            "grid_template_areas": null,
            "grid_template_columns": null,
            "grid_template_rows": null,
            "height": null,
            "justify_content": null,
            "justify_items": null,
            "left": null,
            "margin": null,
            "max_height": null,
            "max_width": null,
            "min_height": null,
            "min_width": null,
            "object_fit": null,
            "object_position": null,
            "order": null,
            "overflow": null,
            "overflow_x": null,
            "overflow_y": null,
            "padding": null,
            "right": null,
            "top": null,
            "visibility": null,
            "width": null
          }
        },
        "f4bd67efc0e34e50a6cd4b85af985d21": {
          "model_module": "@jupyter-widgets/controls",
          "model_name": "ProgressStyleModel",
          "model_module_version": "1.5.0",
          "state": {
            "_model_module": "@jupyter-widgets/controls",
            "_model_module_version": "1.5.0",
            "_model_name": "ProgressStyleModel",
            "_view_count": null,
            "_view_module": "@jupyter-widgets/base",
            "_view_module_version": "1.2.0",
            "_view_name": "StyleView",
            "bar_color": null,
            "description_width": ""
          }
        },
        "0b7f3464a07e4caca02ecd768e4fc235": {
          "model_module": "@jupyter-widgets/base",
          "model_name": "LayoutModel",
          "model_module_version": "1.2.0",
          "state": {
            "_model_module": "@jupyter-widgets/base",
            "_model_module_version": "1.2.0",
            "_model_name": "LayoutModel",
            "_view_count": null,
            "_view_module": "@jupyter-widgets/base",
            "_view_module_version": "1.2.0",
            "_view_name": "LayoutView",
            "align_content": null,
            "align_items": null,
            "align_self": null,
            "border": null,
            "bottom": null,
            "display": null,
            "flex": null,
            "flex_flow": null,
            "grid_area": null,
            "grid_auto_columns": null,
            "grid_auto_flow": null,
            "grid_auto_rows": null,
            "grid_column": null,
            "grid_gap": null,
            "grid_row": null,
            "grid_template_areas": null,
            "grid_template_columns": null,
            "grid_template_rows": null,
            "height": null,
            "justify_content": null,
            "justify_items": null,
            "left": null,
            "margin": null,
            "max_height": null,
            "max_width": null,
            "min_height": null,
            "min_width": null,
            "object_fit": null,
            "object_position": null,
            "order": null,
            "overflow": null,
            "overflow_x": null,
            "overflow_y": null,
            "padding": null,
            "right": null,
            "top": null,
            "visibility": null,
            "width": null
          }
        },
        "3c2c2d301b9149f6a5b559aab3288c6e": {
          "model_module": "@jupyter-widgets/controls",
          "model_name": "DescriptionStyleModel",
          "model_module_version": "1.5.0",
          "state": {
            "_model_module": "@jupyter-widgets/controls",
            "_model_module_version": "1.5.0",
            "_model_name": "DescriptionStyleModel",
            "_view_count": null,
            "_view_module": "@jupyter-widgets/base",
            "_view_module_version": "1.2.0",
            "_view_name": "StyleView",
            "description_width": ""
          }
        },
        "c95000569fc247bb927f82dec6c613a1": {
          "model_module": "@jupyter-widgets/controls",
          "model_name": "HBoxModel",
          "model_module_version": "1.5.0",
          "state": {
            "_dom_classes": [],
            "_model_module": "@jupyter-widgets/controls",
            "_model_module_version": "1.5.0",
            "_model_name": "HBoxModel",
            "_view_count": null,
            "_view_module": "@jupyter-widgets/controls",
            "_view_module_version": "1.5.0",
            "_view_name": "HBoxView",
            "box_style": "",
            "children": [
              "IPY_MODEL_745b021c6ff04cd1971a52b4976eb248",
              "IPY_MODEL_59853f6152a24a1ba46d71f5efc60b87",
              "IPY_MODEL_cf3952ddc5d640c9aecb8af5ca7ee150"
            ],
            "layout": "IPY_MODEL_685ef703757c4649985b07b61d3c81cd"
          }
        },
        "745b021c6ff04cd1971a52b4976eb248": {
          "model_module": "@jupyter-widgets/controls",
          "model_name": "HTMLModel",
          "model_module_version": "1.5.0",
          "state": {
            "_dom_classes": [],
            "_model_module": "@jupyter-widgets/controls",
            "_model_module_version": "1.5.0",
            "_model_name": "HTMLModel",
            "_view_count": null,
            "_view_module": "@jupyter-widgets/controls",
            "_view_module_version": "1.5.0",
            "_view_name": "HTMLView",
            "description": "",
            "description_tooltip": null,
            "layout": "IPY_MODEL_b39c655676d744d1806c38769dc52422",
            "placeholder": "​",
            "style": "IPY_MODEL_0213dc66dfbf4a0b874024229b1d2fa2",
            "value": "100%"
          }
        },
        "59853f6152a24a1ba46d71f5efc60b87": {
          "model_module": "@jupyter-widgets/controls",
          "model_name": "FloatProgressModel",
          "model_module_version": "1.5.0",
          "state": {
            "_dom_classes": [],
            "_model_module": "@jupyter-widgets/controls",
            "_model_module_version": "1.5.0",
            "_model_name": "FloatProgressModel",
            "_view_count": null,
            "_view_module": "@jupyter-widgets/controls",
            "_view_module_version": "1.5.0",
            "_view_name": "ProgressView",
            "bar_style": "success",
            "description": "",
            "description_tooltip": null,
            "layout": "IPY_MODEL_cdd7cdfc193b4f9ebd44df9e4beff470",
            "max": 3001,
            "min": 0,
            "orientation": "horizontal",
            "style": "IPY_MODEL_01d3da1e2c7e4e009f20e6a3e8bb4291",
            "value": 3001
          }
        },
        "cf3952ddc5d640c9aecb8af5ca7ee150": {
          "model_module": "@jupyter-widgets/controls",
          "model_name": "HTMLModel",
          "model_module_version": "1.5.0",
          "state": {
            "_dom_classes": [],
            "_model_module": "@jupyter-widgets/controls",
            "_model_module_version": "1.5.0",
            "_model_name": "HTMLModel",
            "_view_count": null,
            "_view_module": "@jupyter-widgets/controls",
            "_view_module_version": "1.5.0",
            "_view_name": "HTMLView",
            "description": "",
            "description_tooltip": null,
            "layout": "IPY_MODEL_95c0e012c2e44257858edfe155ca2aec",
            "placeholder": "​",
            "style": "IPY_MODEL_689b530ba29d488e82e9b2ef3d0ee394",
            "value": " 3001/3001 [00:01&lt;00:00, 2349.77it/s]"
          }
        },
        "685ef703757c4649985b07b61d3c81cd": {
          "model_module": "@jupyter-widgets/base",
          "model_name": "LayoutModel",
          "model_module_version": "1.2.0",
          "state": {
            "_model_module": "@jupyter-widgets/base",
            "_model_module_version": "1.2.0",
            "_model_name": "LayoutModel",
            "_view_count": null,
            "_view_module": "@jupyter-widgets/base",
            "_view_module_version": "1.2.0",
            "_view_name": "LayoutView",
            "align_content": null,
            "align_items": null,
            "align_self": null,
            "border": null,
            "bottom": null,
            "display": null,
            "flex": null,
            "flex_flow": null,
            "grid_area": null,
            "grid_auto_columns": null,
            "grid_auto_flow": null,
            "grid_auto_rows": null,
            "grid_column": null,
            "grid_gap": null,
            "grid_row": null,
            "grid_template_areas": null,
            "grid_template_columns": null,
            "grid_template_rows": null,
            "height": null,
            "justify_content": null,
            "justify_items": null,
            "left": null,
            "margin": null,
            "max_height": null,
            "max_width": null,
            "min_height": null,
            "min_width": null,
            "object_fit": null,
            "object_position": null,
            "order": null,
            "overflow": null,
            "overflow_x": null,
            "overflow_y": null,
            "padding": null,
            "right": null,
            "top": null,
            "visibility": null,
            "width": null
          }
        },
        "b39c655676d744d1806c38769dc52422": {
          "model_module": "@jupyter-widgets/base",
          "model_name": "LayoutModel",
          "model_module_version": "1.2.0",
          "state": {
            "_model_module": "@jupyter-widgets/base",
            "_model_module_version": "1.2.0",
            "_model_name": "LayoutModel",
            "_view_count": null,
            "_view_module": "@jupyter-widgets/base",
            "_view_module_version": "1.2.0",
            "_view_name": "LayoutView",
            "align_content": null,
            "align_items": null,
            "align_self": null,
            "border": null,
            "bottom": null,
            "display": null,
            "flex": null,
            "flex_flow": null,
            "grid_area": null,
            "grid_auto_columns": null,
            "grid_auto_flow": null,
            "grid_auto_rows": null,
            "grid_column": null,
            "grid_gap": null,
            "grid_row": null,
            "grid_template_areas": null,
            "grid_template_columns": null,
            "grid_template_rows": null,
            "height": null,
            "justify_content": null,
            "justify_items": null,
            "left": null,
            "margin": null,
            "max_height": null,
            "max_width": null,
            "min_height": null,
            "min_width": null,
            "object_fit": null,
            "object_position": null,
            "order": null,
            "overflow": null,
            "overflow_x": null,
            "overflow_y": null,
            "padding": null,
            "right": null,
            "top": null,
            "visibility": null,
            "width": null
          }
        },
        "0213dc66dfbf4a0b874024229b1d2fa2": {
          "model_module": "@jupyter-widgets/controls",
          "model_name": "DescriptionStyleModel",
          "model_module_version": "1.5.0",
          "state": {
            "_model_module": "@jupyter-widgets/controls",
            "_model_module_version": "1.5.0",
            "_model_name": "DescriptionStyleModel",
            "_view_count": null,
            "_view_module": "@jupyter-widgets/base",
            "_view_module_version": "1.2.0",
            "_view_name": "StyleView",
            "description_width": ""
          }
        },
        "cdd7cdfc193b4f9ebd44df9e4beff470": {
          "model_module": "@jupyter-widgets/base",
          "model_name": "LayoutModel",
          "model_module_version": "1.2.0",
          "state": {
            "_model_module": "@jupyter-widgets/base",
            "_model_module_version": "1.2.0",
            "_model_name": "LayoutModel",
            "_view_count": null,
            "_view_module": "@jupyter-widgets/base",
            "_view_module_version": "1.2.0",
            "_view_name": "LayoutView",
            "align_content": null,
            "align_items": null,
            "align_self": null,
            "border": null,
            "bottom": null,
            "display": null,
            "flex": null,
            "flex_flow": null,
            "grid_area": null,
            "grid_auto_columns": null,
            "grid_auto_flow": null,
            "grid_auto_rows": null,
            "grid_column": null,
            "grid_gap": null,
            "grid_row": null,
            "grid_template_areas": null,
            "grid_template_columns": null,
            "grid_template_rows": null,
            "height": null,
            "justify_content": null,
            "justify_items": null,
            "left": null,
            "margin": null,
            "max_height": null,
            "max_width": null,
            "min_height": null,
            "min_width": null,
            "object_fit": null,
            "object_position": null,
            "order": null,
            "overflow": null,
            "overflow_x": null,
            "overflow_y": null,
            "padding": null,
            "right": null,
            "top": null,
            "visibility": null,
            "width": null
          }
        },
        "01d3da1e2c7e4e009f20e6a3e8bb4291": {
          "model_module": "@jupyter-widgets/controls",
          "model_name": "ProgressStyleModel",
          "model_module_version": "1.5.0",
          "state": {
            "_model_module": "@jupyter-widgets/controls",
            "_model_module_version": "1.5.0",
            "_model_name": "ProgressStyleModel",
            "_view_count": null,
            "_view_module": "@jupyter-widgets/base",
            "_view_module_version": "1.2.0",
            "_view_name": "StyleView",
            "bar_color": null,
            "description_width": ""
          }
        },
        "95c0e012c2e44257858edfe155ca2aec": {
          "model_module": "@jupyter-widgets/base",
          "model_name": "LayoutModel",
          "model_module_version": "1.2.0",
          "state": {
            "_model_module": "@jupyter-widgets/base",
            "_model_module_version": "1.2.0",
            "_model_name": "LayoutModel",
            "_view_count": null,
            "_view_module": "@jupyter-widgets/base",
            "_view_module_version": "1.2.0",
            "_view_name": "LayoutView",
            "align_content": null,
            "align_items": null,
            "align_self": null,
            "border": null,
            "bottom": null,
            "display": null,
            "flex": null,
            "flex_flow": null,
            "grid_area": null,
            "grid_auto_columns": null,
            "grid_auto_flow": null,
            "grid_auto_rows": null,
            "grid_column": null,
            "grid_gap": null,
            "grid_row": null,
            "grid_template_areas": null,
            "grid_template_columns": null,
            "grid_template_rows": null,
            "height": null,
            "justify_content": null,
            "justify_items": null,
            "left": null,
            "margin": null,
            "max_height": null,
            "max_width": null,
            "min_height": null,
            "min_width": null,
            "object_fit": null,
            "object_position": null,
            "order": null,
            "overflow": null,
            "overflow_x": null,
            "overflow_y": null,
            "padding": null,
            "right": null,
            "top": null,
            "visibility": null,
            "width": null
          }
        },
        "689b530ba29d488e82e9b2ef3d0ee394": {
          "model_module": "@jupyter-widgets/controls",
          "model_name": "DescriptionStyleModel",
          "model_module_version": "1.5.0",
          "state": {
            "_model_module": "@jupyter-widgets/controls",
            "_model_module_version": "1.5.0",
            "_model_name": "DescriptionStyleModel",
            "_view_count": null,
            "_view_module": "@jupyter-widgets/base",
            "_view_module_version": "1.2.0",
            "_view_name": "StyleView",
            "description_width": ""
          }
        },
        "d2f54db6cfe547a5bce6e4b6a3d75868": {
          "model_module": "@jupyter-widgets/controls",
          "model_name": "HBoxModel",
          "model_module_version": "1.5.0",
          "state": {
            "_dom_classes": [],
            "_model_module": "@jupyter-widgets/controls",
            "_model_module_version": "1.5.0",
            "_model_name": "HBoxModel",
            "_view_count": null,
            "_view_module": "@jupyter-widgets/controls",
            "_view_module_version": "1.5.0",
            "_view_name": "HBoxView",
            "box_style": "",
            "children": [
              "IPY_MODEL_aa59a703ac4642d5b7182da3a09bbb06",
              "IPY_MODEL_d54a0c298dc2426fab06eaa4bde21fba",
              "IPY_MODEL_72f9707d17bf47caa0efdf4a6d8089e6"
            ],
            "layout": "IPY_MODEL_fa5a5798835045e795518a058bf836ae"
          }
        },
        "aa59a703ac4642d5b7182da3a09bbb06": {
          "model_module": "@jupyter-widgets/controls",
          "model_name": "HTMLModel",
          "model_module_version": "1.5.0",
          "state": {
            "_dom_classes": [],
            "_model_module": "@jupyter-widgets/controls",
            "_model_module_version": "1.5.0",
            "_model_name": "HTMLModel",
            "_view_count": null,
            "_view_module": "@jupyter-widgets/controls",
            "_view_module_version": "1.5.0",
            "_view_name": "HTMLView",
            "description": "",
            "description_tooltip": null,
            "layout": "IPY_MODEL_9ee401a2f45d484992b19f95f6b8c27b",
            "placeholder": "​",
            "style": "IPY_MODEL_0ca0909660d34a179e424b21bdb33056",
            "value": "Downloading: 100%"
          }
        },
        "d54a0c298dc2426fab06eaa4bde21fba": {
          "model_module": "@jupyter-widgets/controls",
          "model_name": "FloatProgressModel",
          "model_module_version": "1.5.0",
          "state": {
            "_dom_classes": [],
            "_model_module": "@jupyter-widgets/controls",
            "_model_module_version": "1.5.0",
            "_model_name": "FloatProgressModel",
            "_view_count": null,
            "_view_module": "@jupyter-widgets/controls",
            "_view_module_version": "1.5.0",
            "_view_name": "ProgressView",
            "bar_style": "success",
            "description": "",
            "description_tooltip": null,
            "layout": "IPY_MODEL_2a33f3ae3204488abf2ebd116428eac0",
            "max": 725,
            "min": 0,
            "orientation": "horizontal",
            "style": "IPY_MODEL_4c662e4bfa664f2eb9dea0cf7c4bcd47",
            "value": 725
          }
        },
        "72f9707d17bf47caa0efdf4a6d8089e6": {
          "model_module": "@jupyter-widgets/controls",
          "model_name": "HTMLModel",
          "model_module_version": "1.5.0",
          "state": {
            "_dom_classes": [],
            "_model_module": "@jupyter-widgets/controls",
            "_model_module_version": "1.5.0",
            "_model_name": "HTMLModel",
            "_view_count": null,
            "_view_module": "@jupyter-widgets/controls",
            "_view_module_version": "1.5.0",
            "_view_name": "HTMLView",
            "description": "",
            "description_tooltip": null,
            "layout": "IPY_MODEL_66ac77f42cd045189878e9e44099e4c8",
            "placeholder": "​",
            "style": "IPY_MODEL_8dd27537e6874aa1b00d1013a2c12c30",
            "value": " 725/725 [00:00&lt;00:00, 23.7kB/s]"
          }
        },
        "fa5a5798835045e795518a058bf836ae": {
          "model_module": "@jupyter-widgets/base",
          "model_name": "LayoutModel",
          "model_module_version": "1.2.0",
          "state": {
            "_model_module": "@jupyter-widgets/base",
            "_model_module_version": "1.2.0",
            "_model_name": "LayoutModel",
            "_view_count": null,
            "_view_module": "@jupyter-widgets/base",
            "_view_module_version": "1.2.0",
            "_view_name": "LayoutView",
            "align_content": null,
            "align_items": null,
            "align_self": null,
            "border": null,
            "bottom": null,
            "display": null,
            "flex": null,
            "flex_flow": null,
            "grid_area": null,
            "grid_auto_columns": null,
            "grid_auto_flow": null,
            "grid_auto_rows": null,
            "grid_column": null,
            "grid_gap": null,
            "grid_row": null,
            "grid_template_areas": null,
            "grid_template_columns": null,
            "grid_template_rows": null,
            "height": null,
            "justify_content": null,
            "justify_items": null,
            "left": null,
            "margin": null,
            "max_height": null,
            "max_width": null,
            "min_height": null,
            "min_width": null,
            "object_fit": null,
            "object_position": null,
            "order": null,
            "overflow": null,
            "overflow_x": null,
            "overflow_y": null,
            "padding": null,
            "right": null,
            "top": null,
            "visibility": null,
            "width": null
          }
        },
        "9ee401a2f45d484992b19f95f6b8c27b": {
          "model_module": "@jupyter-widgets/base",
          "model_name": "LayoutModel",
          "model_module_version": "1.2.0",
          "state": {
            "_model_module": "@jupyter-widgets/base",
            "_model_module_version": "1.2.0",
            "_model_name": "LayoutModel",
            "_view_count": null,
            "_view_module": "@jupyter-widgets/base",
            "_view_module_version": "1.2.0",
            "_view_name": "LayoutView",
            "align_content": null,
            "align_items": null,
            "align_self": null,
            "border": null,
            "bottom": null,
            "display": null,
            "flex": null,
            "flex_flow": null,
            "grid_area": null,
            "grid_auto_columns": null,
            "grid_auto_flow": null,
            "grid_auto_rows": null,
            "grid_column": null,
            "grid_gap": null,
            "grid_row": null,
            "grid_template_areas": null,
            "grid_template_columns": null,
            "grid_template_rows": null,
            "height": null,
            "justify_content": null,
            "justify_items": null,
            "left": null,
            "margin": null,
            "max_height": null,
            "max_width": null,
            "min_height": null,
            "min_width": null,
            "object_fit": null,
            "object_position": null,
            "order": null,
            "overflow": null,
            "overflow_x": null,
            "overflow_y": null,
            "padding": null,
            "right": null,
            "top": null,
            "visibility": null,
            "width": null
          }
        },
        "0ca0909660d34a179e424b21bdb33056": {
          "model_module": "@jupyter-widgets/controls",
          "model_name": "DescriptionStyleModel",
          "model_module_version": "1.5.0",
          "state": {
            "_model_module": "@jupyter-widgets/controls",
            "_model_module_version": "1.5.0",
            "_model_name": "DescriptionStyleModel",
            "_view_count": null,
            "_view_module": "@jupyter-widgets/base",
            "_view_module_version": "1.2.0",
            "_view_name": "StyleView",
            "description_width": ""
          }
        },
        "2a33f3ae3204488abf2ebd116428eac0": {
          "model_module": "@jupyter-widgets/base",
          "model_name": "LayoutModel",
          "model_module_version": "1.2.0",
          "state": {
            "_model_module": "@jupyter-widgets/base",
            "_model_module_version": "1.2.0",
            "_model_name": "LayoutModel",
            "_view_count": null,
            "_view_module": "@jupyter-widgets/base",
            "_view_module_version": "1.2.0",
            "_view_name": "LayoutView",
            "align_content": null,
            "align_items": null,
            "align_self": null,
            "border": null,
            "bottom": null,
            "display": null,
            "flex": null,
            "flex_flow": null,
            "grid_area": null,
            "grid_auto_columns": null,
            "grid_auto_flow": null,
            "grid_auto_rows": null,
            "grid_column": null,
            "grid_gap": null,
            "grid_row": null,
            "grid_template_areas": null,
            "grid_template_columns": null,
            "grid_template_rows": null,
            "height": null,
            "justify_content": null,
            "justify_items": null,
            "left": null,
            "margin": null,
            "max_height": null,
            "max_width": null,
            "min_height": null,
            "min_width": null,
            "object_fit": null,
            "object_position": null,
            "order": null,
            "overflow": null,
            "overflow_x": null,
            "overflow_y": null,
            "padding": null,
            "right": null,
            "top": null,
            "visibility": null,
            "width": null
          }
        },
        "4c662e4bfa664f2eb9dea0cf7c4bcd47": {
          "model_module": "@jupyter-widgets/controls",
          "model_name": "ProgressStyleModel",
          "model_module_version": "1.5.0",
          "state": {
            "_model_module": "@jupyter-widgets/controls",
            "_model_module_version": "1.5.0",
            "_model_name": "ProgressStyleModel",
            "_view_count": null,
            "_view_module": "@jupyter-widgets/base",
            "_view_module_version": "1.2.0",
            "_view_name": "StyleView",
            "bar_color": null,
            "description_width": ""
          }
        },
        "66ac77f42cd045189878e9e44099e4c8": {
          "model_module": "@jupyter-widgets/base",
          "model_name": "LayoutModel",
          "model_module_version": "1.2.0",
          "state": {
            "_model_module": "@jupyter-widgets/base",
            "_model_module_version": "1.2.0",
            "_model_name": "LayoutModel",
            "_view_count": null,
            "_view_module": "@jupyter-widgets/base",
            "_view_module_version": "1.2.0",
            "_view_name": "LayoutView",
            "align_content": null,
            "align_items": null,
            "align_self": null,
            "border": null,
            "bottom": null,
            "display": null,
            "flex": null,
            "flex_flow": null,
            "grid_area": null,
            "grid_auto_columns": null,
            "grid_auto_flow": null,
            "grid_auto_rows": null,
            "grid_column": null,
            "grid_gap": null,
            "grid_row": null,
            "grid_template_areas": null,
            "grid_template_columns": null,
            "grid_template_rows": null,
            "height": null,
            "justify_content": null,
            "justify_items": null,
            "left": null,
            "margin": null,
            "max_height": null,
            "max_width": null,
            "min_height": null,
            "min_width": null,
            "object_fit": null,
            "object_position": null,
            "order": null,
            "overflow": null,
            "overflow_x": null,
            "overflow_y": null,
            "padding": null,
            "right": null,
            "top": null,
            "visibility": null,
            "width": null
          }
        },
        "8dd27537e6874aa1b00d1013a2c12c30": {
          "model_module": "@jupyter-widgets/controls",
          "model_name": "DescriptionStyleModel",
          "model_module_version": "1.5.0",
          "state": {
            "_model_module": "@jupyter-widgets/controls",
            "_model_module_version": "1.5.0",
            "_model_name": "DescriptionStyleModel",
            "_view_count": null,
            "_view_module": "@jupyter-widgets/base",
            "_view_module_version": "1.2.0",
            "_view_name": "StyleView",
            "description_width": ""
          }
        },
        "a764de7357fe46169a0512f38f683576": {
          "model_module": "@jupyter-widgets/controls",
          "model_name": "HBoxModel",
          "model_module_version": "1.5.0",
          "state": {
            "_dom_classes": [],
            "_model_module": "@jupyter-widgets/controls",
            "_model_module_version": "1.5.0",
            "_model_name": "HBoxModel",
            "_view_count": null,
            "_view_module": "@jupyter-widgets/controls",
            "_view_module_version": "1.5.0",
            "_view_name": "HBoxView",
            "box_style": "",
            "children": [
              "IPY_MODEL_49bbac03a4bb4bd59589b61c4ca84fb2",
              "IPY_MODEL_08cd4336e4be4b9fa2e38003ccee8621",
              "IPY_MODEL_b028476700cf4a61891fde281043c8ad"
            ],
            "layout": "IPY_MODEL_87f2f7285fc14a31aff16021a045cda6"
          }
        },
        "49bbac03a4bb4bd59589b61c4ca84fb2": {
          "model_module": "@jupyter-widgets/controls",
          "model_name": "HTMLModel",
          "model_module_version": "1.5.0",
          "state": {
            "_dom_classes": [],
            "_model_module": "@jupyter-widgets/controls",
            "_model_module_version": "1.5.0",
            "_model_name": "HTMLModel",
            "_view_count": null,
            "_view_module": "@jupyter-widgets/controls",
            "_view_module_version": "1.5.0",
            "_view_name": "HTMLView",
            "description": "",
            "description_tooltip": null,
            "layout": "IPY_MODEL_f550901d33c74da3ae2b1962f591068e",
            "placeholder": "​",
            "style": "IPY_MODEL_157f7d6c8c8a491394844eeb600f658f",
            "value": "Downloading: 100%"
          }
        },
        "08cd4336e4be4b9fa2e38003ccee8621": {
          "model_module": "@jupyter-widgets/controls",
          "model_name": "FloatProgressModel",
          "model_module_version": "1.5.0",
          "state": {
            "_dom_classes": [],
            "_model_module": "@jupyter-widgets/controls",
            "_model_module_version": "1.5.0",
            "_model_name": "FloatProgressModel",
            "_view_count": null,
            "_view_module": "@jupyter-widgets/controls",
            "_view_module_version": "1.5.0",
            "_view_name": "ProgressView",
            "bar_style": "success",
            "description": "",
            "description_tooltip": null,
            "layout": "IPY_MODEL_7f50a602133e4f82985b58e1606f7523",
            "max": 475782997,
            "min": 0,
            "orientation": "horizontal",
            "style": "IPY_MODEL_5e6d3f86b1a74591bcb516e148297c5d",
            "value": 475782997
          }
        },
        "b028476700cf4a61891fde281043c8ad": {
          "model_module": "@jupyter-widgets/controls",
          "model_name": "HTMLModel",
          "model_module_version": "1.5.0",
          "state": {
            "_dom_classes": [],
            "_model_module": "@jupyter-widgets/controls",
            "_model_module_version": "1.5.0",
            "_model_name": "HTMLModel",
            "_view_count": null,
            "_view_module": "@jupyter-widgets/controls",
            "_view_module_version": "1.5.0",
            "_view_name": "HTMLView",
            "description": "",
            "description_tooltip": null,
            "layout": "IPY_MODEL_91bd55fadb144feea3f4cd68e3d5bc7c",
            "placeholder": "​",
            "style": "IPY_MODEL_dfab48266feb424ca4a3afbae9ff6e89",
            "value": " 476M/476M [00:08&lt;00:00, 61.2MB/s]"
          }
        },
        "87f2f7285fc14a31aff16021a045cda6": {
          "model_module": "@jupyter-widgets/base",
          "model_name": "LayoutModel",
          "model_module_version": "1.2.0",
          "state": {
            "_model_module": "@jupyter-widgets/base",
            "_model_module_version": "1.2.0",
            "_model_name": "LayoutModel",
            "_view_count": null,
            "_view_module": "@jupyter-widgets/base",
            "_view_module_version": "1.2.0",
            "_view_name": "LayoutView",
            "align_content": null,
            "align_items": null,
            "align_self": null,
            "border": null,
            "bottom": null,
            "display": null,
            "flex": null,
            "flex_flow": null,
            "grid_area": null,
            "grid_auto_columns": null,
            "grid_auto_flow": null,
            "grid_auto_rows": null,
            "grid_column": null,
            "grid_gap": null,
            "grid_row": null,
            "grid_template_areas": null,
            "grid_template_columns": null,
            "grid_template_rows": null,
            "height": null,
            "justify_content": null,
            "justify_items": null,
            "left": null,
            "margin": null,
            "max_height": null,
            "max_width": null,
            "min_height": null,
            "min_width": null,
            "object_fit": null,
            "object_position": null,
            "order": null,
            "overflow": null,
            "overflow_x": null,
            "overflow_y": null,
            "padding": null,
            "right": null,
            "top": null,
            "visibility": null,
            "width": null
          }
        },
        "f550901d33c74da3ae2b1962f591068e": {
          "model_module": "@jupyter-widgets/base",
          "model_name": "LayoutModel",
          "model_module_version": "1.2.0",
          "state": {
            "_model_module": "@jupyter-widgets/base",
            "_model_module_version": "1.2.0",
            "_model_name": "LayoutModel",
            "_view_count": null,
            "_view_module": "@jupyter-widgets/base",
            "_view_module_version": "1.2.0",
            "_view_name": "LayoutView",
            "align_content": null,
            "align_items": null,
            "align_self": null,
            "border": null,
            "bottom": null,
            "display": null,
            "flex": null,
            "flex_flow": null,
            "grid_area": null,
            "grid_auto_columns": null,
            "grid_auto_flow": null,
            "grid_auto_rows": null,
            "grid_column": null,
            "grid_gap": null,
            "grid_row": null,
            "grid_template_areas": null,
            "grid_template_columns": null,
            "grid_template_rows": null,
            "height": null,
            "justify_content": null,
            "justify_items": null,
            "left": null,
            "margin": null,
            "max_height": null,
            "max_width": null,
            "min_height": null,
            "min_width": null,
            "object_fit": null,
            "object_position": null,
            "order": null,
            "overflow": null,
            "overflow_x": null,
            "overflow_y": null,
            "padding": null,
            "right": null,
            "top": null,
            "visibility": null,
            "width": null
          }
        },
        "157f7d6c8c8a491394844eeb600f658f": {
          "model_module": "@jupyter-widgets/controls",
          "model_name": "DescriptionStyleModel",
          "model_module_version": "1.5.0",
          "state": {
            "_model_module": "@jupyter-widgets/controls",
            "_model_module_version": "1.5.0",
            "_model_name": "DescriptionStyleModel",
            "_view_count": null,
            "_view_module": "@jupyter-widgets/base",
            "_view_module_version": "1.2.0",
            "_view_name": "StyleView",
            "description_width": ""
          }
        },
        "7f50a602133e4f82985b58e1606f7523": {
          "model_module": "@jupyter-widgets/base",
          "model_name": "LayoutModel",
          "model_module_version": "1.2.0",
          "state": {
            "_model_module": "@jupyter-widgets/base",
            "_model_module_version": "1.2.0",
            "_model_name": "LayoutModel",
            "_view_count": null,
            "_view_module": "@jupyter-widgets/base",
            "_view_module_version": "1.2.0",
            "_view_name": "LayoutView",
            "align_content": null,
            "align_items": null,
            "align_self": null,
            "border": null,
            "bottom": null,
            "display": null,
            "flex": null,
            "flex_flow": null,
            "grid_area": null,
            "grid_auto_columns": null,
            "grid_auto_flow": null,
            "grid_auto_rows": null,
            "grid_column": null,
            "grid_gap": null,
            "grid_row": null,
            "grid_template_areas": null,
            "grid_template_columns": null,
            "grid_template_rows": null,
            "height": null,
            "justify_content": null,
            "justify_items": null,
            "left": null,
            "margin": null,
            "max_height": null,
            "max_width": null,
            "min_height": null,
            "min_width": null,
            "object_fit": null,
            "object_position": null,
            "order": null,
            "overflow": null,
            "overflow_x": null,
            "overflow_y": null,
            "padding": null,
            "right": null,
            "top": null,
            "visibility": null,
            "width": null
          }
        },
        "5e6d3f86b1a74591bcb516e148297c5d": {
          "model_module": "@jupyter-widgets/controls",
          "model_name": "ProgressStyleModel",
          "model_module_version": "1.5.0",
          "state": {
            "_model_module": "@jupyter-widgets/controls",
            "_model_module_version": "1.5.0",
            "_model_name": "ProgressStyleModel",
            "_view_count": null,
            "_view_module": "@jupyter-widgets/base",
            "_view_module_version": "1.2.0",
            "_view_name": "StyleView",
            "bar_color": null,
            "description_width": ""
          }
        },
        "91bd55fadb144feea3f4cd68e3d5bc7c": {
          "model_module": "@jupyter-widgets/base",
          "model_name": "LayoutModel",
          "model_module_version": "1.2.0",
          "state": {
            "_model_module": "@jupyter-widgets/base",
            "_model_module_version": "1.2.0",
            "_model_name": "LayoutModel",
            "_view_count": null,
            "_view_module": "@jupyter-widgets/base",
            "_view_module_version": "1.2.0",
            "_view_name": "LayoutView",
            "align_content": null,
            "align_items": null,
            "align_self": null,
            "border": null,
            "bottom": null,
            "display": null,
            "flex": null,
            "flex_flow": null,
            "grid_area": null,
            "grid_auto_columns": null,
            "grid_auto_flow": null,
            "grid_auto_rows": null,
            "grid_column": null,
            "grid_gap": null,
            "grid_row": null,
            "grid_template_areas": null,
            "grid_template_columns": null,
            "grid_template_rows": null,
            "height": null,
            "justify_content": null,
            "justify_items": null,
            "left": null,
            "margin": null,
            "max_height": null,
            "max_width": null,
            "min_height": null,
            "min_width": null,
            "object_fit": null,
            "object_position": null,
            "order": null,
            "overflow": null,
            "overflow_x": null,
            "overflow_y": null,
            "padding": null,
            "right": null,
            "top": null,
            "visibility": null,
            "width": null
          }
        },
        "dfab48266feb424ca4a3afbae9ff6e89": {
          "model_module": "@jupyter-widgets/controls",
          "model_name": "DescriptionStyleModel",
          "model_module_version": "1.5.0",
          "state": {
            "_model_module": "@jupyter-widgets/controls",
            "_model_module_version": "1.5.0",
            "_model_name": "DescriptionStyleModel",
            "_view_count": null,
            "_view_module": "@jupyter-widgets/base",
            "_view_module_version": "1.2.0",
            "_view_name": "StyleView",
            "description_width": ""
          }
        },
        "e65d3b3c164d44dfaf1417e1aece2b90": {
          "model_module": "@jupyter-widgets/controls",
          "model_name": "HBoxModel",
          "model_module_version": "1.5.0",
          "state": {
            "_dom_classes": [],
            "_model_module": "@jupyter-widgets/controls",
            "_model_module_version": "1.5.0",
            "_model_name": "HBoxModel",
            "_view_count": null,
            "_view_module": "@jupyter-widgets/controls",
            "_view_module_version": "1.5.0",
            "_view_name": "HBoxView",
            "box_style": "",
            "children": [
              "IPY_MODEL_4781f65dfb6e4622bd2e168a4424b7b3",
              "IPY_MODEL_5f4c7333ddf5482281c61a158f932f07",
              "IPY_MODEL_5e6700272a47466fbfad3ac7478edae1"
            ],
            "layout": "IPY_MODEL_9294d3fe459e4a3c862f27d5870a4054"
          }
        },
        "4781f65dfb6e4622bd2e168a4424b7b3": {
          "model_module": "@jupyter-widgets/controls",
          "model_name": "HTMLModel",
          "model_module_version": "1.5.0",
          "state": {
            "_dom_classes": [],
            "_model_module": "@jupyter-widgets/controls",
            "_model_module_version": "1.5.0",
            "_model_name": "HTMLModel",
            "_view_count": null,
            "_view_module": "@jupyter-widgets/controls",
            "_view_module_version": "1.5.0",
            "_view_name": "HTMLView",
            "description": "",
            "description_tooltip": null,
            "layout": "IPY_MODEL_e80c0ed1fbd44d2599c652a379942333",
            "placeholder": "​",
            "style": "IPY_MODEL_e006a32d9f4b4b7a803522b1ffeb21e5",
            "value": "Downloading: 100%"
          }
        },
        "5f4c7333ddf5482281c61a158f932f07": {
          "model_module": "@jupyter-widgets/controls",
          "model_name": "FloatProgressModel",
          "model_module_version": "1.5.0",
          "state": {
            "_dom_classes": [],
            "_model_module": "@jupyter-widgets/controls",
            "_model_module_version": "1.5.0",
            "_model_name": "FloatProgressModel",
            "_view_count": null,
            "_view_module": "@jupyter-widgets/controls",
            "_view_module_version": "1.5.0",
            "_view_name": "ProgressView",
            "bar_style": "success",
            "description": "",
            "description_tooltip": null,
            "layout": "IPY_MODEL_acb8f799155d46e5a9304090f3624d4b",
            "max": 80,
            "min": 0,
            "orientation": "horizontal",
            "style": "IPY_MODEL_2c2089d3a556497fab314b5d482009bc",
            "value": 80
          }
        },
        "5e6700272a47466fbfad3ac7478edae1": {
          "model_module": "@jupyter-widgets/controls",
          "model_name": "HTMLModel",
          "model_module_version": "1.5.0",
          "state": {
            "_dom_classes": [],
            "_model_module": "@jupyter-widgets/controls",
            "_model_module_version": "1.5.0",
            "_model_name": "HTMLModel",
            "_view_count": null,
            "_view_module": "@jupyter-widgets/controls",
            "_view_module_version": "1.5.0",
            "_view_name": "HTMLView",
            "description": "",
            "description_tooltip": null,
            "layout": "IPY_MODEL_c38a0da1610a48a3811acee394fbcad7",
            "placeholder": "​",
            "style": "IPY_MODEL_eebb3a8fb81140ae82eec3a8b5754aeb",
            "value": " 80.0/80.0 [00:00&lt;00:00, 2.52kB/s]"
          }
        },
        "9294d3fe459e4a3c862f27d5870a4054": {
          "model_module": "@jupyter-widgets/base",
          "model_name": "LayoutModel",
          "model_module_version": "1.2.0",
          "state": {
            "_model_module": "@jupyter-widgets/base",
            "_model_module_version": "1.2.0",
            "_model_name": "LayoutModel",
            "_view_count": null,
            "_view_module": "@jupyter-widgets/base",
            "_view_module_version": "1.2.0",
            "_view_name": "LayoutView",
            "align_content": null,
            "align_items": null,
            "align_self": null,
            "border": null,
            "bottom": null,
            "display": null,
            "flex": null,
            "flex_flow": null,
            "grid_area": null,
            "grid_auto_columns": null,
            "grid_auto_flow": null,
            "grid_auto_rows": null,
            "grid_column": null,
            "grid_gap": null,
            "grid_row": null,
            "grid_template_areas": null,
            "grid_template_columns": null,
            "grid_template_rows": null,
            "height": null,
            "justify_content": null,
            "justify_items": null,
            "left": null,
            "margin": null,
            "max_height": null,
            "max_width": null,
            "min_height": null,
            "min_width": null,
            "object_fit": null,
            "object_position": null,
            "order": null,
            "overflow": null,
            "overflow_x": null,
            "overflow_y": null,
            "padding": null,
            "right": null,
            "top": null,
            "visibility": null,
            "width": null
          }
        },
        "e80c0ed1fbd44d2599c652a379942333": {
          "model_module": "@jupyter-widgets/base",
          "model_name": "LayoutModel",
          "model_module_version": "1.2.0",
          "state": {
            "_model_module": "@jupyter-widgets/base",
            "_model_module_version": "1.2.0",
            "_model_name": "LayoutModel",
            "_view_count": null,
            "_view_module": "@jupyter-widgets/base",
            "_view_module_version": "1.2.0",
            "_view_name": "LayoutView",
            "align_content": null,
            "align_items": null,
            "align_self": null,
            "border": null,
            "bottom": null,
            "display": null,
            "flex": null,
            "flex_flow": null,
            "grid_area": null,
            "grid_auto_columns": null,
            "grid_auto_flow": null,
            "grid_auto_rows": null,
            "grid_column": null,
            "grid_gap": null,
            "grid_row": null,
            "grid_template_areas": null,
            "grid_template_columns": null,
            "grid_template_rows": null,
            "height": null,
            "justify_content": null,
            "justify_items": null,
            "left": null,
            "margin": null,
            "max_height": null,
            "max_width": null,
            "min_height": null,
            "min_width": null,
            "object_fit": null,
            "object_position": null,
            "order": null,
            "overflow": null,
            "overflow_x": null,
            "overflow_y": null,
            "padding": null,
            "right": null,
            "top": null,
            "visibility": null,
            "width": null
          }
        },
        "e006a32d9f4b4b7a803522b1ffeb21e5": {
          "model_module": "@jupyter-widgets/controls",
          "model_name": "DescriptionStyleModel",
          "model_module_version": "1.5.0",
          "state": {
            "_model_module": "@jupyter-widgets/controls",
            "_model_module_version": "1.5.0",
            "_model_name": "DescriptionStyleModel",
            "_view_count": null,
            "_view_module": "@jupyter-widgets/base",
            "_view_module_version": "1.2.0",
            "_view_name": "StyleView",
            "description_width": ""
          }
        },
        "acb8f799155d46e5a9304090f3624d4b": {
          "model_module": "@jupyter-widgets/base",
          "model_name": "LayoutModel",
          "model_module_version": "1.2.0",
          "state": {
            "_model_module": "@jupyter-widgets/base",
            "_model_module_version": "1.2.0",
            "_model_name": "LayoutModel",
            "_view_count": null,
            "_view_module": "@jupyter-widgets/base",
            "_view_module_version": "1.2.0",
            "_view_name": "LayoutView",
            "align_content": null,
            "align_items": null,
            "align_self": null,
            "border": null,
            "bottom": null,
            "display": null,
            "flex": null,
            "flex_flow": null,
            "grid_area": null,
            "grid_auto_columns": null,
            "grid_auto_flow": null,
            "grid_auto_rows": null,
            "grid_column": null,
            "grid_gap": null,
            "grid_row": null,
            "grid_template_areas": null,
            "grid_template_columns": null,
            "grid_template_rows": null,
            "height": null,
            "justify_content": null,
            "justify_items": null,
            "left": null,
            "margin": null,
            "max_height": null,
            "max_width": null,
            "min_height": null,
            "min_width": null,
            "object_fit": null,
            "object_position": null,
            "order": null,
            "overflow": null,
            "overflow_x": null,
            "overflow_y": null,
            "padding": null,
            "right": null,
            "top": null,
            "visibility": null,
            "width": null
          }
        },
        "2c2089d3a556497fab314b5d482009bc": {
          "model_module": "@jupyter-widgets/controls",
          "model_name": "ProgressStyleModel",
          "model_module_version": "1.5.0",
          "state": {
            "_model_module": "@jupyter-widgets/controls",
            "_model_module_version": "1.5.0",
            "_model_name": "ProgressStyleModel",
            "_view_count": null,
            "_view_module": "@jupyter-widgets/base",
            "_view_module_version": "1.2.0",
            "_view_name": "StyleView",
            "bar_color": null,
            "description_width": ""
          }
        },
        "c38a0da1610a48a3811acee394fbcad7": {
          "model_module": "@jupyter-widgets/base",
          "model_name": "LayoutModel",
          "model_module_version": "1.2.0",
          "state": {
            "_model_module": "@jupyter-widgets/base",
            "_model_module_version": "1.2.0",
            "_model_name": "LayoutModel",
            "_view_count": null,
            "_view_module": "@jupyter-widgets/base",
            "_view_module_version": "1.2.0",
            "_view_name": "LayoutView",
            "align_content": null,
            "align_items": null,
            "align_self": null,
            "border": null,
            "bottom": null,
            "display": null,
            "flex": null,
            "flex_flow": null,
            "grid_area": null,
            "grid_auto_columns": null,
            "grid_auto_flow": null,
            "grid_auto_rows": null,
            "grid_column": null,
            "grid_gap": null,
            "grid_row": null,
            "grid_template_areas": null,
            "grid_template_columns": null,
            "grid_template_rows": null,
            "height": null,
            "justify_content": null,
            "justify_items": null,
            "left": null,
            "margin": null,
            "max_height": null,
            "max_width": null,
            "min_height": null,
            "min_width": null,
            "object_fit": null,
            "object_position": null,
            "order": null,
            "overflow": null,
            "overflow_x": null,
            "overflow_y": null,
            "padding": null,
            "right": null,
            "top": null,
            "visibility": null,
            "width": null
          }
        },
        "eebb3a8fb81140ae82eec3a8b5754aeb": {
          "model_module": "@jupyter-widgets/controls",
          "model_name": "DescriptionStyleModel",
          "model_module_version": "1.5.0",
          "state": {
            "_model_module": "@jupyter-widgets/controls",
            "_model_module_version": "1.5.0",
            "_model_name": "DescriptionStyleModel",
            "_view_count": null,
            "_view_module": "@jupyter-widgets/base",
            "_view_module_version": "1.2.0",
            "_view_name": "StyleView",
            "description_width": ""
          }
        },
        "12d987f48dd94eb89f030737bc34d104": {
          "model_module": "@jupyter-widgets/controls",
          "model_name": "HBoxModel",
          "model_module_version": "1.5.0",
          "state": {
            "_dom_classes": [],
            "_model_module": "@jupyter-widgets/controls",
            "_model_module_version": "1.5.0",
            "_model_name": "HBoxModel",
            "_view_count": null,
            "_view_module": "@jupyter-widgets/controls",
            "_view_module_version": "1.5.0",
            "_view_name": "HBoxView",
            "box_style": "",
            "children": [
              "IPY_MODEL_cbd598e158414f6584cd682bc73bc44a",
              "IPY_MODEL_45566fa16b7e4c2ab5ab5ccd70e16b72",
              "IPY_MODEL_653a9ff7d4b044a7835b4b5ab8058e1e"
            ],
            "layout": "IPY_MODEL_f5414bc8b6f647b8a8d97a8cd26ae3fb"
          }
        },
        "cbd598e158414f6584cd682bc73bc44a": {
          "model_module": "@jupyter-widgets/controls",
          "model_name": "HTMLModel",
          "model_module_version": "1.5.0",
          "state": {
            "_dom_classes": [],
            "_model_module": "@jupyter-widgets/controls",
            "_model_module_version": "1.5.0",
            "_model_name": "HTMLModel",
            "_view_count": null,
            "_view_module": "@jupyter-widgets/controls",
            "_view_module_version": "1.5.0",
            "_view_name": "HTMLView",
            "description": "",
            "description_tooltip": null,
            "layout": "IPY_MODEL_0411ca7b7caf4a5c989f25e37ac6c256",
            "placeholder": "​",
            "style": "IPY_MODEL_6c81162bd099433ea353e0df7f89e584",
            "value": "Downloading: 100%"
          }
        },
        "45566fa16b7e4c2ab5ab5ccd70e16b72": {
          "model_module": "@jupyter-widgets/controls",
          "model_name": "FloatProgressModel",
          "model_module_version": "1.5.0",
          "state": {
            "_dom_classes": [],
            "_model_module": "@jupyter-widgets/controls",
            "_model_module_version": "1.5.0",
            "_model_name": "FloatProgressModel",
            "_view_count": null,
            "_view_module": "@jupyter-widgets/controls",
            "_view_module_version": "1.5.0",
            "_view_name": "ProgressView",
            "bar_style": "success",
            "description": "",
            "description_tooltip": null,
            "layout": "IPY_MODEL_4622d45d444944af835b261419a969b5",
            "max": 344259,
            "min": 0,
            "orientation": "horizontal",
            "style": "IPY_MODEL_5014794dcf9f4b8a8eaf8714730436f7",
            "value": 344259
          }
        },
        "653a9ff7d4b044a7835b4b5ab8058e1e": {
          "model_module": "@jupyter-widgets/controls",
          "model_name": "HTMLModel",
          "model_module_version": "1.5.0",
          "state": {
            "_dom_classes": [],
            "_model_module": "@jupyter-widgets/controls",
            "_model_module_version": "1.5.0",
            "_model_name": "HTMLModel",
            "_view_count": null,
            "_view_module": "@jupyter-widgets/controls",
            "_view_module_version": "1.5.0",
            "_view_name": "HTMLView",
            "description": "",
            "description_tooltip": null,
            "layout": "IPY_MODEL_7461556094d44a53890fb64507debc65",
            "placeholder": "​",
            "style": "IPY_MODEL_3390c96e62334497ade1e665716d3e3d",
            "value": " 344k/344k [00:00&lt;00:00, 5.64MB/s]"
          }
        },
        "f5414bc8b6f647b8a8d97a8cd26ae3fb": {
          "model_module": "@jupyter-widgets/base",
          "model_name": "LayoutModel",
          "model_module_version": "1.2.0",
          "state": {
            "_model_module": "@jupyter-widgets/base",
            "_model_module_version": "1.2.0",
            "_model_name": "LayoutModel",
            "_view_count": null,
            "_view_module": "@jupyter-widgets/base",
            "_view_module_version": "1.2.0",
            "_view_name": "LayoutView",
            "align_content": null,
            "align_items": null,
            "align_self": null,
            "border": null,
            "bottom": null,
            "display": null,
            "flex": null,
            "flex_flow": null,
            "grid_area": null,
            "grid_auto_columns": null,
            "grid_auto_flow": null,
            "grid_auto_rows": null,
            "grid_column": null,
            "grid_gap": null,
            "grid_row": null,
            "grid_template_areas": null,
            "grid_template_columns": null,
            "grid_template_rows": null,
            "height": null,
            "justify_content": null,
            "justify_items": null,
            "left": null,
            "margin": null,
            "max_height": null,
            "max_width": null,
            "min_height": null,
            "min_width": null,
            "object_fit": null,
            "object_position": null,
            "order": null,
            "overflow": null,
            "overflow_x": null,
            "overflow_y": null,
            "padding": null,
            "right": null,
            "top": null,
            "visibility": null,
            "width": null
          }
        },
        "0411ca7b7caf4a5c989f25e37ac6c256": {
          "model_module": "@jupyter-widgets/base",
          "model_name": "LayoutModel",
          "model_module_version": "1.2.0",
          "state": {
            "_model_module": "@jupyter-widgets/base",
            "_model_module_version": "1.2.0",
            "_model_name": "LayoutModel",
            "_view_count": null,
            "_view_module": "@jupyter-widgets/base",
            "_view_module_version": "1.2.0",
            "_view_name": "LayoutView",
            "align_content": null,
            "align_items": null,
            "align_self": null,
            "border": null,
            "bottom": null,
            "display": null,
            "flex": null,
            "flex_flow": null,
            "grid_area": null,
            "grid_auto_columns": null,
            "grid_auto_flow": null,
            "grid_auto_rows": null,
            "grid_column": null,
            "grid_gap": null,
            "grid_row": null,
            "grid_template_areas": null,
            "grid_template_columns": null,
            "grid_template_rows": null,
            "height": null,
            "justify_content": null,
            "justify_items": null,
            "left": null,
            "margin": null,
            "max_height": null,
            "max_width": null,
            "min_height": null,
            "min_width": null,
            "object_fit": null,
            "object_position": null,
            "order": null,
            "overflow": null,
            "overflow_x": null,
            "overflow_y": null,
            "padding": null,
            "right": null,
            "top": null,
            "visibility": null,
            "width": null
          }
        },
        "6c81162bd099433ea353e0df7f89e584": {
          "model_module": "@jupyter-widgets/controls",
          "model_name": "DescriptionStyleModel",
          "model_module_version": "1.5.0",
          "state": {
            "_model_module": "@jupyter-widgets/controls",
            "_model_module_version": "1.5.0",
            "_model_name": "DescriptionStyleModel",
            "_view_count": null,
            "_view_module": "@jupyter-widgets/base",
            "_view_module_version": "1.2.0",
            "_view_name": "StyleView",
            "description_width": ""
          }
        },
        "4622d45d444944af835b261419a969b5": {
          "model_module": "@jupyter-widgets/base",
          "model_name": "LayoutModel",
          "model_module_version": "1.2.0",
          "state": {
            "_model_module": "@jupyter-widgets/base",
            "_model_module_version": "1.2.0",
            "_model_name": "LayoutModel",
            "_view_count": null,
            "_view_module": "@jupyter-widgets/base",
            "_view_module_version": "1.2.0",
            "_view_name": "LayoutView",
            "align_content": null,
            "align_items": null,
            "align_self": null,
            "border": null,
            "bottom": null,
            "display": null,
            "flex": null,
            "flex_flow": null,
            "grid_area": null,
            "grid_auto_columns": null,
            "grid_auto_flow": null,
            "grid_auto_rows": null,
            "grid_column": null,
            "grid_gap": null,
            "grid_row": null,
            "grid_template_areas": null,
            "grid_template_columns": null,
            "grid_template_rows": null,
            "height": null,
            "justify_content": null,
            "justify_items": null,
            "left": null,
            "margin": null,
            "max_height": null,
            "max_width": null,
            "min_height": null,
            "min_width": null,
            "object_fit": null,
            "object_position": null,
            "order": null,
            "overflow": null,
            "overflow_x": null,
            "overflow_y": null,
            "padding": null,
            "right": null,
            "top": null,
            "visibility": null,
            "width": null
          }
        },
        "5014794dcf9f4b8a8eaf8714730436f7": {
          "model_module": "@jupyter-widgets/controls",
          "model_name": "ProgressStyleModel",
          "model_module_version": "1.5.0",
          "state": {
            "_model_module": "@jupyter-widgets/controls",
            "_model_module_version": "1.5.0",
            "_model_name": "ProgressStyleModel",
            "_view_count": null,
            "_view_module": "@jupyter-widgets/base",
            "_view_module_version": "1.2.0",
            "_view_name": "StyleView",
            "bar_color": null,
            "description_width": ""
          }
        },
        "7461556094d44a53890fb64507debc65": {
          "model_module": "@jupyter-widgets/base",
          "model_name": "LayoutModel",
          "model_module_version": "1.2.0",
          "state": {
            "_model_module": "@jupyter-widgets/base",
            "_model_module_version": "1.2.0",
            "_model_name": "LayoutModel",
            "_view_count": null,
            "_view_module": "@jupyter-widgets/base",
            "_view_module_version": "1.2.0",
            "_view_name": "LayoutView",
            "align_content": null,
            "align_items": null,
            "align_self": null,
            "border": null,
            "bottom": null,
            "display": null,
            "flex": null,
            "flex_flow": null,
            "grid_area": null,
            "grid_auto_columns": null,
            "grid_auto_flow": null,
            "grid_auto_rows": null,
            "grid_column": null,
            "grid_gap": null,
            "grid_row": null,
            "grid_template_areas": null,
            "grid_template_columns": null,
            "grid_template_rows": null,
            "height": null,
            "justify_content": null,
            "justify_items": null,
            "left": null,
            "margin": null,
            "max_height": null,
            "max_width": null,
            "min_height": null,
            "min_width": null,
            "object_fit": null,
            "object_position": null,
            "order": null,
            "overflow": null,
            "overflow_x": null,
            "overflow_y": null,
            "padding": null,
            "right": null,
            "top": null,
            "visibility": null,
            "width": null
          }
        },
        "3390c96e62334497ade1e665716d3e3d": {
          "model_module": "@jupyter-widgets/controls",
          "model_name": "DescriptionStyleModel",
          "model_module_version": "1.5.0",
          "state": {
            "_model_module": "@jupyter-widgets/controls",
            "_model_module_version": "1.5.0",
            "_model_name": "DescriptionStyleModel",
            "_view_count": null,
            "_view_module": "@jupyter-widgets/base",
            "_view_module_version": "1.2.0",
            "_view_name": "StyleView",
            "description_width": ""
          }
        },
        "b7b658f27d49466cac8369e5f0fe9561": {
          "model_module": "@jupyter-widgets/controls",
          "model_name": "HBoxModel",
          "model_module_version": "1.5.0",
          "state": {
            "_dom_classes": [],
            "_model_module": "@jupyter-widgets/controls",
            "_model_module_version": "1.5.0",
            "_model_name": "HBoxModel",
            "_view_count": null,
            "_view_module": "@jupyter-widgets/controls",
            "_view_module_version": "1.5.0",
            "_view_name": "HBoxView",
            "box_style": "",
            "children": [
              "IPY_MODEL_14a82c9705d8411ba367f174b6151ab8",
              "IPY_MODEL_3d493a0d643e415eaffe3e2d6cdf1c21",
              "IPY_MODEL_5ee1578a522940eeab68d1b217498a16"
            ],
            "layout": "IPY_MODEL_1d8e2d653d814c0db05d588b4c52c32e"
          }
        },
        "14a82c9705d8411ba367f174b6151ab8": {
          "model_module": "@jupyter-widgets/controls",
          "model_name": "HTMLModel",
          "model_module_version": "1.5.0",
          "state": {
            "_dom_classes": [],
            "_model_module": "@jupyter-widgets/controls",
            "_model_module_version": "1.5.0",
            "_model_name": "HTMLModel",
            "_view_count": null,
            "_view_module": "@jupyter-widgets/controls",
            "_view_module_version": "1.5.0",
            "_view_name": "HTMLView",
            "description": "",
            "description_tooltip": null,
            "layout": "IPY_MODEL_d71b6d855afd4504b1b15e0e63e02981",
            "placeholder": "​",
            "style": "IPY_MODEL_a6ae5c03dc11408b84a22a888756b209",
            "value": " 95%"
          }
        },
        "3d493a0d643e415eaffe3e2d6cdf1c21": {
          "model_module": "@jupyter-widgets/controls",
          "model_name": "FloatProgressModel",
          "model_module_version": "1.5.0",
          "state": {
            "_dom_classes": [],
            "_model_module": "@jupyter-widgets/controls",
            "_model_module_version": "1.5.0",
            "_model_name": "FloatProgressModel",
            "_view_count": null,
            "_view_module": "@jupyter-widgets/controls",
            "_view_module_version": "1.5.0",
            "_view_name": "ProgressView",
            "bar_style": "danger",
            "description": "",
            "description_tooltip": null,
            "layout": "IPY_MODEL_9766f2f1c4674342802d3bd588f53943",
            "max": 40,
            "min": 0,
            "orientation": "horizontal",
            "style": "IPY_MODEL_2aa9567158b04bb5bd8345c4b8109d74",
            "value": 38
          }
        },
        "5ee1578a522940eeab68d1b217498a16": {
          "model_module": "@jupyter-widgets/controls",
          "model_name": "HTMLModel",
          "model_module_version": "1.5.0",
          "state": {
            "_dom_classes": [],
            "_model_module": "@jupyter-widgets/controls",
            "_model_module_version": "1.5.0",
            "_model_name": "HTMLModel",
            "_view_count": null,
            "_view_module": "@jupyter-widgets/controls",
            "_view_module_version": "1.5.0",
            "_view_name": "HTMLView",
            "description": "",
            "description_tooltip": null,
            "layout": "IPY_MODEL_d2751ce95745427791bda9bad9f45fac",
            "placeholder": "​",
            "style": "IPY_MODEL_7d3fc2260e674ba5bbfaaa5b415f7be5",
            "value": " 38/40 [13:40&lt;00:40, 20.35s/it]"
          }
        },
        "1d8e2d653d814c0db05d588b4c52c32e": {
          "model_module": "@jupyter-widgets/base",
          "model_name": "LayoutModel",
          "model_module_version": "1.2.0",
          "state": {
            "_model_module": "@jupyter-widgets/base",
            "_model_module_version": "1.2.0",
            "_model_name": "LayoutModel",
            "_view_count": null,
            "_view_module": "@jupyter-widgets/base",
            "_view_module_version": "1.2.0",
            "_view_name": "LayoutView",
            "align_content": null,
            "align_items": null,
            "align_self": null,
            "border": null,
            "bottom": null,
            "display": null,
            "flex": null,
            "flex_flow": null,
            "grid_area": null,
            "grid_auto_columns": null,
            "grid_auto_flow": null,
            "grid_auto_rows": null,
            "grid_column": null,
            "grid_gap": null,
            "grid_row": null,
            "grid_template_areas": null,
            "grid_template_columns": null,
            "grid_template_rows": null,
            "height": null,
            "justify_content": null,
            "justify_items": null,
            "left": null,
            "margin": null,
            "max_height": null,
            "max_width": null,
            "min_height": null,
            "min_width": null,
            "object_fit": null,
            "object_position": null,
            "order": null,
            "overflow": null,
            "overflow_x": null,
            "overflow_y": null,
            "padding": null,
            "right": null,
            "top": null,
            "visibility": null,
            "width": null
          }
        },
        "d71b6d855afd4504b1b15e0e63e02981": {
          "model_module": "@jupyter-widgets/base",
          "model_name": "LayoutModel",
          "model_module_version": "1.2.0",
          "state": {
            "_model_module": "@jupyter-widgets/base",
            "_model_module_version": "1.2.0",
            "_model_name": "LayoutModel",
            "_view_count": null,
            "_view_module": "@jupyter-widgets/base",
            "_view_module_version": "1.2.0",
            "_view_name": "LayoutView",
            "align_content": null,
            "align_items": null,
            "align_self": null,
            "border": null,
            "bottom": null,
            "display": null,
            "flex": null,
            "flex_flow": null,
            "grid_area": null,
            "grid_auto_columns": null,
            "grid_auto_flow": null,
            "grid_auto_rows": null,
            "grid_column": null,
            "grid_gap": null,
            "grid_row": null,
            "grid_template_areas": null,
            "grid_template_columns": null,
            "grid_template_rows": null,
            "height": null,
            "justify_content": null,
            "justify_items": null,
            "left": null,
            "margin": null,
            "max_height": null,
            "max_width": null,
            "min_height": null,
            "min_width": null,
            "object_fit": null,
            "object_position": null,
            "order": null,
            "overflow": null,
            "overflow_x": null,
            "overflow_y": null,
            "padding": null,
            "right": null,
            "top": null,
            "visibility": null,
            "width": null
          }
        },
        "a6ae5c03dc11408b84a22a888756b209": {
          "model_module": "@jupyter-widgets/controls",
          "model_name": "DescriptionStyleModel",
          "model_module_version": "1.5.0",
          "state": {
            "_model_module": "@jupyter-widgets/controls",
            "_model_module_version": "1.5.0",
            "_model_name": "DescriptionStyleModel",
            "_view_count": null,
            "_view_module": "@jupyter-widgets/base",
            "_view_module_version": "1.2.0",
            "_view_name": "StyleView",
            "description_width": ""
          }
        },
        "9766f2f1c4674342802d3bd588f53943": {
          "model_module": "@jupyter-widgets/base",
          "model_name": "LayoutModel",
          "model_module_version": "1.2.0",
          "state": {
            "_model_module": "@jupyter-widgets/base",
            "_model_module_version": "1.2.0",
            "_model_name": "LayoutModel",
            "_view_count": null,
            "_view_module": "@jupyter-widgets/base",
            "_view_module_version": "1.2.0",
            "_view_name": "LayoutView",
            "align_content": null,
            "align_items": null,
            "align_self": null,
            "border": null,
            "bottom": null,
            "display": null,
            "flex": null,
            "flex_flow": null,
            "grid_area": null,
            "grid_auto_columns": null,
            "grid_auto_flow": null,
            "grid_auto_rows": null,
            "grid_column": null,
            "grid_gap": null,
            "grid_row": null,
            "grid_template_areas": null,
            "grid_template_columns": null,
            "grid_template_rows": null,
            "height": null,
            "justify_content": null,
            "justify_items": null,
            "left": null,
            "margin": null,
            "max_height": null,
            "max_width": null,
            "min_height": null,
            "min_width": null,
            "object_fit": null,
            "object_position": null,
            "order": null,
            "overflow": null,
            "overflow_x": null,
            "overflow_y": null,
            "padding": null,
            "right": null,
            "top": null,
            "visibility": null,
            "width": null
          }
        },
        "2aa9567158b04bb5bd8345c4b8109d74": {
          "model_module": "@jupyter-widgets/controls",
          "model_name": "ProgressStyleModel",
          "model_module_version": "1.5.0",
          "state": {
            "_model_module": "@jupyter-widgets/controls",
            "_model_module_version": "1.5.0",
            "_model_name": "ProgressStyleModel",
            "_view_count": null,
            "_view_module": "@jupyter-widgets/base",
            "_view_module_version": "1.2.0",
            "_view_name": "StyleView",
            "bar_color": null,
            "description_width": ""
          }
        },
        "d2751ce95745427791bda9bad9f45fac": {
          "model_module": "@jupyter-widgets/base",
          "model_name": "LayoutModel",
          "model_module_version": "1.2.0",
          "state": {
            "_model_module": "@jupyter-widgets/base",
            "_model_module_version": "1.2.0",
            "_model_name": "LayoutModel",
            "_view_count": null,
            "_view_module": "@jupyter-widgets/base",
            "_view_module_version": "1.2.0",
            "_view_name": "LayoutView",
            "align_content": null,
            "align_items": null,
            "align_self": null,
            "border": null,
            "bottom": null,
            "display": null,
            "flex": null,
            "flex_flow": null,
            "grid_area": null,
            "grid_auto_columns": null,
            "grid_auto_flow": null,
            "grid_auto_rows": null,
            "grid_column": null,
            "grid_gap": null,
            "grid_row": null,
            "grid_template_areas": null,
            "grid_template_columns": null,
            "grid_template_rows": null,
            "height": null,
            "justify_content": null,
            "justify_items": null,
            "left": null,
            "margin": null,
            "max_height": null,
            "max_width": null,
            "min_height": null,
            "min_width": null,
            "object_fit": null,
            "object_position": null,
            "order": null,
            "overflow": null,
            "overflow_x": null,
            "overflow_y": null,
            "padding": null,
            "right": null,
            "top": null,
            "visibility": null,
            "width": null
          }
        },
        "7d3fc2260e674ba5bbfaaa5b415f7be5": {
          "model_module": "@jupyter-widgets/controls",
          "model_name": "DescriptionStyleModel",
          "model_module_version": "1.5.0",
          "state": {
            "_model_module": "@jupyter-widgets/controls",
            "_model_module_version": "1.5.0",
            "_model_name": "DescriptionStyleModel",
            "_view_count": null,
            "_view_module": "@jupyter-widgets/base",
            "_view_module_version": "1.2.0",
            "_view_name": "StyleView",
            "description_width": ""
          }
        },
        "79c4965454db4b308e4b0bfdf6743e93": {
          "model_module": "@jupyter-widgets/controls",
          "model_name": "HBoxModel",
          "model_module_version": "1.5.0",
          "state": {
            "_dom_classes": [],
            "_model_module": "@jupyter-widgets/controls",
            "_model_module_version": "1.5.0",
            "_model_name": "HBoxModel",
            "_view_count": null,
            "_view_module": "@jupyter-widgets/controls",
            "_view_module_version": "1.5.0",
            "_view_name": "HBoxView",
            "box_style": "",
            "children": [
              "IPY_MODEL_ae3ab9fc7fe14025af678f1f90e7da7f",
              "IPY_MODEL_b7f2226aa00a461ca1eff69306d0a804",
              "IPY_MODEL_64eef020ea184c7fadea2f1553eb582c"
            ],
            "layout": "IPY_MODEL_69370d42e1e94c97b360f697865052ca"
          }
        },
        "ae3ab9fc7fe14025af678f1f90e7da7f": {
          "model_module": "@jupyter-widgets/controls",
          "model_name": "HTMLModel",
          "model_module_version": "1.5.0",
          "state": {
            "_dom_classes": [],
            "_model_module": "@jupyter-widgets/controls",
            "_model_module_version": "1.5.0",
            "_model_name": "HTMLModel",
            "_view_count": null,
            "_view_module": "@jupyter-widgets/controls",
            "_view_module_version": "1.5.0",
            "_view_name": "HTMLView",
            "description": "",
            "description_tooltip": null,
            "layout": "IPY_MODEL_d9eb18949ac3485780152f392abb3d77",
            "placeholder": "​",
            "style": "IPY_MODEL_badace63a55846a58ad782da5efc0e36",
            "value": "100%"
          }
        },
        "b7f2226aa00a461ca1eff69306d0a804": {
          "model_module": "@jupyter-widgets/controls",
          "model_name": "FloatProgressModel",
          "model_module_version": "1.5.0",
          "state": {
            "_dom_classes": [],
            "_model_module": "@jupyter-widgets/controls",
            "_model_module_version": "1.5.0",
            "_model_name": "FloatProgressModel",
            "_view_count": null,
            "_view_module": "@jupyter-widgets/controls",
            "_view_module_version": "1.5.0",
            "_view_name": "ProgressView",
            "bar_style": "success",
            "description": "",
            "description_tooltip": null,
            "layout": "IPY_MODEL_1e3868c6b91f43548f79b35df7d4e4e6",
            "max": 20,
            "min": 0,
            "orientation": "horizontal",
            "style": "IPY_MODEL_687e9139a2a54c9c841ddf6d25513d53",
            "value": 20
          }
        },
        "64eef020ea184c7fadea2f1553eb582c": {
          "model_module": "@jupyter-widgets/controls",
          "model_name": "HTMLModel",
          "model_module_version": "1.5.0",
          "state": {
            "_dom_classes": [],
            "_model_module": "@jupyter-widgets/controls",
            "_model_module_version": "1.5.0",
            "_model_name": "HTMLModel",
            "_view_count": null,
            "_view_module": "@jupyter-widgets/controls",
            "_view_module_version": "1.5.0",
            "_view_name": "HTMLView",
            "description": "",
            "description_tooltip": null,
            "layout": "IPY_MODEL_280a7be19c0941dfb68815ffdc7e381c",
            "placeholder": "​",
            "style": "IPY_MODEL_2555fc11abd2419487e850cc78938d79",
            "value": " 20/20 [12:26&lt;00:00, 36.74s/it]"
          }
        },
        "69370d42e1e94c97b360f697865052ca": {
          "model_module": "@jupyter-widgets/base",
          "model_name": "LayoutModel",
          "model_module_version": "1.2.0",
          "state": {
            "_model_module": "@jupyter-widgets/base",
            "_model_module_version": "1.2.0",
            "_model_name": "LayoutModel",
            "_view_count": null,
            "_view_module": "@jupyter-widgets/base",
            "_view_module_version": "1.2.0",
            "_view_name": "LayoutView",
            "align_content": null,
            "align_items": null,
            "align_self": null,
            "border": null,
            "bottom": null,
            "display": null,
            "flex": null,
            "flex_flow": null,
            "grid_area": null,
            "grid_auto_columns": null,
            "grid_auto_flow": null,
            "grid_auto_rows": null,
            "grid_column": null,
            "grid_gap": null,
            "grid_row": null,
            "grid_template_areas": null,
            "grid_template_columns": null,
            "grid_template_rows": null,
            "height": null,
            "justify_content": null,
            "justify_items": null,
            "left": null,
            "margin": null,
            "max_height": null,
            "max_width": null,
            "min_height": null,
            "min_width": null,
            "object_fit": null,
            "object_position": null,
            "order": null,
            "overflow": null,
            "overflow_x": null,
            "overflow_y": null,
            "padding": null,
            "right": null,
            "top": null,
            "visibility": null,
            "width": null
          }
        },
        "d9eb18949ac3485780152f392abb3d77": {
          "model_module": "@jupyter-widgets/base",
          "model_name": "LayoutModel",
          "model_module_version": "1.2.0",
          "state": {
            "_model_module": "@jupyter-widgets/base",
            "_model_module_version": "1.2.0",
            "_model_name": "LayoutModel",
            "_view_count": null,
            "_view_module": "@jupyter-widgets/base",
            "_view_module_version": "1.2.0",
            "_view_name": "LayoutView",
            "align_content": null,
            "align_items": null,
            "align_self": null,
            "border": null,
            "bottom": null,
            "display": null,
            "flex": null,
            "flex_flow": null,
            "grid_area": null,
            "grid_auto_columns": null,
            "grid_auto_flow": null,
            "grid_auto_rows": null,
            "grid_column": null,
            "grid_gap": null,
            "grid_row": null,
            "grid_template_areas": null,
            "grid_template_columns": null,
            "grid_template_rows": null,
            "height": null,
            "justify_content": null,
            "justify_items": null,
            "left": null,
            "margin": null,
            "max_height": null,
            "max_width": null,
            "min_height": null,
            "min_width": null,
            "object_fit": null,
            "object_position": null,
            "order": null,
            "overflow": null,
            "overflow_x": null,
            "overflow_y": null,
            "padding": null,
            "right": null,
            "top": null,
            "visibility": null,
            "width": null
          }
        },
        "badace63a55846a58ad782da5efc0e36": {
          "model_module": "@jupyter-widgets/controls",
          "model_name": "DescriptionStyleModel",
          "model_module_version": "1.5.0",
          "state": {
            "_model_module": "@jupyter-widgets/controls",
            "_model_module_version": "1.5.0",
            "_model_name": "DescriptionStyleModel",
            "_view_count": null,
            "_view_module": "@jupyter-widgets/base",
            "_view_module_version": "1.2.0",
            "_view_name": "StyleView",
            "description_width": ""
          }
        },
        "1e3868c6b91f43548f79b35df7d4e4e6": {
          "model_module": "@jupyter-widgets/base",
          "model_name": "LayoutModel",
          "model_module_version": "1.2.0",
          "state": {
            "_model_module": "@jupyter-widgets/base",
            "_model_module_version": "1.2.0",
            "_model_name": "LayoutModel",
            "_view_count": null,
            "_view_module": "@jupyter-widgets/base",
            "_view_module_version": "1.2.0",
            "_view_name": "LayoutView",
            "align_content": null,
            "align_items": null,
            "align_self": null,
            "border": null,
            "bottom": null,
            "display": null,
            "flex": null,
            "flex_flow": null,
            "grid_area": null,
            "grid_auto_columns": null,
            "grid_auto_flow": null,
            "grid_auto_rows": null,
            "grid_column": null,
            "grid_gap": null,
            "grid_row": null,
            "grid_template_areas": null,
            "grid_template_columns": null,
            "grid_template_rows": null,
            "height": null,
            "justify_content": null,
            "justify_items": null,
            "left": null,
            "margin": null,
            "max_height": null,
            "max_width": null,
            "min_height": null,
            "min_width": null,
            "object_fit": null,
            "object_position": null,
            "order": null,
            "overflow": null,
            "overflow_x": null,
            "overflow_y": null,
            "padding": null,
            "right": null,
            "top": null,
            "visibility": null,
            "width": null
          }
        },
        "687e9139a2a54c9c841ddf6d25513d53": {
          "model_module": "@jupyter-widgets/controls",
          "model_name": "ProgressStyleModel",
          "model_module_version": "1.5.0",
          "state": {
            "_model_module": "@jupyter-widgets/controls",
            "_model_module_version": "1.5.0",
            "_model_name": "ProgressStyleModel",
            "_view_count": null,
            "_view_module": "@jupyter-widgets/base",
            "_view_module_version": "1.2.0",
            "_view_name": "StyleView",
            "bar_color": null,
            "description_width": ""
          }
        },
        "280a7be19c0941dfb68815ffdc7e381c": {
          "model_module": "@jupyter-widgets/base",
          "model_name": "LayoutModel",
          "model_module_version": "1.2.0",
          "state": {
            "_model_module": "@jupyter-widgets/base",
            "_model_module_version": "1.2.0",
            "_model_name": "LayoutModel",
            "_view_count": null,
            "_view_module": "@jupyter-widgets/base",
            "_view_module_version": "1.2.0",
            "_view_name": "LayoutView",
            "align_content": null,
            "align_items": null,
            "align_self": null,
            "border": null,
            "bottom": null,
            "display": null,
            "flex": null,
            "flex_flow": null,
            "grid_area": null,
            "grid_auto_columns": null,
            "grid_auto_flow": null,
            "grid_auto_rows": null,
            "grid_column": null,
            "grid_gap": null,
            "grid_row": null,
            "grid_template_areas": null,
            "grid_template_columns": null,
            "grid_template_rows": null,
            "height": null,
            "justify_content": null,
            "justify_items": null,
            "left": null,
            "margin": null,
            "max_height": null,
            "max_width": null,
            "min_height": null,
            "min_width": null,
            "object_fit": null,
            "object_position": null,
            "order": null,
            "overflow": null,
            "overflow_x": null,
            "overflow_y": null,
            "padding": null,
            "right": null,
            "top": null,
            "visibility": null,
            "width": null
          }
        },
        "2555fc11abd2419487e850cc78938d79": {
          "model_module": "@jupyter-widgets/controls",
          "model_name": "DescriptionStyleModel",
          "model_module_version": "1.5.0",
          "state": {
            "_model_module": "@jupyter-widgets/controls",
            "_model_module_version": "1.5.0",
            "_model_name": "DescriptionStyleModel",
            "_view_count": null,
            "_view_module": "@jupyter-widgets/base",
            "_view_module_version": "1.2.0",
            "_view_name": "StyleView",
            "description_width": ""
          }
        },
        "79581f29cd4f443f9907583c688bfc37": {
          "model_module": "@jupyter-widgets/controls",
          "model_name": "HBoxModel",
          "model_module_version": "1.5.0",
          "state": {
            "_dom_classes": [],
            "_model_module": "@jupyter-widgets/controls",
            "_model_module_version": "1.5.0",
            "_model_name": "HBoxModel",
            "_view_count": null,
            "_view_module": "@jupyter-widgets/controls",
            "_view_module_version": "1.5.0",
            "_view_name": "HBoxView",
            "box_style": "",
            "children": [
              "IPY_MODEL_cb03aee23b7a417bbf98deae78159680",
              "IPY_MODEL_45b355e4bd524dc1b6693ede2275b9c4",
              "IPY_MODEL_a453785ec0ff49b7a10e2e8b8f76f827"
            ],
            "layout": "IPY_MODEL_d39f77b60b224b9f94ee2f629b454a83"
          }
        },
        "cb03aee23b7a417bbf98deae78159680": {
          "model_module": "@jupyter-widgets/controls",
          "model_name": "HTMLModel",
          "model_module_version": "1.5.0",
          "state": {
            "_dom_classes": [],
            "_model_module": "@jupyter-widgets/controls",
            "_model_module_version": "1.5.0",
            "_model_name": "HTMLModel",
            "_view_count": null,
            "_view_module": "@jupyter-widgets/controls",
            "_view_module_version": "1.5.0",
            "_view_name": "HTMLView",
            "description": "",
            "description_tooltip": null,
            "layout": "IPY_MODEL_2d625dd03b09438dbb1195ae3c519984",
            "placeholder": "​",
            "style": "IPY_MODEL_1a938c8f3eaf485c94e46bb0a5c69fda",
            "value": "100%"
          }
        },
        "45b355e4bd524dc1b6693ede2275b9c4": {
          "model_module": "@jupyter-widgets/controls",
          "model_name": "FloatProgressModel",
          "model_module_version": "1.5.0",
          "state": {
            "_dom_classes": [],
            "_model_module": "@jupyter-widgets/controls",
            "_model_module_version": "1.5.0",
            "_model_name": "FloatProgressModel",
            "_view_count": null,
            "_view_module": "@jupyter-widgets/controls",
            "_view_module_version": "1.5.0",
            "_view_name": "ProgressView",
            "bar_style": "success",
            "description": "",
            "description_tooltip": null,
            "layout": "IPY_MODEL_5cf55b282dfc4018974be231f1d1de2b",
            "max": 3,
            "min": 0,
            "orientation": "horizontal",
            "style": "IPY_MODEL_4985196838e94902bbaff3d4fdff6a8b",
            "value": 3
          }
        },
        "a453785ec0ff49b7a10e2e8b8f76f827": {
          "model_module": "@jupyter-widgets/controls",
          "model_name": "HTMLModel",
          "model_module_version": "1.5.0",
          "state": {
            "_dom_classes": [],
            "_model_module": "@jupyter-widgets/controls",
            "_model_module_version": "1.5.0",
            "_model_name": "HTMLModel",
            "_view_count": null,
            "_view_module": "@jupyter-widgets/controls",
            "_view_module_version": "1.5.0",
            "_view_name": "HTMLView",
            "description": "",
            "description_tooltip": null,
            "layout": "IPY_MODEL_8ca9188f0e7a469b936f7019b1558fe8",
            "placeholder": "​",
            "style": "IPY_MODEL_e60a74427c4a468d89d9715d71d37993",
            "value": " 3/3 [00:26&lt;00:00,  8.54s/it]"
          }
        },
        "d39f77b60b224b9f94ee2f629b454a83": {
          "model_module": "@jupyter-widgets/base",
          "model_name": "LayoutModel",
          "model_module_version": "1.2.0",
          "state": {
            "_model_module": "@jupyter-widgets/base",
            "_model_module_version": "1.2.0",
            "_model_name": "LayoutModel",
            "_view_count": null,
            "_view_module": "@jupyter-widgets/base",
            "_view_module_version": "1.2.0",
            "_view_name": "LayoutView",
            "align_content": null,
            "align_items": null,
            "align_self": null,
            "border": null,
            "bottom": null,
            "display": null,
            "flex": null,
            "flex_flow": null,
            "grid_area": null,
            "grid_auto_columns": null,
            "grid_auto_flow": null,
            "grid_auto_rows": null,
            "grid_column": null,
            "grid_gap": null,
            "grid_row": null,
            "grid_template_areas": null,
            "grid_template_columns": null,
            "grid_template_rows": null,
            "height": null,
            "justify_content": null,
            "justify_items": null,
            "left": null,
            "margin": null,
            "max_height": null,
            "max_width": null,
            "min_height": null,
            "min_width": null,
            "object_fit": null,
            "object_position": null,
            "order": null,
            "overflow": null,
            "overflow_x": null,
            "overflow_y": null,
            "padding": null,
            "right": null,
            "top": null,
            "visibility": null,
            "width": null
          }
        },
        "2d625dd03b09438dbb1195ae3c519984": {
          "model_module": "@jupyter-widgets/base",
          "model_name": "LayoutModel",
          "model_module_version": "1.2.0",
          "state": {
            "_model_module": "@jupyter-widgets/base",
            "_model_module_version": "1.2.0",
            "_model_name": "LayoutModel",
            "_view_count": null,
            "_view_module": "@jupyter-widgets/base",
            "_view_module_version": "1.2.0",
            "_view_name": "LayoutView",
            "align_content": null,
            "align_items": null,
            "align_self": null,
            "border": null,
            "bottom": null,
            "display": null,
            "flex": null,
            "flex_flow": null,
            "grid_area": null,
            "grid_auto_columns": null,
            "grid_auto_flow": null,
            "grid_auto_rows": null,
            "grid_column": null,
            "grid_gap": null,
            "grid_row": null,
            "grid_template_areas": null,
            "grid_template_columns": null,
            "grid_template_rows": null,
            "height": null,
            "justify_content": null,
            "justify_items": null,
            "left": null,
            "margin": null,
            "max_height": null,
            "max_width": null,
            "min_height": null,
            "min_width": null,
            "object_fit": null,
            "object_position": null,
            "order": null,
            "overflow": null,
            "overflow_x": null,
            "overflow_y": null,
            "padding": null,
            "right": null,
            "top": null,
            "visibility": null,
            "width": null
          }
        },
        "1a938c8f3eaf485c94e46bb0a5c69fda": {
          "model_module": "@jupyter-widgets/controls",
          "model_name": "DescriptionStyleModel",
          "model_module_version": "1.5.0",
          "state": {
            "_model_module": "@jupyter-widgets/controls",
            "_model_module_version": "1.5.0",
            "_model_name": "DescriptionStyleModel",
            "_view_count": null,
            "_view_module": "@jupyter-widgets/base",
            "_view_module_version": "1.2.0",
            "_view_name": "StyleView",
            "description_width": ""
          }
        },
        "5cf55b282dfc4018974be231f1d1de2b": {
          "model_module": "@jupyter-widgets/base",
          "model_name": "LayoutModel",
          "model_module_version": "1.2.0",
          "state": {
            "_model_module": "@jupyter-widgets/base",
            "_model_module_version": "1.2.0",
            "_model_name": "LayoutModel",
            "_view_count": null,
            "_view_module": "@jupyter-widgets/base",
            "_view_module_version": "1.2.0",
            "_view_name": "LayoutView",
            "align_content": null,
            "align_items": null,
            "align_self": null,
            "border": null,
            "bottom": null,
            "display": null,
            "flex": null,
            "flex_flow": null,
            "grid_area": null,
            "grid_auto_columns": null,
            "grid_auto_flow": null,
            "grid_auto_rows": null,
            "grid_column": null,
            "grid_gap": null,
            "grid_row": null,
            "grid_template_areas": null,
            "grid_template_columns": null,
            "grid_template_rows": null,
            "height": null,
            "justify_content": null,
            "justify_items": null,
            "left": null,
            "margin": null,
            "max_height": null,
            "max_width": null,
            "min_height": null,
            "min_width": null,
            "object_fit": null,
            "object_position": null,
            "order": null,
            "overflow": null,
            "overflow_x": null,
            "overflow_y": null,
            "padding": null,
            "right": null,
            "top": null,
            "visibility": null,
            "width": null
          }
        },
        "4985196838e94902bbaff3d4fdff6a8b": {
          "model_module": "@jupyter-widgets/controls",
          "model_name": "ProgressStyleModel",
          "model_module_version": "1.5.0",
          "state": {
            "_model_module": "@jupyter-widgets/controls",
            "_model_module_version": "1.5.0",
            "_model_name": "ProgressStyleModel",
            "_view_count": null,
            "_view_module": "@jupyter-widgets/base",
            "_view_module_version": "1.2.0",
            "_view_name": "StyleView",
            "bar_color": null,
            "description_width": ""
          }
        },
        "8ca9188f0e7a469b936f7019b1558fe8": {
          "model_module": "@jupyter-widgets/base",
          "model_name": "LayoutModel",
          "model_module_version": "1.2.0",
          "state": {
            "_model_module": "@jupyter-widgets/base",
            "_model_module_version": "1.2.0",
            "_model_name": "LayoutModel",
            "_view_count": null,
            "_view_module": "@jupyter-widgets/base",
            "_view_module_version": "1.2.0",
            "_view_name": "LayoutView",
            "align_content": null,
            "align_items": null,
            "align_self": null,
            "border": null,
            "bottom": null,
            "display": null,
            "flex": null,
            "flex_flow": null,
            "grid_area": null,
            "grid_auto_columns": null,
            "grid_auto_flow": null,
            "grid_auto_rows": null,
            "grid_column": null,
            "grid_gap": null,
            "grid_row": null,
            "grid_template_areas": null,
            "grid_template_columns": null,
            "grid_template_rows": null,
            "height": null,
            "justify_content": null,
            "justify_items": null,
            "left": null,
            "margin": null,
            "max_height": null,
            "max_width": null,
            "min_height": null,
            "min_width": null,
            "object_fit": null,
            "object_position": null,
            "order": null,
            "overflow": null,
            "overflow_x": null,
            "overflow_y": null,
            "padding": null,
            "right": null,
            "top": null,
            "visibility": null,
            "width": null
          }
        },
        "e60a74427c4a468d89d9715d71d37993": {
          "model_module": "@jupyter-widgets/controls",
          "model_name": "DescriptionStyleModel",
          "model_module_version": "1.5.0",
          "state": {
            "_model_module": "@jupyter-widgets/controls",
            "_model_module_version": "1.5.0",
            "_model_name": "DescriptionStyleModel",
            "_view_count": null,
            "_view_module": "@jupyter-widgets/base",
            "_view_module_version": "1.2.0",
            "_view_name": "StyleView",
            "description_width": ""
          }
        },
        "f1e862a0da5540be9b19e56852bb1e72": {
          "model_module": "@jupyter-widgets/controls",
          "model_name": "HBoxModel",
          "model_module_version": "1.5.0",
          "state": {
            "_dom_classes": [],
            "_model_module": "@jupyter-widgets/controls",
            "_model_module_version": "1.5.0",
            "_model_name": "HBoxModel",
            "_view_count": null,
            "_view_module": "@jupyter-widgets/controls",
            "_view_module_version": "1.5.0",
            "_view_name": "HBoxView",
            "box_style": "",
            "children": [
              "IPY_MODEL_3a535bf81b414c9dbdca7f9ea29fa6ae",
              "IPY_MODEL_8013c97cdaaf4f07b3a111d6ab2a4129",
              "IPY_MODEL_4d682cfa56fc4f19a238856080d81914"
            ],
            "layout": "IPY_MODEL_8d8578250371409eb1f96f56df03a9fc"
          }
        },
        "3a535bf81b414c9dbdca7f9ea29fa6ae": {
          "model_module": "@jupyter-widgets/controls",
          "model_name": "HTMLModel",
          "model_module_version": "1.5.0",
          "state": {
            "_dom_classes": [],
            "_model_module": "@jupyter-widgets/controls",
            "_model_module_version": "1.5.0",
            "_model_name": "HTMLModel",
            "_view_count": null,
            "_view_module": "@jupyter-widgets/controls",
            "_view_module_version": "1.5.0",
            "_view_name": "HTMLView",
            "description": "",
            "description_tooltip": null,
            "layout": "IPY_MODEL_738bd85db1634a5f9b4ec70d4f3f8ada",
            "placeholder": "​",
            "style": "IPY_MODEL_ae3b0a8822714bc9b3455de47a151752",
            "value": "100%"
          }
        },
        "8013c97cdaaf4f07b3a111d6ab2a4129": {
          "model_module": "@jupyter-widgets/controls",
          "model_name": "FloatProgressModel",
          "model_module_version": "1.5.0",
          "state": {
            "_dom_classes": [],
            "_model_module": "@jupyter-widgets/controls",
            "_model_module_version": "1.5.0",
            "_model_name": "FloatProgressModel",
            "_view_count": null,
            "_view_module": "@jupyter-widgets/controls",
            "_view_module_version": "1.5.0",
            "_view_name": "ProgressView",
            "bar_style": "success",
            "description": "",
            "description_tooltip": null,
            "layout": "IPY_MODEL_88c073667d614a058e72416190a318d4",
            "max": 3,
            "min": 0,
            "orientation": "horizontal",
            "style": "IPY_MODEL_119478feea6c4c8881f9443612afe526",
            "value": 3
          }
        },
        "4d682cfa56fc4f19a238856080d81914": {
          "model_module": "@jupyter-widgets/controls",
          "model_name": "HTMLModel",
          "model_module_version": "1.5.0",
          "state": {
            "_dom_classes": [],
            "_model_module": "@jupyter-widgets/controls",
            "_model_module_version": "1.5.0",
            "_model_name": "HTMLModel",
            "_view_count": null,
            "_view_module": "@jupyter-widgets/controls",
            "_view_module_version": "1.5.0",
            "_view_name": "HTMLView",
            "description": "",
            "description_tooltip": null,
            "layout": "IPY_MODEL_6db42f8334b942cb98322d2250ad11d1",
            "placeholder": "​",
            "style": "IPY_MODEL_5b77b6d6aaee4e9c8b3d4507954ceeae",
            "value": " 3/3 [00:35&lt;00:00, 11.98s/it]"
          }
        },
        "8d8578250371409eb1f96f56df03a9fc": {
          "model_module": "@jupyter-widgets/base",
          "model_name": "LayoutModel",
          "model_module_version": "1.2.0",
          "state": {
            "_model_module": "@jupyter-widgets/base",
            "_model_module_version": "1.2.0",
            "_model_name": "LayoutModel",
            "_view_count": null,
            "_view_module": "@jupyter-widgets/base",
            "_view_module_version": "1.2.0",
            "_view_name": "LayoutView",
            "align_content": null,
            "align_items": null,
            "align_self": null,
            "border": null,
            "bottom": null,
            "display": null,
            "flex": null,
            "flex_flow": null,
            "grid_area": null,
            "grid_auto_columns": null,
            "grid_auto_flow": null,
            "grid_auto_rows": null,
            "grid_column": null,
            "grid_gap": null,
            "grid_row": null,
            "grid_template_areas": null,
            "grid_template_columns": null,
            "grid_template_rows": null,
            "height": null,
            "justify_content": null,
            "justify_items": null,
            "left": null,
            "margin": null,
            "max_height": null,
            "max_width": null,
            "min_height": null,
            "min_width": null,
            "object_fit": null,
            "object_position": null,
            "order": null,
            "overflow": null,
            "overflow_x": null,
            "overflow_y": null,
            "padding": null,
            "right": null,
            "top": null,
            "visibility": null,
            "width": null
          }
        },
        "738bd85db1634a5f9b4ec70d4f3f8ada": {
          "model_module": "@jupyter-widgets/base",
          "model_name": "LayoutModel",
          "model_module_version": "1.2.0",
          "state": {
            "_model_module": "@jupyter-widgets/base",
            "_model_module_version": "1.2.0",
            "_model_name": "LayoutModel",
            "_view_count": null,
            "_view_module": "@jupyter-widgets/base",
            "_view_module_version": "1.2.0",
            "_view_name": "LayoutView",
            "align_content": null,
            "align_items": null,
            "align_self": null,
            "border": null,
            "bottom": null,
            "display": null,
            "flex": null,
            "flex_flow": null,
            "grid_area": null,
            "grid_auto_columns": null,
            "grid_auto_flow": null,
            "grid_auto_rows": null,
            "grid_column": null,
            "grid_gap": null,
            "grid_row": null,
            "grid_template_areas": null,
            "grid_template_columns": null,
            "grid_template_rows": null,
            "height": null,
            "justify_content": null,
            "justify_items": null,
            "left": null,
            "margin": null,
            "max_height": null,
            "max_width": null,
            "min_height": null,
            "min_width": null,
            "object_fit": null,
            "object_position": null,
            "order": null,
            "overflow": null,
            "overflow_x": null,
            "overflow_y": null,
            "padding": null,
            "right": null,
            "top": null,
            "visibility": null,
            "width": null
          }
        },
        "ae3b0a8822714bc9b3455de47a151752": {
          "model_module": "@jupyter-widgets/controls",
          "model_name": "DescriptionStyleModel",
          "model_module_version": "1.5.0",
          "state": {
            "_model_module": "@jupyter-widgets/controls",
            "_model_module_version": "1.5.0",
            "_model_name": "DescriptionStyleModel",
            "_view_count": null,
            "_view_module": "@jupyter-widgets/base",
            "_view_module_version": "1.2.0",
            "_view_name": "StyleView",
            "description_width": ""
          }
        },
        "88c073667d614a058e72416190a318d4": {
          "model_module": "@jupyter-widgets/base",
          "model_name": "LayoutModel",
          "model_module_version": "1.2.0",
          "state": {
            "_model_module": "@jupyter-widgets/base",
            "_model_module_version": "1.2.0",
            "_model_name": "LayoutModel",
            "_view_count": null,
            "_view_module": "@jupyter-widgets/base",
            "_view_module_version": "1.2.0",
            "_view_name": "LayoutView",
            "align_content": null,
            "align_items": null,
            "align_self": null,
            "border": null,
            "bottom": null,
            "display": null,
            "flex": null,
            "flex_flow": null,
            "grid_area": null,
            "grid_auto_columns": null,
            "grid_auto_flow": null,
            "grid_auto_rows": null,
            "grid_column": null,
            "grid_gap": null,
            "grid_row": null,
            "grid_template_areas": null,
            "grid_template_columns": null,
            "grid_template_rows": null,
            "height": null,
            "justify_content": null,
            "justify_items": null,
            "left": null,
            "margin": null,
            "max_height": null,
            "max_width": null,
            "min_height": null,
            "min_width": null,
            "object_fit": null,
            "object_position": null,
            "order": null,
            "overflow": null,
            "overflow_x": null,
            "overflow_y": null,
            "padding": null,
            "right": null,
            "top": null,
            "visibility": null,
            "width": null
          }
        },
        "119478feea6c4c8881f9443612afe526": {
          "model_module": "@jupyter-widgets/controls",
          "model_name": "ProgressStyleModel",
          "model_module_version": "1.5.0",
          "state": {
            "_model_module": "@jupyter-widgets/controls",
            "_model_module_version": "1.5.0",
            "_model_name": "ProgressStyleModel",
            "_view_count": null,
            "_view_module": "@jupyter-widgets/base",
            "_view_module_version": "1.2.0",
            "_view_name": "StyleView",
            "bar_color": null,
            "description_width": ""
          }
        },
        "6db42f8334b942cb98322d2250ad11d1": {
          "model_module": "@jupyter-widgets/base",
          "model_name": "LayoutModel",
          "model_module_version": "1.2.0",
          "state": {
            "_model_module": "@jupyter-widgets/base",
            "_model_module_version": "1.2.0",
            "_model_name": "LayoutModel",
            "_view_count": null,
            "_view_module": "@jupyter-widgets/base",
            "_view_module_version": "1.2.0",
            "_view_name": "LayoutView",
            "align_content": null,
            "align_items": null,
            "align_self": null,
            "border": null,
            "bottom": null,
            "display": null,
            "flex": null,
            "flex_flow": null,
            "grid_area": null,
            "grid_auto_columns": null,
            "grid_auto_flow": null,
            "grid_auto_rows": null,
            "grid_column": null,
            "grid_gap": null,
            "grid_row": null,
            "grid_template_areas": null,
            "grid_template_columns": null,
            "grid_template_rows": null,
            "height": null,
            "justify_content": null,
            "justify_items": null,
            "left": null,
            "margin": null,
            "max_height": null,
            "max_width": null,
            "min_height": null,
            "min_width": null,
            "object_fit": null,
            "object_position": null,
            "order": null,
            "overflow": null,
            "overflow_x": null,
            "overflow_y": null,
            "padding": null,
            "right": null,
            "top": null,
            "visibility": null,
            "width": null
          }
        },
        "5b77b6d6aaee4e9c8b3d4507954ceeae": {
          "model_module": "@jupyter-widgets/controls",
          "model_name": "DescriptionStyleModel",
          "model_module_version": "1.5.0",
          "state": {
            "_model_module": "@jupyter-widgets/controls",
            "_model_module_version": "1.5.0",
            "_model_name": "DescriptionStyleModel",
            "_view_count": null,
            "_view_module": "@jupyter-widgets/base",
            "_view_module_version": "1.2.0",
            "_view_name": "StyleView",
            "description_width": ""
          }
        }
      }
    },
    "accelerator": "GPU"
  },
  "nbformat": 4,
  "nbformat_minor": 0
}