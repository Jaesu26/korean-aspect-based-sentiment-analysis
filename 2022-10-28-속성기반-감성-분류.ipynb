{
  "cells": [
    {
      "cell_type": "markdown",
      "metadata": {
        "id": "view-in-github",
        "colab_type": "text"
      },
      "source": [
        "<a href=\"https://colab.research.google.com/github/Jaesu26/korean-aspect-based-sentiment-analysis/blob/main/2022-10-28-%EC%86%8D%EC%84%B1%EA%B8%B0%EB%B0%98-%EA%B0%90%EC%84%B1-%EB%B6%84%EB%A5%98.ipynb\" target=\"_parent\"><img src=\"https://colab.research.google.com/assets/colab-badge.svg\" alt=\"Open In Colab\"/></a>"
      ]
    },
    {
      "cell_type": "markdown",
      "metadata": {
        "id": "75xRhMA-ZZ4g"
      },
      "source": [
        "# 2022 국립국어원 인공지능 언어능력평가"
      ]
    },
    {
      "cell_type": "code",
      "source": [
        "!nvidia-smi"
      ],
      "metadata": {
        "id": "Vry2J_Ifj6ZW",
        "colab": {
          "base_uri": "https://localhost:8080/"
        },
        "outputId": "4015d8f9-39c6-4f5e-db9e-698d3071cef9"
      },
      "execution_count": 1,
      "outputs": [
        {
          "output_type": "stream",
          "name": "stdout",
          "text": [
            "Fri Oct 28 06:52:03 2022       \n",
            "+-----------------------------------------------------------------------------+\n",
            "| NVIDIA-SMI 460.32.03    Driver Version: 460.32.03    CUDA Version: 11.2     |\n",
            "|-------------------------------+----------------------+----------------------+\n",
            "| GPU  Name        Persistence-M| Bus-Id        Disp.A | Volatile Uncorr. ECC |\n",
            "| Fan  Temp  Perf  Pwr:Usage/Cap|         Memory-Usage | GPU-Util  Compute M. |\n",
            "|                               |                      |               MIG M. |\n",
            "|===============================+======================+======================|\n",
            "|   0  Tesla T4            Off  | 00000000:00:04.0 Off |                    0 |\n",
            "| N/A   53C    P8    10W /  70W |      0MiB / 15109MiB |      0%      Default |\n",
            "|                               |                      |                  N/A |\n",
            "+-------------------------------+----------------------+----------------------+\n",
            "                                                                               \n",
            "+-----------------------------------------------------------------------------+\n",
            "| Processes:                                                                  |\n",
            "|  GPU   GI   CI        PID   Type   Process name                  GPU Memory |\n",
            "|        ID   ID                                                   Usage      |\n",
            "|=============================================================================|\n",
            "|  No running processes found                                                 |\n",
            "+-----------------------------------------------------------------------------+\n"
          ]
        }
      ]
    },
    {
      "cell_type": "code",
      "source": [
        "# !sudo apt-get install -y fonts-nanum\n",
        "# !sudo fc-cache -fv\n",
        "# !rm ~/.cache/matplotlib -rf"
      ],
      "metadata": {
        "id": "CcdrPaqtO1bU"
      },
      "execution_count": 2,
      "outputs": []
    },
    {
      "cell_type": "code",
      "execution_count": 3,
      "metadata": {
        "id": "vrIMdOEbBdTC",
        "colab": {
          "base_uri": "https://localhost:8080/"
        },
        "outputId": "161e9e77-a316-4326-dcdd-369b67e280d7"
      },
      "outputs": [
        {
          "output_type": "stream",
          "name": "stdout",
          "text": [
            "Looking in indexes: https://pypi.org/simple, https://us-python.pkg.dev/colab-wheels/public/simple/\n",
            "Collecting soynlp\n",
            "  Downloading soynlp-0.0.493-py3-none-any.whl (416 kB)\n",
            "\u001b[K     |████████████████████████████████| 416 kB 6.9 MB/s \n",
            "\u001b[?25hRequirement already satisfied: psutil>=5.0.1 in /usr/local/lib/python3.7/dist-packages (from soynlp) (5.4.8)\n",
            "Requirement already satisfied: scipy>=1.1.0 in /usr/local/lib/python3.7/dist-packages (from soynlp) (1.7.3)\n",
            "Requirement already satisfied: numpy>=1.12.1 in /usr/local/lib/python3.7/dist-packages (from soynlp) (1.21.6)\n",
            "Requirement already satisfied: scikit-learn>=0.20.0 in /usr/local/lib/python3.7/dist-packages (from soynlp) (1.0.2)\n",
            "Requirement already satisfied: joblib>=0.11 in /usr/local/lib/python3.7/dist-packages (from scikit-learn>=0.20.0->soynlp) (1.2.0)\n",
            "Requirement already satisfied: threadpoolctl>=2.0.0 in /usr/local/lib/python3.7/dist-packages (from scikit-learn>=0.20.0->soynlp) (3.1.0)\n",
            "Installing collected packages: soynlp\n",
            "Successfully installed soynlp-0.0.493\n",
            "Looking in indexes: https://pypi.org/simple, https://us-python.pkg.dev/colab-wheels/public/simple/\n",
            "Collecting emoji\n",
            "  Downloading emoji-2.1.0.tar.gz (216 kB)\n",
            "\u001b[K     |████████████████████████████████| 216 kB 6.7 MB/s \n",
            "\u001b[?25hBuilding wheels for collected packages: emoji\n",
            "  Building wheel for emoji (setup.py) ... \u001b[?25l\u001b[?25hdone\n",
            "  Created wheel for emoji: filename=emoji-2.1.0-py3-none-any.whl size=212392 sha256=b9b8b5be25f64bd71ca4f98634beb57c6743ac9dd64f42f564c0912d5a4ad3bd\n",
            "  Stored in directory: /root/.cache/pip/wheels/77/75/99/51c2a119f4cfd3af7b49cc57e4f737bed7e40b348a85d82804\n",
            "Successfully built emoji\n",
            "Installing collected packages: emoji\n",
            "Successfully installed emoji-2.1.0\n",
            "Looking in indexes: https://pypi.org/simple, https://us-python.pkg.dev/colab-wheels/public/simple/\n",
            "Collecting transformers==4.8.2\n",
            "  Downloading transformers-4.8.2-py3-none-any.whl (2.5 MB)\n",
            "\u001b[K     |████████████████████████████████| 2.5 MB 8.5 MB/s \n",
            "\u001b[?25hRequirement already satisfied: packaging in /usr/local/lib/python3.7/dist-packages (from transformers==4.8.2) (21.3)\n",
            "Requirement already satisfied: importlib-metadata in /usr/local/lib/python3.7/dist-packages (from transformers==4.8.2) (4.13.0)\n",
            "Requirement already satisfied: numpy>=1.17 in /usr/local/lib/python3.7/dist-packages (from transformers==4.8.2) (1.21.6)\n",
            "Requirement already satisfied: tqdm>=4.27 in /usr/local/lib/python3.7/dist-packages (from transformers==4.8.2) (4.64.1)\n",
            "Collecting huggingface-hub==0.0.12\n",
            "  Downloading huggingface_hub-0.0.12-py3-none-any.whl (37 kB)\n",
            "Collecting sacremoses\n",
            "  Downloading sacremoses-0.0.53.tar.gz (880 kB)\n",
            "\u001b[K     |████████████████████████████████| 880 kB 60.4 MB/s \n",
            "\u001b[?25hRequirement already satisfied: filelock in /usr/local/lib/python3.7/dist-packages (from transformers==4.8.2) (3.8.0)\n",
            "Requirement already satisfied: regex!=2019.12.17 in /usr/local/lib/python3.7/dist-packages (from transformers==4.8.2) (2022.6.2)\n",
            "Requirement already satisfied: pyyaml in /usr/local/lib/python3.7/dist-packages (from transformers==4.8.2) (6.0)\n",
            "Requirement already satisfied: requests in /usr/local/lib/python3.7/dist-packages (from transformers==4.8.2) (2.23.0)\n",
            "Collecting tokenizers<0.11,>=0.10.1\n",
            "  Downloading tokenizers-0.10.3-cp37-cp37m-manylinux_2_5_x86_64.manylinux1_x86_64.manylinux_2_12_x86_64.manylinux2010_x86_64.whl (3.3 MB)\n",
            "\u001b[K     |████████████████████████████████| 3.3 MB 47.4 MB/s \n",
            "\u001b[?25hRequirement already satisfied: typing-extensions in /usr/local/lib/python3.7/dist-packages (from huggingface-hub==0.0.12->transformers==4.8.2) (4.1.1)\n",
            "Requirement already satisfied: pyparsing!=3.0.5,>=2.0.2 in /usr/local/lib/python3.7/dist-packages (from packaging->transformers==4.8.2) (3.0.9)\n",
            "Requirement already satisfied: zipp>=0.5 in /usr/local/lib/python3.7/dist-packages (from importlib-metadata->transformers==4.8.2) (3.9.0)\n",
            "Requirement already satisfied: certifi>=2017.4.17 in /usr/local/lib/python3.7/dist-packages (from requests->transformers==4.8.2) (2022.9.24)\n",
            "Requirement already satisfied: urllib3!=1.25.0,!=1.25.1,<1.26,>=1.21.1 in /usr/local/lib/python3.7/dist-packages (from requests->transformers==4.8.2) (1.24.3)\n",
            "Requirement already satisfied: chardet<4,>=3.0.2 in /usr/local/lib/python3.7/dist-packages (from requests->transformers==4.8.2) (3.0.4)\n",
            "Requirement already satisfied: idna<3,>=2.5 in /usr/local/lib/python3.7/dist-packages (from requests->transformers==4.8.2) (2.10)\n",
            "Requirement already satisfied: six in /usr/local/lib/python3.7/dist-packages (from sacremoses->transformers==4.8.2) (1.15.0)\n",
            "Requirement already satisfied: click in /usr/local/lib/python3.7/dist-packages (from sacremoses->transformers==4.8.2) (7.1.2)\n",
            "Requirement already satisfied: joblib in /usr/local/lib/python3.7/dist-packages (from sacremoses->transformers==4.8.2) (1.2.0)\n",
            "Building wheels for collected packages: sacremoses\n",
            "  Building wheel for sacremoses (setup.py) ... \u001b[?25l\u001b[?25hdone\n",
            "  Created wheel for sacremoses: filename=sacremoses-0.0.53-py3-none-any.whl size=895260 sha256=ad318378b32639bac09a9ef9922072839bf237f684fa5f70281a86c6a53c90c0\n",
            "  Stored in directory: /root/.cache/pip/wheels/87/39/dd/a83eeef36d0bf98e7a4d1933a4ad2d660295a40613079bafc9\n",
            "Successfully built sacremoses\n",
            "Installing collected packages: tokenizers, sacremoses, huggingface-hub, transformers\n",
            "Successfully installed huggingface-hub-0.0.12 sacremoses-0.0.53 tokenizers-0.10.3 transformers-4.8.2\n"
          ]
        }
      ],
      "source": [
        "!pip install soynlp\n",
        "!pip install emoji\n",
        "!pip install transformers==4.8.2"
      ]
    },
    {
      "cell_type": "markdown",
      "metadata": {
        "id": "_P6pjIkRBeFZ"
      },
      "source": [
        "`-` 런타임 재시작"
      ]
    },
    {
      "cell_type": "markdown",
      "metadata": {
        "id": "68xM6jF0ZchA"
      },
      "source": [
        "## 데이터 불러오기"
      ]
    },
    {
      "cell_type": "code",
      "execution_count": 4,
      "metadata": {
        "id": "zJnLWFhmMGG4"
      },
      "outputs": [],
      "source": [
        "import numpy as np\n",
        "import pandas as pd\n",
        "import seaborn as sns\n",
        "import matplotlib.pyplot as plt\n",
        "import warnings\n",
        "import random\n",
        "import json\n",
        "import os\n",
        "import re\n",
        "import gc\n",
        "\n",
        "from sklearn.model_selection import StratifiedKFold\n",
        "from sklearn.preprocessing import LabelEncoder, MultiLabelBinarizer\n",
        "from sklearn.metrics import precision_score, recall_score, f1_score\n",
        "\n",
        "from typing import Any, Callable, Dict, List, Optional, Sequence, Tuple, Union\n",
        "from numpy.typing import NDArray\n",
        "\n",
        "from tqdm.auto import tqdm\n",
        "from glob import glob\n",
        "\n",
        "warnings.filterwarnings('ignore') "
      ]
    },
    {
      "cell_type": "code",
      "execution_count": 5,
      "metadata": {
        "colab": {
          "base_uri": "https://localhost:8080/"
        },
        "id": "GjvmmVOVMW_P",
        "outputId": "0f9730e6-b690-4ac2-ab54-b4330b16500f"
      },
      "outputs": [
        {
          "output_type": "stream",
          "name": "stdout",
          "text": [
            "Mounted at /content/drive\n"
          ]
        }
      ],
      "source": [
        "from google.colab import drive\n",
        "\n",
        "drive.mount('/content/drive')  ## 구글코랩과 구글드라이브 연결"
      ]
    },
    {
      "cell_type": "code",
      "execution_count": 6,
      "metadata": {
        "colab": {
          "base_uri": "https://localhost:8080/"
        },
        "id": "eVxuuFzhM72P",
        "outputId": "78df3534-5560-4d6a-eb7e-09620dc47fc2"
      },
      "outputs": [
        {
          "output_type": "stream",
          "name": "stdout",
          "text": [
            "/content/drive/MyDrive/Colab Notebooks/속성기반-감성-분류\n"
          ]
        }
      ],
      "source": [
        "%cd  '/content/drive/MyDrive/Colab Notebooks/속성기반-감성-분류'"
      ]
    },
    {
      "cell_type": "markdown",
      "metadata": {
        "id": "MRrJ4A5RKC4B"
      },
      "source": [
        "- 데이터 불러오기"
      ]
    },
    {
      "cell_type": "code",
      "source": [
        "JsonType = Dict[str, Any]"
      ],
      "metadata": {
        "id": "r8sfDvtF3xIa"
      },
      "execution_count": 7,
      "outputs": []
    },
    {
      "cell_type": "code",
      "source": [
        "train_path = './data/nikluge-sa-2022-train.jsonl'\n",
        "valid_path = './data/nikluge-sa-2022-dev.jsonl'\n",
        "test_path = './data/nikluge-sa-2022-test.jsonl'\n",
        "submission_path = './data/nikluge-sa-2022-submission.json'"
      ],
      "metadata": {
        "id": "N7JdJZofCXED"
      },
      "execution_count": 8,
      "outputs": []
    },
    {
      "cell_type": "code",
      "source": [
        "def load_jsonl(file_path: str, encoding: str = 'utf-8') -> List[JsonType]:\n",
        "    \"\"\"jsonl 파일을 읽어서 list에 저장\"\"\"\n",
        "    json_list = []\n",
        "    with open(file_path, encoding=encoding) as f:\n",
        "        for line in f.readlines():\n",
        "            json_list.append(json.loads(line))\n",
        "    return json_list"
      ],
      "metadata": {
        "id": "0UXPB5Wh0clN"
      },
      "execution_count": 9,
      "outputs": []
    },
    {
      "cell_type": "code",
      "source": [
        "def write_jsonl(jsonl: List[JsonType], file_path: str) -> None:\n",
        "    \"\"\"jsonl 파일을 write\"\"\"\n",
        "    with open(file_path, mode='w', encoding='utf-8') as f: \n",
        "        for j in jsonl: \n",
        "            f.write(json.dumps(j, ensure_ascii=False) + '\\n')"
      ],
      "metadata": {
        "id": "HFCXueZYU2ha"
      },
      "execution_count": 10,
      "outputs": []
    },
    {
      "cell_type": "code",
      "source": [
        "def jsonl2df(jsonl: List[JsonType], is_test=False) -> pd.DataFrame:\n",
        "    \"\"\"\n",
        "    jsonl을 dataframe으로 변경한 후 반환\n",
        "    For entity property classification\n",
        "    \"\"\"\n",
        "    ids = []\n",
        "    texts = []\n",
        "    entity_properties = []\n",
        "    sentiments = []\n",
        "    \n",
        "    for json in jsonl:\n",
        "        annotations = json['annotation']\n",
        "        ids.append(json['id'].split('-')[-1])\n",
        "        texts.append(json['sentence_form'])\n",
        "        entity_properties.append([annotation[0] for annotation in annotations])\n",
        "        if is_test:\n",
        "            sentiments.append([annotation[1] for annotation in annotations])\n",
        "        else:\n",
        "            sentiments.append([annotation[2] for annotation in annotations])\n",
        "        \n",
        "    df = pd.DataFrame({'id':ids,\n",
        "                        'text':texts,\n",
        "                        'entity_property':entity_properties,\n",
        "                        'sentiment':sentiments})\n",
        "    return df"
      ],
      "metadata": {
        "id": "K6WYFPN8Fh7f"
      },
      "execution_count": 11,
      "outputs": []
    },
    {
      "cell_type": "code",
      "source": [
        "def to_tidy(df: pd.DataFrame, exist_sentiment: bool = True) -> pd.DataFrame:\n",
        "    \"\"\"\n",
        "    entity_property 변수가 한 행에 하나의 개체 속성만 가지도록 변환\n",
        "    For visualization and sentiment classification\n",
        "    \"\"\"\n",
        "    list_df = df.to_numpy().tolist()\n",
        "    ids = []\n",
        "    texts = []\n",
        "    entity_properties = []\n",
        "    sentiments = []\n",
        "\n",
        "    for id, text, entity_property, sentiment in list_df:\n",
        "        if not exist_sentiment:\n",
        "            sentiment = [[] for _ in range(len(entity_property))]\n",
        "\n",
        "        for e, s in zip(entity_property, sentiment):\n",
        "            ids.append(id)\n",
        "            texts.append(text)\n",
        "            entity_properties.append(e)\n",
        "            sentiments.append(s) \n",
        "\n",
        "    df = pd.DataFrame({'id':ids,\n",
        "                       'text':texts,\n",
        "                       'entity_property':entity_properties,\n",
        "                       'sentiment':sentiments})\n",
        "    return df"
      ],
      "metadata": {
        "id": "LOhs4Kv8kzHe"
      },
      "execution_count": 12,
      "outputs": []
    },
    {
      "cell_type": "code",
      "source": [
        "def to_untidy(df: pd.DataFrame) -> pd.DataFrame:\n",
        "    ids = []\n",
        "    texts = []\n",
        "    entity_properties = [] \n",
        "    sentiments = [] \n",
        "\n",
        "    for id in sorted(df['id'].unique()):\n",
        "        tmp = df.query('id == @id')\n",
        "        ids.append(id)\n",
        "        texts.append(tmp['text'].values[0])\n",
        "        entity_properties.append(tmp['entity_property'].tolist())\n",
        "        sentiments.append(tmp['sentiment'].tolist())\n",
        "\n",
        "    df = pd.DataFrame({'id':ids,\n",
        "                       'text':texts,\n",
        "                       'entity_property':entity_properties,\n",
        "                       'sentiment':sentiments})\n",
        "    return df"
      ],
      "metadata": {
        "id": "aA-qCHevaqCh"
      },
      "execution_count": 13,
      "outputs": []
    },
    {
      "cell_type": "code",
      "source": [
        "df = jsonl2df(load_jsonl(train_path))\n",
        "tidy_df = to_tidy(df)\n",
        "\n",
        "valid = jsonl2df(load_jsonl(valid_path))\n",
        "tidy_valid = to_tidy(valid)\n",
        "\n",
        "test = jsonl2df(load_jsonl(test_path))"
      ],
      "metadata": {
        "id": "dl5XJ4wb7joA"
      },
      "execution_count": 30,
      "outputs": []
    },
    {
      "cell_type": "code",
      "source": [
        "tidy_df.head() "
      ],
      "metadata": {
        "colab": {
          "base_uri": "https://localhost:8080/",
          "height": 206
        },
        "id": "r9XYDh4m070J",
        "outputId": "264e7414-ed48-4336-9485-0db82eaa1f6f"
      },
      "execution_count": 15,
      "outputs": [
        {
          "output_type": "execute_result",
          "data": {
            "text/plain": [
              "      id                                               text entity_property  \\\n",
              "0  00001             둘쨋날은 미친듯이 밟아봤더니 기어가 헛돌면서 틱틱 소리가 나서 경악.           본품#품질   \n",
              "1  00002  이거 뭐 삐꾸를 준 거 아냐 불안하고, 거금 투자한 게 왜 이래.. 싶어서 정이 확...           본품#품질   \n",
              "2  00003               간사하게도 그 이후에는 라이딩이 아주 즐거워져서 만족스럽게 탔다.        제품 전체#일반   \n",
              "3  00004  샥이 없는 모델이라 일반 도로에서 타면 노면의 진동 때문에 손목이 덜덜덜 떨리고 이...        제품 전체#일반   \n",
              "4  00005                     안장도 딱딱해서 엉덩이가 아팠는데 무시하고 타고 있다.           본품#일반   \n",
              "\n",
              "  sentiment  \n",
              "0  negative  \n",
              "1  negative  \n",
              "2  positive  \n",
              "3   neutral  \n",
              "4  negative  "
            ],
            "text/html": [
              "\n",
              "  <div id=\"df-d184c529-3174-4708-9d70-e5e46df97599\">\n",
              "    <div class=\"colab-df-container\">\n",
              "      <div>\n",
              "<style scoped>\n",
              "    .dataframe tbody tr th:only-of-type {\n",
              "        vertical-align: middle;\n",
              "    }\n",
              "\n",
              "    .dataframe tbody tr th {\n",
              "        vertical-align: top;\n",
              "    }\n",
              "\n",
              "    .dataframe thead th {\n",
              "        text-align: right;\n",
              "    }\n",
              "</style>\n",
              "<table border=\"1\" class=\"dataframe\">\n",
              "  <thead>\n",
              "    <tr style=\"text-align: right;\">\n",
              "      <th></th>\n",
              "      <th>id</th>\n",
              "      <th>text</th>\n",
              "      <th>entity_property</th>\n",
              "      <th>sentiment</th>\n",
              "    </tr>\n",
              "  </thead>\n",
              "  <tbody>\n",
              "    <tr>\n",
              "      <th>0</th>\n",
              "      <td>00001</td>\n",
              "      <td>둘쨋날은 미친듯이 밟아봤더니 기어가 헛돌면서 틱틱 소리가 나서 경악.</td>\n",
              "      <td>본품#품질</td>\n",
              "      <td>negative</td>\n",
              "    </tr>\n",
              "    <tr>\n",
              "      <th>1</th>\n",
              "      <td>00002</td>\n",
              "      <td>이거 뭐 삐꾸를 준 거 아냐 불안하고, 거금 투자한 게 왜 이래.. 싶어서 정이 확...</td>\n",
              "      <td>본품#품질</td>\n",
              "      <td>negative</td>\n",
              "    </tr>\n",
              "    <tr>\n",
              "      <th>2</th>\n",
              "      <td>00003</td>\n",
              "      <td>간사하게도 그 이후에는 라이딩이 아주 즐거워져서 만족스럽게 탔다.</td>\n",
              "      <td>제품 전체#일반</td>\n",
              "      <td>positive</td>\n",
              "    </tr>\n",
              "    <tr>\n",
              "      <th>3</th>\n",
              "      <td>00004</td>\n",
              "      <td>샥이 없는 모델이라 일반 도로에서 타면 노면의 진동 때문에 손목이 덜덜덜 떨리고 이...</td>\n",
              "      <td>제품 전체#일반</td>\n",
              "      <td>neutral</td>\n",
              "    </tr>\n",
              "    <tr>\n",
              "      <th>4</th>\n",
              "      <td>00005</td>\n",
              "      <td>안장도 딱딱해서 엉덩이가 아팠는데 무시하고 타고 있다.</td>\n",
              "      <td>본품#일반</td>\n",
              "      <td>negative</td>\n",
              "    </tr>\n",
              "  </tbody>\n",
              "</table>\n",
              "</div>\n",
              "      <button class=\"colab-df-convert\" onclick=\"convertToInteractive('df-d184c529-3174-4708-9d70-e5e46df97599')\"\n",
              "              title=\"Convert this dataframe to an interactive table.\"\n",
              "              style=\"display:none;\">\n",
              "        \n",
              "  <svg xmlns=\"http://www.w3.org/2000/svg\" height=\"24px\"viewBox=\"0 0 24 24\"\n",
              "       width=\"24px\">\n",
              "    <path d=\"M0 0h24v24H0V0z\" fill=\"none\"/>\n",
              "    <path d=\"M18.56 5.44l.94 2.06.94-2.06 2.06-.94-2.06-.94-.94-2.06-.94 2.06-2.06.94zm-11 1L8.5 8.5l.94-2.06 2.06-.94-2.06-.94L8.5 2.5l-.94 2.06-2.06.94zm10 10l.94 2.06.94-2.06 2.06-.94-2.06-.94-.94-2.06-.94 2.06-2.06.94z\"/><path d=\"M17.41 7.96l-1.37-1.37c-.4-.4-.92-.59-1.43-.59-.52 0-1.04.2-1.43.59L10.3 9.45l-7.72 7.72c-.78.78-.78 2.05 0 2.83L4 21.41c.39.39.9.59 1.41.59.51 0 1.02-.2 1.41-.59l7.78-7.78 2.81-2.81c.8-.78.8-2.07 0-2.86zM5.41 20L4 18.59l7.72-7.72 1.47 1.35L5.41 20z\"/>\n",
              "  </svg>\n",
              "      </button>\n",
              "      \n",
              "  <style>\n",
              "    .colab-df-container {\n",
              "      display:flex;\n",
              "      flex-wrap:wrap;\n",
              "      gap: 12px;\n",
              "    }\n",
              "\n",
              "    .colab-df-convert {\n",
              "      background-color: #E8F0FE;\n",
              "      border: none;\n",
              "      border-radius: 50%;\n",
              "      cursor: pointer;\n",
              "      display: none;\n",
              "      fill: #1967D2;\n",
              "      height: 32px;\n",
              "      padding: 0 0 0 0;\n",
              "      width: 32px;\n",
              "    }\n",
              "\n",
              "    .colab-df-convert:hover {\n",
              "      background-color: #E2EBFA;\n",
              "      box-shadow: 0px 1px 2px rgba(60, 64, 67, 0.3), 0px 1px 3px 1px rgba(60, 64, 67, 0.15);\n",
              "      fill: #174EA6;\n",
              "    }\n",
              "\n",
              "    [theme=dark] .colab-df-convert {\n",
              "      background-color: #3B4455;\n",
              "      fill: #D2E3FC;\n",
              "    }\n",
              "\n",
              "    [theme=dark] .colab-df-convert:hover {\n",
              "      background-color: #434B5C;\n",
              "      box-shadow: 0px 1px 3px 1px rgba(0, 0, 0, 0.15);\n",
              "      filter: drop-shadow(0px 1px 2px rgba(0, 0, 0, 0.3));\n",
              "      fill: #FFFFFF;\n",
              "    }\n",
              "  </style>\n",
              "\n",
              "      <script>\n",
              "        const buttonEl =\n",
              "          document.querySelector('#df-d184c529-3174-4708-9d70-e5e46df97599 button.colab-df-convert');\n",
              "        buttonEl.style.display =\n",
              "          google.colab.kernel.accessAllowed ? 'block' : 'none';\n",
              "\n",
              "        async function convertToInteractive(key) {\n",
              "          const element = document.querySelector('#df-d184c529-3174-4708-9d70-e5e46df97599');\n",
              "          const dataTable =\n",
              "            await google.colab.kernel.invokeFunction('convertToInteractive',\n",
              "                                                     [key], {});\n",
              "          if (!dataTable) return;\n",
              "\n",
              "          const docLinkHtml = 'Like what you see? Visit the ' +\n",
              "            '<a target=\"_blank\" href=https://colab.research.google.com/notebooks/data_table.ipynb>data table notebook</a>'\n",
              "            + ' to learn more about interactive tables.';\n",
              "          element.innerHTML = '';\n",
              "          dataTable['output_type'] = 'display_data';\n",
              "          await google.colab.output.renderOutput(dataTable, element);\n",
              "          const docLink = document.createElement('div');\n",
              "          docLink.innerHTML = docLinkHtml;\n",
              "          element.appendChild(docLink);\n",
              "        }\n",
              "      </script>\n",
              "    </div>\n",
              "  </div>\n",
              "  "
            ]
          },
          "metadata": {},
          "execution_count": 15
        }
      ]
    },
    {
      "cell_type": "markdown",
      "metadata": {
        "id": "NN7RHXuYr88l"
      },
      "source": [
        "- 하이퍼파라미터 (개체 속성과 감성)"
      ]
    },
    {
      "cell_type": "code",
      "execution_count": 114,
      "metadata": {
        "id": "ZBe2gEgzr-q1"
      },
      "outputs": [],
      "source": [
        "MODEL_PATHS = {'electra':'kykim/electra-kor-base', \n",
        "               'bert':'kykim/bert-kor-base',}\n",
        "\n",
        "MODEL_NAME = 'electra'\n",
        "MODEL_DEFAULT_WEIGHT_PATHS = {'ACD':f'acd_{MODEL_NAME}_default_weight.pt', \n",
        "                              'ASC':f'asc_{MODEL_NAME}_default_weight.pt'} \n",
        "\n",
        "SAVE_PATHS = {'ACD':'./acd_weight',\n",
        "              'ASC':'./asc_weight'}\n",
        "\n",
        "NUM_CLASSES = {'ACD':len(tidy_df['entity_property'].unique()),   \n",
        "               'ASC':len(tidy_df['sentiment'].unique())}\n",
        "NUM_FOLDS = 3\n",
        "NUM_EPOCHS = {'ACD':30, 'ASC':20}\n",
        "MAX_LEN = 45\n",
        "BATCH_SIZE = 64\n",
        "LEARNING_RATE = {'ACD':1e-4, 'ASC':1e-5}\n",
        "LABEL_SMOOTHING = 0.05\n",
        "SEEDS = [2022, 2025, 2026]  ## seed ensemble\n",
        "NUM_FOLDS = len(SEEDS) "
      ]
    },
    {
      "cell_type": "markdown",
      "metadata": {
        "id": "II2XMQAVsAQt"
      },
      "source": [
        "- 가중치 저장폴더"
      ]
    },
    {
      "cell_type": "code",
      "execution_count": 16,
      "metadata": {
        "id": "YnpAfBHMsCb1"
      },
      "outputs": [],
      "source": [
        "def create_folder(path: str) -> None:\n",
        "    try:\n",
        "        if not os.path.exists(path):\n",
        "            os.makedirs(path)\n",
        "    except OSError as error:\n",
        "        print(error)"
      ]
    },
    {
      "cell_type": "code",
      "execution_count": 17,
      "metadata": {
        "id": "WRCnOvxlsE2F"
      },
      "outputs": [],
      "source": [
        "create_folder(SAVE_PATHS['ACD'])\n",
        "create_folder(SAVE_PATHS['ASC'])"
      ]
    },
    {
      "cell_type": "markdown",
      "metadata": {
        "id": "bvB62nkihj3a"
      },
      "source": [
        "## 시각화"
      ]
    },
    {
      "cell_type": "markdown",
      "metadata": {
        "id": "5HSm1gzTxO0e"
      },
      "source": [
        "### 라벨"
      ]
    },
    {
      "cell_type": "code",
      "source": [
        "plt.rc('font', family='NanumBarunGothic')"
      ],
      "metadata": {
        "id": "j2rL6owHJRmP"
      },
      "execution_count": null,
      "outputs": []
    },
    {
      "cell_type": "code",
      "source": [
        "sns.countplot(tidy_df['sentiment'])"
      ],
      "metadata": {
        "colab": {
          "base_uri": "https://localhost:8080/",
          "height": 297
        },
        "id": "eva2cOqI8WoI",
        "outputId": "be983115-5c54-48d3-86e2-3d0ea0c808ff"
      },
      "execution_count": 23,
      "outputs": [
        {
          "output_type": "execute_result",
          "data": {
            "text/plain": [
              "<matplotlib.axes._subplots.AxesSubplot at 0x7fb7ae120310>"
            ]
          },
          "metadata": {},
          "execution_count": 23
        },
        {
          "output_type": "display_data",
          "data": {
            "text/plain": [
              "<Figure size 432x288 with 1 Axes>"
            ],
            "image/png": "[encoded data removed]"
          },
          "metadata": {
            "needs_background": "light"
          }
        }
      ]
    },
    {
      "cell_type": "markdown",
      "source": [
        "`-` 라벨 불균형이 매우 심하다\n",
        "\n",
        "`-` 하지만 평가 산식은 단순히 라벨을 맞췄냐 못맞췄냐로만 판단한다\n",
        "\n",
        "`-` 즉, 단순 `f1 score`이므로 적은 클래스의 카테고리는 내다 버려도 좋은 점수를 얻을 수 있다\n",
        "\n",
        "`-` 속성 기반 감성 분류인데 감성 대부분이 긍정이므로 사실상 속성 분류 테스크와 같다\n",
        "\n",
        "`-` 그런데 train과 test의 분포가 다르다면?......\n",
        "\n",
        "`-` 무작위로 샘플링했다면 둘의 분포가 비슷할 것이다"
      ],
      "metadata": {
        "id": "sOeqzs7sslzg"
      }
    },
    {
      "cell_type": "markdown",
      "source": [
        "### 개체 속성"
      ],
      "metadata": {
        "id": "TgEDPR4vAUVw"
      }
    },
    {
      "cell_type": "code",
      "source": [
        "sns.countplot(y=tidy_df['entity_property'], order=tidy_df['entity_property'].value_counts().index)"
      ],
      "metadata": {
        "colab": {
          "base_uri": "https://localhost:8080/",
          "height": 297
        },
        "id": "gIw-zi-H24iw",
        "outputId": "d20f1986-c92d-4da9-982b-48388b333117"
      },
      "execution_count": null,
      "outputs": [
        {
          "output_type": "execute_result",
          "data": {
            "text/plain": [
              "<matplotlib.axes._subplots.AxesSubplot at 0x7f43af749510>"
            ]
          },
          "metadata": {},
          "execution_count": 12
        },
        {
          "output_type": "display_data",
          "data": {
            "text/plain": [
              "<Figure size 432x288 with 1 Axes>"
            ],
            "image/png": "[encoded data removed]"
          },
          "metadata": {
            "needs_background": "light"
          }
        }
      ]
    },
    {
      "cell_type": "markdown",
      "source": [
        "`-` 개체 속성도 불균형이 심하다\n",
        "\n",
        "`-` 하지만 단순히 맞췄냐 못맞췄냐로 판단하므로 적은 클래스는 내다 버려도 좋은 점수를 얻을 수 있다"
      ],
      "metadata": {
        "id": "ZU6YpGIsA1sP"
      }
    },
    {
      "cell_type": "markdown",
      "source": [
        "### 텍스트"
      ],
      "metadata": {
        "id": "lh9oPb8rZNef"
      }
    },
    {
      "cell_type": "code",
      "source": [
        "df['text'].str.len().describe()"
      ],
      "metadata": {
        "colab": {
          "base_uri": "https://localhost:8080/"
        },
        "id": "Hb5qwbEwaQUi",
        "outputId": "b6f998da-15fa-4492-b796-9d5f5cb20ba2"
      },
      "execution_count": null,
      "outputs": [
        {
          "output_type": "execute_result",
          "data": {
            "text/plain": [
              "count    3001.00000\n",
              "mean       33.91103\n",
              "std        20.15056\n",
              "min         1.00000\n",
              "25%        19.00000\n",
              "50%        30.00000\n",
              "75%        44.00000\n",
              "max       161.00000\n",
              "Name: text, dtype: float64"
            ]
          },
          "metadata": {},
          "execution_count": 20
        }
      ]
    },
    {
      "cell_type": "code",
      "source": [
        "df['text'].str.len().plot.box()"
      ],
      "metadata": {
        "colab": {
          "base_uri": "https://localhost:8080/",
          "height": 283
        },
        "id": "ht4nnlSfZOaX",
        "outputId": "46128d0c-d14b-4293-fb3e-e8f8b6293b61"
      },
      "execution_count": null,
      "outputs": [
        {
          "output_type": "execute_result",
          "data": {
            "text/plain": [
              "<matplotlib.axes._subplots.AxesSubplot at 0x7f657aa1d550>"
            ]
          },
          "metadata": {},
          "execution_count": 21
        },
        {
          "output_type": "display_data",
          "data": {
            "text/plain": [
              "<Figure size 432x288 with 1 Axes>"
            ],
            "image/png": "[encoded data removed]"
          },
          "metadata": {
            "needs_background": "light"
          }
        }
      ]
    },
    {
      "cell_type": "code",
      "source": [
        "emoji_dict = {'👍':'좋아요',\n",
        "              '👍🏻':'좋아요',\n",
        "              '❤':'좋아요',\n",
        "              '♥️':'좋아요',\n",
        "              '♥':'좋아요',\n",
        "              '💕':'좋아요',\n",
        "              '💖':'좋아요',\n",
        "              '❣️':'좋아요',\n",
        "              '💜':'좋아요',\n",
        "              '😄':'좋아요',\n",
        "              '😊':'좋아요',\n",
        "              '😁':'좋아요',\n",
        "              '😍':'좋아요',\n",
        "              '🤩':'좋아요',\n",
        "              '🤗':'좋아요',\n",
        "              '😆':'좋아요',\n",
        "              '😀':'좋아요',\n",
        "              '👌':'좋아요',\n",
        "              '👏':'좋아요',\n",
        "              '^^':'좋아요',\n",
        "              '>_<':'좋아요',\n",
        "              '^-^':'좋아요',}"
      ],
      "metadata": {
        "id": "8HLM8fPwuoFA"
      },
      "execution_count": 29,
      "outputs": []
    },
    {
      "cell_type": "code",
      "source": [
        "def check_hashtag_df(texts: Sequence[str]) -> Dict[str, int]:\n",
        "    \"\"\"해시태그의 document frequency를 계산\"\"\"\n",
        "    hashtag_dict = {}\n",
        "    for text in texts:\n",
        "        text = text.lower()\n",
        "        words = text.split()\n",
        "        duplicate = {}\n",
        "        for word in words:\n",
        "            if '#' in word and word not in duplicate:\n",
        "                if word not in hashtag_dict:\n",
        "                    hashtag_dict[word] = 1\n",
        "                else:\n",
        "                    hashtag_dict[word] += 1\n",
        "                duplicate[word] = True\n",
        "\n",
        "    hashtag_dict.update({'고유한 해시태그 개수':len(hashtag_dict)})\n",
        "    hashtag_dict = sorted(hashtag_dict.items(), key=lambda item: item[1], reverse=True)\n",
        "    return hashtag_dict"
      ],
      "metadata": {
        "id": "Thv69xDVlOLU"
      },
      "execution_count": 98,
      "outputs": []
    },
    {
      "cell_type": "code",
      "source": [
        "def check_emoji_df(texts: Sequence[str]) -> Dict[str, int]:\n",
        "    \"\"\"이모지의 document frequency를 계산\"\"\"\n",
        "    emoji_dict = {}\n",
        "    for text in texts:\n",
        "        text = text.lower()\n",
        "        words = text.split()\n",
        "        duplicate = {}\n",
        "        for word in words:\n",
        "            if emoji.is_emoji(word) and word not in duplicate:\n",
        "                if word not in emoji_dict:\n",
        "                    emoji_dict[word] = 1\n",
        "                else:\n",
        "                    emoji_dict[word] += 1\n",
        "                duplicate[word] = True\n",
        "\n",
        "    emoji_dict.update({'고유한 이모지 개수':len(emoji_dict)})\n",
        "    emoji_dict = sorted(emoji_dict.items(), key=lambda item: item[1], reverse=True)\n",
        "    return emoji_dict"
      ],
      "metadata": {
        "id": "KdmddzOJ_bQl"
      },
      "execution_count": 18,
      "outputs": []
    },
    {
      "cell_type": "code",
      "source": [
        "def check_word_counts(word: str, texts: Sequence[str], labels: NDArray[np.str_]) -> Dict[str, int]:\n",
        "    count_dict = {}\n",
        "    for idx, text in enumerate(texts):\n",
        "        text = text.lower()\n",
        "        label = labels[idx]\n",
        "        if word in text:   \n",
        "            if label not in count_dict:\n",
        "                count_dict[label] = 1\n",
        "            else:\n",
        "                count_dict[label] += 1\n",
        "\n",
        "    all_counts = sum([np.sum(labels == key) for key in list(count_dict.keys())])\n",
        "    count_dict.update({'합계':sum(count_dict.values())})\n",
        "    count_list = list(count_dict.items())\n",
        "    count_list = list(map(list, count_list))\n",
        "\n",
        "    for item in count_list:\n",
        "        if item[0] == '합계':\n",
        "            item.append(all_counts)\n",
        "        else:\n",
        "            item.append(np.sum(labels == item[0]))\n",
        "\n",
        "    count_list = sorted(count_list, key=lambda item: (-item[1], -item[2]))\n",
        "    return count_list"
      ],
      "metadata": {
        "id": "WKEIC_rySYcK"
      },
      "execution_count": 19,
      "outputs": []
    },
    {
      "cell_type": "code",
      "source": [
        "# check_hashtag_df(tidy_df['text'].values)"
      ],
      "metadata": {
        "id": "qo_WPQfqmavL"
      },
      "execution_count": 100,
      "outputs": []
    },
    {
      "cell_type": "code",
      "source": [
        "# check_emoji_df(tidy_df['text'].values)"
      ],
      "metadata": {
        "id": "d_Fd7MCo_10k"
      },
      "execution_count": 101,
      "outputs": []
    },
    {
      "cell_type": "code",
      "source": [
        "check_word_counts('#', tidy_df['text'].values, tidy_df['entity_property'].values)"
      ],
      "metadata": {
        "colab": {
          "base_uri": "https://localhost:8080/"
        },
        "id": "SeW4sgAWm9bc",
        "outputId": "32e3e070-73ce-4937-d02b-2eaa4809f766"
      },
      "execution_count": 103,
      "outputs": [
        {
          "output_type": "execute_result",
          "data": {
            "text/plain": [
              "[['합계', 893, 3254],\n",
              " ['제품 전체#일반', 327, 848],\n",
              " ['본품#품질', 246, 1196],\n",
              " ['제품 전체#품질', 75, 242],\n",
              " ['본품#일반', 56, 256],\n",
              " ['제품 전체#디자인', 35, 158],\n",
              " ['브랜드#일반', 32, 53],\n",
              " ['제품 전체#인지도', 31, 66],\n",
              " ['제품 전체#편의성', 25, 94],\n",
              " ['본품#편의성', 16, 95],\n",
              " ['패키지/구성품#디자인', 13, 54],\n",
              " ['제품 전체#가격', 9, 49],\n",
              " ['패키지/구성품#편의성', 6, 38],\n",
              " ['패키지/구성품#일반', 5, 30],\n",
              " ['본품#다양성', 4, 21],\n",
              " ['브랜드#인지도', 4, 9],\n",
              " ['브랜드#품질', 3, 13],\n",
              " ['패키지/구성품#품질', 2, 11],\n",
              " ['본품#디자인', 1, 15],\n",
              " ['브랜드#가격', 1, 3],\n",
              " ['본품#가격', 1, 2],\n",
              " ['본품#인지도', 1, 1]]"
            ]
          },
          "metadata": {},
          "execution_count": 103
        }
      ]
    },
    {
      "cell_type": "markdown",
      "source": [
        "`-` 이모티콘은 모델이 학습하지 못하므로 이모티콘의 의미로 바꿔주었다 (성능 향상이 있을 것)"
      ],
      "metadata": {
        "id": "3Es84kSuvnIQ"
      }
    },
    {
      "cell_type": "markdown",
      "source": [
        "### 텍스트 길이와 토큰 길이"
      ],
      "metadata": {
        "id": "RHzBEFbVRYgW"
      }
    },
    {
      "cell_type": "code",
      "source": [
        "import torch\n",
        "from transformers import AutoTokenizer"
      ],
      "metadata": {
        "id": "FHdqWxeW-4ZV"
      },
      "execution_count": 28,
      "outputs": []
    },
    {
      "cell_type": "code",
      "source": [
        "import re\n",
        "import emoji\n",
        "from soynlp.normalizer import repeat_normalize\n",
        "\n",
        "pattern = re.compile(f'[^ .,?!/@$%~％·∼()\\x00-\\x7Fㄱ-ㅣ가-힣]+')\n",
        "url_pattern = re.compile(\n",
        "    r'https?:\\/\\/(www\\.)?[-a-zA-Z0-9@:%._\\+~#=]{1,256}\\.[a-zA-Z0-9()]{1,6}\\b([-a-zA-Z0-9()@:%_\\+.~#?&//=]*)')"
      ],
      "metadata": {
        "id": "-_ccSl4Xb-VJ"
      },
      "execution_count": 20,
      "outputs": []
    },
    {
      "cell_type": "code",
      "source": [
        "def minor2major(text: str, minor2major_dict: Dict[str, str]) -> str:\n",
        "    for minor, major in minor2major_dict.items():\n",
        "        text = text.replace(minor, f' {major} ')\n",
        "    return text"
      ],
      "metadata": {
        "id": "BjKzf4foOa2S"
      },
      "execution_count": 31,
      "outputs": []
    },
    {
      "cell_type": "code",
      "source": [
        "def clean_text(text: str) -> str:\n",
        "    text = pattern.sub(' ', text)\n",
        "    text = emoji.replace_emoji(text, replace='')  ## emoji 삭제\n",
        "    text = url_pattern.sub('', text)  ## url 삭제\n",
        "    text = re.sub(r'\\s+', ' ', text)  ## 다중 공백 제거\n",
        "    text = text.strip()\n",
        "    text = repeat_normalize(text, num_repeats=2)\n",
        "    return text"
      ],
      "metadata": {
        "id": "OUx4eV3XPaHg"
      },
      "execution_count": 32,
      "outputs": []
    },
    {
      "cell_type": "code",
      "source": [
        "def preprocessing(text: str) -> str:\n",
        "    text = minor2major(text, emoji_dict)\n",
        "    text = clean_text(text)\n",
        "    return text"
      ],
      "metadata": {
        "id": "Iy0E9HTOUdOI"
      },
      "execution_count": 33,
      "outputs": []
    },
    {
      "cell_type": "code",
      "source": [
        "df['text'] = df['text'].apply(preprocessing)\n",
        "tidy_df['text'] = tidy_df['text'].apply(preprocessing)\n",
        "\n",
        "valid['text'] = valid['text'].apply(preprocessing)\n",
        "tidy_valid['text'] = tidy_valid['text'].apply(preprocessing)\n",
        "\n",
        "test['text'] = test['text'].apply(preprocessing)"
      ],
      "metadata": {
        "id": "Mt5vPZsNCm7U"
      },
      "execution_count": 34,
      "outputs": []
    },
    {
      "cell_type": "code",
      "source": [
        "tokenizer = AutoTokenizer.from_pretrained(MODEL_PATHS[MODEL_NAME])  "
      ],
      "metadata": {
        "id": "ZbvYYzVWUdp0",
        "colab": {
          "base_uri": "https://localhost:8080/",
          "height": 113,
          "referenced_widgets": [
            "8e63d5a67c2549d4bdac35b55f4ac85e",
            "f3f70dcaeba540768f5385dd23b71b0a",
            "c34b8711e50f4fc7970f9a63b5f30d6b",
            "d60587f2ff2c437ca5024045d0055f1c",
            "2692c23b3275438eb1e20751b9f0878b",
            "79ce4ae24b874f1c8450b07a63c3a18a",
            "c7d3ef0badf44c36825f00108d95a9e8",
            "dcd540d12a4245a78a1d0fb20285f678",
            "eb2d2881f6e942af8a4cd340d6addfb7",
            "df3e4439f9c44ecc9b4bf7152f485d3e",
            "e32ed79e1d9646659df38d7e8df05d18",
            "ce106cefcf7e45f998f10503ba28a9ce",
            "cbd6c48fbfb74645a33d6c1afaac13b0",
            "875c91e190a24f3a8d9664044d366f67",
            "00ddcd414c564e04a7a5887406c833a7",
            "fc589c2598a44b5bbbf8d965fbe96d0c",
            "e6ac301d6f5246fa953f6bc192767c56",
            "64ba41c9145c4872a7c8436ff58f5d29",
            "9ed743be8c774ae4ac6568fc5b090cdb",
            "22f36998a8f3429db6be30b0beb66a4d",
            "ebb1c6a3d0b14f73b9ae7d31c18dd43c",
            "c61f86e559924e46a330f0a50abc3132",
            "5c04ab463c2e47aeb4e7877ccb29c91c",
            "81a9163103ee480ba51260e236c59743",
            "b38afcee933340d5a677aaae9ef58f1f",
            "6ee9789334d24742ac68138729c8bd02",
            "c9f4e64a3fa743c5943e6c79939c0343",
            "6cf2b20f4063497fb509d31e97b110b7",
            "63c0b5733316468d91fa5027b33c63de",
            "bd0cb0f82e334e9a897c828c875011cf",
            "60ec4ea5861b4385a192c5c4907acabd",
            "3bd867fb19064d9eb05ee6814d197af8",
            "f7a6c736c0904af58894c81229ba5a4f"
          ]
        },
        "outputId": "9f567d25-0fa3-4d41-ff8b-29f79a38925f"
      },
      "execution_count": 35,
      "outputs": [
        {
          "output_type": "display_data",
          "data": {
            "text/plain": [
              "Downloading:   0%|          | 0.00/80.0 [00:00<?, ?B/s]"
            ],
            "application/vnd.jupyter.widget-view+json": {
              "version_major": 2,
              "version_minor": 0,
              "model_id": "8e63d5a67c2549d4bdac35b55f4ac85e"
            }
          },
          "metadata": {}
        },
        {
          "output_type": "display_data",
          "data": {
            "text/plain": [
              "Downloading:   0%|          | 0.00/725 [00:00<?, ?B/s]"
            ],
            "application/vnd.jupyter.widget-view+json": {
              "version_major": 2,
              "version_minor": 0,
              "model_id": "ce106cefcf7e45f998f10503ba28a9ce"
            }
          },
          "metadata": {}
        },
        {
          "output_type": "display_data",
          "data": {
            "text/plain": [
              "Downloading:   0%|          | 0.00/344k [00:00<?, ?B/s]"
            ],
            "application/vnd.jupyter.widget-view+json": {
              "version_major": 2,
              "version_minor": 0,
              "model_id": "5c04ab463c2e47aeb4e7877ccb29c91c"
            }
          },
          "metadata": {}
        }
      ]
    },
    {
      "cell_type": "markdown",
      "source": [
        "- 텍스트 길이"
      ],
      "metadata": {
        "id": "tW559dmLTeSl"
      }
    },
    {
      "cell_type": "code",
      "source": [
        "train_texts = df['text'].values"
      ],
      "metadata": {
        "id": "cfDJiexqQPzo"
      },
      "execution_count": 36,
      "outputs": []
    },
    {
      "cell_type": "code",
      "source": [
        "texts_len = list(map(len, train_texts))"
      ],
      "metadata": {
        "id": "e814DtteEhXB"
      },
      "execution_count": 37,
      "outputs": []
    },
    {
      "cell_type": "code",
      "source": [
        "plt.boxplot(texts_len)\n",
        "print('25%: ', np.quantile(texts_len, q=0.25))\n",
        "print('50%: ', np.quantile(texts_len, q=0.5))\n",
        "print('75%: ', np.quantile(texts_len, q=0.75))\n",
        "print('85%: ', np.quantile(texts_len, q=0.85))\n",
        "print('90%: ', np.quantile(texts_len, q=0.9))\n",
        "print('95%: ', np.quantile(texts_len, q=0.95))\n",
        "print('99%: ', np.quantile(texts_len, q=0.99))\n",
        "plt.title('Text Length', fontsize=15)\n",
        "plt.show()"
      ],
      "metadata": {
        "colab": {
          "base_uri": "https://localhost:8080/",
          "height": 411
        },
        "id": "Yim33Nn-MYZ-",
        "outputId": "9be73afc-52f8-4da4-da8c-f3d7726e04b1"
      },
      "execution_count": 38,
      "outputs": [
        {
          "output_type": "stream",
          "name": "stdout",
          "text": [
            "25%:  19.0\n",
            "50%:  30.0\n",
            "75%:  44.0\n",
            "85%:  53.0\n",
            "90%:  61.0\n",
            "95%:  72.0\n",
            "99%:  100.0\n"
          ]
        },
        {
          "output_type": "display_data",
          "data": {
            "text/plain": [
              "<Figure size 432x288 with 1 Axes>"
            ],
            "image/png": "[encoded data removed]"
          },
          "metadata": {
            "needs_background": "light"
          }
        }
      ]
    },
    {
      "cell_type": "markdown",
      "source": [
        "- 토큰 길이"
      ],
      "metadata": {
        "id": "w7v4Q5Y3UcEF"
      }
    },
    {
      "cell_type": "code",
      "source": [
        "tokens_len = []\n",
        "for text in tqdm(train_texts):\n",
        "    inputs = tokenizer(\n",
        "            text, \n",
        "            return_tensors='pt',\n",
        "            truncation=True,\n",
        "            max_length=100,\n",
        "            pad_to_max_length=True,\n",
        "            add_special_tokens=True\n",
        "        )\n",
        "    inputs = torch.sum(inputs['attention_mask'])\n",
        "    tokens_len.append(inputs)"
      ],
      "metadata": {
        "colab": {
          "base_uri": "https://localhost:8080/",
          "height": 49,
          "referenced_widgets": [
            "505bade1fcb84a688f2d6d0ef0989d40",
            "9f87920d4dd74b6e8f687b49b965dcdf",
            "75982675bcef4974b1403c0c3b5786d4",
            "de2f829483014b58a80b5c50f0f0cc70",
            "fd842e9a55ec4fe4b28fb9914e8c4b31",
            "8cd5b1fe26be48a391c130f489b9db23",
            "977aab95b4f844818c89f3db2ac2b794",
            "3696d33cfee5402fa106ea2006224640",
            "96e9a0348f7649618ee2bd13b0be28af",
            "2f353ccc8dd54d3f94ba6a8962a61db0",
            "07c8332f45d34c5d83e32d5d3476eddf"
          ]
        },
        "id": "bD_eSH3KUsM_",
        "outputId": "a7ef4fbe-4872-498e-93a0-6dcf9543d67f"
      },
      "execution_count": 39,
      "outputs": [
        {
          "output_type": "display_data",
          "data": {
            "text/plain": [
              "  0%|          | 0/3001 [00:00<?, ?it/s]"
            ],
            "application/vnd.jupyter.widget-view+json": {
              "version_major": 2,
              "version_minor": 0,
              "model_id": "505bade1fcb84a688f2d6d0ef0989d40"
            }
          },
          "metadata": {}
        }
      ]
    },
    {
      "cell_type": "code",
      "source": [
        "plt.boxplot(tokens_len)\n",
        "print('25%: ', np.quantile(tokens_len, q=0.25))\n",
        "print('50%: ', np.quantile(tokens_len, q=0.5))\n",
        "print('75%: ', np.quantile(tokens_len, q=0.75))\n",
        "print('85%: ', np.quantile(tokens_len, q=0.85))\n",
        "print('90%: ', np.quantile(tokens_len, q=0.9))\n",
        "print('95%: ', np.quantile(tokens_len, q=0.95))\n",
        "print('99%: ', np.quantile(tokens_len, q=0.99))\n",
        "plt.title('Token Length', fontsize=15)\n",
        "plt.show()"
      ],
      "metadata": {
        "colab": {
          "base_uri": "https://localhost:8080/",
          "height": 411
        },
        "id": "FJDc_X4BMbmt",
        "outputId": "59dc6232-557a-4ccf-92e1-9c8d8aadb261"
      },
      "execution_count": 40,
      "outputs": [
        {
          "output_type": "stream",
          "name": "stdout",
          "text": [
            "25%:  10.0\n",
            "50%:  14.0\n",
            "75%:  20.0\n",
            "85%:  23.0\n",
            "90%:  26.0\n",
            "95%:  31.0\n",
            "99%:  42.0\n"
          ]
        },
        {
          "output_type": "display_data",
          "data": {
            "text/plain": [
              "<Figure size 432x288 with 1 Axes>"
            ],
            "image/png": "[encoded data removed]"
          },
          "metadata": {
            "needs_background": "light"
          }
        }
      ]
    },
    {
      "cell_type": "markdown",
      "source": [
        "- 산점도"
      ],
      "metadata": {
        "id": "IEhW_BBe2AcL"
      }
    },
    {
      "cell_type": "code",
      "source": [
        "plt.plot(texts_len, tokens_len, '.', alpha=0.05)"
      ],
      "metadata": {
        "colab": {
          "base_uri": "https://localhost:8080/",
          "height": 283
        },
        "id": "R9V-S7242BFS",
        "outputId": "3107a8b1-8cd5-4934-dac1-e00adf1bc9ae"
      },
      "execution_count": 41,
      "outputs": [
        {
          "output_type": "execute_result",
          "data": {
            "text/plain": [
              "[<matplotlib.lines.Line2D at 0x7f1bf2eacdd0>]"
            ]
          },
          "metadata": {},
          "execution_count": 41
        },
        {
          "output_type": "display_data",
          "data": {
            "text/plain": [
              "<Figure size 432x288 with 1 Axes>"
            ],
            "image/png": "[encoded data removed]"
          },
          "metadata": {
            "needs_background": "light"
          }
        }
      ]
    },
    {
      "cell_type": "markdown",
      "source": [
        "`-` $\\text{토큰 길이} \\times 2 \\approx \\text{텍스트 길이}$"
      ],
      "metadata": {
        "id": "OTtW53cR2haD"
      }
    },
    {
      "cell_type": "markdown",
      "source": [
        "## 모델 학습 방법"
      ],
      "metadata": {
        "id": "-KgtTAmF710T"
      }
    },
    {
      "cell_type": "markdown",
      "source": [
        "`-` muti class와 muti label의 차이: https://medium.com/analytics-vidhya/multi-label-classification-a9643d221954\n",
        "\n",
        "`-` 두개의 task를 한 번에 진행할 필요는 없다 (난이도도 다르니 모델 학습 속도도 다름)\n",
        "\n",
        "`-` 개체 속성 분류: muti label classification with single class\n",
        "\n",
        "`-` 감성 분류: muti class classification\n",
        "\n",
        "`-` 개체 속성 분류 train, validate ---> 감성 분류 train, validate ---> ABSA validate\n",
        "\n",
        "`-` 개체 속성은 존재하면 1, 아니면 0으로 라벨링 ---> BCEWithlogitsloss ---> 1인 개체 속성에 대해서만 각각 감성분류\n",
        "\n",
        "`-` 감성 분류에서는 text_pair 인자에 개체 속성을 넘겨줌 ---> CrossEntropy"
      ],
      "metadata": {
        "id": "R30nCuqz73wy"
      }
    },
    {
      "cell_type": "markdown",
      "source": [
        "`-` 개체 속성별로 긍정 데이터 개수의 균형이 맞지 않는다  \n",
        "\n",
        "`-` 예컨대 `본품#인지도`는 3001개의 텍스트 중에서 오직 1번만 나타난다 (긍정 데이터의 개수가 1이다)\n",
        "\n",
        "`-` 반면에 `본품#품질`의 경우 긍정 데이터가 1196개의 텍스트에 존재한다\n",
        "\n",
        "`-` 즉, 3001개의 텍스트를 학습시키는데 `본품#인지도`는 부정(0)인 경우만 과하게 학습하고 `본품#품질`는 다른 개체 속성에 비해 긍정인 경우를 과하게 학습한다\n",
        "\n",
        "`-` 클래스별로 가중치를 주어 클래스별로 균형있게 학습되도록 하자\n",
        "\n",
        "`-` 또한 클래스 각각의 라벨별로 가중치를 주어 클래스별로 긍정, 부정 데이터가 균형있게 학습되도록 하자 \n",
        "\n",
        "`-` 미니배치 단위로 학습하므로 `pos_weight` 만으로는 클래스와 라벨별로 균형있게 학습할 수 없다\n",
        "\n",
        "`-` `본품#인지도`의 경우 1개의 긍정 라벨의 매우 큰 가중치를 주더라도 하나의 미니배치에서만 영향력을 행사하고 그 뒤로는 나머지 클래스에 의해 학습 방향이 조절된다\n",
        "\n",
        "`-` 긍정 라벨의 개수가 30보다 작은 개체 속성에 경우 데이터가 너무 적다고 판단해 `pos_weight`를 1로 부여했다"
      ],
      "metadata": {
        "id": "qXD2Hx-SjWjy"
      }
    },
    {
      "cell_type": "markdown",
      "metadata": {
        "id": "8R8eEwVqa-Yw"
      },
      "source": [
        "## 모델 학습 준비"
      ]
    },
    {
      "cell_type": "code",
      "execution_count": 42,
      "metadata": {
        "id": "n8LBsMPybBJx"
      },
      "outputs": [],
      "source": [
        "import torch\n",
        "import torch.nn as nn\n",
        "import torch.optim as optim\n",
        "import torch.nn.functional as F\n",
        "from torch import Tensor\n",
        "from torch.utils.data import Dataset, DataLoader\n",
        "from torch.optim.lr_scheduler import _LRScheduler\n",
        "from torch.nn.modules.loss import _Loss\n",
        "from torch.optim import Optimizer\n",
        "\n",
        "from transformers import AdamW\n",
        "from transformers.optimization import get_linear_schedule_with_warmup\n",
        "from transformers import AutoTokenizer, AutoModelForSequenceClassification"
      ]
    },
    {
      "cell_type": "code",
      "execution_count": 43,
      "metadata": {
        "colab": {
          "base_uri": "https://localhost:8080/"
        },
        "id": "VHaG21kBKVPp",
        "outputId": "93e425c1-3769-47ab-9dd7-ee278005addf"
      },
      "outputs": [
        {
          "output_type": "stream",
          "name": "stdout",
          "text": [
            "현재 device는 cuda입니다\n"
          ]
        }
      ],
      "source": [
        "DEVICE = torch.device('cuda' if torch.cuda.is_available() else 'cpu')\n",
        "print(f'현재 device는 {DEVICE}입니다')"
      ]
    },
    {
      "cell_type": "code",
      "execution_count": 44,
      "metadata": {
        "id": "Bs1K4etzcwE-"
      },
      "outputs": [],
      "source": [
        "def seed_everything(seed: int) -> None:\n",
        "    random.seed(seed)\n",
        "    os.environ['PYTHONHASHSEED'] = str(seed)\n",
        "    np.random.seed(seed)\n",
        "    torch.manual_seed(seed)\n",
        "    torch.cuda.manual_seed(seed)\n",
        "    torch.backends.cudnn.deterministic = True\n",
        "    torch.backends.cudnn.benchmark = True"
      ]
    },
    {
      "cell_type": "code",
      "execution_count": 45,
      "metadata": {
        "id": "Ts-GMlTEn_YX"
      },
      "outputs": [],
      "source": [
        "def clear_gpu() -> None:\n",
        "    gc.collect()\n",
        "    torch.cuda.empty_cache()"
      ]
    },
    {
      "cell_type": "markdown",
      "source": [
        "- 전처리"
      ],
      "metadata": {
        "id": "7_UxbAtlje5C"
      }
    },
    {
      "cell_type": "code",
      "source": [
        "only_valid_entity_columns = list(set(tidy_valid['entity_property'].unique()) - set(tidy_df['entity_property'].unique()))\n",
        "only_valid_entity_ids = tidy_valid.query('entity_property == @only_valid_entity_columns')['id'].to_numpy().tolist()"
      ],
      "metadata": {
        "id": "uTLfzepyf829"
      },
      "execution_count": 46,
      "outputs": []
    },
    {
      "cell_type": "code",
      "source": [
        "valid = valid.query('id not in @only_valid_entity_ids').reset_index().drop('index', axis=1)\n",
        "tidy_valid = tidy_valid.query('id not in @only_valid_entity_ids').reset_index().drop('index', axis=1)"
      ],
      "metadata": {
        "id": "1eK9GCSGgrAt"
      },
      "execution_count": 47,
      "outputs": []
    },
    {
      "cell_type": "markdown",
      "source": [
        "- 라벨 인코딩"
      ],
      "metadata": {
        "id": "kJ5dIzUNu-PV"
      }
    },
    {
      "cell_type": "code",
      "source": [
        "ACD_ENCODER = MultiLabelBinarizer()\n",
        "ACD_ENCODER.fit(df['entity_property'])\n",
        "\n",
        "ASC_ENCODER = LabelEncoder()\n",
        "ASC_ENCODER.fit(tidy_df['sentiment'])"
      ],
      "metadata": {
        "id": "w_U-RcKqPDhS",
        "colab": {
          "base_uri": "https://localhost:8080/"
        },
        "outputId": "11b62336-d964-48b2-e092-950a21711bd9"
      },
      "execution_count": 48,
      "outputs": [
        {
          "output_type": "execute_result",
          "data": {
            "text/plain": [
              "LabelEncoder()"
            ]
          },
          "metadata": {},
          "execution_count": 48
        }
      ]
    },
    {
      "cell_type": "markdown",
      "metadata": {
        "id": "VqF9HjyEEelg"
      },
      "source": [
        "- 데이터 셋과 데이터 로더"
      ]
    },
    {
      "cell_type": "code",
      "source": [
        "class ACDDataset(Dataset):\n",
        "    \"\"\"\n",
        "    개체 속성 분류\n",
        "    dataframe을 df의 인자로 받는다\n",
        "    \"\"\"\n",
        "\n",
        "    def __init__(\n",
        "        self, \n",
        "        df: pd.DataFrame,\n",
        "        tokenizer: AutoTokenizer,\n",
        "        max_len: int = 128\n",
        "    ) -> None:\n",
        "        self.df = df\n",
        "        self.tokenizer = tokenizer\n",
        "        self.max_len = max_len\n",
        "    \n",
        "    def __getitem__(self, idx: int) -> Dict[str, List[Tensor]]:\n",
        "        text = self.df.text[idx]\n",
        "        inputs = self.tokenizer(\n",
        "            text, \n",
        "            return_tensors='pt',\n",
        "            truncation=True,\n",
        "            max_length=self.max_len,\n",
        "            pad_to_max_length=True,\n",
        "            add_special_tokens=True\n",
        "        )\n",
        "                \n",
        "        input_ids = inputs['input_ids'][0]\n",
        "        attention_mask = inputs['attention_mask'][0]\n",
        "        entity_property = self.df.entity_property[idx]\n",
        "\n",
        "        if entity_property:\n",
        "            if isinstance(entity_property, list):\n",
        "                label = entity_property\n",
        "            elif isinstance(entity_property, str):\n",
        "                label = [entity_property]\n",
        "            label = torch.FloatTensor(ACD_ENCODER.transform([label]))[0]\n",
        "            return {'ACD':[input_ids, attention_mask, label]}\n",
        "        return {'ACD':[input_ids, attention_mask]}  ## test는 라벨이 없다\n",
        "\n",
        "    def __len__(self) -> int:\n",
        "        return self.df.shape[0]"
      ],
      "metadata": {
        "id": "6cBvBVca7yeC"
      },
      "execution_count": 51,
      "outputs": []
    },
    {
      "cell_type": "code",
      "source": [
        "class ABSADataset(Dataset):\n",
        "    \"\"\"\n",
        "    감성 분류하면서 ABSA에 대한 평가도 진행\n",
        "    tidy dataframe을 df의 인자로 받는다\n",
        "    \"\"\"\n",
        "\n",
        "    def __init__(\n",
        "        self, \n",
        "        df: pd.DataFrame,\n",
        "        tokenizer: AutoTokenizer,\n",
        "        max_len: int = 128\n",
        "    ) -> None:\n",
        "        self.df = df\n",
        "        self.tokenizer = tokenizer\n",
        "        self.max_len = max_len\n",
        "    \n",
        "    def __getitem__(self, idx: int) -> Dict[str, List[Tensor]]:\n",
        "        text = self.df.text[idx]\n",
        "        text_pair = ' '.join(self.df.entity_property[idx].split('#')).replace('/', ' ')\n",
        "        acd_dataset = ACDDataset(self.df.iloc[[idx], :], self.tokenizer, self.max_len)[idx].get('ACD')\n",
        "        inputs = self.tokenizer(\n",
        "            text, \n",
        "            text_pair,\n",
        "            return_tensors='pt',\n",
        "            truncation=True,\n",
        "            max_length=self.max_len,\n",
        "            pad_to_max_length=True,\n",
        "            add_special_tokens=True\n",
        "        )\n",
        "                \n",
        "        input_ids = inputs['input_ids'][0]\n",
        "        attention_mask = inputs['attention_mask'][0]\n",
        "        token_type_ids = inputs['token_type_ids'][0]\n",
        "\n",
        "        if self.df.sentiment[idx]:\n",
        "            label = torch.LongTensor(ASC_ENCODER.transform([self.df.sentiment[idx]]))[0]\n",
        "            return {'ACD':acd_dataset, \n",
        "                    'ASC':[input_ids, attention_mask, token_type_ids, label]}\n",
        "\n",
        "        return {'ACD':acd_dataset, \n",
        "                'ASC':[input_ids, attention_mask, token_type_ids]}\n",
        "\n",
        "    def __len__(self) -> int:\n",
        "        return self.df.shape[0]"
      ],
      "metadata": {
        "id": "qrr0GvDNjB_6"
      },
      "execution_count": 52,
      "outputs": []
    },
    {
      "cell_type": "markdown",
      "metadata": {
        "id": "OdJ4NrlutzeQ"
      },
      "source": [
        "- 손실 함수"
      ]
    },
    {
      "cell_type": "code",
      "source": [
        "class LabelSmoothingBCEWithLogitsLoss(nn.BCEWithLogitsLoss):\n",
        "    def __init__(self,\n",
        "                 weight: Optional[Tensor] = None, \n",
        "                 size_average: Optional[bool] = None, \n",
        "                 reduce: Optional[bool] = None, \n",
        "                 reduction: str = 'mean',\n",
        "                 pos_weight: Optional[Tensor] = None,\n",
        "                 label_smoothing: float = 0.0\n",
        "    ) -> None:\n",
        "        if label_smoothing < 0.0 or label_smoothing > 1.0:\n",
        "           raise ValueError('label_smoothing must be between 0.0 and 1.0. Got: ', label_smoothing)\n",
        "\n",
        "        super(LabelSmoothingBCEWithLogitsLoss, self).__init__(weight, size_average, reduce, reduction, pos_weight)\n",
        "        self.label_smoothing = label_smoothing\n",
        "\n",
        "    def forward(self, input: Tensor, target: Tensor) -> Tensor:\n",
        "        smooth_target = target * (1.0 - self.label_smoothing) + 0.5*self.label_smoothing  ## single-class   \n",
        "        return F.binary_cross_entropy_with_logits(input, smooth_target,\n",
        "                                                  self.weight,\n",
        "                                                  pos_weight=self.pos_weight,\n",
        "                                                  reduction=self.reduction)"
      ],
      "metadata": {
        "id": "zVbG3KTMTSEa"
      },
      "execution_count": 53,
      "outputs": []
    },
    {
      "cell_type": "code",
      "source": [
        "class FocalLoss(_Loss):\n",
        "    def __init__(\n",
        "        self,\n",
        "        gamma: float = 2.0,\n",
        "        alpha: Optional[Tensor] = None, \n",
        "        label_smoothing: float = 0.0,\n",
        "        reduction: str = 'mean'\n",
        "    ) -> None:\n",
        "        super(FocalLoss, self).__init__()\n",
        "        self.gamma = gamma\n",
        "        self.alpha = alpha\n",
        "        self.reduction = reduction\n",
        "        self.label_smoothing = label_smoothing\n",
        "\n",
        "    def forward(self, input: Tensor, target: Tensor) -> Tensor:\n",
        "        ce_loss = F.cross_entropy(input, target, \n",
        "                                  self.alpha,\n",
        "                                  label_smoothing=self.label_smoothing,\n",
        "                                  reduction='none')\n",
        "        p_t = torch.exp(-ce_loss)  \n",
        "        loss = ce_loss * (1 - p_t)**self.gamma\n",
        "\n",
        "        if self.reduction == 'mean':\n",
        "            loss = loss.mean()\n",
        "        elif self.reduction == 'sum':\n",
        "            loss = loss.sum()\n",
        "        return loss"
      ],
      "metadata": {
        "id": "mC5wYhHt0X6_"
      },
      "execution_count": 54,
      "outputs": []
    },
    {
      "cell_type": "code",
      "source": [
        "## ACD\n",
        "acd_dict = tidy_df['entity_property'].value_counts().to_dict()\n",
        "acd_pos_weight = torch.FloatTensor([[(df.shape[0] - acd_dict[cls]) / acd_dict[cls] if acd_dict[cls] > 600 else 1.0 \n",
        "                                     for cls in ACD_ENCODER.classes_]])  \n",
        "# acd_pos_weight = np.clip(acd_pos_weight, a_min=1.0, a_max=5.0)  ## 1보다 크면 recall이 올라가고 1보다 작으면 precision이 올라간다 (trade off)\n",
        "acd_pos_weight = acd_pos_weight.to(DEVICE)\n",
        "\n",
        "acd_loss_fn = LabelSmoothingBCEWithLogitsLoss(weight=None, pos_weight=acd_pos_weight, label_smoothing=LABEL_SMOOTHING)\n",
        "\n",
        "\n",
        "## ASC\n",
        "asc_dict = tidy_df['sentiment'].value_counts().to_dict()\n",
        "asc_weight = torch.FloatTensor([1 - (asc_dict[cls] / sum(asc_dict.values())) for cls in ASC_ENCODER.classes_])\n",
        "asc_weight = np.clip(asc_weight, a_min=0.25, a_max=1.0)\n",
        "asc_weight = asc_weight.to(DEVICE)\n",
        "\n",
        "# asc_loss_fn = nn.CrossEntropyLoss(weight=None, label_smoothing=LABEL_SMOOTHING)\n",
        "asc_loss_fn = FocalLoss(gamma=1.0, alpha=asc_weight, label_smoothing=LABEL_SMOOTHING)\n",
        "\n",
        "## Loss\n",
        "loss_fn = {'ACD':acd_loss_fn, 'ASC':asc_loss_fn}"
      ],
      "metadata": {
        "id": "nMzLVX0mQZAk"
      },
      "execution_count": 111,
      "outputs": []
    },
    {
      "cell_type": "markdown",
      "source": [
        "- early stopping"
      ],
      "metadata": {
        "id": "MBco8kR31jKg"
      }
    },
    {
      "cell_type": "code",
      "source": [
        "## Copyright (c) 2018 Bjarte Mehus Sunde\n",
        "## ref: https://github.com/Bjarten/early-stopping-pytorch/blob/master/pytorchtools.py\n",
        "class EarlyStopping:\n",
        "    \"\"\"주어진 patience 횟수 이후로 validation score가 개선되지 않으면 학습을 조기 중단\"\"\"\n",
        "    mode_dict = {'min':-1, 'max':1}\n",
        "    score_metrics = [\n",
        "        'accuracy',\n",
        "        'f1_score',\n",
        "    ]\n",
        "\n",
        "    def __init__(\n",
        "        self, \n",
        "        patience: int = 7, \n",
        "        monitor: str = 'loss', \n",
        "        mode: str = 'min', \n",
        "        min_delta: float = 0.0, \n",
        "        path: str = './weight', \n",
        "        model_name: str = '', \n",
        "        current_fold: int = 1\n",
        "    ) -> None:\n",
        "        \"\"\"\n",
        "        Args:\n",
        "            patience (int): score가 개선될 때까지 기다리는 에폭\n",
        "                            Default: 7\n",
        "                          \n",
        "            monitor (str): 값의 변화를 모니터링할 수치(score)\n",
        "                            Default: 'loss'\n",
        "\n",
        "            mode (str): score를 개선시킬 방식\n",
        "                            Default: 'min'\n",
        "\n",
        "            min_delta (float): 개선되었다고 인정되는 score의 최소 변화\n",
        "                            Default: 0.0\n",
        "\n",
        "            path (str): checkpoint 공통 저장 경로\n",
        "                            Default: './weight'\n",
        "\n",
        "            model_name (str): 학습시킬 모델의 이름\n",
        "                            Default: ''\n",
        "\n",
        "            current_fold (int): 현재 학습을 진행하는 fold의 순서\n",
        "                            Default: 1\n",
        "        \"\"\"\n",
        "        self.patience = patience\n",
        "        self.counter = 0\n",
        "        self.mode = mode\n",
        "        self.direction = self.mode_dict[mode]\n",
        "        self.monitor = monitor\n",
        "        self.best_score = -np.Inf\n",
        "        self.valid_loss = np.Inf\n",
        "        self.valid_metric_score = None  ## 평가지표 (i.g. accuracy)\n",
        "        self.early_stop = False\n",
        "        self.min_delta = min_delta\n",
        "        self.path = path\n",
        "        self.model_name = model_name\n",
        "        self.current_fold = current_fold\n",
        "\n",
        "    def __call__(\n",
        "        self, \n",
        "        model: nn.Module, \n",
        "        valid_loss: float, \n",
        "        valid_metric_score: Optional[float] = None\n",
        "    ) -> None:\n",
        "        ## score는 클수록 좋다\n",
        "        if self.monitor == 'loss':\n",
        "            score = valid_loss * self.direction\n",
        "        elif self.monitor in self.score_metrics:\n",
        "            score = valid_metric_score * self.direction\n",
        "        else:\n",
        "            score = None\n",
        "\n",
        "        ## score가 개선되었는지 확인\n",
        "        if score <= self.best_score + self.min_delta: \n",
        "            self.counter += 1 \n",
        "            if self.counter > self.patience:  ## 만약 score가 개선되지 않은 에폭이 patience 횟수보다 크다면 조기 중단\n",
        "                self.early_stop = True\n",
        "        else: \n",
        "            self.best_score = score \n",
        "            self.save_checkpoint(model, valid_loss, valid_metric_score) \n",
        "            self.counter = 0  ## score가 개선되었으므로 0으로 변경\n",
        "\n",
        "    def save_checkpoint(\n",
        "        self, \n",
        "        model: nn.Module, \n",
        "        valid_loss: float, \n",
        "        valid_metric_score: Optional[float] = None\n",
        "    ) -> None:\n",
        "        \"\"\"validation score가 개선되면 모델을 저장\"\"\"\n",
        "        torch.save(model.state_dict(), self.get_current_fold_path()) \n",
        "        self.valid_loss = valid_loss  ## 모델이 더 좋게 갱신되었으므로 이때의 valid loss를 기준치로 변경\n",
        "        self.valid_metric_score = valid_metric_score  ## 이때의 valid metric score도 변경해준다\n",
        "\n",
        "    def set_fold(self, current_fold: int) -> None:\n",
        "        self.current_fold = current_fold\n",
        "\n",
        "    def reset_score(self) -> None:\n",
        "        \"\"\"다음 fold 학습을 위해 score 관련 파라미터를 초기화\"\"\"\n",
        "        self.counter = 0\n",
        "        self.best_score = -np.Inf\n",
        "        self.valid_loss = np.Inf\n",
        "        self.valid_metric_score = None\n",
        "        self.early_stop = False\n",
        "\n",
        "    def check_early_stop(self) -> bool:\n",
        "        return self.early_stop\n",
        "\n",
        "    def get_current_fold_path(self) -> str:\n",
        "        return self.path + f'/{self.model_name}_best_{self.current_fold}.pt'\n",
        "\n",
        "    def set_path(self, path) -> None:\n",
        "        self.path = path"
      ],
      "metadata": {
        "id": "T355NBZ21kcw"
      },
      "execution_count": 58,
      "outputs": []
    },
    {
      "cell_type": "code",
      "source": [
        "early_stopping = EarlyStopping(patience=15,\n",
        "                               monitor='f1_score',\n",
        "                               mode='max',\n",
        "                               path=SAVE_PATHS['ACD'],\n",
        "                               model_name=MODEL_NAME,\n",
        "                               current_fold=1)  ## patience 횟수 에폭 후에도 검증 손실이 작아지지 않으면 조기 중단"
      ],
      "metadata": {
        "id": "_LyT_r461k3J"
      },
      "execution_count": 115,
      "outputs": []
    },
    {
      "cell_type": "markdown",
      "metadata": {
        "id": "3lq9uwAwJbZI"
      },
      "source": [
        "## 모델 학습 및 검증"
      ]
    },
    {
      "cell_type": "markdown",
      "source": [
        "- 텍스트"
      ],
      "metadata": {
        "id": "6ykSMVKnqeo7"
      }
    },
    {
      "cell_type": "code",
      "source": [
        "def under_half_max_to_1(arr, threshold=0.5):\n",
        "    if np.max(arr) < threshold:\n",
        "        arr[np.argmax(arr)] = 1.0\n",
        "    return arr"
      ],
      "metadata": {
        "id": "UgPbd-wqzMjH"
      },
      "execution_count": 60,
      "outputs": []
    },
    {
      "cell_type": "code",
      "source": [
        "def train(\n",
        "        model: nn.Module,\n",
        "        dataloader: DataLoader, \n",
        "        task_type: str,\n",
        "        device: torch.device,\n",
        "        loss_fn: _Loss, \n",
        "        optimizer: Optimizer, \n",
        "        scheduler: Optional[_LRScheduler] = None\n",
        "    ) -> Tuple[nn.Module, float]:\n",
        "    \"\"\"dataloader의 데이터로 모델을 학습시킨 후 학습된 모델과 평균 배치 훈련 오차를 반환\"\"\"  \n",
        "    train_loss = 0.0  ## mini-batch 평균 훈련 오차 \n",
        "    model = model.to(device)\n",
        "    model.train()\n",
        "    scaler = torch.cuda.amp.GradScaler()\n",
        "\n",
        "    for batch in dataloader:  ## 미니 배치 단위로 꺼내온다\n",
        "        *args, y = [*(map(lambda tensor: tensor.to(device), batch[task_type]))]\n",
        "        with torch.cuda.amp.autocast():\n",
        "            y_hat = model(*args)[0]\n",
        "            loss = loss_fn(y_hat, y)  \n",
        "\n",
        "        scaler.scale(loss).backward()\n",
        "        scaler.step(optimizer)\n",
        "        scaler.update()\n",
        "        optimizer.zero_grad()  ## 그래디언트 초기화\n",
        "        train_loss += (loss.item() / len(dataloader)) \n",
        "  \n",
        "        ## 배치마다 학습률 조절\n",
        "        if scheduler is not None:\n",
        "            scheduler.step()\n",
        "        \n",
        "    return model, train_loss"
      ],
      "metadata": {
        "id": "GxZoGYxft9iu"
      },
      "execution_count": 61,
      "outputs": []
    },
    {
      "cell_type": "code",
      "source": [
        "def acd_evaluate(\n",
        "        model: nn.Module, \n",
        "        dataloader: DataLoader, \n",
        "        loss_fn: _Loss,\n",
        "        device: torch.device\n",
        "    ) -> Tuple[float, float]:\n",
        "    \"\"\"dataloader의 데이터를 모델이 평가한 후 평균 배치 검증 오차와 ACD f1 score를 반환\"\"\"\n",
        "    valid_loss = 0.0\n",
        "    y_array, yhat_array = np.array([]), np.array([])\n",
        "    model = model.to(device)\n",
        "    model.eval()  \n",
        "\n",
        "    with torch.no_grad():  ## 역전파를 계산할 필요가 없으니까\n",
        "        for batch in dataloader:  ## 미니 배치 단위로 꺼내온다\n",
        "            *args, y = [*(map(lambda tensor: tensor.to(device), batch['ACD']))]\n",
        "            y_hat = model(*args)[0]\n",
        "            loss = loss_fn(y_hat, y) \n",
        "            \n",
        "            y_hat = F.sigmoid(y_hat).detach().cpu().numpy()\n",
        "            y_hat = np.apply_along_axis(under_half_max_to_1, 1, y_hat)  ## 텍스트에는 적어도 한 개의 개체 속성이 포함되어야 한다 (모든 train text는 한 개 이상의 개체 속성을 포함)\n",
        "            y_hat = np.where(y_hat >= 0.5, 1, 0) \n",
        "\n",
        "            y_array = np.concatenate([y_array, y.detach().cpu().numpy().reshape(-1)], axis=0)\n",
        "            yhat_array = np.concatenate([yhat_array, y_hat.reshape(-1)], axis=0)\n",
        "            valid_loss += (loss.item() / len(dataloader))\n",
        "            \n",
        "    valid_precision = precision_score(y_array, yhat_array)\n",
        "    valid_recall = recall_score(y_array, yhat_array)\n",
        "    valid_f1 = f1_score(y_array, yhat_array)\n",
        "    return valid_loss, valid_precision, valid_recall, valid_f1"
      ],
      "metadata": {
        "id": "IDntd-Gat9-d"
      },
      "execution_count": 62,
      "outputs": []
    },
    {
      "cell_type": "code",
      "source": [
        "def absa_evaluate(\n",
        "        acd_model: nn.Module,\n",
        "        asc_model: nn.Module,  \n",
        "        dataloader: DataLoader,\n",
        "        acd_model_weight_path: str,\n",
        "        loss_fn: _Loss,\n",
        "        device: torch.device\n",
        "    ) -> Tuple[float, float, float]:\n",
        "    \"\"\"dataloader의 데이터를 모델이 평가한 후 평균 배치 검증 오차와 (ACD, ABSA) f1 score를 반환\"\"\"\n",
        "    valid_loss = 0.0\n",
        "    asc_y_array, asc_yhat_array = np.array([]), np.array([])\n",
        "    absa_y_array, absa_yhat_array = np.array([]), np.array([])\n",
        "    acd_model.load_state_dict(torch.load(acd_model_weight_path , map_location=device))\n",
        "    acd_model, asc_model = acd_model.to(device), asc_model.to(device)\n",
        "    acd_model.eval()\n",
        "    asc_model.eval() \n",
        "\n",
        "    with torch.no_grad():  ## 역전파를 계산할 필요가 없다\n",
        "        for batch in dataloader:  ## 미니 배치 단위로 꺼내온다\n",
        "            *acd_args, acd_y = [*(map(lambda tensor: tensor.to(device), batch['ACD']))]\n",
        "            *asc_args, asc_y = [*(map(lambda tensor: tensor.to(device), batch['ASC']))]\n",
        "            acd_y = acd_y.detach().cpu().numpy()  ## shape: (B, C)\n",
        "            \n",
        "            acd_yhat = F.sigmoid(acd_model(*acd_args)[0]).detach().cpu().numpy()\n",
        "            acd_yhat = np.apply_along_axis(under_half_max_to_1, 1, acd_yhat)   ## 텍스트에는 적어도 한 개의 개체 속성이 포함되어야 한다\n",
        "            acd_yhat = np.where(acd_yhat >= 0.5, 1, 0)  ## shape: (B, C)\n",
        "            asc_yhat = asc_model(*asc_args)[0]\n",
        "            loss = loss_fn(asc_yhat, asc_y)  \n",
        "            asc_yhat = asc_yhat.argmax(-1).detach().cpu().numpy()\n",
        "\n",
        "            ## 개체 속성이 틀리다면 감성은 굳이 확인하지 않아도 된다\n",
        "            ## 개체 속성이 맞지만 감성이 틀렸다면 FP, FN 둘 다 1씩 증가시켜야 한다\n",
        "            ## true: [1(긍정), 0, 0, 0], pred: [1(긍정 X), 0, 0, 0] \n",
        "            ## 위와 같은 상황일 때 true: [1, 0, 0, 0], pred: [0, 0, 0, 0]와 같이 라벨링 하면 FN는 1이 증가하지만 FP는 증가하지 않음 \n",
        "            ## true(긍정, 긍정X): [[1, 0, 0, 0], [0, 0, 0, 0]] , pred(긍정, 긍정X): [[0, 0, 0, 0], [1, 0, 0, 0]], 따라서 이와 같이 라벨링 \n",
        "            ## 근데 위와 같이 차원의 낭비이고 단지 FP, FN만 1씩 증가시키면 된다\n",
        "            ## true: [1, 0, 0, 0] + [0] , pred: [0, 0, 0, 0] + [1], 따라서 이와 같이 라벨링\n",
        "            ## 근데 이렇게하면 차원이 안맞아서 차원을 하나 더 만들었다\n",
        "            for idx in range(len(acd_y)):\n",
        "                one_idx = np.where(acd_y[idx] == 1)  \n",
        "                if acd_yhat[idx][one_idx][0] == 1:   ## 개체 속성을 맞춘 경우\n",
        "                    if asc_y[idx] != asc_yhat[idx]:  ## 감성을 틀린 경우\n",
        "                        tmp_y = np.zeros_like(acd_y[idx])\n",
        "                        tmp_yhat = np.zeros_like(acd_yhat[idx])\n",
        "                        acd_yhat[idx][one_idx] = 0   ## FN\n",
        "                        tmp_yhat[one_idx] = 1        ## FP\n",
        "                        acd_y = np.concatenate([acd_y, tmp_y.reshape(1, -1)], axis=0)\n",
        "                        acd_yhat = np.concatenate([acd_yhat, tmp_yhat.reshape(1, -1)], axis=0)\n",
        "\n",
        "            asc_y_array = np.concatenate([asc_y_array, asc_y.detach().cpu().numpy()], axis=0)\n",
        "            asc_yhat_array = np.concatenate([asc_yhat_array, asc_yhat], axis=0)\n",
        "            absa_y_array = np.concatenate([absa_y_array, acd_y.reshape(-1)], axis=0)\n",
        "            absa_yhat_array = np.concatenate([absa_yhat_array, acd_yhat.reshape(-1)], axis=0)\n",
        "            valid_loss += (loss.item() / len(dataloader))\n",
        "\n",
        "    asc_valid_f1 = f1_score(asc_y_array, asc_yhat_array, average='weighted')  ## 감성(긍정, 부정, 중립)\n",
        "    absa_valid_f1 = f1_score(absa_y_array, absa_yhat_array)\n",
        "    return valid_loss, asc_valid_f1, absa_valid_f1"
      ],
      "metadata": {
        "id": "8g4bQ3OgLMQJ"
      },
      "execution_count": 63,
      "outputs": []
    },
    {
      "cell_type": "code",
      "source": [
        "def deep_ensemble(\n",
        "        models: Dict[str, nn.Module], \n",
        "        acd_train_df: pd.DataFrame,\n",
        "        acd_valid_df: pd.DataFrame,\n",
        "        absa_train_df: pd.DataFrame,\n",
        "        absa_valid_df: pd.DataFrame,\n",
        "        tokenizer: AutoTokenizer,\n",
        "        loss_fn: Dict[str, _Loss], \n",
        "        early_stopping: EarlyStopping,\n",
        "        seeds: List[int],\n",
        "        device: torch.device\n",
        "    ) -> Tuple[Dict[str, nn.Module], List[List[float]], List[List[float]], List[List[float]], List[List[float]]]:\n",
        "    \"\"\"\n",
        "    K겹 교차검증을 통해 모델의 성능을 평가하고 학습된 모델과 폴드별 훈련 손실, 폴드별 검증 손실을 반환\n",
        "    개체 속성 분류에 대해서만 학습과 검증 후 감성 분류에 대해서 학습과 검증 그리고 ABSA 평가를 진행\n",
        "     \"\"\"\n",
        "    num_folds = len(seeds)   \n",
        "    acd_fold_train_losses_per_epoch = [[] for _ in range(num_folds)]  ## ACD: 폴드별 1 에폭에 따른 훈련 배치 손실\n",
        "    acd_fold_valid_losses_per_epoch = [[] for _ in range(num_folds)]  ## ACD: 폴드별 1 에폭에 따른 검증 배치 손실\n",
        "    asc_fold_train_losses_per_epoch = [[] for _ in range(num_folds)]  ## ASC\n",
        "    asc_fold_valid_losses_per_epoch = [[] for _ in range(num_folds)]  ## ASC\n",
        "\n",
        "    for fold, seed in enumerate(seeds):\n",
        "        seed_everything(seed)  ## 정확한 재현을 위함\n",
        "        print(f'[{fold + 1} / {num_folds}] Fold Training......')\n",
        "\n",
        "        ## 메모리 절약\n",
        "        clear_gpu()\n",
        "\n",
        "        ## Dataloader\n",
        "        train_dataloader = {'ACD':DataLoader(ACDDataset(acd_train_df, tokenizer, MAX_LEN), batch_size=BATCH_SIZE, shuffle=True),\n",
        "                            'ASC':DataLoader(ABSADataset(absa_train_df, tokenizer, MAX_LEN), batch_size=BATCH_SIZE, shuffle=True)}\n",
        "\n",
        "        valid_dataloader = {'ACD':DataLoader(ACDDataset(acd_valid_df, tokenizer, MAX_LEN), batch_size=BATCH_SIZE),\n",
        "                            'ASC':DataLoader(ABSADataset(absa_valid_df, tokenizer, MAX_LEN), batch_size=BATCH_SIZE)}        \n",
        "\n",
        "        ## ACD, ASC 모델의 기본 가중치 불러오기\n",
        "        acd_model, asc_model = models['ACD'], models['ASC']\n",
        "        acd_model.load_state_dict(torch.load(MODEL_DEFAULT_WEIGHT_PATHS['ACD'], map_location=device))\n",
        "        asc_model.load_state_dict(torch.load(MODEL_DEFAULT_WEIGHT_PATHS['ASC'], map_location=device))\n",
        "\n",
        "        ## optimizer\n",
        "        optimizer = {'ACD':AdamW(acd_model.parameters(), lr=LEARNING_RATE['ACD']),\n",
        "                     'ASC':AdamW(asc_model.parameters(), lr=LEARNING_RATE['ASC'])}\n",
        "\n",
        "        ## scheduler\n",
        "        t_total = len(train_dataloader['ACD']) * NUM_EPOCHS['ACD']  ## The total number of training steps\n",
        "        warmup_step = t_total // 10  ## The number of steps for the warmup phase\n",
        "        scheduler = {'ACD':get_linear_schedule_with_warmup(optimizer['ACD'], num_warmup_steps=warmup_step, num_training_steps=t_total),\n",
        "                     'ASC':get_linear_schedule_with_warmup(optimizer['ASC'], num_warmup_steps=warmup_step, num_training_steps=t_total)}\n",
        "\n",
        "        ## early stop, 다음 폴드 학습을 위해 score 관련 파라미터 초기화\n",
        "        early_stopping.reset_score()\n",
        "        early_stopping.set_path(SAVE_PATHS['ACD'])\n",
        "        early_stopping.set_fold(fold + 1)  \n",
        "        \n",
        "        ## 폴드마다 ACD 모델 학습\n",
        "        task = 'ACD'\n",
        "        print(f'{\"#\"*32}  {task}  {\"#\"*32}')\n",
        "        for epoch in tqdm(range(1, NUM_EPOCHS[task]+1)): ## (배치사이즈 X 에폭) 만큼 훈련시킴           \n",
        "            acd_model, train_loss = train(acd_model, train_dataloader[task], task, device, \n",
        "                                      loss_fn[task], optimizer[task], scheduler[task])  ## 모델 학습\n",
        "\n",
        "            valid_loss, valid_precision, valid_recall, valid_f1 = acd_evaluate(acd_model, valid_dataloader[task], loss_fn[task], device)  ## 모델 평가\n",
        "            acd_fold_train_losses_per_epoch[fold].append(train_loss) \n",
        "            acd_fold_valid_losses_per_epoch[fold].append(valid_loss)  \n",
        "\n",
        "            print_score_condition = (epoch == 1 or epoch % 5 == 0 or epoch == NUM_EPOCHS[task])  \n",
        "            score_information = f'[Epoch: {epoch:>2}]  train loss = {train_loss:.5f}  valid loss = {valid_loss:.5f}  precision = {valid_precision:.5f}  recall = {valid_recall:.5f}  f1 = {valid_f1:.5f}'\n",
        "\n",
        "            ## 평균 배치 훈련 오차와 검증 오차 출력\n",
        "            if print_score_condition:  \n",
        "                print(score_information)  \n",
        "                \n",
        "            ## 에폭마다 early stopping 실행\n",
        "            early_stopping(acd_model, valid_loss, valid_f1)  \n",
        "            if early_stopping.check_early_stop(): \n",
        "                if not print_score_condition:  ## 이미 출력한 에폭에 대해 중복으로 출력하지 않기 위함\n",
        "                    print(score_information) \n",
        "                print('Early Stopping!')\n",
        "                break \n",
        " \n",
        "        ## ACD: 폴드별 학습 및 검증 종료시 가장 작은 검증 손실과 이때의 f1 score를 출력\n",
        "        print(f'{fold + 1} Fold -> Best Valid Loss: {early_stopping.valid_loss:.5f} Valid ACD F1 score: {early_stopping.valid_metric_score:.5f}', end='\\n\\n')\n",
        "        \n",
        "        ## 폴드마다 ASC 모델 학습\n",
        "        early_stopping.reset_score()\n",
        "        early_stopping.set_path(SAVE_PATHS['ASC'])\n",
        "        task = 'ASC'\n",
        "        print(f'{\"#\"*32}  {task}  {\"#\"*32}')\n",
        "        for epoch in tqdm(range(1, NUM_EPOCHS[task]+1)): ## (배치사이즈 X 에폭) 만큼 훈련시킴         \n",
        "            asc_model, train_loss = train(asc_model, train_dataloader[task], task, device, \n",
        "                                      loss_fn[task], optimizer[task], scheduler[task])  ## 모델 학습\n",
        "\n",
        "            valid_loss, asc_valid_f1, absa_valid_f1 = absa_evaluate(acd_model, asc_model, valid_dataloader[task], \n",
        "                                                                    f'{SAVE_PATHS[\"ACD\"]}/{MODEL_NAME}_best_{fold + 1}.pt', \n",
        "                                                                    loss_fn[task], device)  ## 모델 평가\n",
        "\n",
        "            asc_fold_train_losses_per_epoch[fold].append(train_loss) \n",
        "            asc_fold_valid_losses_per_epoch[fold].append(valid_loss)  \n",
        "  \n",
        "            print_score_condition = (epoch == 1 or epoch % 5 == 0 or epoch == NUM_EPOCHS[task])  \n",
        "            score_information = f'[Epoch: {epoch:>2}]  train loss = {train_loss:.5f}  valid loss = {valid_loss:.5f}  ASC f1 = {asc_valid_f1:.5f}  ABSA f1 = {absa_valid_f1:.5f}'\n",
        "\n",
        "            ## 평균 배치 훈련 오차와 검증 오차 출력\n",
        "            if print_score_condition:  \n",
        "                print(score_information)  \n",
        "                \n",
        "            ## 에폭마다 early stopping 실행\n",
        "            early_stopping(asc_model, valid_loss, asc_valid_f1)  \n",
        "            if early_stopping.check_early_stop(): \n",
        "                if not print_score_condition: \n",
        "                    print(score_information) \n",
        "                print('Early Stopping!')\n",
        "                break  \n",
        "\n",
        "        ## ABSA: 폴드별 학습 및 검증 종료시 가장 작은 검증 손실과 이때의 f1 score를 출력\n",
        "        print(f'{fold + 1} Fold -> Best Valid Loss: {early_stopping.valid_loss:.5f} Valid ASC F1 score: {early_stopping.valid_metric_score:.5f}', end='\\n\\n')\n",
        "\n",
        "    models['ACD'], models['ASC'] = acd_model, asc_model\n",
        "    return models, acd_fold_train_losses_per_epoch, acd_fold_valid_losses_per_epoch, asc_fold_train_losses_per_epoch, asc_fold_valid_losses_per_epoch"
      ],
      "metadata": {
        "id": "T73b5ykHqfhv"
      },
      "execution_count": 64,
      "outputs": []
    },
    {
      "cell_type": "markdown",
      "metadata": {
        "id": "LyGMoqytkIDx"
      },
      "source": [
        "- 모델 선언 및 가중치 저장"
      ]
    },
    {
      "cell_type": "code",
      "source": [
        "acd_model = AutoModelForSequenceClassification.from_pretrained(MODEL_PATHS[MODEL_NAME], num_labels=NUM_CLASSES['ACD'])\n",
        "asc_model = AutoModelForSequenceClassification.from_pretrained(MODEL_PATHS[MODEL_NAME], num_labels=NUM_CLASSES['ASC'])\n",
        "tokenizer = AutoTokenizer.from_pretrained(MODEL_PATHS[MODEL_NAME])  "
      ],
      "metadata": {
        "colab": {
          "base_uri": "https://localhost:8080/"
        },
        "id": "Bz9bELhQqoiP",
        "outputId": "73857593-fafd-4cfa-c703-2128c53a4988"
      },
      "execution_count": 105,
      "outputs": [
        {
          "output_type": "stream",
          "name": "stderr",
          "text": [
            "Some weights of the model checkpoint at kykim/electra-kor-base were not used when initializing ElectraForSequenceClassification: ['discriminator_predictions.dense_prediction.weight', 'discriminator_predictions.dense_prediction.bias', 'discriminator_predictions.dense.weight', 'discriminator_predictions.dense.bias']\n",
            "- This IS expected if you are initializing ElectraForSequenceClassification from the checkpoint of a model trained on another task or with another architecture (e.g. initializing a BertForSequenceClassification model from a BertForPreTraining model).\n",
            "- This IS NOT expected if you are initializing ElectraForSequenceClassification from the checkpoint of a model that you expect to be exactly identical (initializing a BertForSequenceClassification model from a BertForSequenceClassification model).\n",
            "Some weights of ElectraForSequenceClassification were not initialized from the model checkpoint at kykim/electra-kor-base and are newly initialized: ['classifier.dense.bias', 'classifier.out_proj.bias', 'classifier.dense.weight', 'classifier.out_proj.weight']\n",
            "You should probably TRAIN this model on a down-stream task to be able to use it for predictions and inference.\n",
            "Some weights of the model checkpoint at kykim/electra-kor-base were not used when initializing ElectraForSequenceClassification: ['discriminator_predictions.dense_prediction.weight', 'discriminator_predictions.dense_prediction.bias', 'discriminator_predictions.dense.weight', 'discriminator_predictions.dense.bias']\n",
            "- This IS expected if you are initializing ElectraForSequenceClassification from the checkpoint of a model trained on another task or with another architecture (e.g. initializing a BertForSequenceClassification model from a BertForPreTraining model).\n",
            "- This IS NOT expected if you are initializing ElectraForSequenceClassification from the checkpoint of a model that you expect to be exactly identical (initializing a BertForSequenceClassification model from a BertForSequenceClassification model).\n",
            "Some weights of ElectraForSequenceClassification were not initialized from the model checkpoint at kykim/electra-kor-base and are newly initialized: ['classifier.dense.bias', 'classifier.out_proj.bias', 'classifier.dense.weight', 'classifier.out_proj.weight']\n",
            "You should probably TRAIN this model on a down-stream task to be able to use it for predictions and inference.\n"
          ]
        }
      ]
    },
    {
      "cell_type": "code",
      "source": [
        "special_tokens_dict = {'additional_special_tokens': ['&name&', '&online-account&']}\n",
        "tokenizer.add_special_tokens(special_tokens_dict)"
      ],
      "metadata": {
        "colab": {
          "base_uri": "https://localhost:8080/"
        },
        "id": "Vg0HlSnlXEq-",
        "outputId": "0b0c6551-566a-4456-dd85-c978014ad436"
      },
      "execution_count": 106,
      "outputs": [
        {
          "output_type": "execute_result",
          "data": {
            "text/plain": [
              "2"
            ]
          },
          "metadata": {},
          "execution_count": 106
        }
      ]
    },
    {
      "cell_type": "code",
      "source": [
        "acd_model.resize_token_embeddings(len(tokenizer))\n",
        "asc_model.resize_token_embeddings(len(tokenizer))\n",
        "torch.save(acd_model.state_dict(), MODEL_DEFAULT_WEIGHT_PATHS['ACD']) \n",
        "torch.save(asc_model.state_dict(), MODEL_DEFAULT_WEIGHT_PATHS['ASC']) "
      ],
      "metadata": {
        "id": "KmKgqiLkXDzX"
      },
      "execution_count": 107,
      "outputs": []
    },
    {
      "cell_type": "code",
      "source": [
        "models = {'ACD':acd_model, 'ASC':asc_model}"
      ],
      "metadata": {
        "id": "07ryAjyYLeCB"
      },
      "execution_count": 108,
      "outputs": []
    },
    {
      "cell_type": "markdown",
      "metadata": {
        "id": "s0OMjmQ_t12g"
      },
      "source": [
        "- 모델 K겹 교차검증"
      ]
    },
    {
      "cell_type": "markdown",
      "source": [
        "16시 시작"
      ],
      "metadata": {
        "id": "i-b1oUq4Zzf5"
      }
    },
    {
      "cell_type": "code",
      "source": [
        "(models, acd_fold_train_losses_per_epoch, acd_fold_valid_losses_per_epoch,\n",
        "asc_fold_train_losses_per_epoch, asc_fold_valid_losses_per_epoch) = deep_ensemble(models, \n",
        "                                                                                  df,\n",
        "                                                                                  valid,\n",
        "                                                                                  tidy_df,\n",
        "                                                                                  tidy_valid, \n",
        "                                                                                  tokenizer, \n",
        "                                                                                  loss_fn,\n",
        "                                                                                  early_stopping,\n",
        "                                                                                  SEEDS,\n",
        "                                                                                  DEVICE)"
      ],
      "metadata": {
        "id": "ICj7D0G1MbMx",
        "colab": {
          "base_uri": "https://localhost:8080/",
          "height": 1000,
          "referenced_widgets": [
            "1e606fa180774bdf8d1c428ba3152936",
            "2022e440220343be938e25cbe075c326",
            "113f1cdafb474f53bdb1856748988a70",
            "c651349544744fc9a56172f312c1216c",
            "bf7d9307ca4d4afeaf4db7b05cdb1638",
            "00eb52b969de4b04acec9b35cfbf381a",
            "f5ce22f9a2de44a396f4f4e9c469bf09",
            "ada5d617dfb1446f879fe3180dfda8e0",
            "1467703593964800ae59b8df0d561fa4",
            "acb7553adb8947ef984f19a8f03e357f",
            "0f367d1a205c457cb1be169bb27821c2",
            "9489c8ba0eb34041b32abc9d75c173ca",
            "42c053fd7e844b96aa196b1af7ab95cd",
            "60efa9d608894d3f91161b72c7228428",
            "dcfd43f556514735820298ec5566de72",
            "b008690e7f294ccf82a39ae519935847",
            "5006229fddc64532b26fbe690ab02851",
            "f99a3c3bbcd54d5c8578451a830aa5b8",
            "a745609783b745a88c40bd70766e9565",
            "fe9835fa44434a039b531e27b1389005",
            "eb3955d2a5b144a3a6fb70f96489704b",
            "466032e311ff4188b08c7395d17ce22a",
            "f71e14a0098e48d79fdc99c3b3e9f063",
            "4400bb3fae574feab91f59914ece5dec",
            "3a1d183da8f340eeb09890d518c67b24",
            "ebbbfe7a776346c5a605312cbd3f3840",
            "a39a17c5b74f43c79e808e3235341c73",
            "930d0374ae884a01bdfa2854041f1495",
            "a354c5e604d648658c03ff44f8d7a4bc",
            "5b53c9ddfea34968a204c4849d554248",
            "36848f2bbc624ed1a6b9c5ee3e744a9e",
            "78ff76bad5174ffea5dfd2c74cc92e41",
            "7ab0011f2447494680dfb9051e5ea06d",
            "578e30a8e7dc4b65a7f53a9ebc739234",
            "94cf8024c547453cb48bb15ae246b3f0",
            "80a067ec66e94b6c8bf6f8cc89f221bb",
            "0b3f206f8a894f7a8262f4e10bea7623",
            "c5bc11c9968a4a16af47bbef1386fa3b",
            "fc97f4f1da3948df85f30d85d07c3436",
            "fd777d5831aa4a949b4b8c1cfb36a9b2",
            "012c5681dda244b8b983fd7b714e22af",
            "6be8f430d9a148daa704791d69df1369",
            "ef93bc2cca55434383bc687d201a7c87",
            "75c9b3ea9272499ca929b791278860c5",
            "25f6ddbd71cc4e2f8cc612f9a144ff7f",
            "7283f732aa0b4638ae5d033e84bba60d",
            "fae51092d1644723851a0f560aff0f2b",
            "958f3257bf064ea698f1c76e5a467ae1",
            "a9bf3496fca049509bbea2a064f35e94",
            "38fbc9e7c1a1439ba7bfaa76319563e9",
            "67733b6a7a15426ea72e5f09bbe1ec88",
            "73d6b583f7ee4c048edc113ff23ef0bb",
            "96a0d2c7de8247fcaf27a82925680d72",
            "d1f947103d81445cbb6d511d3d224c9d",
            "3b0f9f68757f47c79103d24bdbebba07",
            "7a4b84ac3e714d25a7db252f30b8de35",
            "25ba4d0f4e544f0ea5df858d27fe883b",
            "f225e28b551d4ccd997b2ba8e7178cdd",
            "f6e2adf2daf543eea760af0454977eaa",
            "2829c6693635499d9852087b3bade7db",
            "68a80b5f81094527b3c119a2f2e7707d",
            "aa4bd7750fa641b38d51c59e18fa00d0",
            "0f060979d26d41cba824e039683d45d5",
            "33869a55e8434d9197631ff7d01d4f5f",
            "fc03070dee254fa8a1a65e7b00ec83ef",
            "d8350ec962fc4993a6f9c4cb96d0e77d"
          ]
        },
        "outputId": "4af955b9-1ae1-483c-82c5-3662621fa3ca"
      },
      "execution_count": 116,
      "outputs": [
        {
          "output_type": "stream",
          "name": "stdout",
          "text": [
            "[1 / 3] Fold Training......\n",
            "################################  ACD  ################################\n"
          ]
        },
        {
          "output_type": "display_data",
          "data": {
            "text/plain": [
              "  0%|          | 0/30 [00:00<?, ?it/s]"
            ],
            "application/vnd.jupyter.widget-view+json": {
              "version_major": 2,
              "version_minor": 0,
              "model_id": "1e606fa180774bdf8d1c428ba3152936"
            }
          },
          "metadata": {}
        },
        {
          "output_type": "stream",
          "name": "stdout",
          "text": [
            "[Epoch:  1]  train loss = 0.65185  valid loss = 0.51000  precision = 0.28776  recall = 0.26782  f1 = 0.27743\n",
            "[Epoch:  5]  train loss = 0.20434  valid loss = 0.21198  precision = 0.60616  recall = 0.56396  f1 = 0.58430\n",
            "[Epoch: 10]  train loss = 0.15868  valid loss = 0.20937  precision = 0.69233  recall = 0.66789  f1 = 0.67989\n",
            "[Epoch: 15]  train loss = 0.14365  valid loss = 0.21105  precision = 0.71013  recall = 0.69121  f1 = 0.70054\n",
            "[Epoch: 20]  train loss = 0.13509  valid loss = 0.20857  precision = 0.72956  recall = 0.71619  f1 = 0.72281\n",
            "[Epoch: 25]  train loss = 0.13145  valid loss = 0.21177  precision = 0.71903  recall = 0.71352  f1 = 0.71627\n",
            "[Epoch: 30]  train loss = 0.13026  valid loss = 0.21251  precision = 0.72170  recall = 0.72219  f1 = 0.72194\n",
            "1 Fold -> Best Valid Loss: 0.21141 Valid ACD F1 score: 0.72372\n",
            "\n",
            "################################  ASC  ################################\n"
          ]
        },
        {
          "output_type": "display_data",
          "data": {
            "text/plain": [
              "  0%|          | 0/20 [00:00<?, ?it/s]"
            ],
            "application/vnd.jupyter.widget-view+json": {
              "version_major": 2,
              "version_minor": 0,
              "model_id": "9489c8ba0eb34041b32abc9d75c173ca"
            }
          },
          "metadata": {}
        },
        {
          "output_type": "stream",
          "name": "stdout",
          "text": [
            "[Epoch:  1]  train loss = 0.09984  valid loss = 0.07881  ASC f1 = 0.96070  ABSA f1 = 0.67980\n",
            "[Epoch:  5]  train loss = 0.05075  valid loss = 0.04478  ASC f1 = 0.96906  ABSA f1 = 0.67453\n",
            "[Epoch: 10]  train loss = 0.02257  valid loss = 0.04911  ASC f1 = 0.96005  ABSA f1 = 0.66274\n",
            "[Epoch: 15]  train loss = 0.01629  valid loss = 0.05607  ASC f1 = 0.96629  ABSA f1 = 0.67049\n",
            "[Epoch: 20]  train loss = 0.01531  valid loss = 0.05749  ASC f1 = 0.97265  ABSA f1 = 0.67701\n",
            "1 Fold -> Best Valid Loss: 0.05135 Valid ASC F1 score: 0.97530\n",
            "\n",
            "[2 / 3] Fold Training......\n",
            "################################  ACD  ################################\n"
          ]
        },
        {
          "output_type": "display_data",
          "data": {
            "text/plain": [
              "  0%|          | 0/30 [00:00<?, ?it/s]"
            ],
            "application/vnd.jupyter.widget-view+json": {
              "version_major": 2,
              "version_minor": 0,
              "model_id": "f71e14a0098e48d79fdc99c3b3e9f063"
            }
          },
          "metadata": {}
        },
        {
          "output_type": "stream",
          "name": "stdout",
          "text": [
            "[Epoch:  1]  train loss = 0.65150  valid loss = 0.50934  precision = 0.27692  recall = 0.25783  f1 = 0.26703\n",
            "[Epoch:  5]  train loss = 0.20690  valid loss = 0.21269  precision = 0.60322  recall = 0.56163  f1 = 0.58168\n",
            "[Epoch: 10]  train loss = 0.16605  valid loss = 0.21138  precision = 0.68252  recall = 0.65956  f1 = 0.67085\n",
            "[Epoch: 15]  train loss = 0.14628  valid loss = 0.21026  precision = 0.70544  recall = 0.69487  f1 = 0.70012\n",
            "[Epoch: 20]  train loss = 0.13726  valid loss = 0.21091  precision = 0.71913  recall = 0.70620  f1 = 0.71261\n",
            "[Epoch: 25]  train loss = 0.13240  valid loss = 0.21242  precision = 0.71706  recall = 0.71252  f1 = 0.71479\n",
            "[Epoch: 30]  train loss = 0.13089  valid loss = 0.21218  precision = 0.72154  recall = 0.71985  f1 = 0.72069\n",
            "2 Fold -> Best Valid Loss: 0.21218 Valid ACD F1 score: 0.72069\n",
            "\n",
            "################################  ASC  ################################\n"
          ]
        },
        {
          "output_type": "display_data",
          "data": {
            "text/plain": [
              "  0%|          | 0/20 [00:00<?, ?it/s]"
            ],
            "application/vnd.jupyter.widget-view+json": {
              "version_major": 2,
              "version_minor": 0,
              "model_id": "578e30a8e7dc4b65a7f53a9ebc739234"
            }
          },
          "metadata": {}
        },
        {
          "output_type": "stream",
          "name": "stdout",
          "text": [
            "[Epoch:  1]  train loss = 0.09997  valid loss = 0.07879  ASC f1 = 0.96070  ABSA f1 = 0.67505\n",
            "[Epoch:  5]  train loss = 0.04898  valid loss = 0.04612  ASC f1 = 0.95553  ABSA f1 = 0.65456\n",
            "[Epoch: 10]  train loss = 0.02213  valid loss = 0.05264  ASC f1 = 0.97275  ABSA f1 = 0.67257\n",
            "[Epoch: 15]  train loss = 0.01580  valid loss = 0.05572  ASC f1 = 0.97230  ABSA f1 = 0.67288\n",
            "[Epoch: 20]  train loss = 0.01504  valid loss = 0.05698  ASC f1 = 0.97311  ABSA f1 = 0.67381\n",
            "2 Fold -> Best Valid Loss: 0.05698 Valid ASC F1 score: 0.97311\n",
            "\n",
            "[3 / 3] Fold Training......\n",
            "################################  ACD  ################################\n"
          ]
        },
        {
          "output_type": "display_data",
          "data": {
            "text/plain": [
              "  0%|          | 0/30 [00:00<?, ?it/s]"
            ],
            "application/vnd.jupyter.widget-view+json": {
              "version_major": 2,
              "version_minor": 0,
              "model_id": "25f6ddbd71cc4e2f8cc612f9a144ff7f"
            }
          },
          "metadata": {}
        },
        {
          "output_type": "stream",
          "name": "stdout",
          "text": [
            "[Epoch:  1]  train loss = 0.65194  valid loss = 0.51703  precision = 0.27637  recall = 0.25750  f1 = 0.26660\n",
            "[Epoch:  5]  train loss = 0.20676  valid loss = 0.20777  precision = 0.60866  recall = 0.56629  f1 = 0.58671\n",
            "[Epoch: 10]  train loss = 0.16150  valid loss = 0.20683  precision = 0.67946  recall = 0.65456  f1 = 0.66678\n",
            "[Epoch: 15]  train loss = 0.14575  valid loss = 0.21113  precision = 0.70852  recall = 0.68987  f1 = 0.69907\n",
            "[Epoch: 20]  train loss = 0.13630  valid loss = 0.21168  precision = 0.70735  recall = 0.69887  f1 = 0.70308\n",
            "[Epoch: 25]  train loss = 0.13184  valid loss = 0.21202  precision = 0.72565  recall = 0.71719  f1 = 0.72139\n",
            "[Epoch: 30]  train loss = 0.13056  valid loss = 0.21343  precision = 0.72008  recall = 0.72152  f1 = 0.72080\n",
            "3 Fold -> Best Valid Loss: 0.21219 Valid ACD F1 score: 0.72407\n",
            "\n",
            "################################  ASC  ################################\n"
          ]
        },
        {
          "output_type": "display_data",
          "data": {
            "text/plain": [
              "  0%|          | 0/20 [00:00<?, ?it/s]"
            ],
            "application/vnd.jupyter.widget-view+json": {
              "version_major": 2,
              "version_minor": 0,
              "model_id": "7a4b84ac3e714d25a7db252f30b8de35"
            }
          },
          "metadata": {}
        },
        {
          "output_type": "stream",
          "name": "stdout",
          "text": [
            "[Epoch:  1]  train loss = 0.09965  valid loss = 0.07839  ASC f1 = 0.96070  ABSA f1 = 0.68069\n",
            "[Epoch:  5]  train loss = 0.05113  valid loss = 0.04559  ASC f1 = 0.95755  ABSA f1 = 0.66368\n",
            "[Epoch: 10]  train loss = 0.02263  valid loss = 0.04909  ASC f1 = 0.96122  ABSA f1 = 0.66677\n",
            "[Epoch: 15]  train loss = 0.01682  valid loss = 0.05423  ASC f1 = 0.97152  ABSA f1 = 0.67821\n",
            "[Epoch: 20]  train loss = 0.01517  valid loss = 0.05488  ASC f1 = 0.97406  ABSA f1 = 0.67945\n",
            "3 Fold -> Best Valid Loss: 0.05488 Valid ASC F1 score: 0.97406\n",
            "\n"
          ]
        }
      ]
    },
    {
      "cell_type": "markdown",
      "metadata": {
        "id": "dS896I7QumEp"
      },
      "source": [
        "- train loss와 valid loss의 변화를 시각화"
      ]
    },
    {
      "cell_type": "code",
      "execution_count": 117,
      "metadata": {
        "id": "gcfLWSukuoQx"
      },
      "outputs": [],
      "source": [
        "def show_loss_plot(\n",
        "        fold_train_losses: List[List[float]],\n",
        "        fold_valid_losses: List[List[float]]\n",
        "    ) -> None:\n",
        "    \"\"\"폴드별로 에폭에 따른 모델의 훈련 손실과 검증 손실의 변화를 시각화\"\"\"\n",
        "    assert len(fold_train_losses) == len(fold_valid_losses)\n",
        "    num_folds = len(fold_train_losses)\n",
        "    ncols = 3\n",
        "    nrows = 1 + (num_folds - 1)//ncols\n",
        "    fig, axes = plt.subplots(nrows, ncols, figsize=(ncols*4, nrows*4)) \n",
        "\n",
        "    ## 폴드마다 에폭에 따른 훈련 손실과 검증 손실의 변화를 시각화\n",
        "    for fold, (ax, train_losses, valid_losses) in enumerate(zip(axes.flatten(), fold_train_losses, fold_valid_losses), start=1):\n",
        "        assert len(train_losses) == len(valid_losses) \n",
        "        if fold > num_folds:\n",
        "            break\n",
        "\n",
        "        num_epochs = len(train_losses)\n",
        "        ax.set_title(f'{fold} Fold')\n",
        "        ax.plot(range(1, num_epochs+1), train_losses, label='Train')\n",
        "        ax.plot(range(1, num_epochs+1), valid_losses, label='Valid')\n",
        "        ax.set_xlabel('Epoch')\n",
        "        ax.set_ylabel('Loss')\n",
        "        ax.legend()\n",
        "\n",
        "    fig.suptitle('Train Loss and Valid Loss', x=0.51, y=1.05, fontsize=15)\n",
        "    fig.tight_layout()\n",
        "\n",
        "    ## 남는 서브 플랏 제거\n",
        "    for ax in axes.flatten():\n",
        "        if not ax.has_data():\n",
        "            fig.delaxes(ax)"
      ]
    },
    {
      "cell_type": "code",
      "execution_count": 118,
      "metadata": {
        "id": "wJCs4xPLJ3Ry",
        "colab": {
          "base_uri": "https://localhost:8080/",
          "height": 323
        },
        "outputId": "201f33c1-68ec-4167-fe24-7aa0c7e27606"
      },
      "outputs": [
        {
          "output_type": "display_data",
          "data": {
            "text/plain": [
              "<Figure size 864x288 with 3 Axes>"
            ],
            "image/png": "[encoded data removed]"
          },
          "metadata": {
            "needs_background": "light"
          }
        }
      ],
      "source": [
        "show_loss_plot(acd_fold_train_losses_per_epoch, acd_fold_valid_losses_per_epoch)"
      ]
    },
    {
      "cell_type": "code",
      "source": [
        "show_loss_plot(asc_fold_train_losses_per_epoch, asc_fold_valid_losses_per_epoch)"
      ],
      "metadata": {
        "id": "VbmVJWE1Op1o",
        "colab": {
          "base_uri": "https://localhost:8080/",
          "height": 323
        },
        "outputId": "e23f26c5-044b-475a-a5c1-5db85648ef76"
      },
      "execution_count": 119,
      "outputs": [
        {
          "output_type": "display_data",
          "data": {
            "text/plain": [
              "<Figure size 864x288 with 3 Axes>"
            ],
            "image/png": "[encoded data removed]"
          },
          "metadata": {
            "needs_background": "light"
          }
        }
      ]
    },
    {
      "cell_type": "markdown",
      "metadata": {
        "id": "2F1rlPmIPpvL"
      },
      "source": [
        "## Test 예측"
      ]
    },
    {
      "cell_type": "code",
      "source": [
        "def acd_predict(\n",
        "        model: nn.Module, \n",
        "        dataloader: DataLoader, \n",
        "        weight_save_path: str, \n",
        "        device: torch.device,\n",
        "        return_prob: bool = False\n",
        "    ) -> Tensor:\n",
        "    \"\"\"test text를 보고 개체 속성을 분류\"\"\"\n",
        "    model = model.to(device) \n",
        "    weight_path_list = glob(weight_save_path + '/*.pt')\n",
        "    test_probs = torch.zeros(len(dataloader.dataset), NUM_CLASSES['ACD'])  \n",
        "\n",
        "    for weight_path in tqdm(weight_path_list):\n",
        "        probs = None\n",
        "        model.load_state_dict(torch.load(weight_path, map_location=device))\n",
        "        model.eval()\n",
        "\n",
        "        with torch.no_grad(): \n",
        "            for batch in dataloader:  ## test 데이터는 라벨(y)이 없다\n",
        "                args = [*(map(lambda tensor: tensor.to(device), batch['ACD']))]\n",
        "                y_hat = F.sigmoid(model(*args)[0]).detach().cpu().numpy()\n",
        "\n",
        "                if probs is None:\n",
        "                    probs = y_hat\n",
        "                else:\n",
        "                    probs = np.concatenate([probs, y_hat]) \n",
        "\n",
        "        test_probs += (torch.from_numpy(probs) / NUM_FOLDS)    ## 각 컬럼별 확률\n",
        "    test_probs = torch.from_numpy(np.apply_along_axis(under_half_max_to_1, 1, test_probs))  ## 텍스트에는 적어도 한 개의 개체 속성이 포함되어야 한다\n",
        "    test_preds = torch.where(test_probs >= 0.5, 1, 0)          ## threshold(0.5)보다 크면 positive 그렇지 않으면 negative\n",
        "\n",
        "    if return_prob:\n",
        "        return test_probs  ## 각 컬럼별 확률\n",
        "    return test_preds  ## 라벨"
      ],
      "metadata": {
        "id": "asEGDYkZp1mr"
      },
      "execution_count": 120,
      "outputs": []
    },
    {
      "cell_type": "code",
      "source": [
        "def asc_predict(\n",
        "        model: nn.Module, \n",
        "        dataloader: DataLoader, \n",
        "        weight_save_path: str, \n",
        "        device: torch.device,\n",
        "        return_prob: bool = False\n",
        "    ) -> Tensor:\n",
        "    \"\"\"개체 속성을 분류한 후 존재하는 개체 속성에 대해 감성 분류\"\"\"\n",
        "    model = model.to(device) \n",
        "    weight_path_list = glob(weight_save_path + '/*.pt') \n",
        "    test_probs = torch.zeros(len(dataloader.dataset), NUM_CLASSES['ASC'])  \n",
        "\n",
        "    for weight_path in tqdm(weight_path_list):\n",
        "        probs = None\n",
        "        model.load_state_dict(torch.load(weight_path, map_location=device))\n",
        "        model.eval()\n",
        "\n",
        "        with torch.no_grad(): \n",
        "            for batch in dataloader:  ## test 데이터는 라벨(y)이 없다\n",
        "                args = [*(map(lambda tensor: tensor.to(device), batch['ASC']))]\n",
        "                y_hat = model(*args)[0].detach().cpu().numpy()\n",
        "\n",
        "                if probs is None:\n",
        "                    probs = y_hat\n",
        "                else:\n",
        "                    probs = np.concatenate([probs, y_hat]) \n",
        "\n",
        "        test_probs += (torch.softmax(torch.from_numpy(probs), dim=-1) / NUM_FOLDS)  ## 각 컬럼별 확률\n",
        "    _, test_preds = torch.max(test_probs, dim=-1)  ## 최댓값과 인덱스\n",
        "    \n",
        "    if return_prob:\n",
        "        return test_probs  ## 각 컬럼별 확률\n",
        "    return test_preds  ## 라벨"
      ],
      "metadata": {
        "id": "Xu4gAH67RtKy"
      },
      "execution_count": 121,
      "outputs": []
    },
    {
      "cell_type": "code",
      "source": [
        "def fill_annotation(jsonl: List[JsonType], df: pd.DataFrame) -> List[JsonType]:\n",
        "    \"\"\"\n",
        "    test jsonl의 annotation을 df의 entity_property와 sentiment로 채운다 (In-Place)\n",
        "    For submission \n",
        "    \"\"\"\n",
        "    list_df = df.to_numpy().tolist()\n",
        "    for idx, json in enumerate(jsonl):\n",
        "        assert json['id'].split('-')[-1] == list_df[idx][0]  ## id는 동일해야 함\n",
        "        jsonl[idx]['annotation'] = list(map(list, zip(list_df[idx][2], list_df[idx][3])))\n",
        "        \n",
        "    return jsonl"
      ],
      "metadata": {
        "id": "f3R6vv_YTD97"
      },
      "execution_count": 122,
      "outputs": []
    },
    {
      "cell_type": "code",
      "source": [
        "test_acd_dataloader = DataLoader(ACDDataset(test, tokenizer, MAX_LEN), batch_size=BATCH_SIZE)"
      ],
      "metadata": {
        "id": "Me_6g1isqHVj"
      },
      "execution_count": 123,
      "outputs": []
    },
    {
      "cell_type": "code",
      "source": [
        "acd_preds = acd_predict(acd_model, test_acd_dataloader, SAVE_PATHS['ACD'], device=DEVICE)"
      ],
      "metadata": {
        "id": "f3Rem_MJH0zU",
        "colab": {
          "base_uri": "https://localhost:8080/",
          "height": 49,
          "referenced_widgets": [
            "815ca8655895420daf78f39e9821f6d9",
            "35f5665915f0466392859d7acda45722",
            "29e28de3d5f84ab1b82e22acd7a9faeb",
            "7b3c0034d5ec4400be0049f62bbedcd2",
            "d5498f9cce294acfb5a63be072cb80b1",
            "606a0aaa33c146068dec6ee325abe43e",
            "391d07fa15dd428c85f5f585a4483a44",
            "4e6b55ccac3a4e21883fc3d8b7caf0bf",
            "76c1f6bf7ce94645aae6be5019b919da",
            "94dab8dd03a44c85a67ac74faead0aef",
            "f8872c5f7f7145a4a8b49254dd74c511"
          ]
        },
        "outputId": "57c57b95-b832-452d-ae98-fc0726a241fd"
      },
      "execution_count": 124,
      "outputs": [
        {
          "output_type": "display_data",
          "data": {
            "text/plain": [
              "  0%|          | 0/3 [00:00<?, ?it/s]"
            ],
            "application/vnd.jupyter.widget-view+json": {
              "version_major": 2,
              "version_minor": 0,
              "model_id": "815ca8655895420daf78f39e9821f6d9"
            }
          },
          "metadata": {}
        }
      ]
    },
    {
      "cell_type": "code",
      "source": [
        "test['entity_property'] = list(map(list, ACD_ENCODER.inverse_transform(acd_preds)))\n",
        "test = to_tidy(test, exist_sentiment=False)"
      ],
      "metadata": {
        "id": "Rg8uSFmGpWnS"
      },
      "execution_count": 125,
      "outputs": []
    },
    {
      "cell_type": "code",
      "source": [
        "test_absa_dataloader = DataLoader(ABSADataset(test, tokenizer, MAX_LEN), batch_size=BATCH_SIZE)"
      ],
      "metadata": {
        "id": "LQX-5lVCYn1Y"
      },
      "execution_count": 126,
      "outputs": []
    },
    {
      "cell_type": "code",
      "source": [
        "asc_preds = asc_predict(asc_model, test_absa_dataloader, SAVE_PATHS['ASC'], device=DEVICE)\n",
        "test['sentiment'] =  ASC_ENCODER.inverse_transform(asc_preds)"
      ],
      "metadata": {
        "id": "z5QBij7xrlST",
        "colab": {
          "base_uri": "https://localhost:8080/",
          "height": 49,
          "referenced_widgets": [
            "b801dd2aefcb429690ff4447e61f636f",
            "fe4f10d0b65545798f4c8d1971818c8b",
            "c52fc142fa384c598d960ae4a2a36bfc",
            "9af530828c3d4f97bb8ebf33b37b69c9",
            "c0dcfff7fa034f0398ea99b2cf9cc33b",
            "bb69948d0da348d1a9d66534f75a45c7",
            "0ce774817b6f43d899821638828b69e4",
            "7f8f971d0ded45a5a3e9e73fd6b0010b",
            "0161c2eabc934c7398b5995da5ab5e5b",
            "75c0070f6f02429eb14996b893b63d9e",
            "93d727c4a6d54d6895b145b78a34c310"
          ]
        },
        "outputId": "2a282d3b-2041-4004-a9b6-b523f75e4856"
      },
      "execution_count": 127,
      "outputs": [
        {
          "output_type": "display_data",
          "data": {
            "text/plain": [
              "  0%|          | 0/3 [00:00<?, ?it/s]"
            ],
            "application/vnd.jupyter.widget-view+json": {
              "version_major": 2,
              "version_minor": 0,
              "model_id": "b801dd2aefcb429690ff4447e61f636f"
            }
          },
          "metadata": {}
        }
      ]
    },
    {
      "cell_type": "code",
      "source": [
        "test = to_untidy(test)"
      ],
      "metadata": {
        "id": "MoAX84QzSpGu"
      },
      "execution_count": 128,
      "outputs": []
    },
    {
      "cell_type": "code",
      "execution_count": 129,
      "metadata": {
        "id": "PoepzDgQSJFc"
      },
      "outputs": [],
      "source": [
        "test_jsonl = fill_annotation(load_jsonl(test_path) , test)"
      ]
    },
    {
      "cell_type": "code",
      "execution_count": 130,
      "metadata": {
        "id": "nDlAjiwbSQ-M"
      },
      "outputs": [],
      "source": [
        "write_jsonl(test_jsonl, submission_path)"
      ]
    },
    {
      "cell_type": "code",
      "source": [
        "test"
      ],
      "metadata": {
        "colab": {
          "base_uri": "https://localhost:8080/",
          "height": 423
        },
        "id": "H6xZSFR87E-3",
        "outputId": "5f62145d-f1c6-4717-cc97-60fb007f0fae"
      },
      "execution_count": 131,
      "outputs": [
        {
          "output_type": "execute_result",
          "data": {
            "text/plain": [
              "         id                                             text  \\\n",
              "0     00001                         하나 사려고 알아보는 중인데 맘에드는거 발견   \n",
              "1     00002                   동양인 피부톤과 잘 어울리고 우아한 분위기를 풍긴다네?   \n",
              "2     00003                       근데 이건 마르살라보다 더 지나친 색 같은데..   \n",
              "3     00004       나스 색조가 다 그렇지만서도 어데이셔스 라인은 진짜 색 기막히게 뽑는것 같다   \n",
              "4     00005             색상만 보면 이걸 어떻게 발라.. 싶겠지만 의외로 너무너무 괜찮다   \n",
              "...     ...                                              ...   \n",
              "2122  02123                          간단한 충전으로 간편한 사용이 가능한거죠.   \n",
              "2123  02124                      눈을 가린 상태에서도 간편하게 조작이 가능하구요,   \n",
              "2124  02125       다양한 마사지로 관자놀이부터 눈주변까지 부드럽고 강력한 마사지가 진행됩니다.   \n",
              "2125  02126  본체부터 케이블, 설명서까지 깔끔하게 정리되어 보관이 가능하니 더더 맘에 쏙 들어요.   \n",
              "2126  02127          사이즈가 컴펙트하고 무게감도 부담없어 가방에 쏙 넣고 다니기도 좋아요.   \n",
              "\n",
              "               entity_property             sentiment  \n",
              "0                   [제품 전체#일반]            [positive]  \n",
              "1                  [제품 전체#디자인]            [positive]  \n",
              "2                  [제품 전체#디자인]            [negative]  \n",
              "3                      [본품#일반]            [positive]  \n",
              "4                      [본품#일반]             [neutral]  \n",
              "...                        ...                   ...  \n",
              "2122                  [본품#편의성]            [positive]  \n",
              "2123                  [본품#편의성]            [positive]  \n",
              "2124                   [본품#품질]            [positive]  \n",
              "2125                  [본품#편의성]            [positive]  \n",
              "2126  [제품 전체#편의성, 패키지/구성품#편의성]  [positive, positive]  \n",
              "\n",
              "[2127 rows x 4 columns]"
            ],
            "text/html": [
              "\n",
              "  <div id=\"df-dbef610d-edd6-4072-be0c-17da7c162719\">\n",
              "    <div class=\"colab-df-container\">\n",
              "      <div>\n",
              "<style scoped>\n",
              "    .dataframe tbody tr th:only-of-type {\n",
              "        vertical-align: middle;\n",
              "    }\n",
              "\n",
              "    .dataframe tbody tr th {\n",
              "        vertical-align: top;\n",
              "    }\n",
              "\n",
              "    .dataframe thead th {\n",
              "        text-align: right;\n",
              "    }\n",
              "</style>\n",
              "<table border=\"1\" class=\"dataframe\">\n",
              "  <thead>\n",
              "    <tr style=\"text-align: right;\">\n",
              "      <th></th>\n",
              "      <th>id</th>\n",
              "      <th>text</th>\n",
              "      <th>entity_property</th>\n",
              "      <th>sentiment</th>\n",
              "    </tr>\n",
              "  </thead>\n",
              "  <tbody>\n",
              "    <tr>\n",
              "      <th>0</th>\n",
              "      <td>00001</td>\n",
              "      <td>하나 사려고 알아보는 중인데 맘에드는거 발견</td>\n",
              "      <td>[제품 전체#일반]</td>\n",
              "      <td>[positive]</td>\n",
              "    </tr>\n",
              "    <tr>\n",
              "      <th>1</th>\n",
              "      <td>00002</td>\n",
              "      <td>동양인 피부톤과 잘 어울리고 우아한 분위기를 풍긴다네?</td>\n",
              "      <td>[제품 전체#디자인]</td>\n",
              "      <td>[positive]</td>\n",
              "    </tr>\n",
              "    <tr>\n",
              "      <th>2</th>\n",
              "      <td>00003</td>\n",
              "      <td>근데 이건 마르살라보다 더 지나친 색 같은데..</td>\n",
              "      <td>[제품 전체#디자인]</td>\n",
              "      <td>[negative]</td>\n",
              "    </tr>\n",
              "    <tr>\n",
              "      <th>3</th>\n",
              "      <td>00004</td>\n",
              "      <td>나스 색조가 다 그렇지만서도 어데이셔스 라인은 진짜 색 기막히게 뽑는것 같다</td>\n",
              "      <td>[본품#일반]</td>\n",
              "      <td>[positive]</td>\n",
              "    </tr>\n",
              "    <tr>\n",
              "      <th>4</th>\n",
              "      <td>00005</td>\n",
              "      <td>색상만 보면 이걸 어떻게 발라.. 싶겠지만 의외로 너무너무 괜찮다</td>\n",
              "      <td>[본품#일반]</td>\n",
              "      <td>[neutral]</td>\n",
              "    </tr>\n",
              "    <tr>\n",
              "      <th>...</th>\n",
              "      <td>...</td>\n",
              "      <td>...</td>\n",
              "      <td>...</td>\n",
              "      <td>...</td>\n",
              "    </tr>\n",
              "    <tr>\n",
              "      <th>2122</th>\n",
              "      <td>02123</td>\n",
              "      <td>간단한 충전으로 간편한 사용이 가능한거죠.</td>\n",
              "      <td>[본품#편의성]</td>\n",
              "      <td>[positive]</td>\n",
              "    </tr>\n",
              "    <tr>\n",
              "      <th>2123</th>\n",
              "      <td>02124</td>\n",
              "      <td>눈을 가린 상태에서도 간편하게 조작이 가능하구요,</td>\n",
              "      <td>[본품#편의성]</td>\n",
              "      <td>[positive]</td>\n",
              "    </tr>\n",
              "    <tr>\n",
              "      <th>2124</th>\n",
              "      <td>02125</td>\n",
              "      <td>다양한 마사지로 관자놀이부터 눈주변까지 부드럽고 강력한 마사지가 진행됩니다.</td>\n",
              "      <td>[본품#품질]</td>\n",
              "      <td>[positive]</td>\n",
              "    </tr>\n",
              "    <tr>\n",
              "      <th>2125</th>\n",
              "      <td>02126</td>\n",
              "      <td>본체부터 케이블, 설명서까지 깔끔하게 정리되어 보관이 가능하니 더더 맘에 쏙 들어요.</td>\n",
              "      <td>[본품#편의성]</td>\n",
              "      <td>[positive]</td>\n",
              "    </tr>\n",
              "    <tr>\n",
              "      <th>2126</th>\n",
              "      <td>02127</td>\n",
              "      <td>사이즈가 컴펙트하고 무게감도 부담없어 가방에 쏙 넣고 다니기도 좋아요.</td>\n",
              "      <td>[제품 전체#편의성, 패키지/구성품#편의성]</td>\n",
              "      <td>[positive, positive]</td>\n",
              "    </tr>\n",
              "  </tbody>\n",
              "</table>\n",
              "<p>2127 rows × 4 columns</p>\n",
              "</div>\n",
              "      <button class=\"colab-df-convert\" onclick=\"convertToInteractive('df-dbef610d-edd6-4072-be0c-17da7c162719')\"\n",
              "              title=\"Convert this dataframe to an interactive table.\"\n",
              "              style=\"display:none;\">\n",
              "        \n",
              "  <svg xmlns=\"http://www.w3.org/2000/svg\" height=\"24px\"viewBox=\"0 0 24 24\"\n",
              "       width=\"24px\">\n",
              "    <path d=\"M0 0h24v24H0V0z\" fill=\"none\"/>\n",
              "    <path d=\"M18.56 5.44l.94 2.06.94-2.06 2.06-.94-2.06-.94-.94-2.06-.94 2.06-2.06.94zm-11 1L8.5 8.5l.94-2.06 2.06-.94-2.06-.94L8.5 2.5l-.94 2.06-2.06.94zm10 10l.94 2.06.94-2.06 2.06-.94-2.06-.94-.94-2.06-.94 2.06-2.06.94z\"/><path d=\"M17.41 7.96l-1.37-1.37c-.4-.4-.92-.59-1.43-.59-.52 0-1.04.2-1.43.59L10.3 9.45l-7.72 7.72c-.78.78-.78 2.05 0 2.83L4 21.41c.39.39.9.59 1.41.59.51 0 1.02-.2 1.41-.59l7.78-7.78 2.81-2.81c.8-.78.8-2.07 0-2.86zM5.41 20L4 18.59l7.72-7.72 1.47 1.35L5.41 20z\"/>\n",
              "  </svg>\n",
              "      </button>\n",
              "      \n",
              "  <style>\n",
              "    .colab-df-container {\n",
              "      display:flex;\n",
              "      flex-wrap:wrap;\n",
              "      gap: 12px;\n",
              "    }\n",
              "\n",
              "    .colab-df-convert {\n",
              "      background-color: #E8F0FE;\n",
              "      border: none;\n",
              "      border-radius: 50%;\n",
              "      cursor: pointer;\n",
              "      display: none;\n",
              "      fill: #1967D2;\n",
              "      height: 32px;\n",
              "      padding: 0 0 0 0;\n",
              "      width: 32px;\n",
              "    }\n",
              "\n",
              "    .colab-df-convert:hover {\n",
              "      background-color: #E2EBFA;\n",
              "      box-shadow: 0px 1px 2px rgba(60, 64, 67, 0.3), 0px 1px 3px 1px rgba(60, 64, 67, 0.15);\n",
              "      fill: #174EA6;\n",
              "    }\n",
              "\n",
              "    [theme=dark] .colab-df-convert {\n",
              "      background-color: #3B4455;\n",
              "      fill: #D2E3FC;\n",
              "    }\n",
              "\n",
              "    [theme=dark] .colab-df-convert:hover {\n",
              "      background-color: #434B5C;\n",
              "      box-shadow: 0px 1px 3px 1px rgba(0, 0, 0, 0.15);\n",
              "      filter: drop-shadow(0px 1px 2px rgba(0, 0, 0, 0.3));\n",
              "      fill: #FFFFFF;\n",
              "    }\n",
              "  </style>\n",
              "\n",
              "      <script>\n",
              "        const buttonEl =\n",
              "          document.querySelector('#df-dbef610d-edd6-4072-be0c-17da7c162719 button.colab-df-convert');\n",
              "        buttonEl.style.display =\n",
              "          google.colab.kernel.accessAllowed ? 'block' : 'none';\n",
              "\n",
              "        async function convertToInteractive(key) {\n",
              "          const element = document.querySelector('#df-dbef610d-edd6-4072-be0c-17da7c162719');\n",
              "          const dataTable =\n",
              "            await google.colab.kernel.invokeFunction('convertToInteractive',\n",
              "                                                     [key], {});\n",
              "          if (!dataTable) return;\n",
              "\n",
              "          const docLinkHtml = 'Like what you see? Visit the ' +\n",
              "            '<a target=\"_blank\" href=https://colab.research.google.com/notebooks/data_table.ipynb>data table notebook</a>'\n",
              "            + ' to learn more about interactive tables.';\n",
              "          element.innerHTML = '';\n",
              "          dataTable['output_type'] = 'display_data';\n",
              "          await google.colab.output.renderOutput(dataTable, element);\n",
              "          const docLink = document.createElement('div');\n",
              "          docLink.innerHTML = docLinkHtml;\n",
              "          element.appendChild(docLink);\n",
              "        }\n",
              "      </script>\n",
              "    </div>\n",
              "  </div>\n",
              "  "
            ]
          },
          "metadata": {},
          "execution_count": 131
        }
      ]
    },
    {
      "cell_type": "code",
      "source": [
        "x  = to_tidy(test)"
      ],
      "metadata": {
        "id": "Dz_szmyW7W0m"
      },
      "execution_count": 133,
      "outputs": []
    },
    {
      "cell_type": "code",
      "source": [
        "x.entity_property.value_counts() / x.shape[0]"
      ],
      "metadata": {
        "colab": {
          "base_uri": "https://localhost:8080/"
        },
        "id": "-6ko1bvk7bCu",
        "outputId": "f1b34a7b-31d3-486a-eb52-fbc173c59cb9"
      },
      "execution_count": 138,
      "outputs": [
        {
          "output_type": "execute_result",
          "data": {
            "text/plain": [
              "본품#품질          0.331431\n",
              "제품 전체#일반       0.166813\n",
              "본품#일반          0.118086\n",
              "제품 전체#품질       0.099210\n",
              "본품#편의성         0.095698\n",
              "제품 전체#디자인      0.065408\n",
              "제품 전체#편의성      0.037313\n",
              "제품 전체#가격       0.025022\n",
              "패키지/구성품#디자인    0.017559\n",
              "제품 전체#인지도      0.014486\n",
              "패키지/구성품#일반     0.010975\n",
              "브랜드#일반         0.008780\n",
              "패키지/구성품#편의성    0.006146\n",
              "본품#다양성         0.003073\n",
              "Name: entity_property, dtype: float64"
            ]
          },
          "metadata": {},
          "execution_count": 138
        }
      ]
    },
    {
      "cell_type": "code",
      "source": [
        "tidy_df.entity_property.value_counts() / tidy_df.shape[0]"
      ],
      "metadata": {
        "id": "6o1nIS2KzC8y",
        "colab": {
          "base_uri": "https://localhost:8080/"
        },
        "outputId": "eb96486a-5dab-40a0-94de-c63829e73a65"
      },
      "execution_count": 132,
      "outputs": [
        {
          "output_type": "execute_result",
          "data": {
            "text/plain": [
              "본품#품질          0.367435\n",
              "제품 전체#일반       0.260522\n",
              "본품#일반          0.078648\n",
              "제품 전체#품질       0.074347\n",
              "제품 전체#디자인      0.048541\n",
              "본품#편의성         0.029186\n",
              "제품 전체#편의성      0.028879\n",
              "제품 전체#인지도      0.020276\n",
              "패키지/구성품#디자인    0.016590\n",
              "브랜드#일반         0.016283\n",
              "제품 전체#가격       0.015054\n",
              "패키지/구성품#편의성    0.011674\n",
              "패키지/구성품#일반     0.009217\n",
              "본품#다양성         0.006452\n",
              "본품#디자인         0.004608\n",
              "브랜드#품질         0.003994\n",
              "패키지/구성품#품질     0.003379\n",
              "브랜드#인지도        0.002765\n",
              "브랜드#가격         0.000922\n",
              "본품#가격          0.000614\n",
              "패키지/구성품#다양성    0.000307\n",
              "본품#인지도         0.000307\n",
              "Name: entity_property, dtype: float64"
            ]
          },
          "metadata": {},
          "execution_count": 132
        }
      ]
    },
    {
      "cell_type": "code",
      "source": [
        "tidy_valid.entity_property.value_counts() / tidy_valid.shape[0]"
      ],
      "metadata": {
        "colab": {
          "base_uri": "https://localhost:8080/"
        },
        "id": "UiwtH5Fu7xfO",
        "outputId": "0d3d7269-b53a-4f36-9519-0fde112f3392"
      },
      "execution_count": 139,
      "outputs": [
        {
          "output_type": "execute_result",
          "data": {
            "text/plain": [
              "본품#품질          0.384665\n",
              "제품 전체#일반       0.252112\n",
              "제품 전체#품질       0.081546\n",
              "본품#일반          0.076348\n",
              "제품 전체#디자인      0.041585\n",
              "본품#편의성         0.031189\n",
              "제품 전체#편의성      0.027940\n",
              "제품 전체#인지도      0.024366\n",
              "패키지/구성품#디자인    0.020468\n",
              "브랜드#일반         0.016244\n",
              "제품 전체#가격       0.013970\n",
              "패키지/구성품#편의성    0.008772\n",
              "패키지/구성품#일반     0.006498\n",
              "본품#다양성         0.003249\n",
              "브랜드#인지도        0.002599\n",
              "패키지/구성품#품질     0.002599\n",
              "본품#디자인         0.001949\n",
              "브랜드#품질         0.001949\n",
              "브랜드#가격         0.001300\n",
              "패키지/구성품#다양성    0.000650\n",
              "Name: entity_property, dtype: float64"
            ]
          },
          "metadata": {},
          "execution_count": 139
        }
      ]
    },
    {
      "cell_type": "code",
      "source": [],
      "metadata": {
        "id": "S_v-nY9w7zBu"
      },
      "execution_count": null,
      "outputs": []
    }
  ],
  "metadata": {
    "colab": {
      "collapsed_sections": [],
      "provenance": [],
      "toc_visible": true,
      "include_colab_link": true
    },
    "gpuClass": "standard",
    "kernelspec": {
      "display_name": "Python 3 (ipykernel)",
      "language": "python",
      "name": "python3"
    },
    "language_info": {
      "codemirror_mode": {
        "name": "ipython",
        "version": 3
      },
      "file_extension": ".py",
      "mimetype": "text/x-python",
      "name": "python",
      "nbconvert_exporter": "python",
      "pygments_lexer": "ipython3",
      "version": "3.8.11"
    },
    "widgets": {
      "application/vnd.jupyter.widget-state+json": {
        "8e63d5a67c2549d4bdac35b55f4ac85e": {
          "model_module": "@jupyter-widgets/controls",
          "model_name": "HBoxModel",
          "model_module_version": "1.5.0",
          "state": {
            "_dom_classes": [],
            "_model_module": "@jupyter-widgets/controls",
            "_model_module_version": "1.5.0",
            "_model_name": "HBoxModel",
            "_view_count": null,
            "_view_module": "@jupyter-widgets/controls",
            "_view_module_version": "1.5.0",
            "_view_name": "HBoxView",
            "box_style": "",
            "children": [
              "IPY_MODEL_f3f70dcaeba540768f5385dd23b71b0a",
              "IPY_MODEL_c34b8711e50f4fc7970f9a63b5f30d6b",
              "IPY_MODEL_d60587f2ff2c437ca5024045d0055f1c"
            ],
            "layout": "IPY_MODEL_2692c23b3275438eb1e20751b9f0878b"
          }
        },
        "f3f70dcaeba540768f5385dd23b71b0a": {
          "model_module": "@jupyter-widgets/controls",
          "model_name": "HTMLModel",
          "model_module_version": "1.5.0",
          "state": {
            "_dom_classes": [],
            "_model_module": "@jupyter-widgets/controls",
            "_model_module_version": "1.5.0",
            "_model_name": "HTMLModel",
            "_view_count": null,
            "_view_module": "@jupyter-widgets/controls",
            "_view_module_version": "1.5.0",
            "_view_name": "HTMLView",
            "description": "",
            "description_tooltip": null,
            "layout": "IPY_MODEL_79ce4ae24b874f1c8450b07a63c3a18a",
            "placeholder": "​",
            "style": "IPY_MODEL_c7d3ef0badf44c36825f00108d95a9e8",
            "value": "Downloading: 100%"
          }
        },
        "c34b8711e50f4fc7970f9a63b5f30d6b": {
          "model_module": "@jupyter-widgets/controls",
          "model_name": "FloatProgressModel",
          "model_module_version": "1.5.0",
          "state": {
            "_dom_classes": [],
            "_model_module": "@jupyter-widgets/controls",
            "_model_module_version": "1.5.0",
            "_model_name": "FloatProgressModel",
            "_view_count": null,
            "_view_module": "@jupyter-widgets/controls",
            "_view_module_version": "1.5.0",
            "_view_name": "ProgressView",
            "bar_style": "success",
            "description": "",
            "description_tooltip": null,
            "layout": "IPY_MODEL_dcd540d12a4245a78a1d0fb20285f678",
            "max": 80,
            "min": 0,
            "orientation": "horizontal",
            "style": "IPY_MODEL_eb2d2881f6e942af8a4cd340d6addfb7",
            "value": 80
          }
        },
        "d60587f2ff2c437ca5024045d0055f1c": {
          "model_module": "@jupyter-widgets/controls",
          "model_name": "HTMLModel",
          "model_module_version": "1.5.0",
          "state": {
            "_dom_classes": [],
            "_model_module": "@jupyter-widgets/controls",
            "_model_module_version": "1.5.0",
            "_model_name": "HTMLModel",
            "_view_count": null,
            "_view_module": "@jupyter-widgets/controls",
            "_view_module_version": "1.5.0",
            "_view_name": "HTMLView",
            "description": "",
            "description_tooltip": null,
            "layout": "IPY_MODEL_df3e4439f9c44ecc9b4bf7152f485d3e",
            "placeholder": "​",
            "style": "IPY_MODEL_e32ed79e1d9646659df38d7e8df05d18",
            "value": " 80.0/80.0 [00:00&lt;00:00, 2.18kB/s]"
          }
        },
        "2692c23b3275438eb1e20751b9f0878b": {
          "model_module": "@jupyter-widgets/base",
          "model_name": "LayoutModel",
          "model_module_version": "1.2.0",
          "state": {
            "_model_module": "@jupyter-widgets/base",
            "_model_module_version": "1.2.0",
            "_model_name": "LayoutModel",
            "_view_count": null,
            "_view_module": "@jupyter-widgets/base",
            "_view_module_version": "1.2.0",
            "_view_name": "LayoutView",
            "align_content": null,
            "align_items": null,
            "align_self": null,
            "border": null,
            "bottom": null,
            "display": null,
            "flex": null,
            "flex_flow": null,
            "grid_area": null,
            "grid_auto_columns": null,
            "grid_auto_flow": null,
            "grid_auto_rows": null,
            "grid_column": null,
            "grid_gap": null,
            "grid_row": null,
            "grid_template_areas": null,
            "grid_template_columns": null,
            "grid_template_rows": null,
            "height": null,
            "justify_content": null,
            "justify_items": null,
            "left": null,
            "margin": null,
            "max_height": null,
            "max_width": null,
            "min_height": null,
            "min_width": null,
            "object_fit": null,
            "object_position": null,
            "order": null,
            "overflow": null,
            "overflow_x": null,
            "overflow_y": null,
            "padding": null,
            "right": null,
            "top": null,
            "visibility": null,
            "width": null
          }
        },
        "79ce4ae24b874f1c8450b07a63c3a18a": {
          "model_module": "@jupyter-widgets/base",
          "model_name": "LayoutModel",
          "model_module_version": "1.2.0",
          "state": {
            "_model_module": "@jupyter-widgets/base",
            "_model_module_version": "1.2.0",
            "_model_name": "LayoutModel",
            "_view_count": null,
            "_view_module": "@jupyter-widgets/base",
            "_view_module_version": "1.2.0",
            "_view_name": "LayoutView",
            "align_content": null,
            "align_items": null,
            "align_self": null,
            "border": null,
            "bottom": null,
            "display": null,
            "flex": null,
            "flex_flow": null,
            "grid_area": null,
            "grid_auto_columns": null,
            "grid_auto_flow": null,
            "grid_auto_rows": null,
            "grid_column": null,
            "grid_gap": null,
            "grid_row": null,
            "grid_template_areas": null,
            "grid_template_columns": null,
            "grid_template_rows": null,
            "height": null,
            "justify_content": null,
            "justify_items": null,
            "left": null,
            "margin": null,
            "max_height": null,
            "max_width": null,
            "min_height": null,
            "min_width": null,
            "object_fit": null,
            "object_position": null,
            "order": null,
            "overflow": null,
            "overflow_x": null,
            "overflow_y": null,
            "padding": null,
            "right": null,
            "top": null,
            "visibility": null,
            "width": null
          }
        },
        "c7d3ef0badf44c36825f00108d95a9e8": {
          "model_module": "@jupyter-widgets/controls",
          "model_name": "DescriptionStyleModel",
          "model_module_version": "1.5.0",
          "state": {
            "_model_module": "@jupyter-widgets/controls",
            "_model_module_version": "1.5.0",
            "_model_name": "DescriptionStyleModel",
            "_view_count": null,
            "_view_module": "@jupyter-widgets/base",
            "_view_module_version": "1.2.0",
            "_view_name": "StyleView",
            "description_width": ""
          }
        },
        "dcd540d12a4245a78a1d0fb20285f678": {
          "model_module": "@jupyter-widgets/base",
          "model_name": "LayoutModel",
          "model_module_version": "1.2.0",
          "state": {
            "_model_module": "@jupyter-widgets/base",
            "_model_module_version": "1.2.0",
            "_model_name": "LayoutModel",
            "_view_count": null,
            "_view_module": "@jupyter-widgets/base",
            "_view_module_version": "1.2.0",
            "_view_name": "LayoutView",
            "align_content": null,
            "align_items": null,
            "align_self": null,
            "border": null,
            "bottom": null,
            "display": null,
            "flex": null,
            "flex_flow": null,
            "grid_area": null,
            "grid_auto_columns": null,
            "grid_auto_flow": null,
            "grid_auto_rows": null,
            "grid_column": null,
            "grid_gap": null,
            "grid_row": null,
            "grid_template_areas": null,
            "grid_template_columns": null,
            "grid_template_rows": null,
            "height": null,
            "justify_content": null,
            "justify_items": null,
            "left": null,
            "margin": null,
            "max_height": null,
            "max_width": null,
            "min_height": null,
            "min_width": null,
            "object_fit": null,
            "object_position": null,
            "order": null,
            "overflow": null,
            "overflow_x": null,
            "overflow_y": null,
            "padding": null,
            "right": null,
            "top": null,
            "visibility": null,
            "width": null
          }
        },
        "eb2d2881f6e942af8a4cd340d6addfb7": {
          "model_module": "@jupyter-widgets/controls",
          "model_name": "ProgressStyleModel",
          "model_module_version": "1.5.0",
          "state": {
            "_model_module": "@jupyter-widgets/controls",
            "_model_module_version": "1.5.0",
            "_model_name": "ProgressStyleModel",
            "_view_count": null,
            "_view_module": "@jupyter-widgets/base",
            "_view_module_version": "1.2.0",
            "_view_name": "StyleView",
            "bar_color": null,
            "description_width": ""
          }
        },
        "df3e4439f9c44ecc9b4bf7152f485d3e": {
          "model_module": "@jupyter-widgets/base",
          "model_name": "LayoutModel",
          "model_module_version": "1.2.0",
          "state": {
            "_model_module": "@jupyter-widgets/base",
            "_model_module_version": "1.2.0",
            "_model_name": "LayoutModel",
            "_view_count": null,
            "_view_module": "@jupyter-widgets/base",
            "_view_module_version": "1.2.0",
            "_view_name": "LayoutView",
            "align_content": null,
            "align_items": null,
            "align_self": null,
            "border": null,
            "bottom": null,
            "display": null,
            "flex": null,
            "flex_flow": null,
            "grid_area": null,
            "grid_auto_columns": null,
            "grid_auto_flow": null,
            "grid_auto_rows": null,
            "grid_column": null,
            "grid_gap": null,
            "grid_row": null,
            "grid_template_areas": null,
            "grid_template_columns": null,
            "grid_template_rows": null,
            "height": null,
            "justify_content": null,
            "justify_items": null,
            "left": null,
            "margin": null,
            "max_height": null,
            "max_width": null,
            "min_height": null,
            "min_width": null,
            "object_fit": null,
            "object_position": null,
            "order": null,
            "overflow": null,
            "overflow_x": null,
            "overflow_y": null,
            "padding": null,
            "right": null,
            "top": null,
            "visibility": null,
            "width": null
          }
        },
        "e32ed79e1d9646659df38d7e8df05d18": {
          "model_module": "@jupyter-widgets/controls",
          "model_name": "DescriptionStyleModel",
          "model_module_version": "1.5.0",
          "state": {
            "_model_module": "@jupyter-widgets/controls",
            "_model_module_version": "1.5.0",
            "_model_name": "DescriptionStyleModel",
            "_view_count": null,
            "_view_module": "@jupyter-widgets/base",
            "_view_module_version": "1.2.0",
            "_view_name": "StyleView",
            "description_width": ""
          }
        },
        "ce106cefcf7e45f998f10503ba28a9ce": {
          "model_module": "@jupyter-widgets/controls",
          "model_name": "HBoxModel",
          "model_module_version": "1.5.0",
          "state": {
            "_dom_classes": [],
            "_model_module": "@jupyter-widgets/controls",
            "_model_module_version": "1.5.0",
            "_model_name": "HBoxModel",
            "_view_count": null,
            "_view_module": "@jupyter-widgets/controls",
            "_view_module_version": "1.5.0",
            "_view_name": "HBoxView",
            "box_style": "",
            "children": [
              "IPY_MODEL_cbd6c48fbfb74645a33d6c1afaac13b0",
              "IPY_MODEL_875c91e190a24f3a8d9664044d366f67",
              "IPY_MODEL_00ddcd414c564e04a7a5887406c833a7"
            ],
            "layout": "IPY_MODEL_fc589c2598a44b5bbbf8d965fbe96d0c"
          }
        },
        "cbd6c48fbfb74645a33d6c1afaac13b0": {
          "model_module": "@jupyter-widgets/controls",
          "model_name": "HTMLModel",
          "model_module_version": "1.5.0",
          "state": {
            "_dom_classes": [],
            "_model_module": "@jupyter-widgets/controls",
            "_model_module_version": "1.5.0",
            "_model_name": "HTMLModel",
            "_view_count": null,
            "_view_module": "@jupyter-widgets/controls",
            "_view_module_version": "1.5.0",
            "_view_name": "HTMLView",
            "description": "",
            "description_tooltip": null,
            "layout": "IPY_MODEL_e6ac301d6f5246fa953f6bc192767c56",
            "placeholder": "​",
            "style": "IPY_MODEL_64ba41c9145c4872a7c8436ff58f5d29",
            "value": "Downloading: 100%"
          }
        },
        "875c91e190a24f3a8d9664044d366f67": {
          "model_module": "@jupyter-widgets/controls",
          "model_name": "FloatProgressModel",
          "model_module_version": "1.5.0",
          "state": {
            "_dom_classes": [],
            "_model_module": "@jupyter-widgets/controls",
            "_model_module_version": "1.5.0",
            "_model_name": "FloatProgressModel",
            "_view_count": null,
            "_view_module": "@jupyter-widgets/controls",
            "_view_module_version": "1.5.0",
            "_view_name": "ProgressView",
            "bar_style": "success",
            "description": "",
            "description_tooltip": null,
            "layout": "IPY_MODEL_9ed743be8c774ae4ac6568fc5b090cdb",
            "max": 725,
            "min": 0,
            "orientation": "horizontal",
            "style": "IPY_MODEL_22f36998a8f3429db6be30b0beb66a4d",
            "value": 725
          }
        },
        "00ddcd414c564e04a7a5887406c833a7": {
          "model_module": "@jupyter-widgets/controls",
          "model_name": "HTMLModel",
          "model_module_version": "1.5.0",
          "state": {
            "_dom_classes": [],
            "_model_module": "@jupyter-widgets/controls",
            "_model_module_version": "1.5.0",
            "_model_name": "HTMLModel",
            "_view_count": null,
            "_view_module": "@jupyter-widgets/controls",
            "_view_module_version": "1.5.0",
            "_view_name": "HTMLView",
            "description": "",
            "description_tooltip": null,
            "layout": "IPY_MODEL_ebb1c6a3d0b14f73b9ae7d31c18dd43c",
            "placeholder": "​",
            "style": "IPY_MODEL_c61f86e559924e46a330f0a50abc3132",
            "value": " 725/725 [00:00&lt;00:00, 22.9kB/s]"
          }
        },
        "fc589c2598a44b5bbbf8d965fbe96d0c": {
          "model_module": "@jupyter-widgets/base",
          "model_name": "LayoutModel",
          "model_module_version": "1.2.0",
          "state": {
            "_model_module": "@jupyter-widgets/base",
            "_model_module_version": "1.2.0",
            "_model_name": "LayoutModel",
            "_view_count": null,
            "_view_module": "@jupyter-widgets/base",
            "_view_module_version": "1.2.0",
            "_view_name": "LayoutView",
            "align_content": null,
            "align_items": null,
            "align_self": null,
            "border": null,
            "bottom": null,
            "display": null,
            "flex": null,
            "flex_flow": null,
            "grid_area": null,
            "grid_auto_columns": null,
            "grid_auto_flow": null,
            "grid_auto_rows": null,
            "grid_column": null,
            "grid_gap": null,
            "grid_row": null,
            "grid_template_areas": null,
            "grid_template_columns": null,
            "grid_template_rows": null,
            "height": null,
            "justify_content": null,
            "justify_items": null,
            "left": null,
            "margin": null,
            "max_height": null,
            "max_width": null,
            "min_height": null,
            "min_width": null,
            "object_fit": null,
            "object_position": null,
            "order": null,
            "overflow": null,
            "overflow_x": null,
            "overflow_y": null,
            "padding": null,
            "right": null,
            "top": null,
            "visibility": null,
            "width": null
          }
        },
        "e6ac301d6f5246fa953f6bc192767c56": {
          "model_module": "@jupyter-widgets/base",
          "model_name": "LayoutModel",
          "model_module_version": "1.2.0",
          "state": {
            "_model_module": "@jupyter-widgets/base",
            "_model_module_version": "1.2.0",
            "_model_name": "LayoutModel",
            "_view_count": null,
            "_view_module": "@jupyter-widgets/base",
            "_view_module_version": "1.2.0",
            "_view_name": "LayoutView",
            "align_content": null,
            "align_items": null,
            "align_self": null,
            "border": null,
            "bottom": null,
            "display": null,
            "flex": null,
            "flex_flow": null,
            "grid_area": null,
            "grid_auto_columns": null,
            "grid_auto_flow": null,
            "grid_auto_rows": null,
            "grid_column": null,
            "grid_gap": null,
            "grid_row": null,
            "grid_template_areas": null,
            "grid_template_columns": null,
            "grid_template_rows": null,
            "height": null,
            "justify_content": null,
            "justify_items": null,
            "left": null,
            "margin": null,
            "max_height": null,
            "max_width": null,
            "min_height": null,
            "min_width": null,
            "object_fit": null,
            "object_position": null,
            "order": null,
            "overflow": null,
            "overflow_x": null,
            "overflow_y": null,
            "padding": null,
            "right": null,
            "top": null,
            "visibility": null,
            "width": null
          }
        },
        "64ba41c9145c4872a7c8436ff58f5d29": {
          "model_module": "@jupyter-widgets/controls",
          "model_name": "DescriptionStyleModel",
          "model_module_version": "1.5.0",
          "state": {
            "_model_module": "@jupyter-widgets/controls",
            "_model_module_version": "1.5.0",
            "_model_name": "DescriptionStyleModel",
            "_view_count": null,
            "_view_module": "@jupyter-widgets/base",
            "_view_module_version": "1.2.0",
            "_view_name": "StyleView",
            "description_width": ""
          }
        },
        "9ed743be8c774ae4ac6568fc5b090cdb": {
          "model_module": "@jupyter-widgets/base",
          "model_name": "LayoutModel",
          "model_module_version": "1.2.0",
          "state": {
            "_model_module": "@jupyter-widgets/base",
            "_model_module_version": "1.2.0",
            "_model_name": "LayoutModel",
            "_view_count": null,
            "_view_module": "@jupyter-widgets/base",
            "_view_module_version": "1.2.0",
            "_view_name": "LayoutView",
            "align_content": null,
            "align_items": null,
            "align_self": null,
            "border": null,
            "bottom": null,
            "display": null,
            "flex": null,
            "flex_flow": null,
            "grid_area": null,
            "grid_auto_columns": null,
            "grid_auto_flow": null,
            "grid_auto_rows": null,
            "grid_column": null,
            "grid_gap": null,
            "grid_row": null,
            "grid_template_areas": null,
            "grid_template_columns": null,
            "grid_template_rows": null,
            "height": null,
            "justify_content": null,
            "justify_items": null,
            "left": null,
            "margin": null,
            "max_height": null,
            "max_width": null,
            "min_height": null,
            "min_width": null,
            "object_fit": null,
            "object_position": null,
            "order": null,
            "overflow": null,
            "overflow_x": null,
            "overflow_y": null,
            "padding": null,
            "right": null,
            "top": null,
            "visibility": null,
            "width": null
          }
        },
        "22f36998a8f3429db6be30b0beb66a4d": {
          "model_module": "@jupyter-widgets/controls",
          "model_name": "ProgressStyleModel",
          "model_module_version": "1.5.0",
          "state": {
            "_model_module": "@jupyter-widgets/controls",
            "_model_module_version": "1.5.0",
            "_model_name": "ProgressStyleModel",
            "_view_count": null,
            "_view_module": "@jupyter-widgets/base",
            "_view_module_version": "1.2.0",
            "_view_name": "StyleView",
            "bar_color": null,
            "description_width": ""
          }
        },
        "ebb1c6a3d0b14f73b9ae7d31c18dd43c": {
          "model_module": "@jupyter-widgets/base",
          "model_name": "LayoutModel",
          "model_module_version": "1.2.0",
          "state": {
            "_model_module": "@jupyter-widgets/base",
            "_model_module_version": "1.2.0",
            "_model_name": "LayoutModel",
            "_view_count": null,
            "_view_module": "@jupyter-widgets/base",
            "_view_module_version": "1.2.0",
            "_view_name": "LayoutView",
            "align_content": null,
            "align_items": null,
            "align_self": null,
            "border": null,
            "bottom": null,
            "display": null,
            "flex": null,
            "flex_flow": null,
            "grid_area": null,
            "grid_auto_columns": null,
            "grid_auto_flow": null,
            "grid_auto_rows": null,
            "grid_column": null,
            "grid_gap": null,
            "grid_row": null,
            "grid_template_areas": null,
            "grid_template_columns": null,
            "grid_template_rows": null,
            "height": null,
            "justify_content": null,
            "justify_items": null,
            "left": null,
            "margin": null,
            "max_height": null,
            "max_width": null,
            "min_height": null,
            "min_width": null,
            "object_fit": null,
            "object_position": null,
            "order": null,
            "overflow": null,
            "overflow_x": null,
            "overflow_y": null,
            "padding": null,
            "right": null,
            "top": null,
            "visibility": null,
            "width": null
          }
        },
        "c61f86e559924e46a330f0a50abc3132": {
          "model_module": "@jupyter-widgets/controls",
          "model_name": "DescriptionStyleModel",
          "model_module_version": "1.5.0",
          "state": {
            "_model_module": "@jupyter-widgets/controls",
            "_model_module_version": "1.5.0",
            "_model_name": "DescriptionStyleModel",
            "_view_count": null,
            "_view_module": "@jupyter-widgets/base",
            "_view_module_version": "1.2.0",
            "_view_name": "StyleView",
            "description_width": ""
          }
        },
        "5c04ab463c2e47aeb4e7877ccb29c91c": {
          "model_module": "@jupyter-widgets/controls",
          "model_name": "HBoxModel",
          "model_module_version": "1.5.0",
          "state": {
            "_dom_classes": [],
            "_model_module": "@jupyter-widgets/controls",
            "_model_module_version": "1.5.0",
            "_model_name": "HBoxModel",
            "_view_count": null,
            "_view_module": "@jupyter-widgets/controls",
            "_view_module_version": "1.5.0",
            "_view_name": "HBoxView",
            "box_style": "",
            "children": [
              "IPY_MODEL_81a9163103ee480ba51260e236c59743",
              "IPY_MODEL_b38afcee933340d5a677aaae9ef58f1f",
              "IPY_MODEL_6ee9789334d24742ac68138729c8bd02"
            ],
            "layout": "IPY_MODEL_c9f4e64a3fa743c5943e6c79939c0343"
          }
        },
        "81a9163103ee480ba51260e236c59743": {
          "model_module": "@jupyter-widgets/controls",
          "model_name": "HTMLModel",
          "model_module_version": "1.5.0",
          "state": {
            "_dom_classes": [],
            "_model_module": "@jupyter-widgets/controls",
            "_model_module_version": "1.5.0",
            "_model_name": "HTMLModel",
            "_view_count": null,
            "_view_module": "@jupyter-widgets/controls",
            "_view_module_version": "1.5.0",
            "_view_name": "HTMLView",
            "description": "",
            "description_tooltip": null,
            "layout": "IPY_MODEL_6cf2b20f4063497fb509d31e97b110b7",
            "placeholder": "​",
            "style": "IPY_MODEL_63c0b5733316468d91fa5027b33c63de",
            "value": "Downloading: 100%"
          }
        },
        "b38afcee933340d5a677aaae9ef58f1f": {
          "model_module": "@jupyter-widgets/controls",
          "model_name": "FloatProgressModel",
          "model_module_version": "1.5.0",
          "state": {
            "_dom_classes": [],
            "_model_module": "@jupyter-widgets/controls",
            "_model_module_version": "1.5.0",
            "_model_name": "FloatProgressModel",
            "_view_count": null,
            "_view_module": "@jupyter-widgets/controls",
            "_view_module_version": "1.5.0",
            "_view_name": "ProgressView",
            "bar_style": "success",
            "description": "",
            "description_tooltip": null,
            "layout": "IPY_MODEL_bd0cb0f82e334e9a897c828c875011cf",
            "max": 344259,
            "min": 0,
            "orientation": "horizontal",
            "style": "IPY_MODEL_60ec4ea5861b4385a192c5c4907acabd",
            "value": 344259
          }
        },
        "6ee9789334d24742ac68138729c8bd02": {
          "model_module": "@jupyter-widgets/controls",
          "model_name": "HTMLModel",
          "model_module_version": "1.5.0",
          "state": {
            "_dom_classes": [],
            "_model_module": "@jupyter-widgets/controls",
            "_model_module_version": "1.5.0",
            "_model_name": "HTMLModel",
            "_view_count": null,
            "_view_module": "@jupyter-widgets/controls",
            "_view_module_version": "1.5.0",
            "_view_name": "HTMLView",
            "description": "",
            "description_tooltip": null,
            "layout": "IPY_MODEL_3bd867fb19064d9eb05ee6814d197af8",
            "placeholder": "​",
            "style": "IPY_MODEL_f7a6c736c0904af58894c81229ba5a4f",
            "value": " 344k/344k [00:00&lt;00:00, 935kB/s]"
          }
        },
        "c9f4e64a3fa743c5943e6c79939c0343": {
          "model_module": "@jupyter-widgets/base",
          "model_name": "LayoutModel",
          "model_module_version": "1.2.0",
          "state": {
            "_model_module": "@jupyter-widgets/base",
            "_model_module_version": "1.2.0",
            "_model_name": "LayoutModel",
            "_view_count": null,
            "_view_module": "@jupyter-widgets/base",
            "_view_module_version": "1.2.0",
            "_view_name": "LayoutView",
            "align_content": null,
            "align_items": null,
            "align_self": null,
            "border": null,
            "bottom": null,
            "display": null,
            "flex": null,
            "flex_flow": null,
            "grid_area": null,
            "grid_auto_columns": null,
            "grid_auto_flow": null,
            "grid_auto_rows": null,
            "grid_column": null,
            "grid_gap": null,
            "grid_row": null,
            "grid_template_areas": null,
            "grid_template_columns": null,
            "grid_template_rows": null,
            "height": null,
            "justify_content": null,
            "justify_items": null,
            "left": null,
            "margin": null,
            "max_height": null,
            "max_width": null,
            "min_height": null,
            "min_width": null,
            "object_fit": null,
            "object_position": null,
            "order": null,
            "overflow": null,
            "overflow_x": null,
            "overflow_y": null,
            "padding": null,
            "right": null,
            "top": null,
            "visibility": null,
            "width": null
          }
        },
        "6cf2b20f4063497fb509d31e97b110b7": {
          "model_module": "@jupyter-widgets/base",
          "model_name": "LayoutModel",
          "model_module_version": "1.2.0",
          "state": {
            "_model_module": "@jupyter-widgets/base",
            "_model_module_version": "1.2.0",
            "_model_name": "LayoutModel",
            "_view_count": null,
            "_view_module": "@jupyter-widgets/base",
            "_view_module_version": "1.2.0",
            "_view_name": "LayoutView",
            "align_content": null,
            "align_items": null,
            "align_self": null,
            "border": null,
            "bottom": null,
            "display": null,
            "flex": null,
            "flex_flow": null,
            "grid_area": null,
            "grid_auto_columns": null,
            "grid_auto_flow": null,
            "grid_auto_rows": null,
            "grid_column": null,
            "grid_gap": null,
            "grid_row": null,
            "grid_template_areas": null,
            "grid_template_columns": null,
            "grid_template_rows": null,
            "height": null,
            "justify_content": null,
            "justify_items": null,
            "left": null,
            "margin": null,
            "max_height": null,
            "max_width": null,
            "min_height": null,
            "min_width": null,
            "object_fit": null,
            "object_position": null,
            "order": null,
            "overflow": null,
            "overflow_x": null,
            "overflow_y": null,
            "padding": null,
            "right": null,
            "top": null,
            "visibility": null,
            "width": null
          }
        },
        "63c0b5733316468d91fa5027b33c63de": {
          "model_module": "@jupyter-widgets/controls",
          "model_name": "DescriptionStyleModel",
          "model_module_version": "1.5.0",
          "state": {
            "_model_module": "@jupyter-widgets/controls",
            "_model_module_version": "1.5.0",
            "_model_name": "DescriptionStyleModel",
            "_view_count": null,
            "_view_module": "@jupyter-widgets/base",
            "_view_module_version": "1.2.0",
            "_view_name": "StyleView",
            "description_width": ""
          }
        },
        "bd0cb0f82e334e9a897c828c875011cf": {
          "model_module": "@jupyter-widgets/base",
          "model_name": "LayoutModel",
          "model_module_version": "1.2.0",
          "state": {
            "_model_module": "@jupyter-widgets/base",
            "_model_module_version": "1.2.0",
            "_model_name": "LayoutModel",
            "_view_count": null,
            "_view_module": "@jupyter-widgets/base",
            "_view_module_version": "1.2.0",
            "_view_name": "LayoutView",
            "align_content": null,
            "align_items": null,
            "align_self": null,
            "border": null,
            "bottom": null,
            "display": null,
            "flex": null,
            "flex_flow": null,
            "grid_area": null,
            "grid_auto_columns": null,
            "grid_auto_flow": null,
            "grid_auto_rows": null,
            "grid_column": null,
            "grid_gap": null,
            "grid_row": null,
            "grid_template_areas": null,
            "grid_template_columns": null,
            "grid_template_rows": null,
            "height": null,
            "justify_content": null,
            "justify_items": null,
            "left": null,
            "margin": null,
            "max_height": null,
            "max_width": null,
            "min_height": null,
            "min_width": null,
            "object_fit": null,
            "object_position": null,
            "order": null,
            "overflow": null,
            "overflow_x": null,
            "overflow_y": null,
            "padding": null,
            "right": null,
            "top": null,
            "visibility": null,
            "width": null
          }
        },
        "60ec4ea5861b4385a192c5c4907acabd": {
          "model_module": "@jupyter-widgets/controls",
          "model_name": "ProgressStyleModel",
          "model_module_version": "1.5.0",
          "state": {
            "_model_module": "@jupyter-widgets/controls",
            "_model_module_version": "1.5.0",
            "_model_name": "ProgressStyleModel",
            "_view_count": null,
            "_view_module": "@jupyter-widgets/base",
            "_view_module_version": "1.2.0",
            "_view_name": "StyleView",
            "bar_color": null,
            "description_width": ""
          }
        },
        "3bd867fb19064d9eb05ee6814d197af8": {
          "model_module": "@jupyter-widgets/base",
          "model_name": "LayoutModel",
          "model_module_version": "1.2.0",
          "state": {
            "_model_module": "@jupyter-widgets/base",
            "_model_module_version": "1.2.0",
            "_model_name": "LayoutModel",
            "_view_count": null,
            "_view_module": "@jupyter-widgets/base",
            "_view_module_version": "1.2.0",
            "_view_name": "LayoutView",
            "align_content": null,
            "align_items": null,
            "align_self": null,
            "border": null,
            "bottom": null,
            "display": null,
            "flex": null,
            "flex_flow": null,
            "grid_area": null,
            "grid_auto_columns": null,
            "grid_auto_flow": null,
            "grid_auto_rows": null,
            "grid_column": null,
            "grid_gap": null,
            "grid_row": null,
            "grid_template_areas": null,
            "grid_template_columns": null,
            "grid_template_rows": null,
            "height": null,
            "justify_content": null,
            "justify_items": null,
            "left": null,
            "margin": null,
            "max_height": null,
            "max_width": null,
            "min_height": null,
            "min_width": null,
            "object_fit": null,
            "object_position": null,
            "order": null,
            "overflow": null,
            "overflow_x": null,
            "overflow_y": null,
            "padding": null,
            "right": null,
            "top": null,
            "visibility": null,
            "width": null
          }
        },
        "f7a6c736c0904af58894c81229ba5a4f": {
          "model_module": "@jupyter-widgets/controls",
          "model_name": "DescriptionStyleModel",
          "model_module_version": "1.5.0",
          "state": {
            "_model_module": "@jupyter-widgets/controls",
            "_model_module_version": "1.5.0",
            "_model_name": "DescriptionStyleModel",
            "_view_count": null,
            "_view_module": "@jupyter-widgets/base",
            "_view_module_version": "1.2.0",
            "_view_name": "StyleView",
            "description_width": ""
          }
        },
        "505bade1fcb84a688f2d6d0ef0989d40": {
          "model_module": "@jupyter-widgets/controls",
          "model_name": "HBoxModel",
          "model_module_version": "1.5.0",
          "state": {
            "_dom_classes": [],
            "_model_module": "@jupyter-widgets/controls",
            "_model_module_version": "1.5.0",
            "_model_name": "HBoxModel",
            "_view_count": null,
            "_view_module": "@jupyter-widgets/controls",
            "_view_module_version": "1.5.0",
            "_view_name": "HBoxView",
            "box_style": "",
            "children": [
              "IPY_MODEL_9f87920d4dd74b6e8f687b49b965dcdf",
              "IPY_MODEL_75982675bcef4974b1403c0c3b5786d4",
              "IPY_MODEL_de2f829483014b58a80b5c50f0f0cc70"
            ],
            "layout": "IPY_MODEL_fd842e9a55ec4fe4b28fb9914e8c4b31"
          }
        },
        "9f87920d4dd74b6e8f687b49b965dcdf": {
          "model_module": "@jupyter-widgets/controls",
          "model_name": "HTMLModel",
          "model_module_version": "1.5.0",
          "state": {
            "_dom_classes": [],
            "_model_module": "@jupyter-widgets/controls",
            "_model_module_version": "1.5.0",
            "_model_name": "HTMLModel",
            "_view_count": null,
            "_view_module": "@jupyter-widgets/controls",
            "_view_module_version": "1.5.0",
            "_view_name": "HTMLView",
            "description": "",
            "description_tooltip": null,
            "layout": "IPY_MODEL_8cd5b1fe26be48a391c130f489b9db23",
            "placeholder": "​",
            "style": "IPY_MODEL_977aab95b4f844818c89f3db2ac2b794",
            "value": "100%"
          }
        },
        "75982675bcef4974b1403c0c3b5786d4": {
          "model_module": "@jupyter-widgets/controls",
          "model_name": "FloatProgressModel",
          "model_module_version": "1.5.0",
          "state": {
            "_dom_classes": [],
            "_model_module": "@jupyter-widgets/controls",
            "_model_module_version": "1.5.0",
            "_model_name": "FloatProgressModel",
            "_view_count": null,
            "_view_module": "@jupyter-widgets/controls",
            "_view_module_version": "1.5.0",
            "_view_name": "ProgressView",
            "bar_style": "success",
            "description": "",
            "description_tooltip": null,
            "layout": "IPY_MODEL_3696d33cfee5402fa106ea2006224640",
            "max": 3001,
            "min": 0,
            "orientation": "horizontal",
            "style": "IPY_MODEL_96e9a0348f7649618ee2bd13b0be28af",
            "value": 3001
          }
        },
        "de2f829483014b58a80b5c50f0f0cc70": {
          "model_module": "@jupyter-widgets/controls",
          "model_name": "HTMLModel",
          "model_module_version": "1.5.0",
          "state": {
            "_dom_classes": [],
            "_model_module": "@jupyter-widgets/controls",
            "_model_module_version": "1.5.0",
            "_model_name": "HTMLModel",
            "_view_count": null,
            "_view_module": "@jupyter-widgets/controls",
            "_view_module_version": "1.5.0",
            "_view_name": "HTMLView",
            "description": "",
            "description_tooltip": null,
            "layout": "IPY_MODEL_2f353ccc8dd54d3f94ba6a8962a61db0",
            "placeholder": "​",
            "style": "IPY_MODEL_07c8332f45d34c5d83e32d5d3476eddf",
            "value": " 3001/3001 [00:00&lt;00:00, 4001.92it/s]"
          }
        },
        "fd842e9a55ec4fe4b28fb9914e8c4b31": {
          "model_module": "@jupyter-widgets/base",
          "model_name": "LayoutModel",
          "model_module_version": "1.2.0",
          "state": {
            "_model_module": "@jupyter-widgets/base",
            "_model_module_version": "1.2.0",
            "_model_name": "LayoutModel",
            "_view_count": null,
            "_view_module": "@jupyter-widgets/base",
            "_view_module_version": "1.2.0",
            "_view_name": "LayoutView",
            "align_content": null,
            "align_items": null,
            "align_self": null,
            "border": null,
            "bottom": null,
            "display": null,
            "flex": null,
            "flex_flow": null,
            "grid_area": null,
            "grid_auto_columns": null,
            "grid_auto_flow": null,
            "grid_auto_rows": null,
            "grid_column": null,
            "grid_gap": null,
            "grid_row": null,
            "grid_template_areas": null,
            "grid_template_columns": null,
            "grid_template_rows": null,
            "height": null,
            "justify_content": null,
            "justify_items": null,
            "left": null,
            "margin": null,
            "max_height": null,
            "max_width": null,
            "min_height": null,
            "min_width": null,
            "object_fit": null,
            "object_position": null,
            "order": null,
            "overflow": null,
            "overflow_x": null,
            "overflow_y": null,
            "padding": null,
            "right": null,
            "top": null,
            "visibility": null,
            "width": null
          }
        },
        "8cd5b1fe26be48a391c130f489b9db23": {
          "model_module": "@jupyter-widgets/base",
          "model_name": "LayoutModel",
          "model_module_version": "1.2.0",
          "state": {
            "_model_module": "@jupyter-widgets/base",
            "_model_module_version": "1.2.0",
            "_model_name": "LayoutModel",
            "_view_count": null,
            "_view_module": "@jupyter-widgets/base",
            "_view_module_version": "1.2.0",
            "_view_name": "LayoutView",
            "align_content": null,
            "align_items": null,
            "align_self": null,
            "border": null,
            "bottom": null,
            "display": null,
            "flex": null,
            "flex_flow": null,
            "grid_area": null,
            "grid_auto_columns": null,
            "grid_auto_flow": null,
            "grid_auto_rows": null,
            "grid_column": null,
            "grid_gap": null,
            "grid_row": null,
            "grid_template_areas": null,
            "grid_template_columns": null,
            "grid_template_rows": null,
            "height": null,
            "justify_content": null,
            "justify_items": null,
            "left": null,
            "margin": null,
            "max_height": null,
            "max_width": null,
            "min_height": null,
            "min_width": null,
            "object_fit": null,
            "object_position": null,
            "order": null,
            "overflow": null,
            "overflow_x": null,
            "overflow_y": null,
            "padding": null,
            "right": null,
            "top": null,
            "visibility": null,
            "width": null
          }
        },
        "977aab95b4f844818c89f3db2ac2b794": {
          "model_module": "@jupyter-widgets/controls",
          "model_name": "DescriptionStyleModel",
          "model_module_version": "1.5.0",
          "state": {
            "_model_module": "@jupyter-widgets/controls",
            "_model_module_version": "1.5.0",
            "_model_name": "DescriptionStyleModel",
            "_view_count": null,
            "_view_module": "@jupyter-widgets/base",
            "_view_module_version": "1.2.0",
            "_view_name": "StyleView",
            "description_width": ""
          }
        },
        "3696d33cfee5402fa106ea2006224640": {
          "model_module": "@jupyter-widgets/base",
          "model_name": "LayoutModel",
          "model_module_version": "1.2.0",
          "state": {
            "_model_module": "@jupyter-widgets/base",
            "_model_module_version": "1.2.0",
            "_model_name": "LayoutModel",
            "_view_count": null,
            "_view_module": "@jupyter-widgets/base",
            "_view_module_version": "1.2.0",
            "_view_name": "LayoutView",
            "align_content": null,
            "align_items": null,
            "align_self": null,
            "border": null,
            "bottom": null,
            "display": null,
            "flex": null,
            "flex_flow": null,
            "grid_area": null,
            "grid_auto_columns": null,
            "grid_auto_flow": null,
            "grid_auto_rows": null,
            "grid_column": null,
            "grid_gap": null,
            "grid_row": null,
            "grid_template_areas": null,
            "grid_template_columns": null,
            "grid_template_rows": null,
            "height": null,
            "justify_content": null,
            "justify_items": null,
            "left": null,
            "margin": null,
            "max_height": null,
            "max_width": null,
            "min_height": null,
            "min_width": null,
            "object_fit": null,
            "object_position": null,
            "order": null,
            "overflow": null,
            "overflow_x": null,
            "overflow_y": null,
            "padding": null,
            "right": null,
            "top": null,
            "visibility": null,
            "width": null
          }
        },
        "96e9a0348f7649618ee2bd13b0be28af": {
          "model_module": "@jupyter-widgets/controls",
          "model_name": "ProgressStyleModel",
          "model_module_version": "1.5.0",
          "state": {
            "_model_module": "@jupyter-widgets/controls",
            "_model_module_version": "1.5.0",
            "_model_name": "ProgressStyleModel",
            "_view_count": null,
            "_view_module": "@jupyter-widgets/base",
            "_view_module_version": "1.2.0",
            "_view_name": "StyleView",
            "bar_color": null,
            "description_width": ""
          }
        },
        "2f353ccc8dd54d3f94ba6a8962a61db0": {
          "model_module": "@jupyter-widgets/base",
          "model_name": "LayoutModel",
          "model_module_version": "1.2.0",
          "state": {
            "_model_module": "@jupyter-widgets/base",
            "_model_module_version": "1.2.0",
            "_model_name": "LayoutModel",
            "_view_count": null,
            "_view_module": "@jupyter-widgets/base",
            "_view_module_version": "1.2.0",
            "_view_name": "LayoutView",
            "align_content": null,
            "align_items": null,
            "align_self": null,
            "border": null,
            "bottom": null,
            "display": null,
            "flex": null,
            "flex_flow": null,
            "grid_area": null,
            "grid_auto_columns": null,
            "grid_auto_flow": null,
            "grid_auto_rows": null,
            "grid_column": null,
            "grid_gap": null,
            "grid_row": null,
            "grid_template_areas": null,
            "grid_template_columns": null,
            "grid_template_rows": null,
            "height": null,
            "justify_content": null,
            "justify_items": null,
            "left": null,
            "margin": null,
            "max_height": null,
            "max_width": null,
            "min_height": null,
            "min_width": null,
            "object_fit": null,
            "object_position": null,
            "order": null,
            "overflow": null,
            "overflow_x": null,
            "overflow_y": null,
            "padding": null,
            "right": null,
            "top": null,
            "visibility": null,
            "width": null
          }
        },
        "07c8332f45d34c5d83e32d5d3476eddf": {
          "model_module": "@jupyter-widgets/controls",
          "model_name": "DescriptionStyleModel",
          "model_module_version": "1.5.0",
          "state": {
            "_model_module": "@jupyter-widgets/controls",
            "_model_module_version": "1.5.0",
            "_model_name": "DescriptionStyleModel",
            "_view_count": null,
            "_view_module": "@jupyter-widgets/base",
            "_view_module_version": "1.2.0",
            "_view_name": "StyleView",
            "description_width": ""
          }
        },
        "1e606fa180774bdf8d1c428ba3152936": {
          "model_module": "@jupyter-widgets/controls",
          "model_name": "HBoxModel",
          "model_module_version": "1.5.0",
          "state": {
            "_dom_classes": [],
            "_model_module": "@jupyter-widgets/controls",
            "_model_module_version": "1.5.0",
            "_model_name": "HBoxModel",
            "_view_count": null,
            "_view_module": "@jupyter-widgets/controls",
            "_view_module_version": "1.5.0",
            "_view_name": "HBoxView",
            "box_style": "",
            "children": [
              "IPY_MODEL_2022e440220343be938e25cbe075c326",
              "IPY_MODEL_113f1cdafb474f53bdb1856748988a70",
              "IPY_MODEL_c651349544744fc9a56172f312c1216c"
            ],
            "layout": "IPY_MODEL_bf7d9307ca4d4afeaf4db7b05cdb1638"
          }
        },
        "2022e440220343be938e25cbe075c326": {
          "model_module": "@jupyter-widgets/controls",
          "model_name": "HTMLModel",
          "model_module_version": "1.5.0",
          "state": {
            "_dom_classes": [],
            "_model_module": "@jupyter-widgets/controls",
            "_model_module_version": "1.5.0",
            "_model_name": "HTMLModel",
            "_view_count": null,
            "_view_module": "@jupyter-widgets/controls",
            "_view_module_version": "1.5.0",
            "_view_name": "HTMLView",
            "description": "",
            "description_tooltip": null,
            "layout": "IPY_MODEL_00eb52b969de4b04acec9b35cfbf381a",
            "placeholder": "​",
            "style": "IPY_MODEL_f5ce22f9a2de44a396f4f4e9c469bf09",
            "value": "100%"
          }
        },
        "113f1cdafb474f53bdb1856748988a70": {
          "model_module": "@jupyter-widgets/controls",
          "model_name": "FloatProgressModel",
          "model_module_version": "1.5.0",
          "state": {
            "_dom_classes": [],
            "_model_module": "@jupyter-widgets/controls",
            "_model_module_version": "1.5.0",
            "_model_name": "FloatProgressModel",
            "_view_count": null,
            "_view_module": "@jupyter-widgets/controls",
            "_view_module_version": "1.5.0",
            "_view_name": "ProgressView",
            "bar_style": "success",
            "description": "",
            "description_tooltip": null,
            "layout": "IPY_MODEL_ada5d617dfb1446f879fe3180dfda8e0",
            "max": 30,
            "min": 0,
            "orientation": "horizontal",
            "style": "IPY_MODEL_1467703593964800ae59b8df0d561fa4",
            "value": 30
          }
        },
        "c651349544744fc9a56172f312c1216c": {
          "model_module": "@jupyter-widgets/controls",
          "model_name": "HTMLModel",
          "model_module_version": "1.5.0",
          "state": {
            "_dom_classes": [],
            "_model_module": "@jupyter-widgets/controls",
            "_model_module_version": "1.5.0",
            "_model_name": "HTMLModel",
            "_view_count": null,
            "_view_module": "@jupyter-widgets/controls",
            "_view_module_version": "1.5.0",
            "_view_name": "HTMLView",
            "description": "",
            "description_tooltip": null,
            "layout": "IPY_MODEL_acb7553adb8947ef984f19a8f03e357f",
            "placeholder": "​",
            "style": "IPY_MODEL_0f367d1a205c457cb1be169bb27821c2",
            "value": " 30/30 [09:24&lt;00:00, 18.03s/it]"
          }
        },
        "bf7d9307ca4d4afeaf4db7b05cdb1638": {
          "model_module": "@jupyter-widgets/base",
          "model_name": "LayoutModel",
          "model_module_version": "1.2.0",
          "state": {
            "_model_module": "@jupyter-widgets/base",
            "_model_module_version": "1.2.0",
            "_model_name": "LayoutModel",
            "_view_count": null,
            "_view_module": "@jupyter-widgets/base",
            "_view_module_version": "1.2.0",
            "_view_name": "LayoutView",
            "align_content": null,
            "align_items": null,
            "align_self": null,
            "border": null,
            "bottom": null,
            "display": null,
            "flex": null,
            "flex_flow": null,
            "grid_area": null,
            "grid_auto_columns": null,
            "grid_auto_flow": null,
            "grid_auto_rows": null,
            "grid_column": null,
            "grid_gap": null,
            "grid_row": null,
            "grid_template_areas": null,
            "grid_template_columns": null,
            "grid_template_rows": null,
            "height": null,
            "justify_content": null,
            "justify_items": null,
            "left": null,
            "margin": null,
            "max_height": null,
            "max_width": null,
            "min_height": null,
            "min_width": null,
            "object_fit": null,
            "object_position": null,
            "order": null,
            "overflow": null,
            "overflow_x": null,
            "overflow_y": null,
            "padding": null,
            "right": null,
            "top": null,
            "visibility": null,
            "width": null
          }
        },
        "00eb52b969de4b04acec9b35cfbf381a": {
          "model_module": "@jupyter-widgets/base",
          "model_name": "LayoutModel",
          "model_module_version": "1.2.0",
          "state": {
            "_model_module": "@jupyter-widgets/base",
            "_model_module_version": "1.2.0",
            "_model_name": "LayoutModel",
            "_view_count": null,
            "_view_module": "@jupyter-widgets/base",
            "_view_module_version": "1.2.0",
            "_view_name": "LayoutView",
            "align_content": null,
            "align_items": null,
            "align_self": null,
            "border": null,
            "bottom": null,
            "display": null,
            "flex": null,
            "flex_flow": null,
            "grid_area": null,
            "grid_auto_columns": null,
            "grid_auto_flow": null,
            "grid_auto_rows": null,
            "grid_column": null,
            "grid_gap": null,
            "grid_row": null,
            "grid_template_areas": null,
            "grid_template_columns": null,
            "grid_template_rows": null,
            "height": null,
            "justify_content": null,
            "justify_items": null,
            "left": null,
            "margin": null,
            "max_height": null,
            "max_width": null,
            "min_height": null,
            "min_width": null,
            "object_fit": null,
            "object_position": null,
            "order": null,
            "overflow": null,
            "overflow_x": null,
            "overflow_y": null,
            "padding": null,
            "right": null,
            "top": null,
            "visibility": null,
            "width": null
          }
        },
        "f5ce22f9a2de44a396f4f4e9c469bf09": {
          "model_module": "@jupyter-widgets/controls",
          "model_name": "DescriptionStyleModel",
          "model_module_version": "1.5.0",
          "state": {
            "_model_module": "@jupyter-widgets/controls",
            "_model_module_version": "1.5.0",
            "_model_name": "DescriptionStyleModel",
            "_view_count": null,
            "_view_module": "@jupyter-widgets/base",
            "_view_module_version": "1.2.0",
            "_view_name": "StyleView",
            "description_width": ""
          }
        },
        "ada5d617dfb1446f879fe3180dfda8e0": {
          "model_module": "@jupyter-widgets/base",
          "model_name": "LayoutModel",
          "model_module_version": "1.2.0",
          "state": {
            "_model_module": "@jupyter-widgets/base",
            "_model_module_version": "1.2.0",
            "_model_name": "LayoutModel",
            "_view_count": null,
            "_view_module": "@jupyter-widgets/base",
            "_view_module_version": "1.2.0",
            "_view_name": "LayoutView",
            "align_content": null,
            "align_items": null,
            "align_self": null,
            "border": null,
            "bottom": null,
            "display": null,
            "flex": null,
            "flex_flow": null,
            "grid_area": null,
            "grid_auto_columns": null,
            "grid_auto_flow": null,
            "grid_auto_rows": null,
            "grid_column": null,
            "grid_gap": null,
            "grid_row": null,
            "grid_template_areas": null,
            "grid_template_columns": null,
            "grid_template_rows": null,
            "height": null,
            "justify_content": null,
            "justify_items": null,
            "left": null,
            "margin": null,
            "max_height": null,
            "max_width": null,
            "min_height": null,
            "min_width": null,
            "object_fit": null,
            "object_position": null,
            "order": null,
            "overflow": null,
            "overflow_x": null,
            "overflow_y": null,
            "padding": null,
            "right": null,
            "top": null,
            "visibility": null,
            "width": null
          }
        },
        "1467703593964800ae59b8df0d561fa4": {
          "model_module": "@jupyter-widgets/controls",
          "model_name": "ProgressStyleModel",
          "model_module_version": "1.5.0",
          "state": {
            "_model_module": "@jupyter-widgets/controls",
            "_model_module_version": "1.5.0",
            "_model_name": "ProgressStyleModel",
            "_view_count": null,
            "_view_module": "@jupyter-widgets/base",
            "_view_module_version": "1.2.0",
            "_view_name": "StyleView",
            "bar_color": null,
            "description_width": ""
          }
        },
        "acb7553adb8947ef984f19a8f03e357f": {
          "model_module": "@jupyter-widgets/base",
          "model_name": "LayoutModel",
          "model_module_version": "1.2.0",
          "state": {
            "_model_module": "@jupyter-widgets/base",
            "_model_module_version": "1.2.0",
            "_model_name": "LayoutModel",
            "_view_count": null,
            "_view_module": "@jupyter-widgets/base",
            "_view_module_version": "1.2.0",
            "_view_name": "LayoutView",
            "align_content": null,
            "align_items": null,
            "align_self": null,
            "border": null,
            "bottom": null,
            "display": null,
            "flex": null,
            "flex_flow": null,
            "grid_area": null,
            "grid_auto_columns": null,
            "grid_auto_flow": null,
            "grid_auto_rows": null,
            "grid_column": null,
            "grid_gap": null,
            "grid_row": null,
            "grid_template_areas": null,
            "grid_template_columns": null,
            "grid_template_rows": null,
            "height": null,
            "justify_content": null,
            "justify_items": null,
            "left": null,
            "margin": null,
            "max_height": null,
            "max_width": null,
            "min_height": null,
            "min_width": null,
            "object_fit": null,
            "object_position": null,
            "order": null,
            "overflow": null,
            "overflow_x": null,
            "overflow_y": null,
            "padding": null,
            "right": null,
            "top": null,
            "visibility": null,
            "width": null
          }
        },
        "0f367d1a205c457cb1be169bb27821c2": {
          "model_module": "@jupyter-widgets/controls",
          "model_name": "DescriptionStyleModel",
          "model_module_version": "1.5.0",
          "state": {
            "_model_module": "@jupyter-widgets/controls",
            "_model_module_version": "1.5.0",
            "_model_name": "DescriptionStyleModel",
            "_view_count": null,
            "_view_module": "@jupyter-widgets/base",
            "_view_module_version": "1.2.0",
            "_view_name": "StyleView",
            "description_width": ""
          }
        },
        "9489c8ba0eb34041b32abc9d75c173ca": {
          "model_module": "@jupyter-widgets/controls",
          "model_name": "HBoxModel",
          "model_module_version": "1.5.0",
          "state": {
            "_dom_classes": [],
            "_model_module": "@jupyter-widgets/controls",
            "_model_module_version": "1.5.0",
            "_model_name": "HBoxModel",
            "_view_count": null,
            "_view_module": "@jupyter-widgets/controls",
            "_view_module_version": "1.5.0",
            "_view_name": "HBoxView",
            "box_style": "",
            "children": [
              "IPY_MODEL_42c053fd7e844b96aa196b1af7ab95cd",
              "IPY_MODEL_60efa9d608894d3f91161b72c7228428",
              "IPY_MODEL_dcfd43f556514735820298ec5566de72"
            ],
            "layout": "IPY_MODEL_b008690e7f294ccf82a39ae519935847"
          }
        },
        "42c053fd7e844b96aa196b1af7ab95cd": {
          "model_module": "@jupyter-widgets/controls",
          "model_name": "HTMLModel",
          "model_module_version": "1.5.0",
          "state": {
            "_dom_classes": [],
            "_model_module": "@jupyter-widgets/controls",
            "_model_module_version": "1.5.0",
            "_model_name": "HTMLModel",
            "_view_count": null,
            "_view_module": "@jupyter-widgets/controls",
            "_view_module_version": "1.5.0",
            "_view_name": "HTMLView",
            "description": "",
            "description_tooltip": null,
            "layout": "IPY_MODEL_5006229fddc64532b26fbe690ab02851",
            "placeholder": "​",
            "style": "IPY_MODEL_f99a3c3bbcd54d5c8578451a830aa5b8",
            "value": "100%"
          }
        },
        "60efa9d608894d3f91161b72c7228428": {
          "model_module": "@jupyter-widgets/controls",
          "model_name": "FloatProgressModel",
          "model_module_version": "1.5.0",
          "state": {
            "_dom_classes": [],
            "_model_module": "@jupyter-widgets/controls",
            "_model_module_version": "1.5.0",
            "_model_name": "FloatProgressModel",
            "_view_count": null,
            "_view_module": "@jupyter-widgets/controls",
            "_view_module_version": "1.5.0",
            "_view_name": "ProgressView",
            "bar_style": "success",
            "description": "",
            "description_tooltip": null,
            "layout": "IPY_MODEL_a745609783b745a88c40bd70766e9565",
            "max": 20,
            "min": 0,
            "orientation": "horizontal",
            "style": "IPY_MODEL_fe9835fa44434a039b531e27b1389005",
            "value": 20
          }
        },
        "dcfd43f556514735820298ec5566de72": {
          "model_module": "@jupyter-widgets/controls",
          "model_name": "HTMLModel",
          "model_module_version": "1.5.0",
          "state": {
            "_dom_classes": [],
            "_model_module": "@jupyter-widgets/controls",
            "_model_module_version": "1.5.0",
            "_model_name": "HTMLModel",
            "_view_count": null,
            "_view_module": "@jupyter-widgets/controls",
            "_view_module_version": "1.5.0",
            "_view_name": "HTMLView",
            "description": "",
            "description_tooltip": null,
            "layout": "IPY_MODEL_eb3955d2a5b144a3a6fb70f96489704b",
            "placeholder": "​",
            "style": "IPY_MODEL_466032e311ff4188b08c7395d17ce22a",
            "value": " 20/20 [11:20&lt;00:00, 33.13s/it]"
          }
        },
        "b008690e7f294ccf82a39ae519935847": {
          "model_module": "@jupyter-widgets/base",
          "model_name": "LayoutModel",
          "model_module_version": "1.2.0",
          "state": {
            "_model_module": "@jupyter-widgets/base",
            "_model_module_version": "1.2.0",
            "_model_name": "LayoutModel",
            "_view_count": null,
            "_view_module": "@jupyter-widgets/base",
            "_view_module_version": "1.2.0",
            "_view_name": "LayoutView",
            "align_content": null,
            "align_items": null,
            "align_self": null,
            "border": null,
            "bottom": null,
            "display": null,
            "flex": null,
            "flex_flow": null,
            "grid_area": null,
            "grid_auto_columns": null,
            "grid_auto_flow": null,
            "grid_auto_rows": null,
            "grid_column": null,
            "grid_gap": null,
            "grid_row": null,
            "grid_template_areas": null,
            "grid_template_columns": null,
            "grid_template_rows": null,
            "height": null,
            "justify_content": null,
            "justify_items": null,
            "left": null,
            "margin": null,
            "max_height": null,
            "max_width": null,
            "min_height": null,
            "min_width": null,
            "object_fit": null,
            "object_position": null,
            "order": null,
            "overflow": null,
            "overflow_x": null,
            "overflow_y": null,
            "padding": null,
            "right": null,
            "top": null,
            "visibility": null,
            "width": null
          }
        },
        "5006229fddc64532b26fbe690ab02851": {
          "model_module": "@jupyter-widgets/base",
          "model_name": "LayoutModel",
          "model_module_version": "1.2.0",
          "state": {
            "_model_module": "@jupyter-widgets/base",
            "_model_module_version": "1.2.0",
            "_model_name": "LayoutModel",
            "_view_count": null,
            "_view_module": "@jupyter-widgets/base",
            "_view_module_version": "1.2.0",
            "_view_name": "LayoutView",
            "align_content": null,
            "align_items": null,
            "align_self": null,
            "border": null,
            "bottom": null,
            "display": null,
            "flex": null,
            "flex_flow": null,
            "grid_area": null,
            "grid_auto_columns": null,
            "grid_auto_flow": null,
            "grid_auto_rows": null,
            "grid_column": null,
            "grid_gap": null,
            "grid_row": null,
            "grid_template_areas": null,
            "grid_template_columns": null,
            "grid_template_rows": null,
            "height": null,
            "justify_content": null,
            "justify_items": null,
            "left": null,
            "margin": null,
            "max_height": null,
            "max_width": null,
            "min_height": null,
            "min_width": null,
            "object_fit": null,
            "object_position": null,
            "order": null,
            "overflow": null,
            "overflow_x": null,
            "overflow_y": null,
            "padding": null,
            "right": null,
            "top": null,
            "visibility": null,
            "width": null
          }
        },
        "f99a3c3bbcd54d5c8578451a830aa5b8": {
          "model_module": "@jupyter-widgets/controls",
          "model_name": "DescriptionStyleModel",
          "model_module_version": "1.5.0",
          "state": {
            "_model_module": "@jupyter-widgets/controls",
            "_model_module_version": "1.5.0",
            "_model_name": "DescriptionStyleModel",
            "_view_count": null,
            "_view_module": "@jupyter-widgets/base",
            "_view_module_version": "1.2.0",
            "_view_name": "StyleView",
            "description_width": ""
          }
        },
        "a745609783b745a88c40bd70766e9565": {
          "model_module": "@jupyter-widgets/base",
          "model_name": "LayoutModel",
          "model_module_version": "1.2.0",
          "state": {
            "_model_module": "@jupyter-widgets/base",
            "_model_module_version": "1.2.0",
            "_model_name": "LayoutModel",
            "_view_count": null,
            "_view_module": "@jupyter-widgets/base",
            "_view_module_version": "1.2.0",
            "_view_name": "LayoutView",
            "align_content": null,
            "align_items": null,
            "align_self": null,
            "border": null,
            "bottom": null,
            "display": null,
            "flex": null,
            "flex_flow": null,
            "grid_area": null,
            "grid_auto_columns": null,
            "grid_auto_flow": null,
            "grid_auto_rows": null,
            "grid_column": null,
            "grid_gap": null,
            "grid_row": null,
            "grid_template_areas": null,
            "grid_template_columns": null,
            "grid_template_rows": null,
            "height": null,
            "justify_content": null,
            "justify_items": null,
            "left": null,
            "margin": null,
            "max_height": null,
            "max_width": null,
            "min_height": null,
            "min_width": null,
            "object_fit": null,
            "object_position": null,
            "order": null,
            "overflow": null,
            "overflow_x": null,
            "overflow_y": null,
            "padding": null,
            "right": null,
            "top": null,
            "visibility": null,
            "width": null
          }
        },
        "fe9835fa44434a039b531e27b1389005": {
          "model_module": "@jupyter-widgets/controls",
          "model_name": "ProgressStyleModel",
          "model_module_version": "1.5.0",
          "state": {
            "_model_module": "@jupyter-widgets/controls",
            "_model_module_version": "1.5.0",
            "_model_name": "ProgressStyleModel",
            "_view_count": null,
            "_view_module": "@jupyter-widgets/base",
            "_view_module_version": "1.2.0",
            "_view_name": "StyleView",
            "bar_color": null,
            "description_width": ""
          }
        },
        "eb3955d2a5b144a3a6fb70f96489704b": {
          "model_module": "@jupyter-widgets/base",
          "model_name": "LayoutModel",
          "model_module_version": "1.2.0",
          "state": {
            "_model_module": "@jupyter-widgets/base",
            "_model_module_version": "1.2.0",
            "_model_name": "LayoutModel",
            "_view_count": null,
            "_view_module": "@jupyter-widgets/base",
            "_view_module_version": "1.2.0",
            "_view_name": "LayoutView",
            "align_content": null,
            "align_items": null,
            "align_self": null,
            "border": null,
            "bottom": null,
            "display": null,
            "flex": null,
            "flex_flow": null,
            "grid_area": null,
            "grid_auto_columns": null,
            "grid_auto_flow": null,
            "grid_auto_rows": null,
            "grid_column": null,
            "grid_gap": null,
            "grid_row": null,
            "grid_template_areas": null,
            "grid_template_columns": null,
            "grid_template_rows": null,
            "height": null,
            "justify_content": null,
            "justify_items": null,
            "left": null,
            "margin": null,
            "max_height": null,
            "max_width": null,
            "min_height": null,
            "min_width": null,
            "object_fit": null,
            "object_position": null,
            "order": null,
            "overflow": null,
            "overflow_x": null,
            "overflow_y": null,
            "padding": null,
            "right": null,
            "top": null,
            "visibility": null,
            "width": null
          }
        },
        "466032e311ff4188b08c7395d17ce22a": {
          "model_module": "@jupyter-widgets/controls",
          "model_name": "DescriptionStyleModel",
          "model_module_version": "1.5.0",
          "state": {
            "_model_module": "@jupyter-widgets/controls",
            "_model_module_version": "1.5.0",
            "_model_name": "DescriptionStyleModel",
            "_view_count": null,
            "_view_module": "@jupyter-widgets/base",
            "_view_module_version": "1.2.0",
            "_view_name": "StyleView",
            "description_width": ""
          }
        },
        "f71e14a0098e48d79fdc99c3b3e9f063": {
          "model_module": "@jupyter-widgets/controls",
          "model_name": "HBoxModel",
          "model_module_version": "1.5.0",
          "state": {
            "_dom_classes": [],
            "_model_module": "@jupyter-widgets/controls",
            "_model_module_version": "1.5.0",
            "_model_name": "HBoxModel",
            "_view_count": null,
            "_view_module": "@jupyter-widgets/controls",
            "_view_module_version": "1.5.0",
            "_view_name": "HBoxView",
            "box_style": "",
            "children": [
              "IPY_MODEL_4400bb3fae574feab91f59914ece5dec",
              "IPY_MODEL_3a1d183da8f340eeb09890d518c67b24",
              "IPY_MODEL_ebbbfe7a776346c5a605312cbd3f3840"
            ],
            "layout": "IPY_MODEL_a39a17c5b74f43c79e808e3235341c73"
          }
        },
        "4400bb3fae574feab91f59914ece5dec": {
          "model_module": "@jupyter-widgets/controls",
          "model_name": "HTMLModel",
          "model_module_version": "1.5.0",
          "state": {
            "_dom_classes": [],
            "_model_module": "@jupyter-widgets/controls",
            "_model_module_version": "1.5.0",
            "_model_name": "HTMLModel",
            "_view_count": null,
            "_view_module": "@jupyter-widgets/controls",
            "_view_module_version": "1.5.0",
            "_view_name": "HTMLView",
            "description": "",
            "description_tooltip": null,
            "layout": "IPY_MODEL_930d0374ae884a01bdfa2854041f1495",
            "placeholder": "​",
            "style": "IPY_MODEL_a354c5e604d648658c03ff44f8d7a4bc",
            "value": "100%"
          }
        },
        "3a1d183da8f340eeb09890d518c67b24": {
          "model_module": "@jupyter-widgets/controls",
          "model_name": "FloatProgressModel",
          "model_module_version": "1.5.0",
          "state": {
            "_dom_classes": [],
            "_model_module": "@jupyter-widgets/controls",
            "_model_module_version": "1.5.0",
            "_model_name": "FloatProgressModel",
            "_view_count": null,
            "_view_module": "@jupyter-widgets/controls",
            "_view_module_version": "1.5.0",
            "_view_name": "ProgressView",
            "bar_style": "success",
            "description": "",
            "description_tooltip": null,
            "layout": "IPY_MODEL_5b53c9ddfea34968a204c4849d554248",
            "max": 30,
            "min": 0,
            "orientation": "horizontal",
            "style": "IPY_MODEL_36848f2bbc624ed1a6b9c5ee3e744a9e",
            "value": 30
          }
        },
        "ebbbfe7a776346c5a605312cbd3f3840": {
          "model_module": "@jupyter-widgets/controls",
          "model_name": "HTMLModel",
          "model_module_version": "1.5.0",
          "state": {
            "_dom_classes": [],
            "_model_module": "@jupyter-widgets/controls",
            "_model_module_version": "1.5.0",
            "_model_name": "HTMLModel",
            "_view_count": null,
            "_view_module": "@jupyter-widgets/controls",
            "_view_module_version": "1.5.0",
            "_view_name": "HTMLView",
            "description": "",
            "description_tooltip": null,
            "layout": "IPY_MODEL_78ff76bad5174ffea5dfd2c74cc92e41",
            "placeholder": "​",
            "style": "IPY_MODEL_7ab0011f2447494680dfb9051e5ea06d",
            "value": " 30/30 [09:24&lt;00:00, 18.92s/it]"
          }
        },
        "a39a17c5b74f43c79e808e3235341c73": {
          "model_module": "@jupyter-widgets/base",
          "model_name": "LayoutModel",
          "model_module_version": "1.2.0",
          "state": {
            "_model_module": "@jupyter-widgets/base",
            "_model_module_version": "1.2.0",
            "_model_name": "LayoutModel",
            "_view_count": null,
            "_view_module": "@jupyter-widgets/base",
            "_view_module_version": "1.2.0",
            "_view_name": "LayoutView",
            "align_content": null,
            "align_items": null,
            "align_self": null,
            "border": null,
            "bottom": null,
            "display": null,
            "flex": null,
            "flex_flow": null,
            "grid_area": null,
            "grid_auto_columns": null,
            "grid_auto_flow": null,
            "grid_auto_rows": null,
            "grid_column": null,
            "grid_gap": null,
            "grid_row": null,
            "grid_template_areas": null,
            "grid_template_columns": null,
            "grid_template_rows": null,
            "height": null,
            "justify_content": null,
            "justify_items": null,
            "left": null,
            "margin": null,
            "max_height": null,
            "max_width": null,
            "min_height": null,
            "min_width": null,
            "object_fit": null,
            "object_position": null,
            "order": null,
            "overflow": null,
            "overflow_x": null,
            "overflow_y": null,
            "padding": null,
            "right": null,
            "top": null,
            "visibility": null,
            "width": null
          }
        },
        "930d0374ae884a01bdfa2854041f1495": {
          "model_module": "@jupyter-widgets/base",
          "model_name": "LayoutModel",
          "model_module_version": "1.2.0",
          "state": {
            "_model_module": "@jupyter-widgets/base",
            "_model_module_version": "1.2.0",
            "_model_name": "LayoutModel",
            "_view_count": null,
            "_view_module": "@jupyter-widgets/base",
            "_view_module_version": "1.2.0",
            "_view_name": "LayoutView",
            "align_content": null,
            "align_items": null,
            "align_self": null,
            "border": null,
            "bottom": null,
            "display": null,
            "flex": null,
            "flex_flow": null,
            "grid_area": null,
            "grid_auto_columns": null,
            "grid_auto_flow": null,
            "grid_auto_rows": null,
            "grid_column": null,
            "grid_gap": null,
            "grid_row": null,
            "grid_template_areas": null,
            "grid_template_columns": null,
            "grid_template_rows": null,
            "height": null,
            "justify_content": null,
            "justify_items": null,
            "left": null,
            "margin": null,
            "max_height": null,
            "max_width": null,
            "min_height": null,
            "min_width": null,
            "object_fit": null,
            "object_position": null,
            "order": null,
            "overflow": null,
            "overflow_x": null,
            "overflow_y": null,
            "padding": null,
            "right": null,
            "top": null,
            "visibility": null,
            "width": null
          }
        },
        "a354c5e604d648658c03ff44f8d7a4bc": {
          "model_module": "@jupyter-widgets/controls",
          "model_name": "DescriptionStyleModel",
          "model_module_version": "1.5.0",
          "state": {
            "_model_module": "@jupyter-widgets/controls",
            "_model_module_version": "1.5.0",
            "_model_name": "DescriptionStyleModel",
            "_view_count": null,
            "_view_module": "@jupyter-widgets/base",
            "_view_module_version": "1.2.0",
            "_view_name": "StyleView",
            "description_width": ""
          }
        },
        "5b53c9ddfea34968a204c4849d554248": {
          "model_module": "@jupyter-widgets/base",
          "model_name": "LayoutModel",
          "model_module_version": "1.2.0",
          "state": {
            "_model_module": "@jupyter-widgets/base",
            "_model_module_version": "1.2.0",
            "_model_name": "LayoutModel",
            "_view_count": null,
            "_view_module": "@jupyter-widgets/base",
            "_view_module_version": "1.2.0",
            "_view_name": "LayoutView",
            "align_content": null,
            "align_items": null,
            "align_self": null,
            "border": null,
            "bottom": null,
            "display": null,
            "flex": null,
            "flex_flow": null,
            "grid_area": null,
            "grid_auto_columns": null,
            "grid_auto_flow": null,
            "grid_auto_rows": null,
            "grid_column": null,
            "grid_gap": null,
            "grid_row": null,
            "grid_template_areas": null,
            "grid_template_columns": null,
            "grid_template_rows": null,
            "height": null,
            "justify_content": null,
            "justify_items": null,
            "left": null,
            "margin": null,
            "max_height": null,
            "max_width": null,
            "min_height": null,
            "min_width": null,
            "object_fit": null,
            "object_position": null,
            "order": null,
            "overflow": null,
            "overflow_x": null,
            "overflow_y": null,
            "padding": null,
            "right": null,
            "top": null,
            "visibility": null,
            "width": null
          }
        },
        "36848f2bbc624ed1a6b9c5ee3e744a9e": {
          "model_module": "@jupyter-widgets/controls",
          "model_name": "ProgressStyleModel",
          "model_module_version": "1.5.0",
          "state": {
            "_model_module": "@jupyter-widgets/controls",
            "_model_module_version": "1.5.0",
            "_model_name": "ProgressStyleModel",
            "_view_count": null,
            "_view_module": "@jupyter-widgets/base",
            "_view_module_version": "1.2.0",
            "_view_name": "StyleView",
            "bar_color": null,
            "description_width": ""
          }
        },
        "78ff76bad5174ffea5dfd2c74cc92e41": {
          "model_module": "@jupyter-widgets/base",
          "model_name": "LayoutModel",
          "model_module_version": "1.2.0",
          "state": {
            "_model_module": "@jupyter-widgets/base",
            "_model_module_version": "1.2.0",
            "_model_name": "LayoutModel",
            "_view_count": null,
            "_view_module": "@jupyter-widgets/base",
            "_view_module_version": "1.2.0",
            "_view_name": "LayoutView",
            "align_content": null,
            "align_items": null,
            "align_self": null,
            "border": null,
            "bottom": null,
            "display": null,
            "flex": null,
            "flex_flow": null,
            "grid_area": null,
            "grid_auto_columns": null,
            "grid_auto_flow": null,
            "grid_auto_rows": null,
            "grid_column": null,
            "grid_gap": null,
            "grid_row": null,
            "grid_template_areas": null,
            "grid_template_columns": null,
            "grid_template_rows": null,
            "height": null,
            "justify_content": null,
            "justify_items": null,
            "left": null,
            "margin": null,
            "max_height": null,
            "max_width": null,
            "min_height": null,
            "min_width": null,
            "object_fit": null,
            "object_position": null,
            "order": null,
            "overflow": null,
            "overflow_x": null,
            "overflow_y": null,
            "padding": null,
            "right": null,
            "top": null,
            "visibility": null,
            "width": null
          }
        },
        "7ab0011f2447494680dfb9051e5ea06d": {
          "model_module": "@jupyter-widgets/controls",
          "model_name": "DescriptionStyleModel",
          "model_module_version": "1.5.0",
          "state": {
            "_model_module": "@jupyter-widgets/controls",
            "_model_module_version": "1.5.0",
            "_model_name": "DescriptionStyleModel",
            "_view_count": null,
            "_view_module": "@jupyter-widgets/base",
            "_view_module_version": "1.2.0",
            "_view_name": "StyleView",
            "description_width": ""
          }
        },
        "578e30a8e7dc4b65a7f53a9ebc739234": {
          "model_module": "@jupyter-widgets/controls",
          "model_name": "HBoxModel",
          "model_module_version": "1.5.0",
          "state": {
            "_dom_classes": [],
            "_model_module": "@jupyter-widgets/controls",
            "_model_module_version": "1.5.0",
            "_model_name": "HBoxModel",
            "_view_count": null,
            "_view_module": "@jupyter-widgets/controls",
            "_view_module_version": "1.5.0",
            "_view_name": "HBoxView",
            "box_style": "",
            "children": [
              "IPY_MODEL_94cf8024c547453cb48bb15ae246b3f0",
              "IPY_MODEL_80a067ec66e94b6c8bf6f8cc89f221bb",
              "IPY_MODEL_0b3f206f8a894f7a8262f4e10bea7623"
            ],
            "layout": "IPY_MODEL_c5bc11c9968a4a16af47bbef1386fa3b"
          }
        },
        "94cf8024c547453cb48bb15ae246b3f0": {
          "model_module": "@jupyter-widgets/controls",
          "model_name": "HTMLModel",
          "model_module_version": "1.5.0",
          "state": {
            "_dom_classes": [],
            "_model_module": "@jupyter-widgets/controls",
            "_model_module_version": "1.5.0",
            "_model_name": "HTMLModel",
            "_view_count": null,
            "_view_module": "@jupyter-widgets/controls",
            "_view_module_version": "1.5.0",
            "_view_name": "HTMLView",
            "description": "",
            "description_tooltip": null,
            "layout": "IPY_MODEL_fc97f4f1da3948df85f30d85d07c3436",
            "placeholder": "​",
            "style": "IPY_MODEL_fd777d5831aa4a949b4b8c1cfb36a9b2",
            "value": "100%"
          }
        },
        "80a067ec66e94b6c8bf6f8cc89f221bb": {
          "model_module": "@jupyter-widgets/controls",
          "model_name": "FloatProgressModel",
          "model_module_version": "1.5.0",
          "state": {
            "_dom_classes": [],
            "_model_module": "@jupyter-widgets/controls",
            "_model_module_version": "1.5.0",
            "_model_name": "FloatProgressModel",
            "_view_count": null,
            "_view_module": "@jupyter-widgets/controls",
            "_view_module_version": "1.5.0",
            "_view_name": "ProgressView",
            "bar_style": "success",
            "description": "",
            "description_tooltip": null,
            "layout": "IPY_MODEL_012c5681dda244b8b983fd7b714e22af",
            "max": 20,
            "min": 0,
            "orientation": "horizontal",
            "style": "IPY_MODEL_6be8f430d9a148daa704791d69df1369",
            "value": 20
          }
        },
        "0b3f206f8a894f7a8262f4e10bea7623": {
          "model_module": "@jupyter-widgets/controls",
          "model_name": "HTMLModel",
          "model_module_version": "1.5.0",
          "state": {
            "_dom_classes": [],
            "_model_module": "@jupyter-widgets/controls",
            "_model_module_version": "1.5.0",
            "_model_name": "HTMLModel",
            "_view_count": null,
            "_view_module": "@jupyter-widgets/controls",
            "_view_module_version": "1.5.0",
            "_view_name": "HTMLView",
            "description": "",
            "description_tooltip": null,
            "layout": "IPY_MODEL_ef93bc2cca55434383bc687d201a7c87",
            "placeholder": "​",
            "style": "IPY_MODEL_75c9b3ea9272499ca929b791278860c5",
            "value": " 20/20 [11:06&lt;00:00, 33.34s/it]"
          }
        },
        "c5bc11c9968a4a16af47bbef1386fa3b": {
          "model_module": "@jupyter-widgets/base",
          "model_name": "LayoutModel",
          "model_module_version": "1.2.0",
          "state": {
            "_model_module": "@jupyter-widgets/base",
            "_model_module_version": "1.2.0",
            "_model_name": "LayoutModel",
            "_view_count": null,
            "_view_module": "@jupyter-widgets/base",
            "_view_module_version": "1.2.0",
            "_view_name": "LayoutView",
            "align_content": null,
            "align_items": null,
            "align_self": null,
            "border": null,
            "bottom": null,
            "display": null,
            "flex": null,
            "flex_flow": null,
            "grid_area": null,
            "grid_auto_columns": null,
            "grid_auto_flow": null,
            "grid_auto_rows": null,
            "grid_column": null,
            "grid_gap": null,
            "grid_row": null,
            "grid_template_areas": null,
            "grid_template_columns": null,
            "grid_template_rows": null,
            "height": null,
            "justify_content": null,
            "justify_items": null,
            "left": null,
            "margin": null,
            "max_height": null,
            "max_width": null,
            "min_height": null,
            "min_width": null,
            "object_fit": null,
            "object_position": null,
            "order": null,
            "overflow": null,
            "overflow_x": null,
            "overflow_y": null,
            "padding": null,
            "right": null,
            "top": null,
            "visibility": null,
            "width": null
          }
        },
        "fc97f4f1da3948df85f30d85d07c3436": {
          "model_module": "@jupyter-widgets/base",
          "model_name": "LayoutModel",
          "model_module_version": "1.2.0",
          "state": {
            "_model_module": "@jupyter-widgets/base",
            "_model_module_version": "1.2.0",
            "_model_name": "LayoutModel",
            "_view_count": null,
            "_view_module": "@jupyter-widgets/base",
            "_view_module_version": "1.2.0",
            "_view_name": "LayoutView",
            "align_content": null,
            "align_items": null,
            "align_self": null,
            "border": null,
            "bottom": null,
            "display": null,
            "flex": null,
            "flex_flow": null,
            "grid_area": null,
            "grid_auto_columns": null,
            "grid_auto_flow": null,
            "grid_auto_rows": null,
            "grid_column": null,
            "grid_gap": null,
            "grid_row": null,
            "grid_template_areas": null,
            "grid_template_columns": null,
            "grid_template_rows": null,
            "height": null,
            "justify_content": null,
            "justify_items": null,
            "left": null,
            "margin": null,
            "max_height": null,
            "max_width": null,
            "min_height": null,
            "min_width": null,
            "object_fit": null,
            "object_position": null,
            "order": null,
            "overflow": null,
            "overflow_x": null,
            "overflow_y": null,
            "padding": null,
            "right": null,
            "top": null,
            "visibility": null,
            "width": null
          }
        },
        "fd777d5831aa4a949b4b8c1cfb36a9b2": {
          "model_module": "@jupyter-widgets/controls",
          "model_name": "DescriptionStyleModel",
          "model_module_version": "1.5.0",
          "state": {
            "_model_module": "@jupyter-widgets/controls",
            "_model_module_version": "1.5.0",
            "_model_name": "DescriptionStyleModel",
            "_view_count": null,
            "_view_module": "@jupyter-widgets/base",
            "_view_module_version": "1.2.0",
            "_view_name": "StyleView",
            "description_width": ""
          }
        },
        "012c5681dda244b8b983fd7b714e22af": {
          "model_module": "@jupyter-widgets/base",
          "model_name": "LayoutModel",
          "model_module_version": "1.2.0",
          "state": {
            "_model_module": "@jupyter-widgets/base",
            "_model_module_version": "1.2.0",
            "_model_name": "LayoutModel",
            "_view_count": null,
            "_view_module": "@jupyter-widgets/base",
            "_view_module_version": "1.2.0",
            "_view_name": "LayoutView",
            "align_content": null,
            "align_items": null,
            "align_self": null,
            "border": null,
            "bottom": null,
            "display": null,
            "flex": null,
            "flex_flow": null,
            "grid_area": null,
            "grid_auto_columns": null,
            "grid_auto_flow": null,
            "grid_auto_rows": null,
            "grid_column": null,
            "grid_gap": null,
            "grid_row": null,
            "grid_template_areas": null,
            "grid_template_columns": null,
            "grid_template_rows": null,
            "height": null,
            "justify_content": null,
            "justify_items": null,
            "left": null,
            "margin": null,
            "max_height": null,
            "max_width": null,
            "min_height": null,
            "min_width": null,
            "object_fit": null,
            "object_position": null,
            "order": null,
            "overflow": null,
            "overflow_x": null,
            "overflow_y": null,
            "padding": null,
            "right": null,
            "top": null,
            "visibility": null,
            "width": null
          }
        },
        "6be8f430d9a148daa704791d69df1369": {
          "model_module": "@jupyter-widgets/controls",
          "model_name": "ProgressStyleModel",
          "model_module_version": "1.5.0",
          "state": {
            "_model_module": "@jupyter-widgets/controls",
            "_model_module_version": "1.5.0",
            "_model_name": "ProgressStyleModel",
            "_view_count": null,
            "_view_module": "@jupyter-widgets/base",
            "_view_module_version": "1.2.0",
            "_view_name": "StyleView",
            "bar_color": null,
            "description_width": ""
          }
        },
        "ef93bc2cca55434383bc687d201a7c87": {
          "model_module": "@jupyter-widgets/base",
          "model_name": "LayoutModel",
          "model_module_version": "1.2.0",
          "state": {
            "_model_module": "@jupyter-widgets/base",
            "_model_module_version": "1.2.0",
            "_model_name": "LayoutModel",
            "_view_count": null,
            "_view_module": "@jupyter-widgets/base",
            "_view_module_version": "1.2.0",
            "_view_name": "LayoutView",
            "align_content": null,
            "align_items": null,
            "align_self": null,
            "border": null,
            "bottom": null,
            "display": null,
            "flex": null,
            "flex_flow": null,
            "grid_area": null,
            "grid_auto_columns": null,
            "grid_auto_flow": null,
            "grid_auto_rows": null,
            "grid_column": null,
            "grid_gap": null,
            "grid_row": null,
            "grid_template_areas": null,
            "grid_template_columns": null,
            "grid_template_rows": null,
            "height": null,
            "justify_content": null,
            "justify_items": null,
            "left": null,
            "margin": null,
            "max_height": null,
            "max_width": null,
            "min_height": null,
            "min_width": null,
            "object_fit": null,
            "object_position": null,
            "order": null,
            "overflow": null,
            "overflow_x": null,
            "overflow_y": null,
            "padding": null,
            "right": null,
            "top": null,
            "visibility": null,
            "width": null
          }
        },
        "75c9b3ea9272499ca929b791278860c5": {
          "model_module": "@jupyter-widgets/controls",
          "model_name": "DescriptionStyleModel",
          "model_module_version": "1.5.0",
          "state": {
            "_model_module": "@jupyter-widgets/controls",
            "_model_module_version": "1.5.0",
            "_model_name": "DescriptionStyleModel",
            "_view_count": null,
            "_view_module": "@jupyter-widgets/base",
            "_view_module_version": "1.2.0",
            "_view_name": "StyleView",
            "description_width": ""
          }
        },
        "25f6ddbd71cc4e2f8cc612f9a144ff7f": {
          "model_module": "@jupyter-widgets/controls",
          "model_name": "HBoxModel",
          "model_module_version": "1.5.0",
          "state": {
            "_dom_classes": [],
            "_model_module": "@jupyter-widgets/controls",
            "_model_module_version": "1.5.0",
            "_model_name": "HBoxModel",
            "_view_count": null,
            "_view_module": "@jupyter-widgets/controls",
            "_view_module_version": "1.5.0",
            "_view_name": "HBoxView",
            "box_style": "",
            "children": [
              "IPY_MODEL_7283f732aa0b4638ae5d033e84bba60d",
              "IPY_MODEL_fae51092d1644723851a0f560aff0f2b",
              "IPY_MODEL_958f3257bf064ea698f1c76e5a467ae1"
            ],
            "layout": "IPY_MODEL_a9bf3496fca049509bbea2a064f35e94"
          }
        },
        "7283f732aa0b4638ae5d033e84bba60d": {
          "model_module": "@jupyter-widgets/controls",
          "model_name": "HTMLModel",
          "model_module_version": "1.5.0",
          "state": {
            "_dom_classes": [],
            "_model_module": "@jupyter-widgets/controls",
            "_model_module_version": "1.5.0",
            "_model_name": "HTMLModel",
            "_view_count": null,
            "_view_module": "@jupyter-widgets/controls",
            "_view_module_version": "1.5.0",
            "_view_name": "HTMLView",
            "description": "",
            "description_tooltip": null,
            "layout": "IPY_MODEL_38fbc9e7c1a1439ba7bfaa76319563e9",
            "placeholder": "​",
            "style": "IPY_MODEL_67733b6a7a15426ea72e5f09bbe1ec88",
            "value": "100%"
          }
        },
        "fae51092d1644723851a0f560aff0f2b": {
          "model_module": "@jupyter-widgets/controls",
          "model_name": "FloatProgressModel",
          "model_module_version": "1.5.0",
          "state": {
            "_dom_classes": [],
            "_model_module": "@jupyter-widgets/controls",
            "_model_module_version": "1.5.0",
            "_model_name": "FloatProgressModel",
            "_view_count": null,
            "_view_module": "@jupyter-widgets/controls",
            "_view_module_version": "1.5.0",
            "_view_name": "ProgressView",
            "bar_style": "success",
            "description": "",
            "description_tooltip": null,
            "layout": "IPY_MODEL_73d6b583f7ee4c048edc113ff23ef0bb",
            "max": 30,
            "min": 0,
            "orientation": "horizontal",
            "style": "IPY_MODEL_96a0d2c7de8247fcaf27a82925680d72",
            "value": 30
          }
        },
        "958f3257bf064ea698f1c76e5a467ae1": {
          "model_module": "@jupyter-widgets/controls",
          "model_name": "HTMLModel",
          "model_module_version": "1.5.0",
          "state": {
            "_dom_classes": [],
            "_model_module": "@jupyter-widgets/controls",
            "_model_module_version": "1.5.0",
            "_model_name": "HTMLModel",
            "_view_count": null,
            "_view_module": "@jupyter-widgets/controls",
            "_view_module_version": "1.5.0",
            "_view_name": "HTMLView",
            "description": "",
            "description_tooltip": null,
            "layout": "IPY_MODEL_d1f947103d81445cbb6d511d3d224c9d",
            "placeholder": "​",
            "style": "IPY_MODEL_3b0f9f68757f47c79103d24bdbebba07",
            "value": " 30/30 [09:31&lt;00:00, 18.12s/it]"
          }
        },
        "a9bf3496fca049509bbea2a064f35e94": {
          "model_module": "@jupyter-widgets/base",
          "model_name": "LayoutModel",
          "model_module_version": "1.2.0",
          "state": {
            "_model_module": "@jupyter-widgets/base",
            "_model_module_version": "1.2.0",
            "_model_name": "LayoutModel",
            "_view_count": null,
            "_view_module": "@jupyter-widgets/base",
            "_view_module_version": "1.2.0",
            "_view_name": "LayoutView",
            "align_content": null,
            "align_items": null,
            "align_self": null,
            "border": null,
            "bottom": null,
            "display": null,
            "flex": null,
            "flex_flow": null,
            "grid_area": null,
            "grid_auto_columns": null,
            "grid_auto_flow": null,
            "grid_auto_rows": null,
            "grid_column": null,
            "grid_gap": null,
            "grid_row": null,
            "grid_template_areas": null,
            "grid_template_columns": null,
            "grid_template_rows": null,
            "height": null,
            "justify_content": null,
            "justify_items": null,
            "left": null,
            "margin": null,
            "max_height": null,
            "max_width": null,
            "min_height": null,
            "min_width": null,
            "object_fit": null,
            "object_position": null,
            "order": null,
            "overflow": null,
            "overflow_x": null,
            "overflow_y": null,
            "padding": null,
            "right": null,
            "top": null,
            "visibility": null,
            "width": null
          }
        },
        "38fbc9e7c1a1439ba7bfaa76319563e9": {
          "model_module": "@jupyter-widgets/base",
          "model_name": "LayoutModel",
          "model_module_version": "1.2.0",
          "state": {
            "_model_module": "@jupyter-widgets/base",
            "_model_module_version": "1.2.0",
            "_model_name": "LayoutModel",
            "_view_count": null,
            "_view_module": "@jupyter-widgets/base",
            "_view_module_version": "1.2.0",
            "_view_name": "LayoutView",
            "align_content": null,
            "align_items": null,
            "align_self": null,
            "border": null,
            "bottom": null,
            "display": null,
            "flex": null,
            "flex_flow": null,
            "grid_area": null,
            "grid_auto_columns": null,
            "grid_auto_flow": null,
            "grid_auto_rows": null,
            "grid_column": null,
            "grid_gap": null,
            "grid_row": null,
            "grid_template_areas": null,
            "grid_template_columns": null,
            "grid_template_rows": null,
            "height": null,
            "justify_content": null,
            "justify_items": null,
            "left": null,
            "margin": null,
            "max_height": null,
            "max_width": null,
            "min_height": null,
            "min_width": null,
            "object_fit": null,
            "object_position": null,
            "order": null,
            "overflow": null,
            "overflow_x": null,
            "overflow_y": null,
            "padding": null,
            "right": null,
            "top": null,
            "visibility": null,
            "width": null
          }
        },
        "67733b6a7a15426ea72e5f09bbe1ec88": {
          "model_module": "@jupyter-widgets/controls",
          "model_name": "DescriptionStyleModel",
          "model_module_version": "1.5.0",
          "state": {
            "_model_module": "@jupyter-widgets/controls",
            "_model_module_version": "1.5.0",
            "_model_name": "DescriptionStyleModel",
            "_view_count": null,
            "_view_module": "@jupyter-widgets/base",
            "_view_module_version": "1.2.0",
            "_view_name": "StyleView",
            "description_width": ""
          }
        },
        "73d6b583f7ee4c048edc113ff23ef0bb": {
          "model_module": "@jupyter-widgets/base",
          "model_name": "LayoutModel",
          "model_module_version": "1.2.0",
          "state": {
            "_model_module": "@jupyter-widgets/base",
            "_model_module_version": "1.2.0",
            "_model_name": "LayoutModel",
            "_view_count": null,
            "_view_module": "@jupyter-widgets/base",
            "_view_module_version": "1.2.0",
            "_view_name": "LayoutView",
            "align_content": null,
            "align_items": null,
            "align_self": null,
            "border": null,
            "bottom": null,
            "display": null,
            "flex": null,
            "flex_flow": null,
            "grid_area": null,
            "grid_auto_columns": null,
            "grid_auto_flow": null,
            "grid_auto_rows": null,
            "grid_column": null,
            "grid_gap": null,
            "grid_row": null,
            "grid_template_areas": null,
            "grid_template_columns": null,
            "grid_template_rows": null,
            "height": null,
            "justify_content": null,
            "justify_items": null,
            "left": null,
            "margin": null,
            "max_height": null,
            "max_width": null,
            "min_height": null,
            "min_width": null,
            "object_fit": null,
            "object_position": null,
            "order": null,
            "overflow": null,
            "overflow_x": null,
            "overflow_y": null,
            "padding": null,
            "right": null,
            "top": null,
            "visibility": null,
            "width": null
          }
        },
        "96a0d2c7de8247fcaf27a82925680d72": {
          "model_module": "@jupyter-widgets/controls",
          "model_name": "ProgressStyleModel",
          "model_module_version": "1.5.0",
          "state": {
            "_model_module": "@jupyter-widgets/controls",
            "_model_module_version": "1.5.0",
            "_model_name": "ProgressStyleModel",
            "_view_count": null,
            "_view_module": "@jupyter-widgets/base",
            "_view_module_version": "1.2.0",
            "_view_name": "StyleView",
            "bar_color": null,
            "description_width": ""
          }
        },
        "d1f947103d81445cbb6d511d3d224c9d": {
          "model_module": "@jupyter-widgets/base",
          "model_name": "LayoutModel",
          "model_module_version": "1.2.0",
          "state": {
            "_model_module": "@jupyter-widgets/base",
            "_model_module_version": "1.2.0",
            "_model_name": "LayoutModel",
            "_view_count": null,
            "_view_module": "@jupyter-widgets/base",
            "_view_module_version": "1.2.0",
            "_view_name": "LayoutView",
            "align_content": null,
            "align_items": null,
            "align_self": null,
            "border": null,
            "bottom": null,
            "display": null,
            "flex": null,
            "flex_flow": null,
            "grid_area": null,
            "grid_auto_columns": null,
            "grid_auto_flow": null,
            "grid_auto_rows": null,
            "grid_column": null,
            "grid_gap": null,
            "grid_row": null,
            "grid_template_areas": null,
            "grid_template_columns": null,
            "grid_template_rows": null,
            "height": null,
            "justify_content": null,
            "justify_items": null,
            "left": null,
            "margin": null,
            "max_height": null,
            "max_width": null,
            "min_height": null,
            "min_width": null,
            "object_fit": null,
            "object_position": null,
            "order": null,
            "overflow": null,
            "overflow_x": null,
            "overflow_y": null,
            "padding": null,
            "right": null,
            "top": null,
            "visibility": null,
            "width": null
          }
        },
        "3b0f9f68757f47c79103d24bdbebba07": {
          "model_module": "@jupyter-widgets/controls",
          "model_name": "DescriptionStyleModel",
          "model_module_version": "1.5.0",
          "state": {
            "_model_module": "@jupyter-widgets/controls",
            "_model_module_version": "1.5.0",
            "_model_name": "DescriptionStyleModel",
            "_view_count": null,
            "_view_module": "@jupyter-widgets/base",
            "_view_module_version": "1.2.0",
            "_view_name": "StyleView",
            "description_width": ""
          }
        },
        "7a4b84ac3e714d25a7db252f30b8de35": {
          "model_module": "@jupyter-widgets/controls",
          "model_name": "HBoxModel",
          "model_module_version": "1.5.0",
          "state": {
            "_dom_classes": [],
            "_model_module": "@jupyter-widgets/controls",
            "_model_module_version": "1.5.0",
            "_model_name": "HBoxModel",
            "_view_count": null,
            "_view_module": "@jupyter-widgets/controls",
            "_view_module_version": "1.5.0",
            "_view_name": "HBoxView",
            "box_style": "",
            "children": [
              "IPY_MODEL_25ba4d0f4e544f0ea5df858d27fe883b",
              "IPY_MODEL_f225e28b551d4ccd997b2ba8e7178cdd",
              "IPY_MODEL_f6e2adf2daf543eea760af0454977eaa"
            ],
            "layout": "IPY_MODEL_2829c6693635499d9852087b3bade7db"
          }
        },
        "25ba4d0f4e544f0ea5df858d27fe883b": {
          "model_module": "@jupyter-widgets/controls",
          "model_name": "HTMLModel",
          "model_module_version": "1.5.0",
          "state": {
            "_dom_classes": [],
            "_model_module": "@jupyter-widgets/controls",
            "_model_module_version": "1.5.0",
            "_model_name": "HTMLModel",
            "_view_count": null,
            "_view_module": "@jupyter-widgets/controls",
            "_view_module_version": "1.5.0",
            "_view_name": "HTMLView",
            "description": "",
            "description_tooltip": null,
            "layout": "IPY_MODEL_68a80b5f81094527b3c119a2f2e7707d",
            "placeholder": "​",
            "style": "IPY_MODEL_aa4bd7750fa641b38d51c59e18fa00d0",
            "value": "100%"
          }
        },
        "f225e28b551d4ccd997b2ba8e7178cdd": {
          "model_module": "@jupyter-widgets/controls",
          "model_name": "FloatProgressModel",
          "model_module_version": "1.5.0",
          "state": {
            "_dom_classes": [],
            "_model_module": "@jupyter-widgets/controls",
            "_model_module_version": "1.5.0",
            "_model_name": "FloatProgressModel",
            "_view_count": null,
            "_view_module": "@jupyter-widgets/controls",
            "_view_module_version": "1.5.0",
            "_view_name": "ProgressView",
            "bar_style": "success",
            "description": "",
            "description_tooltip": null,
            "layout": "IPY_MODEL_0f060979d26d41cba824e039683d45d5",
            "max": 20,
            "min": 0,
            "orientation": "horizontal",
            "style": "IPY_MODEL_33869a55e8434d9197631ff7d01d4f5f",
            "value": 20
          }
        },
        "f6e2adf2daf543eea760af0454977eaa": {
          "model_module": "@jupyter-widgets/controls",
          "model_name": "HTMLModel",
          "model_module_version": "1.5.0",
          "state": {
            "_dom_classes": [],
            "_model_module": "@jupyter-widgets/controls",
            "_model_module_version": "1.5.0",
            "_model_name": "HTMLModel",
            "_view_count": null,
            "_view_module": "@jupyter-widgets/controls",
            "_view_module_version": "1.5.0",
            "_view_name": "HTMLView",
            "description": "",
            "description_tooltip": null,
            "layout": "IPY_MODEL_fc03070dee254fa8a1a65e7b00ec83ef",
            "placeholder": "​",
            "style": "IPY_MODEL_d8350ec962fc4993a6f9c4cb96d0e77d",
            "value": " 20/20 [11:17&lt;00:00, 33.87s/it]"
          }
        },
        "2829c6693635499d9852087b3bade7db": {
          "model_module": "@jupyter-widgets/base",
          "model_name": "LayoutModel",
          "model_module_version": "1.2.0",
          "state": {
            "_model_module": "@jupyter-widgets/base",
            "_model_module_version": "1.2.0",
            "_model_name": "LayoutModel",
            "_view_count": null,
            "_view_module": "@jupyter-widgets/base",
            "_view_module_version": "1.2.0",
            "_view_name": "LayoutView",
            "align_content": null,
            "align_items": null,
            "align_self": null,
            "border": null,
            "bottom": null,
            "display": null,
            "flex": null,
            "flex_flow": null,
            "grid_area": null,
            "grid_auto_columns": null,
            "grid_auto_flow": null,
            "grid_auto_rows": null,
            "grid_column": null,
            "grid_gap": null,
            "grid_row": null,
            "grid_template_areas": null,
            "grid_template_columns": null,
            "grid_template_rows": null,
            "height": null,
            "justify_content": null,
            "justify_items": null,
            "left": null,
            "margin": null,
            "max_height": null,
            "max_width": null,
            "min_height": null,
            "min_width": null,
            "object_fit": null,
            "object_position": null,
            "order": null,
            "overflow": null,
            "overflow_x": null,
            "overflow_y": null,
            "padding": null,
            "right": null,
            "top": null,
            "visibility": null,
            "width": null
          }
        },
        "68a80b5f81094527b3c119a2f2e7707d": {
          "model_module": "@jupyter-widgets/base",
          "model_name": "LayoutModel",
          "model_module_version": "1.2.0",
          "state": {
            "_model_module": "@jupyter-widgets/base",
            "_model_module_version": "1.2.0",
            "_model_name": "LayoutModel",
            "_view_count": null,
            "_view_module": "@jupyter-widgets/base",
            "_view_module_version": "1.2.0",
            "_view_name": "LayoutView",
            "align_content": null,
            "align_items": null,
            "align_self": null,
            "border": null,
            "bottom": null,
            "display": null,
            "flex": null,
            "flex_flow": null,
            "grid_area": null,
            "grid_auto_columns": null,
            "grid_auto_flow": null,
            "grid_auto_rows": null,
            "grid_column": null,
            "grid_gap": null,
            "grid_row": null,
            "grid_template_areas": null,
            "grid_template_columns": null,
            "grid_template_rows": null,
            "height": null,
            "justify_content": null,
            "justify_items": null,
            "left": null,
            "margin": null,
            "max_height": null,
            "max_width": null,
            "min_height": null,
            "min_width": null,
            "object_fit": null,
            "object_position": null,
            "order": null,
            "overflow": null,
            "overflow_x": null,
            "overflow_y": null,
            "padding": null,
            "right": null,
            "top": null,
            "visibility": null,
            "width": null
          }
        },
        "aa4bd7750fa641b38d51c59e18fa00d0": {
          "model_module": "@jupyter-widgets/controls",
          "model_name": "DescriptionStyleModel",
          "model_module_version": "1.5.0",
          "state": {
            "_model_module": "@jupyter-widgets/controls",
            "_model_module_version": "1.5.0",
            "_model_name": "DescriptionStyleModel",
            "_view_count": null,
            "_view_module": "@jupyter-widgets/base",
            "_view_module_version": "1.2.0",
            "_view_name": "StyleView",
            "description_width": ""
          }
        },
        "0f060979d26d41cba824e039683d45d5": {
          "model_module": "@jupyter-widgets/base",
          "model_name": "LayoutModel",
          "model_module_version": "1.2.0",
          "state": {
            "_model_module": "@jupyter-widgets/base",
            "_model_module_version": "1.2.0",
            "_model_name": "LayoutModel",
            "_view_count": null,
            "_view_module": "@jupyter-widgets/base",
            "_view_module_version": "1.2.0",
            "_view_name": "LayoutView",
            "align_content": null,
            "align_items": null,
            "align_self": null,
            "border": null,
            "bottom": null,
            "display": null,
            "flex": null,
            "flex_flow": null,
            "grid_area": null,
            "grid_auto_columns": null,
            "grid_auto_flow": null,
            "grid_auto_rows": null,
            "grid_column": null,
            "grid_gap": null,
            "grid_row": null,
            "grid_template_areas": null,
            "grid_template_columns": null,
            "grid_template_rows": null,
            "height": null,
            "justify_content": null,
            "justify_items": null,
            "left": null,
            "margin": null,
            "max_height": null,
            "max_width": null,
            "min_height": null,
            "min_width": null,
            "object_fit": null,
            "object_position": null,
            "order": null,
            "overflow": null,
            "overflow_x": null,
            "overflow_y": null,
            "padding": null,
            "right": null,
            "top": null,
            "visibility": null,
            "width": null
          }
        },
        "33869a55e8434d9197631ff7d01d4f5f": {
          "model_module": "@jupyter-widgets/controls",
          "model_name": "ProgressStyleModel",
          "model_module_version": "1.5.0",
          "state": {
            "_model_module": "@jupyter-widgets/controls",
            "_model_module_version": "1.5.0",
            "_model_name": "ProgressStyleModel",
            "_view_count": null,
            "_view_module": "@jupyter-widgets/base",
            "_view_module_version": "1.2.0",
            "_view_name": "StyleView",
            "bar_color": null,
            "description_width": ""
          }
        },
        "fc03070dee254fa8a1a65e7b00ec83ef": {
          "model_module": "@jupyter-widgets/base",
          "model_name": "LayoutModel",
          "model_module_version": "1.2.0",
          "state": {
            "_model_module": "@jupyter-widgets/base",
            "_model_module_version": "1.2.0",
            "_model_name": "LayoutModel",
            "_view_count": null,
            "_view_module": "@jupyter-widgets/base",
            "_view_module_version": "1.2.0",
            "_view_name": "LayoutView",
            "align_content": null,
            "align_items": null,
            "align_self": null,
            "border": null,
            "bottom": null,
            "display": null,
            "flex": null,
            "flex_flow": null,
            "grid_area": null,
            "grid_auto_columns": null,
            "grid_auto_flow": null,
            "grid_auto_rows": null,
            "grid_column": null,
            "grid_gap": null,
            "grid_row": null,
            "grid_template_areas": null,
            "grid_template_columns": null,
            "grid_template_rows": null,
            "height": null,
            "justify_content": null,
            "justify_items": null,
            "left": null,
            "margin": null,
            "max_height": null,
            "max_width": null,
            "min_height": null,
            "min_width": null,
            "object_fit": null,
            "object_position": null,
            "order": null,
            "overflow": null,
            "overflow_x": null,
            "overflow_y": null,
            "padding": null,
            "right": null,
            "top": null,
            "visibility": null,
            "width": null
          }
        },
        "d8350ec962fc4993a6f9c4cb96d0e77d": {
          "model_module": "@jupyter-widgets/controls",
          "model_name": "DescriptionStyleModel",
          "model_module_version": "1.5.0",
          "state": {
            "_model_module": "@jupyter-widgets/controls",
            "_model_module_version": "1.5.0",
            "_model_name": "DescriptionStyleModel",
            "_view_count": null,
            "_view_module": "@jupyter-widgets/base",
            "_view_module_version": "1.2.0",
            "_view_name": "StyleView",
            "description_width": ""
          }
        },
        "815ca8655895420daf78f39e9821f6d9": {
          "model_module": "@jupyter-widgets/controls",
          "model_name": "HBoxModel",
          "model_module_version": "1.5.0",
          "state": {
            "_dom_classes": [],
            "_model_module": "@jupyter-widgets/controls",
            "_model_module_version": "1.5.0",
            "_model_name": "HBoxModel",
            "_view_count": null,
            "_view_module": "@jupyter-widgets/controls",
            "_view_module_version": "1.5.0",
            "_view_name": "HBoxView",
            "box_style": "",
            "children": [
              "IPY_MODEL_35f5665915f0466392859d7acda45722",
              "IPY_MODEL_29e28de3d5f84ab1b82e22acd7a9faeb",
              "IPY_MODEL_7b3c0034d5ec4400be0049f62bbedcd2"
            ],
            "layout": "IPY_MODEL_d5498f9cce294acfb5a63be072cb80b1"
          }
        },
        "35f5665915f0466392859d7acda45722": {
          "model_module": "@jupyter-widgets/controls",
          "model_name": "HTMLModel",
          "model_module_version": "1.5.0",
          "state": {
            "_dom_classes": [],
            "_model_module": "@jupyter-widgets/controls",
            "_model_module_version": "1.5.0",
            "_model_name": "HTMLModel",
            "_view_count": null,
            "_view_module": "@jupyter-widgets/controls",
            "_view_module_version": "1.5.0",
            "_view_name": "HTMLView",
            "description": "",
            "description_tooltip": null,
            "layout": "IPY_MODEL_606a0aaa33c146068dec6ee325abe43e",
            "placeholder": "​",
            "style": "IPY_MODEL_391d07fa15dd428c85f5f585a4483a44",
            "value": "100%"
          }
        },
        "29e28de3d5f84ab1b82e22acd7a9faeb": {
          "model_module": "@jupyter-widgets/controls",
          "model_name": "FloatProgressModel",
          "model_module_version": "1.5.0",
          "state": {
            "_dom_classes": [],
            "_model_module": "@jupyter-widgets/controls",
            "_model_module_version": "1.5.0",
            "_model_name": "FloatProgressModel",
            "_view_count": null,
            "_view_module": "@jupyter-widgets/controls",
            "_view_module_version": "1.5.0",
            "_view_name": "ProgressView",
            "bar_style": "success",
            "description": "",
            "description_tooltip": null,
            "layout": "IPY_MODEL_4e6b55ccac3a4e21883fc3d8b7caf0bf",
            "max": 3,
            "min": 0,
            "orientation": "horizontal",
            "style": "IPY_MODEL_76c1f6bf7ce94645aae6be5019b919da",
            "value": 3
          }
        },
        "7b3c0034d5ec4400be0049f62bbedcd2": {
          "model_module": "@jupyter-widgets/controls",
          "model_name": "HTMLModel",
          "model_module_version": "1.5.0",
          "state": {
            "_dom_classes": [],
            "_model_module": "@jupyter-widgets/controls",
            "_model_module_version": "1.5.0",
            "_model_name": "HTMLModel",
            "_view_count": null,
            "_view_module": "@jupyter-widgets/controls",
            "_view_module_version": "1.5.0",
            "_view_name": "HTMLView",
            "description": "",
            "description_tooltip": null,
            "layout": "IPY_MODEL_94dab8dd03a44c85a67ac74faead0aef",
            "placeholder": "​",
            "style": "IPY_MODEL_f8872c5f7f7145a4a8b49254dd74c511",
            "value": " 3/3 [00:19&lt;00:00,  6.64s/it]"
          }
        },
        "d5498f9cce294acfb5a63be072cb80b1": {
          "model_module": "@jupyter-widgets/base",
          "model_name": "LayoutModel",
          "model_module_version": "1.2.0",
          "state": {
            "_model_module": "@jupyter-widgets/base",
            "_model_module_version": "1.2.0",
            "_model_name": "LayoutModel",
            "_view_count": null,
            "_view_module": "@jupyter-widgets/base",
            "_view_module_version": "1.2.0",
            "_view_name": "LayoutView",
            "align_content": null,
            "align_items": null,
            "align_self": null,
            "border": null,
            "bottom": null,
            "display": null,
            "flex": null,
            "flex_flow": null,
            "grid_area": null,
            "grid_auto_columns": null,
            "grid_auto_flow": null,
            "grid_auto_rows": null,
            "grid_column": null,
            "grid_gap": null,
            "grid_row": null,
            "grid_template_areas": null,
            "grid_template_columns": null,
            "grid_template_rows": null,
            "height": null,
            "justify_content": null,
            "justify_items": null,
            "left": null,
            "margin": null,
            "max_height": null,
            "max_width": null,
            "min_height": null,
            "min_width": null,
            "object_fit": null,
            "object_position": null,
            "order": null,
            "overflow": null,
            "overflow_x": null,
            "overflow_y": null,
            "padding": null,
            "right": null,
            "top": null,
            "visibility": null,
            "width": null
          }
        },
        "606a0aaa33c146068dec6ee325abe43e": {
          "model_module": "@jupyter-widgets/base",
          "model_name": "LayoutModel",
          "model_module_version": "1.2.0",
          "state": {
            "_model_module": "@jupyter-widgets/base",
            "_model_module_version": "1.2.0",
            "_model_name": "LayoutModel",
            "_view_count": null,
            "_view_module": "@jupyter-widgets/base",
            "_view_module_version": "1.2.0",
            "_view_name": "LayoutView",
            "align_content": null,
            "align_items": null,
            "align_self": null,
            "border": null,
            "bottom": null,
            "display": null,
            "flex": null,
            "flex_flow": null,
            "grid_area": null,
            "grid_auto_columns": null,
            "grid_auto_flow": null,
            "grid_auto_rows": null,
            "grid_column": null,
            "grid_gap": null,
            "grid_row": null,
            "grid_template_areas": null,
            "grid_template_columns": null,
            "grid_template_rows": null,
            "height": null,
            "justify_content": null,
            "justify_items": null,
            "left": null,
            "margin": null,
            "max_height": null,
            "max_width": null,
            "min_height": null,
            "min_width": null,
            "object_fit": null,
            "object_position": null,
            "order": null,
            "overflow": null,
            "overflow_x": null,
            "overflow_y": null,
            "padding": null,
            "right": null,
            "top": null,
            "visibility": null,
            "width": null
          }
        },
        "391d07fa15dd428c85f5f585a4483a44": {
          "model_module": "@jupyter-widgets/controls",
          "model_name": "DescriptionStyleModel",
          "model_module_version": "1.5.0",
          "state": {
            "_model_module": "@jupyter-widgets/controls",
            "_model_module_version": "1.5.0",
            "_model_name": "DescriptionStyleModel",
            "_view_count": null,
            "_view_module": "@jupyter-widgets/base",
            "_view_module_version": "1.2.0",
            "_view_name": "StyleView",
            "description_width": ""
          }
        },
        "4e6b55ccac3a4e21883fc3d8b7caf0bf": {
          "model_module": "@jupyter-widgets/base",
          "model_name": "LayoutModel",
          "model_module_version": "1.2.0",
          "state": {
            "_model_module": "@jupyter-widgets/base",
            "_model_module_version": "1.2.0",
            "_model_name": "LayoutModel",
            "_view_count": null,
            "_view_module": "@jupyter-widgets/base",
            "_view_module_version": "1.2.0",
            "_view_name": "LayoutView",
            "align_content": null,
            "align_items": null,
            "align_self": null,
            "border": null,
            "bottom": null,
            "display": null,
            "flex": null,
            "flex_flow": null,
            "grid_area": null,
            "grid_auto_columns": null,
            "grid_auto_flow": null,
            "grid_auto_rows": null,
            "grid_column": null,
            "grid_gap": null,
            "grid_row": null,
            "grid_template_areas": null,
            "grid_template_columns": null,
            "grid_template_rows": null,
            "height": null,
            "justify_content": null,
            "justify_items": null,
            "left": null,
            "margin": null,
            "max_height": null,
            "max_width": null,
            "min_height": null,
            "min_width": null,
            "object_fit": null,
            "object_position": null,
            "order": null,
            "overflow": null,
            "overflow_x": null,
            "overflow_y": null,
            "padding": null,
            "right": null,
            "top": null,
            "visibility": null,
            "width": null
          }
        },
        "76c1f6bf7ce94645aae6be5019b919da": {
          "model_module": "@jupyter-widgets/controls",
          "model_name": "ProgressStyleModel",
          "model_module_version": "1.5.0",
          "state": {
            "_model_module": "@jupyter-widgets/controls",
            "_model_module_version": "1.5.0",
            "_model_name": "ProgressStyleModel",
            "_view_count": null,
            "_view_module": "@jupyter-widgets/base",
            "_view_module_version": "1.2.0",
            "_view_name": "StyleView",
            "bar_color": null,
            "description_width": ""
          }
        },
        "94dab8dd03a44c85a67ac74faead0aef": {
          "model_module": "@jupyter-widgets/base",
          "model_name": "LayoutModel",
          "model_module_version": "1.2.0",
          "state": {
            "_model_module": "@jupyter-widgets/base",
            "_model_module_version": "1.2.0",
            "_model_name": "LayoutModel",
            "_view_count": null,
            "_view_module": "@jupyter-widgets/base",
            "_view_module_version": "1.2.0",
            "_view_name": "LayoutView",
            "align_content": null,
            "align_items": null,
            "align_self": null,
            "border": null,
            "bottom": null,
            "display": null,
            "flex": null,
            "flex_flow": null,
            "grid_area": null,
            "grid_auto_columns": null,
            "grid_auto_flow": null,
            "grid_auto_rows": null,
            "grid_column": null,
            "grid_gap": null,
            "grid_row": null,
            "grid_template_areas": null,
            "grid_template_columns": null,
            "grid_template_rows": null,
            "height": null,
            "justify_content": null,
            "justify_items": null,
            "left": null,
            "margin": null,
            "max_height": null,
            "max_width": null,
            "min_height": null,
            "min_width": null,
            "object_fit": null,
            "object_position": null,
            "order": null,
            "overflow": null,
            "overflow_x": null,
            "overflow_y": null,
            "padding": null,
            "right": null,
            "top": null,
            "visibility": null,
            "width": null
          }
        },
        "f8872c5f7f7145a4a8b49254dd74c511": {
          "model_module": "@jupyter-widgets/controls",
          "model_name": "DescriptionStyleModel",
          "model_module_version": "1.5.0",
          "state": {
            "_model_module": "@jupyter-widgets/controls",
            "_model_module_version": "1.5.0",
            "_model_name": "DescriptionStyleModel",
            "_view_count": null,
            "_view_module": "@jupyter-widgets/base",
            "_view_module_version": "1.2.0",
            "_view_name": "StyleView",
            "description_width": ""
          }
        },
        "b801dd2aefcb429690ff4447e61f636f": {
          "model_module": "@jupyter-widgets/controls",
          "model_name": "HBoxModel",
          "model_module_version": "1.5.0",
          "state": {
            "_dom_classes": [],
            "_model_module": "@jupyter-widgets/controls",
            "_model_module_version": "1.5.0",
            "_model_name": "HBoxModel",
            "_view_count": null,
            "_view_module": "@jupyter-widgets/controls",
            "_view_module_version": "1.5.0",
            "_view_name": "HBoxView",
            "box_style": "",
            "children": [
              "IPY_MODEL_fe4f10d0b65545798f4c8d1971818c8b",
              "IPY_MODEL_c52fc142fa384c598d960ae4a2a36bfc",
              "IPY_MODEL_9af530828c3d4f97bb8ebf33b37b69c9"
            ],
            "layout": "IPY_MODEL_c0dcfff7fa034f0398ea99b2cf9cc33b"
          }
        },
        "fe4f10d0b65545798f4c8d1971818c8b": {
          "model_module": "@jupyter-widgets/controls",
          "model_name": "HTMLModel",
          "model_module_version": "1.5.0",
          "state": {
            "_dom_classes": [],
            "_model_module": "@jupyter-widgets/controls",
            "_model_module_version": "1.5.0",
            "_model_name": "HTMLModel",
            "_view_count": null,
            "_view_module": "@jupyter-widgets/controls",
            "_view_module_version": "1.5.0",
            "_view_name": "HTMLView",
            "description": "",
            "description_tooltip": null,
            "layout": "IPY_MODEL_bb69948d0da348d1a9d66534f75a45c7",
            "placeholder": "​",
            "style": "IPY_MODEL_0ce774817b6f43d899821638828b69e4",
            "value": "100%"
          }
        },
        "c52fc142fa384c598d960ae4a2a36bfc": {
          "model_module": "@jupyter-widgets/controls",
          "model_name": "FloatProgressModel",
          "model_module_version": "1.5.0",
          "state": {
            "_dom_classes": [],
            "_model_module": "@jupyter-widgets/controls",
            "_model_module_version": "1.5.0",
            "_model_name": "FloatProgressModel",
            "_view_count": null,
            "_view_module": "@jupyter-widgets/controls",
            "_view_module_version": "1.5.0",
            "_view_name": "ProgressView",
            "bar_style": "success",
            "description": "",
            "description_tooltip": null,
            "layout": "IPY_MODEL_7f8f971d0ded45a5a3e9e73fd6b0010b",
            "max": 3,
            "min": 0,
            "orientation": "horizontal",
            "style": "IPY_MODEL_0161c2eabc934c7398b5995da5ab5e5b",
            "value": 3
          }
        },
        "9af530828c3d4f97bb8ebf33b37b69c9": {
          "model_module": "@jupyter-widgets/controls",
          "model_name": "HTMLModel",
          "model_module_version": "1.5.0",
          "state": {
            "_dom_classes": [],
            "_model_module": "@jupyter-widgets/controls",
            "_model_module_version": "1.5.0",
            "_model_name": "HTMLModel",
            "_view_count": null,
            "_view_module": "@jupyter-widgets/controls",
            "_view_module_version": "1.5.0",
            "_view_name": "HTMLView",
            "description": "",
            "description_tooltip": null,
            "layout": "IPY_MODEL_75c0070f6f02429eb14996b893b63d9e",
            "placeholder": "​",
            "style": "IPY_MODEL_93d727c4a6d54d6895b145b78a34c310",
            "value": " 3/3 [00:42&lt;00:00, 14.00s/it]"
          }
        },
        "c0dcfff7fa034f0398ea99b2cf9cc33b": {
          "model_module": "@jupyter-widgets/base",
          "model_name": "LayoutModel",
          "model_module_version": "1.2.0",
          "state": {
            "_model_module": "@jupyter-widgets/base",
            "_model_module_version": "1.2.0",
            "_model_name": "LayoutModel",
            "_view_count": null,
            "_view_module": "@jupyter-widgets/base",
            "_view_module_version": "1.2.0",
            "_view_name": "LayoutView",
            "align_content": null,
            "align_items": null,
            "align_self": null,
            "border": null,
            "bottom": null,
            "display": null,
            "flex": null,
            "flex_flow": null,
            "grid_area": null,
            "grid_auto_columns": null,
            "grid_auto_flow": null,
            "grid_auto_rows": null,
            "grid_column": null,
            "grid_gap": null,
            "grid_row": null,
            "grid_template_areas": null,
            "grid_template_columns": null,
            "grid_template_rows": null,
            "height": null,
            "justify_content": null,
            "justify_items": null,
            "left": null,
            "margin": null,
            "max_height": null,
            "max_width": null,
            "min_height": null,
            "min_width": null,
            "object_fit": null,
            "object_position": null,
            "order": null,
            "overflow": null,
            "overflow_x": null,
            "overflow_y": null,
            "padding": null,
            "right": null,
            "top": null,
            "visibility": null,
            "width": null
          }
        },
        "bb69948d0da348d1a9d66534f75a45c7": {
          "model_module": "@jupyter-widgets/base",
          "model_name": "LayoutModel",
          "model_module_version": "1.2.0",
          "state": {
            "_model_module": "@jupyter-widgets/base",
            "_model_module_version": "1.2.0",
            "_model_name": "LayoutModel",
            "_view_count": null,
            "_view_module": "@jupyter-widgets/base",
            "_view_module_version": "1.2.0",
            "_view_name": "LayoutView",
            "align_content": null,
            "align_items": null,
            "align_self": null,
            "border": null,
            "bottom": null,
            "display": null,
            "flex": null,
            "flex_flow": null,
            "grid_area": null,
            "grid_auto_columns": null,
            "grid_auto_flow": null,
            "grid_auto_rows": null,
            "grid_column": null,
            "grid_gap": null,
            "grid_row": null,
            "grid_template_areas": null,
            "grid_template_columns": null,
            "grid_template_rows": null,
            "height": null,
            "justify_content": null,
            "justify_items": null,
            "left": null,
            "margin": null,
            "max_height": null,
            "max_width": null,
            "min_height": null,
            "min_width": null,
            "object_fit": null,
            "object_position": null,
            "order": null,
            "overflow": null,
            "overflow_x": null,
            "overflow_y": null,
            "padding": null,
            "right": null,
            "top": null,
            "visibility": null,
            "width": null
          }
        },
        "0ce774817b6f43d899821638828b69e4": {
          "model_module": "@jupyter-widgets/controls",
          "model_name": "DescriptionStyleModel",
          "model_module_version": "1.5.0",
          "state": {
            "_model_module": "@jupyter-widgets/controls",
            "_model_module_version": "1.5.0",
            "_model_name": "DescriptionStyleModel",
            "_view_count": null,
            "_view_module": "@jupyter-widgets/base",
            "_view_module_version": "1.2.0",
            "_view_name": "StyleView",
            "description_width": ""
          }
        },
        "7f8f971d0ded45a5a3e9e73fd6b0010b": {
          "model_module": "@jupyter-widgets/base",
          "model_name": "LayoutModel",
          "model_module_version": "1.2.0",
          "state": {
            "_model_module": "@jupyter-widgets/base",
            "_model_module_version": "1.2.0",
            "_model_name": "LayoutModel",
            "_view_count": null,
            "_view_module": "@jupyter-widgets/base",
            "_view_module_version": "1.2.0",
            "_view_name": "LayoutView",
            "align_content": null,
            "align_items": null,
            "align_self": null,
            "border": null,
            "bottom": null,
            "display": null,
            "flex": null,
            "flex_flow": null,
            "grid_area": null,
            "grid_auto_columns": null,
            "grid_auto_flow": null,
            "grid_auto_rows": null,
            "grid_column": null,
            "grid_gap": null,
            "grid_row": null,
            "grid_template_areas": null,
            "grid_template_columns": null,
            "grid_template_rows": null,
            "height": null,
            "justify_content": null,
            "justify_items": null,
            "left": null,
            "margin": null,
            "max_height": null,
            "max_width": null,
            "min_height": null,
            "min_width": null,
            "object_fit": null,
            "object_position": null,
            "order": null,
            "overflow": null,
            "overflow_x": null,
            "overflow_y": null,
            "padding": null,
            "right": null,
            "top": null,
            "visibility": null,
            "width": null
          }
        },
        "0161c2eabc934c7398b5995da5ab5e5b": {
          "model_module": "@jupyter-widgets/controls",
          "model_name": "ProgressStyleModel",
          "model_module_version": "1.5.0",
          "state": {
            "_model_module": "@jupyter-widgets/controls",
            "_model_module_version": "1.5.0",
            "_model_name": "ProgressStyleModel",
            "_view_count": null,
            "_view_module": "@jupyter-widgets/base",
            "_view_module_version": "1.2.0",
            "_view_name": "StyleView",
            "bar_color": null,
            "description_width": ""
          }
        },
        "75c0070f6f02429eb14996b893b63d9e": {
          "model_module": "@jupyter-widgets/base",
          "model_name": "LayoutModel",
          "model_module_version": "1.2.0",
          "state": {
            "_model_module": "@jupyter-widgets/base",
            "_model_module_version": "1.2.0",
            "_model_name": "LayoutModel",
            "_view_count": null,
            "_view_module": "@jupyter-widgets/base",
            "_view_module_version": "1.2.0",
            "_view_name": "LayoutView",
            "align_content": null,
            "align_items": null,
            "align_self": null,
            "border": null,
            "bottom": null,
            "display": null,
            "flex": null,
            "flex_flow": null,
            "grid_area": null,
            "grid_auto_columns": null,
            "grid_auto_flow": null,
            "grid_auto_rows": null,
            "grid_column": null,
            "grid_gap": null,
            "grid_row": null,
            "grid_template_areas": null,
            "grid_template_columns": null,
            "grid_template_rows": null,
            "height": null,
            "justify_content": null,
            "justify_items": null,
            "left": null,
            "margin": null,
            "max_height": null,
            "max_width": null,
            "min_height": null,
            "min_width": null,
            "object_fit": null,
            "object_position": null,
            "order": null,
            "overflow": null,
            "overflow_x": null,
            "overflow_y": null,
            "padding": null,
            "right": null,
            "top": null,
            "visibility": null,
            "width": null
          }
        },
        "93d727c4a6d54d6895b145b78a34c310": {
          "model_module": "@jupyter-widgets/controls",
          "model_name": "DescriptionStyleModel",
          "model_module_version": "1.5.0",
          "state": {
            "_model_module": "@jupyter-widgets/controls",
            "_model_module_version": "1.5.0",
            "_model_name": "DescriptionStyleModel",
            "_view_count": null,
            "_view_module": "@jupyter-widgets/base",
            "_view_module_version": "1.2.0",
            "_view_name": "StyleView",
            "description_width": ""
          }
        }
      }
    },
    "accelerator": "GPU"
  },
  "nbformat": 4,
  "nbformat_minor": 0
}